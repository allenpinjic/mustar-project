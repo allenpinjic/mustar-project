{
 "cells": [
  {
   "cell_type": "markdown",
   "id": "b1ba72a5-0920-4a0b-bfed-abec27784405",
   "metadata": {},
   "source": [
    "# Implementation of the SPT Model - Version 2"
   ]
  },
  {
   "cell_type": "markdown",
   "id": "8751efd9-a0cf-48f4-bb14-6ed4cc93c40d",
   "metadata": {},
   "source": [
    "Modifications: Johnny Esteves\\ Author: Allen Pinjic - Created on June 9th, 2022"
   ]
  },
  {
   "cell_type": "code",
   "execution_count": 1,
   "id": "7b67b118-6baf-42e4-85cd-3f402b550992",
   "metadata": {
    "tags": []
   },
   "outputs": [],
   "source": [
    "from astropy.io.fits import getdata\n",
    "from astropy.table import Table\n",
    "from astropy.cosmology import WMAP9 as cosmo"
   ]
  },
  {
   "cell_type": "code",
   "execution_count": 2,
   "id": "e789e852-91de-4be5-ba85-81769d90a1dc",
   "metadata": {},
   "outputs": [
    {
     "name": "stderr",
     "output_type": "stream",
     "text": [
      "WARNING (theano.tensor.blas): Using NumPy C-API based implementation for BLAS functions.\n"
     ]
    }
   ],
   "source": [
    "import numpy as np\n",
    "import pandas as pd\n",
    "import arviz as az\n",
    "import matplotlib.pyplot as plt\n",
    "import pylab as plt\n",
    "import pymc3 as pm\n",
    "import aesara\n",
    "import matplotlib.font_manager\n",
    "import scipy.stats\n",
    "import scipy.optimize\n",
    "import math"
   ]
  },
  {
   "cell_type": "code",
   "execution_count": 3,
   "id": "c6095267-781d-42ac-9e3a-affe663606df",
   "metadata": {},
   "outputs": [],
   "source": [
    "%matplotlib inline"
   ]
  },
  {
   "cell_type": "code",
   "execution_count": 4,
   "id": "9aadb57e-9435-4cb1-ba63-e6a2ea6967c8",
   "metadata": {},
   "outputs": [
    {
     "data": {
      "text/html": [
       "<div><i>Table length=2</i>\n",
       "<table id=\"table139847161053728\" class=\"table-striped table-bordered table-condensed\">\n",
       "<thead><tr><th>SPT_ID</th><th>RA</th><th>DEC</th><th>FIELD</th><th>XI</th><th>THETA_CORE</th><th>REDSHIFT</th><th>REDSHIFT_UNC</th><th>SPECZ</th><th>REDSHIFT_SOURCE</th><th>RM_PROB</th><th>CL_NOTES</th><th>M500</th><th>M500_UERR</th><th>M500_LERR</th><th>LAMBDA_CHISQ</th><th>LAMBDA_CHISQ_E</th><th>RADIO_CONTAM</th><th>STRONG_LENS</th><th>IMAGE_SOURCE</th><th>SPECZ_REF</th><th>STRONG_LENS_REF</th><th>PHOTOMETRIC_ZREF</th></tr></thead>\n",
       "<thead><tr><th>str16</th><th>float64</th><th>float64</th><th>str11</th><th>float32</th><th>float32</th><th>float32</th><th>float32</th><th>int16</th><th>float32</th><th>float32</th><th>str50</th><th>float32</th><th>float32</th><th>float32</th><th>float32</th><th>float32</th><th>float32</th><th>float32</th><th>float32</th><th>str38</th><th>str19</th><th>str29</th></tr></thead>\n",
       "<tr><td>SPT-CLJ0000-2518</td><td>0.072338357</td><td>-25.303935</td><td>ra1hdec-25</td><td>5.073545</td><td>1.5</td><td>0.0</td><td>0.0</td><td>0</td><td>0.0</td><td>0.0</td><td>-</td><td>0.0</td><td>0.0</td><td>0.0</td><td>0.0</td><td>0.0</td><td>0.0</td><td>0.0</td><td>1.0</td><td></td><td></td><td></td></tr>\n",
       "<tr><td>SPT-CLJ0005-3751</td><td>1.4383179</td><td>-37.854369</td><td>ra1hdec-35</td><td>6.336327</td><td>0.75</td><td>0.48295808</td><td>0.0072415886</td><td>0</td><td>4.0</td><td>0.00061007956</td><td>-</td><td>5.419</td><td>0.887</td><td>0.887</td><td>86.40839</td><td>4.7352147</td><td>0.0</td><td>1.0</td><td>3.0</td><td></td><td></td><td></td></tr>\n",
       "</table></div>"
      ],
      "text/plain": [
       "<Table length=2>\n",
       "     SPT_ID           RA     ...        PHOTOMETRIC_ZREF      \n",
       "     str16         float64   ...             str29            \n",
       "---------------- ----------- ... -----------------------------\n",
       "SPT-CLJ0000-2518 0.072338357 ...                              \n",
       "SPT-CLJ0005-3751   1.4383179 ...                              "
      ]
     },
     "execution_count": 4,
     "metadata": {},
     "output_type": "execute_result"
    }
   ],
   "source": [
    "fname = '../data_set/sptecs_catalog_oct919.fits'\n",
    "\n",
    "data = Table(getdata(fname))\n",
    "data[:2]"
   ]
  },
  {
   "cell_type": "code",
   "execution_count": 5,
   "id": "95c3a6b7-9e9b-4c7d-8b99-8688213e4c2f",
   "metadata": {},
   "outputs": [],
   "source": [
    "sz_signal = np.array(data['XI'])\n",
    "lambda_chisq = np.array(data['LAMBDA_CHISQ'])\n",
    "lambda_chisqE = np.array(data['LAMBDA_CHISQ_E'])\n",
    "redshift = np.array(data['REDSHIFT'])"
   ]
  },
  {
   "cell_type": "code",
   "execution_count": 6,
   "id": "977ce73c-9676-4ae2-858e-f6349c44adfd",
   "metadata": {},
   "outputs": [
    {
     "data": {
      "text/plain": [
       "(array([17., 64., 75., 45., 27., 19., 16., 13.,  7.,  7.]),\n",
       " array([14.481873, 14.530734, 14.579596, 14.628457, 14.677319, 14.726179,\n",
       "        14.775041, 14.823902, 14.872764, 14.921625, 14.970487],\n",
       "       dtype=float32),\n",
       " <BarContainer object of 10 artists>)"
      ]
     },
     "execution_count": 6,
     "metadata": {},
     "output_type": "execute_result"
    },
    {
     "data": {
      "image/png": "[encoded data removed]",
      "text/plain": [
       "<Figure size 432x288 with 1 Axes>"
      ]
     },
     "metadata": {
      "needs_background": "light"
     },
     "output_type": "display_data"
    }
   ],
   "source": [
    "# Also called lambda hat (as shown in the paper)\n",
    "## Shows the measured cluster richness whose values are over 20\n",
    "\n",
    "plt.hist(np.log10(data['M500'][lambda_chisq>20]*1e14))\n",
    "# Why not display values that are over 40\n",
    "# \"Cross matching studies, we restrict ourselves to the joint DESY1 x SPT-SZ footprint and to 𝜆 >ˆ 40\"\n",
    "# \"We match the 𝜆 > ˆ 40 redMaPPer sample with the SPT-SZ sample selected above SZE signal to noise 𝜉 > 4\""
   ]
  },
  {
   "cell_type": "markdown",
   "id": "96f1f5ea-e884-46f4-b1f1-9ae5686c9a8b",
   "metadata": {},
   "source": [
    "Define the Model"
   ]
  },
  {
   "cell_type": "code",
   "execution_count": 7,
   "id": "6e20de24-750b-47af-8e34-5bbe15072bcf",
   "metadata": {},
   "outputs": [],
   "source": [
    "from colossus.cosmology import cosmology\n",
    "from colossus.lss import mass_function\n",
    "cosmology.setCosmology('WMAP9')\n",
    "\n",
    "def _halo_mass_function(M, z):\n",
    "    return mass_function.massFunction(M, z, mdef = '500c', model = 'bocquet16')\n",
    "halo_mass_function = np.vectorize(_halo_mass_function)\n",
    "\n",
    "def E(z):\n",
    "    # The Hubble constant at the value of z\n",
    "    Hz = cosmo.H(z).value\n",
    "    # The Hubble constant at z=0\n",
    "    H0 = cosmo.H(0).value\n",
    "    return (Hz/H0)"
   ]
  },
  {
   "cell_type": "code",
   "execution_count": 8,
   "id": "b721fba0-c698-49b7-aefd-4be1f4fa333c",
   "metadata": {},
   "outputs": [],
   "source": [
    "# LogNormal models\n",
    "# see https://en.wikipedia.org/wiki/Log-normal_distribution\n",
    "M0 = 3e14\n",
    "Ez0 = E(0)\n",
    "\n",
    "#Insert the priors on the SZE scaling relation parameters that identify with SZE,\n",
    "# along with a value for the mass (M) and redshift (z)\n",
    "## References Equation 2\n",
    "def ln_zeta_given_M(theta_sze,M,z):\n",
    "    A_sze, B_sze, C_sze, scatter_sze = theta_sze\n",
    "    return np.log(A_sze) + (B_sze)*np.log(M/M0) + (C_sze)*(np.log(E(z)/Ez0))\n",
    "\n",
    "#Insert the priors on the SZE scaling relation parameters that identify with LAMBDA, \n",
    "# along with a value for the mass (M) and redshift (z)\n",
    "# Identified with the \n",
    "## References Equation 3\n",
    "def ln_lbd_given_M(theta_lambda,M,z):\n",
    "    A_lambda, B_lambda, C_lambda, scatter_lambda = theta_lambda\n",
    "    return np.log(A_lambda) + (B_lambda)*np.log(M/M0) + (C_lambda)*(np.log(E(z)/Ez0))\n",
    "\n",
    "#Insert the value of the mean and standard deviation as the two parameters\n",
    "# to find the log of the variance in a normal distribution\n",
    "def logNormal_variance(mu,std):\n",
    "    return (np.exp(std**2)-1)*np.exp(2*mu+std**2)\n",
    "# the linear relation lnLbd and lnZeta are logNormal\n",
    "# the scatter of a logNormal is different from a normal distribution"
   ]
  },
  {
   "cell_type": "code",
   "execution_count": 9,
   "id": "2798c471-1cca-4724-9027-b63e8f25c6f4",
   "metadata": {},
   "outputs": [
    {
     "name": "stdout",
     "output_type": "stream",
     "text": [
      "Vector size\n",
      "75\n",
      "150\n",
      "75\n"
     ]
    }
   ],
   "source": [
    "# set up integration vectors\n",
    "mvec = np.logspace(13.8, 15.5, 75)\n",
    "lbdvec = np.linspace(3,1.2*np.max(lambda_chisq),150)\n",
    "zetavec = np.linspace(1,1.1*np.max(sz_signal),75)\n",
    "# lbdvec = np.exp(np.arange(np.log(5),np.log(1.2*np.max(lambda_chisq)),0.032))\n",
    "# zetavec = np.exp(np.arange(np.log(1),np.log(1.1*np.max(sz_signal)),0.045))\n",
    "\n",
    "print('Vector size')\n",
    "print(mvec.size)\n",
    "print(lbdvec.size)\n",
    "print(zetavec.size)"
   ]
  },
  {
   "cell_type": "code",
   "execution_count": 10,
   "id": "c0b33b87-ecc2-4c91-9087-4c3eb4321f5e",
   "metadata": {},
   "outputs": [],
   "source": [
    "zvec = np.linspace(np.min(redshift), np.max(redshift), 100)\n",
    "zzv, mm = np.meshgrid(zvec, mvec)\n",
    "from scipy import interpolate\n",
    "halo_mass_function2 = interpolate.interp1d(zvec, halo_mass_function(mm, zzv), kind='cubic')"
   ]
  },
  {
   "cell_type": "code",
   "execution_count": 11,
   "id": "f371d021-0d39-4fe5-9b8b-07bdac5d9b09",
   "metadata": {},
   "outputs": [],
   "source": [
    "# taking only points with a significant p_chisi/lbd_hat\n",
    "\n",
    "def slice_array(y,alpha=1e-2):\n",
    "    cy = np.cumsum(y/np.sum(y),axis=0)\n",
    "    ilo,iup = np.interp([alpha,1-alpha],cy,np.arange(len(y))).astype(int)+(0,2)\n",
    "    return ilo, iup"
   ]
  },
  {
   "cell_type": "code",
   "execution_count": 12,
   "id": "fefbb181-3949-4b87-be0f-67293c543a46",
   "metadata": {},
   "outputs": [],
   "source": [
    "def prob_chisi(zeta, chisi, eps=1e-12):\n",
    "    res = np.exp(-(chisi-np.sqrt(zeta**2+2))**2/2.)/np.sqrt(2*np.pi)\n",
    "    return res#np.where(res<eps,0.,res)\n",
    "\n",
    "def gaussian(x,mu,std):\n",
    "    return np.exp(-(x-mu)**2/std**2/2.)/np.sqrt(2*np.pi*std**2)\n",
    "\n",
    "def prob_lbd_hat(lbd, lbd_hat, lbd_error, eps=1e-12):\n",
    "    res = gaussian(lbd, lbd_hat, lbd_error)\n",
    "    return res#np.where(res<eps,0.,res)"
   ]
  },
  {
   "cell_type": "code",
   "execution_count": 13,
   "id": "7748783c-9f7e-4f1d-b79b-e737e06e19f8",
   "metadata": {},
   "outputs": [],
   "source": [
    "from scipy.integrate import simps\n",
    "\n",
    "# given: mvec, lbdvec and zetavec\n",
    "\n",
    "mm, zz, ll = np.meshgrid(mvec, zetavec, lbdvec, indexing='ij')\n",
    "\n",
    "def log_likelihood_vec2(theta, z, y, yerr, eps=1e-9):\n",
    "    # defining variables\n",
    "    lbd_hat, chisi = y[0], y[1]\n",
    "    lbd_err = yerr\n",
    "    probs = []\n",
    "    for lbd_hat_i, lbd_err_i, chisi_i, z_i in zip(lbd_hat, lbd_err, chisi, z):\n",
    "        probs.append(_log_likelihood2(theta, lbd_hat_i, lbd_err_i, chisi_i, z_i))    \n",
    "    p = np.array(probs)/np.sum(probs)\n",
    "    log_p = np.where(np.isnan(log_p), -np.inf, log_p)\n",
    "    return np.sum(log_p)"
   ]
  },
  {
   "cell_type": "code",
   "execution_count": 14,
   "id": "071f4e72-e5b4-494a-a524-ebab97451eee",
   "metadata": {},
   "outputs": [],
   "source": [
    "def _log_likelihood2(theta, lbd_hat_i, lbd_err_i, chisi_i, z_i):\n",
    "    # unfolding theta\n",
    "    A_lambda, B_lambda, C_lambda, scatter_lambda = theta[4:8]\n",
    "    A_sze, B_sze, C_sze, scatter_sze = theta[:4]\n",
    "    rho = theta[-1]\n",
    "    \n",
    "    # calling predictions;\n",
    "    ln_lbd_pred = ln_lbd_given_M([A_lambda, B_lambda, C_lambda, scatter_lambda], mvec, z_i)\n",
    "    ln_zeta_pred= ln_zeta_given_M([A_sze, B_sze, C_sze, scatter_sze], mvec, z_i)\n",
    "    halo_mass_func = halo_mass_function2(z_i)\n",
    "    \n",
    "    # error probabilities\n",
    "    p_chisi = prob_chisi(zetavec, chisi_i)\n",
    "    p_lbd_hat = prob_lbd_hat(lbdvec, lbd_hat_i, lbd_err_i)\n",
    "    \n",
    "    # take only significant p_lbd_hat values\n",
    "    llo, lup = slice_array(p_lbd_hat,alpha=1e-4)\n",
    "    clo, cup = slice_array(p_chisi,alpha=1e-4)\n",
    "    \n",
    "    hmf = np.tile(halo_mass_func, (int(lup-llo), int(cup-clo), 1)).T\n",
    "    ln_lbd_pred = np.tile(ln_lbd_pred, (int(lup-llo), int(cup-clo), 1)).T\n",
    "    ln_zeta_pred = np.tile(ln_zeta_pred, (int(lup-llo), int(cup-clo), 1)).T\n",
    "    \n",
    "    # compute dn_dlbd_dzeta_integrand\n",
    "    p_total_m = compute_dn_dlbd_dzeta_vec2(lbd_hat_i, lbd_err_i, chisi_i,\n",
    "                                           scatter_lambda, scatter_sze, rho,\n",
    "                                           ll[:,clo:cup,llo:lup],zz[:,clo:cup,llo:lup],\n",
    "                                           ln_lbd_pred, ln_zeta_pred, hmf)\n",
    "    # integrate over M\n",
    "    p_lbd_zeta = np.trapz(p_total_m, x=mvec, axis=0)\n",
    "\n",
    "    # integrate over zeta\n",
    "    p_chisi = np.tile(p_chisi[clo:cup], (int(lup-llo), 1)).T\n",
    "    p_lbd = np.trapz(p_lbd_zeta*p_chisi, x=zetavec[clo:cup], axis=0)\n",
    "\n",
    "    # integrate over lambda\n",
    "    p = np.trapz(p_lbd*p_lbd_hat[llo:lup], x=lbdvec[llo:lup], axis=0)\n",
    "    return p#np.log(p)"
   ]
  },
  {
   "cell_type": "code",
   "execution_count": 15,
   "id": "39db8658-093f-475f-8689-359528c6eabb",
   "metadata": {},
   "outputs": [],
   "source": [
    "def compute_dn_dlbd_dzeta_vec2(lbd_hat_i, lbd_err_i, chisi_i, scatter_lambda, scatter_sze, rho,\n",
    "                               lvec, zvec, ln_lbd_pred, ln_zeta_pred, hmf):\n",
    "    # converting std to normal distribution\n",
    "    s_zeta = logNormal_variance(ln_zeta_pred, scatter_sze)\n",
    "    s_lambda = logNormal_variance(ln_lbd_pred, scatter_lambda)\n",
    "    \n",
    "    # avoid error messages\n",
    "    rho_inv = (1-rho**2)\n",
    "    rho_inv = np.where(rho_inv<=eps, -np.inf, 1/rho_inv)\n",
    "\n",
    "    # defining standardized variables\n",
    "    lbd_std = (lvec - np.exp(ln_lbd_pred))/s_lambda\n",
    "    zeta_std = (zvec - np.exp(ln_zeta_pred))/s_zeta\n",
    "\n",
    "    # lbd_likelihood\n",
    "    lp_lbd  = -rho_inv*lbd_std**2/2\n",
    "\n",
    "    # zeta likelihood\n",
    "    lp_zeta = -rho_inv*zeta_std**2/2\n",
    "\n",
    "    # corr likelihod\n",
    "    lp_corr = rho*rho_inv*lbd_std*zeta_std\n",
    "\n",
    "    lp_total_m = lp_lbd+lp_zeta+lp_corr\n",
    "    p_total_m = np.exp(lp_total_m)*hmf\n",
    "    return p_total_m\n"
   ]
  },
  {
   "cell_type": "code",
   "execution_count": 16,
   "id": "0121f172-a87f-4d02-aa7c-ae409a55e92e",
   "metadata": {},
   "outputs": [],
   "source": [
    "# Implementing the log_likelihood_vec2 in the emcee code\n",
    "# via writing to the prior functions.\n",
    "\n",
    "# In reference to rho's (ρ) defintion it states:\n",
    "# Parameters of the richness–mass relation defined\n",
    "# in Eq. 11 (Bleem et al. 2019) \n",
    "## and the correlation coefficient, ρSZ−λ, between the SZ signal (ζ) and richness.\n",
    "\n",
    "# ρ also defined as the correlation coefficient  \n",
    "# that encodes the degree of correlation between the intrinsic scatters on the respective observables"
   ]
  },
  {
   "cell_type": "code",
   "execution_count": 17,
   "id": "f6538934-dfa5-4f8a-b4e5-04d147449a10",
   "metadata": {},
   "outputs": [],
   "source": [
    "Np = 100\n",
    "ix = np.where(lambda_chisq>30)[0][:Np] # take 100 points\n",
    "\n",
    "z = redshift[ix]\n",
    "chisi = sz_signal[ix]\n",
    "lbd_hat = lambda_chisq[ix]\n",
    "lbd_err = lambda_chisqE[ix]"
   ]
  },
  {
   "cell_type": "code",
   "execution_count": 18,
   "id": "dd0290b9-d273-45a8-8ee7-c98d7a28055c",
   "metadata": {},
   "outputs": [
    {
     "name": "stdout",
     "output_type": "stream",
     "text": [
      "203.78017\n",
      "10.641013\n"
     ]
    }
   ],
   "source": [
    "# for a given cluster, i.e. a vector (lbd_hat_i, chisi_i, z_i)\n",
    "\n",
    "# ix = np.arange(len(lambda_chisq))[lambda_chisq>0][np.argmin(sz_signal[lambda_chisq>0])]\n",
    "ix = np.arange(len(lambda_chisq))[lambda_chisq>0][np.argmax(lambda_chisq[lambda_chisq>0])]\n",
    "\n",
    "lbd_hat_i = lambda_chisq[ix]\n",
    "lbd_err_i = lambda_chisqE[ix]\n",
    "chisi_i = sz_signal[ix]\n",
    "z_i = redshift[ix]\n",
    "print(lbd_hat_i)\n",
    "print(chisi_i)"
   ]
  },
  {
   "cell_type": "code",
   "execution_count": 19,
   "id": "9c8ba249-741b-4175-b800-3c9d4a8fb2f7",
   "metadata": {},
   "outputs": [],
   "source": [
    "# test function \n",
    "# debuging here\n",
    "eps  =1e-9\n",
    "lbd  = lbd_hat[0]\n",
    "zeta = chisi[0]\n",
    "\n",
    "theta = [5.24, 1.534, 0.465, 0.161, 76.9, 1.02, 0.29, 0.16, 0.8]"
   ]
  },
  {
   "cell_type": "code",
   "execution_count": 20,
   "id": "6ae8ecf9-d84f-44ed-88c9-8d0a4750c3cf",
   "metadata": {},
   "outputs": [],
   "source": [
    "from __future__ import print_function, division\n",
    "\n",
    "import os\n",
    "import sys\n",
    "import numpy as np\n",
    "import emcee\n",
    "\n",
    "SZ_Priors = {'A_sze':[5.24, 0.85], 'B_sze':[1.534, 0.100],'C_sze':[0.465, 0.407],\n",
    "             'scatter_sze':[0.161, 0.080]}\n",
    "\n",
    "sz_theta_values = ['A_sze', 'B_sze', 'C_sze', 'scatter_sze']\n",
    "\n",
    "Lambda_Priors = {'A_lambda':[76.9, 8.2], 'B_lambda':[1.020, 0.080],'C_lambda':[0.23, 0.16],\n",
    "             'scatter_lambda':[0.23, 0.16]}\n",
    "\n",
    "lambda_theta_values = ['A_lambda', 'B_lambda', 'C_lambda', 'scatter_lambda']\n",
    "\n",
    "rho = theta[-1]\n",
    "scatter_sze = theta[3]\n",
    "scatter_lambda = theta[7]\n",
    "\n",
    "\n",
    "def set_gaussian_prior(param, mu, sigma):\n",
    "    return -0.5*((param - mu)/sigma)**2\n",
    "\n",
    "# Setting SZE priors\n",
    "def set_prior_sze(theta_values):\n",
    "    lp = 0.\n",
    "    rhomin = 0.\n",
    "    rhomax = 1.\n",
    "    \n",
    "    for i, prior_name in enumerate(['A_sze', 'B_sze', 'C_sze', 'scatter_sze']):\n",
    "        mean, error = SZ_Priors[prior_name]\n",
    "        param = theta_values[i]\n",
    "        lp += set_gaussian_prior(param, mean, error)\n",
    "    \n",
    "    # set prior to 1 (log prior to 0) if in the range and zero (-inf) outside the range \n",
    "    lp = 0. if (scatter_sze > 0) else -np.inf\n",
    "    return lp\n",
    "\n",
    "# Setting Lambda priors\n",
    "def set_prior_lambda(theta_values):\n",
    "    lp = 0.\n",
    "    rhomin = 0.\n",
    "    rhomax = 1.\n",
    "    \n",
    "    for i, prior_name in enumerate(['A_lambda', 'B_lambda', 'C_lambda', 'scatter_lambda']):\n",
    "        mean, error = Lambda_Priors[prior_name]\n",
    "        param = theta_values[i]\n",
    "        lp += set_gaussian_prior(param, mean, error)\n",
    "       \n",
    "    # set prior to 1 (log prior to 0) if in the range and zero (-inf) outside the range \n",
    "    lp = 0. if (scatter_lambda > 0) else -np.inf\n",
    "    return lp\n",
    "\n",
    "def logprior(theta):\n",
    "    lp = 0\n",
    "    A_lambda, B_lambda, C_lambda, scatter_lambda = theta[4:8]\n",
    "    A_sze, B_sze, C_sze, scatter_sze = theta[:4]\n",
    "    rho = theta[-1]\n",
    "    \n",
    "    lp_lambda = set_prior_lambda([A_lambda, B_lambda, C_lambda, scatter_lambda])\n",
    "    lp_sze = set_prior_sze([A_sze, B_sze, C_sze, scatter_sze])\n",
    "    \n",
    "    lp = 0. if ((rho > 0) and (rho < 1)) else -np.inf\n",
    "    return lp + lp_lambda + lp_sze"
   ]
  },
  {
   "cell_type": "code",
   "execution_count": 21,
   "id": "a1cb323a-cee1-4f0b-8a94-d3b779b7ac4c",
   "metadata": {},
   "outputs": [
    {
     "data": {
      "text/plain": [
       "0.0"
      ]
     },
     "execution_count": 21,
     "metadata": {},
     "output_type": "execute_result"
    }
   ],
   "source": [
    "set_prior_sze([5.24, 1.534, 0.465, 0.161])"
   ]
  },
  {
   "cell_type": "code",
   "execution_count": 22,
   "id": "92db76f1-255a-4904-ae34-102363af1abd",
   "metadata": {},
   "outputs": [],
   "source": [
    "y = np.vstack([lbd_hat,chisi])\n",
    "yerr = lbd_err\n",
    "x = redshift\n",
    "\n",
    "def logposterior(theta, x, y, yerr):\n",
    "    lp = logprior(theta)\n",
    "    \n",
    "    # if the prior is not finite return a probability of zero (log probability of -inf)\n",
    "    if not np.isfinite(lp):\n",
    "        return -np.inf\n",
    "    \n",
    "    # return the likeihood times the prior (log likelihood plus the log prior)\n",
    "    return lp + log_likelihood_vec2(theta, x, y, yerr, eps=1e-9)"
   ]
  },
  {
   "cell_type": "code",
   "execution_count": 23,
   "id": "08a23ecd-6736-481a-871b-dc8bd7d18991",
   "metadata": {},
   "outputs": [],
   "source": [
    "Nburnin = 200 # number of burn-in samples\n",
    "Nsamples = 400 # number of final posterior samples\n",
    "walkers = 20\n",
    "ndims = len(theta)\n",
    "guess = (np.array(theta)[:, np.newaxis]*(1.+0.01*np.random.normal(size=(ndims,walkers)))).T\n",
    "\n",
    "# set additional args for the posterior (the data, the noise std. dev., and the abscissa)\n",
    "argslist = (x, y, yerr)"
   ]
  },
  {
   "cell_type": "code",
   "execution_count": 24,
   "id": "22187126-fcec-4bf3-9295-4b4e5471eac7",
   "metadata": {},
   "outputs": [
    {
     "name": "stdout",
     "output_type": "stream",
     "text": [
      "emcee: Exception while calling your likelihood function:\n",
      "  params: [ 5.26251669  1.52757733  0.47100166  0.15931978 77.11806279  1.02267806\n",
      "  0.28386162  0.1591688   0.8101601 ]\n",
      "  args: (array([0.        , 0.48295808, 0.114     , 0.6881156 , 0.67583644,\n",
      "       0.307     , 0.317     , 0.141     , 0.7477372 , 0.352     ,\n",
      "       0.1086    , 0.21966   , 0.2924    , 0.59376687, 0.52734804,\n",
      "       0.        , 0.        , 0.        , 0.25757086, 0.22929814,\n",
      "       0.        , 0.43099722, 0.2275    , 0.40016618, 0.39155936,\n",
      "       0.413     , 0.93925875, 0.413     , 0.4010333 , 0.7198951 ,\n",
      "       0.9921393 , 0.        , 0.48415172, 0.4400637 , 0.        ,\n",
      "       0.87967396, 0.6348632 , 0.80812174, 0.790878  , 0.99613   ,\n",
      "       0.3543809 , 0.2747654 , 0.60688525, 0.        , 0.49102753,\n",
      "       0.9395654 , 0.50038975, 0.5108067 , 0.4457033 , 0.6509173 ,\n",
      "       1.026627  , 0.238465  , 0.33805928, 1.37      , 0.710252  ,\n",
      "       0.31729633, 0.6604971 , 0.7118231 , 0.44401142, 0.974191  ,\n",
      "       0.9330069 , 0.61027306, 0.50489   , 0.322     , 0.63230246,\n",
      "       0.35358623, 0.7206524 , 0.48681116, 0.52510035, 0.2935387 ,\n",
      "       0.752     , 0.2192    , 0.        , 0.52990943, 0.2534    ,\n",
      "       0.74709105, 0.5353661 , 0.755278  , 0.62814397, 0.58795786,\n",
      "       0.45772225, 0.41198844, 0.355     , 0.29517573, 0.5771881 ,\n",
      "       1.227     , 0.93311286, 0.        , 0.9450201 , 0.85203665,\n",
      "       0.188     , 0.8143442 , 1.0485351 , 0.8371636 , 0.39638618,\n",
      "       0.79625076, 0.8460461 , 0.9241729 , 0.8035642 , 0.5766013 ,\n",
      "       0.45131806, 0.3908142 , 0.34728926, 0.8529334 , 0.27817172,\n",
      "       0.80831814, 0.22894302, 0.251     , 0.32      , 0.9062628 ,\n",
      "       0.473     , 0.32440665, 0.3563374 , 0.6258816 , 0.425     ,\n",
      "       0.78322905, 0.94803554, 0.2698077 , 0.57155275, 0.21644928,\n",
      "       0.63619024, 0.396     , 0.7610538 , 0.32123455, 0.22471637,\n",
      "       0.45980987, 0.        , 0.        , 0.5999951 , 0.5094335 ,\n",
      "       0.72242576, 0.69192964, 0.6130936 , 0.        , 0.7747269 ,\n",
      "       0.6045084 , 0.59040046, 0.14504418, 0.7452397 , 0.5182279 ,\n",
      "       0.32592034, 0.3022968 , 0.        , 0.42898256, 0.3175    ,\n",
      "       0.1987    , 0.157     , 0.2839    , 0.17188117, 0.        ,\n",
      "       0.2747    , 0.47862744, 0.5275384 , 0.40787593, 1.192922  ,\n",
      "       0.84267944, 0.51759106, 0.41651773, 0.1483    , 0.099     ,\n",
      "       0.4117692 , 0.        , 0.46      , 0.20721544, 0.5675864 ,\n",
      "       0.2533    , 0.8276226 , 0.71922755, 0.1416    , 0.5130459 ,\n",
      "       0.5230576 , 0.3072    , 0.5752    , 0.39      , 0.45597416,\n",
      "       0.33805928, 0.        , 0.69600844, 0.66959524, 0.1989    ,\n",
      "       0.25754   , 0.        , 0.7116169 , 0.47499806, 0.26760492,\n",
      "       0.4136334 , 0.46598577, 0.71922755, 0.        , 0.7806981 ,\n",
      "       1.0367321 , 0.31792948, 0.43235385, 1.2668048 , 0.48951584,\n",
      "       0.35652053, 0.52806336, 1.05      , 0.6680411 , 0.33805928,\n",
      "       0.5276524 , 0.7751963 , 0.2474    , 0.6075336 , 1.3945621 ,\n",
      "       0.29779965, 0.1921    , 0.1259    , 0.5085398 , 0.        ,\n",
      "       0.81262875, 0.65479696, 0.96557873, 0.33805928, 1.31      ,\n",
      "       0.44258013, 1.16      , 0.685     , 0.1492    , 0.1379    ,\n",
      "       0.1544    , 0.58313483, 0.40343857, 0.56675816, 0.152912  ,\n",
      "       0.2511    , 0.        , 0.44696182, 0.44258013, 0.6880156 ,\n",
      "       0.5040336 , 1.2351408 , 1.005059  , 0.23741017, 0.15715055,\n",
      "       0.2241    , 0.62311965, 0.5464367 , 0.31665   , 0.53135765,\n",
      "       0.42805368, 0.70381266, 0.8082072 , 0.5368084 , 0.1805    ,\n",
      "       0.81762666, 1.0525187 , 0.98411006, 0.58763474, 0.6669295 ,\n",
      "       0.35974517, 0.        , 0.7340466 , 0.5085398 , 0.69600844,\n",
      "       0.66382134, 0.6275606 , 0.72663707, 0.6075336 , 0.77      ,\n",
      "       1.055711  , 0.6669295 , 0.463     , 0.23      , 0.61197454,\n",
      "       0.0504    , 0.30486995, 0.22537047, 0.7290427 , 0.08913241,\n",
      "       0.2773    , 0.23279698, 0.6635881 , 0.21538283, 0.83284616,\n",
      "       0.23335579, 0.35620096, 0.4143958 , 0.7051742 , 0.40366247,\n",
      "       0.1680395 , 0.9619647 , 0.52599907, 0.50775546, 0.16763052,\n",
      "       0.56028104, 0.50514704, 0.92295516, 0.41054264, 0.821797  ,\n",
      "       0.56755793, 0.4971272 , 0.86674196, 0.88023806, 0.37636688,\n",
      "       0.338     , 0.067     , 0.2781    , 0.38218635, 0.5333351 ,\n",
      "       0.39788282, 0.20376381, 0.5738526 , 0.929943  , 0.6924259 ,\n",
      "       0.38872954, 0.2795518 , 0.11599733, 0.6649433 , 0.27795964,\n",
      "       0.45665875, 0.31370077, 0.70274353, 0.5746616 , 0.9040459 ,\n",
      "       0.3229173 , 0.2378    , 0.2483649 , 0.9022127 , 0.25265807,\n",
      "       0.7105603 , 0.4390177 , 0.54048514, 0.5934542 , 0.28081933,\n",
      "       0.45667243, 0.28885645, 0.9920229 , 0.6517773 , 0.2138    ,\n",
      "       0.2825545 , 0.3048388 , 0.82587236, 0.92555696, 0.50516766,\n",
      "       0.9619827 , 0.71123886, 0.6531035 , 0.46082675, 0.4993975 ,\n",
      "       0.9584858 , 0.13806017, 0.68714   , 0.12010431, 0.35278305,\n",
      "       0.7371654 , 0.5314759 , 0.7452744 , 0.70173067, 0.7304881 ,\n",
      "       0.49074215, 0.3222574 , 0.26783025, 0.37183857, 1.01      ,\n",
      "       0.90449846, 0.6824106 , 0.40852323, 0.23561057, 0.71047604,\n",
      "       0.9245595 , 0.40630788, 0.36141092, 0.54272795, 0.8613709 ,\n",
      "       1.026627  , 0.41766894, 0.47452927, 1.24      , 0.25581303,\n",
      "       0.3258057 , 0.35048416, 0.4624879 , 0.68795574, 0.38032293,\n",
      "       0.76784766, 0.11303756, 0.7892861 , 0.6142404 , 0.2938566 ,\n",
      "       0.3492992 , 0.4353831 , 0.61115885, 0.38867387, 0.54078156,\n",
      "       0.4044683 , 0.40879697, 0.9801157 , 0.9330559 , 0.33874187,\n",
      "       0.8769653 , 1.01      , 0.09510221, 0.51365983, 0.22209613,\n",
      "       0.5854557 , 0.42370534, 0.7487568 , 0.29927054, 0.38918722,\n",
      "       0.52512246, 1.2140313 , 0.39610434, 0.74109536, 0.5584443 ,\n",
      "       0.7237746 , 0.63482296, 0.65202796, 0.38401142, 0.99203867,\n",
      "       0.16824366, 1.026627  , 0.39577976, 0.27637103, 0.5980858 ,\n",
      "       0.7420834 , 0.4348078 , 0.9704054 , 0.74559265, 0.26611823,\n",
      "       0.35576764, 0.6093142 , 0.97725654, 0.49334177, 0.7595712 ,\n",
      "       0.5839296 , 0.44044513, 0.42889905, 0.3625003 , 0.2184706 ,\n",
      "       0.62443227, 0.5984616 , 0.27492687, 0.38212243, 0.41175628,\n",
      "       0.30786455, 0.4136334 , 0.46623656, 0.32946897, 0.4626387 ,\n",
      "       0.6370192 , 0.29779965, 0.141291  , 0.202737  , 0.6496077 ,\n",
      "       0.045288  , 0.29286325, 0.42527145, 0.6490481 , 0.65058255,\n",
      "       0.35069674, 0.6275606 , 0.5513712 , 0.21002346, 0.42527145,\n",
      "       0.2133    , 0.74912095, 0.9712734 , 0.17818297, 0.32278687,\n",
      "       0.43772718, 0.217851  , 0.8       , 0.6798459 , 0.48042566,\n",
      "       0.108735  , 0.8271164 , 0.149     , 0.42366922, 0.47950423],\n",
      "      dtype=float32), array([[ 86.40839  , 105.385574 ,  73.47217  , 100.99214  , 101.15995  ,\n",
      "         77.46897  ,  70.52796  ,  74.723076 , 202.33093  ,  97.742836 ,\n",
      "        111.426544 ,  54.09835  , 122.85252  , 121.28126  , 100.36669  ,\n",
      "         56.371346 , 140.30421  , 124.56108  ,  64.28867  , 136.0023   ,\n",
      "         90.08484  , 141.7992   ,  70.77204  ,  91.93069  , 125.97979  ,\n",
      "         56.218796 ,  48.24044  ,  57.744293 ,  35.060143 ,  48.59131  ,\n",
      "        124.63735  ,  83.12857  ,  38.538277 ,  48.1184   ,  91.99171  ,\n",
      "         78.55208  ,  62.000427 ,  55.623848 , 112.79949  , 108.95524  ,\n",
      "        101.83117  , 120.22867  ,  62.869965 ,  93.85281  ,  83.90657  ,\n",
      "         53.091522 ,  41.74182  , 100.15312  , 102.18203  ,  42.24524  ,\n",
      "         88.87969  ,  52.176224 , 115.94202  ,  63.403885 ,  54.92212  ,\n",
      "         84.56254  , 111.335014 ,  68.712616 , 102.19729  , 103.57024  ,\n",
      "         76.00449  ,  79.37585  , 106.13307  , 113.37918  , 108.58912  ,\n",
      "         60.74952  , 105.110985 , 101.41928  ,  76.90454  ,  60.856308 ,\n",
      "        106.45342  ,  44.945366 ,  59.94101  ,  56.020477 ,  57.683273 ,\n",
      "        109.90105  , 101.60234  ,  87.476234 ,  43.709717 ,  76.06551  ,\n",
      "         91.701866 ,  94.18842  ,  51.032104 , 191.04225  ,  90.61876  ,\n",
      "         72.06871  , 138.5804   ,  77.57576  ,  93.730774 ,  87.55251  ,\n",
      "         44.045326 ,  70.63474  ,  88.52883  ,  92.479866 ,  96.50718  ,\n",
      "        123.447464 ,  96.32412  ,  34.73979  ,  97.34621  , 106.89582  ],\n",
      "       [  6.336327 ,   5.514429 ,   5.261003 ,   6.701154 ,   7.1418076,\n",
      "          7.027022 ,   8.122652 ,   6.6161256,   8.867803 ,   9.173191 ,\n",
      "          7.435414 ,   6.0103755,  10.123851 ,   7.07381  ,   6.0546207,\n",
      "          6.7737136,   7.282859 ,   7.5835643,   6.158687 ,  13.827081 ,\n",
      "          8.192916 ,  10.290194 ,   6.917826 ,   6.460974 ,   9.238934 ,\n",
      "          5.850321 ,   5.253797 ,   6.431616 ,   6.2606845,   5.13663  ,\n",
      "          8.655955 ,   5.2823343,   7.050103 ,   5.382721 ,   5.941405 ,\n",
      "          5.0883493,   5.154659 ,   8.840662 ,   6.6145473,   7.349319 ,\n",
      "          9.353371 ,   7.0487785,   6.9931216,   7.846052 ,   5.5253997,\n",
      "          5.9140935,   5.208901 ,   7.2247987,  12.714922 ,   9.501419 ,\n",
      "          7.4180584,   5.4942994,   5.103057 ,   9.528853 ,   5.6717825,\n",
      "          5.379497 ,   7.2322655,   5.6727986,   9.475433 ,   5.4091644,\n",
      "          6.564539 ,   5.458893 ,   8.384865 ,   5.692038 ,   7.828997 ,\n",
      "          5.9689164,   5.344251 ,   5.0974035,   8.977776 ,  18.858156 ,\n",
      "          5.528956 ,   5.3551126,   5.5510693,   5.881492 ,   5.6917872,\n",
      "          6.730873 ,   8.923912 ,   5.484499 ,   5.306988 ,   6.3910246,\n",
      "          8.841054 ,   5.47882  ,   5.416896 ,   9.856687 ,   5.8450356,\n",
      "          5.3175945,   6.362498 ,   5.884703 ,  10.578671 ,   6.7341447,\n",
      "          6.12997  ,   5.4845777,   5.365752 ,   7.0817227,   9.059296 ,\n",
      "         16.328104 ,  10.851864 ,   5.983626 ,   7.0616674,   7.0809054]],\n",
      "      dtype=float32), array([ 4.7352147,  4.646943 ,  5.209095 ,  5.55097  , 18.001257 ,\n",
      "        4.76539  ,  2.8279996,  2.981047 , 34.545506 ,  4.135921 ,\n",
      "        5.6729627,  2.7737916,  8.971061 ,  4.22282  ,  6.109666 ,\n",
      "        3.1596901,  4.8002653,  3.9149442,  4.745161 ,  5.0056925,\n",
      "       15.251905 ,  5.4323974,  5.5713   ,  4.255547 ,  3.8702896,\n",
      "        3.7176998,  3.852527 ,  4.5560737,  5.7799177,  2.5238233,\n",
      "        3.619864 , 11.712617 ,  2.826604 ,  5.8020844,  4.2952747,\n",
      "        3.2839677,  3.712752 ,  6.3588963,  5.4694138, 18.883812 ,\n",
      "        4.4201093, 10.472054 ,  3.5031345, 31.774734 , 43.128914 ,\n",
      "        5.1509657,  5.1726084,  5.5262637,  4.6678596,  5.0494494,\n",
      "        4.6384597,  3.224931 ,  5.4969234,  3.239237 ,  3.7425199,\n",
      "       12.100877 ,  4.50141  ,  5.069959 ,  4.3229976,  5.3087926,\n",
      "        3.8658566,  4.530017 ,  4.6135545,  4.7656355,  4.5645695,\n",
      "        3.5933566, 16.351473 , 13.008674 ,  6.9371443,  9.515556 ,\n",
      "       10.2267885,  5.4119773,  4.6290154,  3.896901 ,  4.275801 ,\n",
      "        5.900004 ,  3.6834342,  5.3181443,  4.4193196,  5.320161 ,\n",
      "        5.4951406,  4.3560686,  7.3648686,  5.807923 ,  5.505596 ,\n",
      "        4.712109 ,  6.8042603,  3.9451892,  3.4993021,  3.7125208,\n",
      "        4.206889 ,  3.1891813,  3.1111286,  3.295477 , 16.935862 ,\n",
      "        4.3477654,  4.831726 ,  4.9319725,  5.5184884, 12.230789 ],\n",
      "      dtype=float32))\n",
      "  kwargs: {}\n",
      "  exception:\n"
     ]
    },
    {
     "name": "stderr",
     "output_type": "stream",
     "text": [
      "Traceback (most recent call last):\n",
      "  File \"/data0/sw/anaconda3/lib/python3.8/site-packages/emcee/ensemble.py\", line 624, in __call__\n",
      "    return self.f(x, *self.args, **self.kwargs)\n",
      "  File \"<ipython-input-22-b17976d6fc2b>\", line 13, in logposterior\n",
      "    return lp + log_likelihood_vec2(theta, x, y, yerr, eps=1e-9)\n",
      "  File \"<ipython-input-13-aed2e47e7c2a>\", line 15, in log_likelihood_vec2\n",
      "    log_p = np.where(np.isnan(log_p), -np.inf, log_p)\n",
      "UnboundLocalError: local variable 'log_p' referenced before assignment\n"
     ]
    },
    {
     "ename": "UnboundLocalError",
     "evalue": "local variable 'log_p' referenced before assignment",
     "output_type": "error",
     "traceback": [
      "\u001b[0;31m---------------------------------------------------------------------------\u001b[0m",
      "\u001b[0;31mUnboundLocalError\u001b[0m                         Traceback (most recent call last)",
      "\u001b[0;32m<ipython-input-24-8819a03a00f6>\u001b[0m in \u001b[0;36m<module>\u001b[0;34m\u001b[0m\n\u001b[1;32m      3\u001b[0m \u001b[0;34m\u001b[0m\u001b[0m\n\u001b[1;32m      4\u001b[0m \u001b[0;31m# pass the initial samples and total number of samples required\u001b[0m\u001b[0;34m\u001b[0m\u001b[0;34m\u001b[0m\u001b[0;34m\u001b[0m\u001b[0m\n\u001b[0;32m----> 5\u001b[0;31m \u001b[0msampler\u001b[0m\u001b[0;34m.\u001b[0m\u001b[0mrun_mcmc\u001b[0m\u001b[0;34m(\u001b[0m\u001b[0mguess\u001b[0m\u001b[0;34m,\u001b[0m \u001b[0mNsamples\u001b[0m\u001b[0;34m+\u001b[0m\u001b[0mNburnin\u001b[0m\u001b[0;34m)\u001b[0m\u001b[0;34m;\u001b[0m\u001b[0;34m\u001b[0m\u001b[0;34m\u001b[0m\u001b[0m\n\u001b[0m\u001b[1;32m      6\u001b[0m \u001b[0;34m\u001b[0m\u001b[0m\n\u001b[1;32m      7\u001b[0m \u001b[0;31m# extract the samples (removing the burn-in)\u001b[0m\u001b[0;34m\u001b[0m\u001b[0;34m\u001b[0m\u001b[0;34m\u001b[0m\u001b[0m\n",
      "\u001b[0;32m/data0/sw/anaconda3/lib/python3.8/site-packages/emcee/ensemble.py\u001b[0m in \u001b[0;36mrun_mcmc\u001b[0;34m(self, initial_state, nsteps, **kwargs)\u001b[0m\n\u001b[1;32m    441\u001b[0m \u001b[0;34m\u001b[0m\u001b[0m\n\u001b[1;32m    442\u001b[0m         \u001b[0mresults\u001b[0m \u001b[0;34m=\u001b[0m \u001b[0;32mNone\u001b[0m\u001b[0;34m\u001b[0m\u001b[0;34m\u001b[0m\u001b[0m\n\u001b[0;32m--> 443\u001b[0;31m         \u001b[0;32mfor\u001b[0m \u001b[0mresults\u001b[0m \u001b[0;32min\u001b[0m \u001b[0mself\u001b[0m\u001b[0;34m.\u001b[0m\u001b[0msample\u001b[0m\u001b[0;34m(\u001b[0m\u001b[0minitial_state\u001b[0m\u001b[0;34m,\u001b[0m \u001b[0miterations\u001b[0m\u001b[0;34m=\u001b[0m\u001b[0mnsteps\u001b[0m\u001b[0;34m,\u001b[0m \u001b[0;34m**\u001b[0m\u001b[0mkwargs\u001b[0m\u001b[0;34m)\u001b[0m\u001b[0;34m:\u001b[0m\u001b[0;34m\u001b[0m\u001b[0;34m\u001b[0m\u001b[0m\n\u001b[0m\u001b[1;32m    444\u001b[0m             \u001b[0;32mpass\u001b[0m\u001b[0;34m\u001b[0m\u001b[0;34m\u001b[0m\u001b[0m\n\u001b[1;32m    445\u001b[0m \u001b[0;34m\u001b[0m\u001b[0m\n",
      "\u001b[0;32m/data0/sw/anaconda3/lib/python3.8/site-packages/emcee/ensemble.py\u001b[0m in \u001b[0;36msample\u001b[0;34m(self, initial_state, log_prob0, rstate0, blobs0, iterations, tune, skip_initial_state_check, thin_by, thin, store, progress, progress_kwargs)\u001b[0m\n\u001b[1;32m    342\u001b[0m             \u001b[0mstate\u001b[0m\u001b[0;34m.\u001b[0m\u001b[0mblobs\u001b[0m \u001b[0;34m=\u001b[0m \u001b[0mblobs0\u001b[0m\u001b[0;34m\u001b[0m\u001b[0;34m\u001b[0m\u001b[0m\n\u001b[1;32m    343\u001b[0m         \u001b[0;32mif\u001b[0m \u001b[0mstate\u001b[0m\u001b[0;34m.\u001b[0m\u001b[0mlog_prob\u001b[0m \u001b[0;32mis\u001b[0m \u001b[0;32mNone\u001b[0m\u001b[0;34m:\u001b[0m\u001b[0;34m\u001b[0m\u001b[0;34m\u001b[0m\u001b[0m\n\u001b[0;32m--> 344\u001b[0;31m             \u001b[0mstate\u001b[0m\u001b[0;34m.\u001b[0m\u001b[0mlog_prob\u001b[0m\u001b[0;34m,\u001b[0m \u001b[0mstate\u001b[0m\u001b[0;34m.\u001b[0m\u001b[0mblobs\u001b[0m \u001b[0;34m=\u001b[0m \u001b[0mself\u001b[0m\u001b[0;34m.\u001b[0m\u001b[0mcompute_log_prob\u001b[0m\u001b[0;34m(\u001b[0m\u001b[0mstate\u001b[0m\u001b[0;34m.\u001b[0m\u001b[0mcoords\u001b[0m\u001b[0;34m)\u001b[0m\u001b[0;34m\u001b[0m\u001b[0;34m\u001b[0m\u001b[0m\n\u001b[0m\u001b[1;32m    345\u001b[0m         \u001b[0;32mif\u001b[0m \u001b[0mnp\u001b[0m\u001b[0;34m.\u001b[0m\u001b[0mshape\u001b[0m\u001b[0;34m(\u001b[0m\u001b[0mstate\u001b[0m\u001b[0;34m.\u001b[0m\u001b[0mlog_prob\u001b[0m\u001b[0;34m)\u001b[0m \u001b[0;34m!=\u001b[0m \u001b[0;34m(\u001b[0m\u001b[0mself\u001b[0m\u001b[0;34m.\u001b[0m\u001b[0mnwalkers\u001b[0m\u001b[0;34m,\u001b[0m\u001b[0;34m)\u001b[0m\u001b[0;34m:\u001b[0m\u001b[0;34m\u001b[0m\u001b[0;34m\u001b[0m\u001b[0m\n\u001b[1;32m    346\u001b[0m             \u001b[0;32mraise\u001b[0m \u001b[0mValueError\u001b[0m\u001b[0;34m(\u001b[0m\u001b[0;34m\"incompatible input dimensions\"\u001b[0m\u001b[0;34m)\u001b[0m\u001b[0;34m\u001b[0m\u001b[0;34m\u001b[0m\u001b[0m\n",
      "\u001b[0;32m/data0/sw/anaconda3/lib/python3.8/site-packages/emcee/ensemble.py\u001b[0m in \u001b[0;36mcompute_log_prob\u001b[0;34m(self, coords)\u001b[0m\n\u001b[1;32m    487\u001b[0m             \u001b[0;32melse\u001b[0m\u001b[0;34m:\u001b[0m\u001b[0;34m\u001b[0m\u001b[0;34m\u001b[0m\u001b[0m\n\u001b[1;32m    488\u001b[0m                 \u001b[0mmap_func\u001b[0m \u001b[0;34m=\u001b[0m \u001b[0mmap\u001b[0m\u001b[0;34m\u001b[0m\u001b[0;34m\u001b[0m\u001b[0m\n\u001b[0;32m--> 489\u001b[0;31m             \u001b[0mresults\u001b[0m \u001b[0;34m=\u001b[0m \u001b[0mlist\u001b[0m\u001b[0;34m(\u001b[0m\u001b[0mmap_func\u001b[0m\u001b[0;34m(\u001b[0m\u001b[0mself\u001b[0m\u001b[0;34m.\u001b[0m\u001b[0mlog_prob_fn\u001b[0m\u001b[0;34m,\u001b[0m \u001b[0mp\u001b[0m\u001b[0;34m)\u001b[0m\u001b[0;34m)\u001b[0m\u001b[0;34m\u001b[0m\u001b[0;34m\u001b[0m\u001b[0m\n\u001b[0m\u001b[1;32m    490\u001b[0m \u001b[0;34m\u001b[0m\u001b[0m\n\u001b[1;32m    491\u001b[0m         \u001b[0;32mtry\u001b[0m\u001b[0;34m:\u001b[0m\u001b[0;34m\u001b[0m\u001b[0;34m\u001b[0m\u001b[0m\n",
      "\u001b[0;32m/data0/sw/anaconda3/lib/python3.8/site-packages/emcee/ensemble.py\u001b[0m in \u001b[0;36m__call__\u001b[0;34m(self, x)\u001b[0m\n\u001b[1;32m    622\u001b[0m     \u001b[0;32mdef\u001b[0m \u001b[0m__call__\u001b[0m\u001b[0;34m(\u001b[0m\u001b[0mself\u001b[0m\u001b[0;34m,\u001b[0m \u001b[0mx\u001b[0m\u001b[0;34m)\u001b[0m\u001b[0;34m:\u001b[0m\u001b[0;34m\u001b[0m\u001b[0;34m\u001b[0m\u001b[0m\n\u001b[1;32m    623\u001b[0m         \u001b[0;32mtry\u001b[0m\u001b[0;34m:\u001b[0m\u001b[0;34m\u001b[0m\u001b[0;34m\u001b[0m\u001b[0m\n\u001b[0;32m--> 624\u001b[0;31m             \u001b[0;32mreturn\u001b[0m \u001b[0mself\u001b[0m\u001b[0;34m.\u001b[0m\u001b[0mf\u001b[0m\u001b[0;34m(\u001b[0m\u001b[0mx\u001b[0m\u001b[0;34m,\u001b[0m \u001b[0;34m*\u001b[0m\u001b[0mself\u001b[0m\u001b[0;34m.\u001b[0m\u001b[0margs\u001b[0m\u001b[0;34m,\u001b[0m \u001b[0;34m**\u001b[0m\u001b[0mself\u001b[0m\u001b[0;34m.\u001b[0m\u001b[0mkwargs\u001b[0m\u001b[0;34m)\u001b[0m\u001b[0;34m\u001b[0m\u001b[0;34m\u001b[0m\u001b[0m\n\u001b[0m\u001b[1;32m    625\u001b[0m         \u001b[0;32mexcept\u001b[0m\u001b[0;34m:\u001b[0m  \u001b[0;31m# pragma: no cover\u001b[0m\u001b[0;34m\u001b[0m\u001b[0;34m\u001b[0m\u001b[0m\n\u001b[1;32m    626\u001b[0m             \u001b[0;32mimport\u001b[0m \u001b[0mtraceback\u001b[0m\u001b[0;34m\u001b[0m\u001b[0;34m\u001b[0m\u001b[0m\n",
      "\u001b[0;32m<ipython-input-22-b17976d6fc2b>\u001b[0m in \u001b[0;36mlogposterior\u001b[0;34m(theta, x, y, yerr)\u001b[0m\n\u001b[1;32m     11\u001b[0m \u001b[0;34m\u001b[0m\u001b[0m\n\u001b[1;32m     12\u001b[0m     \u001b[0;31m# return the likeihood times the prior (log likelihood plus the log prior)\u001b[0m\u001b[0;34m\u001b[0m\u001b[0;34m\u001b[0m\u001b[0;34m\u001b[0m\u001b[0m\n\u001b[0;32m---> 13\u001b[0;31m     \u001b[0;32mreturn\u001b[0m \u001b[0mlp\u001b[0m \u001b[0;34m+\u001b[0m \u001b[0mlog_likelihood_vec2\u001b[0m\u001b[0;34m(\u001b[0m\u001b[0mtheta\u001b[0m\u001b[0;34m,\u001b[0m \u001b[0mx\u001b[0m\u001b[0;34m,\u001b[0m \u001b[0my\u001b[0m\u001b[0;34m,\u001b[0m \u001b[0myerr\u001b[0m\u001b[0;34m,\u001b[0m \u001b[0meps\u001b[0m\u001b[0;34m=\u001b[0m\u001b[0;36m1e-9\u001b[0m\u001b[0;34m)\u001b[0m\u001b[0;34m\u001b[0m\u001b[0;34m\u001b[0m\u001b[0m\n\u001b[0m",
      "\u001b[0;32m<ipython-input-13-aed2e47e7c2a>\u001b[0m in \u001b[0;36mlog_likelihood_vec2\u001b[0;34m(theta, z, y, yerr, eps)\u001b[0m\n\u001b[1;32m     13\u001b[0m         \u001b[0mprobs\u001b[0m\u001b[0;34m.\u001b[0m\u001b[0mappend\u001b[0m\u001b[0;34m(\u001b[0m\u001b[0m_log_likelihood2\u001b[0m\u001b[0;34m(\u001b[0m\u001b[0mtheta\u001b[0m\u001b[0;34m,\u001b[0m \u001b[0mlbd_hat_i\u001b[0m\u001b[0;34m,\u001b[0m \u001b[0mlbd_err_i\u001b[0m\u001b[0;34m,\u001b[0m \u001b[0mchisi_i\u001b[0m\u001b[0;34m,\u001b[0m \u001b[0mz_i\u001b[0m\u001b[0;34m)\u001b[0m\u001b[0;34m)\u001b[0m\u001b[0;34m\u001b[0m\u001b[0;34m\u001b[0m\u001b[0m\n\u001b[1;32m     14\u001b[0m     \u001b[0mp\u001b[0m \u001b[0;34m=\u001b[0m \u001b[0mnp\u001b[0m\u001b[0;34m.\u001b[0m\u001b[0marray\u001b[0m\u001b[0;34m(\u001b[0m\u001b[0mprobs\u001b[0m\u001b[0;34m)\u001b[0m\u001b[0;34m/\u001b[0m\u001b[0mnp\u001b[0m\u001b[0;34m.\u001b[0m\u001b[0msum\u001b[0m\u001b[0;34m(\u001b[0m\u001b[0mprobs\u001b[0m\u001b[0;34m)\u001b[0m\u001b[0;34m\u001b[0m\u001b[0;34m\u001b[0m\u001b[0m\n\u001b[0;32m---> 15\u001b[0;31m     \u001b[0mlog_p\u001b[0m \u001b[0;34m=\u001b[0m \u001b[0mnp\u001b[0m\u001b[0;34m.\u001b[0m\u001b[0mwhere\u001b[0m\u001b[0;34m(\u001b[0m\u001b[0mnp\u001b[0m\u001b[0;34m.\u001b[0m\u001b[0misnan\u001b[0m\u001b[0;34m(\u001b[0m\u001b[0mlog_p\u001b[0m\u001b[0;34m)\u001b[0m\u001b[0;34m,\u001b[0m \u001b[0;34m-\u001b[0m\u001b[0mnp\u001b[0m\u001b[0;34m.\u001b[0m\u001b[0minf\u001b[0m\u001b[0;34m,\u001b[0m \u001b[0mlog_p\u001b[0m\u001b[0;34m)\u001b[0m\u001b[0;34m\u001b[0m\u001b[0;34m\u001b[0m\u001b[0m\n\u001b[0m\u001b[1;32m     16\u001b[0m     \u001b[0;32mreturn\u001b[0m \u001b[0mnp\u001b[0m\u001b[0;34m.\u001b[0m\u001b[0msum\u001b[0m\u001b[0;34m(\u001b[0m\u001b[0mlog_p\u001b[0m\u001b[0;34m)\u001b[0m\u001b[0;34m\u001b[0m\u001b[0;34m\u001b[0m\u001b[0m\n",
      "\u001b[0;31mUnboundLocalError\u001b[0m: local variable 'log_p' referenced before assignment"
     ]
    }
   ],
   "source": [
    "# set up the sampler\n",
    "sampler = emcee.EnsembleSampler(walkers, ndims, logposterior, args=argslist)\n",
    "\n",
    "# pass the initial samples and total number of samples required\n",
    "sampler.run_mcmc(guess, Nsamples+Nburnin);\n",
    "\n",
    "# extract the samples (removing the burn-in)\n",
    "postsamples = sampler.chain[:, Nburnin:, :].reshape((-1, ndims))"
   ]
  },
  {
   "cell_type": "code",
   "execution_count": null,
   "id": "8460c2dd-f1cc-4a6e-ba95-85cfc8e7e6ba",
   "metadata": {},
   "outputs": [],
   "source": [
    "try:\n",
    "    import matplotlib as mpl\n",
    "    mpl.use(\"Agg\") # force Matplotlib backend to Agg\n",
    "    import corner # import corner.py\n",
    "except ImportError:\n",
    "    sys.exit(1)\n",
    "\n",
    "print('Number of posterior samples is {}'.format(postsamples.shape[0]))\n",
    "\n",
    "fig = corner.corner(postsamples, labels=[r\"$m$\", r\"$c$\"], truths=[m, c])\n",
    "fig.savefig('emcee.png')"
   ]
  }
 ],
 "metadata": {
  "kernelspec": {
   "display_name": "Python 3",
   "language": "python",
   "name": "python3"
  },
  "language_info": {
   "codemirror_mode": {
    "name": "ipython",
    "version": 3
   },
   "file_extension": ".py",
   "mimetype": "text/x-python",
   "name": "python",
   "nbconvert_exporter": "python",
   "pygments_lexer": "ipython3",
   "version": "3.8.8"
  }
 },
 "nbformat": 4,
 "nbformat_minor": 5
}
