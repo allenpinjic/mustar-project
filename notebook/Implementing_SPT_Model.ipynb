{
 "cells": [
  {
   "cell_type": "markdown",
   "id": "fdad981e-2966-4cab-8c4d-303294e41d23",
   "metadata": {},
   "source": [
    "# Implementing the SPT Model"
   ]
  },
  {
   "cell_type": "markdown",
   "id": "133223a3-e832-4d56-a3a2-438f59138cc6",
   "metadata": {},
   "source": [
    "Allen Pinjic - Created on June 6th, 2022"
   ]
  },
  {
   "cell_type": "code",
   "execution_count": 1,
   "id": "6dc085b0-5c86-4a63-a186-b4b078226b79",
   "metadata": {
    "ExecuteTime": {
     "end_time": "2022-06-08T17:53:01.424581Z",
     "start_time": "2022-06-08T17:53:00.398243Z"
    }
   },
   "outputs": [],
   "source": [
    "from astropy.io.fits import getdata\n",
    "from astropy.table import Table\n",
    "from astropy.cosmology import WMAP9 as cosmo"
   ]
  },
  {
   "cell_type": "code",
   "execution_count": 2,
   "id": "45b01c2b-1af4-4b63-a438-7ad66fa5bda1",
   "metadata": {
    "ExecuteTime": {
     "end_time": "2022-06-08T17:53:10.750124Z",
     "start_time": "2022-06-08T17:53:01.425845Z"
    }
   },
   "outputs": [],
   "source": [
    "import numpy as np\n",
    "import pandas as pd\n",
    "import arviz as az\n",
    "import matplotlib.pyplot as plt\n",
    "import pylab as plt\n",
    "import pymc3 as pm\n",
    "import aesara\n",
    "import matplotlib.font_manager\n",
    "import scipy.stats\n",
    "import scipy.optimize\n",
    "import math"
   ]
  },
  {
   "cell_type": "code",
   "execution_count": 3,
   "id": "7ade0296-e210-4b94-8dd9-7a92f3f7e9e9",
   "metadata": {
    "ExecuteTime": {
     "end_time": "2022-06-08T17:53:10.754964Z",
     "start_time": "2022-06-08T17:53:10.751721Z"
    }
   },
   "outputs": [],
   "source": [
    "%matplotlib inline"
   ]
  },
  {
   "cell_type": "markdown",
   "id": "d9812834-1063-43f2-8a77-3cdb995a5bae",
   "metadata": {},
   "source": [
    "## Retrieving SPT Data"
   ]
  },
  {
   "cell_type": "code",
   "execution_count": 4,
   "id": "f53ec3b9-34ca-4393-bbbb-3ba4457bb961",
   "metadata": {
    "ExecuteTime": {
     "end_time": "2022-06-08T17:53:10.789765Z",
     "start_time": "2022-06-08T17:53:10.756232Z"
    }
   },
   "outputs": [],
   "source": [
    "fname = '../data_set/sptecs_catalog_oct919.fits'\n",
    "\n",
    "data = Table(getdata(fname))"
   ]
  },
  {
   "cell_type": "code",
   "execution_count": 5,
   "id": "c015d052-785c-44f2-a5b8-b2e0bff1c32e",
   "metadata": {
    "ExecuteTime": {
     "end_time": "2022-06-08T17:53:10.813880Z",
     "start_time": "2022-06-08T17:53:10.790660Z"
    }
   },
   "outputs": [
    {
     "name": "stderr",
     "output_type": "stream",
     "text": [
      "/usr/local/anaconda/lib/python3.8/site-packages/pandas/core/arraylike.py:358: RuntimeWarning: divide by zero encountered in log\n",
      "  result = getattr(ufunc, method)(*inputs, **kwargs)\n"
     ]
    }
   ],
   "source": [
    "df = data.to_pandas()\n",
    "h=0.7\n",
    "df['log_M500'] = np.log(df.M500*1e14*h)\n",
    "df['log_LAMBDA_CHISQ'] = np.log(df.LAMBDA_CHISQ)"
   ]
  },
  {
   "cell_type": "code",
   "execution_count": 6,
   "id": "ff3f0fd7-230a-42a8-936a-67501ba8c1f1",
   "metadata": {
    "ExecuteTime": {
     "end_time": "2022-06-08T17:53:10.817464Z",
     "start_time": "2022-06-08T17:53:10.814801Z"
    }
   },
   "outputs": [
    {
     "name": "stderr",
     "output_type": "stream",
     "text": [
      "<ipython-input-6-5c4766f6076c>:3: RuntimeWarning: divide by zero encountered in log\n",
      "  log_m500 = np.log(m500)\n",
      "<ipython-input-6-5c4766f6076c>:9: RuntimeWarning: invalid value encountered in true_divide\n",
      "  log_m500_err = m500_err/m500\n"
     ]
    }
   ],
   "source": [
    "## Calculating the log of the mean mass error ##\n",
    "m500 = df.M500.to_numpy()*1e14*h\n",
    "log_m500 = np.log(m500)\n",
    "\n",
    "lerr = df.M500_LERR.to_numpy()*1e14*h\n",
    "uerr = df.M500_UERR.to_numpy()*1e14*h\n",
    "\n",
    "m500_err = (lerr+uerr)/2 # mean mass error\n",
    "log_m500_err = m500_err/m500\n",
    "\n",
    "# Eliminating NaN values from the log_m500_err data set\n",
    "nnan = ~np.isnan(log_m500_err)\n",
    "nnan2 = ~np.isnan(log_m500)"
   ]
  },
  {
   "cell_type": "code",
   "execution_count": 7,
   "id": "f4c836a5-40b4-4cdd-bcc0-3c63abc9d1dc",
   "metadata": {
    "ExecuteTime": {
     "end_time": "2022-06-08T17:53:10.821235Z",
     "start_time": "2022-06-08T17:53:10.818415Z"
    }
   },
   "outputs": [
    {
     "name": "stderr",
     "output_type": "stream",
     "text": [
      "<ipython-input-7-949632b44be5>:7: RuntimeWarning: invalid value encountered in true_divide\n",
      "  log_lbd_err = lbd_err/lbd\n"
     ]
    }
   ],
   "source": [
    "## Calculating the log of the richness error ##\n",
    "\n",
    "lbd = df.LAMBDA_CHISQ.to_numpy()\n",
    "lbd_err = df.LAMBDA_CHISQ_E.to_numpy()\n",
    "\n",
    "log_lbd = df.log_LAMBDA_CHISQ\n",
    "log_lbd_err = lbd_err/lbd\n",
    "\n",
    "# Eliminating NaN values from the log_lbd_err data set\n",
    "nnan3 = ~np.isnan(log_lbd_err)\n",
    "nnan4 = ~np.isnan(log_lbd)\n",
    "\n",
    "nnan_all = nnan & nnan2 & nnan3 & nnan4"
   ]
  },
  {
   "cell_type": "code",
   "execution_count": 8,
   "id": "13453115-e766-4c38-a83e-75e4d524afbe",
   "metadata": {
    "ExecuteTime": {
     "end_time": "2022-06-08T17:53:10.825938Z",
     "start_time": "2022-06-08T17:53:10.823567Z"
    }
   },
   "outputs": [],
   "source": [
    "df0 = df\n",
    "z = df0.REDSHIFT.to_numpy()\n",
    "lbd = df0.LAMBDA_CHISQ.to_numpy()\n",
    "zcut = (z > 0.1) & (z < 0.65)\n",
    "lcut = lbd > 20\n",
    "final_cut = zcut & lcut"
   ]
  },
  {
   "cell_type": "code",
   "execution_count": 9,
   "id": "06e691a0-97de-4472-be0a-cd2e92e257e9",
   "metadata": {
    "ExecuteTime": {
     "end_time": "2022-06-08T17:53:10.832107Z",
     "start_time": "2022-06-08T17:53:10.827645Z"
    }
   },
   "outputs": [],
   "source": [
    "df = df0.loc[final_cut].copy()"
   ]
  },
  {
   "cell_type": "markdown",
   "id": "6140afd3-b4c8-437c-9759-3656003a9847",
   "metadata": {},
   "source": [
    "## First Draft Version"
   ]
  },
  {
   "cell_type": "code",
   "execution_count": 10,
   "id": "d5eaa718-d216-4033-9669-768f9b075e07",
   "metadata": {
    "ExecuteTime": {
     "end_time": "2022-06-08T17:53:10.834606Z",
     "start_time": "2022-06-08T17:53:10.833100Z"
    }
   },
   "outputs": [],
   "source": [
    "#Y = np.vstack([x,y])"
   ]
  },
  {
   "cell_type": "code",
   "execution_count": 11,
   "id": "598c3e91-ed6d-4254-bca3-cc964fc8dbd5",
   "metadata": {
    "ExecuteTime": {
     "end_time": "2022-06-08T17:53:10.838539Z",
     "start_time": "2022-06-08T17:53:10.835508Z"
    }
   },
   "outputs": [],
   "source": [
    "def model(theta, x, gammasz = 1.0, M0 = 3e14, Ez0=1.):\n",
    "    M, z  = x\n",
    "    asz, bsz, csz, albd, blbd, clbd, = theta\n",
    "\n",
    "    y1 = gammasz*asz + bsz*np.log(M/M0) + csz*np.log(E(z)/Ez0)\n",
    "    y2 = albd + albd*np.log(M/M0) + clbd*np.log(E(z)/Ez0)\n",
    "    return np.vstack([y1,y2])\n",
    "    "
   ]
  },
  {
   "cell_type": "code",
   "execution_count": 12,
   "id": "1f606f29-84d3-4178-af9e-1fd5f079095a",
   "metadata": {
    "ExecuteTime": {
     "end_time": "2022-06-08T17:53:10.854239Z",
     "start_time": "2022-06-08T17:53:10.840067Z"
    }
   },
   "outputs": [],
   "source": [
    "from colossus.cosmology import cosmology\n",
    "from colossus.lss import mass_function\n",
    "from astropy.io.fits import getdata\n",
    "from astropy.table import Table\n",
    "cosmology.setCosmology('WMAP9')\n",
    "\n",
    "# true = obs lambda\n",
    "# true SZ signal = obs SZ signal\n",
    "\n",
    "def joint_probability(y1, y2, mu1, mu2, s1, s2, rho):\n",
    "    den = 2*np.pi*s1*s2*np.sqrt(1-rho**2)\n",
    "    num = (y1-mu1)**2/s1**2 + (y2-mu2)**2/s2**2\n",
    "    num += 2*((y1-mu1)/s1)*((y2-mu2)/s2)/(2*(1-rho**2))\n",
    "    log_prob = -num/(2*(1-rho**2))\n",
    "    prob = np.exp(log_prob/den)\n",
    "    return prob\n",
    "\n",
    "def prob_lbd_sz(theta, M, z):\n",
    "    y1, y2 = y[0], y[1]\n",
    "    \n",
    "    # covariance\n",
    "    s1, s2, rho = theta[-3], theta[-2], theta[-1]\n",
    "    \n",
    "    # predictions\n",
    "    mu1, mu2 = model(theta, x)\n",
    "    \n",
    "    #joint probability\n",
    "    return joint_probability(y1, y2, mu1, mu2, s1, s2, rho)\n",
    "\n",
    "\n",
    "#comparing predictions with the model\n",
    "\n",
    "# x = M, z\n",
    "def hal0_mass_function(M, z):\n",
    "    return mass_function.massFunction(M, z, mdef = 'vir', model = 'tinker08')\n",
    "\n",
    "\n",
    "def prob_obs_lambda_integrand(M, z, theta):\n",
    "    M, z = x\n",
    "    prob = prob_lbd_sz(theta, x, y)\n",
    "    hmf = halo_mass_function(M, z)\n",
    "    integrand = prob*hmf\n",
    "    return integrand\n",
    "\n",
    "def prob_obs_lambda(theta, x, y, errors, Norm=1.):\n",
    "    M, z = x\n",
    "    value = scipy.integrated.quad(prob_obs_lambda_integrand, 1e13, 1e16, args=(z, theta, y))/Norm\n",
    "    return value\n",
    "\n",
    "def log_likelihood(theta, x, y, errors):\n",
    "    return np.log(prob_obs_lambda(theta, x, y, errors))"
   ]
  },
  {
   "cell_type": "code",
   "execution_count": null,
   "id": "d9d304d6",
   "metadata": {},
   "outputs": [],
   "source": []
  },
  {
   "cell_type": "markdown",
   "id": "b03568b4-5c37-432b-b1c3-09e4fb4c65b5",
   "metadata": {},
   "source": [
    "## Solving for the Model Directly (via S. Grandis et al. 2021)"
   ]
  },
  {
   "cell_type": "code",
   "execution_count": 13,
   "id": "d4f25d88-c087-46b6-b3ef-2a997b4da6e1",
   "metadata": {
    "ExecuteTime": {
     "end_time": "2022-06-08T17:53:10.857590Z",
     "start_time": "2022-06-08T17:53:10.855196Z"
    }
   },
   "outputs": [],
   "source": [
    "## Lisiting constants (or undefined variables for now too) ##\n",
    "\n",
    "M0 = 3e14\n",
    "\n",
    "M = log_m500[nnan_all]\n",
    "# Is M defined as simply the values of the mass or the log of the mass?\n",
    "\n",
    "z = z[nnan_all]\n",
    "\n",
    "lbd = log_lbd[nnan_all]\n",
    "# Is lbd defined as simply the values of lambda or the log of lambda?\n",
    "\n",
    "lbd_error = log_lbd_err[nnan_all]\n",
    "# Is lbd_error defined as simply the error values of lambda or the error values of the log of lambda?\n",
    "\n",
    "chsi = 0\n",
    "lbd_hat = 0\n",
    "rho = 0\n",
    "zeta = 0\n",
    "scatter_lambda = 0\n",
    "scatter_zeta = 0\n",
    "# Temporary values (since they are unknown as of yet)"
   ]
  },
  {
   "cell_type": "code",
   "execution_count": 14,
   "id": "582b3db1-c258-439a-85c1-0b8df7b06b45",
   "metadata": {
    "ExecuteTime": {
     "end_time": "2022-06-08T17:53:10.860566Z",
     "start_time": "2022-06-08T17:53:10.858557Z"
    }
   },
   "outputs": [],
   "source": [
    "def E(z):\n",
    "    # The Hubble constant at the value of z\n",
    "    Hz = cosmo.H(z).value\n",
    "    # The Hubble constant at z=0\n",
    "    H0 = cosmo.H(0).value\n",
    "    return (Hz/H0)"
   ]
  },
  {
   "cell_type": "code",
   "execution_count": 15,
   "id": "5f374be3-b211-406a-aae2-af0ec80ad8b7",
   "metadata": {
    "ExecuteTime": {
     "end_time": "2022-06-08T17:53:10.863327Z",
     "start_time": "2022-06-08T17:53:10.861481Z"
    }
   },
   "outputs": [],
   "source": [
    "A_lambda = 76.9\n",
    "B_lambda = 1.020\n",
    "C_lambda = 0.29\n",
    "scatter_lambda = 0.16\n",
    "\n",
    "#A_lambda = pm.Normal(\"A_lambda\", mu=76.9, sigma=(8.2*3))\n",
    "#B_lambda = pm.Normal(\"B_lambda\", mu=1.020, sigma=(0.080*3))\n",
    "#C_lambda = pm.Normal(\"C_lambda\", mu=0.29, sigma=(0.27*3))\n",
    "#scatter_lambda = pm.HalfCauchy(\"scatter\", 0.16)\n",
    "\n",
    "A_sze = 5.24\n",
    "B_sze = 1.534\n",
    "C_sze = 0.465\n",
    "scatter_sze = 0.161\n",
    "\n",
    "#A_lambda = pm.Normal(\"A_lambda\", mu=5.24, sigma=(0.85*3))\n",
    "#B_lambda = pm.Normal(\"B_lambda\", mu=1.534, sigma=(0.100*3))\n",
    "#C_lambda = pm.Normal(\"C_lambda\", mu=0.465, sigma=(0.407*3))\n",
    "#scatter_sze = pm.HalfCauchy(\"scatter\", 0.080)\n",
    "\n",
    "\n",
    "## Not sure whether to use point values or values on a distribution ##"
   ]
  },
  {
   "cell_type": "code",
   "execution_count": null,
   "id": "48ee6fb4",
   "metadata": {},
   "outputs": [],
   "source": []
  },
  {
   "cell_type": "code",
   "execution_count": 121,
   "id": "3db8437f",
   "metadata": {
    "ExecuteTime": {
     "end_time": "2022-06-08T18:15:59.530955Z",
     "start_time": "2022-06-08T18:15:59.518883Z"
    }
   },
   "outputs": [],
   "source": [
    "from colossus.cosmology import cosmology\n",
    "from colossus.lss import mass_function\n",
    "cosmology.setCosmology('WMAP9')\n",
    "\n",
    "def _halo_mass_function(M, z):\n",
    "    return mass_function.massFunction(M, z, mdef = 'vir', model = 'tinker08')\n",
    "halo_mass_function = np.vectorize(_halo_mass_function)\n",
    "\n",
    "def E(z):\n",
    "    # The Hubble constant at the value of z\n",
    "    Hz = cosmo.H(z).value\n",
    "    # The Hubble constant at z=0\n",
    "    H0 = cosmo.H(0).value\n",
    "    return (Hz/H0)"
   ]
  },
  {
   "cell_type": "code",
   "execution_count": 135,
   "id": "ff3f6635-31d6-40ff-a97d-9259f09126d3",
   "metadata": {
    "ExecuteTime": {
     "end_time": "2022-06-08T19:02:40.982413Z",
     "start_time": "2022-06-08T19:02:40.970676Z"
    }
   },
   "outputs": [],
   "source": [
    "M0 = 3e14\n",
    "Ez0 = E(0)\n",
    "\n",
    "def ln_lbd_given_M(theta_lambda,lnM,z):\n",
    "    A_lambda, B_lambda, C_lambda, scatter_lambda = theta_lambda\n",
    "    return np.log(A_lambda) + (B_lambda)*lnM + (C_lambda)*(np.log(E(z)/Ez0))\n",
    "\n",
    "def ln_zeta_given_M(theta_sze,lnM,z):\n",
    "    A_sze, B_sze, C_sze, scatter_sze = theta_sze\n",
    "    return np.log(A_sze) + (B_sze)*lnM + (C_sze)*(np.log(E(z)/Ez0))"
   ]
  },
  {
   "cell_type": "code",
   "execution_count": 219,
   "id": "641000de",
   "metadata": {
    "ExecuteTime": {
     "end_time": "2022-06-08T19:46:13.733493Z",
     "start_time": "2022-06-08T19:46:13.708560Z"
    },
    "code_folding": []
   },
   "outputs": [],
   "source": [
    "from scipy.integrate import simps\n",
    "\n",
    "# given: mvec, lbdvec and zetavec\n",
    "\n",
    "def log_likelihood(theta, z, y, yerr, eps=1e-9):\n",
    "    # defining variables\n",
    "    lbd_hat, chisi = y[0], y[1]\n",
    "    lbd_error = yerr\n",
    "    nsize = len(lbd_hat)\n",
    "    \n",
    "    # unfolding theta\n",
    "    A_lambda, B_lambda, C_lambda, scatter_lambda = theta[4:8]\n",
    "    A_sze, B_sze, C_sze, scatter_zeta = theta[:4]\n",
    "    rho = theta[-1]\n",
    "    \n",
    "    # setting grid for integration\n",
    "    mm, zz = np.meshgrid(mvec, z)\n",
    "    mm2 = np.exp(mm)*M0\n",
    "    \n",
    "    # normalization factor\n",
    "    mm, zz = np.meshgrid(mvec, z)\n",
    "    \n",
    "    # calling predictions; \n",
    "    ln_lbd_pred = (ln_lbd_given_M([A_lambda, B_lambda, C_lambda, scatter_lambda],mm,zz)).T\n",
    "    ln_zeta_pred= (ln_zeta_given_M([A_sze, B_sze, C_sze, scatter_sze],mm,zz)).T\n",
    "    \n",
    "    halo_mass_func = (halo_mass_function(mm2, zz)*mm2).T\n",
    "    \n",
    "    # integrating over zeta, lambda\n",
    "    prob = marginalize_over_lbd_zeta(lbd_hat, lbd_error, chisi, ln_lbd_pred, ln_zeta_pred, halo_mass_func,\n",
    "                                     scatter_lambda, scatter_zeta, rho)\n",
    "    log_prob = np.log(prob)\n",
    "    return np.sum(log_prob)\n",
    "\n",
    "def marginalize_over_lbd_zeta(lbd_hat, lbd_err, chisi, ln_lbd_pred, ln_zeta_pred, halo_mass_func,\n",
    "                              scatter_lambda, scatter_zeta, rho):\n",
    "    # integrating over zeta, lambda\n",
    "    res_zeta = np.full((zetavec.size, nsize),-np.inf,dtype=float)\n",
    "    res_lbd = np.full((lbdvec.size, nsize),-np.inf,dtype=float)\n",
    "\n",
    "    for j,lbd in enumerate(lbdvec):\n",
    "        for i,zeta in enumerate(zetavec):\n",
    "            dn_dlbd_dzeta = compute_dn_dlbd_dzeta(lbd, zeta, lbd_hat, lbd_err, chisi, ln_lbd_pred, ln_zeta_pred, halo_mass_func,\n",
    "                                                  scatter_lambda, scatter_zeta, rho)\n",
    "            res_zeta[i] = dn_dlbd_dzeta/np.max(dn_dlbd_dzeta)\n",
    "        # integrate over zeta for a given lambda\n",
    "        res_lbd[j] = simps(res_zeta, x=zetavec, axis=0)\n",
    "    # integrate over lambda\n",
    "    prob = simps(res_lbd, x=lbdvec, axis=0)\n",
    "    # normalize over all posibilities\n",
    "    prob = prob/np.sum(prob)\n",
    "    return prob\n",
    "\n",
    "## likelihood including the errors\n",
    "def compute_dn_dlbd_dzeta(lbd, zeta, lbd_hat, lbd_err, chisi, ln_lbd_pred, ln_zeta_pred, halo_mass_func,\n",
    "                          scatter_lambda, scatter_zeta, rho):\n",
    "    # input\n",
    "    # lbd, zeta, scatter_lbd/zeta and rho: float: numbers\n",
    "    # ln_lbd/zeta_pred; halo_mass_func are nsize x msize vectors\n",
    "    # output: nsize array\n",
    "    s_lambda = np.sqrt((scatter_lambda)**2 + (lbd-1)/lbd**2)#np.std(lbd_hat) #np.sqrt(scatter_lambda** + 1/lbd**2)\n",
    "    s_zeta = scatter_zeta\n",
    "\n",
    "    # avoid error messages\n",
    "    rho_inv = (1-rho**2)\n",
    "    rho_inv = np.where(rho_inv<=eps, -np.inf, 1/rho_inv)\n",
    "\n",
    "    # defining standirized variables\n",
    "    lbd_std = (lbd - ln_lbd_pred)/s_lambda\n",
    "    zeta_std = (zeta - ln_zeta_pred)/s_zeta\n",
    "\n",
    "    # lbd_likelihood\n",
    "    lp_lbd  = -rho_inv*lbd_std**2/2 - ((lbd-lbd_hat)/lbd_err)**2/2.\n",
    "\n",
    "    # zeta likelihood\n",
    "    lp_zeta = -rho_inv*zeta_std**2/2 -(chisi-np.sqrt(zeta**2+3))**2/2.\n",
    "\n",
    "    # corr likelihod\n",
    "    lp_corr = rho*rho_inv*lbd_std*zeta_std\n",
    "\n",
    "    lp_total_m = lp_lbd+lp_zeta+lp_corr\n",
    "    #p_total_m = np.exp(lp_total_m)*halo_mass_func\n",
    "\n",
    "    # integrate over M\n",
    "    #lp_total = simps(p_total_m, x=mvec, axis=0)\n",
    "    return lp_total_m+np.log(halo_mass_func)#lp_total"
   ]
  },
  {
   "cell_type": "markdown",
   "id": "696704f8",
   "metadata": {
    "ExecuteTime": {
     "end_time": "2022-06-07T22:04:38.244298Z",
     "start_time": "2022-06-07T22:04:38.238776Z"
    }
   },
   "source": [
    "### Debugging"
   ]
  },
  {
   "cell_type": "code",
   "execution_count": 137,
   "id": "1253b696",
   "metadata": {
    "ExecuteTime": {
     "end_time": "2022-06-08T19:02:43.310878Z",
     "start_time": "2022-06-08T19:02:43.304139Z"
    }
   },
   "outputs": [
    {
     "name": "stdout",
     "output_type": "stream",
     "text": [
      "76.9 1.02 0.29 0.16\n",
      "5.24 1.534 0.465 0.161\n",
      "0.8\n",
      "The first lines of log_likelihood works\n"
     ]
    }
   ],
   "source": [
    "theta = [5.24, 1.534, 0.465, 0.161, 76.9, 1.02, 0.29, 0.16, 0.8]\n",
    "\n",
    "# unfolding theta\n",
    "A_lambda, B_lambda, C_lambda, scatter_lambda = theta[4:8]\n",
    "A_sze, B_sze, C_sze, scatter_zeta = theta[:4]\n",
    "rho = theta[-1]\n",
    "\n",
    "print(A_lambda, B_lambda, C_lambda, scatter_lambda)\n",
    "print(A_sze, B_sze, C_sze, scatter_sze)\n",
    "print(rho)\n",
    "\n",
    "print('The first lines of log_likelihood works')"
   ]
  },
  {
   "cell_type": "code",
   "execution_count": 20,
   "id": "422e59a0",
   "metadata": {
    "ExecuteTime": {
     "end_time": "2022-06-08T17:53:10.920895Z",
     "start_time": "2022-06-08T17:53:10.885502Z"
    }
   },
   "outputs": [
    {
     "data": {
      "text/html": [
       "<i>Table length=2</i>\n",
       "<table id=\"table140289564490192\" class=\"table-striped table-bordered table-condensed\">\n",
       "<thead><tr><th>SPT_ID</th><th>RA</th><th>DEC</th><th>FIELD</th><th>XI</th><th>THETA_CORE</th><th>REDSHIFT</th><th>REDSHIFT_UNC</th><th>SPECZ</th><th>REDSHIFT_SOURCE</th><th>RM_PROB</th><th>CL_NOTES</th><th>M500</th><th>M500_UERR</th><th>M500_LERR</th><th>LAMBDA_CHISQ</th><th>LAMBDA_CHISQ_E</th><th>RADIO_CONTAM</th><th>STRONG_LENS</th><th>IMAGE_SOURCE</th><th>SPECZ_REF</th><th>STRONG_LENS_REF</th><th>PHOTOMETRIC_ZREF</th></tr></thead>\n",
       "<thead><tr><th>str16</th><th>float64</th><th>float64</th><th>str11</th><th>float32</th><th>float32</th><th>float32</th><th>float32</th><th>int16</th><th>float32</th><th>float32</th><th>str50</th><th>float32</th><th>float32</th><th>float32</th><th>float32</th><th>float32</th><th>float32</th><th>float32</th><th>float32</th><th>str38</th><th>str19</th><th>str29</th></tr></thead>\n",
       "<tr><td>SPT-CLJ0000-2518</td><td>0.072338357</td><td>-25.303935</td><td>ra1hdec-25</td><td>5.073545</td><td>1.5</td><td>0.0</td><td>0.0</td><td>0</td><td>0.0</td><td>0.0</td><td>-</td><td>0.0</td><td>0.0</td><td>0.0</td><td>0.0</td><td>0.0</td><td>0.0</td><td>0.0</td><td>1.0</td><td></td><td></td><td></td></tr>\n",
       "<tr><td>SPT-CLJ0005-3751</td><td>1.4383179</td><td>-37.854369</td><td>ra1hdec-35</td><td>6.336327</td><td>0.75</td><td>0.48295808</td><td>0.0072415886</td><td>0</td><td>4.0</td><td>0.00061007956</td><td>-</td><td>5.419</td><td>0.887</td><td>0.887</td><td>86.40839</td><td>4.7352147</td><td>0.0</td><td>1.0</td><td>3.0</td><td></td><td></td><td></td></tr>\n",
       "</table>"
      ],
      "text/plain": [
       "<Table length=2>\n",
       "     SPT_ID           RA     ...        PHOTOMETRIC_ZREF      \n",
       "     str16         float64   ...             str29            \n",
       "---------------- ----------- ... -----------------------------\n",
       "SPT-CLJ0000-2518 0.072338357 ...                              \n",
       "SPT-CLJ0005-3751   1.4383179 ...                              "
      ]
     },
     "execution_count": 20,
     "metadata": {},
     "output_type": "execute_result"
    }
   ],
   "source": [
    "data = Table(getdata(fname))\n",
    "data[:2]"
   ]
  },
  {
   "cell_type": "code",
   "execution_count": 21,
   "id": "29f296e7",
   "metadata": {
    "ExecuteTime": {
     "end_time": "2022-06-08T17:53:10.923831Z",
     "start_time": "2022-06-08T17:53:10.921845Z"
    }
   },
   "outputs": [],
   "source": [
    "sz_signal = np.array(data['XI'])\n",
    "lambda_chisq = np.array(data['LAMBDA_CHISQ'])\n",
    "lambda_chisqE = np.array(data['LAMBDA_CHISQ_E'])\n",
    "redshift = np.array(data['REDSHIFT'])"
   ]
  },
  {
   "cell_type": "code",
   "execution_count": 22,
   "id": "d4779903",
   "metadata": {
    "ExecuteTime": {
     "end_time": "2022-06-08T17:53:10.926980Z",
     "start_time": "2022-06-08T17:53:10.924725Z"
    }
   },
   "outputs": [],
   "source": [
    "# getting some observational data to debug the code\n",
    "Np = 10\n",
    "ix = np.where(lambda_chisq>30)[0][:Np] # take 10 points\n",
    "\n",
    "z = redshift[ix]\n",
    "chisi = np.log(sz_signal[ix])\n",
    "lbd_hat = np.log(lambda_chisq[ix])\n",
    "lbd_err = np.log(lambda_chisqE[ix])"
   ]
  },
  {
   "cell_type": "code",
   "execution_count": 126,
   "id": "9ad3be5c",
   "metadata": {
    "ExecuteTime": {
     "end_time": "2022-06-08T18:31:39.310666Z",
     "start_time": "2022-06-08T18:31:39.299569Z"
    }
   },
   "outputs": [
    {
     "name": "stdout",
     "output_type": "stream",
     "text": [
      "Vector size\n",
      "50\n",
      "50\n",
      "50\n"
     ]
    }
   ],
   "source": [
    "# set up integration vectors\n",
    "mvec = np.log(np.logspace(13.5, 16, 50)/M0)\n",
    "lbdvec = np.log(np.linspace(5., 1.5*np.max(lambda_chisq), 50))\n",
    "lbdhatvec = np.log(np.linspace(40., 3*np.max(lambda_chisq), 50))\n",
    "zetavec = np.log(np.linspace(1., 1.3*np.max(sz_signal), 50))\n",
    "\n",
    "print('Vector size')\n",
    "print(mvec.size)\n",
    "print(lbdvec.size)\n",
    "print(zetavec.size)"
   ]
  },
  {
   "cell_type": "code",
   "execution_count": 61,
   "id": "c9ff57d2",
   "metadata": {
    "ExecuteTime": {
     "end_time": "2022-06-08T17:59:20.355218Z",
     "start_time": "2022-06-08T17:59:20.254495Z"
    }
   },
   "outputs": [
    {
     "name": "stdout",
     "output_type": "stream",
     "text": [
      "ln_lbd_pred shape: (50, 10)\n",
      "ln_zeta_pred shape: (50, 10)\n",
      "halo_mass_func shape: (50, 10)\n",
      "Lambda predictions as a function of mass for the first object\n"
     ]
    },
    {
     "data": {
      "text/plain": [
       "array([   8.3316037 ,    9.39224517,   10.5879099 ,   11.93578682,\n",
       "         13.45525305,   15.16815249,   17.09910985,   19.27588465,\n",
       "         21.72977027,   24.49604388,   27.61447352,   31.12988985,\n",
       "         35.09283063,   39.56026723,   44.5964237 ,   50.27370001,\n",
       "         56.67371288,   63.88846914,   72.0216884 ,   81.19029411,\n",
       "         91.52609448,  103.17767737,  116.31254636,  131.11952882,\n",
       "        147.81149046,  166.62839555,  187.84075662,  211.75352333,\n",
       "        238.71046653,  269.0991202 ,  303.35635277,  341.97464747,\n",
       "        385.50918234,  434.58581145,  489.91006225,  552.27727819,\n",
       "        622.58405269,  701.84111852,  791.18787821,  891.90878406,\n",
       "       1005.45180353, 1133.44923527, 1277.74117509, 1440.40196925,\n",
       "       1623.77003532, 1830.4814794 , 2063.50799285, 2326.19957343,\n",
       "       2622.33268501, 2956.16454814])"
      ]
     },
     "execution_count": 61,
     "metadata": {},
     "output_type": "execute_result"
    }
   ],
   "source": [
    "# setting grid for integration\n",
    "mm, zz = np.meshgrid(mvec, z)\n",
    "mm2, zz = np.meshgrid(np.exp(mvec)*M0, z)\n",
    "lbd_hatt, ll = np.meshgrid(lbd_hat, lbdvec)\n",
    "\n",
    "# calling predictions; \n",
    "ln_lbd_pred = ln_lbd_given_M([A_lambda, B_lambda, C_lambda, scatter_lambda],mm,zz).T\n",
    "ln_zeta_pred= ln_zeta_given_M([A_sze, B_sze, C_sze, scatter_sze],mm,zz).T\n",
    "\n",
    "# need to implement an interpolation scheme\n",
    "# for now try np.vectorize(halo_mass_function)\n",
    "halo_mass_function2 = np.vectorize(halo_mass_function)\n",
    "halo_mass_func = (halo_mass_function2(mm2, zz)*mm2) .T\n",
    "\n",
    "print('ln_lbd_pred shape:',ln_lbd_pred.shape)\n",
    "print('ln_zeta_pred shape:',ln_zeta_pred.shape)\n",
    "print('halo_mass_func shape:',halo_mass_func.shape)\n",
    "print('Lambda predictions as a function of mass for the first object')\n",
    "np.exp(ln_lbd_pred[:,0])\n",
    "# halo_mass_func[:,0]"
   ]
  },
  {
   "cell_type": "code",
   "execution_count": null,
   "id": "4b3a208b",
   "metadata": {
    "ExecuteTime": {
     "end_time": "2022-06-08T05:15:53.659889Z",
     "start_time": "2022-06-08T05:15:53.611028Z"
    }
   },
   "outputs": [],
   "source": []
  },
  {
   "cell_type": "code",
   "execution_count": 62,
   "id": "938694ad",
   "metadata": {
    "ExecuteTime": {
     "end_time": "2022-06-08T17:59:20.721304Z",
     "start_time": "2022-06-08T17:59:20.718641Z"
    }
   },
   "outputs": [],
   "source": [
    "# simps(halo_mass_function2(mvec,0.1)*mvec,x=np.log(mvec/M0))"
   ]
  },
  {
   "cell_type": "code",
   "execution_count": 63,
   "id": "ffe5dcb1",
   "metadata": {
    "ExecuteTime": {
     "end_time": "2022-06-08T17:59:21.362493Z",
     "start_time": "2022-06-08T17:59:20.944695Z"
    }
   },
   "outputs": [
    {
     "data": {
      "image/png": "[encoded data removed]",
      "text/plain": [
       "<Figure size 432x288 with 1 Axes>"
      ]
     },
     "metadata": {
      "needs_background": "light"
     },
     "output_type": "display_data"
    }
   ],
   "source": [
    "plt.scatter(mm2[0],halo_mass_function2(mm2[0],0.))\n",
    "# plt.scatter(mvec/M0,halo_mass_function2(mvec,0.1))\n",
    "plt.xscale('log')\n",
    "plt.yscale('log')"
   ]
  },
  {
   "cell_type": "code",
   "execution_count": null,
   "id": "6795c18d",
   "metadata": {},
   "outputs": [],
   "source": []
  },
  {
   "cell_type": "code",
   "execution_count": 64,
   "id": "ec425ed9",
   "metadata": {
    "ExecuteTime": {
     "end_time": "2022-06-08T17:59:21.731326Z",
     "start_time": "2022-06-08T17:59:21.725846Z"
    }
   },
   "outputs": [],
   "source": [
    "# halo_mass_func"
   ]
  },
  {
   "cell_type": "code",
   "execution_count": 65,
   "id": "3960217f",
   "metadata": {
    "ExecuteTime": {
     "end_time": "2022-06-08T17:59:21.974119Z",
     "start_time": "2022-06-08T17:59:21.963926Z"
    }
   },
   "outputs": [
    {
     "name": "stdout",
     "output_type": "stream",
     "text": [
      "dn_dlbd_dzeta shape: (10,)\n",
      "[1.49864954e+12 3.37182944e+12 6.37409728e+11 8.20822716e+11\n",
      " 3.90124629e+12 6.43918086e+11 4.31870211e+12 3.06864704e+12\n",
      " 3.04336152e+12 1.29791575e+12]\n"
     ]
    }
   ],
   "source": [
    "# test function \n",
    "# debuging here\n",
    "eps  =1e-9\n",
    "lbd  = np.mean(lbd_hat)\n",
    "zeta = np.mean(chisi)\n",
    "dn_dlbd_dzeta = compute_dn_dlbd_dzeta(lbd, zeta, ln_lbd_pred, ln_zeta_pred, halo_mass_func,\n",
    "                                      scatter_lambda, scatter_zeta, rho)\n",
    "\n",
    "print('dn_dlbd_dzeta shape:',dn_dlbd_dzeta.shape)\n",
    "print(dn_dlbd_dzeta)"
   ]
  },
  {
   "cell_type": "code",
   "execution_count": null,
   "id": "ea1d1acf",
   "metadata": {
    "ExecuteTime": {
     "end_time": "2022-06-08T05:24:58.753146Z",
     "start_time": "2022-06-08T05:24:58.745871Z"
    }
   },
   "outputs": [],
   "source": []
  },
  {
   "cell_type": "code",
   "execution_count": 66,
   "id": "b07b7ff9",
   "metadata": {
    "ExecuteTime": {
     "end_time": "2022-06-08T17:59:22.431805Z",
     "start_time": "2022-06-08T17:59:22.420867Z"
    }
   },
   "outputs": [
    {
     "name": "stdout",
     "output_type": "stream",
     "text": [
      "[ 5.38452353  5.11467845  4.84483337  4.57498829  4.30514321  4.03529813\n",
      "  3.76545306  3.49560798  3.2257629   2.95591782  2.68607274  2.41622767\n",
      "  2.14638259  1.87653751  1.60669243  1.33684735  1.06700227  0.7971572\n",
      "  0.52731212  0.25746704 -0.01237804 -0.28222312 -0.5520682  -0.82191327\n",
      " -1.09175835 -1.36160343 -1.63144851 -1.90129359 -2.17113866 -2.44098374\n",
      " -2.71082882 -2.9806739  -3.25051898 -3.52036406 -3.79020913 -4.06005421\n",
      " -4.32989929 -4.59974437 -4.86958945 -5.13943452 -5.4092796  -5.67912468\n",
      " -5.94896976 -6.21881484 -6.48865992 -6.75850499 -7.02835007 -7.29819515\n",
      " -7.56804023 -7.83788531]\n"
     ]
    }
   ],
   "source": [
    "# input\n",
    "# lbd, zeta, scatter_lbd/zeta and rho: float: numbers\n",
    "# ln_lbd/zeta_pred; halo_mass_func are nsize x msize vectors\n",
    "# output: nsize array\n",
    "s_lambda = np.sqrt((scatter_lambda)**2 + (lbd-1)/lbd**2)#np.std(lbd_hat) #np.sqrt(scatter_lambda** + 1/lbd**2)\n",
    "s_zeta = scatter_zeta\n",
    "\n",
    "# avoid error messages\n",
    "rho_inv = (1-rho**2)\n",
    "rho_inv = np.where(rho_inv<=eps, -np.inf, 1/rho_inv)\n",
    "\n",
    "# defining standirized variables\n",
    "lbd_std = (lbd - ln_lbd_pred)/s_lambda\n",
    "zeta_std = (zeta - ln_zeta_pred)/s_zeta\n",
    "\n",
    "# print(np.exp(ln_lbd_pred[:,0]))\n",
    "print(lbd_std[:,2])"
   ]
  },
  {
   "cell_type": "code",
   "execution_count": 67,
   "id": "70ccfeeb",
   "metadata": {
    "ExecuteTime": {
     "end_time": "2022-06-08T17:59:22.677773Z",
     "start_time": "2022-06-08T17:59:22.672969Z"
    }
   },
   "outputs": [],
   "source": [
    "# ln_lbd_pred"
   ]
  },
  {
   "cell_type": "code",
   "execution_count": 68,
   "id": "ecfe4a1a",
   "metadata": {
    "ExecuteTime": {
     "end_time": "2022-06-08T17:59:22.888990Z",
     "start_time": "2022-06-08T17:59:22.879601Z"
    }
   },
   "outputs": [],
   "source": [
    "# lbd_likelihood\n",
    "lp_lbd  = -rho_inv*lbd_std**2/2 - ((lbd-lbd_hat)/lbd_err)**2/2.\n",
    "\n",
    "# zeta likelihood\n",
    "lp_zeta = -rho_inv*zeta_std**2/2 -(chisi-np.sqrt(zeta**2+3))**2/2.\n",
    "\n",
    "# corr likelihod\n",
    "lp_corr = rho*rho_inv*lbd_std*zeta_std\n",
    "\n",
    "# debuging here\n",
    "lp_total_m = lp_lbd+lp_zeta+lp_corr\n",
    "\n",
    "p_total_m = np.exp(lp_total_m)*halo_mass_func\n",
    "\n",
    "# integrate over M\n",
    "lp_total = simps(p_total_m, x=mvec, axis=0)"
   ]
  },
  {
   "cell_type": "code",
   "execution_count": 145,
   "id": "958c111b",
   "metadata": {
    "ExecuteTime": {
     "end_time": "2022-06-08T19:10:06.189536Z",
     "start_time": "2022-06-08T19:10:06.185128Z"
    }
   },
   "outputs": [],
   "source": []
  },
  {
   "cell_type": "code",
   "execution_count": 155,
   "id": "5ca6be06",
   "metadata": {
    "ExecuteTime": {
     "end_time": "2022-06-08T19:17:02.888740Z",
     "start_time": "2022-06-08T19:17:02.882568Z"
    }
   },
   "outputs": [],
   "source": [
    "def prob_chisi(zeta, chisi):\n",
    "    return np.exp(-(chisi-np.sqrt(zeta**2+2))**2/2.)/np.sqrt(2*np.pi)\n",
    "\n",
    "def gaussian(x,mu,std):\n",
    "    return np.exp((x-mu)**2/std**2)/np.sqrt(2*np.pi*std)\n",
    "\n",
    "def prob_lbd_hat(lbd, lbd_hat, lbd_error):\n",
    "    return gaussian(lbd, lbd_hat, lbd_error)"
   ]
  },
  {
   "cell_type": "code",
   "execution_count": 226,
   "id": "b0da2c7c",
   "metadata": {
    "ExecuteTime": {
     "end_time": "2022-06-08T19:47:58.043151Z",
     "start_time": "2022-06-08T19:47:57.822940Z"
    }
   },
   "outputs": [],
   "source": [
    "# integrating over zeta, lambda\n",
    "res_zeta = np.full((zetavec.size, nsize),-np.inf,dtype=float)\n",
    "res_lbd = np.full((lbdvec.size, nsize),-np.inf,dtype=float)\n",
    "\n",
    "for j,lbd in enumerate(lbdvec):\n",
    "    for i,zeta in enumerate(zetavec):\n",
    "        dn_dlbd_dzeta_m = compute_dn_dlbd_dzeta(lbd, zeta, lbd_hat, lbd_err, chisi, ln_lbd_pred, ln_zeta_pred, halo_mass_func,\n",
    "                                              scatter_lambda, scatter_zeta, rho)\n",
    "        dn_dlbd_dzeta = np.trapz(dn_dlbd_dzeta_m, x=mvec, axis=0)\n",
    "        res_zeta[i] = dn_dlbd_dzeta/np.max(dn_dlbd_dzeta)\n",
    "    # integrate over zeta for a given lambda\n",
    "    res_lbd[j] = np.trapz(res_zeta, x=zetavec, axis=0)\n",
    "# integrate over lambda\n",
    "prob = np.trapz(res_lbd, x=lbdvec, axis=0)\n",
    "# normalize over all posibilities\n",
    "prob = prob/np.sum(prob)"
   ]
  },
  {
   "cell_type": "code",
   "execution_count": 223,
   "id": "2f55af13",
   "metadata": {
    "ExecuteTime": {
     "end_time": "2022-06-08T19:46:29.814310Z",
     "start_time": "2022-06-08T19:46:29.810397Z"
    }
   },
   "outputs": [],
   "source": [
    "# prob = marginalize_over_lbd_zeta(lbd_hat, lbd_err, chisi, ln_lbd_pred, ln_zeta_pred, halo_mass_func,\n",
    "#                                  scatter_lambda, scatter_zeta, rho)\n"
   ]
  },
  {
   "cell_type": "code",
   "execution_count": 233,
   "id": "68d0d6f4",
   "metadata": {
    "ExecuteTime": {
     "end_time": "2022-06-08T19:50:12.805726Z",
     "start_time": "2022-06-08T19:50:12.798375Z"
    }
   },
   "outputs": [
    {
     "data": {
      "text/plain": [
       "array([0.09974985, 0.1009626 , 0.09954283, 0.09925592, 0.10055563,\n",
       "       0.09920191, 0.10097914, 0.10070852, 0.09985232, 0.09919128])"
      ]
     },
     "execution_count": 233,
     "metadata": {},
     "output_type": "execute_result"
    }
   ],
   "source": [
    "a = np.trapz(dn_dlbd_dzeta_m, x=mvec, axis=0)\n",
    "a = a/np.sum(a)\n",
    "a"
   ]
  },
  {
   "cell_type": "code",
   "execution_count": 234,
   "id": "c0eb6982",
   "metadata": {
    "ExecuteTime": {
     "end_time": "2022-06-08T19:50:13.590413Z",
     "start_time": "2022-06-08T19:50:13.580761Z"
    }
   },
   "outputs": [
    {
     "data": {
      "text/plain": [
       "array([0.03841175, 0.14731263, 0.00815548, 0.01702758, 0.26746486,\n",
       "       0.01014699, 0.1504579 , 0.0815578 , 0.23698223, 0.04248279])"
      ]
     },
     "execution_count": 234,
     "metadata": {},
     "output_type": "execute_result"
    }
   ],
   "source": [
    "b = simps(np.exp(dn_dlbd_dzeta_m), x=mvec, axis=0)\n",
    "b = b/np.sum(b)\n",
    "b"
   ]
  },
  {
   "cell_type": "code",
   "execution_count": 236,
   "id": "959b8a01",
   "metadata": {
    "ExecuteTime": {
     "end_time": "2022-06-08T19:50:24.095552Z",
     "start_time": "2022-06-08T19:50:23.989546Z"
    }
   },
   "outputs": [
    {
     "data": {
      "text/plain": [
       "<matplotlib.collections.PathCollection at 0x7f9770040610>"
      ]
     },
     "execution_count": 236,
     "metadata": {},
     "output_type": "execute_result"
    },
    {
     "data": {
      "image/png": "[encoded data removed]",
      "text/plain": [
       "<Figure size 432x288 with 1 Axes>"
      ]
     },
     "metadata": {
      "needs_background": "light"
     },
     "output_type": "display_data"
    }
   ],
   "source": [
    "plt.scatter(a,b)"
   ]
  },
  {
   "cell_type": "code",
   "execution_count": 225,
   "id": "6c7b91ff",
   "metadata": {
    "ExecuteTime": {
     "end_time": "2022-06-08T19:46:38.223170Z",
     "start_time": "2022-06-08T19:46:38.083906Z"
    }
   },
   "outputs": [
    {
     "data": {
      "image/png": "[encoded data removed]",
      "text/plain": [
       "<Figure size 432x288 with 1 Axes>"
      ]
     },
     "metadata": {
      "needs_background": "light"
     },
     "output_type": "display_data"
    }
   ],
   "source": [
    "for i in range(10):\n",
    "    plt.scatter(mvec, dn_dlbd_dzeta_m[:,i])"
   ]
  },
  {
   "cell_type": "code",
   "execution_count": 238,
   "id": "dd2ecad5",
   "metadata": {
    "ExecuteTime": {
     "end_time": "2022-06-08T19:57:00.703759Z",
     "start_time": "2022-06-08T19:57:00.554572Z"
    }
   },
   "outputs": [
    {
     "data": {
      "image/png": "[encoded data removed]",
      "text/plain": [
       "<Figure size 432x288 with 1 Axes>"
      ]
     },
     "metadata": {
      "needs_background": "light"
     },
     "output_type": "display_data"
    }
   ],
   "source": [
    "for i in range(10):\n",
    "    plt.scatter(mvec, np.exp(dn_dlbd_dzeta_m[:,i]))"
   ]
  },
  {
   "cell_type": "code",
   "execution_count": null,
   "id": "184ec0a3",
   "metadata": {},
   "outputs": [],
   "source": []
  },
  {
   "cell_type": "code",
   "execution_count": null,
   "id": "9ed23a53",
   "metadata": {},
   "outputs": [],
   "source": []
  },
  {
   "cell_type": "code",
   "execution_count": null,
   "id": "f94b70f7",
   "metadata": {},
   "outputs": [],
   "source": [
    "for i,zeta in enumerate(zetavec):\n",
    "    dn_dlbd_dzeta = compute_dn_dlbd_dzeta(lbd, zeta, ln_lbd_pred, ln_zeta_pred, halo_mass_func,\n",
    "                                          scatter_lambda, scatter_zeta, rho)\n",
    "    res_zeta[i] = dn_dlbd_dzeta/np.max(dn_dlbd_dzeta)\n",
    "# integrate over zeta for a given lambda\n",
    "res_lbd[j] = simps(res_zeta*prob_chisi(ztt, chh), x=zetavec, axis=0)\n"
   ]
  },
  {
   "cell_type": "code",
   "execution_count": 178,
   "id": "6c34124b",
   "metadata": {
    "ExecuteTime": {
     "end_time": "2022-06-08T19:30:10.237497Z",
     "start_time": "2022-06-08T19:30:10.217358Z"
    }
   },
   "outputs": [
    {
     "ename": "TypeError",
     "evalue": "marginalize_over_lbd_zeta() missing 2 required positional arguments: 'scatter_zeta' and 'rho'",
     "output_type": "error",
     "traceback": [
      "\u001b[0;31m---------------------------------------------------------------------------\u001b[0m",
      "\u001b[0;31mTypeError\u001b[0m                                 Traceback (most recent call last)",
      "\u001b[0;32m<ipython-input-178-8faa02593972>\u001b[0m in \u001b[0;36m<module>\u001b[0;34m\u001b[0m\n\u001b[0;32m----> 1\u001b[0;31m prob = marginalize_over_lbd_zeta(ln_lbd_pred, ln_zeta_pred, halo_mass_func,\n\u001b[0m\u001b[1;32m      2\u001b[0m                                  scatter_lambda, scatter_zeta, rho)\n",
      "\u001b[0;31mTypeError\u001b[0m: marginalize_over_lbd_zeta() missing 2 required positional arguments: 'scatter_zeta' and 'rho'"
     ]
    }
   ],
   "source": [
    "prob = marginalize_over_lbd_zeta(lbd_hat, chisi, ln_lbd_pred, ln_zeta_pred, halo_mass_func,\n",
    "                                 scatter_lambda, scatter_zeta, rho)\n"
   ]
  },
  {
   "cell_type": "code",
   "execution_count": 159,
   "id": "1fc5287d",
   "metadata": {
    "ExecuteTime": {
     "end_time": "2022-06-08T19:18:59.293815Z",
     "start_time": "2022-06-08T19:18:59.285798Z"
    }
   },
   "outputs": [
    {
     "data": {
      "text/plain": [
       "array([0.59661499, 1.303907  , 0.3244122 , 0.33480931, 0.96492445,\n",
       "       0.28200319, 1.74429093, 1.3283009 , 0.63987832, 0.44931586])"
      ]
     },
     "execution_count": 159,
     "metadata": {},
     "output_type": "execute_result"
    }
   ],
   "source": [
    "norm"
   ]
  },
  {
   "cell_type": "code",
   "execution_count": null,
   "id": "a7a243d3",
   "metadata": {
    "ExecuteTime": {
     "end_time": "2022-06-08T18:59:20.466304Z",
     "start_time": "2022-06-08T18:59:05.535Z"
    }
   },
   "outputs": [],
   "source": [
    "norm = np.array([marginalize_over_lbd_zeta(lbdh, chisi, ln_lbd_pred, ln_zeta_pred, halo_mass_func,\n",
    "                                           scatter_lambda, scatter_zeta, rho) for lbdh in lbdhatvec])\n",
    "# norm = simps(norm, x=lbdhatvec)\n"
   ]
  },
  {
   "cell_type": "code",
   "execution_count": 138,
   "id": "297b2800",
   "metadata": {
    "ExecuteTime": {
     "end_time": "2022-06-08T19:02:56.237226Z",
     "start_time": "2022-06-08T19:02:55.837241Z"
    }
   },
   "outputs": [],
   "source": [
    "prob_lbd_hat = marginalize_over_lbd_zeta(lbd_hat, chisi, ln_lbd_pred, ln_zeta_pred, halo_mass_func,\n",
    "                                         scatter_lambda, scatter_zeta, rho)\n"
   ]
  },
  {
   "cell_type": "code",
   "execution_count": 140,
   "id": "184ef34d",
   "metadata": {
    "ExecuteTime": {
     "end_time": "2022-06-08T19:03:40.995708Z",
     "start_time": "2022-06-08T19:03:23.592870Z"
    }
   },
   "outputs": [],
   "source": [
    "norm = np.array([marginalize_over_lbd_zeta(lbdh, chisi, ln_lbd_pred, ln_zeta_pred, halo_mass_func,\n",
    "                                           scatter_lambda, scatter_zeta, rho) for lbdh in lbdhatvec])\n"
   ]
  },
  {
   "cell_type": "code",
   "execution_count": 187,
   "id": "4d7b225d",
   "metadata": {
    "ExecuteTime": {
     "end_time": "2022-06-08T19:35:18.787457Z",
     "start_time": "2022-06-08T19:35:18.783045Z"
    }
   },
   "outputs": [],
   "source": [
    "dn_dlbd_dzeta = compute_dn_dlbd_dzeta(lbd, zeta, lbd_hat, lbd_err, chisi, ln_lbd_pred, ln_zeta_pred, halo_mass_func,\n",
    "                                      scatter_lambda, scatter_zeta, rho)\n"
   ]
  },
  {
   "cell_type": "code",
   "execution_count": null,
   "id": "5b8fee79",
   "metadata": {},
   "outputs": [],
   "source": []
  },
  {
   "cell_type": "code",
   "execution_count": 148,
   "id": "771a9b16",
   "metadata": {
    "ExecuteTime": {
     "end_time": "2022-06-08T19:10:41.979896Z",
     "start_time": "2022-06-08T19:10:41.977310Z"
    }
   },
   "outputs": [],
   "source": [
    "# ## computing normalization factor\n",
    "# # build lbd_hat going over all the indices\n",
    "\n",
    "# # integrating over zeta, lambda\n",
    "# prob_lbd_hat = marginalize_over_lbd_zeta(lbd_hat, chisi, ln_lbd_pred, ln_zeta_pred, halo_mass_func,\n",
    "#                                          scatter_lambda, scatter_zeta, rho)\n",
    "# # normalization factor\n",
    "# norm = marginalize_over_lbd_zeta(lbdhatvec, chisi, ln_lbd_pred, ln_zeta_pred, halo_mass_func,\n",
    "#                                  scatter_lambda, scatter_zeta, rho)\n",
    "# prob = prob_lbd_hat/norm\n",
    "# log_prob = np.log(prob)\n"
   ]
  },
  {
   "cell_type": "code",
   "execution_count": 197,
   "id": "57c431eb",
   "metadata": {
    "ExecuteTime": {
     "end_time": "2022-06-08T19:40:02.664681Z",
     "start_time": "2022-06-08T19:40:02.659931Z"
    }
   },
   "outputs": [
    {
     "data": {
      "text/plain": [
       "(50, 10)"
      ]
     },
     "execution_count": 197,
     "metadata": {},
     "output_type": "execute_result"
    }
   ],
   "source": [
    "ln_lbd_pred.shape"
   ]
  },
  {
   "cell_type": "code",
   "execution_count": 195,
   "id": "3963782f",
   "metadata": {
    "ExecuteTime": {
     "end_time": "2022-06-08T19:38:42.389595Z",
     "start_time": "2022-06-08T19:38:42.381863Z"
    }
   },
   "outputs": [
    {
     "data": {
      "text/plain": [
       "(50, 10)"
      ]
     },
     "execution_count": 195,
     "metadata": {},
     "output_type": "execute_result"
    }
   ],
   "source": [
    "p_total_m.shape"
   ]
  },
  {
   "cell_type": "code",
   "execution_count": 18,
   "id": "ae2b9de9-4fc4-40ba-87b0-af271e570505",
   "metadata": {},
   "outputs": [],
   "source": [
    "def log_likelihood_lambda():\n",
    "    equationPt1 = (1/((-2)*(1 - (rho)**2)))*[((lbd - ln_lbd_given_M)/(scatter_lambda))**2 \n",
    "                + (-2)*(rho)*((lbd - ln_lbd_given_M)/(scatter_lambda))]\n",
    "    equationPt2 = (-1/2)*((lbd - lbd_hat)/lbd_error)**2\n",
    "    return (equationPt1) + (equationPt2)\n",
    "\n",
    "def log_likelihood_zeta():\n",
    "    eq1 = (chsi - math.sqrt((zeta)**2 + 3))**2\n",
    "    eq2 = ((zeta - ln_zeta_given_M)/(scatter_zeta))**2\n",
    "    return (eq1 + eq2)\n",
    "    \n",
    "def log_likelihood_correlation():\n",
    "    equation = (-2*rho)*((lbd - ln_lbd_given_M)/(scatter_lambda))*((zeta - ln_zeta_given_M)/(scatter_zeta))\n",
    "    return equation\n",
    "    \n",
    "def log_likelihood_total():\n",
    "    return (log_likelihood_lambda + log_likelihood_zeta + log_likelihood_correlation + np.log(hal0_mass_function(M, z)))\n"
   ]
  }
 ],
 "metadata": {
  "kernelspec": {
   "display_name": "Python 3",
   "language": "python",
   "name": "python3"
  },
  "language_info": {
   "codemirror_mode": {
    "name": "ipython",
    "version": 3
   },
   "file_extension": ".py",
   "mimetype": "text/x-python",
   "name": "python",
   "nbconvert_exporter": "python",
   "pygments_lexer": "ipython3",
   "version": "3.8.8"
  },
  "latex_envs": {
   "LaTeX_envs_menu_present": true,
   "autoclose": true,
   "autocomplete": true,
   "bibliofile": "biblio.bib",
   "cite_by": "apalike",
   "current_citInitial": 1,
   "eqLabelWithNumbers": true,
   "eqNumInitial": 1,
   "hotkeys": {
    "equation": "Ctrl-E",
    "itemize": "Ctrl-I"
   },
   "labels_anchors": false,
   "latex_user_defs": false,
   "report_style_numbering": true,
   "user_envs_cfg": false
  },
  "toc": {
   "base_numbering": 1,
   "nav_menu": {},
   "number_sections": true,
   "sideBar": true,
   "skip_h1_title": false,
   "title_cell": "Table of Contents",
   "title_sidebar": "Contents",
   "toc_cell": false,
   "toc_position": {},
   "toc_section_display": true,
   "toc_window_display": false
  }
 },
 "nbformat": 4,
 "nbformat_minor": 5
}
