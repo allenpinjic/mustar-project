{
 "cells": [
  {
   "cell_type": "markdown",
   "id": "fdad981e-2966-4cab-8c4d-303294e41d23",
   "metadata": {},
   "source": [
    "# Implementing the SPT Model"
   ]
  },
  {
   "cell_type": "markdown",
   "id": "133223a3-e832-4d56-a3a2-438f59138cc6",
   "metadata": {},
   "source": [
    "Modifications: Johnny Esteves\\\n",
    "Author: Allen Pinjic - Created on June 6th, 2022"
   ]
  },
  {
   "cell_type": "code",
   "execution_count": 1,
   "id": "6dc085b0-5c86-4a63-a186-b4b078226b79",
   "metadata": {
    "ExecuteTime": {
     "end_time": "2022-06-08T21:21:17.226494Z",
     "start_time": "2022-06-08T21:21:16.600538Z"
    }
   },
   "outputs": [],
   "source": [
    "from astropy.io.fits import getdata\n",
    "from astropy.table import Table\n",
    "from astropy.cosmology import WMAP9 as cosmo"
   ]
  },
  {
   "cell_type": "code",
   "execution_count": 2,
   "id": "45b01c2b-1af4-4b63-a438-7ad66fa5bda1",
   "metadata": {
    "ExecuteTime": {
     "end_time": "2022-06-08T21:21:24.969321Z",
     "start_time": "2022-06-08T21:21:17.227604Z"
    }
   },
   "outputs": [],
   "source": [
    "import numpy as np\n",
    "import pandas as pd\n",
    "import arviz as az\n",
    "import matplotlib.pyplot as plt\n",
    "import pylab as plt\n",
    "import pymc3 as pm\n",
    "import aesara\n",
    "import matplotlib.font_manager\n",
    "import scipy.stats\n",
    "import scipy.optimize\n",
    "import math"
   ]
  },
  {
   "cell_type": "code",
   "execution_count": 3,
   "id": "7ade0296-e210-4b94-8dd9-7a92f3f7e9e9",
   "metadata": {
    "ExecuteTime": {
     "end_time": "2022-06-08T21:21:24.974156Z",
     "start_time": "2022-06-08T21:21:24.970900Z"
    }
   },
   "outputs": [],
   "source": [
    "%matplotlib inline"
   ]
  },
  {
   "cell_type": "markdown",
   "id": "d9812834-1063-43f2-8a77-3cdb995a5bae",
   "metadata": {},
   "source": [
    "## Retrieving SPT Data"
   ]
  },
  {
   "cell_type": "code",
   "execution_count": 4,
   "id": "ded19345",
   "metadata": {
    "ExecuteTime": {
     "end_time": "2022-06-08T21:21:25.013076Z",
     "start_time": "2022-06-08T21:21:24.975362Z"
    }
   },
   "outputs": [
    {
     "data": {
      "text/html": [
       "<i>Table length=2</i>\n",
       "<table id=\"table140280516592688\" class=\"table-striped table-bordered table-condensed\">\n",
       "<thead><tr><th>SPT_ID</th><th>RA</th><th>DEC</th><th>FIELD</th><th>XI</th><th>THETA_CORE</th><th>REDSHIFT</th><th>REDSHIFT_UNC</th><th>SPECZ</th><th>REDSHIFT_SOURCE</th><th>RM_PROB</th><th>CL_NOTES</th><th>M500</th><th>M500_UERR</th><th>M500_LERR</th><th>LAMBDA_CHISQ</th><th>LAMBDA_CHISQ_E</th><th>RADIO_CONTAM</th><th>STRONG_LENS</th><th>IMAGE_SOURCE</th><th>SPECZ_REF</th><th>STRONG_LENS_REF</th><th>PHOTOMETRIC_ZREF</th></tr></thead>\n",
       "<thead><tr><th>str16</th><th>float64</th><th>float64</th><th>str11</th><th>float32</th><th>float32</th><th>float32</th><th>float32</th><th>int16</th><th>float32</th><th>float32</th><th>str50</th><th>float32</th><th>float32</th><th>float32</th><th>float32</th><th>float32</th><th>float32</th><th>float32</th><th>float32</th><th>str38</th><th>str19</th><th>str29</th></tr></thead>\n",
       "<tr><td>SPT-CLJ0000-2518</td><td>0.072338357</td><td>-25.303935</td><td>ra1hdec-25</td><td>5.073545</td><td>1.5</td><td>0.0</td><td>0.0</td><td>0</td><td>0.0</td><td>0.0</td><td>-</td><td>0.0</td><td>0.0</td><td>0.0</td><td>0.0</td><td>0.0</td><td>0.0</td><td>0.0</td><td>1.0</td><td></td><td></td><td></td></tr>\n",
       "<tr><td>SPT-CLJ0005-3751</td><td>1.4383179</td><td>-37.854369</td><td>ra1hdec-35</td><td>6.336327</td><td>0.75</td><td>0.48295808</td><td>0.0072415886</td><td>0</td><td>4.0</td><td>0.00061007956</td><td>-</td><td>5.419</td><td>0.887</td><td>0.887</td><td>86.40839</td><td>4.7352147</td><td>0.0</td><td>1.0</td><td>3.0</td><td></td><td></td><td></td></tr>\n",
       "</table>"
      ],
      "text/plain": [
       "<Table length=2>\n",
       "     SPT_ID           RA     ...        PHOTOMETRIC_ZREF      \n",
       "     str16         float64   ...             str29            \n",
       "---------------- ----------- ... -----------------------------\n",
       "SPT-CLJ0000-2518 0.072338357 ...                              \n",
       "SPT-CLJ0005-3751   1.4383179 ...                              "
      ]
     },
     "execution_count": 4,
     "metadata": {},
     "output_type": "execute_result"
    }
   ],
   "source": [
    "fname = '../data_set/sptecs_catalog_oct919.fits'\n",
    "\n",
    "data = Table(getdata(fname))\n",
    "data[:2]"
   ]
  },
  {
   "cell_type": "code",
   "execution_count": 5,
   "id": "2eea0be8",
   "metadata": {
    "ExecuteTime": {
     "end_time": "2022-06-08T21:21:25.016165Z",
     "start_time": "2022-06-08T21:21:25.014102Z"
    }
   },
   "outputs": [],
   "source": [
    "sz_signal = np.array(data['XI'])\n",
    "lambda_chisq = np.array(data['LAMBDA_CHISQ'])\n",
    "lambda_chisqE = np.array(data['LAMBDA_CHISQ_E'])\n",
    "redshift = np.array(data['REDSHIFT'])"
   ]
  },
  {
   "cell_type": "code",
   "execution_count": null,
   "id": "546c4dfe",
   "metadata": {},
   "outputs": [],
   "source": []
  },
  {
   "cell_type": "markdown",
   "id": "4be4cdc9",
   "metadata": {},
   "source": [
    "## Define Model"
   ]
  },
  {
   "cell_type": "code",
   "execution_count": 6,
   "id": "3db8437f",
   "metadata": {
    "ExecuteTime": {
     "end_time": "2022-06-08T21:21:25.027181Z",
     "start_time": "2022-06-08T21:21:25.017351Z"
    }
   },
   "outputs": [],
   "source": [
    "from colossus.cosmology import cosmology\n",
    "from colossus.lss import mass_function\n",
    "cosmology.setCosmology('WMAP9')\n",
    "\n",
    "def _halo_mass_function(M, z):\n",
    "    return mass_function.massFunction(M, z, mdef = 'vir', model = 'tinker08')\n",
    "halo_mass_function = np.vectorize(_halo_mass_function)\n",
    "\n",
    "def E(z):\n",
    "    # The Hubble constant at the value of z\n",
    "    Hz = cosmo.H(z).value\n",
    "    # The Hubble constant at z=0\n",
    "    H0 = cosmo.H(0).value\n",
    "    return (Hz/H0)"
   ]
  },
  {
   "cell_type": "code",
   "execution_count": 7,
   "id": "ff3f6635-31d6-40ff-a97d-9259f09126d3",
   "metadata": {
    "ExecuteTime": {
     "end_time": "2022-06-08T21:21:25.032587Z",
     "start_time": "2022-06-08T21:21:25.029092Z"
    }
   },
   "outputs": [],
   "source": [
    "# LogNormal models\n",
    "# see https://en.wikipedia.org/wiki/Log-normal_distribution\n",
    "M0 = 3e14\n",
    "Ez0 = E(0)\n",
    "def ln_lbd_given_M(theta_lambda,M,z):\n",
    "    A_lambda, B_lambda, C_lambda, scatter_lambda = theta_lambda\n",
    "    return np.log(A_lambda) + (B_lambda)*np.log(M/M0) + (C_lambda)*(np.log(E(z)/Ez0))\n",
    "\n",
    "def ln_zeta_given_M(theta_sze,M,z):\n",
    "    A_sze, B_sze, C_sze, scatter_sze = theta_sze\n",
    "    return np.log(A_sze) + (B_sze)*np.log(M/M0) + (C_sze)*(np.log(E(z)/Ez0))\n",
    "\n",
    "def logNormal_variance(mu,std):\n",
    "    return (np.exp(std**2)-1)*np.exp(2*mu+std**2)"
   ]
  },
  {
   "cell_type": "code",
   "execution_count": 182,
   "id": "641000de",
   "metadata": {
    "ExecuteTime": {
     "end_time": "2022-06-08T21:46:39.650193Z",
     "start_time": "2022-06-08T21:46:39.624762Z"
    },
    "code_folding": []
   },
   "outputs": [],
   "source": [
    "from scipy.integrate import simps\n",
    "\n",
    "# given: mvec, lbdvec and zetavec\n",
    "\n",
    "def log_likelihood(theta, z, y, yerr, eps=1e-9):\n",
    "    # defining variables\n",
    "    lbd_hat, chisi = y[0], y[1]\n",
    "    lbd_error = yerr\n",
    "    nsize = len(lbd_hat)\n",
    "    \n",
    "    # unfolding theta\n",
    "    A_lambda, B_lambda, C_lambda, scatter_lambda = theta[4:8]\n",
    "    A_sze, B_sze, C_sze, scatter_sze = theta[:4]\n",
    "    rho = theta[-1]\n",
    "\n",
    "    # setting grid for integration\n",
    "    mm, zz = np.meshgrid(mvec, z)\n",
    "\n",
    "    # calling predictions; \n",
    "    ln_lbd_pred = (ln_lbd_given_M([A_lambda, B_lambda, C_lambda, scatter_lambda],mm,zz)).T\n",
    "    ln_zeta_pred= (ln_zeta_given_M([A_sze, B_sze, C_sze, scatter_sze],mm,zz)).T\n",
    "\n",
    "    halo_mass_func = (halo_mass_function(mm, zz)).T\n",
    "        \n",
    "    # integrating over zeta, lambda\n",
    "    prob = marginalize_over_lbd_zeta(lbd_hat, lbd_error, chisi, ln_lbd_pred, ln_zeta_pred, halo_mass_func,\n",
    "                                     scatter_lambda, scatter_sze, rho)\n",
    "    log_prob = np.log(prob)\n",
    "    return np.sum(log_prob)\n",
    "\n",
    "def marginalize_over_lbd_zeta(lbd_hat, lbd_err, chisi, ln_lbd_pred, ln_zeta_pred, halo_mass_func,\n",
    "                              scatter_lambda, scatter_zeta, rho):\n",
    "    # integrating over zeta, lambda\n",
    "    nsize = len(lbd_hat)\n",
    "    # integrating over zeta, lambda\n",
    "    res_zeta = np.full((zetavec.size, nsize),np.nan,dtype=float)\n",
    "    res_lbd = np.full((lbdvec.size, nsize),np.nan,dtype=float)\n",
    "\n",
    "    for j,li in enumerate(lbdvec):\n",
    "        for i,zi in enumerate(zetavec):\n",
    "            res_zeta[i] = compute_dn_dlbd_dzeta(li, zi, lbd_hat, lbd_err, chisi, ln_lbd_pred, ln_zeta_pred, halo_mass_func,\n",
    "                                              scatter_lambda, scatter_sze, rho)/1e12\n",
    "        # integrate over zeta for a given lambda\n",
    "        res_lbd[j] = np.trapz(res_zeta, axis=0)\n",
    "    # integrate over lambda\n",
    "    prob = np.trapz(res_lbd, x=lbdvec, axis=0)\n",
    "    # normalize over all posibilities\n",
    "    prob = prob/np.sum(prob)\n",
    "    return prob\n",
    "\n",
    "## likelihood including the errors\n",
    "def compute_dn_dlbd_dzeta(lbd, zeta, lbd_hat, lbd_err, chisi, ln_lbd_pred, ln_zeta_pred, halo_mass_func,\n",
    "                          scatter_lambda, scatter_zeta, rho, eps=1e-9):\n",
    "    # converting std to normal distribution\n",
    "    s_zeta = logNormal_variance(ln_zeta_pred, scatter_sze)\n",
    "    s_lambda = logNormal_variance(ln_lbd_pred, scatter_lambda)\n",
    "\n",
    "    # avoid error messages\n",
    "    rho_inv = (1-rho**2)\n",
    "    rho_inv = np.where(rho_inv<=eps, -np.inf, 1/rho_inv)\n",
    "\n",
    "    # defining standirized variables\n",
    "    lbd_std = (lbd - np.exp(ln_lbd_pred))/s_lambda\n",
    "    zeta_std = (zeta - np.exp(ln_zeta_pred))/s_zeta\n",
    "\n",
    "    # lbd_likelihood\n",
    "    lp_lbd  = -rho_inv*lbd_std**2/2 -((lbd-lbd_hat)/lbd_err)**2/2.\n",
    "\n",
    "    # zeta likelihood\n",
    "    lp_zeta = -rho_inv*zeta_std**2/2 -(chisi-np.sqrt(zeta**2+3))**2/2.\n",
    "\n",
    "    # corr likelihod\n",
    "    lp_corr = rho*rho_inv*lbd_std*zeta_std\n",
    "\n",
    "    lp_total_m = lp_lbd+lp_zeta+lp_corr\n",
    "    p_total_m = np.exp(lp_total_m)*halo_mass_func\n",
    "    #p_total_m = np.where(p_total_m<eps, 0., p_total_m)\n",
    "    \n",
    "    # integrate over M\n",
    "    p_total = np.trapz(p_total_m, x=mvec, axis=0)\n",
    "    \n",
    "    return np.where(p_total>1e16, 0., p_total)"
   ]
  },
  {
   "cell_type": "markdown",
   "id": "696704f8",
   "metadata": {
    "ExecuteTime": {
     "end_time": "2022-06-07T22:04:38.244298Z",
     "start_time": "2022-06-07T22:04:38.238776Z"
    }
   },
   "source": [
    "### Debugging"
   ]
  },
  {
   "cell_type": "code",
   "execution_count": 183,
   "id": "d4779903",
   "metadata": {
    "ExecuteTime": {
     "end_time": "2022-06-08T21:46:40.506679Z",
     "start_time": "2022-06-08T21:46:40.501982Z"
    }
   },
   "outputs": [],
   "source": [
    "# getting some observational data to debug the code\n",
    "Np = 10\n",
    "ix = np.where(lambda_chisq>30)[0][:Np] # take 10 points\n",
    "\n",
    "z = redshift[ix]\n",
    "chisi = sz_signal[ix]\n",
    "lbd_hat = lambda_chisq[ix]\n",
    "lbd_err = lambda_chisqE[ix]"
   ]
  },
  {
   "cell_type": "code",
   "execution_count": 184,
   "id": "383fd6d4",
   "metadata": {
    "ExecuteTime": {
     "end_time": "2022-06-08T21:46:41.107371Z",
     "start_time": "2022-06-08T21:46:41.098956Z"
    }
   },
   "outputs": [],
   "source": [
    "# test function \n",
    "# debuging here\n",
    "eps  =1e-9\n",
    "lbd  = lbd_hat[0]\n",
    "zeta = chisi[0]\n",
    "\n",
    "theta = [5.24, 1.534, 0.465, 0.161, 76.9, 1.02, 0.29, 0.16, 0.8]"
   ]
  },
  {
   "cell_type": "code",
   "execution_count": 185,
   "id": "9ad3be5c",
   "metadata": {
    "ExecuteTime": {
     "end_time": "2022-06-08T21:46:41.333916Z",
     "start_time": "2022-06-08T21:46:41.322705Z"
    }
   },
   "outputs": [
    {
     "name": "stdout",
     "output_type": "stream",
     "text": [
      "Vector size\n",
      "1000\n",
      "100\n",
      "100\n"
     ]
    }
   ],
   "source": [
    "# set up integration vectors\n",
    "mvec = np.logspace(14.0, 15.5, 1000)\n",
    "lbdvec = np.linspace(30., 1.5*np.max(lambda_chisq), 100)\n",
    "zetavec = np.linspace(1., 1.3*np.max(sz_signal), 100)\n",
    "\n",
    "print('Vector size')\n",
    "print(mvec.size)\n",
    "print(lbdvec.size)\n",
    "print(zetavec.size)"
   ]
  },
  {
   "cell_type": "code",
   "execution_count": 186,
   "id": "c9ff57d2",
   "metadata": {
    "ExecuteTime": {
     "end_time": "2022-06-08T21:46:42.565092Z",
     "start_time": "2022-06-08T21:46:41.629366Z"
    }
   },
   "outputs": [],
   "source": [
    "# unfolding theta\n",
    "A_lambda, B_lambda, C_lambda, scatter_lambda = theta[4:8]\n",
    "A_sze, B_sze, C_sze, scatter_sze = theta[:4]\n",
    "rho = theta[-1]\n",
    "\n",
    "# setting grid for integration\n",
    "mm, zz = np.meshgrid(mvec, z)\n",
    "\n",
    "# calling predictions; \n",
    "ln_lbd_pred = (ln_lbd_given_M([A_lambda, B_lambda, C_lambda, scatter_lambda],mm,zz)).T\n",
    "ln_zeta_pred= (ln_zeta_given_M([A_sze, B_sze, C_sze, scatter_sze],mm,zz)).T\n",
    "\n",
    "halo_mass_func = (halo_mass_function(mm, zz)).T"
   ]
  },
  {
   "cell_type": "code",
   "execution_count": 187,
   "id": "4b3a208b",
   "metadata": {
    "ExecuteTime": {
     "end_time": "2022-06-08T21:46:42.859035Z",
     "start_time": "2022-06-08T21:46:42.566202Z"
    }
   },
   "outputs": [
    {
     "data": {
      "text/plain": [
       "<matplotlib.collections.PathCollection at 0x7f957b2e8ee0>"
      ]
     },
     "execution_count": 187,
     "metadata": {},
     "output_type": "execute_result"
    },
    {
     "data": {
      "image/png": "[encoded data removed]",
      "text/plain": [
       "<Figure size 432x288 with 1 Axes>"
      ]
     },
     "metadata": {
      "needs_background": "light"
     },
     "output_type": "display_data"
    }
   ],
   "source": [
    "plt.loglog()\n",
    "plt.scatter(mvec, halo_mass_func[:,0])"
   ]
  },
  {
   "cell_type": "code",
   "execution_count": 188,
   "id": "8b7c06f2",
   "metadata": {
    "ExecuteTime": {
     "end_time": "2022-06-08T21:46:42.862340Z",
     "start_time": "2022-06-08T21:46:42.860515Z"
    }
   },
   "outputs": [],
   "source": [
    "# the linear relation lnLbd and lnZeta are logNormal\n",
    "# the scatter of a logNormal is different from a normal distribution\n",
    "# see the std from https://en.wikipedia.org/wiki/Log-normal_distribution\n",
    "def logNormal_variance(mu,std):\n",
    "    return (np.exp(std**2)-1)*np.exp(2*mu+std**2)"
   ]
  },
  {
   "cell_type": "code",
   "execution_count": 189,
   "id": "938694ad",
   "metadata": {
    "ExecuteTime": {
     "end_time": "2022-06-08T21:46:42.867441Z",
     "start_time": "2022-06-08T21:46:42.863539Z"
    }
   },
   "outputs": [],
   "source": [
    "# converting std to normal distribution\n",
    "s_zeta = logNormal_variance(ln_zeta_pred, scatter_sze)\n",
    "s_lambda = logNormal_variance(ln_lbd_pred, scatter_lambda)\n",
    "\n",
    "# avoid error messages\n",
    "rho_inv = (1-rho**2)\n",
    "rho_inv = np.where(rho_inv<=eps, -np.inf, 1/rho_inv)\n",
    "\n",
    "# defining standirized variables\n",
    "lbd_std = (lbd - np.exp(ln_lbd_pred))/s_lambda\n",
    "zeta_std = (zeta - np.exp(ln_zeta_pred))/s_zeta\n",
    "\n",
    "# lbd_likelihood\n",
    "lp_lbd  = -rho_inv*lbd_std**2/2 -((lbd-lbd_hat)/lbd_err)**2/2.\n",
    "\n",
    "# zeta likelihood\n",
    "lp_zeta = -rho_inv*zeta_std**2/2 -(chisi-np.sqrt(zeta**2+3))**2/2.\n",
    "\n",
    "# corr likelihod\n",
    "lp_corr = rho*rho_inv*lbd_std*zeta_std\n",
    "\n",
    "lp_total_m = lp_lbd+lp_zeta+lp_corr\n",
    "p_total_m = np.exp(lp_total_m)*halo_mass_func\n",
    "\n",
    "# integrate over M\n",
    "p_total = np.trapz(p_total_m, x=mvec/M0, axis=0)"
   ]
  },
  {
   "cell_type": "code",
   "execution_count": 190,
   "id": "57ab7f52",
   "metadata": {
    "ExecuteTime": {
     "end_time": "2022-06-08T21:46:42.870745Z",
     "start_time": "2022-06-08T21:46:42.868429Z"
    }
   },
   "outputs": [
    {
     "data": {
      "text/plain": [
       "0.010423574332317869"
      ]
     },
     "execution_count": 190,
     "metadata": {},
     "output_type": "execute_result"
    }
   ],
   "source": [
    "p_total[0]"
   ]
  },
  {
   "cell_type": "code",
   "execution_count": 191,
   "id": "ffe5dcb1",
   "metadata": {
    "ExecuteTime": {
     "end_time": "2022-06-08T21:46:43.494464Z",
     "start_time": "2022-06-08T21:46:43.147035Z"
    }
   },
   "outputs": [
    {
     "data": {
      "text/plain": [
       "<matplotlib.legend.Legend at 0x7f957b53d550>"
      ]
     },
     "execution_count": 191,
     "metadata": {},
     "output_type": "execute_result"
    },
    {
     "data": {
      "image/png": "[encoded data removed]",
      "text/plain": [
       "<Figure size 432x288 with 1 Axes>"
      ]
     },
     "metadata": {
      "needs_background": "light"
     },
     "output_type": "display_data"
    }
   ],
   "source": [
    "# plt.loglog()\n",
    "w, = np.where(np.abs(zeta_std[:,0])<2.)\n",
    "plt.scatter(mvec[w],zeta_std[:,0][w],label='zeta')\n",
    "plt.scatter(mvec[w],lbd_std[:,0][w],label='lambda')\n",
    "plt.xscale('log')\n",
    "plt.xlabel(r'M200c [M$_{\\odot}$]',fontsize=14)\n",
    "plt.ylabel('Standarized Variables',fontsize=14)\n",
    "plt.legend(fontsize=14)"
   ]
  },
  {
   "cell_type": "code",
   "execution_count": 192,
   "id": "6795c18d",
   "metadata": {
    "ExecuteTime": {
     "end_time": "2022-06-08T21:46:43.862978Z",
     "start_time": "2022-06-08T21:46:43.643274Z"
    }
   },
   "outputs": [
    {
     "data": {
      "text/plain": [
       "<matplotlib.legend.Legend at 0x7f957aefe1f0>"
      ]
     },
     "execution_count": 192,
     "metadata": {},
     "output_type": "execute_result"
    },
    {
     "data": {
      "image/png": "[encoded data removed]",
      "text/plain": [
       "<Figure size 432x288 with 1 Axes>"
      ]
     },
     "metadata": {
      "needs_background": "light"
     },
     "output_type": "display_data"
    }
   ],
   "source": [
    "# plt.loglog()\n",
    "plt.scatter(mvec[w],lp_zeta[:,0][w],label='zeta')\n",
    "plt.scatter(mvec[w],lp_lbd[:,0][w],label='lambda')\n",
    "plt.scatter(mvec[w],lp_corr[:,0][w],label='corr')\n",
    "plt.plot(mvec[w],lp_total_m[:,0][w],label='all',color='k',ls='--')\n",
    "plt.xscale('log')\n",
    "plt.xlabel(r'M200c [M$_{\\odot}$]',fontsize=14)\n",
    "plt.ylabel('Likelihood 1d',fontsize=14)\n",
    "plt.legend(fontsize=14)"
   ]
  },
  {
   "cell_type": "code",
   "execution_count": 193,
   "id": "1328447e",
   "metadata": {
    "ExecuteTime": {
     "end_time": "2022-06-08T21:46:44.372026Z",
     "start_time": "2022-06-08T21:46:44.122883Z"
    }
   },
   "outputs": [
    {
     "data": {
      "text/plain": [
       "<matplotlib.legend.Legend at 0x7f957a79d670>"
      ]
     },
     "execution_count": 193,
     "metadata": {},
     "output_type": "execute_result"
    },
    {
     "data": {
      "image/png": "[encoded data removed]",
      "text/plain": [
       "<Figure size 432x288 with 1 Axes>"
      ]
     },
     "metadata": {
      "needs_background": "light"
     },
     "output_type": "display_data"
    }
   ],
   "source": [
    "# plt.loglog()\n",
    "plt.scatter(mvec,p_total_m[:,0],label='w/ halo mass func.',color='k',ls='--')\n",
    "plt.xscale('log')\n",
    "plt.xlabel(r'M200c [M$_{\\odot}$]',fontsize=14)\n",
    "plt.ylabel('Likelihood (Bivariate)',fontsize=14)\n",
    "plt.title(r'$\\rm P(lbd, zeta| M, z) \\times \\frac{dN}{dM}$', fontsize=16)\n",
    "plt.legend(fontsize=14)"
   ]
  },
  {
   "cell_type": "code",
   "execution_count": 194,
   "id": "8b9d7a8a",
   "metadata": {
    "ExecuteTime": {
     "end_time": "2022-06-08T21:46:44.483232Z",
     "start_time": "2022-06-08T21:46:44.478982Z"
    }
   },
   "outputs": [
    {
     "data": {
      "text/plain": [
       "array([3.12707230e+12, 1.61248533e+09, 2.73107806e+10, 4.63805472e+10,\n",
       "       6.55555036e+12, 1.68244413e+11, 5.09259443e+05, 3.86500298e+09,\n",
       "       1.66957754e+09, 1.63133911e+09])"
      ]
     },
     "execution_count": 194,
     "metadata": {},
     "output_type": "execute_result"
    }
   ],
   "source": [
    "p = compute_dn_dlbd_dzeta(lbd_hat[0], zeta, lbd_hat, lbd_err, chisi, ln_lbd_pred, ln_zeta_pred, halo_mass_func,\n",
    "                          scatter_lambda, scatter_sze, rho)\n",
    "p"
   ]
  },
  {
   "cell_type": "code",
   "execution_count": null,
   "id": "1c652a8c",
   "metadata": {
    "ExecuteTime": {
     "end_time": "2022-06-08T21:36:37.647085Z",
     "start_time": "2022-06-08T21:36:37.642284Z"
    }
   },
   "outputs": [],
   "source": []
  },
  {
   "cell_type": "code",
   "execution_count": 209,
   "id": "41783d69",
   "metadata": {
    "ExecuteTime": {
     "end_time": "2022-06-08T21:48:22.701921Z",
     "start_time": "2022-06-08T21:48:22.589048Z"
    }
   },
   "outputs": [],
   "source": [
    "out = []\n",
    "out2 = []\n",
    "for zi in zetavec:\n",
    "    a = compute_dn_dlbd_dzeta(lbd_hat[0]-5, zi, lbd_hat, lbd_err, chisi, ln_lbd_pred, ln_zeta_pred, halo_mass_func,\n",
    "                                          scatter_lambda, scatter_sze, rho)\n",
    "    b = compute_dn_dlbd_dzeta(lbd_hat[0], zi, lbd_hat, lbd_err, chisi, ln_lbd_pred, ln_zeta_pred, halo_mass_func,\n",
    "                                          scatter_lambda, scatter_sze, rho)\n",
    "    \n",
    "    out.append(np.log(a[0]))\n",
    "    out2.append(np.log(b[0]))"
   ]
  },
  {
   "cell_type": "code",
   "execution_count": null,
   "id": "45e5dd6a",
   "metadata": {
    "ExecuteTime": {
     "end_time": "2022-06-08T21:46:46.545275Z",
     "start_time": "2022-06-08T21:46:46.532574Z"
    }
   },
   "outputs": [],
   "source": []
  },
  {
   "cell_type": "code",
   "execution_count": 210,
   "id": "2241152c",
   "metadata": {
    "ExecuteTime": {
     "end_time": "2022-06-08T21:48:23.277511Z",
     "start_time": "2022-06-08T21:48:23.268607Z"
    }
   },
   "outputs": [
    {
     "data": {
      "text/plain": [
       "4611314432188.85"
      ]
     },
     "execution_count": 210,
     "metadata": {},
     "output_type": "execute_result"
    }
   ],
   "source": [
    "np.trapz(np.exp(np.array(out))[np.isfinite(out)], x=zetavec[np.isfinite(out)])"
   ]
  },
  {
   "cell_type": "code",
   "execution_count": 214,
   "id": "852134d3",
   "metadata": {
    "ExecuteTime": {
     "end_time": "2022-06-08T21:48:53.302414Z",
     "start_time": "2022-06-08T21:48:53.137139Z"
    }
   },
   "outputs": [
    {
     "data": {
      "text/plain": [
       "(1e-09, 10)"
      ]
     },
     "execution_count": 214,
     "metadata": {},
     "output_type": "execute_result"
    },
    {
     "data": {
      "image/png": "[encoded data removed]",
      "text/plain": [
       "<Figure size 432x288 with 1 Axes>"
      ]
     },
     "metadata": {
      "needs_background": "light"
     },
     "output_type": "display_data"
    }
   ],
   "source": [
    "plt.plot(zetavec, np.exp(out)/1e12)\n",
    "plt.plot(zetavec, np.exp(out2)/1e12)\n",
    "plt.yscale('log')\n",
    "plt.ylim(1e-9,10)"
   ]
  },
  {
   "cell_type": "code",
   "execution_count": 199,
   "id": "398ed522",
   "metadata": {
    "ExecuteTime": {
     "end_time": "2022-06-08T21:46:48.203176Z",
     "start_time": "2022-06-08T21:46:48.200345Z"
    }
   },
   "outputs": [],
   "source": [
    "# res_zeta/1e-12"
   ]
  },
  {
   "cell_type": "code",
   "execution_count": 217,
   "id": "8bb20343",
   "metadata": {
    "ExecuteTime": {
     "end_time": "2022-06-08T21:50:50.249012Z",
     "start_time": "2022-06-08T21:50:46.916255Z"
    }
   },
   "outputs": [],
   "source": [
    "# integrating over zeta, lambda\n",
    "nsize = len(lbd_hat)\n",
    "# integrating over zeta, lambda\n",
    "res_zeta = np.full((zetavec.size, nsize),np.nan,dtype=float)\n",
    "res_lbd = np.full((lbdvec.size, nsize),np.nan,dtype=float)\n",
    "\n",
    "for j,li in enumerate(lbdvec):\n",
    "    for i,zi in enumerate(zetavec):\n",
    "        res_zeta[i] = compute_dn_dlbd_dzeta(li, zi, lbd_hat, lbd_err, chisi, ln_lbd_pred, ln_zeta_pred, halo_mass_func,\n",
    "                                          scatter_lambda, scatter_sze, rho)/1e12\n",
    "    # integrate over zeta for a given lambda\n",
    "    res_lbd[j] = np.trapz(res_zeta, axis=0)\n",
    "# integrate over lambda\n",
    "prob = simps(res_lbd, x=lbdvec, axis=0)\n",
    "# normalize over all posibilities\n",
    "prob = prob/np.sum(prob)"
   ]
  },
  {
   "cell_type": "code",
   "execution_count": 218,
   "id": "fbd0ba6a",
   "metadata": {
    "ExecuteTime": {
     "end_time": "2022-06-08T21:50:50.252324Z",
     "start_time": "2022-06-08T21:50:50.250049Z"
    }
   },
   "outputs": [
    {
     "data": {
      "text/plain": [
       "array([0.02437798, 0.0767447 , 0.01043035, 0.0133851 , 0.33909476,\n",
       "       0.00884598, 0.06639803, 0.04226795, 0.4021595 , 0.01629565])"
      ]
     },
     "execution_count": 218,
     "metadata": {},
     "output_type": "execute_result"
    }
   ],
   "source": [
    "prob"
   ]
  },
  {
   "cell_type": "code",
   "execution_count": 219,
   "id": "7283602e",
   "metadata": {
    "ExecuteTime": {
     "end_time": "2022-06-08T21:50:53.624731Z",
     "start_time": "2022-06-08T21:50:50.255302Z"
    }
   },
   "outputs": [
    {
     "data": {
      "text/plain": [
       "array([0.00742209, 0.01702782, 0.01543125, 0.00110725, 0.11273846,\n",
       "       0.00130243, 0.02402964, 0.00567576, 0.7349309 , 0.08033439])"
      ]
     },
     "execution_count": 219,
     "metadata": {},
     "output_type": "execute_result"
    }
   ],
   "source": [
    "marginalize_over_lbd_zeta(lbd_hat, lbd_err, chisi, ln_lbd_pred, ln_zeta_pred, halo_mass_func,\n",
    "                              scatter_lambda, scatter_sze, rho)"
   ]
  },
  {
   "cell_type": "code",
   "execution_count": null,
   "id": "30be09e9",
   "metadata": {
    "ExecuteTime": {
     "end_time": "2022-06-08T21:43:23.852732Z",
     "start_time": "2022-06-08T21:43:23.705904Z"
    }
   },
   "outputs": [],
   "source": []
  },
  {
   "cell_type": "code",
   "execution_count": null,
   "id": "4cedf1c6",
   "metadata": {
    "ExecuteTime": {
     "end_time": "2022-06-08T21:06:47.925882Z",
     "start_time": "2022-06-08T21:06:47.916127Z"
    }
   },
   "outputs": [],
   "source": []
  },
  {
   "cell_type": "code",
   "execution_count": null,
   "id": "80a19e6e",
   "metadata": {},
   "outputs": [],
   "source": []
  },
  {
   "cell_type": "code",
   "execution_count": null,
   "id": "3b055f29",
   "metadata": {},
   "outputs": [],
   "source": []
  },
  {
   "cell_type": "code",
   "execution_count": null,
   "id": "98faf17a",
   "metadata": {},
   "outputs": [],
   "source": []
  },
  {
   "cell_type": "code",
   "execution_count": null,
   "id": "6f4c1bf6",
   "metadata": {},
   "outputs": [],
   "source": []
  },
  {
   "cell_type": "code",
   "execution_count": null,
   "id": "7317ac2f",
   "metadata": {},
   "outputs": [],
   "source": []
  },
  {
   "cell_type": "code",
   "execution_count": null,
   "id": "b005bb44",
   "metadata": {},
   "outputs": [],
   "source": []
  },
  {
   "cell_type": "code",
   "execution_count": null,
   "id": "0910f219",
   "metadata": {},
   "outputs": [],
   "source": []
  },
  {
   "cell_type": "code",
   "execution_count": null,
   "id": "501b8f8f",
   "metadata": {},
   "outputs": [],
   "source": []
  },
  {
   "cell_type": "code",
   "execution_count": null,
   "id": "baa48ca0",
   "metadata": {},
   "outputs": [],
   "source": []
  },
  {
   "cell_type": "code",
   "execution_count": null,
   "id": "3c986944",
   "metadata": {},
   "outputs": [],
   "source": []
  },
  {
   "cell_type": "code",
   "execution_count": null,
   "id": "f984043b",
   "metadata": {},
   "outputs": [],
   "source": []
  },
  {
   "cell_type": "code",
   "execution_count": null,
   "id": "e98a357b",
   "metadata": {},
   "outputs": [],
   "source": []
  },
  {
   "cell_type": "code",
   "execution_count": null,
   "id": "8bada0f4",
   "metadata": {},
   "outputs": [],
   "source": []
  },
  {
   "cell_type": "code",
   "execution_count": null,
   "id": "4bce76d3",
   "metadata": {},
   "outputs": [],
   "source": []
  }
 ],
 "metadata": {
  "kernelspec": {
   "display_name": "Python 3",
   "language": "python",
   "name": "python3"
  },
  "language_info": {
   "codemirror_mode": {
    "name": "ipython",
    "version": 3
   },
   "file_extension": ".py",
   "mimetype": "text/x-python",
   "name": "python",
   "nbconvert_exporter": "python",
   "pygments_lexer": "ipython3",
   "version": "3.8.8"
  },
  "latex_envs": {
   "LaTeX_envs_menu_present": true,
   "autoclose": true,
   "autocomplete": true,
   "bibliofile": "biblio.bib",
   "cite_by": "apalike",
   "current_citInitial": 1,
   "eqLabelWithNumbers": true,
   "eqNumInitial": 1,
   "hotkeys": {
    "equation": "Ctrl-E",
    "itemize": "Ctrl-I"
   },
   "labels_anchors": false,
   "latex_user_defs": false,
   "report_style_numbering": true,
   "user_envs_cfg": false
  },
  "toc": {
   "base_numbering": 1,
   "nav_menu": {},
   "number_sections": true,
   "sideBar": true,
   "skip_h1_title": false,
   "title_cell": "Table of Contents",
   "title_sidebar": "Contents",
   "toc_cell": false,
   "toc_position": {},
   "toc_section_display": true,
   "toc_window_display": false
  }
 },
 "nbformat": 4,
 "nbformat_minor": 5
}
