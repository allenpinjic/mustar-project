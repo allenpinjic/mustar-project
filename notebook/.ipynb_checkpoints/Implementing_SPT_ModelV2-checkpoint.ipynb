{
 "cells": [
  {
   "cell_type": "markdown",
   "id": "fdad981e-2966-4cab-8c4d-303294e41d23",
   "metadata": {},
   "source": [
    "# Implementing the SPT Model"
   ]
  },
  {
   "cell_type": "markdown",
   "id": "133223a3-e832-4d56-a3a2-438f59138cc6",
   "metadata": {},
   "source": [
    "Modifications: Johnny Esteves\\\n",
    "Author: Allen Pinjic - Created on June 6th, 2022"
   ]
  },
  {
   "cell_type": "code",
   "execution_count": 1,
   "id": "6dc085b0-5c86-4a63-a186-b4b078226b79",
   "metadata": {
    "ExecuteTime": {
     "end_time": "2022-06-09T13:57:25.311737Z",
     "start_time": "2022-06-09T13:57:24.605134Z"
    }
   },
   "outputs": [],
   "source": [
    "from astropy.io.fits import getdata\n",
    "from astropy.table import Table\n",
    "from astropy.cosmology import WMAP9 as cosmo"
   ]
  },
  {
   "cell_type": "code",
   "execution_count": 2,
   "id": "45b01c2b-1af4-4b63-a438-7ad66fa5bda1",
   "metadata": {
    "ExecuteTime": {
     "end_time": "2022-06-09T13:57:34.129682Z",
     "start_time": "2022-06-09T13:57:25.313236Z"
    }
   },
   "outputs": [],
   "source": [
    "import numpy as np\n",
    "import pandas as pd\n",
    "import arviz as az\n",
    "import matplotlib.pyplot as plt\n",
    "import pylab as plt\n",
    "import pymc3 as pm\n",
    "import aesara\n",
    "import matplotlib.font_manager\n",
    "import scipy.stats\n",
    "import scipy.optimize\n",
    "import math"
   ]
  },
  {
   "cell_type": "code",
   "execution_count": 3,
   "id": "7ade0296-e210-4b94-8dd9-7a92f3f7e9e9",
   "metadata": {
    "ExecuteTime": {
     "end_time": "2022-06-09T13:57:34.136103Z",
     "start_time": "2022-06-09T13:57:34.132018Z"
    }
   },
   "outputs": [],
   "source": [
    "%matplotlib inline"
   ]
  },
  {
   "cell_type": "markdown",
   "id": "d9812834-1063-43f2-8a77-3cdb995a5bae",
   "metadata": {},
   "source": [
    "## Retrieving SPT Data"
   ]
  },
  {
   "cell_type": "code",
   "execution_count": 4,
   "id": "de9577a1",
   "metadata": {
    "ExecuteTime": {
     "end_time": "2022-06-09T13:57:34.180966Z",
     "start_time": "2022-06-09T13:57:34.137801Z"
    }
   },
   "outputs": [
    {
     "data": {
      "text/html": [
       "<i>Table length=2</i>\n",
       "<table id=\"table140439128113056\" class=\"table-striped table-bordered table-condensed\">\n",
       "<thead><tr><th>SPT_ID</th><th>RA</th><th>DEC</th><th>FIELD</th><th>XI</th><th>THETA_CORE</th><th>REDSHIFT</th><th>REDSHIFT_UNC</th><th>SPECZ</th><th>REDSHIFT_SOURCE</th><th>RM_PROB</th><th>CL_NOTES</th><th>M500</th><th>M500_UERR</th><th>M500_LERR</th><th>LAMBDA_CHISQ</th><th>LAMBDA_CHISQ_E</th><th>RADIO_CONTAM</th><th>STRONG_LENS</th><th>IMAGE_SOURCE</th><th>SPECZ_REF</th><th>STRONG_LENS_REF</th><th>PHOTOMETRIC_ZREF</th></tr></thead>\n",
       "<thead><tr><th>str16</th><th>float64</th><th>float64</th><th>str11</th><th>float32</th><th>float32</th><th>float32</th><th>float32</th><th>int16</th><th>float32</th><th>float32</th><th>str50</th><th>float32</th><th>float32</th><th>float32</th><th>float32</th><th>float32</th><th>float32</th><th>float32</th><th>float32</th><th>str38</th><th>str19</th><th>str29</th></tr></thead>\n",
       "<tr><td>SPT-CLJ0000-2518</td><td>0.072338357</td><td>-25.303935</td><td>ra1hdec-25</td><td>5.073545</td><td>1.5</td><td>0.0</td><td>0.0</td><td>0</td><td>0.0</td><td>0.0</td><td>-</td><td>0.0</td><td>0.0</td><td>0.0</td><td>0.0</td><td>0.0</td><td>0.0</td><td>0.0</td><td>1.0</td><td></td><td></td><td></td></tr>\n",
       "<tr><td>SPT-CLJ0005-3751</td><td>1.4383179</td><td>-37.854369</td><td>ra1hdec-35</td><td>6.336327</td><td>0.75</td><td>0.48295808</td><td>0.0072415886</td><td>0</td><td>4.0</td><td>0.00061007956</td><td>-</td><td>5.419</td><td>0.887</td><td>0.887</td><td>86.40839</td><td>4.7352147</td><td>0.0</td><td>1.0</td><td>3.0</td><td></td><td></td><td></td></tr>\n",
       "</table>"
      ],
      "text/plain": [
       "<Table length=2>\n",
       "     SPT_ID           RA     ...        PHOTOMETRIC_ZREF      \n",
       "     str16         float64   ...             str29            \n",
       "---------------- ----------- ... -----------------------------\n",
       "SPT-CLJ0000-2518 0.072338357 ...                              \n",
       "SPT-CLJ0005-3751   1.4383179 ...                              "
      ]
     },
     "execution_count": 4,
     "metadata": {},
     "output_type": "execute_result"
    }
   ],
   "source": [
    "fname = '../data_set/sptecs_catalog_oct919.fits'\n",
    "\n",
    "data = Table(getdata(fname))\n",
    "data[:2]"
   ]
  },
  {
   "cell_type": "code",
   "execution_count": 5,
   "id": "2f4e6159",
   "metadata": {
    "ExecuteTime": {
     "end_time": "2022-06-09T13:57:34.184948Z",
     "start_time": "2022-06-09T13:57:34.182426Z"
    }
   },
   "outputs": [],
   "source": [
    "sz_signal = np.array(data['XI'])\n",
    "lambda_chisq = np.array(data['LAMBDA_CHISQ'])\n",
    "lambda_chisqE = np.array(data['LAMBDA_CHISQ_E'])\n",
    "redshift = np.array(data['REDSHIFT'])"
   ]
  },
  {
   "cell_type": "code",
   "execution_count": 6,
   "id": "d084e88e",
   "metadata": {
    "ExecuteTime": {
     "end_time": "2022-06-09T13:57:34.306902Z",
     "start_time": "2022-06-09T13:57:34.186307Z"
    }
   },
   "outputs": [
    {
     "data": {
      "text/plain": [
       "(array([17., 64., 75., 45., 27., 19., 16., 13.,  7.,  7.]),\n",
       " array([14.481873, 14.530734, 14.579596, 14.628457, 14.677319, 14.726179,\n",
       "        14.775041, 14.823902, 14.872764, 14.921625, 14.970487],\n",
       "       dtype=float32),\n",
       " <BarContainer object of 10 artists>)"
      ]
     },
     "execution_count": 6,
     "metadata": {},
     "output_type": "execute_result"
    },
    {
     "data": {
      "image/png": "[encoded data removed]",
      "text/plain": [
       "<Figure size 432x288 with 1 Axes>"
      ]
     },
     "metadata": {
      "needs_background": "light"
     },
     "output_type": "display_data"
    }
   ],
   "source": [
    "plt.hist(np.log10(data['M500'][lambda_chisq>20]*1e14))"
   ]
  },
  {
   "cell_type": "markdown",
   "id": "df43130f",
   "metadata": {},
   "source": [
    "## Define Model"
   ]
  },
  {
   "cell_type": "code",
   "execution_count": 7,
   "id": "3db8437f",
   "metadata": {
    "ExecuteTime": {
     "end_time": "2022-06-09T13:57:34.317004Z",
     "start_time": "2022-06-09T13:57:34.308355Z"
    }
   },
   "outputs": [],
   "source": [
    "from colossus.cosmology import cosmology\n",
    "from colossus.lss import mass_function\n",
    "cosmology.setCosmology('WMAP9')\n",
    "\n",
    "def _halo_mass_function(M, z):\n",
    "    return mass_function.massFunction(M, z, mdef = '500c', model = 'bocquet16')\n",
    "halo_mass_function = np.vectorize(_halo_mass_function)\n",
    "\n",
    "def E(z):\n",
    "    # The Hubble constant at the value of z\n",
    "    Hz = cosmo.H(z).value\n",
    "    # The Hubble constant at z=0\n",
    "    H0 = cosmo.H(0).value\n",
    "    return (Hz/H0)"
   ]
  },
  {
   "cell_type": "code",
   "execution_count": 8,
   "id": "ff3f6635-31d6-40ff-a97d-9259f09126d3",
   "metadata": {
    "ExecuteTime": {
     "end_time": "2022-06-09T13:57:34.325061Z",
     "start_time": "2022-06-09T13:57:34.320008Z"
    }
   },
   "outputs": [],
   "source": [
    "# LogNormal models\n",
    "# see https://en.wikipedia.org/wiki/Log-normal_distribution\n",
    "M0 = 3e14\n",
    "Ez0 = E(0)\n",
    "def ln_lbd_given_M(theta_lambda,M,z):\n",
    "    A_lambda, B_lambda, C_lambda, scatter_lambda = theta_lambda\n",
    "    return np.log(A_lambda) + (B_lambda)*np.log(M/M0) + (C_lambda)*(np.log(E(z)/Ez0))\n",
    "\n",
    "def ln_zeta_given_M(theta_sze,M,z):\n",
    "    A_sze, B_sze, C_sze, scatter_sze = theta_sze\n",
    "    return np.log(A_sze) + (B_sze)*np.log(M/M0) + (C_sze)*(np.log(E(z)/Ez0))\n",
    "\n",
    "def logNormal_variance(mu,std):\n",
    "    return (np.exp(std**2)-1)*np.exp(2*mu+std**2)"
   ]
  },
  {
   "cell_type": "code",
   "execution_count": 698,
   "id": "9ad3be5c",
   "metadata": {
    "ExecuteTime": {
     "end_time": "2022-06-09T14:33:38.176438Z",
     "start_time": "2022-06-09T14:33:38.168988Z"
    }
   },
   "outputs": [
    {
     "name": "stdout",
     "output_type": "stream",
     "text": [
      "Vector size\n",
      "75\n",
      "150\n",
      "75\n"
     ]
    }
   ],
   "source": [
    "# set up integration vectors\n",
    "mvec = np.logspace(13.8, 15.5, 75)\n",
    "lbdvec = np.linspace(3,1.2*np.max(lambda_chisq),150)\n",
    "zetavec = np.linspace(1,1.1*np.max(sz_signal),75)\n",
    "# lbdvec = np.exp(np.arange(np.log(5),np.log(1.2*np.max(lambda_chisq)),0.032))\n",
    "# zetavec = np.exp(np.arange(np.log(1),np.log(1.1*np.max(sz_signal)),0.045))\n",
    "\n",
    "print('Vector size')\n",
    "print(mvec.size)\n",
    "print(lbdvec.size)\n",
    "print(zetavec.size)"
   ]
  },
  {
   "cell_type": "code",
   "execution_count": null,
   "id": "036ab74f",
   "metadata": {
    "ExecuteTime": {
     "end_time": "2022-06-09T14:17:36.342348Z",
     "start_time": "2022-06-09T14:17:36.334197Z"
    }
   },
   "outputs": [],
   "source": []
  },
  {
   "cell_type": "code",
   "execution_count": 699,
   "id": "95259d7a",
   "metadata": {
    "ExecuteTime": {
     "end_time": "2022-06-09T14:33:41.449566Z",
     "start_time": "2022-06-09T14:33:39.624100Z"
    }
   },
   "outputs": [],
   "source": [
    "zvec = np.linspace(0., 1.3, 100)\n",
    "zzv, mm = np.meshgrid(zvec, mvec)\n",
    "from scipy import interpolate\n",
    "halo_mass_function2 = interpolate.interp1d(zvec, halo_mass_function(mm, zzv), kind='cubic')"
   ]
  },
  {
   "cell_type": "code",
   "execution_count": 700,
   "id": "641000de",
   "metadata": {
    "ExecuteTime": {
     "end_time": "2022-06-09T14:33:41.462754Z",
     "start_time": "2022-06-09T14:33:41.451198Z"
    },
    "code_folding": []
   },
   "outputs": [],
   "source": [
    "from scipy.integrate import simps\n",
    "\n",
    "# given: mvec, lbdvec and zetavec\n",
    "\n",
    "def log_likelihood(theta, z, y, yerr, eps=1e-9):\n",
    "    # defining variables\n",
    "    lbd_hat, chisi = y[0], y[1]\n",
    "    lbd_error = yerr\n",
    "    nsize = len(lbd_hat)\n",
    "    \n",
    "    # unfolding theta\n",
    "    A_lambda, B_lambda, C_lambda, scatter_lambda = theta[4:8]\n",
    "    A_sze, B_sze, C_sze, scatter_sze = theta[:4]\n",
    "    rho = theta[-1]\n",
    "\n",
    "    # setting grid for integration\n",
    "    mm, zz = np.meshgrid(mvec, z)\n",
    "\n",
    "    # calling predictions; \n",
    "    ln_lbd_pred = (ln_lbd_given_M([A_lambda, B_lambda, C_lambda, scatter_lambda],mm,zz)).T\n",
    "    ln_zeta_pred= (ln_zeta_given_M([A_sze, B_sze, C_sze, scatter_sze],mm,zz)).T\n",
    "\n",
    "    halo_mass_func = (halo_mass_function2(z))\n",
    "        \n",
    "    # integrating over zeta, lambda\n",
    "    prob = marginalize_over_lbd_zeta(lbd_hat, lbd_error, chisi, ln_lbd_pred, ln_zeta_pred, halo_mass_func,\n",
    "                                     scatter_lambda, scatter_sze, rho)\n",
    "    log_prob = np.log(prob)\n",
    "    return np.sum(log_prob)\n",
    "\n",
    "def marginalize_over_lbd_zeta(lbd_hat, lbd_err, chisi, ln_lbd_pred, ln_zeta_pred, halo_mass_func,\n",
    "                              scatter_lambda, scatter_zeta, rho):\n",
    "    # integrating over zeta, lambda\n",
    "    nsize = len(lbd_hat)\n",
    "    # integrating over zeta, lambda\n",
    "    res_zeta = np.full((zetavec.size, nsize),np.nan,dtype=float)\n",
    "    res_lbd = np.full((lbdvec.size, nsize),np.nan,dtype=float)\n",
    "\n",
    "    for j,li in enumerate(lbdvec):\n",
    "        for i,zi in enumerate(zetavec):\n",
    "            res_zeta[i] = compute_dn_dlbd_dzeta(li, zi, lbd_hat, lbd_err, chisi, ln_lbd_pred, ln_zeta_pred, halo_mass_func,\n",
    "                                              scatter_lambda, scatter_sze, rho)\n",
    "        # integrate over zeta for a given lambda\n",
    "        res_lbd[j] = np.trapz(res_zeta, axis=0)\n",
    "    # integrate over lambda\n",
    "    prob = np.trapz(res_lbd, x=lbdvec, axis=0)\n",
    "    # normalize over all posibilities\n",
    "    prob = prob/np.sum(prob)\n",
    "    return prob\n",
    "\n",
    "## likelihood including the errors\n",
    "def compute_dn_dlbd_dzeta(lbd, zeta, lbd_hat, lbd_err, chisi, ln_lbd_pred, ln_zeta_pred, halo_mass_func,\n",
    "                          scatter_lambda, scatter_zeta, rho, eps=1e-9):\n",
    "    # converting std to normal distribution\n",
    "    s_zeta = logNormal_variance(ln_zeta_pred, scatter_sze)\n",
    "    s_lambda = logNormal_variance(ln_lbd_pred, scatter_lambda)\n",
    "\n",
    "    # avoid error messages\n",
    "    rho_inv = (1-rho**2)\n",
    "    rho_inv = np.where(rho_inv<=eps, -np.inf, 1/rho_inv)\n",
    "\n",
    "    # defining standirized variables\n",
    "    lbd_std = (lbd - np.exp(ln_lbd_pred))/s_lambda\n",
    "    zeta_std = (zeta - np.exp(ln_zeta_pred))/s_zeta\n",
    "\n",
    "    # lbd_likelihood\n",
    "    lp_lbd  = -rho_inv*lbd_std**2/2 -((lbd-lbd_hat)/lbd_err)**2/2.\n",
    "\n",
    "    # zeta likelihood\n",
    "    lp_zeta = -rho_inv*zeta_std**2/2 -(chisi-np.sqrt(zeta**2+3))**2/2.\n",
    "\n",
    "    # corr likelihod\n",
    "    lp_corr = rho*rho_inv*lbd_std*zeta_std\n",
    "\n",
    "    lp_total_m = lp_lbd+lp_zeta+lp_corr\n",
    "    p_total_m = np.exp(lp_total_m)*halo_mass_func\n",
    "    #p_total_m = np.where(p_total_m<eps, 0., p_total_m)\n",
    "    \n",
    "    # integrate over M\n",
    "    p_total = np.trapz(p_total_m, x=mvec, axis=0)\n",
    "    \n",
    "    return np.where(p_total>1e16, 0., p_total/M0)"
   ]
  },
  {
   "cell_type": "markdown",
   "id": "696704f8",
   "metadata": {
    "ExecuteTime": {
     "end_time": "2022-06-07T22:04:38.244298Z",
     "start_time": "2022-06-07T22:04:38.238776Z"
    }
   },
   "source": [
    "### Debugging"
   ]
  },
  {
   "cell_type": "code",
   "execution_count": 701,
   "id": "d4779903",
   "metadata": {
    "ExecuteTime": {
     "end_time": "2022-06-09T14:33:41.467363Z",
     "start_time": "2022-06-09T14:33:41.464684Z"
    }
   },
   "outputs": [],
   "source": [
    "# getting some observational data to debug the code\n",
    "Np = 10\n",
    "ix = np.where(lambda_chisq>30)[0][:Np] # take 10 points\n",
    "\n",
    "z = redshift[ix]\n",
    "chisi = sz_signal[ix]\n",
    "lbd_hat = lambda_chisq[ix]\n",
    "lbd_err = lambda_chisqE[ix]"
   ]
  },
  {
   "cell_type": "code",
   "execution_count": 702,
   "id": "6b7e9f3e",
   "metadata": {
    "ExecuteTime": {
     "end_time": "2022-06-09T14:33:41.471526Z",
     "start_time": "2022-06-09T14:33:41.469132Z"
    }
   },
   "outputs": [],
   "source": [
    "# test function \n",
    "# debuging here\n",
    "eps  =1e-9\n",
    "lbd  = lbd_hat[0]\n",
    "zeta = chisi[0]\n",
    "\n",
    "theta = [5.24, 1.534, 0.465, 0.161, 76.9, 1.02, 0.29, 0.16, 0.8]"
   ]
  },
  {
   "cell_type": "code",
   "execution_count": 703,
   "id": "fd66feca",
   "metadata": {
    "ExecuteTime": {
     "end_time": "2022-06-09T14:33:41.476942Z",
     "start_time": "2022-06-09T14:33:41.473668Z"
    }
   },
   "outputs": [
    {
     "data": {
      "text/plain": [
       "75000"
      ]
     },
     "execution_count": 703,
     "metadata": {},
     "output_type": "execute_result"
    }
   ],
   "source": [
    "50*20*75"
   ]
  },
  {
   "cell_type": "code",
   "execution_count": 704,
   "id": "c9ff57d2",
   "metadata": {
    "ExecuteTime": {
     "end_time": "2022-06-09T14:33:41.664322Z",
     "start_time": "2022-06-09T14:33:41.478274Z"
    }
   },
   "outputs": [],
   "source": [
    "# unfolding theta\n",
    "A_lambda, B_lambda, C_lambda, scatter_lambda = theta[4:8]\n",
    "A_sze, B_sze, C_sze, scatter_sze = theta[:4]\n",
    "rho = theta[-1]\n",
    "\n",
    "# setting grid for integration\n",
    "mm, zz = np.meshgrid(mvec, z)\n",
    "\n",
    "# calling predictions; \n",
    "ln_lbd_pred = (ln_lbd_given_M([A_lambda, B_lambda, C_lambda, scatter_lambda],mm,zz)).T\n",
    "ln_zeta_pred= (ln_zeta_given_M([A_sze, B_sze, C_sze, scatter_sze],mm,zz)).T\n",
    "\n",
    "halo_mass_func = (halo_mass_function(mm, zz)).T"
   ]
  },
  {
   "cell_type": "code",
   "execution_count": 705,
   "id": "4b3a208b",
   "metadata": {
    "ExecuteTime": {
     "end_time": "2022-06-09T14:33:42.232885Z",
     "start_time": "2022-06-09T14:33:41.665686Z"
    }
   },
   "outputs": [
    {
     "data": {
      "text/plain": [
       "<matplotlib.collections.PathCollection at 0x7fb9da6fd970>"
      ]
     },
     "execution_count": 705,
     "metadata": {},
     "output_type": "execute_result"
    },
    {
     "data": {
      "image/png": "[encoded data removed]",
      "text/plain": [
       "<Figure size 432x288 with 1 Axes>"
      ]
     },
     "metadata": {
      "needs_background": "light"
     },
     "output_type": "display_data"
    }
   ],
   "source": [
    "plt.loglog()\n",
    "plt.scatter(mvec, halo_mass_func[:,0])"
   ]
  },
  {
   "cell_type": "code",
   "execution_count": 706,
   "id": "e2d7754c",
   "metadata": {
    "ExecuteTime": {
     "end_time": "2022-06-09T14:33:42.238229Z",
     "start_time": "2022-06-09T14:33:42.235688Z"
    }
   },
   "outputs": [],
   "source": [
    "# the linear relation lnLbd and lnZeta are logNormal\n",
    "# the scatter of a logNormal is different from a normal distribution\n",
    "# see the std from https://en.wikipedia.org/wiki/Log-normal_distribution\n",
    "def logNormal_variance(mu,std):\n",
    "    return (np.exp(std**2)-1)*np.exp(2*mu+std**2)"
   ]
  },
  {
   "cell_type": "code",
   "execution_count": 707,
   "id": "938694ad",
   "metadata": {
    "ExecuteTime": {
     "end_time": "2022-06-09T14:33:42.245582Z",
     "start_time": "2022-06-09T14:33:42.239987Z"
    }
   },
   "outputs": [],
   "source": [
    "# converting std to normal distribution\n",
    "s_zeta = logNormal_variance(ln_zeta_pred, scatter_sze)\n",
    "s_lambda = logNormal_variance(ln_lbd_pred, scatter_lambda)\n",
    "\n",
    "# avoid error messages\n",
    "rho_inv = (1-rho**2)\n",
    "rho_inv = np.where(rho_inv<=eps, -np.inf, 1/rho_inv)\n",
    "\n",
    "# defining standirized variables\n",
    "lbd_std = (lbd - np.exp(ln_lbd_pred))/s_lambda\n",
    "zeta_std = (zeta - np.exp(ln_zeta_pred))/s_zeta\n",
    "\n",
    "# lbd_likelihood\n",
    "lp_lbd  = -rho_inv*lbd_std**2/2 -((lbd-lbd_hat)/lbd_err)**2/2.\n",
    "\n",
    "# zeta likelihood\n",
    "lp_zeta = -rho_inv*zeta_std**2/2 -(chisi-np.sqrt(zeta**2+3))**2/2.\n",
    "\n",
    "# corr likelihod\n",
    "lp_corr = rho*rho_inv*lbd_std*zeta_std\n",
    "\n",
    "lp_total_m = lp_lbd+lp_zeta+lp_corr\n",
    "p_total_m = np.exp(lp_total_m)*halo_mass_func\n",
    "\n",
    "# integrate over M\n",
    "p_total = np.trapz(p_total_m, x=mvec/M0, axis=0)"
   ]
  },
  {
   "cell_type": "code",
   "execution_count": 708,
   "id": "35c3c0d1",
   "metadata": {
    "ExecuteTime": {
     "end_time": "2022-06-09T14:33:42.251830Z",
     "start_time": "2022-06-09T14:33:42.246829Z"
    }
   },
   "outputs": [
    {
     "data": {
      "text/plain": [
       "0.0023325753668892693"
      ]
     },
     "execution_count": 708,
     "metadata": {},
     "output_type": "execute_result"
    }
   ],
   "source": [
    "p_total[0]"
   ]
  },
  {
   "cell_type": "code",
   "execution_count": 709,
   "id": "ffe5dcb1",
   "metadata": {
    "ExecuteTime": {
     "end_time": "2022-06-09T14:33:42.506492Z",
     "start_time": "2022-06-09T14:33:42.253406Z"
    }
   },
   "outputs": [
    {
     "data": {
      "text/plain": [
       "<matplotlib.legend.Legend at 0x7fba8fd42670>"
      ]
     },
     "execution_count": 709,
     "metadata": {},
     "output_type": "execute_result"
    },
    {
     "data": {
      "image/png": "[encoded data removed]",
      "text/plain": [
       "<Figure size 432x288 with 1 Axes>"
      ]
     },
     "metadata": {
      "needs_background": "light"
     },
     "output_type": "display_data"
    }
   ],
   "source": [
    "# plt.loglog()\n",
    "w, = np.where(np.abs(zeta_std[:,0])<2.)\n",
    "plt.scatter(mvec[w],zeta_std[:,0][w],label='zeta')\n",
    "plt.scatter(mvec[w],lbd_std[:,0][w],label='lambda')\n",
    "plt.xscale('log')\n",
    "plt.xlabel(r'M500c [M$_{\\odot}$]',fontsize=14)\n",
    "plt.ylabel('Standarized Variables',fontsize=14)\n",
    "plt.legend(fontsize=14)"
   ]
  },
  {
   "cell_type": "code",
   "execution_count": 710,
   "id": "6795c18d",
   "metadata": {
    "ExecuteTime": {
     "end_time": "2022-06-09T14:33:42.801689Z",
     "start_time": "2022-06-09T14:33:42.507932Z"
    }
   },
   "outputs": [
    {
     "data": {
      "text/plain": [
       "<matplotlib.legend.Legend at 0x7fba24352fa0>"
      ]
     },
     "execution_count": 710,
     "metadata": {},
     "output_type": "execute_result"
    },
    {
     "data": {
      "image/png": "[encoded data removed]",
      "text/plain": [
       "<Figure size 432x288 with 1 Axes>"
      ]
     },
     "metadata": {
      "needs_background": "light"
     },
     "output_type": "display_data"
    }
   ],
   "source": [
    "# plt.loglog()\n",
    "plt.scatter(mvec[w],lp_zeta[:,0][w],label='zeta')\n",
    "plt.scatter(mvec[w],lp_lbd[:,0][w],label='lambda')\n",
    "plt.scatter(mvec[w],lp_corr[:,0][w],label='corr')\n",
    "plt.plot(mvec[w],lp_total_m[:,0][w],label='all',color='k',ls='--')\n",
    "plt.xscale('log')\n",
    "plt.xlabel(r'M500c [M$_{\\odot}$]',fontsize=14)\n",
    "plt.ylabel('Likelihood 1d',fontsize=14)\n",
    "plt.legend(fontsize=14)"
   ]
  },
  {
   "cell_type": "code",
   "execution_count": 711,
   "id": "79aff7e3",
   "metadata": {
    "ExecuteTime": {
     "end_time": "2022-06-09T14:33:43.102243Z",
     "start_time": "2022-06-09T14:33:42.803415Z"
    }
   },
   "outputs": [
    {
     "data": {
      "text/plain": [
       "<matplotlib.legend.Legend at 0x7fba8fe2ea90>"
      ]
     },
     "execution_count": 711,
     "metadata": {},
     "output_type": "execute_result"
    },
    {
     "data": {
      "image/png": "[encoded data removed]",
      "text/plain": [
       "<Figure size 432x288 with 1 Axes>"
      ]
     },
     "metadata": {
      "needs_background": "light"
     },
     "output_type": "display_data"
    }
   ],
   "source": [
    "# plt.loglog()\n",
    "plt.scatter(mvec,p_total_m[:,0],label='w/ halo mass func.',color='k',ls='--')\n",
    "plt.xscale('log')\n",
    "plt.xlabel(r'M200c [M$_{\\odot}$]',fontsize=14)\n",
    "plt.ylabel('Likelihood (Bivariate)',fontsize=14)\n",
    "plt.title(r'$\\rm P(lbd, zeta| M, z) \\times \\frac{dN}{dM}$', fontsize=16)\n",
    "plt.legend(fontsize=14)"
   ]
  },
  {
   "cell_type": "code",
   "execution_count": 712,
   "id": "2a2f2c7f",
   "metadata": {
    "ExecuteTime": {
     "end_time": "2022-06-09T14:33:43.109000Z",
     "start_time": "2022-06-09T14:33:43.104058Z"
    }
   },
   "outputs": [
    {
     "data": {
      "text/plain": [
       "array([2.33257537e-03, 9.93903879e-07, 2.12602046e-05, 3.60624282e-05,\n",
       "       4.13133667e-03, 1.32416313e-04, 3.11747728e-10, 2.56391452e-06,\n",
       "       1.15355750e-06, 1.24873278e-06])"
      ]
     },
     "execution_count": 712,
     "metadata": {},
     "output_type": "execute_result"
    }
   ],
   "source": [
    "p = compute_dn_dlbd_dzeta(lbd_hat[0], zeta, lbd_hat, lbd_err, chisi, ln_lbd_pred, ln_zeta_pred, halo_mass_func,\n",
    "                          scatter_lambda, scatter_sze, rho)\n",
    "p"
   ]
  },
  {
   "cell_type": "code",
   "execution_count": null,
   "id": "a587ceaf",
   "metadata": {
    "ExecuteTime": {
     "end_time": "2022-06-08T21:36:37.647085Z",
     "start_time": "2022-06-08T21:36:37.642284Z"
    }
   },
   "outputs": [],
   "source": []
  },
  {
   "cell_type": "code",
   "execution_count": 713,
   "id": "2d4b720c",
   "metadata": {
    "ExecuteTime": {
     "end_time": "2022-06-09T14:33:43.112194Z",
     "start_time": "2022-06-09T14:33:43.110381Z"
    }
   },
   "outputs": [],
   "source": [
    "# res_zeta/1e-12"
   ]
  },
  {
   "cell_type": "code",
   "execution_count": 714,
   "id": "18631ad6",
   "metadata": {
    "ExecuteTime": {
     "end_time": "2022-06-09T14:33:44.938009Z",
     "start_time": "2022-06-09T14:33:43.115489Z"
    }
   },
   "outputs": [
    {
     "data": {
      "text/plain": [
       "array([0.02991561, 0.07534315, 0.01445104, 0.01690993, 0.34451162,\n",
       "       0.0110008 , 0.0645981 , 0.04545433, 0.38015729, 0.01765815])"
      ]
     },
     "execution_count": 714,
     "metadata": {},
     "output_type": "execute_result"
    }
   ],
   "source": [
    "# integrating over zeta, lambda\n",
    "nsize = len(lbd_hat)\n",
    "# integrating over zeta, lambda\n",
    "res_zeta = np.full((zetavec.size, nsize),np.nan,dtype=float)\n",
    "res_lbd = np.full((lbdvec.size, nsize),np.nan,dtype=float)\n",
    "\n",
    "for j,li in enumerate(lbdvec):\n",
    "    for i,zi in enumerate(zetavec):\n",
    "        res_zeta[i] = compute_dn_dlbd_dzeta(li, zi, lbd_hat, lbd_err, chisi, ln_lbd_pred, ln_zeta_pred, halo_mass_func,\n",
    "                                          scatter_lambda, scatter_sze, rho)\n",
    "    # integrate over zeta for a given lambda\n",
    "    res_lbd[j] = np.trapz(res_zeta, axis=0)\n",
    "# integrate over lambda\n",
    "prob = np.trapz(res_lbd, x=lbdvec, axis=0)\n",
    "# normalize over all posibilities\n",
    "prob = prob/np.sum(prob)\n",
    "prob"
   ]
  },
  {
   "cell_type": "code",
   "execution_count": 715,
   "id": "1ca0c2db",
   "metadata": {
    "ExecuteTime": {
     "end_time": "2022-06-09T14:33:46.737078Z",
     "start_time": "2022-06-09T14:33:44.939600Z"
    }
   },
   "outputs": [
    {
     "data": {
      "text/plain": [
       "array([0.02991561, 0.07534315, 0.01445104, 0.01690993, 0.34451162,\n",
       "       0.0110008 , 0.0645981 , 0.04545433, 0.38015729, 0.01765815])"
      ]
     },
     "execution_count": 715,
     "metadata": {},
     "output_type": "execute_result"
    }
   ],
   "source": [
    "marginalize_over_lbd_zeta(lbd_hat, lbd_err, chisi, ln_lbd_pred, ln_zeta_pred, halo_mass_func,\n",
    "                              scatter_lambda, scatter_sze, rho)"
   ]
  },
  {
   "cell_type": "code",
   "execution_count": null,
   "id": "f78cb105",
   "metadata": {
    "ExecuteTime": {
     "end_time": "2022-06-08T21:43:23.852732Z",
     "start_time": "2022-06-08T21:43:23.705904Z"
    }
   },
   "outputs": [],
   "source": []
  },
  {
   "cell_type": "code",
   "execution_count": 716,
   "id": "aba91799",
   "metadata": {
    "ExecuteTime": {
     "end_time": "2022-06-09T14:33:46.741091Z",
     "start_time": "2022-06-09T14:33:46.738528Z"
    }
   },
   "outputs": [],
   "source": [
    "y = np.vstack([lbd_hat,chisi])\n",
    "yerr = lbd_err"
   ]
  },
  {
   "cell_type": "code",
   "execution_count": 717,
   "id": "bfe02a43",
   "metadata": {
    "ExecuteTime": {
     "end_time": "2022-06-09T14:33:48.524622Z",
     "start_time": "2022-06-09T14:33:46.743547Z"
    }
   },
   "outputs": [
    {
     "data": {
      "text/plain": [
       "-30.8216808183721"
      ]
     },
     "execution_count": 717,
     "metadata": {},
     "output_type": "execute_result"
    }
   ],
   "source": [
    "lnP = log_likelihood(theta, z, y, yerr, eps=1e-9)\n",
    "lnP\n",
    "\n",
    "# it takes 2s one evalution on array of 10 clusters"
   ]
  },
  {
   "cell_type": "code",
   "execution_count": null,
   "id": "7d85839a",
   "metadata": {
    "ExecuteTime": {
     "end_time": "2022-06-08T21:55:51.234289Z",
     "start_time": "2022-06-08T21:55:51.229101Z"
    }
   },
   "outputs": [],
   "source": []
  },
  {
   "cell_type": "markdown",
   "id": "5bbd2bc4",
   "metadata": {
    "ExecuteTime": {
     "end_time": "2022-06-08T21:06:47.925882Z",
     "start_time": "2022-06-08T21:06:47.916127Z"
    }
   },
   "source": [
    "## A meshgrid array of 3D"
   ]
  },
  {
   "cell_type": "code",
   "execution_count": 718,
   "id": "efa4403f",
   "metadata": {
    "ExecuteTime": {
     "end_time": "2022-06-09T14:33:48.537552Z",
     "start_time": "2022-06-09T14:33:48.525966Z"
    }
   },
   "outputs": [],
   "source": [
    "from scipy.integrate import simps\n",
    "\n",
    "# given: mvec, lbdvec and zetavec\n",
    "mm, zz, ll = np.meshgrid(mvec, zetavec, lbdvec, indexing='ij')\n",
    "def log_likelihood_vec(theta, z, y, yerr, eps=1e-9):\n",
    "    # defining variables\n",
    "    lbd_hat, chisi = y[0], y[1]\n",
    "    lbd_err = yerr\n",
    "    probs = []\n",
    "    for lbd_hat_i, lbd_err_i, chisi_i, z_i in zip(lbd_hat, lbd_err, chisi, z):\n",
    "        probs.append(_log_likelihood(theta, lbd_hat_i, lbd_err_i, chisi_i, z_i))    \n",
    "    p = np.array(probs)/np.sum(probs)\n",
    "    return np.sum(np.log(p))\n",
    "\n",
    "def _log_likelihood(theta, lbd_hat_i, lbd_err_i, chisi_i, z_i):\n",
    "    # unfolding theta\n",
    "    A_lambda, B_lambda, C_lambda, scatter_lambda = theta[4:8]\n",
    "    A_sze, B_sze, C_sze, scatter_sze = theta[:4]\n",
    "    rho = theta[-1]\n",
    "    \n",
    "    # calling predictions;\n",
    "    ln_lbd_pred = ln_lbd_given_M([A_lambda, B_lambda, C_lambda, scatter_lambda], mvec, z_i)\n",
    "    ln_zeta_pred= ln_zeta_given_M([A_sze, B_sze, C_sze, scatter_sze], mvec, z_i)\n",
    "    halo_mass_func = halo_mass_function2(z_i)\n",
    "\n",
    "    hmf = np.tile(halo_mass_func, (len(lbdvec), len(zetavec), 1)).T\n",
    "    ln_lbd_pred = np.tile(ln_lbd_pred, (len(lbdvec), len(zetavec), 1)).T\n",
    "    ln_zeta_pred = np.tile(ln_zeta_pred, (len(lbdvec), len(zetavec), 1)).T\n",
    "    \n",
    "    # compute dn_dlbd_dzeta_integrand\n",
    "    p_total_m = compute_dn_dlbd_dzeta_vec(lbd_hat_i, lbd_err_i, chisi_i,\n",
    "                                          scatter_lambda, scatter_sze, rho,\n",
    "                                          ln_lbd_pred, ln_zeta_pred, hmf)\n",
    "    # integrate over M\n",
    "    p_lbd_zeta = np.trapz(p_total_m, x=mvec, axis=0)\n",
    "\n",
    "    # integrate over zeta\n",
    "    p_lbd = np.trapz(p_lbd_zeta, x=zetavec, axis=0)\n",
    "\n",
    "    # integrate over lambda\n",
    "    p = np.trapz(p_lbd, x=lbdvec, axis=0)\n",
    "    return p#np.log(p)\n",
    "\n",
    "def compute_dn_dlbd_dzeta_vec(lbd_hat_i, lbd_err_i, chisi_i,\n",
    "                              scatter_lambda, scatter_sze, rho,\n",
    "                              ln_lbd_pred, ln_zeta_pred, hmf):\n",
    "    # converting std to normal distribution\n",
    "    s_zeta = logNormal_variance(ln_zeta_pred, scatter_sze)\n",
    "    s_lambda = logNormal_variance(ln_lbd_pred, scatter_lambda)\n",
    "\n",
    "    # avoid error messages\n",
    "    rho_inv = (1-rho**2)\n",
    "    rho_inv = np.where(rho_inv<=eps, -np.inf, 1/rho_inv)\n",
    "\n",
    "    # defining standirized variables\n",
    "    lbd_std = (ll - np.exp(ln_lbd_pred))/s_lambda\n",
    "    zeta_std = (zz - np.exp(ln_zeta_pred))/s_zeta\n",
    "\n",
    "    # lbd_likelihood\n",
    "    lp_lbd  = -rho_inv*lbd_std**2/2 -((ll-lbd_hat_i)/lbd_err_i)**2/2.\n",
    "\n",
    "    # zeta likelihood\n",
    "    lp_zeta = -rho_inv*zeta_std**2/2 -(chisi_i-np.sqrt(zz**2+3))**2/2.\n",
    "\n",
    "    # corr likelihod\n",
    "    lp_corr = rho*rho_inv*lbd_std*zeta_std\n",
    "\n",
    "    lp_total_m = lp_lbd+lp_zeta+lp_corr\n",
    "    p_total_m = np.exp(lp_total_m)*hmf\n",
    "    return p_total_m"
   ]
  },
  {
   "cell_type": "code",
   "execution_count": 727,
   "id": "3335ffa4",
   "metadata": {
    "ExecuteTime": {
     "end_time": "2022-06-09T14:33:52.287421Z",
     "start_time": "2022-06-09T14:33:52.280109Z"
    }
   },
   "outputs": [
    {
     "name": "stdout",
     "output_type": "stream",
     "text": [
      "13.0014515\n",
      "4.8004847\n"
     ]
    }
   ],
   "source": [
    "# for a given cluster, i.e. a vector (lbd_hat_i, chisi_i, z_i)\n",
    "\n",
    "# ix = np.arange(len(lambda_chisq))[lambda_chisq>0][np.argmin(sz_signal[lambda_chisq>0])]\n",
    "ix = np.arange(len(lambda_chisq))[lambda_chisq>0][np.argmin(lambda_chisq[lambda_chisq>0])]\n",
    "\n",
    "lbd_hat_i = lambda_chisq[ix]\n",
    "lbd_err_i = lambda_chisqE[ix]\n",
    "chisi_i = sz_signal[ix]\n",
    "z_i = redshift[ix]\n",
    "print(lbd_hat_i)\n",
    "print(chisi_i)"
   ]
  },
  {
   "cell_type": "code",
   "execution_count": 728,
   "id": "ed82cceb",
   "metadata": {
    "ExecuteTime": {
     "end_time": "2022-06-09T14:33:52.822795Z",
     "start_time": "2022-06-09T14:33:52.777301Z"
    }
   },
   "outputs": [
    {
     "name": "stdout",
     "output_type": "stream",
     "text": [
      "(75, 75, 150)\n"
     ]
    }
   ],
   "source": [
    "# calling predictions;\n",
    "ln_lbd_pred = ln_lbd_given_M([A_lambda, B_lambda, C_lambda, scatter_lambda], mvec, z_i)\n",
    "ln_zeta_pred= ln_zeta_given_M([A_sze, B_sze, C_sze, scatter_sze], mvec, z_i)\n",
    "halo_mass_func = halo_mass_function(mvec, z_i)\n",
    "\n",
    "hmf = np.tile(halo_mass_func, (len(lbdvec), len(zetavec), 1)).T\n",
    "ln_lbd_pred = np.tile(ln_lbd_pred, (len(lbdvec), len(zetavec), 1)).T\n",
    "ln_zeta_pred = np.tile(ln_zeta_pred, (len(lbdvec), len(zetavec), 1)).T\n",
    "print(hmf.shape)"
   ]
  },
  {
   "cell_type": "code",
   "execution_count": 729,
   "id": "d0e499e6",
   "metadata": {
    "ExecuteTime": {
     "end_time": "2022-06-09T14:33:52.902374Z",
     "start_time": "2022-06-09T14:33:52.854108Z"
    }
   },
   "outputs": [
    {
     "name": "stdout",
     "output_type": "stream",
     "text": [
      "(75, 75, 150)\n",
      "(75, 75, 150)\n"
     ]
    }
   ],
   "source": [
    "# converting std to normal distribution\n",
    "s_zeta = logNormal_variance(ln_zeta_pred, scatter_sze)\n",
    "s_lambda = logNormal_variance(ln_lbd_pred, scatter_lambda)\n",
    "\n",
    "# avoid error messages\n",
    "rho_inv = (1-rho**2)\n",
    "rho_inv = np.where(rho_inv<=eps, -np.inf, 1/rho_inv)\n",
    "\n",
    "# # defining standirized variables\n",
    "lbd_std = (ll - np.exp(ln_lbd_pred))/s_lambda\n",
    "zeta_std = (zz - np.exp(ln_zeta_pred))/s_zeta\n",
    "\n",
    "# lbd_likelihood\n",
    "lp_lbd  = -rho_inv*lbd_std**2/2 #-((ll-lbd_hat_i)/lbd_err_i)**2/2.\n",
    "\n",
    "# zeta likelihood\n",
    "lp_zeta = -rho_inv*zeta_std**2/2 #-(chisi_i-np.sqrt(zz**2+3))**2/2.\n",
    "\n",
    "# corr likelihod\n",
    "lp_corr = rho*rho_inv*lbd_std*zeta_std\n",
    "\n",
    "lp_total_m = lp_lbd+lp_zeta+lp_corr\n",
    "p_total_m = np.exp(lp_total_m)*hmf#/M0\n",
    "#p_total_m = np.where(p_total_m<eps, 0., p_total_m)\n",
    "\n",
    "# integrate over M\n",
    "p_lbd_zeta = simps(p_total_m, x=mvec, axis=0)\n",
    "\n",
    "print(ll.shape)\n",
    "print(ln_lbd_pred.shape)"
   ]
  },
  {
   "cell_type": "code",
   "execution_count": 730,
   "id": "54b8853d",
   "metadata": {
    "ExecuteTime": {
     "end_time": "2022-06-09T14:33:53.283890Z",
     "start_time": "2022-06-09T14:33:52.940764Z"
    }
   },
   "outputs": [
    {
     "data": {
      "text/plain": [
       "<matplotlib.legend.Legend at 0x7fba8ff43280>"
      ]
     },
     "execution_count": 730,
     "metadata": {},
     "output_type": "execute_result"
    },
    {
     "data": {
      "image/png": "[encoded data removed]",
      "text/plain": [
       "<Figure size 432x288 with 1 Axes>"
      ]
     },
     "metadata": {
      "needs_background": "light"
     },
     "output_type": "display_data"
    }
   ],
   "source": [
    "# plt.loglog()\n",
    "w, = np.where(np.abs(zeta_std[:,0,0])<11.)\n",
    "plt.scatter(mvec[w],lp_zeta[:,0,0][w],label='zeta')\n",
    "plt.scatter(mvec[w],lp_lbd[:,0,0][w],label='lambda')\n",
    "plt.scatter(mvec[w],lp_corr[:,0,0][w],label='corr')\n",
    "plt.plot(mvec[w],lp_total_m[:,0,0][w],label='all',color='k',ls='--')\n",
    "plt.xscale('log')\n",
    "plt.xlabel(r'M500c [M$_{\\odot}$]',fontsize=14)\n",
    "plt.ylabel('Likelihood 1d',fontsize=14)\n",
    "plt.legend(fontsize=14)"
   ]
  },
  {
   "cell_type": "code",
   "execution_count": null,
   "id": "0209df74",
   "metadata": {},
   "outputs": [],
   "source": []
  },
  {
   "cell_type": "code",
   "execution_count": 731,
   "id": "fc3c9971",
   "metadata": {
    "ExecuteTime": {
     "end_time": "2022-06-09T14:33:53.330857Z",
     "start_time": "2022-06-09T14:33:53.326945Z"
    }
   },
   "outputs": [],
   "source": [
    "def prob_chisi(zeta, chisi, eps=1e-12):\n",
    "    res = np.exp(-(chisi-np.sqrt(zeta**2+2))**2/2.)/np.sqrt(2*np.pi)\n",
    "    return res#np.where(res<eps,0.,res)\n",
    "\n",
    "def gaussian(x,mu,std):\n",
    "    return np.exp(-(x-mu)**2/std**2/2.)/np.sqrt(2*np.pi*std**2)\n",
    "\n",
    "def prob_lbd_hat(lbd, lbd_hat, lbd_error, eps=1e-12):\n",
    "    res = gaussian(lbd, lbd_hat, lbd_error)\n",
    "    return res#np.where(res<eps,0.,res)"
   ]
  },
  {
   "cell_type": "code",
   "execution_count": 732,
   "id": "c489fe97",
   "metadata": {
    "ExecuteTime": {
     "end_time": "2022-06-09T14:33:53.541564Z",
     "start_time": "2022-06-09T14:33:53.529544Z"
    }
   },
   "outputs": [],
   "source": [
    "p_chisi = prob_chisi(zetavec, chisi_i)\n",
    "p_lbd_hat = prob_lbd_hat(lbdvec, lbd_hat_i, lbd_err_i)\n",
    "\n",
    "p_chisi = np.tile(p_chisi, (len(lbdvec), 1)).T\n",
    "\n",
    "# integrate over zeta\n",
    "p_lbd = simps(p_lbd_zeta*p_chisi, x=zetavec, axis=0)\n",
    "\n",
    "# integrate over zeta\n",
    "p = simps(p_lbd*p_lbd_hat, x=lbdvec, axis=0)\n"
   ]
  },
  {
   "cell_type": "code",
   "execution_count": 733,
   "id": "375ae1a9",
   "metadata": {
    "ExecuteTime": {
     "end_time": "2022-06-09T14:33:53.749889Z",
     "start_time": "2022-06-09T14:33:53.746128Z"
    }
   },
   "outputs": [],
   "source": [
    "doNorm = lambda x: x/np.sum(x)"
   ]
  },
  {
   "cell_type": "code",
   "execution_count": 734,
   "id": "83ae0b35",
   "metadata": {
    "ExecuteTime": {
     "end_time": "2022-06-09T14:33:54.293063Z",
     "start_time": "2022-06-09T14:33:53.963658Z"
    }
   },
   "outputs": [
    {
     "data": {
      "text/plain": [
       "Text(0.5, 0, 'lambda')"
      ]
     },
     "execution_count": 734,
     "metadata": {},
     "output_type": "execute_result"
    },
    {
     "data": {
      "image/png": "[encoded data removed]",
      "text/plain": [
       "<Figure size 432x288 with 1 Axes>"
      ]
     },
     "metadata": {
      "needs_background": "light"
     },
     "output_type": "display_data"
    }
   ],
   "source": [
    "plt.xscale('log')\n",
    "plt.scatter(lbdvec, doNorm(p_lbd),label='dn_lbd_zeta')\n",
    "plt.scatter(lbdvec, doNorm(p_lbd_hat),label='prob_chisi')\n",
    "plt.scatter(lbdvec, doNorm(p_lbd_hat*p_lbd),color='k',label='prob_chisi x dn_lbd_zeta')\n",
    "plt.legend(fontsize=12)\n",
    "plt.xlabel('lambda',fontsize=14)"
   ]
  },
  {
   "cell_type": "code",
   "execution_count": 735,
   "id": "b2054794",
   "metadata": {
    "ExecuteTime": {
     "end_time": "2022-06-09T14:33:54.597023Z",
     "start_time": "2022-06-09T14:33:54.294687Z"
    }
   },
   "outputs": [
    {
     "data": {
      "text/plain": [
       "Text(0.5, 0, 'zeta')"
      ]
     },
     "execution_count": 735,
     "metadata": {},
     "output_type": "execute_result"
    },
    {
     "data": {
      "image/png": "[encoded data removed]",
      "text/plain": [
       "<Figure size 432x288 with 1 Axes>"
      ]
     },
     "metadata": {
      "needs_background": "light"
     },
     "output_type": "display_data"
    }
   ],
   "source": [
    "plt.xscale('log')\n",
    "plt.scatter(zetavec, doNorm(p_lbd_zeta[:,2]),label='dn_lbd_zeta')\n",
    "plt.scatter(zetavec, doNorm(p_chisi[:,2]),label='prob_chisi')\n",
    "plt.scatter(zetavec, doNorm(p_lbd_zeta[:,2]*p_chisi[:,2]),color='k',label='prob_chisi x dn_lbd_zeta')\n",
    "plt.legend(fontsize=12)\n",
    "plt.xlabel('zeta',fontsize=14)"
   ]
  },
  {
   "cell_type": "code",
   "execution_count": 736,
   "id": "2f6e49b1",
   "metadata": {
    "ExecuteTime": {
     "end_time": "2022-06-09T14:33:54.604309Z",
     "start_time": "2022-06-09T14:33:54.598628Z"
    }
   },
   "outputs": [
    {
     "name": "stdout",
     "output_type": "stream",
     "text": [
      "0 22\n",
      "0 17\n"
     ]
    }
   ],
   "source": [
    "cpchisi = np.cumsum(p_chisi[:,0]/np.sum(p_chisi[:,0]),axis=0)\n",
    "cplbdhat= np.cumsum(p_lbd_hat/np.sum(p_lbd_hat),axis=0)\n",
    "\n",
    "clo,cup = np.interp([0.0001,0.9999],cpchisi,np.arange(len(zetavec))).astype(int)+(0,2)\n",
    "llo,lup = np.interp([0.0001,0.9999],cplbdhat,np.arange(len(lbdvec))).astype(int)+(0,2)\n",
    "\n",
    "print(clo,cup)\n",
    "print(llo,lup)\n",
    "p_lbd2 = simps(p_lbd_zeta[clo:cup,:]*p_chisi[clo:cup,:], x=zetavec[clo:cup], axis=0)\n",
    "p2 = simps(p_lbd[llo:lup]*p_lbd_hat[llo:lup], x=lbdvec[llo:lup], axis=0)"
   ]
  },
  {
   "cell_type": "code",
   "execution_count": 737,
   "id": "87078644",
   "metadata": {
    "ExecuteTime": {
     "end_time": "2022-06-09T14:33:54.857320Z",
     "start_time": "2022-06-09T14:33:54.848199Z"
    }
   },
   "outputs": [
    {
     "name": "stdout",
     "output_type": "stream",
     "text": [
      "precision 1: 0.42\n",
      "precision 2: 0.04\n"
     ]
    }
   ],
   "source": [
    "precision1 = np.mean(np.abs(1-p_lbd2/p_lbd)*100)\n",
    "precision2 = np.mean(np.abs(1-p2/p)*100)\n",
    "print('precision 1: %.2f'%precision1)\n",
    "print('precision 2: %.2f'%precision2)"
   ]
  },
  {
   "cell_type": "code",
   "execution_count": 738,
   "id": "1b513c58",
   "metadata": {
    "ExecuteTime": {
     "end_time": "2022-06-09T14:33:55.486242Z",
     "start_time": "2022-06-09T14:33:55.207189Z"
    }
   },
   "outputs": [
    {
     "data": {
      "text/plain": [
       "Text(0.5, 0, 'lambda')"
      ]
     },
     "execution_count": 738,
     "metadata": {},
     "output_type": "execute_result"
    },
    {
     "data": {
      "image/png": "[encoded data removed]",
      "text/plain": [
       "<Figure size 432x288 with 1 Axes>"
      ]
     },
     "metadata": {
      "needs_background": "light"
     },
     "output_type": "display_data"
    }
   ],
   "source": [
    "plt.xscale('log')\n",
    "plt.scatter(lbdvec, p_lbd_hat*p_lbd,color='k',label='prob_chisi x dn_lbd_zeta')\n",
    "plt.scatter(lbdvec[llo:lup], p_lbd_hat[llo:lup]*p_lbd[llo:lup],color='r',marker='x',label='approx.')\n",
    "plt.legend(fontsize=12)\n",
    "plt.xlabel('lambda',fontsize=14)"
   ]
  },
  {
   "cell_type": "code",
   "execution_count": 739,
   "id": "753240ed",
   "metadata": {
    "ExecuteTime": {
     "end_time": "2022-06-09T14:33:56.088441Z",
     "start_time": "2022-06-09T14:33:55.832986Z"
    }
   },
   "outputs": [
    {
     "name": "stderr",
     "output_type": "stream",
     "text": [
      "No handles with labels found to put in legend.\n"
     ]
    },
    {
     "data": {
      "text/plain": [
       "Text(0.5, 0, 'zeta')"
      ]
     },
     "execution_count": 739,
     "metadata": {},
     "output_type": "execute_result"
    },
    {
     "data": {
      "image/png": "[encoded data removed]",
      "text/plain": [
       "<Figure size 432x288 with 1 Axes>"
      ]
     },
     "metadata": {
      "needs_background": "light"
     },
     "output_type": "display_data"
    }
   ],
   "source": [
    "plt.xscale('log')\n",
    "plt.scatter(zetavec, p_lbd_zeta[:,2]*p_chisi[:,2])\n",
    "plt.scatter(zetavec[clo:cup], p_lbd_zeta[clo:cup,2]*p_chisi[clo:cup,2], marker='x')\n",
    "# plt.scatter(zetavec,np.cumsum(p_chisi[:,2]/np.sum(p_chisi[:,2]),axis=0))\n",
    "\n",
    "plt.legend(fontsize=12)\n",
    "plt.xlabel('zeta',fontsize=14)\n"
   ]
  },
  {
   "cell_type": "code",
   "execution_count": null,
   "id": "51140c8a",
   "metadata": {},
   "outputs": [],
   "source": []
  },
  {
   "cell_type": "markdown",
   "id": "2cc85b92",
   "metadata": {},
   "source": [
    "## testing new integration scheme"
   ]
  },
  {
   "cell_type": "code",
   "execution_count": 744,
   "id": "091f12a5",
   "metadata": {
    "ExecuteTime": {
     "end_time": "2022-06-09T14:36:24.134123Z",
     "start_time": "2022-06-09T14:36:24.127217Z"
    }
   },
   "outputs": [],
   "source": [
    "# taking only points with a significant p_chisi/lbd_hat\n",
    "\n",
    "def slice_array(y,alpha=1e-2):\n",
    "    cy = np.cumsum(y/np.sum(y),axis=0)\n",
    "    ilo,iup = np.interp([alpha,1-alpha],cy,np.arange(len(y))).astype(int)+(0,2)\n",
    "    return ilo, iup"
   ]
  },
  {
   "cell_type": "code",
   "execution_count": 745,
   "id": "cd6ed8c8",
   "metadata": {
    "ExecuteTime": {
     "end_time": "2022-06-09T14:36:24.425382Z",
     "start_time": "2022-06-09T14:36:24.397313Z"
    }
   },
   "outputs": [],
   "source": [
    "from scipy.integrate import simps\n",
    "\n",
    "# given: mvec, lbdvec and zetavec\n",
    "mm, zz, ll = np.meshgrid(mvec, zetavec, lbdvec, indexing='ij')\n",
    "\n",
    "def log_likelihood_vec2(theta, z, y, yerr, eps=1e-9):\n",
    "    # defining variables\n",
    "    lbd_hat, chisi = y[0], y[1]\n",
    "    lbd_err = yerr\n",
    "    probs = []\n",
    "    for lbd_hat_i, lbd_err_i, chisi_i, z_i in zip(lbd_hat, lbd_err, chisi, z):\n",
    "        probs.append(_log_likelihood2(theta, lbd_hat_i, lbd_err_i, chisi_i, z_i))    \n",
    "    p = np.array(probs)/np.sum(probs)\n",
    "    return np.sum(np.log(p))\n",
    "\n",
    "def _log_likelihood2(theta, lbd_hat_i, lbd_err_i, chisi_i, z_i):\n",
    "    # unfolding theta\n",
    "    A_lambda, B_lambda, C_lambda, scatter_lambda = theta[4:8]\n",
    "    A_sze, B_sze, C_sze, scatter_sze = theta[:4]\n",
    "    rho = theta[-1]\n",
    "    \n",
    "    # calling predictions;\n",
    "    ln_lbd_pred = ln_lbd_given_M([A_lambda, B_lambda, C_lambda, scatter_lambda], mvec, z_i)\n",
    "    ln_zeta_pred= ln_zeta_given_M([A_sze, B_sze, C_sze, scatter_sze], mvec, z_i)\n",
    "    halo_mass_func = halo_mass_function2(z_i)\n",
    "    \n",
    "    # error probabilities\n",
    "    p_chisi = prob_chisi(zetavec, chisi_i)\n",
    "    p_lbd_hat = prob_lbd_hat(lbdvec, lbd_hat_i, lbd_err_i)\n",
    "    \n",
    "    # take only significant p_lbd_hat values\n",
    "    llo, lup = slice_array(p_lbd_hat,alpha=1e-4)\n",
    "    clo, cup = slice_array(p_chisi,alpha=1e-4)\n",
    "    \n",
    "    hmf = np.tile(halo_mass_func, (int(lup-llo), int(cup-clo), 1)).T\n",
    "    ln_lbd_pred = np.tile(ln_lbd_pred, (int(lup-llo), int(cup-clo), 1)).T\n",
    "    ln_zeta_pred = np.tile(ln_zeta_pred, (int(lup-llo), int(cup-clo), 1)).T\n",
    "    \n",
    "    # compute dn_dlbd_dzeta_integrand\n",
    "    p_total_m = compute_dn_dlbd_dzeta_vec2(lbd_hat_i, lbd_err_i, chisi_i,\n",
    "                                           scatter_lambda, scatter_sze, rho,\n",
    "                                           ll[:,clo:cup,llo:lup],zz[:,clo:cup,llo:lup],\n",
    "                                           ln_lbd_pred, ln_zeta_pred, hmf)\n",
    "    # integrate over M\n",
    "    p_lbd_zeta = np.trapz(p_total_m, x=mvec, axis=0)\n",
    "\n",
    "    # integrate over zeta\n",
    "    p_chisi = np.tile(p_chisi[clo:cup], (int(lup-llo), 1)).T\n",
    "    p_lbd = np.trapz(p_lbd_zeta*p_chisi, x=zetavec[clo:cup], axis=0)\n",
    "\n",
    "    # integrate over lambda\n",
    "    p = np.trapz(p_lbd, x=lbdvec[llo:lup], axis=0)\n",
    "    return p#np.log(p)\n",
    "\n",
    "def compute_dn_dlbd_dzeta_vec2(lbd_hat_i, lbd_err_i, chisi_i,\n",
    "                               scatter_lambda, scatter_sze, rho,\n",
    "                               lvec, zvec, ln_lbd_pred, ln_zeta_pred, hmf):\n",
    "    # converting std to normal distribution\n",
    "    s_zeta = logNormal_variance(ln_zeta_pred, scatter_sze)\n",
    "    s_lambda = logNormal_variance(ln_lbd_pred, scatter_lambda)\n",
    "    \n",
    "    # avoid error messages\n",
    "    rho_inv = (1-rho**2)\n",
    "    rho_inv = np.where(rho_inv<=eps, -np.inf, 1/rho_inv)\n",
    "\n",
    "    # defining standirized variables\n",
    "    lbd_std = (lvec - np.exp(ln_lbd_pred))/s_lambda\n",
    "    zeta_std = (zvec - np.exp(ln_zeta_pred))/s_zeta\n",
    "\n",
    "    # lbd_likelihood\n",
    "    lp_lbd  = -rho_inv*lbd_std**2/2\n",
    "\n",
    "    # zeta likelihood\n",
    "    lp_zeta = -rho_inv*zeta_std**2/2\n",
    "\n",
    "    # corr likelihod\n",
    "    lp_corr = rho*rho_inv*lbd_std*zeta_std\n",
    "\n",
    "    lp_total_m = lp_lbd+lp_zeta+lp_corr\n",
    "    p_total_m = np.exp(lp_total_m)*hmf\n",
    "    return p_total_m\n"
   ]
  },
  {
   "cell_type": "code",
   "execution_count": 746,
   "id": "5d5735b7",
   "metadata": {
    "ExecuteTime": {
     "end_time": "2022-06-09T14:36:24.927461Z",
     "start_time": "2022-06-09T14:36:24.861597Z"
    }
   },
   "outputs": [
    {
     "data": {
      "text/plain": [
       "-30.091649210587768"
      ]
     },
     "execution_count": 746,
     "metadata": {},
     "output_type": "execute_result"
    }
   ],
   "source": [
    "log_likelihood_vec2(theta, z, y, yerr, eps=1e-9)"
   ]
  },
  {
   "cell_type": "code",
   "execution_count": 747,
   "id": "26a3d1cf",
   "metadata": {
    "ExecuteTime": {
     "end_time": "2022-06-09T14:36:25.960034Z",
     "start_time": "2022-06-09T14:36:25.495285Z"
    }
   },
   "outputs": [
    {
     "data": {
      "text/plain": [
       "-30.821681497999208"
      ]
     },
     "execution_count": 747,
     "metadata": {},
     "output_type": "execute_result"
    }
   ],
   "source": [
    "log_likelihood_vec(theta, z, y, yerr, eps=1e-9)"
   ]
  },
  {
   "cell_type": "markdown",
   "id": "73aa09a4",
   "metadata": {},
   "source": [
    "The `log_likelihood_vec2` is much faster, perfoms at 10ms scale while the other are >100ms."
   ]
  },
  {
   "cell_type": "code",
   "execution_count": null,
   "id": "7ee6b0b9",
   "metadata": {},
   "outputs": [],
   "source": []
  }
 ],
 "metadata": {
  "kernelspec": {
   "display_name": "Python 3",
   "language": "python",
   "name": "python3"
  },
  "language_info": {
   "codemirror_mode": {
    "name": "ipython",
    "version": 3
   },
   "file_extension": ".py",
   "mimetype": "text/x-python",
   "name": "python",
   "nbconvert_exporter": "python",
   "pygments_lexer": "ipython3",
   "version": "3.8.8"
  },
  "latex_envs": {
   "LaTeX_envs_menu_present": true,
   "autoclose": true,
   "autocomplete": true,
   "bibliofile": "biblio.bib",
   "cite_by": "apalike",
   "current_citInitial": 1,
   "eqLabelWithNumbers": true,
   "eqNumInitial": 1,
   "hotkeys": {
    "equation": "Ctrl-E",
    "itemize": "Ctrl-I"
   },
   "labels_anchors": false,
   "latex_user_defs": false,
   "report_style_numbering": true,
   "user_envs_cfg": false
  },
  "toc": {
   "base_numbering": 1,
   "nav_menu": {},
   "number_sections": true,
   "sideBar": true,
   "skip_h1_title": false,
   "title_cell": "Table of Contents",
   "title_sidebar": "Contents",
   "toc_cell": false,
   "toc_position": {},
   "toc_section_display": true,
   "toc_window_display": false
  }
 },
 "nbformat": 4,
 "nbformat_minor": 5
}
