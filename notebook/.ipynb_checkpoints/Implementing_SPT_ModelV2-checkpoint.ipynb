{
 "cells": [
  {
   "cell_type": "markdown",
   "id": "fdad981e-2966-4cab-8c4d-303294e41d23",
   "metadata": {},
   "source": [
    "# Implementing the SPT Model"
   ]
  },
  {
   "cell_type": "markdown",
   "id": "133223a3-e832-4d56-a3a2-438f59138cc6",
   "metadata": {},
   "source": [
    "Modifications: Johnny Esteves\\\n",
    "Author: Allen Pinjic - Created on June 6th, 2022"
   ]
  },
  {
   "cell_type": "code",
   "execution_count": 1,
   "id": "6dc085b0-5c86-4a63-a186-b4b078226b79",
   "metadata": {
    "ExecuteTime": {
     "end_time": "2022-06-09T05:22:47.176526Z",
     "start_time": "2022-06-09T05:22:46.280231Z"
    }
   },
   "outputs": [],
   "source": [
    "from astropy.io.fits import getdata\n",
    "from astropy.table import Table\n",
    "from astropy.cosmology import WMAP9 as cosmo"
   ]
  },
  {
   "cell_type": "code",
   "execution_count": 2,
   "id": "45b01c2b-1af4-4b63-a438-7ad66fa5bda1",
   "metadata": {
    "ExecuteTime": {
     "end_time": "2022-06-09T05:22:56.480179Z",
     "start_time": "2022-06-09T05:22:47.178097Z"
    }
   },
   "outputs": [],
   "source": [
    "import numpy as np\n",
    "import pandas as pd\n",
    "import arviz as az\n",
    "import matplotlib.pyplot as plt\n",
    "import pylab as plt\n",
    "import pymc3 as pm\n",
    "import aesara\n",
    "import matplotlib.font_manager\n",
    "import scipy.stats\n",
    "import scipy.optimize\n",
    "import math"
   ]
  },
  {
   "cell_type": "code",
   "execution_count": 3,
   "id": "7ade0296-e210-4b94-8dd9-7a92f3f7e9e9",
   "metadata": {
    "ExecuteTime": {
     "end_time": "2022-06-09T05:22:56.487065Z",
     "start_time": "2022-06-09T05:22:56.482568Z"
    }
   },
   "outputs": [],
   "source": [
    "%matplotlib inline"
   ]
  },
  {
   "cell_type": "markdown",
   "id": "d9812834-1063-43f2-8a77-3cdb995a5bae",
   "metadata": {},
   "source": [
    "## Retrieving SPT Data"
   ]
  },
  {
   "cell_type": "code",
   "execution_count": 4,
   "id": "de9577a1",
   "metadata": {
    "ExecuteTime": {
     "end_time": "2022-06-09T05:22:56.536390Z",
     "start_time": "2022-06-09T05:22:56.489698Z"
    }
   },
   "outputs": [
    {
     "data": {
      "text/html": [
       "<i>Table length=2</i>\n",
       "<table id=\"table140409340015376\" class=\"table-striped table-bordered table-condensed\">\n",
       "<thead><tr><th>SPT_ID</th><th>RA</th><th>DEC</th><th>FIELD</th><th>XI</th><th>THETA_CORE</th><th>REDSHIFT</th><th>REDSHIFT_UNC</th><th>SPECZ</th><th>REDSHIFT_SOURCE</th><th>RM_PROB</th><th>CL_NOTES</th><th>M500</th><th>M500_UERR</th><th>M500_LERR</th><th>LAMBDA_CHISQ</th><th>LAMBDA_CHISQ_E</th><th>RADIO_CONTAM</th><th>STRONG_LENS</th><th>IMAGE_SOURCE</th><th>SPECZ_REF</th><th>STRONG_LENS_REF</th><th>PHOTOMETRIC_ZREF</th></tr></thead>\n",
       "<thead><tr><th>str16</th><th>float64</th><th>float64</th><th>str11</th><th>float32</th><th>float32</th><th>float32</th><th>float32</th><th>int16</th><th>float32</th><th>float32</th><th>str50</th><th>float32</th><th>float32</th><th>float32</th><th>float32</th><th>float32</th><th>float32</th><th>float32</th><th>float32</th><th>str38</th><th>str19</th><th>str29</th></tr></thead>\n",
       "<tr><td>SPT-CLJ0000-2518</td><td>0.072338357</td><td>-25.303935</td><td>ra1hdec-25</td><td>5.073545</td><td>1.5</td><td>0.0</td><td>0.0</td><td>0</td><td>0.0</td><td>0.0</td><td>-</td><td>0.0</td><td>0.0</td><td>0.0</td><td>0.0</td><td>0.0</td><td>0.0</td><td>0.0</td><td>1.0</td><td></td><td></td><td></td></tr>\n",
       "<tr><td>SPT-CLJ0005-3751</td><td>1.4383179</td><td>-37.854369</td><td>ra1hdec-35</td><td>6.336327</td><td>0.75</td><td>0.48295808</td><td>0.0072415886</td><td>0</td><td>4.0</td><td>0.00061007956</td><td>-</td><td>5.419</td><td>0.887</td><td>0.887</td><td>86.40839</td><td>4.7352147</td><td>0.0</td><td>1.0</td><td>3.0</td><td></td><td></td><td></td></tr>\n",
       "</table>"
      ],
      "text/plain": [
       "<Table length=2>\n",
       "     SPT_ID           RA     ...        PHOTOMETRIC_ZREF      \n",
       "     str16         float64   ...             str29            \n",
       "---------------- ----------- ... -----------------------------\n",
       "SPT-CLJ0000-2518 0.072338357 ...                              \n",
       "SPT-CLJ0005-3751   1.4383179 ...                              "
      ]
     },
     "execution_count": 4,
     "metadata": {},
     "output_type": "execute_result"
    }
   ],
   "source": [
    "fname = '../data_set/sptecs_catalog_oct919.fits'\n",
    "\n",
    "data = Table(getdata(fname))\n",
    "data[:2]"
   ]
  },
  {
   "cell_type": "code",
   "execution_count": 5,
   "id": "2f4e6159",
   "metadata": {
    "ExecuteTime": {
     "end_time": "2022-06-09T05:22:56.541159Z",
     "start_time": "2022-06-09T05:22:56.538342Z"
    }
   },
   "outputs": [],
   "source": [
    "sz_signal = np.array(data['XI'])\n",
    "lambda_chisq = np.array(data['LAMBDA_CHISQ'])\n",
    "lambda_chisqE = np.array(data['LAMBDA_CHISQ_E'])\n",
    "redshift = np.array(data['REDSHIFT'])"
   ]
  },
  {
   "cell_type": "code",
   "execution_count": 6,
   "id": "d084e88e",
   "metadata": {
    "ExecuteTime": {
     "end_time": "2022-06-09T05:22:56.666020Z",
     "start_time": "2022-06-09T05:22:56.542556Z"
    }
   },
   "outputs": [
    {
     "data": {
      "text/plain": [
       "(array([17., 64., 75., 45., 27., 19., 16., 13.,  7.,  7.]),\n",
       " array([14.481873, 14.530734, 14.579596, 14.628457, 14.677319, 14.726179,\n",
       "        14.775041, 14.823902, 14.872764, 14.921625, 14.970487],\n",
       "       dtype=float32),\n",
       " <BarContainer object of 10 artists>)"
      ]
     },
     "execution_count": 6,
     "metadata": {},
     "output_type": "execute_result"
    },
    {
     "data": {
      "image/png": "[encoded data removed]",
      "text/plain": [
       "<Figure size 432x288 with 1 Axes>"
      ]
     },
     "metadata": {
      "needs_background": "light"
     },
     "output_type": "display_data"
    }
   ],
   "source": [
    "plt.hist(np.log10(data['M500'][lambda_chisq>20]*1e14))"
   ]
  },
  {
   "cell_type": "markdown",
   "id": "df43130f",
   "metadata": {},
   "source": [
    "## Define Model"
   ]
  },
  {
   "cell_type": "code",
   "execution_count": 7,
   "id": "3db8437f",
   "metadata": {
    "ExecuteTime": {
     "end_time": "2022-06-09T05:22:56.680262Z",
     "start_time": "2022-06-09T05:22:56.667418Z"
    }
   },
   "outputs": [],
   "source": [
    "from colossus.cosmology import cosmology\n",
    "from colossus.lss import mass_function\n",
    "cosmology.setCosmology('WMAP9')\n",
    "\n",
    "def _halo_mass_function(M, z):\n",
    "    return mass_function.massFunction(M, z, mdef = '500c', model = 'bocquet16')\n",
    "halo_mass_function = np.vectorize(_halo_mass_function)\n",
    "\n",
    "def E(z):\n",
    "    # The Hubble constant at the value of z\n",
    "    Hz = cosmo.H(z).value\n",
    "    # The Hubble constant at z=0\n",
    "    H0 = cosmo.H(0).value\n",
    "    return (Hz/H0)"
   ]
  },
  {
   "cell_type": "code",
   "execution_count": 8,
   "id": "ff3f6635-31d6-40ff-a97d-9259f09126d3",
   "metadata": {
    "ExecuteTime": {
     "end_time": "2022-06-09T05:22:56.689115Z",
     "start_time": "2022-06-09T05:22:56.683057Z"
    }
   },
   "outputs": [],
   "source": [
    "# LogNormal models\n",
    "# see https://en.wikipedia.org/wiki/Log-normal_distribution\n",
    "M0 = 3e14\n",
    "Ez0 = E(0)\n",
    "def ln_lbd_given_M(theta_lambda,M,z):\n",
    "    A_lambda, B_lambda, C_lambda, scatter_lambda = theta_lambda\n",
    "    return np.log(A_lambda) + (B_lambda)*np.log(M/M0) + (C_lambda)*(np.log(E(z)/Ez0))\n",
    "\n",
    "def ln_zeta_given_M(theta_sze,M,z):\n",
    "    A_sze, B_sze, C_sze, scatter_sze = theta_sze\n",
    "    return np.log(A_sze) + (B_sze)*np.log(M/M0) + (C_sze)*(np.log(E(z)/Ez0))\n",
    "\n",
    "def logNormal_variance(mu,std):\n",
    "    return (np.exp(std**2)-1)*np.exp(2*mu+std**2)"
   ]
  },
  {
   "cell_type": "code",
   "execution_count": 9,
   "id": "641000de",
   "metadata": {
    "ExecuteTime": {
     "end_time": "2022-06-09T05:22:56.704999Z",
     "start_time": "2022-06-09T05:22:56.693367Z"
    },
    "code_folding": []
   },
   "outputs": [],
   "source": [
    "from scipy.integrate import simps\n",
    "\n",
    "# given: mvec, lbdvec and zetavec\n",
    "\n",
    "def log_likelihood(theta, z, y, yerr, eps=1e-9):\n",
    "    # defining variables\n",
    "    lbd_hat, chisi = y[0], y[1]\n",
    "    lbd_error = yerr\n",
    "    nsize = len(lbd_hat)\n",
    "    \n",
    "    # unfolding theta\n",
    "    A_lambda, B_lambda, C_lambda, scatter_lambda = theta[4:8]\n",
    "    A_sze, B_sze, C_sze, scatter_sze = theta[:4]\n",
    "    rho = theta[-1]\n",
    "\n",
    "    # setting grid for integration\n",
    "    mm, zz = np.meshgrid(mvec, z)\n",
    "\n",
    "    # calling predictions; \n",
    "    ln_lbd_pred = (ln_lbd_given_M([A_lambda, B_lambda, C_lambda, scatter_lambda],mm,zz)).T\n",
    "    ln_zeta_pred= (ln_zeta_given_M([A_sze, B_sze, C_sze, scatter_sze],mm,zz)).T\n",
    "\n",
    "    halo_mass_func = (halo_mass_function2(z))\n",
    "        \n",
    "    # integrating over zeta, lambda\n",
    "    prob = marginalize_over_lbd_zeta(lbd_hat, lbd_error, chisi, ln_lbd_pred, ln_zeta_pred, halo_mass_func,\n",
    "                                     scatter_lambda, scatter_sze, rho)\n",
    "    log_prob = np.log(prob)\n",
    "    return np.sum(log_prob)\n",
    "\n",
    "def marginalize_over_lbd_zeta(lbd_hat, lbd_err, chisi, ln_lbd_pred, ln_zeta_pred, halo_mass_func,\n",
    "                              scatter_lambda, scatter_zeta, rho):\n",
    "    # integrating over zeta, lambda\n",
    "    nsize = len(lbd_hat)\n",
    "    # integrating over zeta, lambda\n",
    "    res_zeta = np.full((zetavec.size, nsize),np.nan,dtype=float)\n",
    "    res_lbd = np.full((lbdvec.size, nsize),np.nan,dtype=float)\n",
    "\n",
    "    for j,li in enumerate(lbdvec):\n",
    "        for i,zi in enumerate(zetavec):\n",
    "            res_zeta[i] = compute_dn_dlbd_dzeta(li, zi, lbd_hat, lbd_err, chisi, ln_lbd_pred, ln_zeta_pred, halo_mass_func,\n",
    "                                              scatter_lambda, scatter_sze, rho)\n",
    "        # integrate over zeta for a given lambda\n",
    "        res_lbd[j] = np.trapz(res_zeta, axis=0)\n",
    "    # integrate over lambda\n",
    "    prob = np.trapz(res_lbd, x=lbdvec, axis=0)\n",
    "    # normalize over all posibilities\n",
    "    prob = prob/np.sum(prob)\n",
    "    return prob\n",
    "\n",
    "## likelihood including the errors\n",
    "def compute_dn_dlbd_dzeta(lbd, zeta, lbd_hat, lbd_err, chisi, ln_lbd_pred, ln_zeta_pred, halo_mass_func,\n",
    "                          scatter_lambda, scatter_zeta, rho, eps=1e-9):\n",
    "    # converting std to normal distribution\n",
    "    s_zeta = logNormal_variance(ln_zeta_pred, scatter_sze)\n",
    "    s_lambda = logNormal_variance(ln_lbd_pred, scatter_lambda)\n",
    "\n",
    "    # avoid error messages\n",
    "    rho_inv = (1-rho**2)\n",
    "    rho_inv = np.where(rho_inv<=eps, -np.inf, 1/rho_inv)\n",
    "\n",
    "    # defining standirized variables\n",
    "    lbd_std = (lbd - np.exp(ln_lbd_pred))/s_lambda\n",
    "    zeta_std = (zeta - np.exp(ln_zeta_pred))/s_zeta\n",
    "\n",
    "    # lbd_likelihood\n",
    "    lp_lbd  = -rho_inv*lbd_std**2/2 -((lbd-lbd_hat)/lbd_err)**2/2.\n",
    "\n",
    "    # zeta likelihood\n",
    "    lp_zeta = -rho_inv*zeta_std**2/2 -(chisi-np.sqrt(zeta**2+3))**2/2.\n",
    "\n",
    "    # corr likelihod\n",
    "    lp_corr = rho*rho_inv*lbd_std*zeta_std\n",
    "\n",
    "    lp_total_m = lp_lbd+lp_zeta+lp_corr\n",
    "    p_total_m = np.exp(lp_total_m)*halo_mass_func\n",
    "    #p_total_m = np.where(p_total_m<eps, 0., p_total_m)\n",
    "    \n",
    "    # integrate over M\n",
    "    p_total = np.trapz(p_total_m, x=mvec, axis=0)\n",
    "    \n",
    "    return np.where(p_total>1e16, 0., p_total/M0)"
   ]
  },
  {
   "cell_type": "markdown",
   "id": "696704f8",
   "metadata": {
    "ExecuteTime": {
     "end_time": "2022-06-07T22:04:38.244298Z",
     "start_time": "2022-06-07T22:04:38.238776Z"
    }
   },
   "source": [
    "### Debugging"
   ]
  },
  {
   "cell_type": "code",
   "execution_count": 10,
   "id": "d4779903",
   "metadata": {
    "ExecuteTime": {
     "end_time": "2022-06-09T05:22:56.709722Z",
     "start_time": "2022-06-09T05:22:56.706966Z"
    }
   },
   "outputs": [],
   "source": [
    "# getting some observational data to debug the code\n",
    "Np = 10\n",
    "ix = np.where(lambda_chisq>30)[0][:Np] # take 10 points\n",
    "\n",
    "z = redshift[ix]\n",
    "chisi = sz_signal[ix]\n",
    "lbd_hat = lambda_chisq[ix]\n",
    "lbd_err = lambda_chisqE[ix]"
   ]
  },
  {
   "cell_type": "code",
   "execution_count": 11,
   "id": "6b7e9f3e",
   "metadata": {
    "ExecuteTime": {
     "end_time": "2022-06-09T05:22:56.714116Z",
     "start_time": "2022-06-09T05:22:56.711659Z"
    }
   },
   "outputs": [],
   "source": [
    "# test function \n",
    "# debuging here\n",
    "eps  =1e-9\n",
    "lbd  = lbd_hat[0]\n",
    "zeta = chisi[0]\n",
    "\n",
    "theta = [5.24, 1.534, 0.465, 0.161, 76.9, 1.02, 0.29, 0.16, 0.8]"
   ]
  },
  {
   "cell_type": "code",
   "execution_count": 203,
   "id": "fd66feca",
   "metadata": {
    "ExecuteTime": {
     "end_time": "2022-06-09T05:42:50.568814Z",
     "start_time": "2022-06-09T05:42:50.563776Z"
    }
   },
   "outputs": [
    {
     "data": {
      "text/plain": [
       "75000"
      ]
     },
     "execution_count": 203,
     "metadata": {},
     "output_type": "execute_result"
    }
   ],
   "source": [
    "50*20*75"
   ]
  },
  {
   "cell_type": "code",
   "execution_count": 268,
   "id": "9ad3be5c",
   "metadata": {
    "ExecuteTime": {
     "end_time": "2022-06-09T05:46:02.767099Z",
     "start_time": "2022-06-09T05:46:02.758725Z"
    }
   },
   "outputs": [
    {
     "name": "stdout",
     "output_type": "stream",
     "text": [
      "Vector size\n",
      "50\n",
      "75\n",
      "20\n"
     ]
    }
   ],
   "source": [
    "# set up integration vectors\n",
    "mvec = np.logspace(13.8, 15.25, 50)\n",
    "# lbdvec = np.linspace(15., 1.5*np.max(lambda_chisq), 50)\n",
    "# zetavec = np.linspace(3, 1.3*np.max(sz_signal), 20)\n",
    "\n",
    "lbdvec = np.logspace(np.log10(15.), np.log10(1.5*np.max(lambda_chisq)), 75)\n",
    "zetavec = np.logspace(np.log10(3), np.log10(1.3*np.max(sz_signal)), 20)\n",
    "\n",
    "print('Vector size')\n",
    "print(mvec.size)\n",
    "print(lbdvec.size)\n",
    "print(zetavec.size)"
   ]
  },
  {
   "cell_type": "code",
   "execution_count": 269,
   "id": "95259d7a",
   "metadata": {
    "ExecuteTime": {
     "end_time": "2022-06-09T05:46:05.928320Z",
     "start_time": "2022-06-09T05:46:04.732425Z"
    }
   },
   "outputs": [],
   "source": [
    "zvec = np.linspace(0., 1.3, 100)\n",
    "zzv, mm = np.meshgrid(zvec, mvec)\n",
    "from scipy import interpolate\n",
    "halo_mass_function2 = interpolate.interp1d(zvec, halo_mass_function(mm, zzv), kind='cubic')"
   ]
  },
  {
   "cell_type": "code",
   "execution_count": 270,
   "id": "c9ff57d2",
   "metadata": {
    "ExecuteTime": {
     "end_time": "2022-06-09T05:46:07.111286Z",
     "start_time": "2022-06-09T05:46:05.929866Z"
    }
   },
   "outputs": [],
   "source": [
    "# unfolding theta\n",
    "A_lambda, B_lambda, C_lambda, scatter_lambda = theta[4:8]\n",
    "A_sze, B_sze, C_sze, scatter_sze = theta[:4]\n",
    "rho = theta[-1]\n",
    "\n",
    "# setting grid for integration\n",
    "mm, zz = np.meshgrid(mvec, z)\n",
    "\n",
    "# calling predictions; \n",
    "ln_lbd_pred = (ln_lbd_given_M([A_lambda, B_lambda, C_lambda, scatter_lambda],mm,zz)).T\n",
    "ln_zeta_pred= (ln_zeta_given_M([A_sze, B_sze, C_sze, scatter_sze],mm,zz)).T\n",
    "\n",
    "halo_mass_func = (halo_mass_function(mm, zz)).T"
   ]
  },
  {
   "cell_type": "code",
   "execution_count": 271,
   "id": "4b3a208b",
   "metadata": {
    "ExecuteTime": {
     "end_time": "2022-06-09T05:46:07.581301Z",
     "start_time": "2022-06-09T05:46:07.113042Z"
    }
   },
   "outputs": [
    {
     "data": {
      "text/plain": [
       "<matplotlib.collections.PathCollection at 0x7fb378dd0580>"
      ]
     },
     "execution_count": 271,
     "metadata": {},
     "output_type": "execute_result"
    },
    {
     "data": {
      "image/png": "[encoded data removed]",
      "text/plain": [
       "<Figure size 432x288 with 1 Axes>"
      ]
     },
     "metadata": {
      "needs_background": "light"
     },
     "output_type": "display_data"
    }
   ],
   "source": [
    "plt.loglog()\n",
    "plt.scatter(mvec, halo_mass_func[:,0])"
   ]
  },
  {
   "cell_type": "code",
   "execution_count": 272,
   "id": "e2d7754c",
   "metadata": {
    "ExecuteTime": {
     "end_time": "2022-06-09T05:46:07.585171Z",
     "start_time": "2022-06-09T05:46:07.582963Z"
    }
   },
   "outputs": [],
   "source": [
    "# the linear relation lnLbd and lnZeta are logNormal\n",
    "# the scatter of a logNormal is different from a normal distribution\n",
    "# see the std from https://en.wikipedia.org/wiki/Log-normal_distribution\n",
    "def logNormal_variance(mu,std):\n",
    "    return (np.exp(std**2)-1)*np.exp(2*mu+std**2)"
   ]
  },
  {
   "cell_type": "code",
   "execution_count": 273,
   "id": "938694ad",
   "metadata": {
    "ExecuteTime": {
     "end_time": "2022-06-09T05:46:07.591903Z",
     "start_time": "2022-06-09T05:46:07.586561Z"
    }
   },
   "outputs": [],
   "source": [
    "# converting std to normal distribution\n",
    "s_zeta = logNormal_variance(ln_zeta_pred, scatter_sze)\n",
    "s_lambda = logNormal_variance(ln_lbd_pred, scatter_lambda)\n",
    "\n",
    "# avoid error messages\n",
    "rho_inv = (1-rho**2)\n",
    "rho_inv = np.where(rho_inv<=eps, -np.inf, 1/rho_inv)\n",
    "\n",
    "# defining standirized variables\n",
    "lbd_std = (lbd - np.exp(ln_lbd_pred))/s_lambda\n",
    "zeta_std = (zeta - np.exp(ln_zeta_pred))/s_zeta\n",
    "\n",
    "# lbd_likelihood\n",
    "lp_lbd  = -rho_inv*lbd_std**2/2 -((lbd-lbd_hat)/lbd_err)**2/2.\n",
    "\n",
    "# zeta likelihood\n",
    "lp_zeta = -rho_inv*zeta_std**2/2 -(chisi-np.sqrt(zeta**2+3))**2/2.\n",
    "\n",
    "# corr likelihod\n",
    "lp_corr = rho*rho_inv*lbd_std*zeta_std\n",
    "\n",
    "lp_total_m = lp_lbd+lp_zeta+lp_corr\n",
    "p_total_m = np.exp(lp_total_m)*halo_mass_func\n",
    "\n",
    "# integrate over M\n",
    "p_total = np.trapz(p_total_m, x=mvec/M0, axis=0)"
   ]
  },
  {
   "cell_type": "code",
   "execution_count": 274,
   "id": "35c3c0d1",
   "metadata": {
    "ExecuteTime": {
     "end_time": "2022-06-09T05:46:07.596012Z",
     "start_time": "2022-06-09T05:46:07.593150Z"
    }
   },
   "outputs": [
    {
     "data": {
      "text/plain": [
       "0.0023262040540313286"
      ]
     },
     "execution_count": 274,
     "metadata": {},
     "output_type": "execute_result"
    }
   ],
   "source": [
    "p_total[0]"
   ]
  },
  {
   "cell_type": "code",
   "execution_count": 275,
   "id": "ffe5dcb1",
   "metadata": {
    "ExecuteTime": {
     "end_time": "2022-06-09T05:46:08.231146Z",
     "start_time": "2022-06-09T05:46:07.900819Z"
    }
   },
   "outputs": [
    {
     "data": {
      "text/plain": [
       "<matplotlib.legend.Legend at 0x7fb39f2015b0>"
      ]
     },
     "execution_count": 275,
     "metadata": {},
     "output_type": "execute_result"
    },
    {
     "data": {
      "image/png": "[encoded data removed]",
      "text/plain": [
       "<Figure size 432x288 with 1 Axes>"
      ]
     },
     "metadata": {
      "needs_background": "light"
     },
     "output_type": "display_data"
    }
   ],
   "source": [
    "# plt.loglog()\n",
    "w, = np.where(np.abs(zeta_std[:,0])<2.)\n",
    "plt.scatter(mvec[w],zeta_std[:,0][w],label='zeta')\n",
    "plt.scatter(mvec[w],lbd_std[:,0][w],label='lambda')\n",
    "plt.xscale('log')\n",
    "plt.xlabel(r'M500c [M$_{\\odot}$]',fontsize=14)\n",
    "plt.ylabel('Standarized Variables',fontsize=14)\n",
    "plt.legend(fontsize=14)"
   ]
  },
  {
   "cell_type": "code",
   "execution_count": 276,
   "id": "6795c18d",
   "metadata": {
    "ExecuteTime": {
     "end_time": "2022-06-09T05:46:09.066434Z",
     "start_time": "2022-06-09T05:46:08.694725Z"
    }
   },
   "outputs": [
    {
     "data": {
      "text/plain": [
       "<matplotlib.legend.Legend at 0x7fb38f0c8d90>"
      ]
     },
     "execution_count": 276,
     "metadata": {},
     "output_type": "execute_result"
    },
    {
     "data": {
      "image/png": "[encoded data removed]",
      "text/plain": [
       "<Figure size 432x288 with 1 Axes>"
      ]
     },
     "metadata": {
      "needs_background": "light"
     },
     "output_type": "display_data"
    }
   ],
   "source": [
    "# plt.loglog()\n",
    "plt.scatter(mvec[w],lp_zeta[:,0][w],label='zeta')\n",
    "plt.scatter(mvec[w],lp_lbd[:,0][w],label='lambda')\n",
    "plt.scatter(mvec[w],lp_corr[:,0][w],label='corr')\n",
    "plt.plot(mvec[w],lp_total_m[:,0][w],label='all',color='k',ls='--')\n",
    "plt.xscale('log')\n",
    "plt.xlabel(r'M500c [M$_{\\odot}$]',fontsize=14)\n",
    "plt.ylabel('Likelihood 1d',fontsize=14)\n",
    "plt.legend(fontsize=14)"
   ]
  },
  {
   "cell_type": "code",
   "execution_count": 277,
   "id": "79aff7e3",
   "metadata": {
    "ExecuteTime": {
     "end_time": "2022-06-09T05:46:09.641010Z",
     "start_time": "2022-06-09T05:46:09.337758Z"
    }
   },
   "outputs": [
    {
     "data": {
      "text/plain": [
       "<matplotlib.legend.Legend at 0x7fb39f2496d0>"
      ]
     },
     "execution_count": 277,
     "metadata": {},
     "output_type": "execute_result"
    },
    {
     "data": {
      "image/png": "[encoded data removed]",
      "text/plain": [
       "<Figure size 432x288 with 1 Axes>"
      ]
     },
     "metadata": {
      "needs_background": "light"
     },
     "output_type": "display_data"
    }
   ],
   "source": [
    "# plt.loglog()\n",
    "plt.scatter(mvec,p_total_m[:,0],label='w/ halo mass func.',color='k',ls='--')\n",
    "plt.xscale('log')\n",
    "plt.xlabel(r'M200c [M$_{\\odot}$]',fontsize=14)\n",
    "plt.ylabel('Likelihood (Bivariate)',fontsize=14)\n",
    "plt.title(r'$\\rm P(lbd, zeta| M, z) \\times \\frac{dN}{dM}$', fontsize=16)\n",
    "plt.legend(fontsize=14)"
   ]
  },
  {
   "cell_type": "code",
   "execution_count": 278,
   "id": "2a2f2c7f",
   "metadata": {
    "ExecuteTime": {
     "end_time": "2022-06-09T05:46:10.031026Z",
     "start_time": "2022-06-09T05:46:10.020239Z"
    }
   },
   "outputs": [
    {
     "data": {
      "text/plain": [
       "array([2.32620405e-03, 9.72812746e-07, 2.12568224e-05, 3.60535907e-05,\n",
       "       4.05347051e-03, 1.32425461e-04, 3.04978496e-10, 2.53097952e-06,\n",
       "       1.14367517e-06, 1.24735407e-06, 8.35626842e-08, 1.45897513e-32,\n",
       "       2.51799752e-09, 3.91943699e-18, 3.47038436e-04, 7.41705828e-23,\n",
       "       1.07395649e-30, 4.34050185e-24, 6.53322578e-09, 5.36343974e-36,\n",
       "       8.24761069e-04, 2.50361868e-29, 5.35486931e-06, 1.01938287e-03,\n",
       "       1.56880743e-27, 5.00044157e-18, 1.35378731e-25, 1.79328400e-12,\n",
       "       1.99062876e-21, 2.33590921e-52, 3.22698781e-28, 6.32915191e-04,\n",
       "       1.08351155e-65, 6.41332076e-14, 7.92037464e-04, 4.13027393e-05,\n",
       "       4.13455764e-13, 1.53569263e-10, 4.59183518e-08, 1.40829959e-03,\n",
       "       4.69376593e-08, 2.01200822e-05, 1.75123546e-13, 4.26578151e-04,\n",
       "       1.58819723e-03, 2.10723661e-13, 9.74759865e-21, 5.43658759e-05,\n",
       "       4.58895543e-14, 1.36172359e-21, 8.25005413e-04, 7.10228762e-28,\n",
       "       1.76047981e-10, 3.29400810e-16, 5.85325730e-19, 4.09066893e-04,\n",
       "       9.69719613e-10, 3.05168557e-06, 9.31116019e-08, 2.35277326e-06,\n",
       "       5.28103530e-05, 1.34029442e-04, 2.86034064e-08, 1.22297640e-10,\n",
       "       8.80791568e-09, 2.16527904e-14, 9.06824647e-04, 7.73279684e-04,\n",
       "       3.62683346e-05, 4.12335840e-39, 3.26003984e-05, 3.11426233e-17,\n",
       "       2.59650265e-11, 2.94453634e-16, 6.94760415e-14, 2.07928503e-07,\n",
       "       4.06683733e-08, 3.79150657e-04, 1.35856517e-24, 5.91734133e-05,\n",
       "       3.21093234e-05, 1.89475238e-04, 1.34501981e-08, 5.64783237e-76,\n",
       "       3.13246978e-04, 2.08195379e-05, 1.10877316e-16, 3.46298681e-04,\n",
       "       1.82286344e-07, 3.87587562e-03, 3.74266404e-26, 6.70682111e-09,\n",
       "       1.56270473e-03, 5.90419876e-04, 5.26688371e-05, 1.05923593e-39,\n",
       "       9.30837502e-09, 4.42932832e-28, 5.94419974e-04, 3.71788609e-04])"
      ]
     },
     "execution_count": 278,
     "metadata": {},
     "output_type": "execute_result"
    }
   ],
   "source": [
    "p = compute_dn_dlbd_dzeta(lbd_hat[0], zeta, lbd_hat, lbd_err, chisi, ln_lbd_pred, ln_zeta_pred, halo_mass_func,\n",
    "                          scatter_lambda, scatter_sze, rho)\n",
    "p"
   ]
  },
  {
   "cell_type": "code",
   "execution_count": null,
   "id": "a587ceaf",
   "metadata": {
    "ExecuteTime": {
     "end_time": "2022-06-08T21:36:37.647085Z",
     "start_time": "2022-06-08T21:36:37.642284Z"
    }
   },
   "outputs": [],
   "source": []
  },
  {
   "cell_type": "code",
   "execution_count": 279,
   "id": "2d4b720c",
   "metadata": {
    "ExecuteTime": {
     "end_time": "2022-06-09T05:46:10.937340Z",
     "start_time": "2022-06-09T05:46:10.934655Z"
    }
   },
   "outputs": [],
   "source": [
    "# res_zeta/1e-12"
   ]
  },
  {
   "cell_type": "code",
   "execution_count": 280,
   "id": "18631ad6",
   "metadata": {
    "ExecuteTime": {
     "end_time": "2022-06-09T05:46:11.803235Z",
     "start_time": "2022-06-09T05:46:11.270937Z"
    }
   },
   "outputs": [
    {
     "data": {
      "text/plain": [
       "array([7.59689755e-03, 2.11418787e-02, 4.37953663e-03, 4.08183884e-03,\n",
       "       7.53039092e-02, 2.53600284e-03, 1.23486023e-02, 1.08621276e-02,\n",
       "       7.39601053e-02, 3.04931915e-03, 6.77561857e-03, 9.56202612e-03,\n",
       "       2.30701840e-02, 7.29729122e-03, 2.15383799e-02, 6.64439513e-03,\n",
       "       9.06602483e-03, 6.90177125e-03, 1.30098502e-03, 4.12972467e-03,\n",
       "       2.73122590e-02, 1.88232228e-03, 1.02360376e-03, 6.68296907e-03,\n",
       "       5.23452047e-03, 3.68791856e-03, 2.07313022e-03, 2.24049499e-03,\n",
       "       1.19036585e-03, 6.67591158e-03, 9.28063049e-03, 1.29991798e-02,\n",
       "       4.19814516e-03, 1.81270602e-03, 6.62710794e-03, 5.11658607e-03,\n",
       "       7.30993005e-03, 6.28139281e-04, 1.79808476e-02, 4.43969833e-02,\n",
       "       1.88434862e-03, 2.64212613e-02, 2.70445796e-03, 1.69581921e-02,\n",
       "       7.55350926e-02, 1.27348361e-03, 1.68588151e-03, 4.95255991e-03,\n",
       "       2.99496672e-03, 1.04071465e-02, 3.74392501e-03, 8.56141372e-03,\n",
       "       3.63974652e-03, 3.55728511e-03, 5.60430289e-03, 7.76812570e-03,\n",
       "       1.52095612e-02, 7.40251996e-03, 1.11252387e-02, 3.32694694e-03,\n",
       "       5.08091103e-03, 2.88939260e-03, 3.28294178e-03, 5.20928145e-03,\n",
       "       6.82128216e-03, 7.72453647e-03, 3.93321705e-02, 3.71393010e-02,\n",
       "       5.66319859e-03, 3.20399891e-05, 3.01465921e-03, 1.65615001e-03,\n",
       "       2.02592141e-03, 1.61663234e-02, 2.14148648e-03, 2.18387476e-03,\n",
       "       6.16473351e-03, 2.84714624e-03, 2.03239996e-03, 1.48221805e-03,\n",
       "       1.65885655e-03, 5.25239940e-03, 1.43313838e-02, 9.84542790e-03,\n",
       "       2.24449275e-03, 1.52845561e-02, 2.80579332e-03, 1.44458417e-02,\n",
       "       8.05519430e-03, 9.91911539e-03, 1.33160136e-03, 5.68852476e-03,\n",
       "       8.59527091e-03, 7.61073007e-03, 1.10398717e-02, 2.44464151e-03,\n",
       "       1.10890332e-03, 1.33079020e-03, 1.66066109e-02, 1.28531983e-02])"
      ]
     },
     "execution_count": 280,
     "metadata": {},
     "output_type": "execute_result"
    }
   ],
   "source": [
    "# integrating over zeta, lambda\n",
    "nsize = len(lbd_hat)\n",
    "# integrating over zeta, lambda\n",
    "res_zeta = np.full((zetavec.size, nsize),np.nan,dtype=float)\n",
    "res_lbd = np.full((lbdvec.size, nsize),np.nan,dtype=float)\n",
    "\n",
    "for j,li in enumerate(lbdvec):\n",
    "    for i,zi in enumerate(zetavec):\n",
    "        res_zeta[i] = compute_dn_dlbd_dzeta(li, zi, lbd_hat, lbd_err, chisi, ln_lbd_pred, ln_zeta_pred, halo_mass_func,\n",
    "                                          scatter_lambda, scatter_sze, rho)\n",
    "    # integrate over zeta for a given lambda\n",
    "    res_lbd[j] = np.trapz(res_zeta, axis=0)\n",
    "# integrate over lambda\n",
    "prob = np.trapz(res_lbd, x=lbdvec, axis=0)\n",
    "# normalize over all posibilities\n",
    "prob = prob/np.sum(prob)\n",
    "prob"
   ]
  },
  {
   "cell_type": "code",
   "execution_count": 281,
   "id": "1ca0c2db",
   "metadata": {
    "ExecuteTime": {
     "end_time": "2022-06-09T05:46:12.316724Z",
     "start_time": "2022-06-09T05:46:11.804767Z"
    }
   },
   "outputs": [
    {
     "data": {
      "text/plain": [
       "array([7.59689755e-03, 2.11418787e-02, 4.37953663e-03, 4.08183884e-03,\n",
       "       7.53039092e-02, 2.53600284e-03, 1.23486023e-02, 1.08621276e-02,\n",
       "       7.39601053e-02, 3.04931915e-03, 6.77561857e-03, 9.56202612e-03,\n",
       "       2.30701840e-02, 7.29729122e-03, 2.15383799e-02, 6.64439513e-03,\n",
       "       9.06602483e-03, 6.90177125e-03, 1.30098502e-03, 4.12972467e-03,\n",
       "       2.73122590e-02, 1.88232228e-03, 1.02360376e-03, 6.68296907e-03,\n",
       "       5.23452047e-03, 3.68791856e-03, 2.07313022e-03, 2.24049499e-03,\n",
       "       1.19036585e-03, 6.67591158e-03, 9.28063049e-03, 1.29991798e-02,\n",
       "       4.19814516e-03, 1.81270602e-03, 6.62710794e-03, 5.11658607e-03,\n",
       "       7.30993005e-03, 6.28139281e-04, 1.79808476e-02, 4.43969833e-02,\n",
       "       1.88434862e-03, 2.64212613e-02, 2.70445796e-03, 1.69581921e-02,\n",
       "       7.55350926e-02, 1.27348361e-03, 1.68588151e-03, 4.95255991e-03,\n",
       "       2.99496672e-03, 1.04071465e-02, 3.74392501e-03, 8.56141372e-03,\n",
       "       3.63974652e-03, 3.55728511e-03, 5.60430289e-03, 7.76812570e-03,\n",
       "       1.52095612e-02, 7.40251996e-03, 1.11252387e-02, 3.32694694e-03,\n",
       "       5.08091103e-03, 2.88939260e-03, 3.28294178e-03, 5.20928145e-03,\n",
       "       6.82128216e-03, 7.72453647e-03, 3.93321705e-02, 3.71393010e-02,\n",
       "       5.66319859e-03, 3.20399891e-05, 3.01465921e-03, 1.65615001e-03,\n",
       "       2.02592141e-03, 1.61663234e-02, 2.14148648e-03, 2.18387476e-03,\n",
       "       6.16473351e-03, 2.84714624e-03, 2.03239996e-03, 1.48221805e-03,\n",
       "       1.65885655e-03, 5.25239940e-03, 1.43313838e-02, 9.84542790e-03,\n",
       "       2.24449275e-03, 1.52845561e-02, 2.80579332e-03, 1.44458417e-02,\n",
       "       8.05519430e-03, 9.91911539e-03, 1.33160136e-03, 5.68852476e-03,\n",
       "       8.59527091e-03, 7.61073007e-03, 1.10398717e-02, 2.44464151e-03,\n",
       "       1.10890332e-03, 1.33079020e-03, 1.66066109e-02, 1.28531983e-02])"
      ]
     },
     "execution_count": 281,
     "metadata": {},
     "output_type": "execute_result"
    }
   ],
   "source": [
    "marginalize_over_lbd_zeta(lbd_hat, lbd_err, chisi, ln_lbd_pred, ln_zeta_pred, halo_mass_func,\n",
    "                              scatter_lambda, scatter_sze, rho)"
   ]
  },
  {
   "cell_type": "code",
   "execution_count": null,
   "id": "f78cb105",
   "metadata": {
    "ExecuteTime": {
     "end_time": "2022-06-08T21:43:23.852732Z",
     "start_time": "2022-06-08T21:43:23.705904Z"
    }
   },
   "outputs": [],
   "source": []
  },
  {
   "cell_type": "code",
   "execution_count": 282,
   "id": "aba91799",
   "metadata": {
    "ExecuteTime": {
     "end_time": "2022-06-09T05:46:12.517674Z",
     "start_time": "2022-06-09T05:46:12.511936Z"
    }
   },
   "outputs": [],
   "source": [
    "y = np.vstack([lbd_hat,chisi])\n",
    "yerr = lbd_err"
   ]
  },
  {
   "cell_type": "code",
   "execution_count": 283,
   "id": "bfe02a43",
   "metadata": {
    "ExecuteTime": {
     "end_time": "2022-06-09T05:46:13.456512Z",
     "start_time": "2022-06-09T05:46:12.926656Z"
    }
   },
   "outputs": [
    {
     "data": {
      "text/plain": [
       "-520.519121159779"
      ]
     },
     "execution_count": 283,
     "metadata": {},
     "output_type": "execute_result"
    }
   ],
   "source": [
    "lnP = log_likelihood(theta, z, y, yerr, eps=1e-9)\n",
    "lnP\n",
    "\n",
    "# it takes 2s one evalution on array of 10 clusters"
   ]
  },
  {
   "cell_type": "code",
   "execution_count": null,
   "id": "7d85839a",
   "metadata": {
    "ExecuteTime": {
     "end_time": "2022-06-08T21:55:51.234289Z",
     "start_time": "2022-06-08T21:55:51.229101Z"
    }
   },
   "outputs": [],
   "source": []
  },
  {
   "cell_type": "markdown",
   "id": "5bbd2bc4",
   "metadata": {
    "ExecuteTime": {
     "end_time": "2022-06-08T21:06:47.925882Z",
     "start_time": "2022-06-08T21:06:47.916127Z"
    }
   },
   "source": [
    "## A meshgrid array of 3D"
   ]
  },
  {
   "cell_type": "code",
   "execution_count": 284,
   "id": "efa4403f",
   "metadata": {
    "ExecuteTime": {
     "end_time": "2022-06-09T05:46:13.952543Z",
     "start_time": "2022-06-09T05:46:13.926203Z"
    }
   },
   "outputs": [],
   "source": [
    "from scipy.integrate import simps\n",
    "\n",
    "# given: mvec, lbdvec and zetavec\n",
    "mm, zz, ll = np.meshgrid(mvec, zetavec, lbdvec, indexing='ij')\n",
    "def log_likelihood_vec(theta, z, y, yerr, eps=1e-9):\n",
    "    # defining variables\n",
    "    lbd_hat, chisi = y[0], y[1]\n",
    "    lbd_err = yerr\n",
    "    probs = []\n",
    "    for lbd_hat_i, lbd_err_i, chisi_i, z_i in zip(lbd_hat, lbd_err, chisi, z):\n",
    "        probs.append(_log_likelihood(theta, lbd_hat_i, lbd_err_i, chisi_i, z_i))    \n",
    "    p = np.array(probs)/np.sum(probs)\n",
    "    return np.sum(np.log(p))\n",
    "\n",
    "def _log_likelihood(theta, lbd_hat_i, lbd_err_i, chisi_i, z_i):\n",
    "    # unfolding theta\n",
    "    A_lambda, B_lambda, C_lambda, scatter_lambda = theta[4:8]\n",
    "    A_sze, B_sze, C_sze, scatter_sze = theta[:4]\n",
    "    rho = theta[-1]\n",
    "    \n",
    "    # calling predictions;\n",
    "    ln_lbd_pred = ln_lbd_given_M([A_lambda, B_lambda, C_lambda, scatter_lambda], mvec, z_i)\n",
    "    ln_zeta_pred= ln_zeta_given_M([A_sze, B_sze, C_sze, scatter_sze], mvec, z_i)\n",
    "    halo_mass_func = halo_mass_function2(z_i)\n",
    "\n",
    "    hmf = np.tile(halo_mass_func, (len(lbdvec), len(zetavec), 1)).T\n",
    "    ln_lbd_pred = np.tile(ln_lbd_pred, (len(lbdvec), len(zetavec), 1)).T\n",
    "    ln_zeta_pred = np.tile(ln_zeta_pred, (len(lbdvec), len(zetavec), 1)).T\n",
    "    \n",
    "    # compute dn_dlbd_dzeta_integrand\n",
    "    p_total_m = compute_dn_dlbd_dzeta_vec(lbd_hat_i, lbd_err_i, chisi_i,\n",
    "                                          scatter_lambda, scatter_sze, rho,\n",
    "                                          ln_lbd_pred, ln_zeta_pred, hmf)\n",
    "    # integrate over M\n",
    "    p_lbd_zeta = np.trapz(p_total_m, x=mvec, axis=0)\n",
    "\n",
    "    # integrate over zeta\n",
    "    p_lbd = np.trapz(p_lbd_zeta, x=zetavec, axis=0)\n",
    "\n",
    "    # integrate over lambda\n",
    "    p = np.trapz(p_lbd, x=lbdvec, axis=0)\n",
    "    return p#np.log(p)\n",
    "\n",
    "def compute_dn_dlbd_dzeta_vec(lbd_hat_i, lbd_err_i, chisi_i,\n",
    "                              scatter_lambda, scatter_sze, rho,\n",
    "                              ln_lbd_pred, ln_zeta_pred, hmf):\n",
    "    # converting std to normal distribution\n",
    "    s_zeta = logNormal_variance(ln_zeta_pred, scatter_sze)\n",
    "    s_lambda = logNormal_variance(ln_lbd_pred, scatter_lambda)\n",
    "\n",
    "    # avoid error messages\n",
    "    rho_inv = (1-rho**2)\n",
    "    rho_inv = np.where(rho_inv<=eps, -np.inf, 1/rho_inv)\n",
    "\n",
    "    # defining standirized variables\n",
    "    lbd_std = (ll - np.exp(ln_lbd_pred))/s_lambda\n",
    "    zeta_std = (zz - np.exp(ln_zeta_pred))/s_zeta\n",
    "\n",
    "    # lbd_likelihood\n",
    "    lp_lbd  = -rho_inv*lbd_std**2/2 -((ll-lbd_hat_i)/lbd_err_i)**2/2.\n",
    "\n",
    "    # zeta likelihood\n",
    "    lp_zeta = -rho_inv*zeta_std**2/2 -(chisi_i-np.sqrt(zz**2+3))**2/2.\n",
    "\n",
    "    # corr likelihod\n",
    "    lp_corr = rho*rho_inv*lbd_std*zeta_std\n",
    "\n",
    "    lp_total_m = lp_lbd+lp_zeta+lp_corr\n",
    "    p_total_m = np.exp(lp_total_m)*hmf\n",
    "    return p_total_m"
   ]
  },
  {
   "cell_type": "code",
   "execution_count": 285,
   "id": "3335ffa4",
   "metadata": {
    "ExecuteTime": {
     "end_time": "2022-06-09T05:46:14.325135Z",
     "start_time": "2022-06-09T05:46:14.315500Z"
    }
   },
   "outputs": [
    {
     "name": "stdout",
     "output_type": "stream",
     "text": [
      "100.36669\n",
      "6.0546207\n"
     ]
    }
   ],
   "source": [
    "# for a given cluster, i.e. a vector (lbd_hat_i, chisi_i, z_i)\n",
    "\n",
    "lbd_hat_i = lambda_chisq[w[0]]\n",
    "lbd_err_i = lambda_chisqE[w[0]]\n",
    "chisi_i = sz_signal[w[0]]\n",
    "z_i = redshift[w[0]]\n",
    "print(lbd_hat_i)\n",
    "print(chisi_i)"
   ]
  },
  {
   "cell_type": "code",
   "execution_count": 286,
   "id": "53342f2e",
   "metadata": {
    "ExecuteTime": {
     "end_time": "2022-06-09T05:46:14.770476Z",
     "start_time": "2022-06-09T05:46:14.759999Z"
    }
   },
   "outputs": [
    {
     "name": "stdout",
     "output_type": "stream",
     "text": [
      "(50, 20, 75)\n",
      "50\n"
     ]
    }
   ],
   "source": [
    "mm, zz, ll = np.meshgrid(mvec, zetavec, lbdvec, indexing='ij')\n",
    "print(mm.shape)\n",
    "print(mm[:,0,0].size)"
   ]
  },
  {
   "cell_type": "code",
   "execution_count": 287,
   "id": "ed82cceb",
   "metadata": {
    "ExecuteTime": {
     "end_time": "2022-06-09T05:46:15.392853Z",
     "start_time": "2022-06-09T05:46:15.354776Z"
    }
   },
   "outputs": [
    {
     "name": "stdout",
     "output_type": "stream",
     "text": [
      "(50, 20, 75)\n"
     ]
    }
   ],
   "source": [
    "# calling predictions;\n",
    "ln_lbd_pred = ln_lbd_given_M([A_lambda, B_lambda, C_lambda, scatter_lambda], mvec, z_i)\n",
    "ln_zeta_pred= ln_zeta_given_M([A_sze, B_sze, C_sze, scatter_sze], mvec, z_i)\n",
    "halo_mass_func = halo_mass_function(mvec, z_i)\n",
    "\n",
    "hmf = np.tile(halo_mass_func, (len(lbdvec), len(zetavec), 1)).T\n",
    "ln_lbd_pred = np.tile(ln_lbd_pred, (len(lbdvec), len(zetavec), 1)).T\n",
    "ln_zeta_pred = np.tile(ln_zeta_pred, (len(lbdvec), len(zetavec), 1)).T\n",
    "print(hmf.shape)"
   ]
  },
  {
   "cell_type": "code",
   "execution_count": 288,
   "id": "d0e499e6",
   "metadata": {
    "ExecuteTime": {
     "end_time": "2022-06-09T05:46:15.860802Z",
     "start_time": "2022-06-09T05:46:15.831218Z"
    }
   },
   "outputs": [
    {
     "name": "stdout",
     "output_type": "stream",
     "text": [
      "(50, 20, 75)\n",
      "(50, 20, 75)\n",
      "(75,)\n",
      "57937604350102.03\n"
     ]
    }
   ],
   "source": [
    "# converting std to normal distribution\n",
    "s_zeta = logNormal_variance(ln_zeta_pred, scatter_sze)\n",
    "s_lambda = logNormal_variance(ln_lbd_pred, scatter_lambda)\n",
    "\n",
    "# avoid error messages\n",
    "rho_inv = (1-rho**2)\n",
    "rho_inv = np.where(rho_inv<=eps, -np.inf, 1/rho_inv)\n",
    "\n",
    "# # defining standirized variables\n",
    "lbd_std = (ll - np.exp(ln_lbd_pred))/s_lambda\n",
    "zeta_std = (zz - np.exp(ln_zeta_pred))/s_zeta\n",
    "\n",
    "# lbd_likelihood\n",
    "lp_lbd  = -rho_inv*lbd_std**2/2 -((ll-lbd_hat_i)/lbd_err_i)**2/2.\n",
    "\n",
    "# zeta likelihood\n",
    "lp_zeta = -rho_inv*zeta_std**2/2 -(chisi_i-np.sqrt(zz**2+3))**2/2.\n",
    "\n",
    "# corr likelihod\n",
    "lp_corr = rho*rho_inv*lbd_std*zeta_std\n",
    "\n",
    "lp_total_m = lp_lbd+lp_zeta+lp_corr\n",
    "p_total_m = np.exp(lp_total_m)*hmf#/M0\n",
    "#p_total_m = np.where(p_total_m<eps, 0., p_total_m)\n",
    "\n",
    "# integrate over M\n",
    "p_lbd_zeta = simps(p_total_m, x=mvec, axis=0)\n",
    "\n",
    "# integrate over zeta\n",
    "p_lbd = simps(p_lbd_zeta, x=zetavec, axis=0)\n",
    "\n",
    "# integrate over zeta\n",
    "p = simps(p_lbd, x=lbdvec, axis=0)\n",
    "\n",
    "print(ll.shape)\n",
    "print(ln_lbd_pred.shape)\n",
    "print(p_lbd.shape)\n",
    "print(p)"
   ]
  },
  {
   "cell_type": "code",
   "execution_count": 289,
   "id": "a9ce7c69",
   "metadata": {
    "ExecuteTime": {
     "end_time": "2022-06-09T05:46:16.888955Z",
     "start_time": "2022-06-09T05:46:16.420522Z"
    }
   },
   "outputs": [
    {
     "data": {
      "image/png": "[encoded data removed]",
      "text/plain": [
       "<Figure size 432x288 with 1 Axes>"
      ]
     },
     "metadata": {
      "needs_background": "light"
     },
     "output_type": "display_data"
    }
   ],
   "source": [
    "plt.scatter(lbdvec,p_lbd)\n",
    "plt.axvline(lbd_hat_i)\n",
    "plt.xscale('log')"
   ]
  },
  {
   "cell_type": "code",
   "execution_count": 290,
   "id": "fcf3cf3e",
   "metadata": {
    "ExecuteTime": {
     "end_time": "2022-06-09T05:46:18.014781Z",
     "start_time": "2022-06-09T05:46:17.901838Z"
    }
   },
   "outputs": [
    {
     "data": {
      "text/plain": [
       "<matplotlib.collections.PathCollection at 0x7fb39f249af0>"
      ]
     },
     "execution_count": 290,
     "metadata": {},
     "output_type": "execute_result"
    },
    {
     "data": {
      "image/png": "[encoded data removed]",
      "text/plain": [
       "<Figure size 432x288 with 1 Axes>"
      ]
     },
     "metadata": {
      "needs_background": "light"
     },
     "output_type": "display_data"
    }
   ],
   "source": [
    "plt.scatter(zetavec,simps(p_lbd_zeta, x=lbdvec, axis=1))"
   ]
  },
  {
   "cell_type": "code",
   "execution_count": null,
   "id": "81945694",
   "metadata": {},
   "outputs": [],
   "source": []
  },
  {
   "cell_type": "code",
   "execution_count": 291,
   "id": "1f6692b0",
   "metadata": {
    "ExecuteTime": {
     "end_time": "2022-06-09T05:46:19.748633Z",
     "start_time": "2022-06-09T05:46:19.470884Z"
    }
   },
   "outputs": [
    {
     "data": {
      "text/plain": [
       "Text(0, 0.5, 'Likelihood 1d')"
      ]
     },
     "execution_count": 291,
     "metadata": {},
     "output_type": "execute_result"
    },
    {
     "data": {
      "image/png": "[encoded data removed]",
      "text/plain": [
       "<Figure size 432x288 with 1 Axes>"
      ]
     },
     "metadata": {
      "needs_background": "light"
     },
     "output_type": "display_data"
    }
   ],
   "source": [
    "# plt.loglog()\n",
    "for i,zi in enumerate(zetavec):\n",
    "    plt.plot(mvec,p_total_m[:,i,3],ls='--',label='zeta = %.1f'%zi)\n",
    "plt.xscale('log')\n",
    "plt.xlabel(r'M200c [M$_{\\odot}$]',fontsize=14)\n",
    "plt.ylabel('Likelihood 1d',fontsize=14)\n",
    "# plt.legend(fontsize=14)"
   ]
  },
  {
   "cell_type": "code",
   "execution_count": 292,
   "id": "cb7ecd74",
   "metadata": {
    "ExecuteTime": {
     "end_time": "2022-06-09T05:46:20.689238Z",
     "start_time": "2022-06-09T05:46:20.352144Z"
    }
   },
   "outputs": [
    {
     "data": {
      "text/plain": [
       "<matplotlib.legend.Legend at 0x7fb38e7d3670>"
      ]
     },
     "execution_count": 292,
     "metadata": {},
     "output_type": "execute_result"
    },
    {
     "data": {
      "image/png": "[encoded data removed]",
      "text/plain": [
       "<Figure size 432x288 with 1 Axes>"
      ]
     },
     "metadata": {
      "needs_background": "light"
     },
     "output_type": "display_data"
    }
   ],
   "source": [
    "# plt.loglog()\n",
    "for i,li in enumerate(lbdvec[1:10]):\n",
    "    #plt.scatter(mvec,lp_zeta[:,i,0],label='zeta')\n",
    "    # plt.scatter(mvec,lp_lbd[:,0,0],label='lambda')\n",
    "    # plt.scatter(mvec[w],lp_corr[:,0][w],label='corr')\n",
    "    plt.plot(mvec,p_total_m[:,3,i],ls='--',label='lambda = %i'%li)\n",
    "plt.xscale('log')\n",
    "plt.xlabel(r'M200c [M$_{\\odot}$]',fontsize=14)\n",
    "plt.ylabel('Likelihood 1d',fontsize=14)\n",
    "plt.legend(fontsize=14)"
   ]
  },
  {
   "cell_type": "code",
   "execution_count": null,
   "id": "ffd73745",
   "metadata": {},
   "outputs": [],
   "source": []
  },
  {
   "cell_type": "code",
   "execution_count": 293,
   "id": "55571617",
   "metadata": {
    "ExecuteTime": {
     "end_time": "2022-06-09T05:46:22.591692Z",
     "start_time": "2022-06-09T05:46:22.060401Z"
    }
   },
   "outputs": [
    {
     "data": {
      "text/plain": [
       "-520.519121159779"
      ]
     },
     "execution_count": 293,
     "metadata": {},
     "output_type": "execute_result"
    }
   ],
   "source": [
    "lnP = log_likelihood(theta, z, y, yerr, eps=1e-9)\n",
    "lnP"
   ]
  },
  {
   "cell_type": "code",
   "execution_count": 294,
   "id": "d9ee7e88",
   "metadata": {
    "ExecuteTime": {
     "end_time": "2022-06-09T05:46:23.009688Z",
     "start_time": "2022-06-09T05:46:22.593290Z"
    }
   },
   "outputs": [
    {
     "data": {
      "text/plain": [
       "-522.2917388596242"
      ]
     },
     "execution_count": 294,
     "metadata": {},
     "output_type": "execute_result"
    }
   ],
   "source": [
    "log_likelihood_vec(theta, z, y, yerr, eps=1e-9)"
   ]
  },
  {
   "cell_type": "code",
   "execution_count": 295,
   "id": "86b4fcd7",
   "metadata": {
    "ExecuteTime": {
     "end_time": "2022-06-09T05:46:23.014360Z",
     "start_time": "2022-06-09T05:46:23.011398Z"
    }
   },
   "outputs": [],
   "source": [
    "## testing number of points\n",
    "Np = 100\n",
    "ix = np.where(lambda_chisq>30)[0][:Np] # take 10 points\n",
    "\n",
    "z = redshift[ix]\n",
    "chisi = sz_signal[ix]\n",
    "lbd_hat = lambda_chisq[ix]\n",
    "lbd_err = lambda_chisqE[ix]\n",
    "\n",
    "y = np.vstack([lbd_hat,chisi])\n",
    "yerr = lbd_err"
   ]
  },
  {
   "cell_type": "code",
   "execution_count": 296,
   "id": "446abb00",
   "metadata": {
    "ExecuteTime": {
     "end_time": "2022-06-09T05:46:23.717458Z",
     "start_time": "2022-06-09T05:46:23.195134Z"
    }
   },
   "outputs": [
    {
     "data": {
      "text/plain": [
       "-520.519121159779"
      ]
     },
     "execution_count": 296,
     "metadata": {},
     "output_type": "execute_result"
    }
   ],
   "source": [
    "lnP = log_likelihood(theta, z, y, yerr, eps=1e-9)\n",
    "lnP\n",
    "# 870ms"
   ]
  },
  {
   "cell_type": "code",
   "execution_count": 297,
   "id": "f399f3a1",
   "metadata": {
    "ExecuteTime": {
     "end_time": "2022-06-09T05:46:24.132369Z",
     "start_time": "2022-06-09T05:46:23.719000Z"
    }
   },
   "outputs": [
    {
     "data": {
      "text/plain": [
       "-522.2917388596242"
      ]
     },
     "execution_count": 297,
     "metadata": {},
     "output_type": "execute_result"
    }
   ],
   "source": [
    "log_likelihood_vec(theta, z, y, yerr, eps=1e-9)\n",
    "# 950ms"
   ]
  },
  {
   "cell_type": "code",
   "execution_count": null,
   "id": "b220df95",
   "metadata": {},
   "outputs": [],
   "source": []
  },
  {
   "cell_type": "code",
   "execution_count": null,
   "id": "e8d81317",
   "metadata": {},
   "outputs": [],
   "source": []
  },
  {
   "cell_type": "code",
   "execution_count": 201,
   "id": "ce6d96ef",
   "metadata": {
    "ExecuteTime": {
     "end_time": "2022-06-09T05:42:30.159136Z",
     "start_time": "2022-06-09T05:42:30.145468Z"
    }
   },
   "outputs": [
    {
     "name": "stdout",
     "output_type": "stream",
     "text": [
      "Vector size\n",
      "75\n",
      "50\n",
      "100\n"
     ]
    }
   ],
   "source": [
    "# set up integration vectors\n",
    "lbdvec = np.linspace(30., 1.5*np.max(lambda_chisq), 50)\n",
    "zetavec = np.linspace(1., 1.3*np.max(sz_signal), 100)\n",
    "mm, zz, ll = np.meshgrid(mvec, zetavec, lbdvec, indexing='ij')\n",
    "\n",
    "print('Vector size')\n",
    "print(mvec.size)\n",
    "print(lbdvec.size)\n",
    "print(zetavec.size)"
   ]
  },
  {
   "cell_type": "code",
   "execution_count": 45,
   "id": "6de16d95",
   "metadata": {
    "ExecuteTime": {
     "end_time": "2022-06-09T05:24:41.938966Z",
     "start_time": "2022-06-09T05:24:39.571264Z"
    }
   },
   "outputs": [],
   "source": [
    "mvec = np.logspace(13.0, 15.2, 100)\n",
    "zvec = np.linspace(0., 1.3, 100)\n",
    "zzv, mm = np.meshgrid(zvec, mvec)\n",
    "from scipy import interpolate\n",
    "halo_mass_function2 = interpolate.interp1d(zvec, halo_mass_function(mm, zzv), kind='cubic')"
   ]
  },
  {
   "cell_type": "code",
   "execution_count": null,
   "id": "433b3c20",
   "metadata": {
    "ExecuteTime": {
     "end_time": "2022-06-09T04:53:32.997852Z",
     "start_time": "2022-06-09T04:53:32.990789Z"
    }
   },
   "outputs": [],
   "source": []
  },
  {
   "cell_type": "code",
   "execution_count": 46,
   "id": "f88538e1",
   "metadata": {
    "ExecuteTime": {
     "end_time": "2022-06-09T05:24:44.657259Z",
     "start_time": "2022-06-09T05:24:41.940460Z"
    }
   },
   "outputs": [
    {
     "data": {
      "text/plain": [
       "-521.9624681754602"
      ]
     },
     "execution_count": 46,
     "metadata": {},
     "output_type": "execute_result"
    }
   ],
   "source": [
    "lnP = log_likelihood(theta, z, y, yerr, eps=1e-9)\n",
    "lnP\n",
    "# 10s for 100 points"
   ]
  },
  {
   "cell_type": "code",
   "execution_count": 47,
   "id": "51b87f2d",
   "metadata": {
    "ExecuteTime": {
     "end_time": "2022-06-09T05:24:47.251251Z",
     "start_time": "2022-06-09T05:24:44.658925Z"
    }
   },
   "outputs": [
    {
     "data": {
      "text/plain": [
       "-521.9624692757492"
      ]
     },
     "execution_count": 47,
     "metadata": {},
     "output_type": "execute_result"
    }
   ],
   "source": [
    "log_likelihood_vec(theta, z, y, yerr, eps=1e-9)"
   ]
  },
  {
   "cell_type": "code",
   "execution_count": null,
   "id": "8a8f8f30",
   "metadata": {},
   "outputs": [],
   "source": []
  },
  {
   "cell_type": "code",
   "execution_count": null,
   "id": "c1ad7dcc",
   "metadata": {},
   "outputs": [],
   "source": []
  }
 ],
 "metadata": {
  "kernelspec": {
   "display_name": "Python 3",
   "language": "python",
   "name": "python3"
  },
  "language_info": {
   "codemirror_mode": {
    "name": "ipython",
    "version": 3
   },
   "file_extension": ".py",
   "mimetype": "text/x-python",
   "name": "python",
   "nbconvert_exporter": "python",
   "pygments_lexer": "ipython3",
   "version": "3.8.8"
  },
  "latex_envs": {
   "LaTeX_envs_menu_present": true,
   "autoclose": true,
   "autocomplete": true,
   "bibliofile": "biblio.bib",
   "cite_by": "apalike",
   "current_citInitial": 1,
   "eqLabelWithNumbers": true,
   "eqNumInitial": 1,
   "hotkeys": {
    "equation": "Ctrl-E",
    "itemize": "Ctrl-I"
   },
   "labels_anchors": false,
   "latex_user_defs": false,
   "report_style_numbering": true,
   "user_envs_cfg": false
  },
  "toc": {
   "base_numbering": 1,
   "nav_menu": {},
   "number_sections": true,
   "sideBar": true,
   "skip_h1_title": false,
   "title_cell": "Table of Contents",
   "title_sidebar": "Contents",
   "toc_cell": false,
   "toc_position": {},
   "toc_section_display": true,
   "toc_window_display": false
  }
 },
 "nbformat": 4,
 "nbformat_minor": 5
}
