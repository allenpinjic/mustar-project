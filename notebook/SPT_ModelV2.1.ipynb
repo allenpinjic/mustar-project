{
 "cells": [
  {
   "cell_type": "markdown",
   "id": "1f3a8276-46c9-42e0-8641-35125f35b619",
   "metadata": {},
   "source": [
    "# Implementation of the SPT Model - Version 2"
   ]
  },
  {
   "cell_type": "markdown",
   "id": "905812be-58d0-4679-8d26-65da4dad753e",
   "metadata": {},
   "source": [
    "Modifications: Johnny Esteves\\ Author: Allen Pinjic - Created on June 9th, 2022"
   ]
  },
  {
   "cell_type": "code",
   "execution_count": 1,
   "id": "5de609f2-3510-4900-8e7f-de6eb4c3335b",
   "metadata": {},
   "outputs": [],
   "source": [
    "from __future__ import print_function, division\n",
    "\n",
    "import os\n",
    "import sys\n",
    "import numpy as np\n",
    "import emcee"
   ]
  },
  {
   "cell_type": "code",
   "execution_count": 2,
   "id": "2a146ed2-178f-49c8-8890-1ac59e70546d",
   "metadata": {},
   "outputs": [
    {
     "data": {
      "text/plain": [
       "<colossus.cosmology.cosmology.Cosmology at 0x7fa20bef1d30>"
      ]
     },
     "execution_count": 2,
     "metadata": {},
     "output_type": "execute_result"
    }
   ],
   "source": [
    "from astropy.io.fits import getdata\n",
    "from astropy.table import Table\n",
    "from astropy.cosmology import WMAP9 as cosmo\n",
    "from colossus.cosmology import cosmology\n",
    "from colossus.lss import mass_function\n",
    "cosmology.setCosmology('WMAP9')"
   ]
  },
  {
   "cell_type": "code",
   "execution_count": 3,
   "id": "39b1c2f5-d067-4140-837d-1cefbfac453b",
   "metadata": {},
   "outputs": [],
   "source": [
    "import pandas as pd\n",
    "import arviz as az\n",
    "import matplotlib.pyplot as plt\n",
    "import matplotlib.font_manager\n",
    "import scipy.stats\n",
    "import scipy.optimize\n",
    "import math"
   ]
  },
  {
   "cell_type": "code",
   "execution_count": 4,
   "id": "cc34ca49-67db-4023-a421-42d9b6979816",
   "metadata": {},
   "outputs": [],
   "source": [
    "%matplotlib inline"
   ]
  },
  {
   "cell_type": "code",
   "execution_count": 5,
   "id": "4fc8a649-63ba-47b3-addf-823ed2357449",
   "metadata": {},
   "outputs": [],
   "source": [
    "SZ_Priors = {'A_sze':[5.24, 0.85], 'B_sze':[1.534, 0.100],'C_sze':[0.465, 0.407],\n",
    "             'scatter_sze':[0.161, 0.080]}\n",
    "\n",
    "sz_theta_values = ['A_sze', 'B_sze', 'C_sze', 'scatter_sze']\n",
    "\n",
    "Lambda_Priors = {'A_lambda':[76.9, 8.2], 'B_lambda':[1.020, 0.080],'C_lambda':[0.23, 0.16],\n",
    "             'scatter_lambda':[0.23, 0.16]}\n",
    "\n",
    "lambda_theta_values = ['A_lambda', 'B_lambda', 'C_lambda', 'scatter_lambda']"
   ]
  },
  {
   "cell_type": "code",
   "execution_count": 6,
   "id": "3ad7e636-7bab-4456-ab8d-013f1dee6111",
   "metadata": {},
   "outputs": [
    {
     "data": {
      "text/html": [
       "<div><i>Table length=2</i>\n",
       "<table id=\"table140333618690368\" class=\"table-striped table-bordered table-condensed\">\n",
       "<thead><tr><th>SPT_ID</th><th>RA</th><th>DEC</th><th>FIELD</th><th>XI</th><th>THETA_CORE</th><th>REDSHIFT</th><th>REDSHIFT_UNC</th><th>SPECZ</th><th>REDSHIFT_SOURCE</th><th>RM_PROB</th><th>CL_NOTES</th><th>M500</th><th>M500_UERR</th><th>M500_LERR</th><th>LAMBDA_CHISQ</th><th>LAMBDA_CHISQ_E</th><th>RADIO_CONTAM</th><th>STRONG_LENS</th><th>IMAGE_SOURCE</th><th>SPECZ_REF</th><th>STRONG_LENS_REF</th><th>PHOTOMETRIC_ZREF</th></tr></thead>\n",
       "<thead><tr><th>str16</th><th>float64</th><th>float64</th><th>str11</th><th>float32</th><th>float32</th><th>float32</th><th>float32</th><th>int16</th><th>float32</th><th>float32</th><th>str50</th><th>float32</th><th>float32</th><th>float32</th><th>float32</th><th>float32</th><th>float32</th><th>float32</th><th>float32</th><th>str38</th><th>str19</th><th>str29</th></tr></thead>\n",
       "<tr><td>SPT-CLJ0000-2518</td><td>0.072338357</td><td>-25.303935</td><td>ra1hdec-25</td><td>5.073545</td><td>1.5</td><td>0.0</td><td>0.0</td><td>0</td><td>0.0</td><td>0.0</td><td>-</td><td>0.0</td><td>0.0</td><td>0.0</td><td>0.0</td><td>0.0</td><td>0.0</td><td>0.0</td><td>1.0</td><td></td><td></td><td></td></tr>\n",
       "<tr><td>SPT-CLJ0005-3751</td><td>1.4383179</td><td>-37.854369</td><td>ra1hdec-35</td><td>6.336327</td><td>0.75</td><td>0.48295808</td><td>0.0072415886</td><td>0</td><td>4.0</td><td>0.00061007956</td><td>-</td><td>5.419</td><td>0.887</td><td>0.887</td><td>86.40839</td><td>4.7352147</td><td>0.0</td><td>1.0</td><td>3.0</td><td></td><td></td><td></td></tr>\n",
       "</table></div>"
      ],
      "text/plain": [
       "<Table length=2>\n",
       "     SPT_ID           RA     ...        PHOTOMETRIC_ZREF      \n",
       "     str16         float64   ...             str29            \n",
       "---------------- ----------- ... -----------------------------\n",
       "SPT-CLJ0000-2518 0.072338357 ...                              \n",
       "SPT-CLJ0005-3751   1.4383179 ...                              "
      ]
     },
     "execution_count": 6,
     "metadata": {},
     "output_type": "execute_result"
    }
   ],
   "source": [
    "fname = '../data_set/sptecs_catalog_oct919.fits'\n",
    "\n",
    "data = Table(getdata(fname))\n",
    "data[:2]"
   ]
  },
  {
   "cell_type": "code",
   "execution_count": 7,
   "id": "2788202e-a088-469a-9ba3-e17955117eec",
   "metadata": {},
   "outputs": [],
   "source": [
    "sz_signal = np.array(data['XI'])\n",
    "lambda_chisq = np.array(data['LAMBDA_CHISQ'])\n",
    "lambda_chisqE = np.array(data['LAMBDA_CHISQ_E'])\n",
    "redshift = np.array(data['REDSHIFT'])\n",
    "m500 = np.array(data['M500'])*1e14"
   ]
  },
  {
   "cell_type": "code",
   "execution_count": 8,
   "id": "26712ab0-c3df-49fd-9577-5186bdf09836",
   "metadata": {},
   "outputs": [
    {
     "name": "stdout",
     "output_type": "stream",
     "text": [
      "Npoints: 298\n"
     ]
    }
   ],
   "source": [
    "ix = np.where(lambda_chisq>5)[0] # take 100 points\n",
    "Np = ix.size\n",
    "\n",
    "z = redshift[ix]\n",
    "chisi = sz_signal[ix]\n",
    "lbd_hat = lambda_chisq[ix]\n",
    "lbd_err = lambda_chisqE[ix]\n",
    "\n",
    "print('Npoints:',Np)"
   ]
  },
  {
   "cell_type": "code",
   "execution_count": 9,
   "id": "d0ac312c-fd76-47f6-9148-d4d20bdccabd",
   "metadata": {},
   "outputs": [
    {
     "name": "stdout",
     "output_type": "stream",
     "text": [
      "203.78017\n",
      "10.641013\n"
     ]
    }
   ],
   "source": [
    "# for a given cluster, i.e. a vector (lbd_hat_i, chisi_i, z_i)\n",
    "# ix = np.arange(len(lambda_chisq))[lambda_chisq>0][np.argmin(sz_signal[lambda_chisq>0])]\n",
    "ix = np.arange(len(lambda_chisq))[lambda_chisq>0][np.argmax(lambda_chisq[lambda_chisq>0])]\n",
    "\n",
    "lbd_hat_i = lambda_chisq[ix]\n",
    "lbd_err_i = lambda_chisqE[ix]\n",
    "chisi_i = sz_signal[ix]\n",
    "z_i = redshift[ix]\n",
    "print(lbd_hat_i)\n",
    "print(chisi_i)"
   ]
  },
  {
   "cell_type": "code",
   "execution_count": 10,
   "id": "3021a04b-1159-4def-bf53-a84f220d3939",
   "metadata": {},
   "outputs": [],
   "source": [
    "# test function \n",
    "# debuging here\n",
    "eps  =1e-9\n",
    "lbd  = lbd_hat[0]\n",
    "zeta = chisi[0]\n",
    "\n",
    "theta = [5.24, 1.534, 0.465, 0.161, 76.9, 1.02, 0.29, 0.16, 0.8]"
   ]
  },
  {
   "cell_type": "code",
   "execution_count": 11,
   "id": "f8341a2b-2af0-4841-bab3-09fd10468529",
   "metadata": {},
   "outputs": [],
   "source": [
    "y = np.vstack([lbd_hat,chisi])\n",
    "yerr = lbd_err\n",
    "x = redshift"
   ]
  },
  {
   "cell_type": "code",
   "execution_count": 12,
   "id": "f8cfc475-db4e-4c49-a880-f6b5971b38ea",
   "metadata": {},
   "outputs": [
    {
     "name": "stderr",
     "output_type": "stream",
     "text": [
      "<ipython-input-12-c0309a2e430a>:1: RuntimeWarning: divide by zero encountered in log10\n",
      "  np.max(np.log10(m500))\n"
     ]
    },
    {
     "data": {
      "text/plain": [
       "15.159748"
      ]
     },
     "execution_count": 12,
     "metadata": {},
     "output_type": "execute_result"
    }
   ],
   "source": [
    "np.max(np.log10(m500))"
   ]
  },
  {
   "cell_type": "code",
   "execution_count": 13,
   "id": "bbaa3377-de0e-43ec-bc2a-db1dca947066",
   "metadata": {},
   "outputs": [
    {
     "name": "stdout",
     "output_type": "stream",
     "text": [
      "Vector size\n",
      "40\n",
      "150\n",
      "75\n"
     ]
    }
   ],
   "source": [
    "# set up integration vectors\n",
    "mvec = np.logspace(14.1, 15.25, 40)\n",
    "lbdvec = np.linspace(3,1.2*np.max(lambda_chisq),150)\n",
    "zetavec = np.linspace(1,1.1*np.max(sz_signal),75)\n",
    "\n",
    "print('Vector size')\n",
    "print(mvec.size)\n",
    "print(lbdvec.size)\n",
    "print(zetavec.size)"
   ]
  },
  {
   "cell_type": "code",
   "execution_count": 14,
   "id": "e0e27336-ffee-445f-9f3c-f981c2bd4757",
   "metadata": {},
   "outputs": [],
   "source": [
    "def _halo_mass_function(M, z):\n",
    "    return mass_function.massFunction(M, z, mdef = '500c', model = 'bocquet16')\n",
    "halo_mass_function = np.vectorize(_halo_mass_function)"
   ]
  },
  {
   "cell_type": "code",
   "execution_count": 15,
   "id": "44723674-a3da-4f7d-9607-dbd7dd52f662",
   "metadata": {},
   "outputs": [],
   "source": [
    "zvec = np.linspace(np.min(redshift), np.max(redshift), 100)\n",
    "zzv, mm = np.meshgrid(zvec, mvec)\n",
    "from scipy import interpolate\n",
    "halo_mass_function2 = interpolate.interp1d(zvec, halo_mass_function(mm, zzv), kind='cubic')"
   ]
  },
  {
   "cell_type": "code",
   "execution_count": 16,
   "id": "e51d6c65-5ed8-44fb-8283-a740c1c28792",
   "metadata": {},
   "outputs": [
    {
     "data": {
      "text/plain": [
       "(298, 40)"
      ]
     },
     "execution_count": 16,
     "metadata": {},
     "output_type": "execute_result"
    }
   ],
   "source": [
    "hmf_vector = halo_mass_function2(z).T\n",
    "hmf_vector.shape"
   ]
  },
  {
   "cell_type": "code",
   "execution_count": 17,
   "id": "d26c2965-8efc-442c-845d-a762b05aa9cb",
   "metadata": {},
   "outputs": [],
   "source": [
    "def prob_chisi(zeta, chisi, eps=1e-12):\n",
    "    res = np.exp(-(chisi-np.sqrt(zeta**2+2))**2/2.)/np.sqrt(2*np.pi)\n",
    "    return res#np.where(res<eps,0.,res)\n",
    "\n",
    "def gaussian(x,mu,std):\n",
    "    return np.exp(-(x-mu)**2/std**2/2.)/np.sqrt(2*np.pi*std**2)\n",
    "\n",
    "def prob_lbd_hat(lbd, lbd_hat, lbd_error, eps=1e-12):\n",
    "    res = gaussian(lbd, lbd_hat, lbd_error)\n",
    "    return res#np.where(res<eps,0.,res)\n",
    "\n",
    "# taking only points with a significant p_chisi/lbd_hat\n",
    "def slice_array(y,alpha=1e-2):\n",
    "    cy = np.cumsum(y/np.sum(y),axis=0)\n",
    "    ilo,iup = np.interp([alpha,1-alpha],cy,np.arange(len(y))).astype(int)+(0,2)\n",
    "    return ilo, iup"
   ]
  },
  {
   "cell_type": "code",
   "execution_count": 18,
   "id": "16ed04d1-7c04-4782-bf3c-2c9ee51cd0ef",
   "metadata": {},
   "outputs": [
    {
     "name": "stdout",
     "output_type": "stream",
     "text": [
      "(298, 150)\n"
     ]
    }
   ],
   "source": [
    "prob_lbd_hat_vec = np.array([prob_lbd_hat(lbdvec, lbd_hat_i, lbd_err_i) \n",
    "                             for lbd_hat_i, lbd_err_i in zip(lbd_hat, lbd_err)])\n",
    "prob_chisi_vec = np.array([prob_chisi(zetavec, chisi_i) for chisi_i in chisi])\n",
    "\n",
    "print(prob_lbd_hat_vec.shape)"
   ]
  },
  {
   "cell_type": "code",
   "execution_count": 19,
   "id": "134aa34a-bedf-45de-b4b3-f455e7748c2b",
   "metadata": {},
   "outputs": [
    {
     "data": {
      "text/plain": [
       "(298, 2)"
      ]
     },
     "execution_count": 19,
     "metadata": {},
     "output_type": "execute_result"
    }
   ],
   "source": [
    "alpha = 0.1\n",
    "lbd_indices_vec = np.array([slice_array(pi, alpha=alpha) for pi in prob_lbd_hat_vec])\n",
    "zeta_indices_vec = np.array([slice_array(pi, alpha=alpha) for pi in prob_chisi_vec])\n",
    "\n",
    "lbd_indices_vec.shape"
   ]
  },
  {
   "cell_type": "markdown",
   "id": "cf827919-0d4b-44f0-9fea-775d8c9d58a5",
   "metadata": {},
   "source": [
    "# Likelihood"
   ]
  },
  {
   "cell_type": "code",
   "execution_count": 20,
   "id": "191a8e61-b855-4b2c-91d8-35de77dd7832",
   "metadata": {},
   "outputs": [],
   "source": [
    "def E(z):\n",
    "    # The Hubble constant at the value of z\n",
    "    Hz = cosmo.H(z).value\n",
    "    # The Hubble constant at z=0\n",
    "    H0 = cosmo.H(0).value\n",
    "    return (Hz/H0)\n",
    "Ez2 = interpolate.interp1d(zvec, E(zvec), kind='cubic')\n",
    "\n",
    "#Insert the priors on the SZE scaling relation parameters that identify with SZE,\n",
    "# along with a value for the mass (M) and redshift (z)\n",
    "## References Equation 2\n",
    "M0 = 3e14\n",
    "Ez0 = E(0)\n",
    "def ln_zeta_given_M(theta_sze,M,z):\n",
    "    A_sze, B_sze, C_sze, scatter_sze = theta_sze\n",
    "    return np.log(A_sze) + (B_sze)*np.log(M/M0) + (C_sze)*(np.log(Ez2(z)/Ez0))\n",
    "\n",
    "#Insert the priors on the SZE scaling relation parameters that identify with LAMBDA, \n",
    "# along with a value for the mass (M) and redshift (z)\n",
    "# Identified with the \n",
    "## References Equation 3\n",
    "def ln_lbd_given_M(theta_lambda,M,z):\n",
    "    A_lambda, B_lambda, C_lambda, scatter_lambda = theta_lambda\n",
    "    return np.log(A_lambda) + (B_lambda)*np.log(M/M0) + (C_lambda)*(np.log(Ez2(z)/Ez0))\n",
    "\n",
    "def logNormal_variance(mu,std):\n",
    "    return (np.exp(std**2)-1)*np.exp(2*mu+std**2)"
   ]
  },
  {
   "cell_type": "code",
   "execution_count": 21,
   "id": "fa132e30-802d-421b-91dd-07f2e4d1cb28",
   "metadata": {},
   "outputs": [],
   "source": [
    "from scipy.integrate import simps\n",
    "\n",
    "# given: mvec, lbdvec and zetavec\n",
    "\n",
    "def log_likelihood_vec2(theta, indices, eps=1e-9):\n",
    "    # defining variables\n",
    "    probs = []\n",
    "    for ix in indices:\n",
    "        probs.append(_log_likelihood2(theta, ix))\n",
    "    p = np.array(probs)/np.sum(probs)\n",
    "    log_p = np.log(p)\n",
    "    log_p = np.where(np.isnan(log_p), -np.inf, log_p)\n",
    "    return np.sum(log_p)"
   ]
  },
  {
   "cell_type": "code",
   "execution_count": 22,
   "id": "24d6b2b4-c58d-40a0-92cc-1eac931cdcac",
   "metadata": {},
   "outputs": [],
   "source": [
    "mm, zz, ll = np.meshgrid(mvec, zetavec, lbdvec, indexing='ij')\n",
    "\n",
    "def _log_likelihood2(theta, ix):\n",
    "    # unfolding theta\n",
    "    A_lambda, B_lambda, C_lambda, scatter_lambda = theta[4:8]\n",
    "    A_sze, B_sze, C_sze, scatter_sze = theta[:4]\n",
    "    rho = theta[-1]\n",
    "    \n",
    "    z_i = z[ix]\n",
    "    p_chisi = prob_chisi_vec[ix]\n",
    "    p_lbd_hat = prob_lbd_hat_vec[ix]\n",
    "    llo, lup = list(lbd_indices_vec[ix])\n",
    "    clo, cup = list(zeta_indices_vec[ix])\n",
    "    halo_mass_func = hmf_vector[ix]\n",
    "\n",
    "    # calling predictions;\n",
    "    ln_lbd_pred = ln_lbd_given_M([A_lambda, B_lambda, C_lambda, scatter_lambda], mvec, z_i)\n",
    "    ln_zeta_pred= ln_zeta_given_M([A_sze, B_sze, C_sze, scatter_sze], mvec, z_i)\n",
    "    \n",
    "    hmf = np.tile(halo_mass_func, (int(lup-llo), int(cup-clo), 1)).T\n",
    "    ln_lbd_pred = np.tile(ln_lbd_pred, (int(lup-llo), int(cup-clo), 1)).T\n",
    "    ln_zeta_pred = np.tile(ln_zeta_pred, (int(lup-llo), int(cup-clo), 1)).T\n",
    "    \n",
    "    # compute dn_dlbd_dzeta_integrand\n",
    "    p_total_m = compute_dn_dlbd_dzeta_vec2(lbd_hat_i, lbd_err_i, chisi_i,\n",
    "                                           scatter_lambda, scatter_sze, rho,\n",
    "                                           ll[:,clo:cup,llo:lup],zz[:,clo:cup,llo:lup],\n",
    "                                           ln_lbd_pred, ln_zeta_pred, hmf)\n",
    "    # integrate over M\n",
    "    p_lbd_zeta = np.trapz(p_total_m, x=mvec, axis=0)\n",
    "\n",
    "    # integrate over zeta\n",
    "    p_chisi = np.tile(p_chisi[clo:cup], (int(lup-llo), 1)).T\n",
    "    p_lbd = np.trapz(p_lbd_zeta*p_chisi, x=zetavec[clo:cup], axis=0)\n",
    "\n",
    "    # integrate over lambda\n",
    "    p = np.trapz(p_lbd*p_lbd_hat[llo:lup], x=lbdvec[llo:lup], axis=0)\n",
    "    return p"
   ]
  },
  {
   "cell_type": "code",
   "execution_count": 23,
   "id": "f6ed0a13-3531-49e7-88de-85a84bd0f724",
   "metadata": {},
   "outputs": [],
   "source": [
    "def compute_dn_dlbd_dzeta_vec2(lbd_hat_i, lbd_err_i, chisi_i, scatter_lambda, scatter_sze, rho,\n",
    "                               lvec, zvec, ln_lbd_pred, ln_zeta_pred, hmf, eps = 1e-9):\n",
    "    # converting std to normal distribution\n",
    "    s_zeta = logNormal_variance(ln_zeta_pred, scatter_sze)\n",
    "    s_lambda = logNormal_variance(ln_lbd_pred, scatter_lambda)\n",
    "    s_zeta_inv = np.where(scatter_sze<=s_zeta, -np.inf, 1/s_zeta)\n",
    "    s_lambda_inv = np.where(s_lambda<=eps, -np.inf, 1/s_lambda)\n",
    "    \n",
    "    cov = (scatter_lambda)**(2)*(scatter_sze)**(2)*(1-rho**2)\n",
    "    additional_cov = (-0.5)*np.log(np.pi*cov**2)\n",
    "    \n",
    "    # avoid error messages\n",
    "    rho_inv = (1-rho**2)\n",
    "    rho_inv = np.where(rho_inv<=eps, -np.inf, 1/rho_inv)\n",
    "    \n",
    "    # defining standardized variables\n",
    "    lbd_std = (np.log(lvec) - (ln_lbd_pred))*s_lambda_inv\n",
    "    zeta_std = (np.log(zvec)- (ln_zeta_pred))*s_zeta_inv\n",
    "    np.seterr(invalid='ignore')\n",
    "\n",
    "    # lbd_likelihood\n",
    "    lp_lbd  = (-rho_inv*lbd_std**2)/2\n",
    "\n",
    "    # zeta likelihood\n",
    "    lp_zeta = (-rho_inv*zeta_std**2)/2\n",
    "\n",
    "    # corr likelihod\n",
    "    lp_corr = rho*rho_inv*lbd_std*zeta_std\n",
    "\n",
    "    lp_total_m = lp_lbd + lp_zeta + lp_corr + additional_cov\n",
    "    \n",
    "    p_total_m = (hmf*np.exp(lp_total_m))/(lvec*zvec)\n",
    "    \n",
    "    return p_total_m"
   ]
  },
  {
   "cell_type": "code",
   "execution_count": 24,
   "id": "7c0bfac7-b432-4e67-9610-fc3317c13474",
   "metadata": {},
   "outputs": [],
   "source": [
    "# Implementing the log_likelihood_vec2 in the emcee code\n",
    "# via writing to the prior functions.\n",
    "\n",
    "# In reference to rho's (ρ) defintion it states:\n",
    "# Parameters of the richness–mass relation defined\n",
    "# in Eq. 11 (Bleem et al. 2019) \n",
    "## and the correlation coefficient, ρSZ−λ, between the SZ signal (ζ) and richness.\n",
    "\n",
    "# ρ also defined as the correlation coefficient  \n",
    "# that encodes the degree of correlation between the intrinsic scatters on the respective observables"
   ]
  },
  {
   "cell_type": "code",
   "execution_count": 25,
   "id": "364e5d62-ecd4-4660-94fc-bda788cc5e08",
   "metadata": {},
   "outputs": [],
   "source": [
    "def set_gaussian_prior(param, mu, sigma):\n",
    "    return -0.5*((param - mu)/(sigma))**2\n",
    "\n",
    "# Setting SZE priors\n",
    "def set_prior_sze(theta_values):\n",
    "    lp = 0.\n",
    "    rhomin = 0.\n",
    "    rhomax = 1.\n",
    "    \n",
    "    for i, prior_name in enumerate(['A_sze', 'B_sze', 'C_sze', 'scatter_sze']):\n",
    "        mean, error = SZ_Priors[prior_name]\n",
    "        param = theta_values[i]\n",
    "        result = set_gaussian_prior(param, mean, error)\n",
    "        lp += np.where(np.abs(result)>9., -np.inf, result)\n",
    "        # outside a range of six sigmas (six standard deviations)\n",
    "    # set prior to 1 (log prior to 0) if in the range and zero (-inf) outside the range \n",
    "    lp = 0. if (theta_values[-1] > 0) else -np.inf\n",
    "    return lp\n",
    "\n",
    "# Setting Lambda priors\n",
    "def set_prior_lambda(theta_values):\n",
    "    lp = 0.\n",
    "    rhomin = 0.\n",
    "    rhomax = 1.\n",
    "    \n",
    "    for i, prior_name in enumerate(['A_lambda', 'B_lambda', 'C_lambda', 'scatter_lambda']):\n",
    "        mean, error = Lambda_Priors[prior_name]\n",
    "        param = theta_values[i]\n",
    "        result = set_gaussian_prior(param, mean, error)\n",
    "        lp += np.where(np.abs(result)>9., -np.inf, result)\n",
    "        # outside a range of six sigmas (six standard deviations)\n",
    "       \n",
    "    # set prior to 1 (log prior to 0) if in the range and zero (-inf) outside the range \n",
    "    lp = 0. if (theta_values[-1] > 0) else -np.inf\n",
    "    return lp\n",
    "\n",
    "def logprior(theta):\n",
    "    lp = 0\n",
    "    A_lambda, B_lambda, C_lambda, scatter_lambda = theta[4:8]\n",
    "    A_sze, B_sze, C_sze, scatter_sze = theta[:4]\n",
    "    rho = theta[-1]\n",
    "    \n",
    "    lp_lambda = set_prior_lambda([A_lambda, B_lambda, C_lambda, scatter_lambda])\n",
    "    lp_sze = set_prior_sze([A_sze, B_sze, C_sze, scatter_sze])\n",
    "    \n",
    "    lp = 0. if ((rho > 0) and (rho < 1)) else -np.inf\n",
    "    return lp + lp_lambda + lp_sze"
   ]
  },
  {
   "cell_type": "code",
   "execution_count": 26,
   "id": "0fd7e939-9c8a-4e21-9f61-83c2a5a54a8c",
   "metadata": {},
   "outputs": [
    {
     "data": {
      "text/plain": [
       "0.0"
      ]
     },
     "execution_count": 26,
     "metadata": {},
     "output_type": "execute_result"
    }
   ],
   "source": [
    "logprior(theta)"
   ]
  },
  {
   "cell_type": "code",
   "execution_count": 27,
   "id": "22f26b41-4bcb-4c8b-8e23-2a60c137d05b",
   "metadata": {},
   "outputs": [],
   "source": [
    "def logposterior(theta, indices):\n",
    "    lp = logprior(theta)\n",
    "    \n",
    "    # if the prior is not finite return a probability of zero (log probability of -inf)\n",
    "    if not np.isfinite(lp):\n",
    "        return -np.inf\n",
    "    \n",
    "    # return the likeihood times the prior (log likelihood plus the log prior)\n",
    "    return lp + log_likelihood_vec2(theta, indices, eps=1e-9)"
   ]
  },
  {
   "cell_type": "code",
   "execution_count": 28,
   "id": "460d070b-ef88-4c64-ad0a-82122718d3ae",
   "metadata": {},
   "outputs": [],
   "source": [
    "Nburnin = 500 # number of burn-in samples\n",
    "Nsamples = 1000 # number of final posterior samples\n",
    "walkers = 32\n",
    "ndims = len(theta)\n",
    "guess = (np.array(theta)[:, np.newaxis]*(1.+0.01*np.random.normal(size=(ndims,walkers)))).T\n",
    "\n",
    "# set additional args for the posterior (the data, the noise std. dev., and the abscissa)\n",
    "sel = np.arange(len(z))#[:100]\n",
    "sel = np.random.randint(len(z), size=100, dtype=int)\n",
    "argslist = [sel]"
   ]
  },
  {
   "cell_type": "code",
   "execution_count": 29,
   "id": "1dd59ab9-edf6-4752-9315-b986cdd46c30",
   "metadata": {},
   "outputs": [
    {
     "data": {
      "text/plain": [
       "-inf"
      ]
     },
     "execution_count": 29,
     "metadata": {},
     "output_type": "execute_result"
    }
   ],
   "source": [
    "logposterior(theta, sel)"
   ]
  },
  {
   "cell_type": "code",
   "execution_count": 30,
   "id": "1a68059f-bb3b-4113-95e0-1eae635f5fe8",
   "metadata": {},
   "outputs": [
    {
     "name": "stdout",
     "output_type": "stream",
     "text": [
      "Maximum likelihood estimates:\n",
      "Albd = 76.877\n",
      "Blbd = 0.997\n",
      "Clbd = 0.448\n",
      "Scatter_lbd = 0.237\n",
      "rho: 0.753\n"
     ]
    }
   ],
   "source": [
    "from scipy.optimize import minimize\n",
    "\n",
    "np.random.seed(42)\n",
    "nll = lambda *args: -log_likelihood_vec2(*args)\n",
    "initial = theta + 0.1 * np.random.randn(9)\n",
    "soln = minimize(nll, initial, args=sel)\n",
    "albd, blbd, clbd, slbd, rho = soln.x[4:]\n",
    "\n",
    "print(\"Maximum likelihood estimates:\")\n",
    "print(\"Albd = {0:.3f}\".format(albd))\n",
    "print(\"Blbd = {0:.3f}\".format(blbd))\n",
    "print(\"Clbd = {0:.3f}\".format(clbd))\n",
    "print(\"Scatter_lbd = {0:.3f}\".format(slbd))\n",
    "print(\"rho: {0:.3f}\".format(rho))"
   ]
  },
  {
   "cell_type": "code",
   "execution_count": 31,
   "id": "9a0ebb20-38c1-48f7-adad-3bff8d5b9023",
   "metadata": {},
   "outputs": [
    {
     "data": {
      "text/plain": [
       "[5.24, 1.534, 0.465, 0.161, 76.9, 1.02, 0.29, 0.16, 0.8]"
      ]
     },
     "execution_count": 31,
     "metadata": {},
     "output_type": "execute_result"
    }
   ],
   "source": [
    "theta"
   ]
  },
  {
   "cell_type": "code",
   "execution_count": 32,
   "id": "d38d05be-8dff-4ee1-a458-821838b41bb5",
   "metadata": {},
   "outputs": [
    {
     "data": {
      "text/plain": [
       "0.7530525614065048"
      ]
     },
     "execution_count": 32,
     "metadata": {},
     "output_type": "execute_result"
    }
   ],
   "source": [
    "soln.x[-1]"
   ]
  },
  {
   "cell_type": "code",
   "execution_count": 33,
   "id": "beeb28b5-a73b-40a5-80f2-755dcae24387",
   "metadata": {},
   "outputs": [
    {
     "name": "stderr",
     "output_type": "stream",
     "text": [
      "100%|██████████| 1500/1500 [09:29<00:00,  2.63it/s]"
     ]
    },
    {
     "name": "stdout",
     "output_type": "stream",
     "text": [
      "Multiprocessing took 569.7 seconds\n",
      "9.5 times faster than serial\n"
     ]
    },
    {
     "name": "stderr",
     "output_type": "stream",
     "text": [
      "\n"
     ]
    }
   ],
   "source": [
    "import time\n",
    "from multiprocessing import Pool\n",
    "with Pool(processes = 16) as pool:\n",
    "    sampler = emcee.EnsembleSampler(walkers, ndims, logposterior,args=[sel], pool=pool)\n",
    "    start = time.time()\n",
    "    sampler.run_mcmc(guess, Nsamples+Nburnin, progress=True)\n",
    "    end = time.time()\n",
    "    multi_time = end - start\n",
    "    serial_time = (1.5)*(3600)\n",
    "    print(\"Multiprocessing took {0:.1f} seconds\".format(multi_time))\n",
    "    print(\"{0:.1f} times faster than serial\".format(serial_time / multi_time))"
   ]
  },
  {
   "cell_type": "code",
   "execution_count": 35,
   "id": "77206649-1cd1-4bc1-ae9c-1239bcc049b9",
   "metadata": {},
   "outputs": [],
   "source": [
    "# set up the sampler\n",
    "sampler = emcee.EnsembleSampler(walkers, ndims, logposterior, args=[sel])\n",
    "\n",
    "# pass the initial samples and total number of samples required\n",
    "sampler.run_mcmc(guess, Nsamples+Nburnin);\n",
    "\n",
    "# extract the samples (removing the burn-in)\n",
    "postsamples = sampler.chain[:, Nburnin:, :].reshape((-1, ndims))"
   ]
  },
  {
   "cell_type": "code",
   "execution_count": 36,
   "id": "9a8cc337-06b2-40c7-8bd1-a9062250a699",
   "metadata": {},
   "outputs": [
    {
     "name": "stdout",
     "output_type": "stream",
     "text": [
      "Number of posterior samples is 32000\n"
     ]
    },
    {
     "name": "stderr",
     "output_type": "stream",
     "text": [
      "WARNING:root:Too few points to create valid contours\n",
      "WARNING:root:Too few points to create valid contours\n",
      "WARNING:root:Too few points to create valid contours\n",
      "WARNING:root:Too few points to create valid contours\n",
      "WARNING:root:Too few points to create valid contours\n",
      "WARNING:root:Too few points to create valid contours\n",
      "WARNING:root:Too few points to create valid contours\n",
      "WARNING:root:Too few points to create valid contours\n",
      "WARNING:root:Too few points to create valid contours\n",
      "WARNING:root:Too few points to create valid contours\n",
      "WARNING:root:Too few points to create valid contours\n",
      "WARNING:root:Too few points to create valid contours\n",
      "WARNING:root:Too few points to create valid contours\n",
      "WARNING:root:Too few points to create valid contours\n",
      "WARNING:root:Too few points to create valid contours\n",
      "WARNING:root:Too few points to create valid contours\n",
      "WARNING:root:Too few points to create valid contours\n",
      "WARNING:root:Too few points to create valid contours\n",
      "WARNING:root:Too few points to create valid contours\n",
      "WARNING:root:Too few points to create valid contours\n",
      "WARNING:root:Too few points to create valid contours\n",
      "WARNING:root:Too few points to create valid contours\n",
      "WARNING:root:Too few points to create valid contours\n",
      "WARNING:root:Too few points to create valid contours\n",
      "WARNING:root:Too few points to create valid contours\n",
      "WARNING:root:Too few points to create valid contours\n",
      "WARNING:root:Too few points to create valid contours\n",
      "WARNING:root:Too few points to create valid contours\n",
      "WARNING:root:Too few points to create valid contours\n",
      "WARNING:root:Too few points to create valid contours\n",
      "WARNING:root:Too few points to create valid contours\n",
      "WARNING:root:Too few points to create valid contours\n",
      "WARNING:root:Too few points to create valid contours\n",
      "WARNING:root:Too few points to create valid contours\n",
      "WARNING:root:Too few points to create valid contours\n",
      "WARNING:root:Too few points to create valid contours\n"
     ]
    }
   ],
   "source": [
    "A_lambda, B_lambda, C_lambda, scatter_lambda = theta[4:8]\n",
    "A_sze, B_sze, C_sze, scatter_sze = theta[:4]\n",
    "rho = theta[-1]\n",
    "\n",
    "try:\n",
    "    import matplotlib as mpl\n",
    "    mpl.use(\"Agg\") # force Matplotlib backend to Agg\n",
    "    import corner # import corner.py\n",
    "except ImportError:\n",
    "    sys.exit(1)\n",
    "\n",
    "print('Number of posterior samples is {}'.format(postsamples.shape[0]))\n",
    "\n",
    "fig = corner.corner(postsamples, labels=[r\"Aλ\", r\"Bλ\", r\"Cλ\", r\"Scatter\", r\"A_SZE\", r\"B_SZE\", r\"C_SZE\", r\"Scatter_SZE\", \"ρ\"]\n",
    "                    , show_titles = True, truths=[A_lambda, B_lambda, C_lambda, scatter_lambda,\n",
    "                                                  A_sze, B_sze, C_sze, scatter_sze, rho])"
   ]
  },
  {
   "cell_type": "code",
   "execution_count": null,
   "id": "18e426b6-7573-4a12-834a-4636fb00354a",
   "metadata": {},
   "outputs": [],
   "source": [
    "from multiprocessing import cpu_count\n",
    "\n",
    "ncpu = cpu_count()\n",
    "print(\"{0} CPUs\".format(ncpu))"
   ]
  },
  {
   "cell_type": "code",
   "execution_count": null,
   "id": "9ff69bbb-fdb4-4411-a4f0-19ba37be7cd1",
   "metadata": {},
   "outputs": [],
   "source": [
    "import os\n",
    "\n",
    "os.environ.keys()"
   ]
  }
 ],
 "metadata": {
  "kernelspec": {
   "display_name": "Python 3",
   "language": "python",
   "name": "python3"
  },
  "language_info": {
   "codemirror_mode": {
    "name": "ipython",
    "version": 3
   },
   "file_extension": ".py",
   "mimetype": "text/x-python",
   "name": "python",
   "nbconvert_exporter": "python",
   "pygments_lexer": "ipython3",
   "version": "3.8.8"
  }
 },
 "nbformat": 4,
 "nbformat_minor": 5
}
