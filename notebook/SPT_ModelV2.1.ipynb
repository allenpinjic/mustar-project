{
 "cells": [
  {
   "cell_type": "markdown",
   "id": "b1ba72a5-0920-4a0b-bfed-abec27784405",
   "metadata": {},
   "source": [
    "# Implementation of the SPT Model - Version 2"
   ]
  },
  {
   "cell_type": "markdown",
   "id": "8751efd9-a0cf-48f4-bb14-6ed4cc93c40d",
   "metadata": {},
   "source": [
    "Modifications: Johnny Esteves\\ Author: Allen Pinjic - Created on June 9th, 2022"
   ]
  },
  {
   "cell_type": "code",
   "execution_count": 1,
   "id": "d076c73a",
   "metadata": {
    "ExecuteTime": {
     "end_time": "2022-06-16T05:03:24.351208Z",
     "start_time": "2022-06-16T05:03:23.883603Z"
    }
   },
   "outputs": [],
   "source": [
    "from __future__ import print_function, division\n",
    "\n",
    "import os\n",
    "import sys\n",
    "import numpy as np\n",
    "import emcee"
   ]
  },
  {
   "cell_type": "code",
   "execution_count": 2,
   "id": "7b67b118-6baf-42e4-85cd-3f402b550992",
   "metadata": {
    "ExecuteTime": {
     "end_time": "2022-06-16T05:03:25.022491Z",
     "start_time": "2022-06-16T05:03:24.352972Z"
    },
    "tags": []
   },
   "outputs": [],
   "source": [
    "from astropy.io.fits import getdata\n",
    "from astropy.table import Table\n",
    "from astropy.cosmology import WMAP9 as cosmo"
   ]
  },
  {
   "cell_type": "code",
   "execution_count": 3,
   "id": "e789e852-91de-4be5-ba85-81769d90a1dc",
   "metadata": {
    "ExecuteTime": {
     "end_time": "2022-06-16T05:03:26.875156Z",
     "start_time": "2022-06-16T05:03:25.024188Z"
    }
   },
   "outputs": [],
   "source": [
    "import pandas as pd\n",
    "import arviz as az\n",
    "import matplotlib.pyplot as plt\n",
    "import matplotlib.font_manager\n",
    "import scipy.stats\n",
    "import scipy.optimize\n",
    "import math"
   ]
  },
  {
   "cell_type": "code",
   "execution_count": 118,
   "id": "c6095267-781d-42ac-9e3a-affe663606df",
   "metadata": {
    "ExecuteTime": {
     "end_time": "2022-06-16T14:51:50.183972Z",
     "start_time": "2022-06-16T14:51:50.178818Z"
    }
   },
   "outputs": [],
   "source": [
    "%matplotlib inline"
   ]
  },
  {
   "cell_type": "markdown",
   "id": "bbc07233",
   "metadata": {},
   "source": [
    "## Prior Values"
   ]
  },
  {
   "cell_type": "code",
   "execution_count": 5,
   "id": "816612b4",
   "metadata": {
    "ExecuteTime": {
     "end_time": "2022-06-16T05:03:26.894669Z",
     "start_time": "2022-06-16T05:03:26.891413Z"
    }
   },
   "outputs": [],
   "source": [
    "SZ_Priors = {'A_sze':[5.24, 0.85], 'B_sze':[1.534, 0.100],'C_sze':[0.465, 0.407],\n",
    "             'scatter_sze':[0.161, 0.080]}\n",
    "\n",
    "sz_theta_values = ['A_sze', 'B_sze', 'C_sze', 'scatter_sze']\n",
    "\n",
    "Lambda_Priors = {'A_lambda':[76.9, 8.2], 'B_lambda':[1.020, 0.080],'C_lambda':[0.23, 0.16],\n",
    "             'scatter_lambda':[0.23, 0.16]}\n",
    "\n",
    "lambda_theta_values = ['A_lambda', 'B_lambda', 'C_lambda', 'scatter_lambda']\n"
   ]
  },
  {
   "cell_type": "markdown",
   "id": "3a192f4a",
   "metadata": {},
   "source": [
    "## Load the Data"
   ]
  },
  {
   "cell_type": "code",
   "execution_count": 6,
   "id": "9aadb57e-9435-4cb1-ba63-e6a2ea6967c8",
   "metadata": {
    "ExecuteTime": {
     "end_time": "2022-06-16T05:03:26.937745Z",
     "start_time": "2022-06-16T05:03:26.896943Z"
    }
   },
   "outputs": [
    {
     "data": {
      "text/html": [
       "<i>Table length=2</i>\n",
       "<table id=\"table140490820255024\" class=\"table-striped table-bordered table-condensed\">\n",
       "<thead><tr><th>SPT_ID</th><th>RA</th><th>DEC</th><th>FIELD</th><th>XI</th><th>THETA_CORE</th><th>REDSHIFT</th><th>REDSHIFT_UNC</th><th>SPECZ</th><th>REDSHIFT_SOURCE</th><th>RM_PROB</th><th>CL_NOTES</th><th>M500</th><th>M500_UERR</th><th>M500_LERR</th><th>LAMBDA_CHISQ</th><th>LAMBDA_CHISQ_E</th><th>RADIO_CONTAM</th><th>STRONG_LENS</th><th>IMAGE_SOURCE</th><th>SPECZ_REF</th><th>STRONG_LENS_REF</th><th>PHOTOMETRIC_ZREF</th></tr></thead>\n",
       "<thead><tr><th>str16</th><th>float64</th><th>float64</th><th>str11</th><th>float32</th><th>float32</th><th>float32</th><th>float32</th><th>int16</th><th>float32</th><th>float32</th><th>str50</th><th>float32</th><th>float32</th><th>float32</th><th>float32</th><th>float32</th><th>float32</th><th>float32</th><th>float32</th><th>str38</th><th>str19</th><th>str29</th></tr></thead>\n",
       "<tr><td>SPT-CLJ0000-2518</td><td>0.072338357</td><td>-25.303935</td><td>ra1hdec-25</td><td>5.073545</td><td>1.5</td><td>0.0</td><td>0.0</td><td>0</td><td>0.0</td><td>0.0</td><td>-</td><td>0.0</td><td>0.0</td><td>0.0</td><td>0.0</td><td>0.0</td><td>0.0</td><td>0.0</td><td>1.0</td><td></td><td></td><td></td></tr>\n",
       "<tr><td>SPT-CLJ0005-3751</td><td>1.4383179</td><td>-37.854369</td><td>ra1hdec-35</td><td>6.336327</td><td>0.75</td><td>0.48295808</td><td>0.0072415886</td><td>0</td><td>4.0</td><td>0.00061007956</td><td>-</td><td>5.419</td><td>0.887</td><td>0.887</td><td>86.40839</td><td>4.7352147</td><td>0.0</td><td>1.0</td><td>3.0</td><td></td><td></td><td></td></tr>\n",
       "</table>"
      ],
      "text/plain": [
       "<Table length=2>\n",
       "     SPT_ID           RA     ...        PHOTOMETRIC_ZREF      \n",
       "     str16         float64   ...             str29            \n",
       "---------------- ----------- ... -----------------------------\n",
       "SPT-CLJ0000-2518 0.072338357 ...                              \n",
       "SPT-CLJ0005-3751   1.4383179 ...                              "
      ]
     },
     "execution_count": 6,
     "metadata": {},
     "output_type": "execute_result"
    }
   ],
   "source": [
    "fname = '../data_set/sptecs_catalog_oct919.fits'\n",
    "\n",
    "data = Table(getdata(fname))\n",
    "data[:2]"
   ]
  },
  {
   "cell_type": "code",
   "execution_count": 7,
   "id": "95c3a6b7-9e9b-4c7d-8b99-8688213e4c2f",
   "metadata": {
    "ExecuteTime": {
     "end_time": "2022-06-16T05:03:26.942077Z",
     "start_time": "2022-06-16T05:03:26.939283Z"
    }
   },
   "outputs": [],
   "source": [
    "sz_signal = np.array(data['XI'])\n",
    "lambda_chisq = np.array(data['LAMBDA_CHISQ'])\n",
    "lambda_chisqE = np.array(data['LAMBDA_CHISQ_E'])\n",
    "redshift = np.array(data['REDSHIFT'])\n",
    "m500 = np.array(data['M500'])*1e14"
   ]
  },
  {
   "cell_type": "code",
   "execution_count": 8,
   "id": "e3707521",
   "metadata": {
    "ExecuteTime": {
     "end_time": "2022-06-16T05:03:26.946903Z",
     "start_time": "2022-06-16T05:03:26.943574Z"
    }
   },
   "outputs": [
    {
     "name": "stdout",
     "output_type": "stream",
     "text": [
      "Npoints: 298\n"
     ]
    }
   ],
   "source": [
    "ix = np.where(lambda_chisq>5)[0] # take 100 points\n",
    "Np = ix.size\n",
    "\n",
    "z = redshift[ix]\n",
    "chisi = sz_signal[ix]\n",
    "lbd_hat = lambda_chisq[ix]\n",
    "lbd_err = lambda_chisqE[ix]\n",
    "\n",
    "print('Npoints:',Np)"
   ]
  },
  {
   "cell_type": "code",
   "execution_count": 9,
   "id": "e41967ff",
   "metadata": {
    "ExecuteTime": {
     "end_time": "2022-06-16T05:03:26.951776Z",
     "start_time": "2022-06-16T05:03:26.948331Z"
    }
   },
   "outputs": [
    {
     "name": "stdout",
     "output_type": "stream",
     "text": [
      "203.78017\n",
      "10.641013\n"
     ]
    }
   ],
   "source": [
    "# for a given cluster, i.e. a vector (lbd_hat_i, chisi_i, z_i)\n",
    "# ix = np.arange(len(lambda_chisq))[lambda_chisq>0][np.argmin(sz_signal[lambda_chisq>0])]\n",
    "ix = np.arange(len(lambda_chisq))[lambda_chisq>0][np.argmax(lambda_chisq[lambda_chisq>0])]\n",
    "\n",
    "lbd_hat_i = lambda_chisq[ix]\n",
    "lbd_err_i = lambda_chisqE[ix]\n",
    "chisi_i = sz_signal[ix]\n",
    "z_i = redshift[ix]\n",
    "print(lbd_hat_i)\n",
    "print(chisi_i)"
   ]
  },
  {
   "cell_type": "code",
   "execution_count": 10,
   "id": "688ecf9b",
   "metadata": {
    "ExecuteTime": {
     "end_time": "2022-06-16T05:03:27.686283Z",
     "start_time": "2022-06-16T05:03:27.681956Z"
    }
   },
   "outputs": [],
   "source": [
    "# test function \n",
    "# debuging here\n",
    "eps  =1e-9\n",
    "lbd  = lbd_hat[0]\n",
    "zeta = chisi[0]\n",
    "\n",
    "theta = [5.24, 1.534, 0.465, 0.161, 76.9, 1.02, 0.29, 0.16, 0.8]"
   ]
  },
  {
   "cell_type": "code",
   "execution_count": 11,
   "id": "a222e2b4",
   "metadata": {
    "ExecuteTime": {
     "end_time": "2022-06-16T05:03:28.055365Z",
     "start_time": "2022-06-16T05:03:28.049033Z"
    }
   },
   "outputs": [],
   "source": [
    "y = np.vstack([lbd_hat,chisi])\n",
    "yerr = lbd_err\n",
    "x = redshift"
   ]
  },
  {
   "cell_type": "code",
   "execution_count": 12,
   "id": "af3e4689",
   "metadata": {
    "ExecuteTime": {
     "end_time": "2022-06-16T05:03:28.447099Z",
     "start_time": "2022-06-16T05:03:28.437989Z"
    }
   },
   "outputs": [
    {
     "name": "stderr",
     "output_type": "stream",
     "text": [
      "<ipython-input-12-c0309a2e430a>:1: RuntimeWarning: divide by zero encountered in log10\n",
      "  np.max(np.log10(m500))\n"
     ]
    },
    {
     "data": {
      "text/plain": [
       "15.159748"
      ]
     },
     "execution_count": 12,
     "metadata": {},
     "output_type": "execute_result"
    }
   ],
   "source": [
    "np.max(np.log10(m500))"
   ]
  },
  {
   "cell_type": "markdown",
   "id": "96f1f5ea-e884-46f4-b1f1-9ae5686c9a8b",
   "metadata": {},
   "source": [
    "## Define the Model"
   ]
  },
  {
   "cell_type": "markdown",
   "id": "3790ae97",
   "metadata": {},
   "source": [
    "### Set Grid Vector"
   ]
  },
  {
   "cell_type": "code",
   "execution_count": 13,
   "id": "2798c471-1cca-4724-9027-b63e8f25c6f4",
   "metadata": {
    "ExecuteTime": {
     "end_time": "2022-06-16T05:03:50.196292Z",
     "start_time": "2022-06-16T05:03:50.187174Z"
    }
   },
   "outputs": [
    {
     "name": "stdout",
     "output_type": "stream",
     "text": [
      "Vector size\n",
      "40\n",
      "150\n",
      "75\n"
     ]
    }
   ],
   "source": [
    "# set up integration vectors\n",
    "mvec = np.logspace(14.1, 15.25, 40)\n",
    "lbdvec = np.linspace(3,1.2*np.max(lambda_chisq),150)\n",
    "zetavec = np.linspace(1,1.1*np.max(sz_signal),75)\n",
    "\n",
    "print('Vector size')\n",
    "print(mvec.size)\n",
    "print(lbdvec.size)\n",
    "print(zetavec.size)"
   ]
  },
  {
   "cell_type": "code",
   "execution_count": 14,
   "id": "797c46d6",
   "metadata": {
    "ExecuteTime": {
     "end_time": "2022-06-16T05:03:50.698139Z",
     "start_time": "2022-06-16T05:03:50.674059Z"
    }
   },
   "outputs": [],
   "source": [
    "from colossus.cosmology import cosmology\n",
    "from colossus.lss import mass_function\n",
    "cosmology.setCosmology('WMAP9')\n",
    "\n",
    "def _halo_mass_function(M, z):\n",
    "    return mass_function.massFunction(M, z, mdef = '500c', model = 'bocquet16')\n",
    "halo_mass_function = np.vectorize(_halo_mass_function)"
   ]
  },
  {
   "cell_type": "code",
   "execution_count": 15,
   "id": "c0b33b87-ecc2-4c91-9087-4c3eb4321f5e",
   "metadata": {
    "ExecuteTime": {
     "end_time": "2022-06-16T05:03:51.935729Z",
     "start_time": "2022-06-16T05:03:50.995381Z"
    }
   },
   "outputs": [],
   "source": [
    "zvec = np.linspace(np.min(redshift), np.max(redshift), 100)\n",
    "zzv, mm = np.meshgrid(zvec, mvec)\n",
    "from scipy import interpolate\n",
    "halo_mass_function2 = interpolate.interp1d(zvec, halo_mass_function(mm, zzv), kind='cubic')"
   ]
  },
  {
   "cell_type": "code",
   "execution_count": 16,
   "id": "2eac5631",
   "metadata": {
    "ExecuteTime": {
     "end_time": "2022-06-16T05:03:52.606202Z",
     "start_time": "2022-06-16T05:03:52.600515Z"
    }
   },
   "outputs": [
    {
     "data": {
      "text/plain": [
       "(298, 40)"
      ]
     },
     "execution_count": 16,
     "metadata": {},
     "output_type": "execute_result"
    }
   ],
   "source": [
    "hmf_vector = halo_mass_function2(z).T\n",
    "hmf_vector.shape"
   ]
  },
  {
   "cell_type": "code",
   "execution_count": 17,
   "id": "fefbb181-3949-4b87-be0f-67293c543a46",
   "metadata": {
    "ExecuteTime": {
     "end_time": "2022-06-16T05:03:53.004660Z",
     "start_time": "2022-06-16T05:03:52.989459Z"
    }
   },
   "outputs": [],
   "source": [
    "def prob_chisi(zeta, chisi, eps=1e-12):\n",
    "    res = np.exp(-(chisi-np.sqrt(zeta**2+2))**2/2.)/np.sqrt(2*np.pi)\n",
    "    return res#np.where(res<eps,0.,res)\n",
    "\n",
    "def gaussian(x,mu,std):\n",
    "    return np.exp(-(x-mu)**2/std**2/2.)/np.sqrt(2*np.pi*std**2)\n",
    "\n",
    "def prob_lbd_hat(lbd, lbd_hat, lbd_error, eps=1e-12):\n",
    "    res = gaussian(lbd, lbd_hat, lbd_error)\n",
    "    return res#np.where(res<eps,0.,res)\n",
    "\n",
    "# taking only points with a significant p_chisi/lbd_hat\n",
    "def slice_array(y,alpha=1e-2):\n",
    "    cy = np.cumsum(y/np.sum(y),axis=0)\n",
    "    ilo,iup = np.interp([alpha,1-alpha],cy,np.arange(len(y))).astype(int)+(0,2)\n",
    "    return ilo, iup"
   ]
  },
  {
   "cell_type": "code",
   "execution_count": 18,
   "id": "14ffad44",
   "metadata": {
    "ExecuteTime": {
     "end_time": "2022-06-16T05:03:53.754135Z",
     "start_time": "2022-06-16T05:03:53.720472Z"
    }
   },
   "outputs": [
    {
     "name": "stdout",
     "output_type": "stream",
     "text": [
      "(298, 150)\n"
     ]
    }
   ],
   "source": [
    "prob_lbd_hat_vec = np.array([prob_lbd_hat(lbdvec, lbd_hat_i, lbd_err_i) \n",
    "                             for lbd_hat_i, lbd_err_i in zip(lbd_hat, lbd_err)])\n",
    "prob_chisi_vec = np.array([prob_chisi(zetavec, chisi_i) for chisi_i in chisi])\n",
    "\n",
    "print(prob_lbd_hat_vec.shape)"
   ]
  },
  {
   "cell_type": "code",
   "execution_count": 19,
   "id": "95fc7040",
   "metadata": {
    "ExecuteTime": {
     "end_time": "2022-06-16T05:03:54.159776Z",
     "start_time": "2022-06-16T05:03:54.119196Z"
    }
   },
   "outputs": [
    {
     "data": {
      "text/plain": [
       "(298, 2)"
      ]
     },
     "execution_count": 19,
     "metadata": {},
     "output_type": "execute_result"
    }
   ],
   "source": [
    "alpha = 0.1\n",
    "lbd_indices_vec = np.array([slice_array(pi, alpha=alpha) for pi in prob_lbd_hat_vec])\n",
    "zeta_indices_vec = np.array([slice_array(pi, alpha=alpha) for pi in prob_chisi_vec])\n",
    "\n",
    "lbd_indices_vec.shape"
   ]
  },
  {
   "cell_type": "markdown",
   "id": "d181ab4d",
   "metadata": {},
   "source": [
    "## Likelihood"
   ]
  },
  {
   "cell_type": "code",
   "execution_count": 289,
   "id": "b721fba0-c698-49b7-aefd-4be1f4fa333c",
   "metadata": {
    "ExecuteTime": {
     "end_time": "2022-06-16T15:30:05.217435Z",
     "start_time": "2022-06-16T15:30:05.199755Z"
    }
   },
   "outputs": [],
   "source": [
    "def E(z):\n",
    "    # The Hubble constant at the value of z\n",
    "    Hz = cosmo.H(z).value\n",
    "    # The Hubble constant at z=0\n",
    "    H0 = cosmo.H(0).value\n",
    "    return (Hz/H0)\n",
    "from numba import njit\n",
    "@njit\n",
    "def Ez2(x_vals, x, y):\n",
    "    return np.interp(x_vals, x, y)\n",
    "\n",
    "# Ez2 = interpolate.interp1d(zvec, E(zvec), kind='cubic')\n",
    "yvec = E(zvec)\n",
    "\n",
    "#Insert the priors on the SZE scaling relation parameters that identify with SZE,\n",
    "# along with a value for the mass (M) and redshift (z)\n",
    "## References Equation 2\n",
    "M0 = 3e14\n",
    "Ez0 = E(0)\n",
    "@jit(nopython=True)\n",
    "def ln_zeta_given_M(theta_sze,M,z):\n",
    "    A_sze, B_sze, C_sze, scatter_sze = theta_sze\n",
    "    return np.log(A_sze) + (B_sze)*np.log(M/M0) + (C_sze)*(np.log(Ez2(z,zvec,yvec)/Ez0))\n",
    "\n",
    "#Insert the priors on the SZE scaling relation parameters that identify with LAMBDA, \n",
    "# along with a value for the mass (M) and redshift (z)\n",
    "# Identified with the \n",
    "## References Equation 3\n",
    "@jit(nopython=True)\n",
    "def ln_lbd_given_M(theta_lambda,M,z):\n",
    "    A_lambda, B_lambda, C_lambda, scatter_lambda = theta_lambda\n",
    "    return np.log(A_lambda) + (B_lambda)*np.log(M/M0) + (C_lambda)*(np.log(Ez2(z,zvec,yvec)/Ez0))\n",
    "@jit(nopython=True)\n",
    "def logNormal_variance(mu,std):\n",
    "    return (np.exp(std**2)-1)*np.exp(2*mu+std**2)"
   ]
  },
  {
   "cell_type": "code",
   "execution_count": 290,
   "id": "7748783c-9f7e-4f1d-b79b-e737e06e19f8",
   "metadata": {
    "ExecuteTime": {
     "end_time": "2022-06-16T15:30:05.517032Z",
     "start_time": "2022-06-16T15:30:05.506412Z"
    }
   },
   "outputs": [],
   "source": [
    "from scipy.integrate import simps\n",
    "from numba import jit\n",
    "\n",
    "# given: mvec, lbdvec and zetavec\n",
    "# @jit(nopython=True)\n",
    "def log_likelihood_vec2(theta, indices, eps=1e-9):\n",
    "    # defining variables\n",
    "    probs = []\n",
    "    for ix in indices:\n",
    "        probs.append(_log_likelihood2(theta, ix))\n",
    "    p = np.array(probs)/np.sum(probs)\n",
    "    log_p = np.log(p)\n",
    "    log_p = np.where(np.isnan(log_p), -np.inf, log_p)\n",
    "    return np.sum(log_p)"
   ]
  },
  {
   "cell_type": "code",
   "execution_count": 291,
   "id": "071f4e72-e5b4-494a-a524-ebab97451eee",
   "metadata": {
    "ExecuteTime": {
     "end_time": "2022-06-16T15:30:05.872294Z",
     "start_time": "2022-06-16T15:30:05.849440Z"
    }
   },
   "outputs": [],
   "source": [
    "mm, zz, ll = np.meshgrid(mvec, zetavec, lbdvec, indexing='ij')\n",
    "# @jit(nopython=False)\n",
    "def _log_likelihood2(theta, ix):\n",
    "    # unfolding theta\n",
    "    A_lambda, B_lambda, C_lambda, scatter_lambda = theta[4:8]\n",
    "    A_sze, B_sze, C_sze, scatter_sze = theta[:4]\n",
    "    rho = theta[-1]\n",
    "    \n",
    "    z_i = z[ix]\n",
    "    p_chisi = prob_chisi_vec[ix]\n",
    "    p_lbd_hat = prob_lbd_hat_vec[ix]\n",
    "    llo, lup = list(lbd_indices_vec[ix])\n",
    "    clo, cup = list(zeta_indices_vec[ix])\n",
    "    halo_mass_func = hmf_vector[ix]\n",
    "\n",
    "    # calling predictions;\n",
    "    ln_lbd_pred = ln_lbd_given_M([A_lambda, B_lambda, C_lambda, scatter_lambda], mvec, z_i)\n",
    "    ln_zeta_pred= ln_zeta_given_M([A_sze, B_sze, C_sze, scatter_sze], mvec, z_i)\n",
    "    \n",
    "    hmf = np.tile(halo_mass_func, (int(lup-llo), int(cup-clo), 1)).T\n",
    "    ln_lbd_pred = np.tile(ln_lbd_pred, (int(lup-llo), int(cup-clo), 1)).T\n",
    "    ln_zeta_pred = np.tile(ln_zeta_pred, (int(lup-llo), int(cup-clo), 1)).T\n",
    "    \n",
    "    # compute dn_dlbd_dzeta_integrand\n",
    "    p_total_m = compute_dn_dlbd_dzeta_vec2(lbd_hat_i, lbd_err_i, chisi_i,\n",
    "                                           scatter_lambda, scatter_sze, rho,\n",
    "                                           ll[:,clo:cup,llo:lup],zz[:,clo:cup,llo:lup],\n",
    "                                           ln_lbd_pred, ln_zeta_pred, hmf)\n",
    "    # integrate over M\n",
    "    p_lbd_zeta = np.trapz(p_total_m, x=mvec, axis=0)\n",
    "\n",
    "    # integrate over zeta\n",
    "    p_chisi = np.tile(p_chisi[clo:cup], (int(lup-llo), 1)).T\n",
    "    p_lbd = np.trapz(p_lbd_zeta*p_chisi, x=zetavec[clo:cup], axis=0)\n",
    "\n",
    "    # integrate over lambda\n",
    "    p = np.trapz(p_lbd*p_lbd_hat[llo:lup], x=lbdvec[llo:lup], axis=0)\n",
    "    return p"
   ]
  },
  {
   "cell_type": "code",
   "execution_count": 292,
   "id": "39db8658-093f-475f-8689-359528c6eabb",
   "metadata": {
    "ExecuteTime": {
     "end_time": "2022-06-16T15:30:06.406696Z",
     "start_time": "2022-06-16T15:30:06.392619Z"
    }
   },
   "outputs": [],
   "source": [
    "@jit(nopython=True)\n",
    "def compute_dn_dlbd_dzeta_vec2(lbd_hat_i, lbd_err_i, chisi_i, scatter_lambda, scatter_sze, rho,\n",
    "                               lvec, zvec, ln_lbd_pred, ln_zeta_pred, hmf, eps = 1e-9):\n",
    "    # converting std to normal distribution\n",
    "    s_zeta = logNormal_variance(ln_zeta_pred, scatter_sze)\n",
    "    s_lambda = logNormal_variance(ln_lbd_pred, scatter_lambda)\n",
    "    s_zeta_inv = np.where(scatter_sze<=s_zeta, -np.inf, 1/s_zeta)\n",
    "    s_lambda_inv = np.where(s_lambda<=eps, -np.inf, 1/s_lambda)\n",
    "    \n",
    "    cov = (scatter_lambda)**(2)*(scatter_sze)**(2)*(1-rho**2)\n",
    "    additional_cov = (-0.5)*np.log(np.pi*cov**2)\n",
    "    \n",
    "    # avoid error messages\n",
    "    rho_inv = (1-rho**2)\n",
    "    rho_inv = np.where(rho_inv<=eps, -np.inf, 1/rho_inv)\n",
    "    \n",
    "    # defining standardized variables\n",
    "    lbd_std = (np.log(lvec) - (ln_lbd_pred))*s_lambda_inv\n",
    "    zeta_std = (np.log(zvec)- (ln_zeta_pred))*s_zeta_inv\n",
    "    #np.seterr(invalid='ignore')\n",
    "\n",
    "    # lbd_likelihood\n",
    "    lp_lbd  = (-rho_inv*lbd_std**2)/2\n",
    "\n",
    "    # zeta likelihood\n",
    "    lp_zeta = (-rho_inv*zeta_std**2)/2\n",
    "\n",
    "    # corr likelihod\n",
    "    lp_corr = rho*rho_inv*lbd_std*zeta_std\n",
    "\n",
    "    lp_total_m = lp_lbd + lp_zeta + lp_corr + additional_cov\n",
    "    \n",
    "    p_total_m = (hmf*np.exp(lp_total_m))/(lvec*zvec)\n",
    "    \n",
    "    return p_total_m\n"
   ]
  },
  {
   "cell_type": "code",
   "execution_count": 293,
   "id": "0121f172-a87f-4d02-aa7c-ae409a55e92e",
   "metadata": {
    "ExecuteTime": {
     "end_time": "2022-06-16T15:30:07.435254Z",
     "start_time": "2022-06-16T15:30:07.430604Z"
    }
   },
   "outputs": [],
   "source": [
    "# Implementing the log_likelihood_vec2 in the emcee code\n",
    "# via writing to the prior functions.\n",
    "\n",
    "# In reference to rho's (ρ) defintion it states:\n",
    "# Parameters of the richness–mass relation defined\n",
    "# in Eq. 11 (Bleem et al. 2019) \n",
    "## and the correlation coefficient, ρSZ−λ, between the SZ signal (ζ) and richness.\n",
    "\n",
    "# ρ also defined as the correlation coefficient  \n",
    "# that encodes the degree of correlation between the intrinsic scatters on the respective observables"
   ]
  },
  {
   "cell_type": "code",
   "execution_count": 294,
   "id": "6ae8ecf9-d84f-44ed-88c9-8d0a4750c3cf",
   "metadata": {
    "ExecuteTime": {
     "end_time": "2022-06-16T15:30:07.709765Z",
     "start_time": "2022-06-16T15:30:07.691266Z"
    }
   },
   "outputs": [],
   "source": [
    "# @jit(nopython=True)\n",
    "def set_gaussian_prior(param, mu, sigma):\n",
    "    return -0.5*((param - mu)/(sigma))**2\n",
    "\n",
    "# Setting SZE priors\n",
    "def set_prior_sze(theta_values):\n",
    "    lp = 0.\n",
    "    rhomin = 0.\n",
    "    rhomax = 1.\n",
    "    \n",
    "    for i, prior_name in enumerate(['A_sze', 'B_sze', 'C_sze', 'scatter_sze']):\n",
    "        mean, error = SZ_Priors[prior_name]\n",
    "        param = theta_values[i]\n",
    "        result = set_gaussian_prior(param, mean, error)\n",
    "        lp += np.where(np.abs(result)>9., -np.inf, result)\n",
    "        # outside a range of six sigmas (six standard deviations)\n",
    "    # set prior to 1 (log prior to 0) if in the range and zero (-inf) outside the range \n",
    "    lp = 0. if (theta_values[-1] > 0) else -np.inf\n",
    "    return lp\n",
    "\n",
    "# Setting Lambda priors\n",
    "def set_prior_lambda(theta_values):\n",
    "    lp = 0.\n",
    "    rhomin = 0.\n",
    "    rhomax = 1.\n",
    "    \n",
    "    for i, prior_name in enumerate(['A_lambda', 'B_lambda', 'C_lambda', 'scatter_lambda']):\n",
    "        mean, error = Lambda_Priors[prior_name]\n",
    "        param = theta_values[i]\n",
    "        result = set_gaussian_prior(param, mean, error)\n",
    "        lp += np.where(np.abs(result)>9., -np.inf, result)\n",
    "        # outside a range of six sigmas (six standard deviations)\n",
    "       \n",
    "    # set prior to 1 (log prior to 0) if in the range and zero (-inf) outside the range \n",
    "    lp = 0. if (theta_values[-1] > 0) else -np.inf\n",
    "    return lp\n",
    "\n",
    "def logprior(theta):\n",
    "    lp = 0\n",
    "    A_lambda, B_lambda, C_lambda, scatter_lambda = theta[4:8]\n",
    "    A_sze, B_sze, C_sze, scatter_sze = theta[:4]\n",
    "    rho = theta[-1]\n",
    "    \n",
    "    lp_lambda = set_prior_lambda([A_lambda, B_lambda, C_lambda, scatter_lambda])\n",
    "    lp_sze = set_prior_sze([A_sze, B_sze, C_sze, scatter_sze])\n",
    "    \n",
    "    lp = 0. if ((rho > 0) and (rho < 1)) else -np.inf\n",
    "    return lp + lp_lambda + lp_sze"
   ]
  },
  {
   "cell_type": "code",
   "execution_count": 295,
   "id": "37eaf6c2",
   "metadata": {
    "ExecuteTime": {
     "end_time": "2022-06-16T15:30:08.135273Z",
     "start_time": "2022-06-16T15:30:08.129443Z"
    }
   },
   "outputs": [
    {
     "data": {
      "text/plain": [
       "0.0"
      ]
     },
     "execution_count": 295,
     "metadata": {},
     "output_type": "execute_result"
    }
   ],
   "source": [
    "logprior(theta)"
   ]
  },
  {
   "cell_type": "code",
   "execution_count": 296,
   "id": "92db76f1-255a-4904-ae34-102363af1abd",
   "metadata": {
    "ExecuteTime": {
     "end_time": "2022-06-16T15:30:08.557108Z",
     "start_time": "2022-06-16T15:30:08.550924Z"
    }
   },
   "outputs": [],
   "source": [
    "def logposterior(theta, indices):\n",
    "    lp = logprior(theta)\n",
    "    \n",
    "    # if the prior is not finite return a probability of zero (log probability of -inf)\n",
    "    if not np.isfinite(lp):\n",
    "        return -np.inf\n",
    "    \n",
    "    # return the likeihood times the prior (log likelihood plus the log prior)\n",
    "    return lp + log_likelihood_vec2(theta, indices, eps=1e-9)"
   ]
  },
  {
   "cell_type": "code",
   "execution_count": 309,
   "id": "08a23ecd-6736-481a-871b-dc8bd7d18991",
   "metadata": {
    "ExecuteTime": {
     "end_time": "2022-06-16T15:30:43.045936Z",
     "start_time": "2022-06-16T15:30:43.039616Z"
    }
   },
   "outputs": [],
   "source": [
    "Nburnin = 500 # number of burn-in samples\n",
    "Nsamples = 1000 # number of final posterior samples\n",
    "walkers = 32\n",
    "ndims = len(theta)\n",
    "guess = (np.array(theta)[:, np.newaxis]*(1.+0.01*np.random.normal(size=(ndims,walkers)))).T\n",
    "\n",
    "# set additional args for the posterior (the data, the noise std. dev., and the abscissa)\n",
    "sel = np.arange(len(z))#[:100]\n",
    "# sel = np.random.randint(len(z), size=100, dtype=int)\n",
    "argslist = [sel]"
   ]
  },
  {
   "cell_type": "code",
   "execution_count": 310,
   "id": "fd540231",
   "metadata": {
    "ExecuteTime": {
     "end_time": "2022-06-16T15:30:43.509873Z",
     "start_time": "2022-06-16T15:30:43.283958Z"
    }
   },
   "outputs": [
    {
     "data": {
      "text/plain": [
       "-inf"
      ]
     },
     "execution_count": 310,
     "metadata": {},
     "output_type": "execute_result"
    }
   ],
   "source": [
    "logposterior(theta, sel)"
   ]
  },
  {
   "cell_type": "code",
   "execution_count": 311,
   "id": "51a3f48c",
   "metadata": {
    "ExecuteTime": {
     "end_time": "2022-06-16T15:30:45.543390Z",
     "start_time": "2022-06-16T15:30:43.527899Z"
    }
   },
   "outputs": [
    {
     "name": "stdout",
     "output_type": "stream",
     "text": [
      "Maximum likelihood estimates:\n",
      "Albd = 76.853\n",
      "Blbd = 0.973\n",
      "Clbd = 0.606\n",
      "Scatter_lbd = 0.313\n",
      "rho: 0.706\n"
     ]
    }
   ],
   "source": [
    "from scipy.optimize import minimize\n",
    "\n",
    "np.random.seed(42)\n",
    "nll = lambda *args: -log_likelihood_vec2(*args)\n",
    "initial = theta + 0.2 * np.random.randn(9)\n",
    "soln = minimize(nll, initial, args=sel)\n",
    "albd, blbd, clbd, slbd, rho = soln.x[4:]\n",
    "\n",
    "print(\"Maximum likelihood estimates:\")\n",
    "print(\"Albd = {0:.3f}\".format(albd))\n",
    "print(\"Blbd = {0:.3f}\".format(blbd))\n",
    "print(\"Clbd = {0:.3f}\".format(clbd))\n",
    "print(\"Scatter_lbd = {0:.3f}\".format(slbd))\n",
    "print(\"rho: {0:.3f}\".format(rho))"
   ]
  },
  {
   "cell_type": "code",
   "execution_count": 312,
   "id": "dc7d77b9",
   "metadata": {
    "ExecuteTime": {
     "end_time": "2022-06-16T15:30:45.547892Z",
     "start_time": "2022-06-16T15:30:45.545226Z"
    }
   },
   "outputs": [
    {
     "data": {
      "text/plain": [
       "[5.24, 1.534, 0.465, 0.161, 76.9, 1.02, 0.29, 0.16, 0.8]"
      ]
     },
     "execution_count": 312,
     "metadata": {},
     "output_type": "execute_result"
    }
   ],
   "source": [
    "theta"
   ]
  },
  {
   "cell_type": "code",
   "execution_count": 313,
   "id": "b9edf1eb",
   "metadata": {
    "ExecuteTime": {
     "end_time": "2022-06-16T15:34:28.898358Z",
     "start_time": "2022-06-16T15:30:53.771649Z"
    }
   },
   "outputs": [
    {
     "name": "stderr",
     "output_type": "stream",
     "text": [
      "  2%|▏         | 32/1500 [03:24<2:36:23,  6.39s/it]Traceback (most recent call last):\n",
      "  File \"/usr/local/anaconda/lib/python3.8/site-packages/emcee/ensemble.py\", line 624, in __call__\n",
      "    return self.f(x, *self.args, **self.kwargs)\n",
      "  File \"<ipython-input-296-e9befc3bcb9c>\", line 9, in logposterior\n",
      "    return lp + log_likelihood_vec2(theta, indices, eps=1e-9)\n",
      "  File \"<ipython-input-290-fe95f8564f6e>\", line 10, in log_likelihood_vec2\n",
      "    probs.append(_log_likelihood2(theta, ix))\n",
      "  File \"<ipython-input-291-5254f6ce4556>\", line 25, in _log_likelihood2\n",
      "    p_total_m = compute_dn_dlbd_dzeta_vec2(lbd_hat_i, lbd_err_i, chisi_i,\n",
      "KeyboardInterrupt\n",
      "  2%|▏         | 32/1500 [03:28<2:39:31,  6.52s/it]"
     ]
    },
    {
     "name": "stdout",
     "output_type": "stream",
     "text": [
      "emcee: Exception while calling your likelihood function:\n",
      "  params: [ 5.19702678  1.55353928  0.45407463  0.16119879 77.10752627  1.02938623\n",
      "  0.2917591   0.16171432  0.78480996]\n",
      "  args: [array([  0,   1,   2,   3,   4,   5,   6,   7,   8,   9,  10,  11,  12,\n",
      "        13,  14,  15,  16,  17,  18,  19,  20,  21,  22,  23,  24,  25,\n",
      "        26,  27,  28,  29,  30,  31,  32,  33,  34,  35,  36,  37,  38,\n",
      "        39,  40,  41,  42,  43,  44,  45,  46,  47,  48,  49,  50,  51,\n",
      "        52,  53,  54,  55,  56,  57,  58,  59,  60,  61,  62,  63,  64,\n",
      "        65,  66,  67,  68,  69,  70,  71,  72,  73,  74,  75,  76,  77,\n",
      "        78,  79,  80,  81,  82,  83,  84,  85,  86,  87,  88,  89,  90,\n",
      "        91,  92,  93,  94,  95,  96,  97,  98,  99, 100, 101, 102, 103,\n",
      "       104, 105, 106, 107, 108, 109, 110, 111, 112, 113, 114, 115, 116,\n",
      "       117, 118, 119, 120, 121, 122, 123, 124, 125, 126, 127, 128, 129,\n",
      "       130, 131, 132, 133, 134, 135, 136, 137, 138, 139, 140, 141, 142,\n",
      "       143, 144, 145, 146, 147, 148, 149, 150, 151, 152, 153, 154, 155,\n",
      "       156, 157, 158, 159, 160, 161, 162, 163, 164, 165, 166, 167, 168,\n",
      "       169, 170, 171, 172, 173, 174, 175, 176, 177, 178, 179, 180, 181,\n",
      "       182, 183, 184, 185, 186, 187, 188, 189, 190, 191, 192, 193, 194,\n",
      "       195, 196, 197, 198, 199, 200, 201, 202, 203, 204, 205, 206, 207,\n",
      "       208, 209, 210, 211, 212, 213, 214, 215, 216, 217, 218, 219, 220,\n",
      "       221, 222, 223, 224, 225, 226, 227, 228, 229, 230, 231, 232, 233,\n",
      "       234, 235, 236, 237, 238, 239, 240, 241, 242, 243, 244, 245, 246,\n",
      "       247, 248, 249, 250, 251, 252, 253, 254, 255, 256, 257, 258, 259,\n",
      "       260, 261, 262, 263, 264, 265, 266, 267, 268, 269, 270, 271, 272,\n",
      "       273, 274, 275, 276, 277, 278, 279, 280, 281, 282, 283, 284, 285,\n",
      "       286, 287, 288, 289, 290, 291, 292, 293, 294, 295, 296, 297])]\n",
      "  kwargs: {}\n",
      "  exception:\n"
     ]
    },
    {
     "name": "stderr",
     "output_type": "stream",
     "text": [
      "\n"
     ]
    },
    {
     "ename": "KeyboardInterrupt",
     "evalue": "",
     "output_type": "error",
     "traceback": [
      "\u001b[0;31m---------------------------------------------------------------------------\u001b[0m",
      "\u001b[0;31mKeyboardInterrupt\u001b[0m                         Traceback (most recent call last)",
      "\u001b[0;32m<ipython-input-313-d46a520d1273>\u001b[0m in \u001b[0;36m<module>\u001b[0;34m\u001b[0m\n\u001b[1;32m      2\u001b[0m \u001b[0msampler\u001b[0m \u001b[0;34m=\u001b[0m \u001b[0memcee\u001b[0m\u001b[0;34m.\u001b[0m\u001b[0mEnsembleSampler\u001b[0m\u001b[0;34m(\u001b[0m\u001b[0mwalkers\u001b[0m\u001b[0;34m,\u001b[0m \u001b[0mndims\u001b[0m\u001b[0;34m,\u001b[0m \u001b[0mlogposterior\u001b[0m\u001b[0;34m,\u001b[0m \u001b[0margs\u001b[0m\u001b[0;34m=\u001b[0m\u001b[0;34m[\u001b[0m\u001b[0msel\u001b[0m\u001b[0;34m]\u001b[0m\u001b[0;34m)\u001b[0m\u001b[0;34m\u001b[0m\u001b[0;34m\u001b[0m\u001b[0m\n\u001b[1;32m      3\u001b[0m \u001b[0mstart\u001b[0m \u001b[0;34m=\u001b[0m \u001b[0mtime\u001b[0m\u001b[0;34m.\u001b[0m\u001b[0mtime\u001b[0m\u001b[0;34m(\u001b[0m\u001b[0;34m)\u001b[0m\u001b[0;34m\u001b[0m\u001b[0;34m\u001b[0m\u001b[0m\n\u001b[0;32m----> 4\u001b[0;31m \u001b[0msampler\u001b[0m\u001b[0;34m.\u001b[0m\u001b[0mrun_mcmc\u001b[0m\u001b[0;34m(\u001b[0m\u001b[0mguess\u001b[0m\u001b[0;34m,\u001b[0m \u001b[0mNsamples\u001b[0m\u001b[0;34m+\u001b[0m\u001b[0mNburnin\u001b[0m\u001b[0;34m,\u001b[0m \u001b[0mprogress\u001b[0m\u001b[0;34m=\u001b[0m\u001b[0;32mTrue\u001b[0m\u001b[0;34m)\u001b[0m\u001b[0;34m\u001b[0m\u001b[0;34m\u001b[0m\u001b[0m\n\u001b[0m\u001b[1;32m      5\u001b[0m \u001b[0mend\u001b[0m \u001b[0;34m=\u001b[0m \u001b[0mtime\u001b[0m\u001b[0;34m.\u001b[0m\u001b[0mtime\u001b[0m\u001b[0;34m(\u001b[0m\u001b[0;34m)\u001b[0m\u001b[0;34m\u001b[0m\u001b[0;34m\u001b[0m\u001b[0m\n\u001b[1;32m      6\u001b[0m \u001b[0mserial_time\u001b[0m \u001b[0;34m=\u001b[0m \u001b[0mend\u001b[0m \u001b[0;34m-\u001b[0m \u001b[0mstart\u001b[0m\u001b[0;34m\u001b[0m\u001b[0;34m\u001b[0m\u001b[0m\n",
      "\u001b[0;32m/usr/local/anaconda/lib/python3.8/site-packages/emcee/ensemble.py\u001b[0m in \u001b[0;36mrun_mcmc\u001b[0;34m(self, initial_state, nsteps, **kwargs)\u001b[0m\n\u001b[1;32m    441\u001b[0m \u001b[0;34m\u001b[0m\u001b[0m\n\u001b[1;32m    442\u001b[0m         \u001b[0mresults\u001b[0m \u001b[0;34m=\u001b[0m \u001b[0;32mNone\u001b[0m\u001b[0;34m\u001b[0m\u001b[0;34m\u001b[0m\u001b[0m\n\u001b[0;32m--> 443\u001b[0;31m         \u001b[0;32mfor\u001b[0m \u001b[0mresults\u001b[0m \u001b[0;32min\u001b[0m \u001b[0mself\u001b[0m\u001b[0;34m.\u001b[0m\u001b[0msample\u001b[0m\u001b[0;34m(\u001b[0m\u001b[0minitial_state\u001b[0m\u001b[0;34m,\u001b[0m \u001b[0miterations\u001b[0m\u001b[0;34m=\u001b[0m\u001b[0mnsteps\u001b[0m\u001b[0;34m,\u001b[0m \u001b[0;34m**\u001b[0m\u001b[0mkwargs\u001b[0m\u001b[0;34m)\u001b[0m\u001b[0;34m:\u001b[0m\u001b[0;34m\u001b[0m\u001b[0;34m\u001b[0m\u001b[0m\n\u001b[0m\u001b[1;32m    444\u001b[0m             \u001b[0;32mpass\u001b[0m\u001b[0;34m\u001b[0m\u001b[0;34m\u001b[0m\u001b[0m\n\u001b[1;32m    445\u001b[0m \u001b[0;34m\u001b[0m\u001b[0m\n",
      "\u001b[0;32m/usr/local/anaconda/lib/python3.8/site-packages/emcee/ensemble.py\u001b[0m in \u001b[0;36msample\u001b[0;34m(self, initial_state, log_prob0, rstate0, blobs0, iterations, tune, skip_initial_state_check, thin_by, thin, store, progress, progress_kwargs)\u001b[0m\n\u001b[1;32m    400\u001b[0m \u001b[0;34m\u001b[0m\u001b[0m\n\u001b[1;32m    401\u001b[0m                     \u001b[0;31m# Propose\u001b[0m\u001b[0;34m\u001b[0m\u001b[0;34m\u001b[0m\u001b[0;34m\u001b[0m\u001b[0m\n\u001b[0;32m--> 402\u001b[0;31m                     \u001b[0mstate\u001b[0m\u001b[0;34m,\u001b[0m \u001b[0maccepted\u001b[0m \u001b[0;34m=\u001b[0m \u001b[0mmove\u001b[0m\u001b[0;34m.\u001b[0m\u001b[0mpropose\u001b[0m\u001b[0;34m(\u001b[0m\u001b[0mmodel\u001b[0m\u001b[0;34m,\u001b[0m \u001b[0mstate\u001b[0m\u001b[0;34m)\u001b[0m\u001b[0;34m\u001b[0m\u001b[0;34m\u001b[0m\u001b[0m\n\u001b[0m\u001b[1;32m    403\u001b[0m                     \u001b[0mstate\u001b[0m\u001b[0;34m.\u001b[0m\u001b[0mrandom_state\u001b[0m \u001b[0;34m=\u001b[0m \u001b[0mself\u001b[0m\u001b[0;34m.\u001b[0m\u001b[0mrandom_state\u001b[0m\u001b[0;34m\u001b[0m\u001b[0;34m\u001b[0m\u001b[0m\n\u001b[1;32m    404\u001b[0m \u001b[0;34m\u001b[0m\u001b[0m\n",
      "\u001b[0;32m/usr/local/anaconda/lib/python3.8/site-packages/emcee/moves/red_blue.py\u001b[0m in \u001b[0;36mpropose\u001b[0;34m(self, model, state)\u001b[0m\n\u001b[1;32m     91\u001b[0m \u001b[0;34m\u001b[0m\u001b[0m\n\u001b[1;32m     92\u001b[0m             \u001b[0;31m# Compute the lnprobs of the proposed position.\u001b[0m\u001b[0;34m\u001b[0m\u001b[0;34m\u001b[0m\u001b[0;34m\u001b[0m\u001b[0m\n\u001b[0;32m---> 93\u001b[0;31m             \u001b[0mnew_log_probs\u001b[0m\u001b[0;34m,\u001b[0m \u001b[0mnew_blobs\u001b[0m \u001b[0;34m=\u001b[0m \u001b[0mmodel\u001b[0m\u001b[0;34m.\u001b[0m\u001b[0mcompute_log_prob_fn\u001b[0m\u001b[0;34m(\u001b[0m\u001b[0mq\u001b[0m\u001b[0;34m)\u001b[0m\u001b[0;34m\u001b[0m\u001b[0;34m\u001b[0m\u001b[0m\n\u001b[0m\u001b[1;32m     94\u001b[0m \u001b[0;34m\u001b[0m\u001b[0m\n\u001b[1;32m     95\u001b[0m             \u001b[0;31m# Loop over the walkers and update them accordingly.\u001b[0m\u001b[0;34m\u001b[0m\u001b[0;34m\u001b[0m\u001b[0;34m\u001b[0m\u001b[0m\n",
      "\u001b[0;32m/usr/local/anaconda/lib/python3.8/site-packages/emcee/ensemble.py\u001b[0m in \u001b[0;36mcompute_log_prob\u001b[0;34m(self, coords)\u001b[0m\n\u001b[1;32m    487\u001b[0m             \u001b[0;32melse\u001b[0m\u001b[0;34m:\u001b[0m\u001b[0;34m\u001b[0m\u001b[0;34m\u001b[0m\u001b[0m\n\u001b[1;32m    488\u001b[0m                 \u001b[0mmap_func\u001b[0m \u001b[0;34m=\u001b[0m \u001b[0mmap\u001b[0m\u001b[0;34m\u001b[0m\u001b[0;34m\u001b[0m\u001b[0m\n\u001b[0;32m--> 489\u001b[0;31m             \u001b[0mresults\u001b[0m \u001b[0;34m=\u001b[0m \u001b[0mlist\u001b[0m\u001b[0;34m(\u001b[0m\u001b[0mmap_func\u001b[0m\u001b[0;34m(\u001b[0m\u001b[0mself\u001b[0m\u001b[0;34m.\u001b[0m\u001b[0mlog_prob_fn\u001b[0m\u001b[0;34m,\u001b[0m \u001b[0mp\u001b[0m\u001b[0;34m)\u001b[0m\u001b[0;34m)\u001b[0m\u001b[0;34m\u001b[0m\u001b[0;34m\u001b[0m\u001b[0m\n\u001b[0m\u001b[1;32m    490\u001b[0m \u001b[0;34m\u001b[0m\u001b[0m\n\u001b[1;32m    491\u001b[0m         \u001b[0;32mtry\u001b[0m\u001b[0;34m:\u001b[0m\u001b[0;34m\u001b[0m\u001b[0;34m\u001b[0m\u001b[0m\n",
      "\u001b[0;32m/usr/local/anaconda/lib/python3.8/site-packages/emcee/ensemble.py\u001b[0m in \u001b[0;36m__call__\u001b[0;34m(self, x)\u001b[0m\n\u001b[1;32m    622\u001b[0m     \u001b[0;32mdef\u001b[0m \u001b[0m__call__\u001b[0m\u001b[0;34m(\u001b[0m\u001b[0mself\u001b[0m\u001b[0;34m,\u001b[0m \u001b[0mx\u001b[0m\u001b[0;34m)\u001b[0m\u001b[0;34m:\u001b[0m\u001b[0;34m\u001b[0m\u001b[0;34m\u001b[0m\u001b[0m\n\u001b[1;32m    623\u001b[0m         \u001b[0;32mtry\u001b[0m\u001b[0;34m:\u001b[0m\u001b[0;34m\u001b[0m\u001b[0;34m\u001b[0m\u001b[0m\n\u001b[0;32m--> 624\u001b[0;31m             \u001b[0;32mreturn\u001b[0m \u001b[0mself\u001b[0m\u001b[0;34m.\u001b[0m\u001b[0mf\u001b[0m\u001b[0;34m(\u001b[0m\u001b[0mx\u001b[0m\u001b[0;34m,\u001b[0m \u001b[0;34m*\u001b[0m\u001b[0mself\u001b[0m\u001b[0;34m.\u001b[0m\u001b[0margs\u001b[0m\u001b[0;34m,\u001b[0m \u001b[0;34m**\u001b[0m\u001b[0mself\u001b[0m\u001b[0;34m.\u001b[0m\u001b[0mkwargs\u001b[0m\u001b[0;34m)\u001b[0m\u001b[0;34m\u001b[0m\u001b[0;34m\u001b[0m\u001b[0m\n\u001b[0m\u001b[1;32m    625\u001b[0m         \u001b[0;32mexcept\u001b[0m\u001b[0;34m:\u001b[0m  \u001b[0;31m# pragma: no cover\u001b[0m\u001b[0;34m\u001b[0m\u001b[0;34m\u001b[0m\u001b[0m\n\u001b[1;32m    626\u001b[0m             \u001b[0;32mimport\u001b[0m \u001b[0mtraceback\u001b[0m\u001b[0;34m\u001b[0m\u001b[0;34m\u001b[0m\u001b[0m\n",
      "\u001b[0;32m<ipython-input-296-e9befc3bcb9c>\u001b[0m in \u001b[0;36mlogposterior\u001b[0;34m(theta, indices)\u001b[0m\n\u001b[1;32m      7\u001b[0m \u001b[0;34m\u001b[0m\u001b[0m\n\u001b[1;32m      8\u001b[0m     \u001b[0;31m# return the likeihood times the prior (log likelihood plus the log prior)\u001b[0m\u001b[0;34m\u001b[0m\u001b[0;34m\u001b[0m\u001b[0;34m\u001b[0m\u001b[0m\n\u001b[0;32m----> 9\u001b[0;31m     \u001b[0;32mreturn\u001b[0m \u001b[0mlp\u001b[0m \u001b[0;34m+\u001b[0m \u001b[0mlog_likelihood_vec2\u001b[0m\u001b[0;34m(\u001b[0m\u001b[0mtheta\u001b[0m\u001b[0;34m,\u001b[0m \u001b[0mindices\u001b[0m\u001b[0;34m,\u001b[0m \u001b[0meps\u001b[0m\u001b[0;34m=\u001b[0m\u001b[0;36m1e-9\u001b[0m\u001b[0;34m)\u001b[0m\u001b[0;34m\u001b[0m\u001b[0;34m\u001b[0m\u001b[0m\n\u001b[0m",
      "\u001b[0;32m<ipython-input-290-fe95f8564f6e>\u001b[0m in \u001b[0;36mlog_likelihood_vec2\u001b[0;34m(theta, indices, eps)\u001b[0m\n\u001b[1;32m      8\u001b[0m     \u001b[0mprobs\u001b[0m \u001b[0;34m=\u001b[0m \u001b[0;34m[\u001b[0m\u001b[0;34m]\u001b[0m\u001b[0;34m\u001b[0m\u001b[0;34m\u001b[0m\u001b[0m\n\u001b[1;32m      9\u001b[0m     \u001b[0;32mfor\u001b[0m \u001b[0mix\u001b[0m \u001b[0;32min\u001b[0m \u001b[0mindices\u001b[0m\u001b[0;34m:\u001b[0m\u001b[0;34m\u001b[0m\u001b[0;34m\u001b[0m\u001b[0m\n\u001b[0;32m---> 10\u001b[0;31m         \u001b[0mprobs\u001b[0m\u001b[0;34m.\u001b[0m\u001b[0mappend\u001b[0m\u001b[0;34m(\u001b[0m\u001b[0m_log_likelihood2\u001b[0m\u001b[0;34m(\u001b[0m\u001b[0mtheta\u001b[0m\u001b[0;34m,\u001b[0m \u001b[0mix\u001b[0m\u001b[0;34m)\u001b[0m\u001b[0;34m)\u001b[0m\u001b[0;34m\u001b[0m\u001b[0;34m\u001b[0m\u001b[0m\n\u001b[0m\u001b[1;32m     11\u001b[0m     \u001b[0mp\u001b[0m \u001b[0;34m=\u001b[0m \u001b[0mnp\u001b[0m\u001b[0;34m.\u001b[0m\u001b[0marray\u001b[0m\u001b[0;34m(\u001b[0m\u001b[0mprobs\u001b[0m\u001b[0;34m)\u001b[0m\u001b[0;34m/\u001b[0m\u001b[0mnp\u001b[0m\u001b[0;34m.\u001b[0m\u001b[0msum\u001b[0m\u001b[0;34m(\u001b[0m\u001b[0mprobs\u001b[0m\u001b[0;34m)\u001b[0m\u001b[0;34m\u001b[0m\u001b[0;34m\u001b[0m\u001b[0m\n\u001b[1;32m     12\u001b[0m     \u001b[0mlog_p\u001b[0m \u001b[0;34m=\u001b[0m \u001b[0mnp\u001b[0m\u001b[0;34m.\u001b[0m\u001b[0mlog\u001b[0m\u001b[0;34m(\u001b[0m\u001b[0mp\u001b[0m\u001b[0;34m)\u001b[0m\u001b[0;34m\u001b[0m\u001b[0;34m\u001b[0m\u001b[0m\n",
      "\u001b[0;32m<ipython-input-291-5254f6ce4556>\u001b[0m in \u001b[0;36m_log_likelihood2\u001b[0;34m(theta, ix)\u001b[0m\n\u001b[1;32m     23\u001b[0m \u001b[0;34m\u001b[0m\u001b[0m\n\u001b[1;32m     24\u001b[0m     \u001b[0;31m# compute dn_dlbd_dzeta_integrand\u001b[0m\u001b[0;34m\u001b[0m\u001b[0;34m\u001b[0m\u001b[0;34m\u001b[0m\u001b[0m\n\u001b[0;32m---> 25\u001b[0;31m     p_total_m = compute_dn_dlbd_dzeta_vec2(lbd_hat_i, lbd_err_i, chisi_i,\n\u001b[0m\u001b[1;32m     26\u001b[0m                                            \u001b[0mscatter_lambda\u001b[0m\u001b[0;34m,\u001b[0m \u001b[0mscatter_sze\u001b[0m\u001b[0;34m,\u001b[0m \u001b[0mrho\u001b[0m\u001b[0;34m,\u001b[0m\u001b[0;34m\u001b[0m\u001b[0;34m\u001b[0m\u001b[0m\n\u001b[1;32m     27\u001b[0m                                            \u001b[0mll\u001b[0m\u001b[0;34m[\u001b[0m\u001b[0;34m:\u001b[0m\u001b[0;34m,\u001b[0m\u001b[0mclo\u001b[0m\u001b[0;34m:\u001b[0m\u001b[0mcup\u001b[0m\u001b[0;34m,\u001b[0m\u001b[0mllo\u001b[0m\u001b[0;34m:\u001b[0m\u001b[0mlup\u001b[0m\u001b[0;34m]\u001b[0m\u001b[0;34m,\u001b[0m\u001b[0mzz\u001b[0m\u001b[0;34m[\u001b[0m\u001b[0;34m:\u001b[0m\u001b[0;34m,\u001b[0m\u001b[0mclo\u001b[0m\u001b[0;34m:\u001b[0m\u001b[0mcup\u001b[0m\u001b[0;34m,\u001b[0m\u001b[0mllo\u001b[0m\u001b[0;34m:\u001b[0m\u001b[0mlup\u001b[0m\u001b[0;34m]\u001b[0m\u001b[0;34m,\u001b[0m\u001b[0;34m\u001b[0m\u001b[0;34m\u001b[0m\u001b[0m\n",
      "\u001b[0;31mKeyboardInterrupt\u001b[0m: "
     ]
    }
   ],
   "source": [
    "import time\n",
    "sampler = emcee.EnsembleSampler(walkers, ndims, logposterior, args=[sel])\n",
    "start = time.time()\n",
    "sampler.run_mcmc(guess, Nsamples+Nburnin, progress=True)\n",
    "end = time.time()\n",
    "serial_time = end - start\n",
    "print(\"Serial Time took {0:.1f} seconds\".format(serial_time))\n",
    "# print(\"{0:.1f} times faster than serial\".format(serial_time / multi_time))"
   ]
  },
  {
   "cell_type": "code",
   "execution_count": 106,
   "id": "29627303",
   "metadata": {
    "ExecuteTime": {
     "end_time": "2022-06-16T06:10:52.763160Z",
     "start_time": "2022-06-16T06:10:52.760534Z"
    }
   },
   "outputs": [],
   "source": [
    "postsamples = sampler.chain[:, Nburnin:, :].reshape((-1, ndims))"
   ]
  },
  {
   "cell_type": "code",
   "execution_count": 136,
   "id": "bf12f139",
   "metadata": {
    "ExecuteTime": {
     "end_time": "2022-06-16T14:56:43.840615Z",
     "start_time": "2022-06-16T14:56:43.835643Z"
    }
   },
   "outputs": [
    {
     "data": {
      "text/plain": [
       "47.485"
      ]
     },
     "execution_count": 136,
     "metadata": {},
     "output_type": "execute_result"
    }
   ],
   "source": [
    "2849.1/60"
   ]
  },
  {
   "cell_type": "code",
   "execution_count": 135,
   "id": "a42ac48f-e70d-4936-b8dc-aae5f945f7a0",
   "metadata": {
    "ExecuteTime": {
     "end_time": "2022-06-16T14:56:19.614211Z",
     "start_time": "2022-06-16T14:56:19.609359Z"
    }
   },
   "outputs": [],
   "source": [
    "# from multiprocessing import Pool\n",
    "# import time\n",
    "\n",
    "# with Pool(processes = 6) as pool:\n",
    "#     sampler = emcee.EnsembleSampler(walkers, ndims, logposterior, args=[sel], pool=pool)\n",
    "#     start = time.time()\n",
    "#     sampler.run_mcmc(guess, Nsamples+Nburnin, progress=True)\n",
    "#     end = time.time()\n",
    "#     multi_time = end - start\n",
    "#     serial_time = (1.5)*(3600)\n",
    "#     print(\"Multiprocessing took {0:.1f} seconds\".format(multi_time))\n",
    "#     print(\"{0:.1f} times faster than serial\".format(serial_time / multi_time))"
   ]
  },
  {
   "cell_type": "code",
   "execution_count": 129,
   "id": "7e56ea04",
   "metadata": {
    "ExecuteTime": {
     "end_time": "2022-06-16T14:53:31.861192Z",
     "start_time": "2022-06-16T14:53:31.741085Z"
    }
   },
   "outputs": [
    {
     "data": {
      "text/plain": [
       "[<matplotlib.lines.Line2D at 0x7fc65014a100>]"
      ]
     },
     "execution_count": 129,
     "metadata": {},
     "output_type": "execute_result"
    },
    {
     "data": {
      "image/png": "[encoded data removed]",
      "text/plain": [
       "<Figure size 432x288 with 1 Axes>"
      ]
     },
     "metadata": {
      "needs_background": "light"
     },
     "output_type": "display_data"
    }
   ],
   "source": [
    "\n",
    "plt.plot(postsamples[:,0])"
   ]
  },
  {
   "cell_type": "code",
   "execution_count": 130,
   "id": "c9041994",
   "metadata": {
    "ExecuteTime": {
     "end_time": "2022-06-16T14:53:37.008222Z",
     "start_time": "2022-06-16T14:53:36.894122Z"
    }
   },
   "outputs": [
    {
     "data": {
      "text/plain": [
       "[<matplotlib.lines.Line2D at 0x7fc625dada30>]"
      ]
     },
     "execution_count": 130,
     "metadata": {},
     "output_type": "execute_result"
    },
    {
     "data": {
      "image/png": "[encoded data removed]",
      "text/plain": [
       "<Figure size 432x288 with 1 Axes>"
      ]
     },
     "metadata": {
      "needs_background": "light"
     },
     "output_type": "display_data"
    }
   ],
   "source": [
    "plt.plot(postsamples[:,1])"
   ]
  },
  {
   "cell_type": "code",
   "execution_count": 131,
   "id": "3a0e7de5",
   "metadata": {
    "ExecuteTime": {
     "end_time": "2022-06-16T14:53:48.237763Z",
     "start_time": "2022-06-16T14:53:48.123912Z"
    }
   },
   "outputs": [
    {
     "data": {
      "text/plain": [
       "[<matplotlib.lines.Line2D at 0x7fc615b3bcd0>]"
      ]
     },
     "execution_count": 131,
     "metadata": {},
     "output_type": "execute_result"
    },
    {
     "data": {
      "image/png": "[encoded data removed]",
      "text/plain": [
       "<Figure size 432x288 with 1 Axes>"
      ]
     },
     "metadata": {
      "needs_background": "light"
     },
     "output_type": "display_data"
    }
   ],
   "source": [
    "plt.plot(postsamples[:,4])\n"
   ]
  },
  {
   "cell_type": "code",
   "execution_count": 132,
   "id": "d384d780",
   "metadata": {
    "ExecuteTime": {
     "end_time": "2022-06-16T14:54:00.688638Z",
     "start_time": "2022-06-16T14:54:00.578400Z"
    }
   },
   "outputs": [
    {
     "data": {
      "text/plain": [
       "[<matplotlib.lines.Line2D at 0x7fc6261c5820>]"
      ]
     },
     "execution_count": 132,
     "metadata": {},
     "output_type": "execute_result"
    },
    {
     "data": {
      "image/png": "[encoded data removed]",
      "text/plain": [
       "<Figure size 432x288 with 1 Axes>"
      ]
     },
     "metadata": {
      "needs_background": "light"
     },
     "output_type": "display_data"
    }
   ],
   "source": [
    "plt.plot(postsamples[:,5])"
   ]
  },
  {
   "cell_type": "code",
   "execution_count": 134,
   "id": "8460c2dd-f1cc-4a6e-ba95-85cfc8e7e6ba",
   "metadata": {
    "ExecuteTime": {
     "end_time": "2022-06-16T14:55:25.244988Z",
     "start_time": "2022-06-16T14:55:21.047387Z"
    }
   },
   "outputs": [
    {
     "name": "stdout",
     "output_type": "stream",
     "text": [
      "Number of posterior samples is 32000\n"
     ]
    },
    {
     "name": "stderr",
     "output_type": "stream",
     "text": [
      "WARNING:root:Too few points to create valid contours\n",
      "WARNING:root:Too few points to create valid contours\n",
      "WARNING:root:Too few points to create valid contours\n",
      "WARNING:root:Too few points to create valid contours\n",
      "WARNING:root:Too few points to create valid contours\n",
      "WARNING:root:Too few points to create valid contours\n",
      "WARNING:root:Too few points to create valid contours\n",
      "WARNING:root:Too few points to create valid contours\n",
      "WARNING:root:Too few points to create valid contours\n",
      "WARNING:root:Too few points to create valid contours\n",
      "WARNING:root:Too few points to create valid contours\n",
      "WARNING:root:Too few points to create valid contours\n",
      "WARNING:root:Too few points to create valid contours\n",
      "WARNING:root:Too few points to create valid contours\n",
      "WARNING:root:Too few points to create valid contours\n",
      "WARNING:root:Too few points to create valid contours\n",
      "WARNING:root:Too few points to create valid contours\n",
      "WARNING:root:Too few points to create valid contours\n",
      "WARNING:root:Too few points to create valid contours\n",
      "WARNING:root:Too few points to create valid contours\n",
      "WARNING:root:Too few points to create valid contours\n",
      "WARNING:root:Too few points to create valid contours\n",
      "WARNING:root:Too few points to create valid contours\n",
      "WARNING:root:Too few points to create valid contours\n",
      "WARNING:root:Too few points to create valid contours\n",
      "WARNING:root:Too few points to create valid contours\n",
      "WARNING:root:Too few points to create valid contours\n",
      "WARNING:root:Too few points to create valid contours\n",
      "WARNING:root:Too few points to create valid contours\n",
      "WARNING:root:Too few points to create valid contours\n",
      "WARNING:root:Too few points to create valid contours\n",
      "WARNING:root:Too few points to create valid contours\n",
      "WARNING:root:Too few points to create valid contours\n",
      "WARNING:root:Too few points to create valid contours\n",
      "WARNING:root:Too few points to create valid contours\n",
      "WARNING:root:Too few points to create valid contours\n"
     ]
    },
    {
     "data": {
      "image/png": "[encoded data removed]",
      "text/plain": [
       "<Figure size 1454.4x1454.4 with 81 Axes>"
      ]
     },
     "metadata": {
      "needs_background": "light"
     },
     "output_type": "display_data"
    }
   ],
   "source": [
    "A_lambda, B_lambda, C_lambda, scatter_lambda = theta[4:8]\n",
    "A_sze, B_sze, C_sze, scatter_sze = theta[:4]\n",
    "rho = theta[-1]\n",
    "\n",
    "try:\n",
    "    import matplotlib as mpl\n",
    "    mpl.use(\"Agg\") # force Matplotlib backend to Agg\n",
    "    import corner # import corner.py\n",
    "except ImportError:\n",
    "    sys.exit(1)\n",
    "\n",
    "print('Number of posterior samples is {}'.format(postsamples.shape[0]))\n",
    "\n",
    "fig = corner.corner(postsamples, labels=[r\"Aλ\", r\"Bλ\", r\"Cλ\", r\"Scatter\", r\"A_SZE\", r\"B_SZE\", r\"C_SZE\", r\"Scatter_SZE\", \"ρ\"]\n",
    "                    , show_titles = True, truths=theta)\n",
    "# plt.show()"
   ]
  },
  {
   "cell_type": "code",
   "execution_count": 137,
   "id": "4f1cb3ca",
   "metadata": {
    "ExecuteTime": {
     "end_time": "2022-06-16T15:00:12.742181Z",
     "start_time": "2022-06-16T15:00:12.420255Z"
    }
   },
   "outputs": [],
   "source": [
    "np.savetxt('chain0.npy',postsamples)"
   ]
  },
  {
   "cell_type": "code",
   "execution_count": null,
   "id": "08840f8b",
   "metadata": {},
   "outputs": [],
   "source": []
  },
  {
   "cell_type": "code",
   "execution_count": null,
   "id": "11624dea",
   "metadata": {},
   "outputs": [],
   "source": []
  },
  {
   "cell_type": "code",
   "execution_count": 111,
   "id": "29a59978",
   "metadata": {
    "ExecuteTime": {
     "end_time": "2022-06-16T14:50:26.757681Z",
     "start_time": "2022-06-16T14:50:26.748304Z"
    }
   },
   "outputs": [],
   "source": [
    "import pylab as plt\n"
   ]
  },
  {
   "cell_type": "code",
   "execution_count": null,
   "id": "8d8f65c1",
   "metadata": {},
   "outputs": [],
   "source": []
  },
  {
   "cell_type": "code",
   "execution_count": null,
   "id": "22187126-fcec-4bf3-9295-4b4e5471eac7",
   "metadata": {},
   "outputs": [],
   "source": [
    "# set up the sampler\n",
    "sampler = emcee.EnsembleSampler(walkers, ndims, logposterior, args=argslist)\n",
    "\n",
    "# pass the initial samples and total number of samples required\n",
    "sampler.run_mcmc(guess, Nsamples+Nburnin);\n",
    "\n",
    "# extract the samples (removing the burn-in)\n",
    "postsamples = sampler.chain[:, Nburnin:, :].reshape((-1, ndims))"
   ]
  },
  {
   "cell_type": "code",
   "execution_count": null,
   "id": "8e29e86f-b290-4eec-9170-5d89ad782656",
   "metadata": {},
   "outputs": [],
   "source": [
    "from multiprocessing import cpu_count\n",
    "\n",
    "ncpu = cpu_count()\n",
    "print(\"{0} CPUs\".format(ncpu))"
   ]
  },
  {
   "cell_type": "code",
   "execution_count": null,
   "id": "5fe5f5b6-dc3d-4047-a9f0-7332a1926b4a",
   "metadata": {},
   "outputs": [],
   "source": [
    "import os\n",
    "\n",
    "os.environ.keys()"
   ]
  }
 ],
 "metadata": {
  "kernelspec": {
   "display_name": "Python 3",
   "language": "python",
   "name": "python3"
  },
  "language_info": {
   "codemirror_mode": {
    "name": "ipython",
    "version": 3
   },
   "file_extension": ".py",
   "mimetype": "text/x-python",
   "name": "python",
   "nbconvert_exporter": "python",
   "pygments_lexer": "ipython3",
   "version": "3.8.8"
  },
  "latex_envs": {
   "LaTeX_envs_menu_present": true,
   "autoclose": true,
   "autocomplete": true,
   "bibliofile": "biblio.bib",
   "cite_by": "apalike",
   "current_citInitial": 1,
   "eqLabelWithNumbers": true,
   "eqNumInitial": 1,
   "hotkeys": {
    "equation": "Ctrl-E",
    "itemize": "Ctrl-I"
   },
   "labels_anchors": false,
   "latex_user_defs": false,
   "report_style_numbering": true,
   "user_envs_cfg": false
  },
  "toc": {
   "base_numbering": 1,
   "nav_menu": {},
   "number_sections": true,
   "sideBar": true,
   "skip_h1_title": false,
   "title_cell": "Table of Contents",
   "title_sidebar": "Contents",
   "toc_cell": false,
   "toc_position": {},
   "toc_section_display": true,
   "toc_window_display": false
  }
 },
 "nbformat": 4,
 "nbformat_minor": 5
}
