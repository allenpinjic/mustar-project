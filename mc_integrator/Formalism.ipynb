{
 "cells": [
  {
   "cell_type": "markdown",
   "id": "c38c3799",
   "metadata": {},
   "source": [
    "# Monte Carlo Integrator \n",
    "\n",
    "In this notebook I develop a structure to integrate the likelihood over $\\lambda, \\xi, M$ in a monte carlo setup."
   ]
  },
  {
   "cell_type": "markdown",
   "id": "11c9f4f3",
   "metadata": {},
   "source": [
    "## What is Monte Carlo Integration\n",
    "\n",
    "Basically instead of integrating over an uniform spaced vector you use random numbers. The output is simply the sum of function evaluated at the random numbers.\n",
    "\n",
    "### Example:\n",
    "A simple examples is the one dimension case, given a function $f(x)$ with a probability distribution $p(x)$ the integral over an interval $[a,b]$ is:\n",
    "$$\n",
    "I = \\int_{a}^{b} f(x) p(x) dx \\approx \\frac{1}{N}\\sum_i^{N}{f(x_i)}\n",
    "$$\n",
    "\n",
    "For a significant number of points the integral will converge to the actual area under of the curve. "
   ]
  },
  {
   "cell_type": "markdown",
   "id": "0290716e",
   "metadata": {},
   "source": [
    "## In our case\n",
    "\n",
    "Our likelihood function is function of $(\\lambda, \\xi, M)$ and for each variable we have a probility density function associated. \n",
    "$$\n",
    "\\text{likelihood}(\\lambda, \\zeta, M) = \\int d\\lambda \\int d\\zeta \\int dM \\left[ \\text{Normal}(\\lambda, \\zeta, M |\\theta)\\, p(\\lambda|\\hat{\\lambda})\\, p(\\zeta|\\xi)\\, p(M)\\right]\n",
    "$$\n",
    "\n",
    "The normal function is basically the multivariate gaussian likelihood. The probabilty functions will be used to draw the random numbers ($\\lambda_i, \\xi_i, M_i$). The halo mass priobility actually needs to be further defined. Currently, we use the halo mass function as a prior, but we can actually define the probability as:\n",
    "$$\n",
    "p(M|\\zeta) = \\int dM P(\\zeta|M) P(M) = \\int dM \\exp{\\left[-\\frac{1}{2} \\left(\\frac{\\ln{\\zeta} - (A_\\zeta+B_\\xi M) }{\\sigma_\\zeta}\\right)^2 \\right] HMF(M) }\n",
    "$$\n",
    "\n",
    "Which is the actual probability of $M$ given the SZ relation $\\xi$. The issue is that we're fitting the SZ relation altough we have strong priors on the parameters. In the end, the halo mass probability will be drawn for a given $\\xi$ and $A_\\xi, B_\\xi, C_\\xi$ and $\\sigma_\\xi$.\n",
    "\n",
    "After we draw the random numbers from the probability functions the integral is simply:\n",
    "$$\n",
    "\\text{likelihood}(\\lambda, \\xi, M) = \\frac{1}{N}\\sum_i^{N}{\\text{Normal}(\\lambda_i, \\zeta_i, M_i|\\theta)}\n",
    "$$\n",
    "\n",
    "We defined this approach for a given cluster, i.e. observed values $z, \\hat{\\lambda}, \\xi$. The probabilities are shaped by this values.\n",
    "\n",
    "The final likelihood is the same of each cluster likelihod."
   ]
  },
  {
   "cell_type": "markdown",
   "id": "1ac3e000",
   "metadata": {},
   "source": [
    "# Implementation\n",
    "\n",
    "Now, I'll start to setup this integrator."
   ]
  },
  {
   "cell_type": "markdown",
   "id": "74257205",
   "metadata": {},
   "source": [
    "## Likelihood Function"
   ]
  },
  {
   "cell_type": "code",
   "execution_count": 2,
   "id": "b84894ce",
   "metadata": {
    "ExecuteTime": {
     "end_time": "2022-11-04T01:52:27.457588Z",
     "start_time": "2022-11-04T01:52:25.326380Z"
    }
   },
   "outputs": [
    {
     "name": "stderr",
     "output_type": "stream",
     "text": [
      "<frozen importlib._bootstrap>:219: RuntimeWarning: scipy._lib.messagestream.MessageStream size changed, may indicate binary incompatibility. Expected 56 from C header, got 64 from PyObject\n"
     ]
    }
   ],
   "source": [
    "import numpy as np\n",
    "import matplotlib.pyplot as plt\n",
    "\n",
    "from astropy.cosmology import WMAP9 as cosmo\n",
    "from colossus.cosmology import cosmology\n",
    "cosmology.setCosmology('WMAP9')\n",
    "\n",
    "# The Hubble constant at z=0\n",
    "H0 = cosmo.H(0).value\n",
    "def E(z):\n",
    "    # The Hubble constant at the value of z\n",
    "    Hz = cosmo.H(z).value\n",
    "    return (Hz/H0)\n",
    "M0 = 3e14\n",
    "Ez0 = E(0)\n",
    "def ln_zeta_given_M(theta_sze,M,z):\n",
    "    A_sze, B_sze, C_sze, scatter_sze = theta_sze\n",
    "    return (np.log(A_sze) + (B_sze)*np.log(M/M0) + (C_sze)*(np.log(E(z)/Ez0)))\n",
    "\n",
    "def ln_lbd_given_M(theta_lambda,M,z):\n",
    "    A_lambda, B_lambda, C_lambda, scatter_lambda = theta_lambda\n",
    "    return (np.log(A_lambda) + (B_lambda)*np.log(M/M0) + (C_lambda)*(np.log(E(z)/Ez0)))\n",
    "\n",
    "def to_zeta(xi):\n",
    "    return np.sqrt(xi**2-3)\n",
    "\n",
    "def to_xi(zeta):\n",
    "    return np.sqrt(zeta**2+3)"
   ]
  },
  {
   "cell_type": "code",
   "execution_count": 3,
   "id": "f085145d",
   "metadata": {
    "ExecuteTime": {
     "end_time": "2022-11-04T01:52:27.462337Z",
     "start_time": "2022-11-04T01:52:27.459372Z"
    }
   },
   "outputs": [],
   "source": [
    "def prediction(theta, M, z):\n",
    "    \"\"\"Predicts \\\\ln{\\\\lambda),\\\\ln{\\\\xi}$ for a given set of parameters values\n",
    "    \"\"\"\n",
    "    # unfolding theta\n",
    "    A_lambda, B_lambda, C_lambda, scatter_lambda = theta[4:8]\n",
    "    A_sze, B_sze, C_sze, scatter_sze = theta[:4]\n",
    "    rho = theta[-1]\n",
    "\n",
    "    # calling predictions;\n",
    "    ln_lbd_pred = ln_lbd_given_M([A_lambda, B_lambda, C_lambda, scatter_lambda], M, z)\n",
    "    ln_zeta_pred= ln_zeta_given_M([A_sze, B_sze, C_sze, scatter_sze], M, z)\n",
    "\n",
    "    return np.c_[ln_lbd_pred, ln_zeta_pred]\n"
   ]
  },
  {
   "cell_type": "code",
   "execution_count": 4,
   "id": "3c67f6c3",
   "metadata": {
    "ExecuteTime": {
     "end_time": "2022-11-04T01:52:27.465959Z",
     "start_time": "2022-11-04T01:52:27.463602Z"
    }
   },
   "outputs": [],
   "source": [
    "# Defines the inverse of the covariance matrix for the two dimensional case\n",
    "# https://online.stat.psu.edu/stat505/book/export/html/636\n",
    "def get_cinv(s1, s2, rho):\n",
    "    factor = (s1**2)*(s2**2)*(1-rho**2)\n",
    "    return factor, np.array([[s1**2, -rho*s1*s2],[-rho*s1*s2, s2**2]])/factor"
   ]
  },
  {
   "cell_type": "code",
   "execution_count": 5,
   "id": "6b4f4dfe",
   "metadata": {
    "ExecuteTime": {
     "end_time": "2022-11-04T01:52:27.470935Z",
     "start_time": "2022-11-04T01:52:27.467722Z"
    }
   },
   "outputs": [],
   "source": [
    "def likelihood(M, z, theta, x1, x2):\n",
    "    y = np.c_[x1,x2]\n",
    "    ypred = prediction(theta, M, z)\n",
    "\n",
    "    s1, s2, rho = theta[3], theta[6], theta[7]\n",
    "    norm, cinv = get_cinv(s1, s2, rho)\n",
    "\n",
    "    # compute likeliihod\n",
    "    delta = (np.log(y)-ypred).T\n",
    "    log_like = -0.5*np.diag(np.dot(delta.T,np.matmul(cinv,delta))) + np.log(1/(2*np.pi*np.sqrt(norm)))\n",
    "    return log_like\n",
    "# return the log likelihood\n"
   ]
  },
  {
   "cell_type": "markdown",
   "id": "af7547e6",
   "metadata": {},
   "source": [
    "### Testing Values"
   ]
  },
  {
   "cell_type": "code",
   "execution_count": 6,
   "id": "ca5183c8",
   "metadata": {
    "ExecuteTime": {
     "end_time": "2022-11-04T01:52:27.475741Z",
     "start_time": "2022-11-04T01:52:27.472040Z"
    }
   },
   "outputs": [
    {
     "name": "stdout",
     "output_type": "stream",
     "text": [
      "Initial variables\n",
      "lambda, zeta = 111, 9.2\n"
     ]
    }
   ],
   "source": [
    "# set some initial parameteres \n",
    "_theta = [5.24, 1.534, 0.465, 0.161, 76.9, 1.02, 0.29, 0.16, 0.8]\n",
    "_M = 4e14 # log mass\n",
    "_z = 0.5 # redshift\n",
    "\n",
    "_lbd, _zeta = np.exp(prediction(_theta, _M, _z)).T\n",
    "_xi = to_xi(_zeta)\n",
    "\n",
    "# errors\n",
    "_lbd_err = 10**(0.1*np.log10(_lbd))\n",
    "_zeta_err = 10**(0.04*np.log10(_zeta))\n",
    "\n",
    "print('Initial variables')\n",
    "print('lambda, zeta = %i, %.1f'%(_lbd[0], _zeta[0]))"
   ]
  },
  {
   "cell_type": "code",
   "execution_count": 7,
   "id": "e4fbd095",
   "metadata": {
    "ExecuteTime": {
     "end_time": "2022-11-04T01:52:27.483785Z",
     "start_time": "2022-11-04T01:52:27.477062Z"
    }
   },
   "outputs": [
    {
     "name": "stderr",
     "output_type": "stream",
     "text": [
      "/var/folders/6w/mvq682kn30zd7qxmn0lmt4q00000gs/T/ipykernel_64718/1844124668.py:5: RuntimeWarning: divide by zero encountered in true_divide\n",
      "  return factor, np.array([[s1**2, -rho*s1*s2],[-rho*s1*s2, s2**2]])/factor\n"
     ]
    },
    {
     "data": {
      "text/plain": [
       "(0.0,\n",
       " array([[ inf, -inf],\n",
       "        [-inf,  inf]]))"
      ]
     },
     "execution_count": 7,
     "metadata": {},
     "output_type": "execute_result"
    }
   ],
   "source": [
    "get_cinv(0.16, 0.16, 1.0)"
   ]
  },
  {
   "cell_type": "code",
   "execution_count": 8,
   "id": "b4816b9c",
   "metadata": {
    "ExecuteTime": {
     "end_time": "2022-11-04T01:52:27.487263Z",
     "start_time": "2022-11-04T01:52:27.484947Z"
    }
   },
   "outputs": [],
   "source": [
    "# repeat the vectors npoints\n",
    "npoints=1\n",
    "x1 = np.tile(_lbd,npoints)\n",
    "x2 = np.tile(_zeta,npoints)\n",
    "\n",
    "# x2[0] *=3\n",
    "\n",
    "M = np.tile(_M,npoints)\n",
    "z = np.tile(_z,npoints)\n",
    "theta = _theta"
   ]
  },
  {
   "cell_type": "code",
   "execution_count": 9,
   "id": "7b3a22f2",
   "metadata": {
    "ExecuteTime": {
     "end_time": "2022-11-04T01:52:27.492831Z",
     "start_time": "2022-11-04T01:52:27.488852Z"
    }
   },
   "outputs": [
    {
     "data": {
      "text/plain": [
       "array([1.23931489])"
      ]
     },
     "execution_count": 9,
     "metadata": {},
     "output_type": "execute_result"
    }
   ],
   "source": [
    "likelihood(M, z, theta, x1, x2)"
   ]
  },
  {
   "cell_type": "code",
   "execution_count": 10,
   "id": "5d85d871",
   "metadata": {
    "ExecuteTime": {
     "end_time": "2022-11-04T01:52:27.508975Z",
     "start_time": "2022-11-04T01:52:27.494004Z"
    }
   },
   "outputs": [],
   "source": [
    "## showing the convergence\n",
    "## change the input value from -20% up to 20%\n",
    "perc_change = np.linspace(-20,20,100)\n",
    "\n",
    "likes = []\n",
    "for p in perc_change:\n",
    "    likes.append(likelihood(M, z, theta, x1*(1+p/100), x2*(1+p/100)))"
   ]
  },
  {
   "cell_type": "code",
   "execution_count": 11,
   "id": "0c2cd095",
   "metadata": {
    "ExecuteTime": {
     "end_time": "2022-11-04T01:52:27.783654Z",
     "start_time": "2022-11-04T01:52:27.512112Z"
    }
   },
   "outputs": [
    {
     "data": {
      "text/plain": [
       "Text(0.5, 1.0, 'Likelihood: $\\\\lambda, \\\\zeta = 111, 9.19$')"
      ]
     },
     "execution_count": 11,
     "metadata": {},
     "output_type": "execute_result"
    },
    {
     "data": {
      "image/png": "[encoded data removed]",
      "text/plain": [
       "<Figure size 640x480 with 1 Axes>"
      ]
     },
     "metadata": {},
     "output_type": "display_data"
    }
   ],
   "source": [
    "# given the true values, mass and redshift\n",
    "# plot the likelihood around the true y-values (lambda, zeta)\n",
    "\n",
    "plt.plot(perc_change/100, likes)\n",
    "plt.xlabel(r'Frac error: $\\Delta(\\lambda$, $\\xi )$',fontsize=16)\n",
    "plt.ylabel('Log Likelihood',fontsize=16)\n",
    "plt.title(r'Likelihood: $\\lambda, \\zeta = %i, %.2f$'%(_lbd, _zeta),fontsize=16)"
   ]
  },
  {
   "cell_type": "markdown",
   "id": "c0616eeb",
   "metadata": {},
   "source": [
    "## Mass Probability"
   ]
  },
  {
   "cell_type": "code",
   "execution_count": 12,
   "id": "3a629786",
   "metadata": {
    "ExecuteTime": {
     "end_time": "2022-11-04T01:52:27.790694Z",
     "start_time": "2022-11-04T01:52:27.784884Z"
    }
   },
   "outputs": [],
   "source": [
    "from colossus.lss import mass_function\n",
    "def _halo_mass_function(M, z):\n",
    "    return mass_function.massFunction(M, z, mdef = '500c', model = 'bocquet16')\n",
    "halo_mass_function = np.vectorize(_halo_mass_function)\n",
    "\n",
    "Nmass = 500\n",
    "mvec = np.logspace(13.8, 15.6, Nmass)"
   ]
  },
  {
   "cell_type": "code",
   "execution_count": 13,
   "id": "bf9ccfd5",
   "metadata": {
    "ExecuteTime": {
     "end_time": "2022-11-04T01:52:27.796207Z",
     "start_time": "2022-11-04T01:52:27.791686Z"
    }
   },
   "outputs": [],
   "source": [
    "def gaussian(x,mu,std):\n",
    "    return np.exp(-(x-mu)**2/std**2/2.)/np.sqrt(2*np.pi*std**2)\n",
    "\n",
    "def prob_mass(zeta, z, theta_sze):\n",
    "    A_sze, B_sze, C_sze, scatter_sze = theta_sze\n",
    "    ln_zeta_pred = ln_zeta_given_M([A_sze, B_sze, C_sze, scatter_sze], mvec, z)\n",
    "    prob_zeta = gaussian(ln_zeta_pred, np.log(zeta)[:,np.newaxis], scatter_sze)\n",
    "    p_mass = (halo_mass_function(mvec, z)*prob_zeta)\n",
    "    p_mass = (p_mass).T\n",
    "    return p_mass"
   ]
  },
  {
   "cell_type": "code",
   "execution_count": 14,
   "id": "ad463f64",
   "metadata": {
    "ExecuteTime": {
     "end_time": "2022-11-04T01:52:28.113820Z",
     "start_time": "2022-11-04T01:52:27.797356Z"
    }
   },
   "outputs": [
    {
     "data": {
      "text/plain": [
       "Text(0.5, 1.0, 'Halo Mass Prob: $P(M|\\\\, \\\\zeta, \\\\theta_{SZ})$')"
      ]
     },
     "execution_count": 14,
     "metadata": {},
     "output_type": "execute_result"
    },
    {
     "data": {
      "image/png": "[encoded data removed]",
      "text/plain": [
       "<Figure size 640x480 with 1 Axes>"
      ]
     },
     "metadata": {},
     "output_type": "display_data"
    }
   ],
   "source": [
    "p_mass = prob_mass(_zeta, _z, theta[:4])\n",
    "plt.loglog()\n",
    "plt.plot(mvec, p_mass)\n",
    "plt.axvline(_M,label='True Mass')\n",
    "plt.legend()\n",
    "plt.xlabel(r'$M_{\\rm halo}$',fontsize=14)\n",
    "plt.title(r'Halo Mass Prob: $P(M|\\, \\zeta, \\theta_{SZ})$',fontsize=14)"
   ]
  },
  {
   "cell_type": "markdown",
   "id": "40d7022c",
   "metadata": {},
   "source": [
    "## Monte Carlo Integrator\n",
    "\n",
    "Our task now is to draw random samples based on the probabilties of each variable, $P_\\lambda, P_\\zeta, P_M$"
   ]
  },
  {
   "cell_type": "code",
   "execution_count": 15,
   "id": "2750ea0f",
   "metadata": {
    "ExecuteTime": {
     "end_time": "2022-11-04T01:52:28.119537Z",
     "start_time": "2022-11-04T01:52:28.116294Z"
    }
   },
   "outputs": [],
   "source": [
    "def draw_lambda_values(x_obs, x_err, size=1000):\n",
    "    return 10**(np.log10(x_obs)+np.log10(x_err)*np.random.normal(size=size))\n",
    "\n",
    "def draw_zeta_values(x_obs, x_err, size=1000):\n",
    "    return to_zeta(x_obs)+x_err*np.random.normal(size=size)\n"
   ]
  },
  {
   "cell_type": "code",
   "execution_count": 27,
   "id": "b35bc4fc",
   "metadata": {
    "ExecuteTime": {
     "end_time": "2022-11-04T01:53:55.764243Z",
     "start_time": "2022-11-04T01:53:55.752168Z"
    }
   },
   "outputs": [],
   "source": [
    "def draw_mass_values(zeta_mc, z, theta_sze):\n",
    "    mm = np.logspace(13.4, 15.7, zeta_mc.size)\n",
    "    A_sze, B_sze, C_sze, scatter_sze = theta_sze\n",
    "    ln_zeta_pred = ln_zeta_given_M([A_sze, B_sze, C_sze, scatter_sze], mm, z)\n",
    "    prob_zeta = gaussian(ln_zeta_pred, np.log(zeta_mc)[:,np.newaxis], scatter_sze)\n",
    "    p_mass = halo_mass_function(mm, z)*prob_zeta\n",
    "    m_mc = np.array([np.log10(np.random.choice(mm,p=p_mass[i]/np.sum(p_mass[i]))) for i in range(zeta_mc.size)])\n",
    "    return m_mc\n",
    "\n"
   ]
  },
  {
   "cell_type": "markdown",
   "id": "407e12ad",
   "metadata": {
    "ExecuteTime": {
     "end_time": "2022-11-04T00:18:51.248781Z",
     "start_time": "2022-11-04T00:18:51.242765Z"
    }
   },
   "source": [
    "### Draw a 1000 points "
   ]
  },
  {
   "cell_type": "code",
   "execution_count": 33,
   "id": "dfd89341",
   "metadata": {
    "ExecuteTime": {
     "end_time": "2022-11-04T01:54:44.231793Z",
     "start_time": "2022-11-04T01:54:43.801782Z"
    }
   },
   "outputs": [
    {
     "data": {
      "text/plain": [
       "Text(0.5, 1.0, 'Mass Distribution')"
      ]
     },
     "execution_count": 33,
     "metadata": {},
     "output_type": "execute_result"
    },
    {
     "data": {
      "image/png": "[encoded data removed]",
      "text/plain": [
       "<Figure size 1200x400 with 3 Axes>"
      ]
     },
     "metadata": {},
     "output_type": "display_data"
    }
   ],
   "source": [
    "plt.figure(figsize=(12,4))\n",
    "\n",
    "plt.subplot(1, 3, 1)\n",
    "_ = plt.hist(draw_lambda_values(_lbd, _lbd_err),bins=30,color='k')\n",
    "plt.axvline(_lbd,lw=3,color='r',ls='--')\n",
    "plt.xlabel(r'$\\lambda$',fontsize=14)\n",
    "plt.title('Lambda Distribution',fontsize=14)\n",
    "\n",
    "plt.subplot(1, 3, 2)\n",
    "zeta_mc=draw_zeta_values(_zeta, _zeta_err)\n",
    "_ = plt.hist(draw_zeta_values(_zeta, _zeta_err),bins=30,color='k')\n",
    "plt.axvline(_zeta,lw=3,color='r',ls='--')\n",
    "plt.xlabel(r'$\\zeta$',fontsize=14)\n",
    "plt.title('Zeta Distribution',fontsize=14)\n",
    "\n",
    "plt.subplot(1, 3, 3)\n",
    "_ = plt.hist(draw_mass_values(zeta_mc, z, theta[:4]),bins=30,color='k')\n",
    "plt.axvline(np.log10(_M),lw=3,color='r',ls='--')\n",
    "plt.xlabel(r'$M_{halo}$',fontsize=14)\n",
    "plt.title('Mass Distribution',fontsize=14)\n"
   ]
  },
  {
   "cell_type": "markdown",
   "id": "970b19ff",
   "metadata": {
    "ExecuteTime": {
     "end_time": "2022-11-04T00:19:21.558641Z",
     "start_time": "2022-11-04T00:19:21.555192Z"
    }
   },
   "source": [
    "### Compute the integral"
   ]
  },
  {
   "cell_type": "code",
   "execution_count": 34,
   "id": "468a5062",
   "metadata": {
    "ExecuteTime": {
     "end_time": "2022-11-04T01:54:55.198489Z",
     "start_time": "2022-11-04T01:54:54.971744Z"
    }
   },
   "outputs": [
    {
     "data": {
      "text/plain": [
       "-45374.45911924722"
      ]
     },
     "execution_count": 34,
     "metadata": {},
     "output_type": "execute_result"
    }
   ],
   "source": [
    "# compute the integral\n",
    "zmc = draw_zeta_values(_zeta, _zeta_err)\n",
    "lmc = draw_lambda_values(_lbd, _lbd_err)\n",
    "mmc = draw_mass_values(zmc, z, theta[:4])\n",
    "integral = np.mean(likelihood(mmc, _z, _theta, lmc, zmc))\n",
    "integral"
   ]
  },
  {
   "cell_type": "code",
   "execution_count": 35,
   "id": "1321c9b6",
   "metadata": {
    "ExecuteTime": {
     "end_time": "2022-11-04T01:54:55.863680Z",
     "start_time": "2022-11-04T01:54:55.857465Z"
    }
   },
   "outputs": [],
   "source": [
    "def mc_likelihood(theta, z, lbd, zeta, lbd_err, zeta_err, Npoints=10000):\n",
    "    zmc = draw_zeta_values(zeta, zeta_err, size=Npoints)\n",
    "    lmc = draw_lambda_values(lbd, lbd_err, size=Npoints)\n",
    "    mmc = 10**draw_mass_values(zmc, z, theta[:4])\n",
    "    integral = np.mean(likelihood(mmc, z, theta, lmc, zmc))\n",
    "    return integral"
   ]
  },
  {
   "cell_type": "code",
   "execution_count": 42,
   "id": "ee8bc31c",
   "metadata": {
    "ExecuteTime": {
     "end_time": "2022-11-04T01:55:29.059077Z",
     "start_time": "2022-11-04T01:55:29.010283Z"
    }
   },
   "outputs": [
    {
     "data": {
      "text/plain": [
       "-0.845047315388954"
      ]
     },
     "execution_count": 42,
     "metadata": {},
     "output_type": "execute_result"
    }
   ],
   "source": [
    "zmc = draw_zeta_values(_zeta, _zeta_err, size=Npoints)\n",
    "lmc = draw_lambda_values(_lbd, _lbd_err, size=Npoints)\n",
    "mmc = 10**draw_mass_values(zmc, _z, theta[:4])\n",
    "integral = np.mean(likelihood(mmc, _z, theta, lmc, zmc))\n",
    "integral"
   ]
  },
  {
   "cell_type": "code",
   "execution_count": 43,
   "id": "fe278708",
   "metadata": {
    "ExecuteTime": {
     "end_time": "2022-11-04T01:55:29.662931Z",
     "start_time": "2022-11-04T01:55:29.656516Z"
    }
   },
   "outputs": [],
   "source": [
    "# repeat the vectors npoints\n",
    "npoints=1\n",
    "x1 = np.tile(_lbd,npoints)\n",
    "x2 = np.tile(_xi,npoints)\n",
    "\n",
    "x1_err = np.tile(_lbd_err,npoints)\n",
    "x2_err = np.tile(_zeta_err,npoints)\n",
    "\n",
    "\n",
    "M = np.tile(_M,npoints)\n",
    "z = np.tile(_z,npoints)\n",
    "theta = _theta"
   ]
  },
  {
   "cell_type": "code",
   "execution_count": null,
   "id": "dbea058d",
   "metadata": {
    "ExecuteTime": {
     "start_time": "2022-11-04T01:55:30.067Z"
    }
   },
   "outputs": [],
   "source": [
    "## showing the convergence\n",
    "## change the input value from -20% up to 20%\n",
    "perc_change = np.linspace(-20,20,100)\n",
    "\n",
    "likes = []\n",
    "for p in perc_change:\n",
    "    likes.append(mc_likelihood(theta, z, x1*(1+p/100), x2*(1+p/100), x1_err, x2_err))"
   ]
  },
  {
   "cell_type": "markdown",
   "id": "7d322905",
   "metadata": {},
   "source": [
    "On my local computer 100 points takes 1min and 20s for Npoints=10000"
   ]
  },
  {
   "cell_type": "code",
   "execution_count": null,
   "id": "b99bdd74",
   "metadata": {
    "ExecuteTime": {
     "start_time": "2022-11-04T01:55:32.022Z"
    }
   },
   "outputs": [],
   "source": [
    "# given the true values, mass and redshift\n",
    "# plot the likelihood around the true y-values (lambda, zeta)\n",
    "\n",
    "plt.plot(perc_change/100, likes)\n",
    "plt.xlabel(r'Frac error: $\\Delta(\\lambda$, $\\xi )$',fontsize=16)\n",
    "plt.ylabel('Log Likelihood',fontsize=16)\n",
    "plt.title(r'Likelihood: $\\lambda, \\zeta = %i, %.2f$'%(_lbd, _zeta),fontsize=16)"
   ]
  },
  {
   "cell_type": "markdown",
   "id": "ae12dfe9",
   "metadata": {},
   "source": [
    "We see the convergence trend, however we have a noisy measurment of the integral. "
   ]
  },
  {
   "cell_type": "code",
   "execution_count": null,
   "id": "d2f01755",
   "metadata": {},
   "outputs": [],
   "source": []
  },
  {
   "cell_type": "markdown",
   "id": "e0fc89fc",
   "metadata": {},
   "source": [
    "## Next Steps\n",
    "\n",
    "The next step is to check the convergence. For a given lambda, zeta, z, theta:\n",
    "- Compute integral as a function of Npoints.\n",
    "- Vary the Npoints in logspace from 10 up to 100,000."
   ]
  },
  {
   "cell_type": "code",
   "execution_count": null,
   "id": "9ec56272",
   "metadata": {
    "ExecuteTime": {
     "start_time": "2022-11-04T01:55:40.686Z"
    }
   },
   "outputs": [],
   "source": [
    "npoints = np.array([10, 100, 200, 500, 1000, 2000, 5000, 10000, 20000, 50000, 100000])\n",
    "npoints"
   ]
  },
  {
   "cell_type": "code",
   "execution_count": null,
   "id": "57c7181a",
   "metadata": {
    "ExecuteTime": {
     "start_time": "2022-11-04T01:55:46.328Z"
    }
   },
   "outputs": [],
   "source": [
    "## showing the convergence\n",
    "likes = []\n",
    "for nsize in npoints:\n",
    "    likes.append(mc_likelihood(theta, z, x1, x2, x1_err, x2_err, Npoints=nsize))"
   ]
  },
  {
   "cell_type": "code",
   "execution_count": null,
   "id": "7af8853d",
   "metadata": {
    "ExecuteTime": {
     "start_time": "2022-11-04T01:55:46.610Z"
    }
   },
   "outputs": [],
   "source": [
    "# given the true values, mass and redshift\n",
    "# plot the likelihood around the true y-values (lambda, zeta)\n",
    "\n",
    "plt.loglog()\n",
    "plt.plot(npoints, likes)\n",
    "plt.xlabel(r'Npoints',fontsize=16)\n",
    "plt.ylabel('Log Likelihood',fontsize=16)\n",
    "plt.title(r'Likelihood: $\\lambda, \\zeta = %i, %.2f$'%(_lbd, _zeta),fontsize=16)"
   ]
  },
  {
   "cell_type": "markdown",
   "id": "db09d36f",
   "metadata": {},
   "source": [
    "We should see the integral values converging to a stable value after a given number of points. If we don't see this behaviour it's because the integral diddnt converge."
   ]
  },
  {
   "cell_type": "code",
   "execution_count": null,
   "id": "dc91949e",
   "metadata": {},
   "outputs": [],
   "source": []
  }
 ],
 "metadata": {
  "kernelspec": {
   "display_name": "Python 3 (ipykernel)",
   "language": "python",
   "name": "python3"
  },
  "language_info": {
   "codemirror_mode": {
    "name": "ipython",
    "version": 3
   },
   "file_extension": ".py",
   "mimetype": "text/x-python",
   "name": "python",
   "nbconvert_exporter": "python",
   "pygments_lexer": "ipython3",
   "version": "3.8.8"
  },
  "latex_envs": {
   "LaTeX_envs_menu_present": true,
   "autoclose": true,
   "autocomplete": true,
   "bibliofile": "biblio.bib",
   "cite_by": "apalike",
   "current_citInitial": 1,
   "eqLabelWithNumbers": true,
   "eqNumInitial": 1,
   "hotkeys": {
    "equation": "Ctrl-E",
    "itemize": "Ctrl-I"
   },
   "labels_anchors": false,
   "latex_user_defs": false,
   "report_style_numbering": true,
   "user_envs_cfg": false
  },
  "toc": {
   "base_numbering": 1,
   "nav_menu": {},
   "number_sections": true,
   "sideBar": true,
   "skip_h1_title": false,
   "title_cell": "Table of Contents",
   "title_sidebar": "Contents",
   "toc_cell": false,
   "toc_position": {},
   "toc_section_display": true,
   "toc_window_display": false
  }
 },
 "nbformat": 4,
 "nbformat_minor": 5
}
