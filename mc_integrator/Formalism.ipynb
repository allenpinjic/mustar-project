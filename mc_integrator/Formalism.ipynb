{
 "cells": [
  {
   "cell_type": "markdown",
   "id": "c38c3799",
   "metadata": {},
   "source": [
    "# Monte Carlo Integrator \n",
    "\n",
    "In this notebook I develop a structure to integrate the likelihood over $\\lambda, \\xi, M$ in a monte carlo setup."
   ]
  },
  {
   "cell_type": "markdown",
   "id": "11c9f4f3",
   "metadata": {},
   "source": [
    "## What is Monte Carlo Integration\n",
    "\n",
    "Basically instead of integrating over an uniform spaced vector you use random numbers. The output is simply the sum of function evaluated at the random numbers.\n",
    "\n",
    "### Example:\n",
    "A simple examples is the one dimension case, given a function $f(x)$ with a probability distribution $p(x)$ the integral over an interval $[a,b]$ is:\n",
    "$$\n",
    "I = \\int_{a}^{b} f(x) p(x) dx \\approx \\frac{1}{N}\\sum_i^{N}{f(x_i)}\n",
    "$$\n",
    "\n",
    "For a significant number of points the integral will converge to the actual area under of the curve. "
   ]
  },
  {
   "cell_type": "markdown",
   "id": "0290716e",
   "metadata": {},
   "source": [
    "## In our case\n",
    "\n",
    "Our likelihood function is function of $(\\lambda, \\xi, M)$ and for each variable we have a probility density function associated. \n",
    "$$\n",
    "\\text{likelihood}(\\lambda, \\zeta, M) = \\int d\\lambda \\int d\\zeta \\int dM \\left[ \\text{Normal}(\\lambda, \\zeta, M |\\theta)\\, p(\\lambda|\\hat{\\lambda})\\, p(\\zeta|\\xi)\\, p(M)\\right]\n",
    "$$\n",
    "\n",
    "The normal function is basically the multivariate gaussian likelihood. The probabilty functions will be used to draw the random numbers ($\\lambda_i, \\xi_i, M_i$). The halo mass priobility actually needs to be further defined. Currently, we use the halo mass function as a prior, but we can actually define the probability as:\n",
    "$$\n",
    "p(M|\\zeta) = \\int dM P(\\zeta|M) P(M) = \\int dM \\exp{\\left[-\\frac{1}{2} \\left(\\frac{\\ln{\\zeta} - (A_\\zeta+B_\\xi M) }{\\sigma_\\zeta}\\right)^2 \\right] HMF(M) }\n",
    "$$\n",
    "\n",
    "Which is the actual probability of $M$ given the SZ relation $\\xi$. The issue is that we're fitting the SZ relation altough we have strong priors on the parameters. In the end, the halo mass probability will be drawn for a given $\\xi$ and $A_\\xi, B_\\xi, C_\\xi$ and $\\sigma_\\xi$.\n",
    "\n",
    "After we draw the random numbers from the probability functions the integral is simply:\n",
    "$$\n",
    "\\text{likelihood}(\\lambda, \\xi, M) = \\frac{1}{N}\\sum_i^{N}{\\text{Normal}(\\lambda_i, \\zeta_i, M_i|\\theta)}\n",
    "$$\n",
    "\n",
    "We defined this approach for a given cluster, i.e. observed values $z, \\hat{\\lambda}, \\xi$. The probabilities are shaped by this values.\n",
    "\n",
    "The final likelihood is the same of each cluster likelihod.\n",
    "\n",
    "More info: https://boyangzhao.github.io/posts/monte-carlo-integration"
   ]
  },
  {
   "cell_type": "markdown",
   "id": "1ac3e000",
   "metadata": {},
   "source": [
    "# Implementation\n",
    "\n",
    "Now, I'll start to setup this integrator."
   ]
  },
  {
   "cell_type": "markdown",
   "id": "e5003014",
   "metadata": {},
   "source": [
    "## Likelihood Function"
   ]
  },
  {
   "cell_type": "code",
   "execution_count": 1,
   "id": "b84894ce",
   "metadata": {
    "ExecuteTime": {
     "end_time": "2022-11-04T02:03:55.783405Z",
     "start_time": "2022-11-04T02:03:53.687762Z"
    }
   },
   "outputs": [],
   "source": [
    "import numpy as np\n",
    "import matplotlib.pyplot as plt\n",
    "\n",
    "from astropy.cosmology import WMAP9 as cosmo\n",
    "from colossus.cosmology import cosmology\n",
    "cosmology.setCosmology('WMAP9')\n",
    "\n",
    "# The Hubble constant at z=0\n",
    "H0 = cosmo.H(0).value\n",
    "def E(z):\n",
    "    # The Hubble constant at the value of z\n",
    "    Hz = cosmo.H(z).value\n",
    "    return (Hz/H0)\n",
    "M0 = 3e14\n",
    "Ez0 = E(0)\n",
    "def ln_zeta_given_M(theta_sze,M,z):\n",
    "    A_sze, B_sze, C_sze, scatter_sze = theta_sze\n",
    "    return (np.log(A_sze) + (B_sze)*np.log(M/M0) + (C_sze)*(np.log(E(z)/Ez0)))\n",
    "\n",
    "def ln_lbd_given_M(theta_lambda,M,z):\n",
    "    A_lambda, B_lambda, C_lambda, scatter_lambda = theta_lambda\n",
    "    return (np.log(A_lambda) + (B_lambda)*np.log(M/M0) + (C_lambda)*(np.log(E(z)/Ez0)))\n",
    "\n",
    "def to_zeta(xi):\n",
    "    return np.sqrt(xi**2-3)\n",
    "\n",
    "def to_xi(zeta):\n",
    "    return np.sqrt(zeta**2+3)"
   ]
  },
  {
   "cell_type": "code",
   "execution_count": 2,
   "id": "f6ddbe60",
   "metadata": {
    "ExecuteTime": {
     "end_time": "2022-11-04T02:03:55.789472Z",
     "start_time": "2022-11-04T02:03:55.785263Z"
    }
   },
   "outputs": [],
   "source": [
    "def prediction(theta, M, z):\n",
    "    \"\"\"Predicts \\\\ln{\\\\lambda),\\\\ln{\\\\xi}$ for a given set of parameters values\n",
    "    \"\"\"\n",
    "    # unfolding theta\n",
    "    A_lambda, B_lambda, C_lambda, scatter_lambda = theta[4:8]\n",
    "    A_sze, B_sze, C_sze, scatter_sze = theta[:4]\n",
    "    rho = theta[-1]\n",
    "\n",
    "    # calling predictions;\n",
    "    ln_lbd_pred = ln_lbd_given_M([A_lambda, B_lambda, C_lambda, scatter_lambda], M, z)\n",
    "    ln_zeta_pred= ln_zeta_given_M([A_sze, B_sze, C_sze, scatter_sze], M, z)\n",
    "\n",
    "    return np.c_[ln_lbd_pred, ln_zeta_pred]\n"
   ]
  },
  {
   "cell_type": "code",
   "execution_count": 3,
   "id": "6ee7e6d1",
   "metadata": {
    "ExecuteTime": {
     "end_time": "2022-11-04T02:03:55.793096Z",
     "start_time": "2022-11-04T02:03:55.790503Z"
    }
   },
   "outputs": [],
   "source": [
    "# Defines the inverse of the covariance matrix for the two dimensional case\n",
    "# https://online.stat.psu.edu/stat505/book/export/html/636\n",
    "def get_cinv(s1, s2, rho):\n",
    "    factor = (s1**2)*(s2**2)*(1-rho**2)\n",
    "    return factor, np.array([[s1**2, -rho*s1*s2],[-rho*s1*s2, s2**2]])/factor"
   ]
  },
  {
   "cell_type": "code",
   "execution_count": 4,
   "id": "29f89dca",
   "metadata": {
    "ExecuteTime": {
     "end_time": "2022-11-04T02:03:55.832026Z",
     "start_time": "2022-11-04T02:03:55.794916Z"
    }
   },
   "outputs": [],
   "source": [
    "def likelihood(M, z, theta, x1, x2):\n",
    "    y = np.c_[x1,x2]\n",
    "    ypred = prediction(theta, M, z)\n",
    "\n",
    "    s1, s2, rho = theta[3], theta[6], theta[7]\n",
    "    norm, cinv = get_cinv(s1, s2, rho)\n",
    "\n",
    "    # compute likeliihod\n",
    "    delta = (np.log(y)-ypred).T\n",
    "    log_like = -0.5*np.diag(np.dot(delta.T,np.matmul(cinv,delta))) + np.log(1/(2*np.pi*np.sqrt(norm)))\n",
    "    return log_like\n",
    "# return the log likelihood\n"
   ]
  },
  {
   "cell_type": "markdown",
   "id": "6e29a8b7",
   "metadata": {},
   "source": [
    "### Testing Values"
   ]
  },
  {
   "cell_type": "code",
   "execution_count": 5,
   "id": "d1942125",
   "metadata": {
    "ExecuteTime": {
     "end_time": "2022-11-04T02:03:55.836732Z",
     "start_time": "2022-11-04T02:03:55.833081Z"
    }
   },
   "outputs": [
    {
     "name": "stdout",
     "output_type": "stream",
     "text": [
      "Initial variables\n",
      "lambda, zeta = 111, 9.2\n"
     ]
    }
   ],
   "source": [
    "# set some initial parameteres \n",
    "_theta = [5.24, 1.534, 0.465, 0.161, 76.9, 1.02, 0.29, 0.16, 0.8]\n",
    "_M = 4e14 # log mass\n",
    "_z = 0.5 # redshift\n",
    "\n",
    "_lbd, _zeta = np.exp(prediction(_theta, _M, _z)).T\n",
    "_xi = to_xi(_zeta)\n",
    "\n",
    "# errors\n",
    "_lbd_err = 10**(0.1*np.log10(_lbd))\n",
    "_zeta_err = 10**(0.04*np.log10(_zeta))\n",
    "\n",
    "print('Initial variables')\n",
    "print('lambda, zeta = %i, %.1f'%(_lbd[0], _zeta[0]))"
   ]
  },
  {
   "cell_type": "code",
   "execution_count": 6,
   "id": "6e01e94a",
   "metadata": {
    "ExecuteTime": {
     "end_time": "2022-11-04T02:03:55.843624Z",
     "start_time": "2022-11-04T02:03:55.837811Z"
    }
   },
   "outputs": [
    {
     "name": "stderr",
     "output_type": "stream",
     "text": [
      "/tmp/ipykernel_20335/1844124668.py:5: RuntimeWarning: divide by zero encountered in true_divide\n",
      "  return factor, np.array([[s1**2, -rho*s1*s2],[-rho*s1*s2, s2**2]])/factor\n"
     ]
    },
    {
     "data": {
      "text/plain": [
       "(0.0,\n",
       " array([[ inf, -inf],\n",
       "        [-inf,  inf]]))"
      ]
     },
     "execution_count": 6,
     "metadata": {},
     "output_type": "execute_result"
    }
   ],
   "source": [
    "get_cinv(0.16, 0.16, 1.0)"
   ]
  },
  {
   "cell_type": "code",
   "execution_count": 7,
   "id": "b255f4d3",
   "metadata": {
    "ExecuteTime": {
     "end_time": "2022-11-04T02:03:55.847144Z",
     "start_time": "2022-11-04T02:03:55.844704Z"
    }
   },
   "outputs": [],
   "source": [
    "# repeat the vectors npoints\n",
    "npoints=1\n",
    "x1 = np.tile(_lbd,npoints)\n",
    "x2 = np.tile(_zeta,npoints)\n",
    "\n",
    "# x2[0] *=3\n",
    "\n",
    "M = np.tile(_M,npoints)\n",
    "z = np.tile(_z,npoints)\n",
    "theta = _theta"
   ]
  },
  {
   "cell_type": "code",
   "execution_count": 8,
   "id": "ba385ceb",
   "metadata": {
    "ExecuteTime": {
     "end_time": "2022-11-04T02:03:55.851663Z",
     "start_time": "2022-11-04T02:03:55.848219Z"
    }
   },
   "outputs": [
    {
     "data": {
      "text/plain": [
       "array([1.23931489])"
      ]
     },
     "execution_count": 8,
     "metadata": {},
     "output_type": "execute_result"
    }
   ],
   "source": [
    "likelihood(M, z, theta, x1, x2)"
   ]
  },
  {
   "cell_type": "code",
   "execution_count": 9,
   "id": "d271a713",
   "metadata": {
    "ExecuteTime": {
     "end_time": "2022-11-04T02:03:56.006617Z",
     "start_time": "2022-11-04T02:03:55.987760Z"
    }
   },
   "outputs": [],
   "source": [
    "## showing the convergence\n",
    "## change the input value from -20% up to 20%\n",
    "perc_change = np.linspace(-20,20,100)\n",
    "\n",
    "likes = []\n",
    "for p in perc_change:\n",
    "    likes.append(likelihood(M, z, theta, x1*(1+p/100), x2*(1+p/100)))"
   ]
  },
  {
   "cell_type": "code",
   "execution_count": 10,
   "id": "65f63c16",
   "metadata": {
    "ExecuteTime": {
     "end_time": "2022-11-04T02:03:56.445434Z",
     "start_time": "2022-11-04T02:03:56.199162Z"
    }
   },
   "outputs": [
    {
     "data": {
      "text/plain": [
       "Text(0.5, 1.0, 'Likelihood: $\\\\lambda, \\\\zeta = 111, 9.19$')"
      ]
     },
     "execution_count": 10,
     "metadata": {},
     "output_type": "execute_result"
    },
    {
     "data": {
      "image/png": "[encoded data removed]",
      "text/plain": [
       "<Figure size 432x288 with 1 Axes>"
      ]
     },
     "metadata": {
      "needs_background": "light"
     },
     "output_type": "display_data"
    }
   ],
   "source": [
    "# given the true values, mass and redshift\n",
    "# plot the likelihood around the true y-values (lambda, zeta)\n",
    "\n",
    "plt.plot(perc_change/100, likes)\n",
    "plt.xlabel(r'Frac error: $\\Delta(\\lambda$, $\\xi )$',fontsize=16)\n",
    "plt.ylabel('Log Likelihood',fontsize=16)\n",
    "plt.title(r'Likelihood: $\\lambda, \\zeta = %i, %.2f$'%(_lbd, _zeta),fontsize=16)"
   ]
  },
  {
   "cell_type": "markdown",
   "id": "553fec1d",
   "metadata": {},
   "source": [
    "## Mass Probability"
   ]
  },
  {
   "cell_type": "code",
   "execution_count": 11,
   "id": "597b45f8",
   "metadata": {
    "ExecuteTime": {
     "end_time": "2022-11-04T02:03:56.782452Z",
     "start_time": "2022-11-04T02:03:56.767387Z"
    }
   },
   "outputs": [],
   "source": [
    "from colossus.lss import mass_function\n",
    "def _halo_mass_function(M, z):\n",
    "    return mass_function.massFunction(M, z, mdef = '500c', model = 'bocquet16')\n",
    "halo_mass_function = np.vectorize(_halo_mass_function)\n",
    "\n",
    "Nmass = 500\n",
    "mvec = np.logspace(13.8, 15.6, Nmass)"
   ]
  },
  {
   "cell_type": "code",
   "execution_count": 12,
   "id": "1a21c9dd",
   "metadata": {
    "ExecuteTime": {
     "end_time": "2022-11-04T02:03:57.152846Z",
     "start_time": "2022-11-04T02:03:57.142162Z"
    }
   },
   "outputs": [],
   "source": [
    "def gaussian(x,mu,std):\n",
    "    return np.exp(-(x-mu)**2/std**2/2.)/np.sqrt(2*np.pi*std**2)\n",
    "\n",
    "def prob_mass(zeta, z, theta_sze):\n",
    "    A_sze, B_sze, C_sze, scatter_sze = theta_sze\n",
    "    ln_zeta_pred = ln_zeta_given_M([A_sze, B_sze, C_sze, scatter_sze], mvec, z)\n",
    "    prob_zeta = gaussian(ln_zeta_pred, np.log(zeta)[:,np.newaxis], scatter_sze)\n",
    "    p_mass = (halo_mass_function(mvec, z)*prob_zeta)\n",
    "    p_mass = (p_mass).T\n",
    "    return p_mass"
   ]
  },
  {
   "cell_type": "code",
   "execution_count": 13,
   "id": "c25dc69a",
   "metadata": {
    "ExecuteTime": {
     "end_time": "2022-11-04T02:03:58.097468Z",
     "start_time": "2022-11-04T02:03:57.761458Z"
    }
   },
   "outputs": [
    {
     "data": {
      "text/plain": [
       "Text(0.5, 1.0, 'Halo Mass Prob: $P(M|\\\\, \\\\zeta, \\\\theta_{SZ})$')"
      ]
     },
     "execution_count": 13,
     "metadata": {},
     "output_type": "execute_result"
    },
    {
     "data": {
      "image/png": "[encoded data removed]",
      "text/plain": [
       "<Figure size 432x288 with 1 Axes>"
      ]
     },
     "metadata": {
      "needs_background": "light"
     },
     "output_type": "display_data"
    }
   ],
   "source": [
    "p_mass = prob_mass(_zeta, _z, theta[:4])\n",
    "plt.loglog()\n",
    "plt.plot(mvec, p_mass)\n",
    "plt.axvline(_M,label='True Mass')\n",
    "plt.legend()\n",
    "plt.xlabel(r'$M_{\\rm halo}$',fontsize=14)\n",
    "plt.title(r'Halo Mass Prob: $P(M|\\, \\zeta, \\theta_{SZ})$',fontsize=14)"
   ]
  },
  {
   "cell_type": "markdown",
   "id": "a0c0d96f",
   "metadata": {},
   "source": [
    "## Monte Carlo Integrator\n",
    "\n",
    "Our task now is to draw random samples based on the probabilties of each variable, $P_\\lambda, P_\\zeta, P_M$"
   ]
  },
  {
   "cell_type": "code",
   "execution_count": 14,
   "id": "bbd2d86f",
   "metadata": {
    "ExecuteTime": {
     "end_time": "2022-11-04T02:03:58.335975Z",
     "start_time": "2022-11-04T02:03:58.328656Z"
    }
   },
   "outputs": [],
   "source": [
    "def draw_lambda_values(x_obs, x_err, size=1000):\n",
    "    return 10**(np.log10(x_obs)+np.log10(x_err)*np.random.normal(size=size))\n",
    "\n",
    "def draw_zeta_values(x_obs, x_err, size=1000):\n",
    "    return to_zeta(x_obs)+x_err*np.random.normal(size=size)\n"
   ]
  },
  {
   "cell_type": "code",
   "execution_count": 15,
   "id": "b11fd7f3",
   "metadata": {
    "ExecuteTime": {
     "end_time": "2022-11-04T02:03:58.895725Z",
     "start_time": "2022-11-04T02:03:58.884254Z"
    }
   },
   "outputs": [],
   "source": [
    "def draw_mass_values(zeta_mc, z, theta_sze):\n",
    "    mm = np.logspace(13.4, 15.7, zeta_mc.size)\n",
    "    A_sze, B_sze, C_sze, scatter_sze = theta_sze\n",
    "    ln_zeta_pred = ln_zeta_given_M([A_sze, B_sze, C_sze, scatter_sze], mm, z)\n",
    "    prob_zeta = gaussian(ln_zeta_pred, np.log(zeta_mc)[:,np.newaxis], scatter_sze)\n",
    "    p_mass = halo_mass_function(mm, z)*prob_zeta\n",
    "    m_mc = np.array([np.log10(np.random.choice(mm,p=p_mass[i]/np.sum(p_mass[i]))) for i in range(zeta_mc.size)])\n",
    "    return m_mc\n",
    "\n"
   ]
  },
  {
   "cell_type": "markdown",
   "id": "0816034a",
   "metadata": {
    "ExecuteTime": {
     "end_time": "2022-11-04T00:18:51.248781Z",
     "start_time": "2022-11-04T00:18:51.242765Z"
    }
   },
   "source": [
    "### Draw a 1000 points "
   ]
  },
  {
   "cell_type": "code",
   "execution_count": 16,
   "id": "8b014617",
   "metadata": {
    "ExecuteTime": {
     "end_time": "2022-11-04T02:04:00.723520Z",
     "start_time": "2022-11-04T02:04:00.288868Z"
    }
   },
   "outputs": [
    {
     "data": {
      "text/plain": [
       "Text(0.5, 1.0, 'Mass Distribution')"
      ]
     },
     "execution_count": 16,
     "metadata": {},
     "output_type": "execute_result"
    },
    {
     "data": {
      "image/png": "[encoded data removed]",
      "text/plain": [
       "<Figure size 864x288 with 3 Axes>"
      ]
     },
     "metadata": {
      "needs_background": "light"
     },
     "output_type": "display_data"
    }
   ],
   "source": [
    "plt.figure(figsize=(12,4))\n",
    "\n",
    "plt.subplot(1, 3, 1)\n",
    "_ = plt.hist(draw_lambda_values(_lbd, _lbd_err),bins=30,color='k')\n",
    "plt.axvline(_lbd,lw=3,color='r',ls='--')\n",
    "plt.xlabel(r'$\\lambda$',fontsize=14)\n",
    "plt.title('Lambda Distribution',fontsize=14)\n",
    "\n",
    "plt.subplot(1, 3, 2)\n",
    "zeta_mc=draw_zeta_values(_zeta, _zeta_err)\n",
    "_ = plt.hist(draw_zeta_values(_zeta, _zeta_err),bins=30,color='k')\n",
    "plt.axvline(_zeta,lw=3,color='r',ls='--')\n",
    "plt.xlabel(r'$\\zeta$',fontsize=14)\n",
    "plt.title('Zeta Distribution',fontsize=14)\n",
    "\n",
    "plt.subplot(1, 3, 3)\n",
    "_ = plt.hist(draw_mass_values(zeta_mc, z, theta[:4]),bins=30,color='k')\n",
    "plt.axvline(np.log10(_M),lw=3,color='r',ls='--')\n",
    "plt.xlabel(r'$M_{halo}$',fontsize=14)\n",
    "plt.title('Mass Distribution',fontsize=14)\n"
   ]
  },
  {
   "cell_type": "markdown",
   "id": "c3b83c26",
   "metadata": {
    "ExecuteTime": {
     "end_time": "2022-11-04T00:19:21.558641Z",
     "start_time": "2022-11-04T00:19:21.555192Z"
    }
   },
   "source": [
    "### Compute the integral"
   ]
  },
  {
   "cell_type": "code",
   "execution_count": 17,
   "id": "6974dea8",
   "metadata": {
    "ExecuteTime": {
     "end_time": "2022-11-04T02:04:05.128940Z",
     "start_time": "2022-11-04T02:04:04.915187Z"
    }
   },
   "outputs": [
    {
     "data": {
      "text/plain": [
       "-45357.25803164198"
      ]
     },
     "execution_count": 17,
     "metadata": {},
     "output_type": "execute_result"
    }
   ],
   "source": [
    "# compute the integral\n",
    "zmc = draw_zeta_values(_zeta, _zeta_err)\n",
    "lmc = draw_lambda_values(_lbd, _lbd_err)\n",
    "mmc = draw_mass_values(zmc, z, theta[:4])\n",
    "integral = np.mean(likelihood(mmc, _z, _theta, lmc, zmc))\n",
    "integral"
   ]
  },
  {
   "cell_type": "code",
   "execution_count": 18,
   "id": "2b2d53e5",
   "metadata": {
    "ExecuteTime": {
     "end_time": "2022-11-04T02:04:06.045475Z",
     "start_time": "2022-11-04T02:04:06.039109Z"
    }
   },
   "outputs": [],
   "source": [
    "def mc_likelihood(theta, z, lbd, zeta, lbd_err, zeta_err, Npoints=1000):\n",
    "    zmc = draw_zeta_values(zeta, zeta_err, size=Npoints)\n",
    "    lmc = draw_lambda_values(lbd, lbd_err, size=Npoints)\n",
    "    mmc = 10**draw_mass_values(zmc, z, theta[:4])\n",
    "    integral = np.mean(likelihood(mmc, z, theta, lmc, zmc))\n",
    "    return integral"
   ]
  },
  {
   "cell_type": "code",
   "execution_count": 19,
   "id": "6ef1be02",
   "metadata": {
    "ExecuteTime": {
     "end_time": "2022-11-04T02:04:17.419359Z",
     "start_time": "2022-11-04T02:04:17.200279Z"
    }
   },
   "outputs": [
    {
     "data": {
      "text/plain": [
       "-0.6274088431368994"
      ]
     },
     "execution_count": 19,
     "metadata": {},
     "output_type": "execute_result"
    }
   ],
   "source": [
    "zmc = draw_zeta_values(_zeta, _zeta_err)\n",
    "lmc = draw_lambda_values(_lbd, _lbd_err)\n",
    "mmc = 10**draw_mass_values(zmc, _z, theta[:4])\n",
    "integral = np.mean(likelihood(mmc, _z, theta, lmc, zmc))\n",
    "integral"
   ]
  },
  {
   "cell_type": "code",
   "execution_count": 20,
   "id": "f924f1d1",
   "metadata": {
    "ExecuteTime": {
     "end_time": "2022-11-04T02:04:18.563955Z",
     "start_time": "2022-11-04T02:04:18.555231Z"
    }
   },
   "outputs": [],
   "source": [
    "# repeat the vectors npoints\n",
    "npoints=1\n",
    "x1 = np.tile(_lbd,npoints)\n",
    "x2 = np.tile(_xi,npoints)\n",
    "\n",
    "x1_err = np.tile(_lbd_err,npoints)\n",
    "x2_err = np.tile(_zeta_err,npoints)\n",
    "\n",
    "\n",
    "M = np.tile(_M,npoints)\n",
    "z = np.tile(_z,npoints)\n",
    "theta = _theta"
   ]
  },
  {
   "cell_type": "code",
   "execution_count": 21,
   "id": "b00bb8a6",
   "metadata": {
    "ExecuteTime": {
     "end_time": "2022-11-04T02:04:41.814144Z",
     "start_time": "2022-11-04T02:04:32.430504Z"
    }
   },
   "outputs": [],
   "source": [
    "## showing the convergence\n",
    "## change the input value from -20% up to 20%\n",
    "perc_change = np.linspace(-20,20,50)\n",
    "\n",
    "likes = []\n",
    "for p in perc_change:\n",
    "    likes.append(mc_likelihood(theta, z, x1*(1+p/100), x2*(1+p/100), x1_err, x2_err))"
   ]
  },
  {
   "cell_type": "markdown",
   "id": "7b98c0c3",
   "metadata": {},
   "source": [
    "On my local computer 100 points takes 10s for Npoints=1000"
   ]
  },
  {
   "cell_type": "code",
   "execution_count": 22,
   "id": "0ca88726",
   "metadata": {
    "ExecuteTime": {
     "end_time": "2022-11-04T02:04:41.907124Z",
     "start_time": "2022-11-04T02:04:41.816008Z"
    }
   },
   "outputs": [
    {
     "data": {
      "text/plain": [
       "Text(0.5, 1.0, 'Likelihood: $\\\\lambda, \\\\zeta = 111, 9.19$')"
      ]
     },
     "execution_count": 22,
     "metadata": {},
     "output_type": "execute_result"
    },
    {
     "data": {
      "image/png": "[encoded data removed]",
      "text/plain": [
       "<Figure size 432x288 with 1 Axes>"
      ]
     },
     "metadata": {
      "needs_background": "light"
     },
     "output_type": "display_data"
    }
   ],
   "source": [
    "# given the true values, mass and redshift\n",
    "# plot the likelihood around the true y-values (lambda, zeta)\n",
    "\n",
    "plt.plot(perc_change/100, likes)\n",
    "plt.xlabel(r'Frac error: $\\Delta(\\lambda$, $\\xi )$',fontsize=16)\n",
    "plt.ylabel('Log Likelihood',fontsize=16)\n",
    "plt.title(r'Likelihood: $\\lambda, \\zeta = %i, %.2f$'%(_lbd, _zeta),fontsize=16)"
   ]
  },
  {
   "cell_type": "markdown",
   "id": "b6995901",
   "metadata": {},
   "source": [
    "We see the convergence trend, however we have a noisy measurment of the integral. "
   ]
  },
  {
   "cell_type": "code",
   "execution_count": null,
   "id": "4c1e708c",
   "metadata": {},
   "outputs": [],
   "source": []
  },
  {
   "cell_type": "markdown",
   "id": "386d3542",
   "metadata": {},
   "source": [
    "## Next Steps\n",
    "\n",
    "The next step is to check the convergence. For a given lambda, zeta, z, theta:\n",
    "- Compute integral as a function of Npoints.\n",
    "- Vary the Npoints in logspace from 10 up to 100,000.\n",
    "- See how the convergence is affected by low and high lambda values.\n",
    "- Check the same for zeta."
   ]
  },
  {
   "cell_type": "code",
   "execution_count": 23,
   "id": "7f21caeb",
   "metadata": {
    "ExecuteTime": {
     "end_time": "2022-11-04T02:05:42.814345Z",
     "start_time": "2022-11-04T02:05:42.803411Z"
    }
   },
   "outputs": [
    {
     "data": {
      "text/plain": [
       "array([   10,    20,    50,    70,   100,   200,   500,   700,  1000,\n",
       "        2000,  5000,  7000, 10000, 20000])"
      ]
     },
     "execution_count": 23,
     "metadata": {},
     "output_type": "execute_result"
    }
   ],
   "source": [
    "#npoints = np.array([10, 100, 200, 500, 1000, 2000, 5000, 10000, 20000, 50000, 100000])\n",
    "# ORIGINAL: (BASED OFF OF GRAPH LAST TWO NPOINT VALUES SEEM TO HAVE AN ERROR:\n",
    "# npoints = np.array([10, 100, 200, 500, 1000, 2000, 5000, 10000, 2000, 5000])\n",
    "npoints = np.array([10, 20, 50, 70, 100, 200, 500, 700, 1000, 2000, 5000, 7000, 10000, 20000])\n",
    "npoints"
   ]
  },
  {
   "cell_type": "code",
   "execution_count": 24,
   "id": "571f0ae7",
   "metadata": {
    "ExecuteTime": {
     "end_time": "2022-11-04T02:05:51.056596Z",
     "start_time": "2022-11-04T02:05:43.157493Z"
    }
   },
   "outputs": [],
   "source": [
    "## showing the convergence\n",
    "likes = []\n",
    "for nsize in npoints:\n",
    "    likes.append(mc_likelihood(theta, z, x1, x2, x1_err, x2_err, Npoints=nsize))"
   ]
  },
  {
   "cell_type": "code",
   "execution_count": null,
   "id": "b6d00991-15e6-4842-8188-97495461edf7",
   "metadata": {},
   "outputs": [],
   "source": []
  },
  {
   "cell_type": "code",
   "execution_count": 25,
   "id": "78e4e9bc",
   "metadata": {
    "ExecuteTime": {
     "end_time": "2022-11-04T02:05:51.256280Z",
     "start_time": "2022-11-04T02:05:51.058329Z"
    }
   },
   "outputs": [
    {
     "data": {
      "text/plain": [
       "Text(0.5, 1.0, 'Likelihood: $\\\\lambda, \\\\zeta = 111, 9.19$')"
      ]
     },
     "execution_count": 25,
     "metadata": {},
     "output_type": "execute_result"
    },
    {
     "data": {
      "image/png": "[encoded data removed]",
      "text/plain": [
       "<Figure size 432x288 with 1 Axes>"
      ]
     },
     "metadata": {
      "needs_background": "light"
     },
     "output_type": "display_data"
    }
   ],
   "source": [
    "# given the true values, mass and redshift\n",
    "# plot the likelihood around the true y-values (lambda, zeta)\n",
    "\n",
    "plt.xscale('log')\n",
    "plt.plot(npoints, likes)\n",
    "plt.scatter(npoints, likes, color='r', s=100)\n",
    "plt.xlabel(r'Npoints',fontsize=16)\n",
    "plt.ylabel('Log Likelihood',fontsize=16)\n",
    "plt.title(r'Likelihood: $\\lambda, \\zeta = %i, %.2f$'%(_lbd, _zeta),fontsize=16)"
   ]
  },
  {
   "cell_type": "markdown",
   "id": "f8736177",
   "metadata": {},
   "source": [
    "We should see the integral values converging to a stable value after a given number of points. If we don't see this behaviour it's because the integral didn't converge.\n",
    "\n",
    "- Try with a larger number and more points\n",
    "- Time how much seconds it takes for each integration\n",
    "- Play with halo mass values "
   ]
  },
  {
   "cell_type": "code",
   "execution_count": 26,
   "id": "29a64e3b-b7bc-4186-944d-e3defc1355ea",
   "metadata": {},
   "outputs": [],
   "source": [
    "### NEW WORK ###"
   ]
  },
  {
   "cell_type": "code",
   "execution_count": 27,
   "id": "6547e872",
   "metadata": {
    "ExecuteTime": {
     "end_time": "2022-11-04T02:07:17.059159Z",
     "start_time": "2022-11-04T02:07:17.044184Z"
    }
   },
   "outputs": [],
   "source": [
    "# set some initial parameteres \n",
    "_theta = [5.24, 1.534, 0.465, 0.161, 76.9, 1.02, 0.29, 0.16, 0.8]\n",
    "\n",
    "## change here! halo mass between 3e14 up to 2e15\n",
    "_M = 4e14 # log mass\n",
    "_z = 0.5 # redshift\n",
    "\n",
    "_lbd, _zeta = np.exp(prediction(_theta, _M, _z)).T\n",
    "_xi = to_xi(_zeta)\n",
    "\n",
    "# errors\n",
    "_lbd_err = 10**(0.1*np.log10(_lbd))\n",
    "_zeta_err = 10**(0.04*np.log10(_zeta))\n",
    "\n",
    "npoints=1\n",
    "x1 = np.tile(_lbd,npoints)\n",
    "x2 = np.tile(_xi,npoints)\n",
    "\n",
    "x1_err = np.tile(_lbd_err,npoints)\n",
    "x2_err = np.tile(_zeta_err,npoints)\n",
    "\n",
    "\n",
    "M = np.tile(_M,npoints)\n",
    "z = np.tile(_z,npoints)\n",
    "theta = _theta\n",
    "\n",
    "# print('Initial variables')\n",
    "# print('lambda, zeta = %i, %.1f'%(_lbd[0], _zeta[0]))"
   ]
  },
  {
   "cell_type": "code",
   "execution_count": 28,
   "id": "b17dae0a-d86a-4a54-92d3-4e996b32c951",
   "metadata": {},
   "outputs": [
    {
     "data": {
      "text/plain": [
       "array([   10,    20,    50,    70,   100,   200,   500,   700,  1000,\n",
       "        2000,  5000,  7000, 10000, 20000, 50000, 70000])"
      ]
     },
     "execution_count": 28,
     "metadata": {},
     "output_type": "execute_result"
    }
   ],
   "source": [
    "# npoints = np.array([10, 100, 200, 500, 1000, 2000, 5000, 10000, 20000, 50000, 100000])\n",
    "npoints = np.array([10, 20, 50, 70, 100, 200, 500, 700, 1000, 2000, 5000, 7000, 10000, 20000, 50000, 70000])\n",
    "npoints"
   ]
  },
  {
   "cell_type": "code",
   "execution_count": 29,
   "id": "618bd04e-1757-4df7-a641-8b5de80f675a",
   "metadata": {},
   "outputs": [
    {
     "name": "stdout",
     "output_type": "stream",
     "text": [
      "SPT Model took 0.0 seconds to process an nsize of 10\n",
      "SPT Model took 0.0 seconds to process an nsize of 20\n",
      "SPT Model took 0.0 seconds to process an nsize of 50\n",
      "SPT Model took 0.0 seconds to process an nsize of 70\n",
      "SPT Model took 0.0 seconds to process an nsize of 100\n",
      "SPT Model took 0.1 seconds to process an nsize of 200\n",
      "SPT Model took 0.2 seconds to process an nsize of 500\n",
      "SPT Model took 0.3 seconds to process an nsize of 700\n",
      "SPT Model took 0.5 seconds to process an nsize of 1000\n",
      "SPT Model took 1.1 seconds to process an nsize of 2000\n",
      "SPT Model took 3.6 seconds to process an nsize of 5000\n",
      "SPT Model took 6.1 seconds to process an nsize of 7000\n",
      "SPT Model took 10.7 seconds to process an nsize of 10000\n",
      "SPT Model took 34.2 seconds to process an nsize of 20000\n",
      "SPT Model took 186.8 seconds to process an nsize of 50000\n",
      "SPT Model took 361.0 seconds to process an nsize of 70000\n",
      "Current result: [-3.356462330093991, -0.577688075232589, -0.7225659036136173, -0.7124483137220818, -1.0478067349411793, -0.7667999957486836, -0.9517397993749319, -0.774369170661689, -0.6331046052183887, -0.6507557895779683, -0.6652035071619622, -0.671449512618702, -0.6786134412964062, -0.7148851046933411, -0.7201617520228075, -0.7038113180048159]\n"
     ]
    }
   ],
   "source": [
    "## showing the convergence for random integers for the specific nsize\n",
    "import time\n",
    "from datetime import datetime\n",
    "time_for_now = datetime.now()\n",
    "likes = []\n",
    "res = []\n",
    "err = []\n",
    "timeValues = []\n",
    "for nsize in npoints:\n",
    "    ## USED TO SEE HOW LONG IT TAKES TO FIND THE LIKELIHOOD FOR EACH SIZE OF N (NSIZE)\n",
    "    start = time.time()\n",
    "    idx = np.random.randint(nsize)\n",
    "    # Integration is equal to np.mean(mc_likelihood(theta, z, x1, x2, x1_err, x2_err, Npoints=nsize))\n",
    "    I = np.mean(mc_likelihood(theta, z, x1, x2, x1_err, x2_err, Npoints=nsize))\n",
    "    res.append(I)\n",
    "    end = time.time()\n",
    "    spt_time = end - start\n",
    "    timeValues.append(spt_time)\n",
    "    print(\"SPT Model took {0:.1f} seconds\".format(spt_time), \"to process an nsize of\", nsize)\n",
    "    # Errors are recorded for each calculated integration result\n",
    "    err.append(np.std(res))\n",
    "    #likes.append(mc_likelihood(theta, z, x1, x2, x1_err, x2_err, Npoints=nsize))\n",
    "\n",
    "print(\"Current result:\", res)"
   ]
  },
  {
   "cell_type": "code",
   "execution_count": 30,
   "id": "ec63ed07-da65-4881-a58d-7368ea2bd0fa",
   "metadata": {},
   "outputs": [
    {
     "name": "stdout",
     "output_type": "stream",
     "text": [
      "Current error margin for every nsize:  [0.0, 1.3893871274307008, 1.277149009406978, 1.1642878492971866, 1.048011607123106, 0.9758784943826068, 0.9075647602406776, 0.8585844814075753, 0.8234532178828126, 0.7908004787371812, 0.7608420822970989, 0.7336588744793585, 0.7088779063124517, 0.6855293373047134, 0.6642167452900302, 0.6450514432562461]\n",
      "Amount of time for every time:  [0.0053577423095703125, 0.00967550277709961, 0.03134632110595703, 0.02782440185546875, 0.03885936737060547, 0.08813714981079102, 0.22973060607910156, 0.3291592597961426, 0.4697098731994629, 1.0950722694396973, 3.596782684326172, 6.064190626144409, 10.683842897415161, 34.19043278694153, 186.77105569839478, 361.0264115333557]\n",
      "Length of error array 16\n",
      "Length of timeValues array 16\n"
     ]
    }
   ],
   "source": [
    "print(\"Current error margin for every nsize: \", err)\n",
    "print(\"Amount of time for every time: \", timeValues)\n",
    "print(\"Length of error array\", len(err))\n",
    "print(\"Length of timeValues array\", len(timeValues))"
   ]
  },
  {
   "cell_type": "code",
   "execution_count": 31,
   "id": "1dbae3ec-2121-4f11-b7f3-cdb0acf0788b",
   "metadata": {},
   "outputs": [
    {
     "name": "stdout",
     "output_type": "stream",
     "text": [
      "Current error/I for every nsize:  [array([-0.        , -1.97409034, -1.81461846, -1.65426133, -1.48905194,\n",
      "       -1.38656266, -1.28950009, -1.21990718, -1.16999144, -1.12359727,\n",
      "       -1.08103133, -1.04240846, -1.00719879, -0.97402432, -0.94374263,\n",
      "       -0.91651189]), array([-0.        , -1.97409034, -1.81461846, -1.65426133, -1.48905194,\n",
      "       -1.38656266, -1.28950009, -1.21990718, -1.16999144, -1.12359727,\n",
      "       -1.08103133, -1.04240846, -1.00719879, -0.97402432, -0.94374263,\n",
      "       -0.91651189]), array([-0.        , -1.97409034, -1.81461846, -1.65426133, -1.48905194,\n",
      "       -1.38656266, -1.28950009, -1.21990718, -1.16999144, -1.12359727,\n",
      "       -1.08103133, -1.04240846, -1.00719879, -0.97402432, -0.94374263,\n",
      "       -0.91651189]), array([-0.        , -1.97409034, -1.81461846, -1.65426133, -1.48905194,\n",
      "       -1.38656266, -1.28950009, -1.21990718, -1.16999144, -1.12359727,\n",
      "       -1.08103133, -1.04240846, -1.00719879, -0.97402432, -0.94374263,\n",
      "       -0.91651189]), array([-0.        , -1.97409034, -1.81461846, -1.65426133, -1.48905194,\n",
      "       -1.38656266, -1.28950009, -1.21990718, -1.16999144, -1.12359727,\n",
      "       -1.08103133, -1.04240846, -1.00719879, -0.97402432, -0.94374263,\n",
      "       -0.91651189]), array([-0.        , -1.97409034, -1.81461846, -1.65426133, -1.48905194,\n",
      "       -1.38656266, -1.28950009, -1.21990718, -1.16999144, -1.12359727,\n",
      "       -1.08103133, -1.04240846, -1.00719879, -0.97402432, -0.94374263,\n",
      "       -0.91651189]), array([-0.        , -1.97409034, -1.81461846, -1.65426133, -1.48905194,\n",
      "       -1.38656266, -1.28950009, -1.21990718, -1.16999144, -1.12359727,\n",
      "       -1.08103133, -1.04240846, -1.00719879, -0.97402432, -0.94374263,\n",
      "       -0.91651189]), array([-0.        , -1.97409034, -1.81461846, -1.65426133, -1.48905194,\n",
      "       -1.38656266, -1.28950009, -1.21990718, -1.16999144, -1.12359727,\n",
      "       -1.08103133, -1.04240846, -1.00719879, -0.97402432, -0.94374263,\n",
      "       -0.91651189]), array([-0.        , -1.97409034, -1.81461846, -1.65426133, -1.48905194,\n",
      "       -1.38656266, -1.28950009, -1.21990718, -1.16999144, -1.12359727,\n",
      "       -1.08103133, -1.04240846, -1.00719879, -0.97402432, -0.94374263,\n",
      "       -0.91651189]), array([-0.        , -1.97409034, -1.81461846, -1.65426133, -1.48905194,\n",
      "       -1.38656266, -1.28950009, -1.21990718, -1.16999144, -1.12359727,\n",
      "       -1.08103133, -1.04240846, -1.00719879, -0.97402432, -0.94374263,\n",
      "       -0.91651189]), array([-0.        , -1.97409034, -1.81461846, -1.65426133, -1.48905194,\n",
      "       -1.38656266, -1.28950009, -1.21990718, -1.16999144, -1.12359727,\n",
      "       -1.08103133, -1.04240846, -1.00719879, -0.97402432, -0.94374263,\n",
      "       -0.91651189]), array([-0.        , -1.97409034, -1.81461846, -1.65426133, -1.48905194,\n",
      "       -1.38656266, -1.28950009, -1.21990718, -1.16999144, -1.12359727,\n",
      "       -1.08103133, -1.04240846, -1.00719879, -0.97402432, -0.94374263,\n",
      "       -0.91651189]), array([-0.        , -1.97409034, -1.81461846, -1.65426133, -1.48905194,\n",
      "       -1.38656266, -1.28950009, -1.21990718, -1.16999144, -1.12359727,\n",
      "       -1.08103133, -1.04240846, -1.00719879, -0.97402432, -0.94374263,\n",
      "       -0.91651189]), array([-0.        , -1.97409034, -1.81461846, -1.65426133, -1.48905194,\n",
      "       -1.38656266, -1.28950009, -1.21990718, -1.16999144, -1.12359727,\n",
      "       -1.08103133, -1.04240846, -1.00719879, -0.97402432, -0.94374263,\n",
      "       -0.91651189]), array([-0.        , -1.97409034, -1.81461846, -1.65426133, -1.48905194,\n",
      "       -1.38656266, -1.28950009, -1.21990718, -1.16999144, -1.12359727,\n",
      "       -1.08103133, -1.04240846, -1.00719879, -0.97402432, -0.94374263,\n",
      "       -0.91651189]), array([-0.        , -1.97409034, -1.81461846, -1.65426133, -1.48905194,\n",
      "       -1.38656266, -1.28950009, -1.21990718, -1.16999144, -1.12359727,\n",
      "       -1.08103133, -1.04240846, -1.00719879, -0.97402432, -0.94374263,\n",
      "       -0.91651189])]\n"
     ]
    }
   ],
   "source": [
    "## Given error for every integration calculation based upon the standard deviation\n",
    "#err = []\n",
    "#err = np.std(res)\n",
    "add_err = []\n",
    "for size in err:\n",
    "        add_err.append(err/I)\n",
    "\n",
    "print(\"Current error/I for every nsize: \", add_err)"
   ]
  },
  {
   "cell_type": "code",
   "execution_count": 34,
   "id": "e25c8d50-7e0e-4445-94d9-61b93e5e8eb0",
   "metadata": {},
   "outputs": [
    {
     "data": {
      "text/plain": [
       "<matplotlib.legend.Legend at 0x155518e7df70>"
      ]
     },
     "execution_count": 34,
     "metadata": {},
     "output_type": "execute_result"
    },
    {
     "data": {
      "image/png": "[encoded data removed]",
      "text/plain": [
       "<Figure size 432x288 with 1 Axes>"
      ]
     },
     "metadata": {
      "needs_background": "light"
     },
     "output_type": "display_data"
    }
   ],
   "source": [
    "plt.xscale('log')\n",
    "plt.plot(npoints, err)\n",
    "plt.scatter(npoints, err, color='r', s=100)\n",
    "plt.xlabel(r'Npoints',fontsize=16)\n",
    "plt.ylabel('Integration Error',fontsize=16)\n",
    "plt.title(r'Integration Error vs Npoints',fontsize=16)\n",
    "\n",
    "plt.hlines(y=0.8, xmin=0, xmax=100000, colors='green', linestyles='--', lw=2, label='Possible Upper Bound Error')\n",
    "plt.hlines(y=0.6, xmin=0, xmax=100000, colors='aqua', linestyles='--', lw=2, label='Possible Lower Bound Error')\n",
    "plt.legend(bbox_to_anchor=(1.04,0.5), loc=\"center left\", borderaxespad=0)"
   ]
  },
  {
   "cell_type": "code",
   "execution_count": 35,
   "id": "0a9cf1c2-e9a8-446f-9d9a-2dfd90ccb449",
   "metadata": {},
   "outputs": [
    {
     "data": {
      "text/plain": [
       "<matplotlib.legend.Legend at 0x15551863ce20>"
      ]
     },
     "execution_count": 35,
     "metadata": {},
     "output_type": "execute_result"
    },
    {
     "data": {
      "image/png": "[encoded data removed]",
      "text/plain": [
       "<Figure size 432x288 with 1 Axes>"
      ]
     },
     "metadata": {
      "needs_background": "light"
     },
     "output_type": "display_data"
    }
   ],
   "source": [
    "plt.xscale('log')\n",
    "plt.plot(timeValues, err)\n",
    "plt.scatter(timeValues, err, color='r', s=100)\n",
    "plt.xlabel(r'Time',fontsize=16)\n",
    "plt.ylabel('Integration Error',fontsize=16)\n",
    "plt.title(r'Integration Error vs. Time',fontsize=16)\n",
    "\n",
    "plt.hlines(y=0.6, xmin=0, xmax=100000, colors='aqua', linestyles='--', lw=2, label='Lower Bound Error')\n",
    "plt.hlines(y=0.8, xmin=0, xmax=100000, colors='green', linestyles='--', lw=2, label='Upper Bound Error')\n",
    "plt.legend(bbox_to_anchor=(1.04,0.5), loc=\"center left\", borderaxespad=0)"
   ]
  },
  {
   "cell_type": "code",
   "execution_count": null,
   "id": "3bdcdce7-7b0e-4960-98da-65a7465a11f8",
   "metadata": {},
   "outputs": [],
   "source": []
  }
 ],
 "metadata": {
  "kernelspec": {
   "display_name": "NERSC Python",
   "language": "python",
   "name": "python3"
  },
  "language_info": {
   "codemirror_mode": {
    "name": "ipython",
    "version": 3
   },
   "file_extension": ".py",
   "mimetype": "text/x-python",
   "name": "python",
   "nbconvert_exporter": "python",
   "pygments_lexer": "ipython3",
   "version": "3.9.7"
  },
  "latex_envs": {
   "LaTeX_envs_menu_present": true,
   "autoclose": true,
   "autocomplete": true,
   "bibliofile": "biblio.bib",
   "cite_by": "apalike",
   "current_citInitial": 1,
   "eqLabelWithNumbers": true,
   "eqNumInitial": 1,
   "hotkeys": {
    "equation": "Ctrl-E",
    "itemize": "Ctrl-I"
   },
   "labels_anchors": false,
   "latex_user_defs": false,
   "report_style_numbering": true,
   "user_envs_cfg": false
  },
  "toc": {
   "base_numbering": 1,
   "nav_menu": {},
   "number_sections": true,
   "sideBar": true,
   "skip_h1_title": false,
   "title_cell": "Table of Contents",
   "title_sidebar": "Contents",
   "toc_cell": false,
   "toc_position": {},
   "toc_section_display": true,
   "toc_window_display": false
  }
 },
 "nbformat": 4,
 "nbformat_minor": 5
}
