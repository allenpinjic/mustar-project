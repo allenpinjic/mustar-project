{
 "cells": [
  {
   "cell_type": "code",
   "execution_count": 2,
   "id": "d2cc1f3e-bd2f-4beb-8b02-4bf36062e5d9",
   "metadata": {},
   "outputs": [],
   "source": [
    "import pandas as pd\n",
    "import numpy as np"
   ]
  },
  {
   "cell_type": "code",
   "execution_count": 3,
   "id": "7760558e-2ccb-452e-9c70-82daae139861",
   "metadata": {},
   "outputs": [],
   "source": [
    "# creating an array\n",
    "exampleArray = np.array([[3,5],[7,4],[10,31]])"
   ]
  },
  {
   "cell_type": "code",
   "execution_count": 4,
   "id": "0f7a2492-d8c8-4a5e-a929-9f955d9f724d",
   "metadata": {},
   "outputs": [],
   "source": [
    "# creating a dataframe\n",
    "df = pd.DataFrame(exampleArray,index=['row1','row2','row3'], columns=['col1','col2'])"
   ]
  },
  {
   "cell_type": "code",
   "execution_count": 5,
   "id": "688b5db7-1d3c-4411-b02b-8f7bde1d639a",
   "metadata": {},
   "outputs": [
    {
     "name": "stdout",
     "output_type": "stream",
     "text": [
      "      col1  col2\n",
      "row1     3     5\n",
      "row2     7     4\n",
      "row3    10    31\n"
     ]
    }
   ],
   "source": [
    "print(df)"
   ]
  },
  {
   "cell_type": "code",
   "execution_count": 6,
   "id": "d44f81d7-b423-4b20-baa3-394103b818f2",
   "metadata": {},
   "outputs": [
    {
     "data": {
      "text/html": [
       "<div>\n",
       "<style scoped>\n",
       "    .dataframe tbody tr th:only-of-type {\n",
       "        vertical-align: middle;\n",
       "    }\n",
       "\n",
       "    .dataframe tbody tr th {\n",
       "        vertical-align: top;\n",
       "    }\n",
       "\n",
       "    .dataframe thead th {\n",
       "        text-align: right;\n",
       "    }\n",
       "</style>\n",
       "<table border=\"1\" class=\"dataframe\">\n",
       "  <thead>\n",
       "    <tr style=\"text-align: right;\">\n",
       "      <th></th>\n",
       "      <th>col1</th>\n",
       "      <th>col2</th>\n",
       "    </tr>\n",
       "  </thead>\n",
       "  <tbody>\n",
       "    <tr>\n",
       "      <th>row1</th>\n",
       "      <td>3</td>\n",
       "      <td>5</td>\n",
       "    </tr>\n",
       "    <tr>\n",
       "      <th>row2</th>\n",
       "      <td>7</td>\n",
       "      <td>4</td>\n",
       "    </tr>\n",
       "    <tr>\n",
       "      <th>row3</th>\n",
       "      <td>10</td>\n",
       "      <td>31</td>\n",
       "    </tr>\n",
       "  </tbody>\n",
       "</table>\n",
       "</div>"
      ],
      "text/plain": [
       "      col1  col2\n",
       "row1     3     5\n",
       "row2     7     4\n",
       "row3    10    31"
      ]
     },
     "execution_count": 6,
     "metadata": {},
     "output_type": "execute_result"
    }
   ],
   "source": [
    "df"
   ]
  },
  {
   "cell_type": "markdown",
   "id": "e73650fd-b879-4b8c-a1cd-aedb97c5336d",
   "metadata": {},
   "source": [
    "## Creating a DataFrame from a Dictionary"
   ]
  },
  {
   "cell_type": "code",
   "execution_count": 7,
   "id": "f995e890-6f74-4c2e-825c-de0bd5d41118",
   "metadata": {},
   "outputs": [],
   "source": [
    "# Lists used for this example\n",
    "\n",
    "numberOfStates = ['California', 'Michigan', 'New York', 'Oregon']\n",
    "populationOfStates = [55000000, 16000000, 25000000, 10000000]"
   ]
  },
  {
   "cell_type": "code",
   "execution_count": 8,
   "id": "797f70f7-49c8-49ab-8a6c-4e64391f1c6f",
   "metadata": {},
   "outputs": [],
   "source": [
    "# Storing lists within a dictionary\n",
    "dictStates = {'States':numberOfStates, 'Population Per State':populationOfStates}"
   ]
  },
  {
   "cell_type": "code",
   "execution_count": 9,
   "id": "e4c1363c-cfc9-4251-aad0-3b3fa63e81b9",
   "metadata": {},
   "outputs": [],
   "source": [
    "# Creating a data frame\n",
    "tempDf = pd.DataFrame(dictStates)"
   ]
  },
  {
   "cell_type": "code",
   "execution_count": 10,
   "id": "728177db-dfc4-4feb-920a-9025504eb4e8",
   "metadata": {},
   "outputs": [
    {
     "data": {
      "text/html": [
       "<div>\n",
       "<style scoped>\n",
       "    .dataframe tbody tr th:only-of-type {\n",
       "        vertical-align: middle;\n",
       "    }\n",
       "\n",
       "    .dataframe tbody tr th {\n",
       "        vertical-align: top;\n",
       "    }\n",
       "\n",
       "    .dataframe thead th {\n",
       "        text-align: right;\n",
       "    }\n",
       "</style>\n",
       "<table border=\"1\" class=\"dataframe\">\n",
       "  <thead>\n",
       "    <tr style=\"text-align: right;\">\n",
       "      <th></th>\n",
       "      <th>States</th>\n",
       "      <th>Population Per State</th>\n",
       "    </tr>\n",
       "  </thead>\n",
       "  <tbody>\n",
       "    <tr>\n",
       "      <th>0</th>\n",
       "      <td>California</td>\n",
       "      <td>55000000</td>\n",
       "    </tr>\n",
       "    <tr>\n",
       "      <th>1</th>\n",
       "      <td>Michigan</td>\n",
       "      <td>16000000</td>\n",
       "    </tr>\n",
       "    <tr>\n",
       "      <th>2</th>\n",
       "      <td>New York</td>\n",
       "      <td>25000000</td>\n",
       "    </tr>\n",
       "    <tr>\n",
       "      <th>3</th>\n",
       "      <td>Oregon</td>\n",
       "      <td>10000000</td>\n",
       "    </tr>\n",
       "  </tbody>\n",
       "</table>\n",
       "</div>"
      ],
      "text/plain": [
       "       States  Population Per State\n",
       "0  California              55000000\n",
       "1    Michigan              16000000\n",
       "2    New York              25000000\n",
       "3      Oregon              10000000"
      ]
     },
     "execution_count": 10,
     "metadata": {},
     "output_type": "execute_result"
    }
   ],
   "source": [
    "# Showing the data frame\n",
    "tempDf"
   ]
  },
  {
   "cell_type": "code",
   "execution_count": 11,
   "id": "9c79e1a9-83d6-4629-8c09-e91a5ba9b3b5",
   "metadata": {},
   "outputs": [
    {
     "data": {
      "text/plain": [
       "3"
      ]
     },
     "execution_count": 11,
     "metadata": {},
     "output_type": "execute_result"
    }
   ],
   "source": [
    "# obtaining the highest index of the data frame\n",
    "max(tempDf.index)"
   ]
  },
  {
   "cell_type": "code",
   "execution_count": 12,
   "id": "855c0a85-9496-43bf-820f-05c55faaebcf",
   "metadata": {},
   "outputs": [
    {
     "data": {
      "text/plain": [
       "0"
      ]
     },
     "execution_count": 12,
     "metadata": {},
     "output_type": "execute_result"
    }
   ],
   "source": [
    "# obtaining the lowest index of the data frame\n",
    "min(tempDf.index)"
   ]
  },
  {
   "cell_type": "code",
   "execution_count": 13,
   "id": "40faba66-fa72-4acd-94ad-a308516cf31a",
   "metadata": {},
   "outputs": [
    {
     "data": {
      "text/plain": [
       "pandas.core.frame.DataFrame"
      ]
     },
     "execution_count": 13,
     "metadata": {},
     "output_type": "execute_result"
    }
   ],
   "source": [
    "type(tempDf)"
   ]
  },
  {
   "cell_type": "code",
   "execution_count": 15,
   "id": "29a1a0c8-4887-4b8c-9e5a-19e6ab45f020",
   "metadata": {},
   "outputs": [
    {
     "data": {
      "text/html": [
       "<div>\n",
       "<style scoped>\n",
       "    .dataframe tbody tr th:only-of-type {\n",
       "        vertical-align: middle;\n",
       "    }\n",
       "\n",
       "    .dataframe tbody tr th {\n",
       "        vertical-align: top;\n",
       "    }\n",
       "\n",
       "    .dataframe thead th {\n",
       "        text-align: right;\n",
       "    }\n",
       "</style>\n",
       "<table border=\"1\" class=\"dataframe\">\n",
       "  <thead>\n",
       "    <tr style=\"text-align: right;\">\n",
       "      <th></th>\n",
       "      <th>States</th>\n",
       "      <th>Population Per State</th>\n",
       "    </tr>\n",
       "  </thead>\n",
       "  <tbody>\n",
       "    <tr>\n",
       "      <th>0</th>\n",
       "      <td>California</td>\n",
       "      <td>55000000</td>\n",
       "    </tr>\n",
       "    <tr>\n",
       "      <th>1</th>\n",
       "      <td>Michigan</td>\n",
       "      <td>16000000</td>\n",
       "    </tr>\n",
       "    <tr>\n",
       "      <th>2</th>\n",
       "      <td>New York</td>\n",
       "      <td>25000000</td>\n",
       "    </tr>\n",
       "    <tr>\n",
       "      <th>3</th>\n",
       "      <td>Oregon</td>\n",
       "      <td>10000000</td>\n",
       "    </tr>\n",
       "  </tbody>\n",
       "</table>\n",
       "</div>"
      ],
      "text/plain": [
       "       States  Population Per State\n",
       "0  California              55000000\n",
       "1    Michigan              16000000\n",
       "2    New York              25000000\n",
       "3      Oregon              10000000"
      ]
     },
     "execution_count": 15,
     "metadata": {},
     "output_type": "execute_result"
    }
   ],
   "source": [
    "# rouding the values of the dataset\n",
    "# Currently doesn't do anything, but if the values were floats\n",
    "# then they would be rounded to the nearest 2 decimal points\n",
    "# in the example below\n",
    "round(tempDf, 2)"
   ]
  },
  {
   "cell_type": "code",
   "execution_count": null,
   "id": "fb54f37d-1f13-4b78-924a-7d4102efadfa",
   "metadata": {},
   "outputs": [],
   "source": []
  }
 ],
 "metadata": {
  "kernelspec": {
   "display_name": "Python 3",
   "language": "python",
   "name": "python3"
  },
  "language_info": {
   "codemirror_mode": {
    "name": "ipython",
    "version": 3
   },
   "file_extension": ".py",
   "mimetype": "text/x-python",
   "name": "python",
   "nbconvert_exporter": "python",
   "pygments_lexer": "ipython3",
   "version": "3.8.8"
  }
 },
 "nbformat": 4,
 "nbformat_minor": 5
}
