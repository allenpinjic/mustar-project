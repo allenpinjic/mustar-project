{
 "cells": [
  {
   "cell_type": "markdown",
   "id": "8525bf3e-5d8a-4db6-b8a6-a35482250b18",
   "metadata": {},
   "source": [
    "# Accessing the SPT Sample"
   ]
  },
  {
   "cell_type": "markdown",
   "id": "d9f11e2e-171f-4230-82e2-14f6e940000f",
   "metadata": {},
   "source": [
    "Allen Pinjic - Created on May 18th, 2022"
   ]
  },
  {
   "cell_type": "code",
   "execution_count": 34,
   "id": "87c13c86-852a-41a5-8ea5-021af1f3c2a0",
   "metadata": {},
   "outputs": [],
   "source": [
    "from astropy.io.fits import getdata\n",
    "from astropy.table import Table"
   ]
  },
  {
   "cell_type": "code",
   "execution_count": 35,
   "id": "4a003dfe-6d93-44a4-8774-09f8c0e42790",
   "metadata": {},
   "outputs": [],
   "source": [
    "fname = '../data_set/sptecs_catalog_oct919.fits'\n",
    "\n",
    "data = Table(getdata(fname))"
   ]
  },
  {
   "cell_type": "code",
   "execution_count": 36,
   "id": "7d4b5c84-12d0-4706-a9b2-3e1df24f78eb",
   "metadata": {},
   "outputs": [
    {
     "data": {
      "text/html": [
       "<div><i>Table length=470</i>\n",
       "<table id=\"table140142246466800\" class=\"table-striped table-bordered table-condensed\">\n",
       "<thead><tr><th>SPT_ID</th><th>RA</th><th>DEC</th><th>FIELD</th><th>XI</th><th>THETA_CORE</th><th>REDSHIFT</th><th>REDSHIFT_UNC</th><th>SPECZ</th><th>REDSHIFT_SOURCE</th><th>RM_PROB</th><th>CL_NOTES</th><th>M500</th><th>M500_UERR</th><th>M500_LERR</th><th>LAMBDA_CHISQ</th><th>LAMBDA_CHISQ_E</th><th>RADIO_CONTAM</th><th>STRONG_LENS</th><th>IMAGE_SOURCE</th><th>SPECZ_REF</th><th>STRONG_LENS_REF</th><th>PHOTOMETRIC_ZREF</th></tr></thead>\n",
       "<thead><tr><th>str16</th><th>float64</th><th>float64</th><th>str11</th><th>float32</th><th>float32</th><th>float32</th><th>float32</th><th>int16</th><th>float32</th><th>float32</th><th>str50</th><th>float32</th><th>float32</th><th>float32</th><th>float32</th><th>float32</th><th>float32</th><th>float32</th><th>float32</th><th>str38</th><th>str19</th><th>str29</th></tr></thead>\n",
       "<tr><td>SPT-CLJ0000-2518</td><td>0.072338357</td><td>-25.303935</td><td>ra1hdec-25</td><td>5.073545</td><td>1.5</td><td>0.0</td><td>0.0</td><td>0</td><td>0.0</td><td>0.0</td><td>-</td><td>0.0</td><td>0.0</td><td>0.0</td><td>0.0</td><td>0.0</td><td>0.0</td><td>0.0</td><td>1.0</td><td></td><td></td><td></td></tr>\n",
       "<tr><td>SPT-CLJ0005-3751</td><td>1.4383179</td><td>-37.854369</td><td>ra1hdec-35</td><td>6.336327</td><td>0.75</td><td>0.48295808</td><td>0.0072415886</td><td>0</td><td>4.0</td><td>0.00061007956</td><td>-</td><td>5.419</td><td>0.887</td><td>0.887</td><td>86.40839</td><td>4.7352147</td><td>0.0</td><td>1.0</td><td>3.0</td><td></td><td></td><td></td></tr>\n",
       "<tr><td>SPT-CLJ0005-3443</td><td>1.4876514</td><td>-34.719271</td><td>ra1hdec-35</td><td>5.514429</td><td>2.0</td><td>0.114</td><td>0.0</td><td>1</td><td>9.0</td><td>0.00019451813</td><td>-</td><td>5.325</td><td>0.903</td><td>1.005</td><td>105.385574</td><td>4.646943</td><td>0.0</td><td>0.0</td><td>8.0</td><td>1989ApJS...70....1A</td><td></td><td></td></tr>\n",
       "<tr><td>SPT-CLJ0012-3537</td><td>3.0433397</td><td>-35.622635</td><td>ra1hdec-35</td><td>5.261003</td><td>2.25</td><td>0.6881156</td><td>0.015272482</td><td>0</td><td>4.0</td><td>0.001193634</td><td>-</td><td>4.383</td><td>0.795</td><td>0.895</td><td>73.47217</td><td>5.209095</td><td>0.0</td><td>0.0</td><td>3.0</td><td></td><td></td><td></td></tr>\n",
       "<tr><td>SPT-CLJ0012-3346</td><td>3.1111835</td><td>-33.778217</td><td>ra1hdec-35</td><td>6.701154</td><td>1.0</td><td>0.67583644</td><td>0.014147316</td><td>0</td><td>4.0</td><td>0.00027409373</td><td>-</td><td>5.368</td><td>0.825</td><td>0.851</td><td>100.99214</td><td>5.55097</td><td>0.0</td><td>0.0</td><td>3.0</td><td></td><td></td><td></td></tr>\n",
       "<tr><td>SPT-CLJ0014-3022</td><td>3.5726598</td><td>-30.383121</td><td>ra1hdec-35</td><td>18.293741</td><td>1.5</td><td>0.307</td><td>0.0</td><td>1</td><td>9.0</td><td>0.0</td><td>-</td><td>11.389</td><td>1.146</td><td>1.383</td><td>0.0</td><td>0.0</td><td>0.0</td><td>1.0</td><td>8.0</td><td>H.Andernach1989</td><td>1991MNRAS.252...19S</td><td></td></tr>\n",
       "<tr><td>SPT-CLJ0014-2024</td><td>3.6931852</td><td>-20.408659</td><td>ra1hdec-25</td><td>5.6370654</td><td>1.0</td><td>0.317</td><td>0.0</td><td>1</td><td>9.0</td><td>0.0</td><td>-</td><td>5.625</td><td>0.982</td><td>0.982</td><td>0.0</td><td>0.0</td><td>0.0</td><td>0.0</td><td>8.0</td><td>2014A&amp;A...571A..29P</td><td></td><td></td></tr>\n",
       "<tr><td>SPT-CLJ0020-2543</td><td>5.1730618</td><td>-25.727583</td><td>ra1hdec-25</td><td>7.1418076</td><td>1.5</td><td>0.141</td><td>0.0</td><td>1</td><td>9.0</td><td>0.00027409373</td><td>-</td><td>7.043</td><td>0.967</td><td>1.077</td><td>101.15995</td><td>18.001257</td><td>0.0</td><td>0.0</td><td>8.0</td><td>1999ApJS..125...35S</td><td></td><td></td></tr>\n",
       "<tr><td>SPT-CLJ0028-2649</td><td>7.0110953</td><td>-26.820532</td><td>ra1hdec-25</td><td>7.027022</td><td>0.5</td><td>0.7477372</td><td>0.0144771235</td><td>0</td><td>4.0</td><td>0.0010167992</td><td>-</td><td>5.929</td><td>0.842</td><td>0.946</td><td>77.46897</td><td>4.76539</td><td>0.0</td><td>0.0</td><td>3.0</td><td></td><td></td><td></td></tr>\n",
       "<tr><td>SPT-CLJ0035-2015</td><td>8.8608249</td><td>-20.26354</td><td>ra1hdec-25</td><td>8.4031725</td><td>1.25</td><td>0.352</td><td>0.0</td><td>1</td><td>9.0</td><td>0.0</td><td>-</td><td>7.477</td><td>0.949</td><td>1.079</td><td>0.0</td><td>0.0</td><td>0.0</td><td>0.0</td><td>8.0</td><td>2010MNRAS.406.1773M</td><td></td><td></td></tr>\n",
       "<tr><td>...</td><td>...</td><td>...</td><td>...</td><td>...</td><td>...</td><td>...</td><td>...</td><td>...</td><td>...</td><td>...</td><td>...</td><td>...</td><td>...</td><td>...</td><td>...</td><td>...</td><td>...</td><td>...</td><td>...</td><td>...</td><td>...</td><td>...</td></tr>\n",
       "<tr><td>SPT-CLJ2238-2452</td><td>339.62654</td><td>-24.872478</td><td>ra23hdec-25</td><td>4.6080713</td><td>1.25</td><td>0.43772718</td><td>0.037537746</td><td>0</td><td>1.0</td><td>0.0</td><td>-</td><td>4.136</td><td>0.703</td><td>0.913</td><td>0.0</td><td>0.0</td><td>0.0</td><td>0.0</td><td>1.0</td><td></td><td></td><td></td></tr>\n",
       "<tr><td>SPT-CLJ2238-2458</td><td>339.68902</td><td>-24.970741</td><td>ra23hdec-25</td><td>4.7563457</td><td>0.75</td><td>0.217851</td><td>0.0</td><td>1</td><td>9.0</td><td>0.0</td><td>-</td><td>4.489</td><td>0.79</td><td>0.963</td><td>0.0</td><td>0.0</td><td>0.0</td><td>0.0</td><td>8.0</td><td>2002MNRAS.329...87D</td><td></td><td></td></tr>\n",
       "<tr><td>SPT-CLJ2251-2037</td><td>342.78784</td><td>-20.626061</td><td>ra23hdec-25</td><td>4.661357</td><td>0.25</td><td>0.8</td><td>0.2</td><td>0</td><td>1.0</td><td>0.0</td><td>weak detection panstarrs</td><td>3.742</td><td>0.637</td><td>0.819</td><td>0.0</td><td>0.0</td><td>0.0</td><td>0.0</td><td>1.0</td><td></td><td></td><td></td></tr>\n",
       "<tr><td>SPT-CLJ2259-2615</td><td>344.95794</td><td>-26.259589</td><td>ra23hdec-25</td><td>4.3183346</td><td>1.25</td><td>0.6798459</td><td>0.043046217</td><td>0</td><td>2.0</td><td>0.0</td><td>-</td><td>3.662</td><td>0.588</td><td>0.836</td><td>0.0</td><td>0.0</td><td>0.0</td><td>0.0</td><td>2.0</td><td></td><td></td><td></td></tr>\n",
       "<tr><td>SPT-CLJ2305-2451</td><td>346.43507</td><td>-24.860855</td><td>ra23hdec-25</td><td>4.5639553</td><td>0.5</td><td>0.48042566</td><td>0.052768055</td><td>0</td><td>1.0</td><td>0.0</td><td>-</td><td>4.059</td><td>0.693</td><td>0.896</td><td>0.0</td><td>0.0</td><td>0.0</td><td>0.0</td><td>1.0</td><td></td><td></td><td></td></tr>\n",
       "<tr><td>SPT-CLJ2312-2130</td><td>348.07781</td><td>-21.51488</td><td>ra23hdec-25</td><td>4.8815565</td><td>1.0</td><td>0.108735</td><td>0.0</td><td>1</td><td>9.0</td><td>0.0</td><td>-</td><td>4.7</td><td>0.847</td><td>0.988</td><td>0.0</td><td>0.0</td><td>0.0</td><td>0.0</td><td>8.0</td><td>20096dF...C...0000J</td><td></td><td></td></tr>\n",
       "<tr><td>SPT-CLJ2326-2255</td><td>351.68311</td><td>-22.92125</td><td>ra23hdec-25</td><td>4.7088275</td><td>0.5</td><td>0.8271164</td><td>0.06214097</td><td>0</td><td>1.0</td><td>0.0</td><td>-</td><td>3.727</td><td>0.649</td><td>0.822</td><td>0.0</td><td>0.0</td><td>0.0</td><td>0.0</td><td>1.0</td><td></td><td></td><td></td></tr>\n",
       "<tr><td>SPT-CLJ2331-2033</td><td>352.857</td><td>-20.559476</td><td>ra23hdec-25</td><td>4.443723</td><td>0.25</td><td>0.149</td><td>0.0</td><td>1</td><td>9.0</td><td>0.0</td><td>-</td><td>4.378</td><td>0.74</td><td>0.954</td><td>0.0</td><td>0.0</td><td>0.0</td><td>0.0</td><td>8.0</td><td>2002AJ....123.1200C</td><td></td><td></td></tr>\n",
       "<tr><td>SPT-CLJ2352-2525</td><td>358.09191</td><td>-25.417898</td><td>ra23hdec-25</td><td>4.534288</td><td>1.5</td><td>0.42366922</td><td>0.05045169</td><td>0</td><td>1.0</td><td>0.0</td><td>-</td><td>4.102</td><td>0.715</td><td>0.901</td><td>0.0</td><td>0.0</td><td>0.0</td><td>0.0</td><td>1.0</td><td></td><td></td><td></td></tr>\n",
       "<tr><td>SPT-CLJ2353-2547</td><td>358.26347</td><td>-25.784731</td><td>ra23hdec-25</td><td>4.5976553</td><td>1.0</td><td>0.47950423</td><td>0.03783274</td><td>0</td><td>2.0</td><td>0.0</td><td>-</td><td>4.083</td><td>0.727</td><td>0.9</td><td>0.0</td><td>0.0</td><td>0.0</td><td>0.0</td><td>2.0</td><td></td><td></td><td></td></tr>\n",
       "</table></div>"
      ],
      "text/plain": [
       "<Table length=470>\n",
       "     SPT_ID           RA     ...        PHOTOMETRIC_ZREF      \n",
       "     str16         float64   ...             str29            \n",
       "---------------- ----------- ... -----------------------------\n",
       "SPT-CLJ0000-2518 0.072338357 ...                              \n",
       "SPT-CLJ0005-3751   1.4383179 ...                              \n",
       "SPT-CLJ0005-3443   1.4876514 ...                              \n",
       "SPT-CLJ0012-3537   3.0433397 ...                              \n",
       "SPT-CLJ0012-3346   3.1111835 ...                              \n",
       "SPT-CLJ0014-3022   3.5726598 ...                              \n",
       "SPT-CLJ0014-2024   3.6931852 ...                              \n",
       "SPT-CLJ0020-2543   5.1730618 ...                              \n",
       "SPT-CLJ0028-2649   7.0110953 ...                              \n",
       "SPT-CLJ0035-2015   8.8608249 ...                              \n",
       "             ...         ... ...                           ...\n",
       "SPT-CLJ2238-2452   339.62654 ...                              \n",
       "SPT-CLJ2238-2458   339.68902 ...                              \n",
       "SPT-CLJ2251-2037   342.78784 ...                              \n",
       "SPT-CLJ2259-2615   344.95794 ...                              \n",
       "SPT-CLJ2305-2451   346.43507 ...                              \n",
       "SPT-CLJ2312-2130   348.07781 ...                              \n",
       "SPT-CLJ2326-2255   351.68311 ...                              \n",
       "SPT-CLJ2331-2033     352.857 ...                              \n",
       "SPT-CLJ2352-2525   358.09191 ...                              \n",
       "SPT-CLJ2353-2547   358.26347 ...                              "
      ]
     },
     "execution_count": 36,
     "metadata": {},
     "output_type": "execute_result"
    }
   ],
   "source": [
    "data"
   ]
  },
  {
   "cell_type": "code",
   "execution_count": 37,
   "id": "10f59967-bef7-425a-b319-3f9b8e7a3027",
   "metadata": {},
   "outputs": [],
   "source": [
    "import pandas as pd"
   ]
  },
  {
   "cell_type": "code",
   "execution_count": 38,
   "id": "5708e7d4-841f-458e-aa52-217ed08dd39a",
   "metadata": {},
   "outputs": [],
   "source": [
    "df = data.to_pandas()"
   ]
  },
  {
   "cell_type": "code",
   "execution_count": 39,
   "id": "ba947f0c-8a18-4208-bf7c-6631fa6f7ee3",
   "metadata": {},
   "outputs": [
    {
     "data": {
      "text/html": [
       "<div>\n",
       "<style scoped>\n",
       "    .dataframe tbody tr th:only-of-type {\n",
       "        vertical-align: middle;\n",
       "    }\n",
       "\n",
       "    .dataframe tbody tr th {\n",
       "        vertical-align: top;\n",
       "    }\n",
       "\n",
       "    .dataframe thead th {\n",
       "        text-align: right;\n",
       "    }\n",
       "</style>\n",
       "<table border=\"1\" class=\"dataframe\">\n",
       "  <thead>\n",
       "    <tr style=\"text-align: right;\">\n",
       "      <th></th>\n",
       "      <th>SPT_ID</th>\n",
       "      <th>RA</th>\n",
       "      <th>DEC</th>\n",
       "      <th>FIELD</th>\n",
       "      <th>XI</th>\n",
       "      <th>THETA_CORE</th>\n",
       "      <th>REDSHIFT</th>\n",
       "      <th>REDSHIFT_UNC</th>\n",
       "      <th>SPECZ</th>\n",
       "      <th>REDSHIFT_SOURCE</th>\n",
       "      <th>...</th>\n",
       "      <th>M500_UERR</th>\n",
       "      <th>M500_LERR</th>\n",
       "      <th>LAMBDA_CHISQ</th>\n",
       "      <th>LAMBDA_CHISQ_E</th>\n",
       "      <th>RADIO_CONTAM</th>\n",
       "      <th>STRONG_LENS</th>\n",
       "      <th>IMAGE_SOURCE</th>\n",
       "      <th>SPECZ_REF</th>\n",
       "      <th>STRONG_LENS_REF</th>\n",
       "      <th>PHOTOMETRIC_ZREF</th>\n",
       "    </tr>\n",
       "  </thead>\n",
       "  <tbody>\n",
       "    <tr>\n",
       "      <th>0</th>\n",
       "      <td>SPT-CLJ0000-2518</td>\n",
       "      <td>0.072338</td>\n",
       "      <td>-25.303935</td>\n",
       "      <td>ra1hdec-25</td>\n",
       "      <td>5.073545</td>\n",
       "      <td>1.50</td>\n",
       "      <td>0.000000</td>\n",
       "      <td>0.000000</td>\n",
       "      <td>0</td>\n",
       "      <td>0.0</td>\n",
       "      <td>...</td>\n",
       "      <td>0.000</td>\n",
       "      <td>0.000</td>\n",
       "      <td>0.000000</td>\n",
       "      <td>0.000000</td>\n",
       "      <td>0.0</td>\n",
       "      <td>0.0</td>\n",
       "      <td>1.0</td>\n",
       "      <td></td>\n",
       "      <td></td>\n",
       "      <td></td>\n",
       "    </tr>\n",
       "    <tr>\n",
       "      <th>1</th>\n",
       "      <td>SPT-CLJ0005-3751</td>\n",
       "      <td>1.438318</td>\n",
       "      <td>-37.854369</td>\n",
       "      <td>ra1hdec-35</td>\n",
       "      <td>6.336327</td>\n",
       "      <td>0.75</td>\n",
       "      <td>0.482958</td>\n",
       "      <td>0.007242</td>\n",
       "      <td>0</td>\n",
       "      <td>4.0</td>\n",
       "      <td>...</td>\n",
       "      <td>0.887</td>\n",
       "      <td>0.887</td>\n",
       "      <td>86.408386</td>\n",
       "      <td>4.735215</td>\n",
       "      <td>0.0</td>\n",
       "      <td>1.0</td>\n",
       "      <td>3.0</td>\n",
       "      <td></td>\n",
       "      <td></td>\n",
       "      <td></td>\n",
       "    </tr>\n",
       "    <tr>\n",
       "      <th>2</th>\n",
       "      <td>SPT-CLJ0005-3443</td>\n",
       "      <td>1.487651</td>\n",
       "      <td>-34.719271</td>\n",
       "      <td>ra1hdec-35</td>\n",
       "      <td>5.514429</td>\n",
       "      <td>2.00</td>\n",
       "      <td>0.114000</td>\n",
       "      <td>0.000000</td>\n",
       "      <td>1</td>\n",
       "      <td>9.0</td>\n",
       "      <td>...</td>\n",
       "      <td>0.903</td>\n",
       "      <td>1.005</td>\n",
       "      <td>105.385574</td>\n",
       "      <td>4.646943</td>\n",
       "      <td>0.0</td>\n",
       "      <td>0.0</td>\n",
       "      <td>8.0</td>\n",
       "      <td>1989ApJS...70....1A</td>\n",
       "      <td></td>\n",
       "      <td></td>\n",
       "    </tr>\n",
       "    <tr>\n",
       "      <th>3</th>\n",
       "      <td>SPT-CLJ0012-3537</td>\n",
       "      <td>3.043340</td>\n",
       "      <td>-35.622635</td>\n",
       "      <td>ra1hdec-35</td>\n",
       "      <td>5.261003</td>\n",
       "      <td>2.25</td>\n",
       "      <td>0.688116</td>\n",
       "      <td>0.015272</td>\n",
       "      <td>0</td>\n",
       "      <td>4.0</td>\n",
       "      <td>...</td>\n",
       "      <td>0.795</td>\n",
       "      <td>0.895</td>\n",
       "      <td>73.472168</td>\n",
       "      <td>5.209095</td>\n",
       "      <td>0.0</td>\n",
       "      <td>0.0</td>\n",
       "      <td>3.0</td>\n",
       "      <td></td>\n",
       "      <td></td>\n",
       "      <td></td>\n",
       "    </tr>\n",
       "    <tr>\n",
       "      <th>4</th>\n",
       "      <td>SPT-CLJ0012-3346</td>\n",
       "      <td>3.111184</td>\n",
       "      <td>-33.778217</td>\n",
       "      <td>ra1hdec-35</td>\n",
       "      <td>6.701154</td>\n",
       "      <td>1.00</td>\n",
       "      <td>0.675836</td>\n",
       "      <td>0.014147</td>\n",
       "      <td>0</td>\n",
       "      <td>4.0</td>\n",
       "      <td>...</td>\n",
       "      <td>0.825</td>\n",
       "      <td>0.851</td>\n",
       "      <td>100.992142</td>\n",
       "      <td>5.550970</td>\n",
       "      <td>0.0</td>\n",
       "      <td>0.0</td>\n",
       "      <td>3.0</td>\n",
       "      <td></td>\n",
       "      <td></td>\n",
       "      <td></td>\n",
       "    </tr>\n",
       "    <tr>\n",
       "      <th>...</th>\n",
       "      <td>...</td>\n",
       "      <td>...</td>\n",
       "      <td>...</td>\n",
       "      <td>...</td>\n",
       "      <td>...</td>\n",
       "      <td>...</td>\n",
       "      <td>...</td>\n",
       "      <td>...</td>\n",
       "      <td>...</td>\n",
       "      <td>...</td>\n",
       "      <td>...</td>\n",
       "      <td>...</td>\n",
       "      <td>...</td>\n",
       "      <td>...</td>\n",
       "      <td>...</td>\n",
       "      <td>...</td>\n",
       "      <td>...</td>\n",
       "      <td>...</td>\n",
       "      <td>...</td>\n",
       "      <td>...</td>\n",
       "      <td>...</td>\n",
       "    </tr>\n",
       "    <tr>\n",
       "      <th>465</th>\n",
       "      <td>SPT-CLJ2312-2130</td>\n",
       "      <td>348.077810</td>\n",
       "      <td>-21.514880</td>\n",
       "      <td>ra23hdec-25</td>\n",
       "      <td>4.881557</td>\n",
       "      <td>1.00</td>\n",
       "      <td>0.108735</td>\n",
       "      <td>0.000000</td>\n",
       "      <td>1</td>\n",
       "      <td>9.0</td>\n",
       "      <td>...</td>\n",
       "      <td>0.847</td>\n",
       "      <td>0.988</td>\n",
       "      <td>0.000000</td>\n",
       "      <td>0.000000</td>\n",
       "      <td>0.0</td>\n",
       "      <td>0.0</td>\n",
       "      <td>8.0</td>\n",
       "      <td>20096dF...C...0000J</td>\n",
       "      <td></td>\n",
       "      <td></td>\n",
       "    </tr>\n",
       "    <tr>\n",
       "      <th>466</th>\n",
       "      <td>SPT-CLJ2326-2255</td>\n",
       "      <td>351.683110</td>\n",
       "      <td>-22.921250</td>\n",
       "      <td>ra23hdec-25</td>\n",
       "      <td>4.708827</td>\n",
       "      <td>0.50</td>\n",
       "      <td>0.827116</td>\n",
       "      <td>0.062141</td>\n",
       "      <td>0</td>\n",
       "      <td>1.0</td>\n",
       "      <td>...</td>\n",
       "      <td>0.649</td>\n",
       "      <td>0.822</td>\n",
       "      <td>0.000000</td>\n",
       "      <td>0.000000</td>\n",
       "      <td>0.0</td>\n",
       "      <td>0.0</td>\n",
       "      <td>1.0</td>\n",
       "      <td></td>\n",
       "      <td></td>\n",
       "      <td></td>\n",
       "    </tr>\n",
       "    <tr>\n",
       "      <th>467</th>\n",
       "      <td>SPT-CLJ2331-2033</td>\n",
       "      <td>352.857000</td>\n",
       "      <td>-20.559476</td>\n",
       "      <td>ra23hdec-25</td>\n",
       "      <td>4.443723</td>\n",
       "      <td>0.25</td>\n",
       "      <td>0.149000</td>\n",
       "      <td>0.000000</td>\n",
       "      <td>1</td>\n",
       "      <td>9.0</td>\n",
       "      <td>...</td>\n",
       "      <td>0.740</td>\n",
       "      <td>0.954</td>\n",
       "      <td>0.000000</td>\n",
       "      <td>0.000000</td>\n",
       "      <td>0.0</td>\n",
       "      <td>0.0</td>\n",
       "      <td>8.0</td>\n",
       "      <td>2002AJ....123.1200C</td>\n",
       "      <td></td>\n",
       "      <td></td>\n",
       "    </tr>\n",
       "    <tr>\n",
       "      <th>468</th>\n",
       "      <td>SPT-CLJ2352-2525</td>\n",
       "      <td>358.091910</td>\n",
       "      <td>-25.417898</td>\n",
       "      <td>ra23hdec-25</td>\n",
       "      <td>4.534288</td>\n",
       "      <td>1.50</td>\n",
       "      <td>0.423669</td>\n",
       "      <td>0.050452</td>\n",
       "      <td>0</td>\n",
       "      <td>1.0</td>\n",
       "      <td>...</td>\n",
       "      <td>0.715</td>\n",
       "      <td>0.901</td>\n",
       "      <td>0.000000</td>\n",
       "      <td>0.000000</td>\n",
       "      <td>0.0</td>\n",
       "      <td>0.0</td>\n",
       "      <td>1.0</td>\n",
       "      <td></td>\n",
       "      <td></td>\n",
       "      <td></td>\n",
       "    </tr>\n",
       "    <tr>\n",
       "      <th>469</th>\n",
       "      <td>SPT-CLJ2353-2547</td>\n",
       "      <td>358.263470</td>\n",
       "      <td>-25.784731</td>\n",
       "      <td>ra23hdec-25</td>\n",
       "      <td>4.597655</td>\n",
       "      <td>1.00</td>\n",
       "      <td>0.479504</td>\n",
       "      <td>0.037833</td>\n",
       "      <td>0</td>\n",
       "      <td>2.0</td>\n",
       "      <td>...</td>\n",
       "      <td>0.727</td>\n",
       "      <td>0.900</td>\n",
       "      <td>0.000000</td>\n",
       "      <td>0.000000</td>\n",
       "      <td>0.0</td>\n",
       "      <td>0.0</td>\n",
       "      <td>2.0</td>\n",
       "      <td></td>\n",
       "      <td></td>\n",
       "      <td></td>\n",
       "    </tr>\n",
       "  </tbody>\n",
       "</table>\n",
       "<p>470 rows × 23 columns</p>\n",
       "</div>"
      ],
      "text/plain": [
       "               SPT_ID          RA        DEC        FIELD        XI  \\\n",
       "0    SPT-CLJ0000-2518    0.072338 -25.303935   ra1hdec-25  5.073545   \n",
       "1    SPT-CLJ0005-3751    1.438318 -37.854369   ra1hdec-35  6.336327   \n",
       "2    SPT-CLJ0005-3443    1.487651 -34.719271   ra1hdec-35  5.514429   \n",
       "3    SPT-CLJ0012-3537    3.043340 -35.622635   ra1hdec-35  5.261003   \n",
       "4    SPT-CLJ0012-3346    3.111184 -33.778217   ra1hdec-35  6.701154   \n",
       "..                ...         ...        ...          ...       ...   \n",
       "465  SPT-CLJ2312-2130  348.077810 -21.514880  ra23hdec-25  4.881557   \n",
       "466  SPT-CLJ2326-2255  351.683110 -22.921250  ra23hdec-25  4.708827   \n",
       "467  SPT-CLJ2331-2033  352.857000 -20.559476  ra23hdec-25  4.443723   \n",
       "468  SPT-CLJ2352-2525  358.091910 -25.417898  ra23hdec-25  4.534288   \n",
       "469  SPT-CLJ2353-2547  358.263470 -25.784731  ra23hdec-25  4.597655   \n",
       "\n",
       "     THETA_CORE  REDSHIFT  REDSHIFT_UNC  SPECZ  REDSHIFT_SOURCE  ...  \\\n",
       "0          1.50  0.000000      0.000000      0              0.0  ...   \n",
       "1          0.75  0.482958      0.007242      0              4.0  ...   \n",
       "2          2.00  0.114000      0.000000      1              9.0  ...   \n",
       "3          2.25  0.688116      0.015272      0              4.0  ...   \n",
       "4          1.00  0.675836      0.014147      0              4.0  ...   \n",
       "..          ...       ...           ...    ...              ...  ...   \n",
       "465        1.00  0.108735      0.000000      1              9.0  ...   \n",
       "466        0.50  0.827116      0.062141      0              1.0  ...   \n",
       "467        0.25  0.149000      0.000000      1              9.0  ...   \n",
       "468        1.50  0.423669      0.050452      0              1.0  ...   \n",
       "469        1.00  0.479504      0.037833      0              2.0  ...   \n",
       "\n",
       "     M500_UERR M500_LERR  LAMBDA_CHISQ  LAMBDA_CHISQ_E  RADIO_CONTAM  \\\n",
       "0        0.000     0.000      0.000000        0.000000           0.0   \n",
       "1        0.887     0.887     86.408386        4.735215           0.0   \n",
       "2        0.903     1.005    105.385574        4.646943           0.0   \n",
       "3        0.795     0.895     73.472168        5.209095           0.0   \n",
       "4        0.825     0.851    100.992142        5.550970           0.0   \n",
       "..         ...       ...           ...             ...           ...   \n",
       "465      0.847     0.988      0.000000        0.000000           0.0   \n",
       "466      0.649     0.822      0.000000        0.000000           0.0   \n",
       "467      0.740     0.954      0.000000        0.000000           0.0   \n",
       "468      0.715     0.901      0.000000        0.000000           0.0   \n",
       "469      0.727     0.900      0.000000        0.000000           0.0   \n",
       "\n",
       "     STRONG_LENS  IMAGE_SOURCE                               SPECZ_REF  \\\n",
       "0            0.0           1.0                                           \n",
       "1            1.0           3.0                                           \n",
       "2            0.0           8.0                     1989ApJS...70....1A   \n",
       "3            0.0           3.0                                           \n",
       "4            0.0           3.0                                           \n",
       "..           ...           ...                                     ...   \n",
       "465          0.0           8.0                     20096dF...C...0000J   \n",
       "466          0.0           1.0                                           \n",
       "467          0.0           8.0                     2002AJ....123.1200C   \n",
       "468          0.0           1.0                                           \n",
       "469          0.0           2.0                                           \n",
       "\n",
       "         STRONG_LENS_REF               PHOTOMETRIC_ZREF  \n",
       "0                                                        \n",
       "1                                                        \n",
       "2                                                        \n",
       "3                                                        \n",
       "4                                                        \n",
       "..                   ...                            ...  \n",
       "465                                                      \n",
       "466                                                      \n",
       "467                                                      \n",
       "468                                                      \n",
       "469                                                      \n",
       "\n",
       "[470 rows x 23 columns]"
      ]
     },
     "execution_count": 39,
     "metadata": {},
     "output_type": "execute_result"
    }
   ],
   "source": [
    "df"
   ]
  },
  {
   "cell_type": "code",
   "execution_count": 40,
   "id": "5067ff38-483d-4e49-95e4-ebefabde2b98",
   "metadata": {},
   "outputs": [
    {
     "data": {
      "text/plain": [
       "['SPT_ID',\n",
       " 'RA',\n",
       " 'DEC',\n",
       " 'FIELD',\n",
       " 'XI',\n",
       " 'THETA_CORE',\n",
       " 'REDSHIFT',\n",
       " 'REDSHIFT_UNC',\n",
       " 'SPECZ',\n",
       " 'REDSHIFT_SOURCE',\n",
       " 'RM_PROB',\n",
       " 'CL_NOTES',\n",
       " 'M500',\n",
       " 'M500_UERR',\n",
       " 'M500_LERR',\n",
       " 'LAMBDA_CHISQ',\n",
       " 'LAMBDA_CHISQ_E',\n",
       " 'RADIO_CONTAM',\n",
       " 'STRONG_LENS',\n",
       " 'IMAGE_SOURCE',\n",
       " 'SPECZ_REF',\n",
       " 'STRONG_LENS_REF',\n",
       " 'PHOTOMETRIC_ZREF']"
      ]
     },
     "execution_count": 40,
     "metadata": {},
     "output_type": "execute_result"
    }
   ],
   "source": [
    "data.colnames"
   ]
  },
  {
   "cell_type": "code",
   "execution_count": 41,
   "id": "0bab229c-5d46-4960-918f-f6dae39f15ea",
   "metadata": {},
   "outputs": [],
   "source": [
    "# Things to look at: M500, Redshift, Lambda_chisq (richness)\n",
    "# M500 = Mass of the critical density (mean density) of the universe * 500\n",
    "# M200 = Mass of the critical density (mean density) of the universe * 200"
   ]
  },
  {
   "cell_type": "code",
   "execution_count": 42,
   "id": "01a35965-55d3-4fc2-9208-215edf4984a1",
   "metadata": {},
   "outputs": [
    {
     "data": {
      "text/plain": [
       "0      0.000\n",
       "1      5.419\n",
       "2      5.325\n",
       "3      4.383\n",
       "4      5.368\n",
       "       ...  \n",
       "465    4.700\n",
       "466    3.727\n",
       "467    4.378\n",
       "468    4.102\n",
       "469    4.083\n",
       "Name: M500, Length: 470, dtype: float32"
      ]
     },
     "execution_count": 42,
     "metadata": {},
     "output_type": "execute_result"
    }
   ],
   "source": [
    "df.M500"
   ]
  },
  {
   "cell_type": "code",
   "execution_count": 44,
   "id": "86639a6d-5c1e-4348-8f1d-446dd74c0ab7",
   "metadata": {},
   "outputs": [],
   "source": [
    "import seaborn as sns\n",
    "import matplotlib.pyplot as plt\n",
    "%matplotlib inline"
   ]
  },
  {
   "cell_type": "code",
   "execution_count": 63,
   "id": "f01e0322-fef5-4b1b-9d3e-56c8d3e320b3",
   "metadata": {},
   "outputs": [
    {
     "data": {
      "text/plain": [
       "Text(0.5, 0, 'Value of M500')"
      ]
     },
     "execution_count": 63,
     "metadata": {},
     "output_type": "execute_result"
    },
    {
     "data": {
      "image/png": "[encoded data removed]",
      "text/plain": [
       "<Figure size 432x288 with 1 Axes>"
      ]
     },
     "metadata": {
      "needs_background": "light"
     },
     "output_type": "display_data"
    }
   ],
   "source": [
    "# Histogram of M500\n",
    "df['M500'].plot(kind='hist',bins=50)\n",
    "plt.xlabel('Value of M500')"
   ]
  },
  {
   "cell_type": "code",
   "execution_count": 64,
   "id": "969935ee-a545-472f-9cf5-93423b819002",
   "metadata": {},
   "outputs": [
    {
     "data": {
      "text/plain": [
       "Text(0.5, 0, 'Value of Redshift')"
      ]
     },
     "execution_count": 64,
     "metadata": {},
     "output_type": "execute_result"
    },
    {
     "data": {
      "image/png": "[encoded data removed]",
      "text/plain": [
       "<Figure size 432x288 with 1 Axes>"
      ]
     },
     "metadata": {
      "needs_background": "light"
     },
     "output_type": "display_data"
    }
   ],
   "source": [
    "# Histogram of Redshift\n",
    "df['REDSHIFT'].plot(kind='hist',bins=50)\n",
    "plt.xlabel('Value of Redshift')"
   ]
  },
  {
   "cell_type": "code",
   "execution_count": 65,
   "id": "d4aa41ae-0483-4a66-9b66-0630d2ad888f",
   "metadata": {},
   "outputs": [
    {
     "data": {
      "text/plain": [
       "Text(0.5, 0, 'Value of the Richness')"
      ]
     },
     "execution_count": 65,
     "metadata": {},
     "output_type": "execute_result"
    },
    {
     "data": {
      "image/png": "[encoded data removed]",
      "text/plain": [
       "<Figure size 432x288 with 1 Axes>"
      ]
     },
     "metadata": {
      "needs_background": "light"
     },
     "output_type": "display_data"
    }
   ],
   "source": [
    "# Histogram of Richness\n",
    "df['LAMBDA_CHISQ'].plot(kind='hist',bins=50)\n",
    "plt.xlabel('Value of the Richness')"
   ]
  },
  {
   "cell_type": "code",
   "execution_count": 74,
   "id": "4cd45618-d2b3-49de-abcc-ada47cda1597",
   "metadata": {},
   "outputs": [
    {
     "data": {
      "text/plain": [
       "Text(3.1750000000000043, 0.5, 'Frequency')"
      ]
     },
     "execution_count": 74,
     "metadata": {},
     "output_type": "execute_result"
    },
    {
     "data": {
      "image/png": "[encoded data removed]",
      "text/plain": [
       "<Figure size 360x360 with 1 Axes>"
      ]
     },
     "metadata": {
      "needs_background": "light"
     },
     "output_type": "display_data"
    },
    {
     "data": {
      "image/png": "[encoded data removed]",
      "text/plain": [
       "<Figure size 360x360 with 1 Axes>"
      ]
     },
     "metadata": {
      "needs_background": "light"
     },
     "output_type": "display_data"
    },
    {
     "data": {
      "image/png": "[encoded data removed]",
      "text/plain": [
       "<Figure size 360x360 with 1 Axes>"
      ]
     },
     "metadata": {
      "needs_background": "light"
     },
     "output_type": "display_data"
    }
   ],
   "source": [
    "# New method of making multiple histograms\n",
    "sns.displot(df['M500'],  kde=False, label='M500')\n",
    "plt.title('M500 Histogram')\n",
    "plt.xlabel('Value of M500')\n",
    "plt.ylabel('Frequency')\n",
    "\n",
    "sns.displot(df['REDSHIFT'],  kde=False, label='Redshift')\n",
    "plt.title('Redshift Histogram')\n",
    "plt.xlabel('Value of Redshift')\n",
    "plt.ylabel('Frequency')\n",
    "\n",
    "sns.displot(df['LAMBDA_CHISQ'],  kde=False, label='Richness')\n",
    "plt.title('Richness Histogram')\n",
    "plt.xlabel('Value of Richness')\n",
    "plt.ylabel('Frequency')\n"
   ]
  },
  {
   "cell_type": "code",
   "execution_count": 75,
   "id": "03885f2c-fab8-4c9f-951b-a5f4c9101893",
   "metadata": {},
   "outputs": [],
   "source": [
    "# Combined Histogram of M500, Redshift, and Richness\n",
    "\n"
   ]
  },
  {
   "cell_type": "code",
   "execution_count": 90,
   "id": "8138586b-3fd9-48bf-b203-834e0c46d950",
   "metadata": {},
   "outputs": [],
   "source": [
    "# Scatterplot of M500\n",
    "\n",
    "# df['M500'].plot(kind='scatter',bins=50)\n",
    "# plt.xlabel('Value of M500')\n",
    "\n",
    "# m500 = sns.load_dataset(\"M500\")\n",
    "# sns.relplot(x=\"M500\", y=\"tip\", data=df);\n",
    "\n"
   ]
  },
  {
   "cell_type": "code",
   "execution_count": null,
   "id": "fa596d45-3270-43be-a4bd-ee1a41646673",
   "metadata": {},
   "outputs": [],
   "source": []
  }
 ],
 "metadata": {
  "kernelspec": {
   "display_name": "Python 3",
   "language": "python",
   "name": "python3"
  },
  "language_info": {
   "codemirror_mode": {
    "name": "ipython",
    "version": 3
   },
   "file_extension": ".py",
   "mimetype": "text/x-python",
   "name": "python",
   "nbconvert_exporter": "python",
   "pygments_lexer": "ipython3",
   "version": "3.8.8"
  }
 },
 "nbformat": 4,
 "nbformat_minor": 5
}
