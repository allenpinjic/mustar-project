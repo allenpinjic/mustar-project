{
 "cells": [
  {
   "cell_type": "markdown",
   "id": "a15d5952-47c2-4fc2-aed1-c787c506a694",
   "metadata": {},
   "source": [
    "# Visualize Results"
   ]
  },
  {
   "cell_type": "code",
   "execution_count": null,
   "id": "38c7099e-251a-45a2-b642-f2c17bb38d9b",
   "metadata": {},
   "outputs": [],
   "source": [
    "import numpy as np\n",
    "import matplotlib.pyplot as plt\n",
    "import matplotlib.font_manager\n",
    "import corner"
   ]
  },
  {
   "cell_type": "code",
   "execution_count": null,
   "id": "502fac0c-97dd-4e5c-8891-3eef81d463e6",
   "metadata": {},
   "outputs": [],
   "source": [
    "theta_true = [5.24, 1.534, 0.465, 0.161, 76.9, 1.02, 0.29, 0.16, 0.8]\n",
    "Nburnin = 1000 # number of burn-in samples\n",
    "Nsamples = 10000 # number of final posterior samples\n",
    "walkers = 64\n",
    "ndims = len(theta_true)"
   ]
  },
  {
   "cell_type": "markdown",
   "id": "638019fe-0d2f-45a6-a8d7-4cc6e66ef5c4",
   "metadata": {},
   "source": [
    "## SPT Model"
   ]
  },
  {
   "cell_type": "code",
   "execution_count": null,
   "id": "225e285b-f78b-4d42-8731-dd1bece888fd",
   "metadata": {},
   "outputs": [],
   "source": [
    "filename = 'spt_model_fake_data_result.%s'"
   ]
  },
  {
   "cell_type": "code",
   "execution_count": null,
   "id": "4e202c45-97e3-42bd-8921-a42978ab8446",
   "metadata": {},
   "outputs": [],
   "source": [
    "flat_samples = np.load(filename%('npy'))\n"
   ]
  },
  {
   "cell_type": "code",
   "execution_count": null,
   "id": "39d6927a-b6c3-4675-8576-ca603113f13d",
   "metadata": {},
   "outputs": [],
   "source": [
    "fig, axes = plt.subplots(ndims, figsize=(10, 7), sharex=True)\n",
    "samples = flat_samples\n",
    "for i in range(ndims):\n",
    "    ax = axes[i]\n",
    "    ax.plot(samples[:, i], \"k\", alpha=0.3)\n",
    "    ax.set_xlim(0, len(samples))\n",
    "    #ax.set_ylabel(labels[i])\n",
    "    ax.yaxis.set_label_coords(-0.1, 0.5)\n",
    "axes[-1].set_xlabel(\"step number\");\n",
    "fig.savefig('mcmc_chain_spt_model.png',dpi=75)"
   ]
  },
  {
   "cell_type": "code",
   "execution_count": null,
   "id": "67193c09-bac3-4025-b7ca-435c2f8d2bdf",
   "metadata": {},
   "outputs": [],
   "source": [
    "fig = corner.corner(flat_samples, truths=theta_true, show_titles = True);\n",
    "fig.savefig('mcmc_corner_spt_model.png',dpi=75)"
   ]
  },
  {
   "cell_type": "code",
   "execution_count": null,
   "id": "5072149d-f862-4bca-9b1e-c2d43667ee28",
   "metadata": {},
   "outputs": [],
   "source": []
  }
 ],
 "metadata": {
  "kernelspec": {
   "display_name": "NERSC Python",
   "language": "python",
   "name": "python3"
  },
  "language_info": {
   "codemirror_mode": {
    "name": "ipython",
    "version": 3
   },
   "file_extension": ".py",
   "mimetype": "text/x-python",
   "name": "python",
   "nbconvert_exporter": "python",
   "pygments_lexer": "ipython3",
   "version": "3.9.7"
  }
 },
 "nbformat": 4,
 "nbformat_minor": 5
}
