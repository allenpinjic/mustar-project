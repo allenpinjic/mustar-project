{
 "cells": [
  {
   "cell_type": "code",
   "execution_count": 1,
   "id": "16aae3ed-bdb3-4fe2-ae74-94b468f64bd6",
   "metadata": {},
   "outputs": [],
   "source": [
    "from IPython.core.display import display, HTML"
   ]
  },
  {
   "cell_type": "code",
   "execution_count": 2,
   "id": "89b8cb80-7a8b-451f-9b48-54d6cc06aec6",
   "metadata": {},
   "outputs": [
    {
     "data": {
      "text/plain": [
       "<colossus.cosmology.cosmology.Cosmology at 0x7f15a3c095e0>"
      ]
     },
     "execution_count": 2,
     "metadata": {},
     "output_type": "execute_result"
    }
   ],
   "source": [
    "from astropy.io.fits import getdata\n",
    "from astropy.table import Table\n",
    "from astropy.cosmology import WMAP9 as cosmo\n",
    "from colossus.cosmology import cosmology\n",
    "from colossus.lss import mass_function\n",
    "from __future__ import print_function, division\n",
    "cosmology.setCosmology('WMAP9')"
   ]
  },
  {
   "cell_type": "code",
   "execution_count": 3,
   "id": "39c84c4a-2270-4cf2-8ea5-bb406d50fa76",
   "metadata": {},
   "outputs": [],
   "source": [
    "import numpy as np\n",
    "import pandas as pd\n",
    "import matplotlib.pyplot as plt\n",
    "import pylab as plt\n",
    "import matplotlib.font_manager\n",
    "import scipy.stats\n",
    "import scipy.optimize\n",
    "import seaborn as sns\n",
    "import math\n",
    "import os\n",
    "import sys\n",
    "import emcee\n",
    "import pandas as pd\n",
    "import time\n",
    "%matplotlib inline"
   ]
  },
  {
   "cell_type": "code",
   "execution_count": 6,
   "id": "a7c046dd-f1f3-4707-bf07-d0e0c6a60f88",
   "metadata": {},
   "outputs": [
    {
     "name": "stdout",
     "output_type": "stream",
     "text": [
      "burn-in: 230\n",
      "thin: 44\n",
      "flat chain shape: (4192, 9)\n",
      "flat log prob shape: (4192,)\n",
      "flat log prior shape: (4192,)\n"
     ]
    }
   ],
   "source": [
    "filename = \"very_simple_model_result.h5\"\n",
    "reader = emcee.backends.HDFBackend(filename)\n",
    "\n",
    "\n",
    "tau = reader.get_autocorr_time()\n",
    "burnin = int(2 * np.max(tau))\n",
    "thin = int(0.5 * np.min(tau))\n",
    "samples = reader.get_chain(discard=burnin, flat=True, thin=thin)\n",
    "log_prob_samples = reader.get_log_prob(discard=burnin, flat=True, thin=thin)\n",
    "log_prior_samples = reader.get_blobs(discard=burnin, flat=True, thin=thin)\n",
    "\n",
    "print(\"burn-in: {0}\".format(burnin))\n",
    "print(\"thin: {0}\".format(thin))\n",
    "print(\"flat chain shape: {0}\".format(samples.shape))\n",
    "print(\"flat log prob shape: {0}\".format(log_prob_samples.shape))\n",
    "print(\"flat log prior shape: {0}\".format(log_prior_samples.shape))"
   ]
  },
  {
   "cell_type": "code",
   "execution_count": 16,
   "id": "0ffffd0e-ab35-43a5-a278-b55587e288fd",
   "metadata": {},
   "outputs": [
    {
     "name": "stdout",
     "output_type": "stream",
     "text": [
      "[3374.53451088 3370.76567066 3375.96239322 ... 3373.6230822  3374.26230079\n",
      " 3376.42695634]\n",
      "[0. 0. 0. ... 0. 0. 0.]\n"
     ]
    }
   ],
   "source": [
    "import corner\n",
    "all_samples = np.concatenate(\n",
    "     (samples, log_prob_samples[:, None], log_prior_samples[:, None]), axis=1\n",
    ")\n",
    "\n",
    "print(log_prob_samples)\n",
    "print(log_prior_samples)"
   ]
  },
  {
   "cell_type": "code",
   "execution_count": 11,
   "id": "93ac6563-fb8c-46b5-968b-d48cef000567",
   "metadata": {},
   "outputs": [
    {
     "data": {
      "text/plain": [
       "(4192, 11)"
      ]
     },
     "execution_count": 11,
     "metadata": {},
     "output_type": "execute_result"
    }
   ],
   "source": [
    "all_samples.shape"
   ]
  }
 ],
 "metadata": {
  "kernelspec": {
   "display_name": "Python 3",
   "language": "python",
   "name": "python3"
  },
  "language_info": {
   "codemirror_mode": {
    "name": "ipython",
    "version": 3
   },
   "file_extension": ".py",
   "mimetype": "text/x-python",
   "name": "python",
   "nbconvert_exporter": "python",
   "pygments_lexer": "ipython3",
   "version": "3.8.8"
  }
 },
 "nbformat": 4,
 "nbformat_minor": 5
}
