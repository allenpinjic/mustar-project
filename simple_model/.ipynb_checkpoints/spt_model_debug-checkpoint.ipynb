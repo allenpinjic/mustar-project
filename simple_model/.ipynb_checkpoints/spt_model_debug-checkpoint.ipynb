{
 "cells": [
  {
   "cell_type": "markdown",
   "id": "58a73551-b01d-4306-ba62-70461abcecd3",
   "metadata": {},
   "source": [
    "# SPT Model - Debug"
   ]
  },
  {
   "cell_type": "code",
   "execution_count": 1,
   "id": "bd674b19-3053-4d40-bc32-ae5099890932",
   "metadata": {},
   "outputs": [],
   "source": [
    "from __future__ import print_function, division\n",
    "from IPython.core.display import display, HTML\n",
    "from astropy.io.fits import getdata\n",
    "from astropy.table import Table\n",
    "from astropy.cosmology import WMAP9 as cosmo\n",
    "from colossus.cosmology import cosmology\n",
    "from colossus.lss import mass_function\n",
    "from scipy import interpolate\n",
    "from multiprocessing import Pool\n",
    "cosmology.setCosmology('WMAP9')\n",
    "\n",
    "import numpy as np\n",
    "import pandas as pd\n",
    "import emcee\n",
    "import pandas as pd\n",
    "import time\n",
    "import os\n",
    "import sys\n",
    "from scipy.optimize import minimize\n",
    "import scipy.stats\n",
    "import math\n",
    "import matplotlib.pyplot as plt\n",
    "import pylab as plt\n",
    "import corner"
   ]
  },
  {
   "cell_type": "code",
   "execution_count": 2,
   "id": "7f845a05-d372-4a29-922c-6d97cfd21cd5",
   "metadata": {},
   "outputs": [],
   "source": [
    "%matplotlib inline"
   ]
  },
  {
   "cell_type": "code",
   "execution_count": 3,
   "id": "b4d3d5e7-7790-4ab4-a438-69500df82271",
   "metadata": {},
   "outputs": [],
   "source": [
    "def E(z):\n",
    "    # The Hubble constant at the value of z\n",
    "    Hz = cosmo.H(z).value\n",
    "    # The Hubble constant at z=0\n",
    "    H0 = cosmo.H(0).value\n",
    "    return (Hz/H0)\n",
    "\n",
    "def gaussian(x,mu,std):\n",
    "    return np.exp(-(x-mu)**2/std**2/2.)/np.sqrt(2*np.pi*std**2)\n",
    "\n",
    "def prob_chisi(zeta, xi):\n",
    "    res = np.exp(-(xi-np.sqrt(zeta**2+2))**2/2.)/np.sqrt(2*np.pi)\n",
    "    return res\n",
    "\n",
    "def prob_lbd_hat(x, mean , std):\n",
    "    res = gaussian(x, mean , std)\n",
    "    return res\n",
    "\n",
    "def prob_mass(zeta, mass, z, params):\n",
    "    params = A_sze, B_sze, C_sze, scatter_sze\n",
    "    ln_zeta_pred = ln_zeta_given_M([A_sze, B_sze, C_sze, scatter_sze], mass, z)\n",
    "    ln_prob = -0.5*((np.log(zeta)-ln_zeta_pred)/scatter_sze)**2\n",
    "    return ln_prob\n",
    "    \n",
    "def slice_array(y,alpha=1e-2):\n",
    "    cy = np.cumsum(y/np.sum(y),axis=0)\n",
    "    ilo,iup = np.interp([alpha,1-alpha],cy,np.arange(len(y))).astype(int)+(0,1)\n",
    "    return ilo, iup"
   ]
  },
  {
   "cell_type": "code",
   "execution_count": 4,
   "id": "91bab81d-f2cb-4082-97ac-b6cb4d988bee",
   "metadata": {},
   "outputs": [],
   "source": [
    "def log_likelihood(theta, indices, eps=1e-9):\n",
    "    # defining variables\n",
    "    probs = []\n",
    "    for ix in indices:\n",
    "        probs.append(_likelihood(theta, ix))\n",
    "    p = np.array(probs)#/np.sum(probs)\n",
    "    log_p = np.log(p)\n",
    "    log_p = np.where(np.isnan(log_p), -np.inf, log_p)\n",
    "    return np.sum(log_p)"
   ]
  },
  {
   "cell_type": "code",
   "execution_count": 5,
   "id": "bf6750c3-39d8-4469-a625-6b535f845ba6",
   "metadata": {},
   "outputs": [],
   "source": [
    "def _likelihood(theta, ix):\n",
    "    # unfolding theta\n",
    "    A_lambda, B_lambda, C_lambda, scatter_lambda = theta[4:8]\n",
    "    A_sze, B_sze, C_sze, scatter_sze = theta[:4]\n",
    "    rho = theta[-1]\n",
    "    \n",
    "    # forgot the mass\n",
    "    redshift_i = redshift[ix]\n",
    "    p_chisi = prob_chisi_vec[ix]\n",
    "    p_lbd_hat = prob_lbd_hat_vec[ix]\n",
    "    #p_lbd_hat_conv = prob_lbd_hat_conv[ix]\n",
    "    llo, lup = list(lbd_indices_vec[ix])\n",
    "    #llo, lup = 0, len(lbdvec)#list(lbd_indices_vec[ix])\n",
    "    clo, cup = list(zeta_indices_vec[ix])\n",
    "    \n",
    "    # calling predictions;\n",
    "    ln_lbd_pred = ln_lbd_given_M([A_lambda, B_lambda, C_lambda, scatter_lambda], mvec, redshift_i)\n",
    "    ln_zeta_pred= ln_zeta_given_M([A_sze, B_sze, C_sze, scatter_sze], mvec, redshift_i)\n",
    "    halo_mass_func = halo_mass_function2(redshift_i)\n",
    "    \n",
    "    ln_lbd_pred = ln_lbd_pred[:,np.newaxis,np.newaxis]\n",
    "    ln_zeta_pred= ln_zeta_pred[:,np.newaxis,np.newaxis]\n",
    "    hmf = halo_mass_func[:,np.newaxis,np.newaxis]\n",
    "    \n",
    "    # the logNormal Distribution\n",
    "    lp_lbd_zeta = compute_log_pLbdZeta(ll[:,clo:cup,llo:lup], zz[:,clo:cup,llo:lup],\n",
    "                                      scatter_lambda, scatter_sze, rho,\n",
    "                                      ln_lbd_pred, ln_zeta_pred)\n",
    "    dN_lbd_zeta = np.exp(lp_lbd_zeta)\n",
    "    \n",
    "    # integrate over M\n",
    "    #norm = float(norm_function(redshift_i))\n",
    "    p_lbd_zeta = np.trapz(dN_lbd_zeta*hmf, x=mvec, axis=0)#/norm\n",
    "\n",
    "    # integrate over zeta\n",
    "    p_chisi = np.tile(p_chisi[clo:cup], (int(lup-llo), 1)).T\n",
    "    p_lbd = np.trapz(p_lbd_zeta*p_chisi, x=zetavec[clo:cup], axis=0)\n",
    "    \n",
    "    # integrate over lambda\n",
    "    norm = np.trapz(p_lbd, x=lbdvec[llo:lup])\n",
    "    p = np.trapz(p_lbd*p_lbd_hat[llo:lup], x=lbdvec[llo:lup], axis=0)\n",
    "    return p/norm"
   ]
  },
  {
   "cell_type": "code",
   "execution_count": 6,
   "id": "3f7eb399-c9a5-47cc-b51f-4cdd5d2a9060",
   "metadata": {},
   "outputs": [],
   "source": [
    "def _halo_mass_function(M, z):\n",
    "    return mass_function.massFunction(M, z, mdef = '500c', model = 'bocquet16')\n",
    "\n",
    "halo_mass_function = np.vectorize(_halo_mass_function)"
   ]
  },
  {
   "cell_type": "code",
   "execution_count": 7,
   "id": "72960201-7540-499c-b719-8f054c7facee",
   "metadata": {},
   "outputs": [],
   "source": [
    "def set_gaussian_prior(param, mu, sigma):\n",
    "    return -0.5*((param - mu)/(sigma))**2\n",
    "\n",
    "# Setting SZE priors\n",
    "def set_prior_sze(theta_values):\n",
    "    lp = 0.\n",
    "    rhomin = 0.\n",
    "    rhomax = 1.\n",
    "    \n",
    "    for i, prior_name in enumerate(['A_sze', 'B_sze', 'C_sze', 'scatter_sze']):\n",
    "        mean, error = SZ_Priors[prior_name]\n",
    "        param = theta_values[i]\n",
    "        result = set_gaussian_prior(param, mean, error)\n",
    "        lp += np.where(np.abs(result)>9., -np.inf, result)\n",
    "        # outside a range of six sigmas (six standard deviations)\n",
    "    \n",
    "    lp += 0. if (theta_values[-1] > 0) else -np.inf\n",
    "    return lp\n",
    "\n",
    "# Setting Lambda priors\n",
    "def set_prior_lambda(theta_values):\n",
    "    lp = 0.\n",
    "    rhomin = -1.\n",
    "    rhomax = 1.\n",
    "    \n",
    "    for i, prior_name in enumerate(['A_lambda', 'B_lambda', 'C_lambda', 'scatter_lambda']):\n",
    "        mean, error = Lambda_Priors[prior_name]\n",
    "        param = theta_values[i]\n",
    "        result = set_gaussian_prior(param, mean, error)\n",
    "        lp += np.where(np.abs(result)>9., -np.inf, result)\n",
    "        # outside a range of six sigmas (six standard deviations)\n",
    "       \n",
    "    # set prior to 1 (log prior to 0) if in the range and zero (-inf) outside the range\n",
    "    lp += 0. if (theta_values[-1] > 0) else -np.inf\n",
    "    return lp"
   ]
  },
  {
   "cell_type": "code",
   "execution_count": 8,
   "id": "3ff9cd14-2d06-4d23-981c-895761b798bf",
   "metadata": {},
   "outputs": [],
   "source": [
    "def ln_zeta_given_M(theta_sze,M,z):\n",
    "    A_sze, B_sze, C_sze, scatter_sze = theta_sze\n",
    "    return (np.log(A_sze) + (B_sze)*np.log(M/M0) + (C_sze)*(np.log(E(z)/Ez0)))\n",
    "\n",
    "def ln_lbd_given_M(theta_lambda,M,z):\n",
    "    A_lambda, B_lambda, C_lambda, scatter_lambda = theta_lambda\n",
    "    return (np.log(A_lambda) + (B_lambda)*np.log(M/M0) + (C_lambda)*(np.log(E(z)/Ez0)))\n",
    "\n",
    "def logNormal_variance(mu,std):\n",
    "    return (np.exp(std**2)-1)*np.exp(2*mu+std**2)"
   ]
  },
  {
   "cell_type": "code",
   "execution_count": 9,
   "id": "d3fe092c-54fe-4440-a1df-b7ebe9f222a8",
   "metadata": {},
   "outputs": [],
   "source": [
    "#### DEFINING THE FUNCTION PRIOR ####\n",
    "\n",
    "SZ_Priors = {'A_sze':[5.24, 0.85], 'B_sze':[1.534, 0.100],'C_sze':[0.465, 0.407],\n",
    "             'scatter_sze':[0.161, 0.080]}\n",
    "\n",
    "sz_theta_values = ['A_sze', 'B_sze', 'C_sze', 'scatter_sze']\n",
    "\n",
    "## gaussian priors on lambda with 3 sigma from the true params\n",
    "Lambda_Priors = {'A_lambda':[76.9, 3*8.2], 'B_lambda':[1.020, 5*0.080],'C_lambda':[0.23, 5*0.16],\n",
    "             'scatter_lambda':[0.23, 3.0*0.16]}\n",
    "\n",
    "lambda_theta_values = ['A_lambda', 'B_lambda', 'C_lambda', 'scatter_lambda']\n",
    "\n",
    "def logprior(theta):\n",
    "    A_lambda, B_lambda, C_lambda, scatter_lambda = theta[4:8]\n",
    "    A_sze, B_sze, C_sze, scatter_sze = theta[:4]\n",
    "    rho = theta[-1]\n",
    "    \n",
    "    lp_lambda = set_prior_lambda([A_lambda, B_lambda, C_lambda, scatter_lambda])\n",
    "    lp_sze = set_prior_sze([A_sze, B_sze, C_sze, scatter_sze])\n",
    "    \n",
    "    lp = 0. if ((rho >= -1.) and (rho <= 1.)) else -np.inf\n",
    "    return lp + lp_lambda + lp_sze"
   ]
  },
  {
   "cell_type": "code",
   "execution_count": 10,
   "id": "6bfa5fbf-e484-43af-9233-b167c7eddd27",
   "metadata": {},
   "outputs": [],
   "source": [
    "def logposterior(theta, indices):\n",
    "    lp = logprior(theta)\n",
    "    if not np.isfinite(lp):\n",
    "        return -np.inf, -np.inf\n",
    "    \n",
    "    ll = log_likelihood(theta, indices)# + lp\n",
    "    if not np.isfinite(ll):\n",
    "        return lp, -np.inf\n",
    "    return lp + ll, lp"
   ]
  },
  {
   "cell_type": "code",
   "execution_count": 11,
   "id": "23b03c2c-32bb-4765-92ed-7c00a451b228",
   "metadata": {},
   "outputs": [],
   "source": [
    "def compute_log_pLbdZeta(Lambda, Zeta, scatter_lambda, scatter_sze, rho,\n",
    "                         ln_lbd_pred, ln_zeta_pred, eps = 1e-9):\n",
    "    # converting std to normal distribution\n",
    "    s_zeta = scatter_sze\n",
    "    s_lambda = scatter_lambda\n",
    "    s_lambda_inv = np.where(s_lambda<=eps, np.inf, 1/s_lambda)\n",
    "    s_zeta_inv = np.where(s_zeta<=eps, np.inf, 1/s_zeta)\n",
    "    \n",
    "    # avoid error messages\n",
    "    rho2 = (1-rho**2)\n",
    "    rho_inv = np.where(rho2<=eps, np.inf, 1/rho2)\n",
    "    cov2 = (s_lambda)**(2)*(s_zeta)**(2)*rho2\n",
    "    \n",
    "    additional_cov = (-0.5)*np.log(np.pi*cov2)\n",
    "\n",
    "    lbd_std = (np.log(Lambda) - ln_lbd_pred)*s_lambda_inv\n",
    "    zeta_std = (np.log(Zeta) - ln_zeta_pred)*s_zeta_inv\n",
    "\n",
    "    np.seterr(invalid='ignore')\n",
    "\n",
    "    # lbd_likelihood\n",
    "    lp_lbd  = (-rho_inv*lbd_std**2)/2.\n",
    "\n",
    "    # zeta likelihood\n",
    "    lp_zeta = (-rho_inv*zeta_std**2)/2.\n",
    "\n",
    "    # corr likelihod\n",
    "    lp_corr = rho*rho_inv*lbd_std*zeta_std\n",
    "    \n",
    "    # total likelihood\n",
    "    lp_total_m = lp_lbd + lp_zeta + lp_corr + additional_cov\n",
    "\n",
    "    return lp_total_m"
   ]
  },
  {
   "cell_type": "code",
   "execution_count": 12,
   "id": "cab4e2a7-df4f-4dce-811d-fac76e653169",
   "metadata": {},
   "outputs": [],
   "source": [
    "### Grid Setting\n",
    "nCores = 32\n",
    "Nzeta = 50 # Previously 100\n",
    "Nlbd = 100 # Previously 200\n",
    "Nmass = 100 # Previously 100\n",
    "Nz = 100\n",
    "alpha = 0.001\n",
    "\n",
    "### MCMC Setup\n",
    "theta_true = [5.24, 1.534, 0.465, 0.161, 76.9, 1.02, 0.29, 0.16, 0.8]\n",
    "Nburnin = 1000 # number of burn-in samples\n",
    "Nsamples = 10000 # number of final posterior samples\n",
    "walkers = 64\n",
    "ndims = len(theta_true)\n",
    "guess = (np.array(theta_true)[:, np.newaxis]*(1.+0.01*np.random.normal(size=(ndims,walkers)))).T\n",
    "\n",
    "# global variables\n",
    "M0 = 3e14\n",
    "Ez0 = E(0)"
   ]
  },
  {
   "cell_type": "markdown",
   "id": "902e0883-cfd1-43b4-938f-1440e7de8b17",
   "metadata": {},
   "source": [
    "## Fake Data Analysis"
   ]
  },
  {
   "cell_type": "code",
   "execution_count": 13,
   "id": "9484966b-913f-45b5-afa8-86f8a5eb58b3",
   "metadata": {},
   "outputs": [
    {
     "name": "stdout",
     "output_type": "stream",
     "text": [
      "[3.4479769  7.36820979 2.33470904 ... 2.43272596 4.14535818 4.03620543]\n",
      "[3.4479769  7.36820979 2.33470904 ... 2.43272596 4.14535818 4.03620543]\n"
     ]
    }
   ],
   "source": [
    "### CURRENT FAKE DATA FILE ###\n",
    "infile = 'fake_data_Jul4.csv'\n",
    "\n",
    "df = pd.read_csv(infile)\n",
    "mask = (df['lambda']>2.)&(df['zeta']>0.)\n",
    "ix = np.where(mask)[0]\n",
    "Np = ix.size\n",
    "    \n",
    "# Set Variables\n",
    "indices = np.arange(Np,dtype=int)\n",
    "yerr = 0.05*(df['lambda'].to_numpy())\n",
    "redshift = (np.array(df['z']))[ix]\n",
    "zeta = (np.array(df['zeta']))[ix]\n",
    "sz_signal = (np.array(df['chisi']))[ix]\n",
    "_lambda = (np.array(df['lambda_wo_noise']))[ix]\n",
    "_lambda_error = (np.array(yerr))[ix]\n",
    "mass = np.array(df['M'])[ix]\n",
    "## LAMBDA ERROR SHOULD BE USED SINCE IT IS THE [ix] VERSION OF YERR\n",
    "print(_lambda_error)\n",
    "print(yerr)"
   ]
  },
  {
   "cell_type": "code",
   "execution_count": 14,
   "id": "0b60d0ec-1b7c-45db-a3a3-0773eba31dec",
   "metadata": {},
   "outputs": [
    {
     "name": "stdout",
     "output_type": "stream",
     "text": [
      "Vector size\n",
      "lambda vec 100\n",
      "zeta vec 50\n",
      "mass vec 100\n",
      "Number of points 1318\n",
      "This is prob_lbd_hat_vec shape : (1318, 100)\n",
      "This is lbd_indices_vec: [[ 7 13]\n",
      " [22 33]\n",
      " [ 3  7]]\n",
      "This is zeta_indices_vec shape: (1318, 2)\n"
     ]
    }
   ],
   "source": [
    "# set up integration vectors\n",
    "zvec = np.linspace(np.min(redshift), np.max(redshift), Nz)\n",
    "mvec = np.logspace(13.8, 15.2, Nmass)\n",
    "lbdvec = np.linspace(0.8*np.min(_lambda), 1.2*np.max(_lambda), Nlbd)\n",
    "zetavec = np.linspace(1.5, 1.2*np.max(zeta), Nzeta)\n",
    "mm, zz, ll = np.meshgrid(mvec, zetavec, lbdvec, indexing='ij')\n",
    "\n",
    "zz2, mm2 = np.meshgrid(zvec, mvec)\n",
    "from scipy import interpolate\n",
    "halo_mass_function2 = interpolate.interp1d(zvec, halo_mass_function(mm2, zz2), kind='cubic')\n",
    "\n",
    "print('Vector size')\n",
    "print('lambda vec',lbdvec.size)\n",
    "print('zeta vec',zetavec.size)\n",
    "print('mass vec',mvec.size)\n",
    "print('Number of points',Np)\n",
    "\n",
    "prob_lbd_hat_vec = np.array([prob_lbd_hat(lbdvec, _lambda_i, _lambda_error_i)\n",
    "                             for _lambda_i, _lambda_error_i in zip(_lambda, _lambda_error)])\n",
    "prob_chisi_vec = np.array([prob_chisi(zetavec, sz_signal_i) for sz_signal_i in sz_signal])\n",
    "lbd_indices_vec = np.array([slice_array(pi, alpha=alpha) for pi in prob_lbd_hat_vec])\n",
    "zeta_indices_vec = np.array([slice_array(pi, alpha=alpha) for pi in prob_chisi_vec])\n",
    "\n",
    "print(\"This is prob_lbd_hat_vec shape :\", prob_lbd_hat_vec.shape)\n",
    "print(\"This is lbd_indices_vec:\", lbd_indices_vec[:3])\n",
    "print(\"This is zeta_indices_vec shape:\", zeta_indices_vec.shape)"
   ]
  },
  {
   "cell_type": "code",
   "execution_count": 15,
   "id": "854dfba9-020b-470e-8784-5fbf087f174d",
   "metadata": {},
   "outputs": [
    {
     "name": "stdout",
     "output_type": "stream",
     "text": [
      "The value of the logposterior using theta_true and sel:  (-300.8616029965712, -0.013446180555555555)\n",
      "The value of the logposterior using theta_true and indicies (STANDARD):  (-4029.684171144226, -0.013446180555555555)\n"
     ]
    }
   ],
   "source": [
    "sel = np.arange(len(redshift))#[:100]\n",
    "sel = np.random.randint(len(redshift), size=100, dtype=int)\n",
    "argslist = [sel]\n",
    "logposterior(theta_true, sel)\n",
    "print(\"The value of the logposterior using theta_true and sel: \", logposterior(theta_true, sel))\n",
    "indices = np.arange(len(mass))\n",
    "print(\"The value of the logposterior using theta_true and indicies (STANDARD): \", logposterior(theta_true, indices))"
   ]
  },
  {
   "cell_type": "code",
   "execution_count": 16,
   "id": "80976d9a-1d18-4e6c-9c80-4b873b3e0388",
   "metadata": {},
   "outputs": [
    {
     "data": {
      "text/plain": [
       "<matplotlib.collections.PathCollection at 0x155515d17310>"
      ]
     },
     "execution_count": 16,
     "metadata": {},
     "output_type": "execute_result"
    },
    {
     "data": {
      "image/png": "[encoded data removed]",
      "text/plain": [
       "<Figure size 432x288 with 1 Axes>"
      ]
     },
     "metadata": {
      "needs_background": "light"
     },
     "output_type": "display_data"
    }
   ],
   "source": [
    "# Copying the below code from the fake/real data section; compatible with older analysis\n",
    "# from Implementing the SPT Model\n",
    "# Setting grid for integration\n",
    "\n",
    "# the second variable is whatever is considered redshift[ix]\n",
    "# FAKE DATA: redshift = (np.array(df['z']))[ix]\n",
    "# FAKE DATA USAGE: (np.array(df['z']))[ix]\n",
    "mm, zz = np.meshgrid(mvec, (np.array(df['z']))[ix])\n",
    "\n",
    "# unfolding theta\n",
    "A_lambda, B_lambda, C_lambda, scatter_lambda = theta_true[4:8]\n",
    "A_sze, B_sze, C_sze, scatter_sze = theta_true[:4]\n",
    "rho = theta_true[-1]\n",
    "\n",
    "# calling predictions; \n",
    "ln_lbd_pred = (ln_lbd_given_M([A_lambda, B_lambda, C_lambda, scatter_lambda],mm,zz)).T\n",
    "ln_zeta_pred = (ln_zeta_given_M([A_sze, B_sze, C_sze, scatter_sze],mm,zz)).T\n",
    "\n",
    "halo_mass_func = (halo_mass_function(mm, zz)).T\n",
    "plt.loglog()\n",
    "plt.scatter(mvec, halo_mass_func[:,0])"
   ]
  },
  {
   "cell_type": "code",
   "execution_count": 17,
   "id": "cc7707ef-c38e-4a7c-9227-8a4f8c6afd5c",
   "metadata": {},
   "outputs": [],
   "source": [
    "# USING METHOD FROM \"Implementing the SPT Model\"\n",
    "# converting std to normal distribution\n",
    "eps=1e-9\n",
    "numberOfPoints = 10\n",
    "# OLD CODE: DON'T REDEFINE ix\n",
    "#ix = np.where(lambda_chisq>30)[0][:numberOfPoints] # take 10 points\n",
    "ix = np.where(mask)[0][:numberOfPoints]\n",
    "\n",
    "z = redshift\n",
    "chisi = sz_signal\n",
    "lbd_hat = _lambda\n",
    "lbd_err = _lambda_error\n",
    "lbd = lbd_hat[0]\n",
    "zeta = chisi[0]\n",
    "\n",
    "\n",
    "s_zeta = logNormal_variance(ln_zeta_pred, scatter_sze)\n",
    "s_lambda = logNormal_variance(ln_lbd_pred, scatter_lambda)\n",
    "\n",
    "# avoid error messages\n",
    "rho_inv = (1-rho**2)\n",
    "rho_inv = np.where(rho_inv<=eps, -np.inf, 1/rho_inv)\n",
    "\n",
    "# defining standirized variables\n",
    "lbd_std = (lbd - np.exp(ln_lbd_pred))/s_lambda\n",
    "zeta_std = (zeta - np.exp(ln_zeta_pred))/s_zeta\n",
    "\n",
    "# lbd_likelihood\n",
    "lp_lbd  = -rho_inv*lbd_std**2/2 -((lbd-lbd_hat)/lbd_err)**2/2.\n",
    "\n",
    "# zeta likelihood\n",
    "lp_zeta = -rho_inv*zeta_std**2/2 -(chisi-np.sqrt(zeta**2+3))**2/2.\n",
    "\n",
    "# corr likelihod\n",
    "lp_corr = rho*rho_inv*lbd_std*zeta_std\n",
    "\n",
    "lp_total_m = lp_lbd+lp_zeta+lp_corr\n",
    "p_total_m = np.exp(lp_total_m)*halo_mass_func\n",
    "\n",
    "# integrate over M\n",
    "p_total = np.trapz(p_total_m, x=mvec/M0, axis=0)"
   ]
  },
  {
   "cell_type": "code",
   "execution_count": 18,
   "id": "107380d2-1318-4eb9-ab23-625d72da2b9b",
   "metadata": {},
   "outputs": [
    {
     "data": {
      "text/plain": [
       "0.0022067414981261704"
      ]
     },
     "execution_count": 18,
     "metadata": {},
     "output_type": "execute_result"
    }
   ],
   "source": [
    "p_total[0]"
   ]
  },
  {
   "cell_type": "code",
   "execution_count": 19,
   "id": "066785e9-d27e-44f9-903f-3d0a46f32a35",
   "metadata": {},
   "outputs": [
    {
     "data": {
      "text/plain": [
       "<matplotlib.legend.Legend at 0x1555153b64f0>"
      ]
     },
     "execution_count": 19,
     "metadata": {},
     "output_type": "execute_result"
    },
    {
     "data": {
      "image/png": "[encoded data removed]",
      "text/plain": [
       "<Figure size 432x288 with 1 Axes>"
      ]
     },
     "metadata": {
      "needs_background": "light"
     },
     "output_type": "display_data"
    }
   ],
   "source": [
    "w, = np.where(np.abs(zeta_std[:,0])<2.)\n",
    "plt.scatter(mvec[w],zeta_std[:,0][w],label='zeta')\n",
    "plt.scatter(mvec[w],lbd_std[:,0][w],label='lambda')\n",
    "plt.xscale('log')\n",
    "plt.xlabel(r'M500c [M$_{\\odot}$]',fontsize=14)\n",
    "plt.ylabel('Standarized Variables',fontsize=14)\n",
    "plt.legend(fontsize=14)"
   ]
  },
  {
   "cell_type": "code",
   "execution_count": 20,
   "id": "f1ca3d41-b087-4b70-9e58-ac5dbef1975c",
   "metadata": {},
   "outputs": [
    {
     "data": {
      "text/plain": [
       "<matplotlib.legend.Legend at 0x1555152444c0>"
      ]
     },
     "execution_count": 20,
     "metadata": {},
     "output_type": "execute_result"
    },
    {
     "data": {
      "image/png": "[encoded data removed]",
      "text/plain": [
       "<Figure size 432x288 with 1 Axes>"
      ]
     },
     "metadata": {
      "needs_background": "light"
     },
     "output_type": "display_data"
    }
   ],
   "source": [
    "# plt.loglog()\n",
    "plt.scatter(mvec[w],lp_zeta[:,0][w],label='zeta')\n",
    "plt.scatter(mvec[w],lp_lbd[:,0][w],label='lambda')\n",
    "plt.scatter(mvec[w],lp_corr[:,0][w],label='corr')\n",
    "plt.plot(mvec[w],lp_total_m[:,0][w],label='all',color='k',ls='--')\n",
    "plt.xscale('log')\n",
    "plt.xlabel(r'M500c [M$_{\\odot}$]',fontsize=14)\n",
    "plt.ylabel('Likelihood 1d',fontsize=14)\n",
    "plt.legend(fontsize=14)"
   ]
  },
  {
   "cell_type": "code",
   "execution_count": 21,
   "id": "ff40f3d1-d489-421b-9df4-4466bde0c58b",
   "metadata": {},
   "outputs": [
    {
     "data": {
      "text/plain": [
       "<matplotlib.legend.Legend at 0x1555150df580>"
      ]
     },
     "execution_count": 21,
     "metadata": {},
     "output_type": "execute_result"
    },
    {
     "data": {
      "image/png": "[encoded data removed]",
      "text/plain": [
       "<Figure size 432x288 with 1 Axes>"
      ]
     },
     "metadata": {
      "needs_background": "light"
     },
     "output_type": "display_data"
    }
   ],
   "source": [
    "# plt.loglog()\n",
    "plt.scatter(mvec,p_total_m[:,0],label='w/ halo mass func.',color='k',ls='--')\n",
    "plt.xscale('log')\n",
    "plt.xlabel(r'M200c [M$_{\\odot}$]',fontsize=14)\n",
    "plt.ylabel('Likelihood (Bivariate)',fontsize=14)\n",
    "plt.title(r'$\\rm P(lbd, zeta| M, z) \\times \\frac{dN}{dM}$', fontsize=16)\n",
    "plt.legend(fontsize=14)"
   ]
  },
  {
   "cell_type": "code",
   "execution_count": 22,
   "id": "a3b353f3-da94-493b-8cdc-9adde00f9b19",
   "metadata": {},
   "outputs": [
    {
     "name": "stdout",
     "output_type": "stream",
     "text": [
      "[ 68.95953803 147.36419572  46.69418077 ...  48.65451912  82.90716351\n",
      "  80.72410862]\n",
      "[ 5.20914016 12.06097653  3.65536391 ...  3.52215507  6.39372515\n",
      "  6.72513345]\n"
     ]
    }
   ],
   "source": [
    "ix = np.arange(len(_lambda))[_lambda>0][np.argmax(_lambda[_lambda>0])]\n",
    "\n",
    "lbd_hat_i = _lambda\n",
    "lbd_err_i = _lambda_error\n",
    "chisi_i = sz_signal\n",
    "z_i = redshift\n",
    "print(lbd_hat_i)\n",
    "print(chisi_i)"
   ]
  },
  {
   "cell_type": "code",
   "execution_count": 23,
   "id": "80218b9b-d23b-493b-b097-8c28b170d143",
   "metadata": {},
   "outputs": [],
   "source": [
    "# 3-D OPERANDS CANNOT BE BROADCASTED\n",
    "\n",
    "# ln_lbd_pred = ln_lbd_given_M([A_lambda, B_lambda, C_lambda, scatter_lambda], mvec, z_i)\n",
    "# ln_zeta_pred= ln_zeta_given_M([A_sze, B_sze, C_sze, scatter_sze], mvec, z_i)\n",
    "# halo_mass_func = halo_mass_function(mvec, z_i)\n",
    "\n",
    "# hmf = np.tile(halo_mass_func, (len(lbdvec), len(zetavec), 1)).T\n",
    "# ln_lbd_pred = np.tile(ln_lbd_pred, (len(lbdvec), len(zetavec), 1)).T\n",
    "# ln_zeta_pred = np.tile(ln_zeta_pred, (len(lbdvec), len(zetavec), 1)).T\n",
    "# print(hmf.shape)"
   ]
  },
  {
   "cell_type": "code",
   "execution_count": 24,
   "id": "f8e07517-e18c-4b60-a8a6-3da317f04a69",
   "metadata": {},
   "outputs": [],
   "source": [
    "# 3-D OPERANDS CANNOT BE BROADCASTED\n",
    "\n",
    "# # converting std to normal distribution\n",
    "# s_zeta = logNormal_variance(ln_zeta_pred, scatter_sze)\n",
    "# s_lambda = logNormal_variance(ln_lbd_pred, scatter_lambda)\n",
    "\n",
    "# # avoid error messages\n",
    "# rho_inv = (1-rho**2)\n",
    "# rho_inv = np.where(rho_inv<=eps, -np.inf, 1/rho_inv)\n",
    "\n",
    "# # # defining standirized variables\n",
    "# lbd_std = (ll - np.exp(ln_lbd_pred))/s_lambda\n",
    "# zeta_std = (zz - np.exp(ln_zeta_pred))/s_zeta\n",
    "\n",
    "# # lbd_likelihood\n",
    "# lp_lbd  = -rho_inv*lbd_std**2/2 #-((ll-lbd_hat_i)/lbd_err_i)**2/2.\n",
    "\n",
    "# # zeta likelihood\n",
    "# lp_zeta = -rho_inv*zeta_std**2/2 #-(chisi_i-np.sqrt(zz**2+3))**2/2.\n",
    "\n",
    "# # corr likelihod\n",
    "# lp_corr = rho*rho_inv*lbd_std*zeta_std\n",
    "\n",
    "# lp_total_m = lp_lbd+lp_zeta+lp_corr\n",
    "# p_total_m = np.exp(lp_total_m)*hmf#/M0\n",
    "# #p_total_m = np.where(p_total_m<eps, 0., p_total_m)\n",
    "\n",
    "# # integrate over M\n",
    "# p_lbd_zeta = simps(p_total_m, x=mvec, axis=0)\n",
    "\n",
    "# print(ll.shape)\n",
    "# print(ln_lbd_pred.shape)"
   ]
  },
  {
   "cell_type": "code",
   "execution_count": 26,
   "id": "944de48f-5bf0-4005-9b4a-e9d0c344d624",
   "metadata": {},
   "outputs": [],
   "source": [
    "# 3-D OPERANDS CANNOT BE BROADCASTED\n",
    "# w, = np.where(np.abs(zeta_std[:,0,0])<11.)\n",
    "# plt.scatter(mvec[w],lp_zeta[:,0,0][w],label='zeta')\n",
    "# plt.scatter(mvec[w],lp_lbd[:,0,0][w],label='lambda')\n",
    "# plt.scatter(mvec[w],lp_corr[:,0,0][w],label='corr')\n",
    "# plt.plot(mvec[w],lp_total_m[:,0,0][w],label='all',color='k',ls='--')\n",
    "# plt.xscale('log')\n",
    "# plt.xlabel(r'M500c [M$_{\\odot}$]',fontsize=14)\n",
    "# plt.ylabel('Likelihood 1d',fontsize=14)\n",
    "# plt.legend(fontsize=14)"
   ]
  },
  {
   "cell_type": "markdown",
   "id": "594d71d8-d6fd-43dc-a72f-a116e871ba77",
   "metadata": {},
   "source": [
    "## Real Data Analysis"
   ]
  },
  {
   "cell_type": "code",
   "execution_count": 27,
   "id": "d03829a9-ce1a-4572-a481-361f5c1fe164",
   "metadata": {},
   "outputs": [],
   "source": [
    "### CURRENT REAL DATA FILE ###\n",
    "fname = '../data_set/sptecs_catalog_oct919.fits'\n",
    "\n",
    "data = Table(getdata(fname))\n",
    "ix = np.where(data['LAMBDA_CHISQ']>30)[0]\n",
    "Np = ix.size\n",
    " \n",
    "# Set Variables\n",
    "indices = np.arange(Np,dtype=int)\n",
    "sz_signal = np.array(data['XI'])[ix]\n",
    "zeta = np.sqrt(sz_signal**2-3)\n",
    "_lambda = np.array(data['LAMBDA_CHISQ'])[ix]\n",
    "_lambda_error = np.array(data['LAMBDA_CHISQ_E'])[ix]\n",
    "redshift = np.array(data['REDSHIFT'])[ix]\n",
    "mass = np.array(data['M500']*1e14)[ix]"
   ]
  },
  {
   "cell_type": "code",
   "execution_count": 28,
   "id": "21f4ff7e-f120-465a-b4be-3bdee6b90978",
   "metadata": {},
   "outputs": [
    {
     "name": "stdout",
     "output_type": "stream",
     "text": [
      "Vector size\n",
      "lambda vec 100\n",
      "zeta vec 50\n",
      "mass vec 100\n",
      "Number of points 266\n",
      "This is prob_lbd_hat_vec shape : (266, 100)\n",
      "This is lbd_indices_vec: [[20 34]\n",
      " [29 43]\n",
      " [14 29]]\n",
      "This is zeta_indices_vec shape: (266, 2)\n"
     ]
    }
   ],
   "source": [
    "# set up integration vectors\n",
    "zvec = np.linspace(np.min(redshift), np.max(redshift), Nz)\n",
    "mvec = np.logspace(13.8, 15.2, Nmass)\n",
    "lbdvec = np.linspace(0.8*np.min(_lambda), 1.2*np.max(_lambda), Nlbd)\n",
    "zetavec = np.linspace(1.5, 1.2*np.max(zeta), Nzeta)\n",
    "mm, zz, ll = np.meshgrid(mvec, zetavec, lbdvec, indexing='ij')\n",
    "\n",
    "zz2, mm2 = np.meshgrid(zvec, mvec)\n",
    "from scipy import interpolate\n",
    "halo_mass_function2 = interpolate.interp1d(zvec, halo_mass_function(mm2, zz2), kind='cubic')\n",
    "\n",
    "print('Vector size')\n",
    "print('lambda vec',lbdvec.size)\n",
    "print('zeta vec',zetavec.size)\n",
    "print('mass vec',mvec.size)\n",
    "print('Number of points',Np)\n",
    "\n",
    "prob_lbd_hat_vec = np.array([prob_lbd_hat(lbdvec, _lambda_i, _lambda_error_i)\n",
    "                             for _lambda_i, _lambda_error_i in zip(_lambda, _lambda_error)])\n",
    "prob_chisi_vec = np.array([prob_chisi(zetavec, sz_signal_i) for sz_signal_i in sz_signal])\n",
    "lbd_indices_vec = np.array([slice_array(pi, alpha=alpha) for pi in prob_lbd_hat_vec])\n",
    "zeta_indices_vec = np.array([slice_array(pi, alpha=alpha) for pi in prob_chisi_vec])\n",
    "\n",
    "print(\"This is prob_lbd_hat_vec shape :\", prob_lbd_hat_vec.shape)\n",
    "print(\"This is lbd_indices_vec:\", lbd_indices_vec[:3])\n",
    "print(\"This is zeta_indices_vec shape:\", zeta_indices_vec.shape)"
   ]
  },
  {
   "cell_type": "code",
   "execution_count": 29,
   "id": "8ff45e89-25e7-4aca-98fb-ca4d493540b3",
   "metadata": {},
   "outputs": [
    {
     "name": "stdout",
     "output_type": "stream",
     "text": [
      "The value of the logposterior using theta_true and sel:  (-345.9670661774137, -0.013446180555555555)\n",
      "The value of the logposterior using theta_true and indicies (STANDARD):  (-941.3979992599593, -0.013446180555555555)\n"
     ]
    }
   ],
   "source": [
    "sel = np.arange(len(redshift))#[:100]\n",
    "sel = np.random.randint(len(redshift), size=100, dtype=int)\n",
    "argslist = [sel]\n",
    "logposterior(theta_true, sel)\n",
    "print(\"The value of the logposterior using theta_true and sel: \", logposterior(theta_true, sel))\n",
    "indices = np.arange(len(mass))\n",
    "print(\"The value of the logposterior using theta_true and indicies (STANDARD): \", logposterior(theta_true, indices))"
   ]
  },
  {
   "cell_type": "code",
   "execution_count": 30,
   "id": "79eb0c8e-d5fd-4b49-a8a7-1c7f519778e8",
   "metadata": {},
   "outputs": [
    {
     "data": {
      "text/plain": [
       "<matplotlib.collections.PathCollection at 0x15551525f970>"
      ]
     },
     "execution_count": 30,
     "metadata": {},
     "output_type": "execute_result"
    },
    {
     "data": {
      "image/png": "[encoded data removed]",
      "text/plain": [
       "<Figure size 432x288 with 1 Axes>"
      ]
     },
     "metadata": {
      "needs_background": "light"
     },
     "output_type": "display_data"
    }
   ],
   "source": [
    "# Copying the below code from the fake/real data section; compatible with older analysis\n",
    "# from Implementing the SPT Model\n",
    "# Setting grid for integration\n",
    "\n",
    "# the second variable is whatever is considered redshift[ix]\n",
    "# REAL DATA: redshift = np.array(data['REDSHIFT'])[ix]\n",
    "# REAL DATA USAGE: np.array(data['REDSHIFT'])[ix]\n",
    "mm, zz = np.meshgrid(mvec, np.array(data['REDSHIFT'])[ix])\n",
    "\n",
    "# unfolding theta\n",
    "A_lambda, B_lambda, C_lambda, scatter_lambda = theta_true[4:8]\n",
    "A_sze, B_sze, C_sze, scatter_sze = theta_true[:4]\n",
    "rho = theta_true[-1]\n",
    "\n",
    "# calling predictions; \n",
    "ln_lbd_pred = (ln_lbd_given_M([A_lambda, B_lambda, C_lambda, scatter_lambda],mm,zz)).T\n",
    "ln_zeta_pred = (ln_zeta_given_M([A_sze, B_sze, C_sze, scatter_sze],mm,zz)).T\n",
    "\n",
    "halo_mass_func = (halo_mass_function(mm, zz)).T\n",
    "plt.loglog()\n",
    "plt.scatter(mvec, halo_mass_func[:,0])"
   ]
  },
  {
   "cell_type": "code",
   "execution_count": 31,
   "id": "ec891f3b-2206-48cf-956e-f229515040d1",
   "metadata": {},
   "outputs": [],
   "source": [
    "# USING METHOD FROM \"Implementing the SPT Model\"\n",
    "# converting std to normal distribution\n",
    "eps=1e-9\n",
    "numberOfPoints = 10\n",
    "# OLD CODE: DON'T REDEFINE ix\n",
    "#ix = np.where(lambda_chisq>30)[0][:numberOfPoints] # take 10 points\n",
    "ix = np.where(mask)[0][:numberOfPoints]\n",
    "\n",
    "z = redshift\n",
    "chisi = sz_signal\n",
    "lbd_hat = _lambda\n",
    "lbd_err = _lambda_error\n",
    "lbd = lbd_hat[0]\n",
    "zeta = chisi[0]\n",
    "\n",
    "\n",
    "s_zeta = logNormal_variance(ln_zeta_pred, scatter_sze)\n",
    "s_lambda = logNormal_variance(ln_lbd_pred, scatter_lambda)\n",
    "\n",
    "# avoid error messages\n",
    "rho_inv = (1-rho**2)\n",
    "rho_inv = np.where(rho_inv<=eps, -np.inf, 1/rho_inv)\n",
    "\n",
    "# defining standirized variables\n",
    "lbd_std = (lbd - np.exp(ln_lbd_pred))/s_lambda\n",
    "zeta_std = (zeta - np.exp(ln_zeta_pred))/s_zeta\n",
    "\n",
    "# lbd_likelihood\n",
    "lp_lbd  = -rho_inv*lbd_std**2/2 -((lbd-lbd_hat)/lbd_err)**2/2.\n",
    "\n",
    "# zeta likelihood\n",
    "lp_zeta = -rho_inv*zeta_std**2/2 -(chisi-np.sqrt(zeta**2+3))**2/2.\n",
    "\n",
    "# corr likelihod\n",
    "lp_corr = rho*rho_inv*lbd_std*zeta_std\n",
    "\n",
    "lp_total_m = lp_lbd+lp_zeta+lp_corr\n",
    "p_total_m = np.exp(lp_total_m)*halo_mass_func\n",
    "\n",
    "# integrate over M\n",
    "p_total = np.trapz(p_total_m, x=mvec/M0, axis=0)"
   ]
  },
  {
   "cell_type": "code",
   "execution_count": 32,
   "id": "76acc3be-a652-42fb-bd31-ca05987e8969",
   "metadata": {},
   "outputs": [
    {
     "data": {
      "text/plain": [
       "0.002318524293717598"
      ]
     },
     "execution_count": 32,
     "metadata": {},
     "output_type": "execute_result"
    }
   ],
   "source": [
    "p_total[0]"
   ]
  },
  {
   "cell_type": "code",
   "execution_count": 33,
   "id": "e1d98db2-41c0-4003-b63a-ad06df297a46",
   "metadata": {},
   "outputs": [
    {
     "data": {
      "text/plain": [
       "<matplotlib.legend.Legend at 0x155514dc1ee0>"
      ]
     },
     "execution_count": 33,
     "metadata": {},
     "output_type": "execute_result"
    },
    {
     "data": {
      "image/png": "[encoded data removed]",
      "text/plain": [
       "<Figure size 432x288 with 1 Axes>"
      ]
     },
     "metadata": {
      "needs_background": "light"
     },
     "output_type": "display_data"
    }
   ],
   "source": [
    "w, = np.where(np.abs(zeta_std[:,0])<2.)\n",
    "plt.scatter(mvec[w],zeta_std[:,0][w],label='zeta')\n",
    "plt.scatter(mvec[w],lbd_std[:,0][w],label='lambda')\n",
    "plt.xscale('log')\n",
    "plt.xlabel(r'M500c [M$_{\\odot}$]',fontsize=14)\n",
    "plt.ylabel('Standarized Variables',fontsize=14)\n",
    "plt.legend(fontsize=14)"
   ]
  },
  {
   "cell_type": "code",
   "execution_count": 34,
   "id": "7a4c7558-29d5-44ed-beef-2f12bfef5840",
   "metadata": {},
   "outputs": [
    {
     "data": {
      "text/plain": [
       "<matplotlib.legend.Legend at 0x155514d75f10>"
      ]
     },
     "execution_count": 34,
     "metadata": {},
     "output_type": "execute_result"
    },
    {
     "data": {
      "image/png": "[encoded data removed]",
      "text/plain": [
       "<Figure size 432x288 with 1 Axes>"
      ]
     },
     "metadata": {
      "needs_background": "light"
     },
     "output_type": "display_data"
    }
   ],
   "source": [
    "# plt.loglog()\n",
    "plt.scatter(mvec[w],lp_zeta[:,0][w],label='zeta')\n",
    "plt.scatter(mvec[w],lp_lbd[:,0][w],label='lambda')\n",
    "plt.scatter(mvec[w],lp_corr[:,0][w],label='corr')\n",
    "plt.plot(mvec[w],lp_total_m[:,0][w],label='all',color='k',ls='--')\n",
    "plt.xscale('log')\n",
    "plt.xlabel(r'M500c [M$_{\\odot}$]',fontsize=14)\n",
    "plt.ylabel('Likelihood 1d',fontsize=14)\n",
    "plt.legend(fontsize=14)"
   ]
  },
  {
   "cell_type": "code",
   "execution_count": 35,
   "id": "81a335df-df88-42f3-a697-29fdfa97e6c3",
   "metadata": {},
   "outputs": [
    {
     "data": {
      "text/plain": [
       "<matplotlib.legend.Legend at 0x155514c87940>"
      ]
     },
     "execution_count": 35,
     "metadata": {},
     "output_type": "execute_result"
    },
    {
     "data": {
      "image/png": "[encoded data removed]",
      "text/plain": [
       "<Figure size 432x288 with 1 Axes>"
      ]
     },
     "metadata": {
      "needs_background": "light"
     },
     "output_type": "display_data"
    }
   ],
   "source": [
    "# plt.loglog()\n",
    "plt.scatter(mvec,p_total_m[:,0],label='w/ halo mass func.',color='k',ls='--')\n",
    "plt.xscale('log')\n",
    "plt.xlabel(r'M200c [M$_{\\odot}$]',fontsize=14)\n",
    "plt.ylabel('Likelihood (Bivariate)',fontsize=14)\n",
    "plt.title(r'$\\rm P(lbd, zeta| M, z) \\times \\frac{dN}{dM}$', fontsize=16)\n",
    "plt.legend(fontsize=14)"
   ]
  },
  {
   "cell_type": "code",
   "execution_count": null,
   "id": "47889fe6-0e97-47fc-9b86-cd3b8563eeec",
   "metadata": {},
   "outputs": [],
   "source": []
  },
  {
   "cell_type": "code",
   "execution_count": 36,
   "id": "b8b86cae-a83d-4d4d-bba7-ed93033634d2",
   "metadata": {},
   "outputs": [],
   "source": [
    "# SAME ISSUE WITH OPERANDS NOT BEING ABLE TO BROADCAST\n",
    "\n",
    "# # forgot the mass\n",
    "# redshift_i = redshift[ix]\n",
    "# p_chisi = prob_chisi_vec[ix]\n",
    "# p_lbd_hat = prob_lbd_hat_vec[ix]\n",
    "# #p_lbd_hat_conv = prob_lbd_hat_conv[ix]\n",
    "# for x, y in list(lbd_indices_vec[ix]):\n",
    "#     llo, lup = x, y\n",
    "# #llo, lup = 0, len(lbdvec)#list(lbd_indices_vec[ix])\n",
    "# for x, y in list(zeta_indices_vec[ix]):\n",
    "#     clo, cup = x, y\n",
    "    \n",
    "# A_lambda, B_lambda, C_lambda, scatter_lambda = theta_true[4:8]\n",
    "# A_sze, B_sze, C_sze, scatter_sze = theta_true[:4]\n",
    "# rho = theta_true[-1]\n",
    "\n",
    "# # calling predictions;\n",
    "# ln_lbd_pred = ln_lbd_given_M([A_lambda, B_lambda, C_lambda, scatter_lambda], mvec, redshift_i)\n",
    "# ln_zeta_pred= ln_zeta_given_M([A_sze, B_sze, C_sze, scatter_sze], mvec, redshift_i)\n",
    "# halo_mass_func = halo_mass_function2(redshift_i)\n",
    "\n",
    "# ln_lbd_pred = ln_lbd_pred[:,np.newaxis,np.newaxis]\n",
    "# ln_zeta_pred= ln_zeta_pred[:,np.newaxis,np.newaxis]\n",
    "# hmf = halo_mass_func[:,np.newaxis,np.newaxis]\n",
    "\n",
    "# current_lp_total_m = compute_log_pLbdZeta(Lambda, Zeta, scatter_lambda, scatter_sze, rho,\n",
    "#                          ln_lbd_pred, ln_zeta_pred, eps = 1e-9)\n"
   ]
  },
  {
   "cell_type": "code",
   "execution_count": null,
   "id": "3fe1e8e6-3614-4b91-9f0d-4a8054bbfde7",
   "metadata": {},
   "outputs": [],
   "source": []
  }
 ],
 "metadata": {
  "kernelspec": {
   "display_name": "NERSC Python",
   "language": "python",
   "name": "python3"
  },
  "language_info": {
   "codemirror_mode": {
    "name": "ipython",
    "version": 3
   },
   "file_extension": ".py",
   "mimetype": "text/x-python",
   "name": "python",
   "nbconvert_exporter": "python",
   "pygments_lexer": "ipython3",
   "version": "3.9.7"
  }
 },
 "nbformat": 4,
 "nbformat_minor": 5
}
