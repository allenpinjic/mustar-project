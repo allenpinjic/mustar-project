{
 "cells": [
  {
   "cell_type": "markdown",
   "id": "62e3e8b1-1b48-433c-b4c5-05791c24ac41",
   "metadata": {},
   "source": [
    "# Very Simple Model"
   ]
  },
  {
   "cell_type": "markdown",
   "id": "72a6f421-e45e-4e0c-b683-66a4a0c81307",
   "metadata": {},
   "source": [
    "First, we don't model:\n",
    "- the errors on the observables\n",
    "- from IPython.core.display import display, HTMLthe halo mass function"
   ]
  },
  {
   "cell_type": "code",
   "execution_count": 1,
   "id": "bf8aa70e-814e-49dc-9b22-e1da1fe375ef",
   "metadata": {},
   "outputs": [],
   "source": [
    "from IPython.core.display import display, HTML"
   ]
  },
  {
   "cell_type": "markdown",
   "id": "c19aec24-79bd-46f7-877a-d83785b36384",
   "metadata": {},
   "source": [
    "Modifications: Johnny Esteves\n",
    "\n",
    "Author: Allen Pinjic - Created on June 21st, 2022"
   ]
  },
  {
   "cell_type": "code",
   "execution_count": 2,
   "id": "e388623f-4850-426b-80a5-bc7552aef7ad",
   "metadata": {},
   "outputs": [
    {
     "data": {
      "text/plain": [
       "<colossus.cosmology.cosmology.Cosmology at 0x7f2ad845e280>"
      ]
     },
     "execution_count": 2,
     "metadata": {},
     "output_type": "execute_result"
    }
   ],
   "source": [
    "from astropy.io.fits import getdata\n",
    "from astropy.table import Table\n",
    "from astropy.cosmology import WMAP9 as cosmo\n",
    "from colossus.cosmology import cosmology\n",
    "from colossus.lss import mass_function\n",
    "from __future__ import print_function, division\n",
    "cosmology.setCosmology('WMAP9')"
   ]
  },
  {
   "cell_type": "code",
   "execution_count": 3,
   "id": "6074352f-2b45-404a-a1df-e9a00995d56b",
   "metadata": {},
   "outputs": [],
   "source": [
    "import numpy as np\n",
    "import pandas as pd\n",
    "import matplotlib.pyplot as plt\n",
    "import pylab as plt\n",
    "import matplotlib.font_manager\n",
    "import scipy.stats\n",
    "import scipy.optimize\n",
    "import seaborn as sns\n",
    "import math\n",
    "import os\n",
    "import sys\n",
    "import emcee\n",
    "import pandas as pd"
   ]
  },
  {
   "cell_type": "code",
   "execution_count": 4,
   "id": "e6d33017-8c3a-4de9-96a0-62fd864805f9",
   "metadata": {},
   "outputs": [],
   "source": [
    "%matplotlib inline"
   ]
  },
  {
   "cell_type": "markdown",
   "id": "eb358a20-7c3d-482c-940a-a19a1a11bbee",
   "metadata": {},
   "source": [
    "# Creating an MCMC Model"
   ]
  },
  {
   "cell_type": "code",
   "execution_count": 5,
   "id": "09071253-db0a-400b-813b-83773b9eed65",
   "metadata": {},
   "outputs": [
    {
     "data": {
      "text/html": [
       "<div>\n",
       "<style scoped>\n",
       "    .dataframe tbody tr th:only-of-type {\n",
       "        vertical-align: middle;\n",
       "    }\n",
       "\n",
       "    .dataframe tbody tr th {\n",
       "        vertical-align: top;\n",
       "    }\n",
       "\n",
       "    .dataframe thead th {\n",
       "        text-align: right;\n",
       "    }\n",
       "</style>\n",
       "<table border=\"1\" class=\"dataframe\">\n",
       "  <thead>\n",
       "    <tr style=\"text-align: right;\">\n",
       "      <th></th>\n",
       "      <th>z</th>\n",
       "      <th>M</th>\n",
       "      <th>lambda</th>\n",
       "      <th>zeta</th>\n",
       "      <th>lambda_true</th>\n",
       "      <th>zeta_true</th>\n",
       "    </tr>\n",
       "  </thead>\n",
       "  <tbody>\n",
       "    <tr>\n",
       "      <th>0</th>\n",
       "      <td>0.316481</td>\n",
       "      <td>1.587627e+14</td>\n",
       "      <td>50.701638</td>\n",
       "      <td>2.852264</td>\n",
       "      <td>42.046416</td>\n",
       "      <td>2.123088</td>\n",
       "    </tr>\n",
       "    <tr>\n",
       "      <th>1</th>\n",
       "      <td>0.271402</td>\n",
       "      <td>1.365134e+14</td>\n",
       "      <td>28.244616</td>\n",
       "      <td>1.673184</td>\n",
       "      <td>35.791641</td>\n",
       "      <td>1.665205</td>\n",
       "    </tr>\n",
       "    <tr>\n",
       "      <th>2</th>\n",
       "      <td>0.356016</td>\n",
       "      <td>7.694109e+14</td>\n",
       "      <td>306.196703</td>\n",
       "      <td>29.580211</td>\n",
       "      <td>211.632753</td>\n",
       "      <td>24.142014</td>\n",
       "    </tr>\n",
       "    <tr>\n",
       "      <th>3</th>\n",
       "      <td>0.641366</td>\n",
       "      <td>1.710156e+14</td>\n",
       "      <td>49.448419</td>\n",
       "      <td>2.806810</td>\n",
       "      <td>47.863622</td>\n",
       "      <td>2.593742</td>\n",
       "    </tr>\n",
       "    <tr>\n",
       "      <th>4</th>\n",
       "      <td>0.321785</td>\n",
       "      <td>3.659995e+14</td>\n",
       "      <td>91.881499</td>\n",
       "      <td>8.352681</td>\n",
       "      <td>98.646153</td>\n",
       "      <td>7.655673</td>\n",
       "    </tr>\n",
       "    <tr>\n",
       "      <th>...</th>\n",
       "      <td>...</td>\n",
       "      <td>...</td>\n",
       "      <td>...</td>\n",
       "      <td>...</td>\n",
       "      <td>...</td>\n",
       "      <td>...</td>\n",
       "    </tr>\n",
       "    <tr>\n",
       "      <th>995</th>\n",
       "      <td>0.641944</td>\n",
       "      <td>1.372731e+14</td>\n",
       "      <td>36.894000</td>\n",
       "      <td>1.814944</td>\n",
       "      <td>38.255049</td>\n",
       "      <td>1.851715</td>\n",
       "    </tr>\n",
       "    <tr>\n",
       "      <th>996</th>\n",
       "      <td>0.913352</td>\n",
       "      <td>1.363414e+14</td>\n",
       "      <td>59.701825</td>\n",
       "      <td>2.557670</td>\n",
       "      <td>39.776608</td>\n",
       "      <td>1.972583</td>\n",
       "    </tr>\n",
       "    <tr>\n",
       "      <th>997</th>\n",
       "      <td>0.266486</td>\n",
       "      <td>1.009999e+14</td>\n",
       "      <td>28.243455</td>\n",
       "      <td>1.157683</td>\n",
       "      <td>26.301498</td>\n",
       "      <td>1.047632</td>\n",
       "    </tr>\n",
       "    <tr>\n",
       "      <th>998</th>\n",
       "      <td>0.169713</td>\n",
       "      <td>1.355374e+14</td>\n",
       "      <td>39.018022</td>\n",
       "      <td>1.537474</td>\n",
       "      <td>34.991528</td>\n",
       "      <td>1.607091</td>\n",
       "    </tr>\n",
       "    <tr>\n",
       "      <th>999</th>\n",
       "      <td>0.472253</td>\n",
       "      <td>1.386978e+14</td>\n",
       "      <td>35.691975</td>\n",
       "      <td>1.808865</td>\n",
       "      <td>37.572222</td>\n",
       "      <td>1.797120</td>\n",
       "    </tr>\n",
       "  </tbody>\n",
       "</table>\n",
       "<p>1000 rows × 6 columns</p>\n",
       "</div>"
      ],
      "text/plain": [
       "            z             M      lambda       zeta  lambda_true  zeta_true\n",
       "0    0.316481  1.587627e+14   50.701638   2.852264    42.046416   2.123088\n",
       "1    0.271402  1.365134e+14   28.244616   1.673184    35.791641   1.665205\n",
       "2    0.356016  7.694109e+14  306.196703  29.580211   211.632753  24.142014\n",
       "3    0.641366  1.710156e+14   49.448419   2.806810    47.863622   2.593742\n",
       "4    0.321785  3.659995e+14   91.881499   8.352681    98.646153   7.655673\n",
       "..        ...           ...         ...        ...          ...        ...\n",
       "995  0.641944  1.372731e+14   36.894000   1.814944    38.255049   1.851715\n",
       "996  0.913352  1.363414e+14   59.701825   2.557670    39.776608   1.972583\n",
       "997  0.266486  1.009999e+14   28.243455   1.157683    26.301498   1.047632\n",
       "998  0.169713  1.355374e+14   39.018022   1.537474    34.991528   1.607091\n",
       "999  0.472253  1.386978e+14   35.691975   1.808865    37.572222   1.797120\n",
       "\n",
       "[1000 rows x 6 columns]"
      ]
     },
     "execution_count": 5,
     "metadata": {},
     "output_type": "execute_result"
    }
   ],
   "source": [
    "df = pd.read_csv('fake_data_Jun21.csv')\n",
    "df"
   ]
  },
  {
   "cell_type": "code",
   "execution_count": 6,
   "id": "7251a317-eb4e-4db8-b6cb-896fe7d92e18",
   "metadata": {},
   "outputs": [],
   "source": [
    "SZ_Priors = {'A_sze':[5.24, 0.85], 'B_sze':[1.534, 0.100],'C_sze':[0.465, 0.407],\n",
    "             'scatter_sze':[0.161, 0.080]}\n",
    "\n",
    "sz_theta_values = ['A_sze', 'B_sze', 'C_sze', 'scatter_sze']\n",
    "\n",
    "Lambda_Priors = {'A_lambda':[76.9, 8.2], 'B_lambda':[1.020, 0.080],'C_lambda':[0.23, 0.16],\n",
    "             'scatter_lambda':[0.23, 0.16]}\n",
    "\n",
    "lambda_theta_values = ['A_lambda', 'B_lambda', 'C_lambda', 'scatter_lambda']"
   ]
  },
  {
   "cell_type": "code",
   "execution_count": 7,
   "id": "45e9b629-8372-4205-ac36-835707b72a2d",
   "metadata": {},
   "outputs": [
    {
     "name": "stdout",
     "output_type": "stream",
     "text": [
      "Number of points 318\n"
     ]
    }
   ],
   "source": [
    "mask = (df['lambda']>5)&(df['zeta']>3)\n",
    "ix = np.where(mask)[0]\n",
    "Np = ix.size\n",
    "\n",
    "## changin here\n",
    "yerr = 0.05*(df['lambda'].to_numpy())\n",
    "\n",
    "redshift = (np.array(df['z']))[ix]\n",
    "sz_signal = (np.array(df['zeta']))[ix]\n",
    "_lambda = (np.array(df['lambda']))[ix]\n",
    "_lambda_error = (np.array(yerr))[ix]\n",
    "mass = np.array(df['M'])[ix]\n",
    "\n",
    "print('Number of points',Np)"
   ]
  },
  {
   "cell_type": "code",
   "execution_count": 8,
   "id": "aff7f7df-711f-434c-9e79-4da54732c58b",
   "metadata": {},
   "outputs": [
    {
     "data": {
      "text/plain": [
       "<matplotlib.collections.PathCollection at 0x7f2aca3d1160>"
      ]
     },
     "execution_count": 8,
     "metadata": {},
     "output_type": "execute_result"
    },
    {
     "data": {
      "image/png": "[encoded data removed]",
      "text/plain": [
       "<Figure size 432x288 with 1 Axes>"
      ]
     },
     "metadata": {
      "needs_background": "light"
     },
     "output_type": "display_data"
    }
   ],
   "source": [
    "# plt.loglog()\n",
    "plt.scatter(_lambda, _lambda_error)"
   ]
  },
  {
   "cell_type": "code",
   "execution_count": 9,
   "id": "550c5335-2489-40c9-87ca-22f28cf2348e",
   "metadata": {},
   "outputs": [
    {
     "name": "stdout",
     "output_type": "stream",
     "text": [
      "Vector size\n",
      "150\n",
      "75\n"
     ]
    }
   ],
   "source": [
    "# set up integration vectors\n",
    "zvec = np.linspace(np.min(np.array(df['z'])), np.max(np.array(df['z'])), 100)\n",
    "mvec = np.logspace(13.8, 15.2, 75)\n",
    "lbdvec = np.linspace(3, 1.2*np.max(np.array(df['lambda'])), 150)\n",
    "zetavec = np.linspace(1, 1.1*np.max(np.array(df['zeta'])), 75)\n",
    "\n",
    "print('Vector size')\n",
    "print(lbdvec.size)\n",
    "print(zetavec.size)"
   ]
  },
  {
   "cell_type": "code",
   "execution_count": 10,
   "id": "cfda0144-75c1-490d-8f30-9ee6b5bb9f3d",
   "metadata": {},
   "outputs": [],
   "source": [
    "theta_true = [5.24, 1.534, 0.465, 0.161, 76.9, 1.02, 0.29, 0.16, 0.8]\n",
    "Nburnin = 1000 # number of burn-in samples\n",
    "Nsamples = 5000 # number of final posterior samples\n",
    "walkers = 32\n",
    "ndims = len(theta_true)\n",
    "\n",
    "guess = (np.array(theta_true)[:, np.newaxis]*(1.+0.01*np.random.normal(size=(ndims,walkers)))).T"
   ]
  },
  {
   "cell_type": "code",
   "execution_count": 11,
   "id": "840b31c9-a172-4e48-a5f9-d8f70644df5b",
   "metadata": {},
   "outputs": [],
   "source": [
    "def ln_zeta_given_M(theta_sze,M,z):\n",
    "    A_sze, B_sze, C_sze, scatter_sze = theta_sze\n",
    "    return (np.log(A_sze) + (B_sze)*np.log(M/M0) + (C_sze)*(np.log(E(z)/Ez0)))\n",
    "\n",
    "def ln_lbd_given_M(theta_lambda,M,z):\n",
    "    A_lambda, B_lambda, C_lambda, scatter_lambda = theta_lambda\n",
    "    return (np.log(A_lambda) + (B_lambda)*np.log(M/M0) + (C_lambda)*(np.log(E(z)/Ez0)))\n",
    "\n",
    "def logNormal_variance(mu,std):\n",
    "    return (np.exp(std**2)-1)*np.exp(2*mu+std**2)\n",
    "\n",
    "def E(z):\n",
    "    # The Hubble constant at the value of z\n",
    "    Hz = cosmo.H(z).value\n",
    "    # The Hubble constant at z=0\n",
    "    H0 = cosmo.H(0).value\n",
    "    return (Hz/H0)\n",
    "\n",
    "M0 = 3e14\n",
    "Ez0 = E(0)"
   ]
  },
  {
   "cell_type": "code",
   "execution_count": 12,
   "id": "3c2aaf3a-9d6b-43b2-b769-628d1a49a968",
   "metadata": {},
   "outputs": [],
   "source": [
    "# mmm had a shape (Ncls,300,150)"
   ]
  },
  {
   "cell_type": "code",
   "execution_count": 13,
   "id": "dde3a6c1-c027-432e-8aa6-7c1b68dc9a11",
   "metadata": {},
   "outputs": [],
   "source": [
    "def log_likelihood_very_simple(theta):\n",
    "    # unfolding theta\n",
    "    A_lambda, B_lambda, C_lambda, scatter_lambda = theta[4:8]\n",
    "    A_sze, B_sze, C_sze, scatter_sze = theta[:4]\n",
    "    rho = theta[-1]\n",
    "        \n",
    "    # calling predictions;\n",
    "    ln_lbd_pred = ln_lbd_given_M([A_lambda, B_lambda, C_lambda, scatter_lambda], mass, redshift)\n",
    "    ln_zeta_pred= ln_zeta_given_M([A_sze, B_sze, C_sze, scatter_sze], mass, redshift)\n",
    "        \n",
    "    # compute dn_dlbd_dzeta_integrand\n",
    "    # Now p_lbd_zeta instead of p_total_m = compute_dn_dlbd_dzeta_vec2\n",
    "    lp_lbd_zeta = compute_log_pLbdZeta(_lambda, sz_signal,\n",
    "                                       scatter_lambda, scatter_sze, rho,\n",
    "                                       ln_lbd_pred, ln_zeta_pred)\n",
    "    return np.nansum(lp_lbd_zeta)\n",
    "\n",
    "def compute_log_pLbdZeta(Lambda, Zeta, scatter_lambda, scatter_sze, rho,\n",
    "                         ln_lbd_pred, ln_zeta_pred, eps = 1e-9):\n",
    "    # converting std to normal distribution\n",
    "    s_zeta = scatter_sze#logNormal_variance(ln_zeta_pred, scatter_sze)\n",
    "    s_lambda = scatter_lambda#logNormal_variance(ln_lbd_pred, scatter_lambda)\n",
    "    \n",
    "    s_lambda_inv = np.where(s_lambda<=eps, np.inf, 1/s_lambda)\n",
    "    s_zeta_inv = np.where(s_zeta<=eps, np.inf, 1/s_zeta)\n",
    "    \n",
    "    # avoid error messages\n",
    "    rho2 = (1-rho**2)\n",
    "    rho_inv = np.where(rho2<=eps, np.inf, 1/rho2)\n",
    "    \n",
    "    cov2 = (s_lambda)**(2)*(s_zeta)**(2)*rho2\n",
    "    additional_cov = (-0.5)*np.log(np.pi*cov2)\n",
    "        \n",
    "    lbd_std = (np.log(Lambda) - ln_lbd_pred)*s_lambda_inv\n",
    "    zeta_std = (np.log(Zeta) - ln_zeta_pred)*s_zeta_inv\n",
    "    #np.seterr(invalid='ignore')\n",
    "\n",
    "    # lbd_likelihood\n",
    "    lp_lbd  = (-rho_inv*lbd_std**2)/2.\n",
    "\n",
    "    # zeta likelihood\n",
    "    lp_zeta = (-rho_inv*zeta_std**2)/2.\n",
    "\n",
    "    # corr likelihod\n",
    "    lp_corr = rho*rho_inv*lbd_std*zeta_std\n",
    "    \n",
    "    # total likelihood\n",
    "    lp_total_m = lp_lbd + lp_zeta + lp_corr + additional_cov\n",
    "    \n",
    "    # logNomral term\n",
    "    #lp_total_m += -np.log(Lambda)-np.log(Zeta)\n",
    "    return lp_total_m"
   ]
  },
  {
   "cell_type": "markdown",
   "id": "d75e95af-9be0-4c46-a578-745d91e58098",
   "metadata": {},
   "source": [
    "# Checking the Log Likelihood Function"
   ]
  },
  {
   "cell_type": "code",
   "execution_count": 14,
   "id": "31300785-ff46-443b-a4c6-9c3ced7715a0",
   "metadata": {},
   "outputs": [
    {
     "data": {
      "text/plain": [
       "725.3610428162804"
      ]
     },
     "execution_count": 14,
     "metadata": {},
     "output_type": "execute_result"
    }
   ],
   "source": [
    "log_likelihood_very_simple(theta_true)"
   ]
  },
  {
   "cell_type": "code",
   "execution_count": 15,
   "id": "55cf0fc7-9485-46b7-b4f6-b9a4bf03bc20",
   "metadata": {},
   "outputs": [
    {
     "data": {
      "text/plain": [
       "-226896.03963111073"
      ]
     },
     "execution_count": 15,
     "metadata": {},
     "output_type": "execute_result"
    }
   ],
   "source": [
    "# a quick of 10% from the truth\n",
    "initial = theta_true + 0.2 * np.random.randn(9)\n",
    "log_likelihood_very_simple(initial)"
   ]
  },
  {
   "cell_type": "code",
   "execution_count": 16,
   "id": "2f912231-07eb-4a6a-9899-c58ad66afabe",
   "metadata": {},
   "outputs": [
    {
     "name": "stderr",
     "output_type": "stream",
     "text": [
      "<ipython-input-13-5508ea45f026>:48: RuntimeWarning: invalid value encountered in add\n",
      "  lp_total_m = lp_lbd + lp_zeta + lp_corr + additional_cov\n",
      "<ipython-input-13-5508ea45f026>:32: RuntimeWarning: invalid value encountered in log\n",
      "  additional_cov = (-0.5)*np.log(np.pi*cov2)\n"
     ]
    }
   ],
   "source": [
    "## plotting this results\n",
    "np.random.seed(42)\n",
    "lps = [-1.*log_likelihood_very_simple(theta_true)]\n",
    "dist = [0.]\n",
    "# increase the quick from the truth\n",
    "for i in [1.,5.,10.,15.,20.,25.,30.,60]:\n",
    "    initial = theta_true + (i/100.) * np.random.randn(9)\n",
    "    nDist = np.linalg.norm(np.array(theta_true)-np.array(initial))\n",
    "    lps.append(-1.*log_likelihood_very_simple(initial))\n",
    "    dist.append(nDist)"
   ]
  },
  {
   "cell_type": "code",
   "execution_count": 17,
   "id": "96b53786-91b8-42d7-a3c6-1ffbdd38e998",
   "metadata": {},
   "outputs": [
    {
     "data": {
      "text/plain": [
       "[-725.3610428162804,\n",
       " -736.935846819877,\n",
       " -497.34347440095814,\n",
       " -727.5153668864805,\n",
       " 71.77385848575618,\n",
       " -402.9298756227247,\n",
       " inf,\n",
       " 642.7454613128948,\n",
       " -0.0]"
      ]
     },
     "execution_count": 17,
     "metadata": {},
     "output_type": "execute_result"
    }
   ],
   "source": [
    "lps"
   ]
  },
  {
   "cell_type": "code",
   "execution_count": 18,
   "id": "45c76c8c-fc06-431f-af9b-208bff341b7c",
   "metadata": {},
   "outputs": [
    {
     "data": {
      "image/png": "[encoded data removed]",
      "text/plain": [
       "<Figure size 432x288 with 1 Axes>"
      ]
     },
     "metadata": {
      "needs_background": "light"
     },
     "output_type": "display_data"
    }
   ],
   "source": [
    "plt.scatter(dist,np.array(lps)-np.min(lps)+1.)\n",
    "plt.ylabel('LogLikelihood - Min')\n",
    "plt.xlabel(r'|$\\theta-\\theta_{random}$|')\n",
    "plt.yscale('log')"
   ]
  },
  {
   "cell_type": "code",
   "execution_count": 19,
   "id": "81968043-a201-467d-be42-0b2880c46a60",
   "metadata": {},
   "outputs": [
    {
     "name": "stdout",
     "output_type": "stream",
     "text": [
      "Very Simple Model took 0.2 seconds\n"
     ]
    },
    {
     "name": "stderr",
     "output_type": "stream",
     "text": [
      "<ipython-input-13-5508ea45f026>:48: RuntimeWarning: invalid value encountered in add\n",
      "  lp_total_m = lp_lbd + lp_zeta + lp_corr + additional_cov\n",
      "/data0/sw/anaconda3/lib/python3.8/site-packages/scipy/optimize/_numdiff.py:557: RuntimeWarning: invalid value encountered in subtract\n",
      "  df = fun(x) - f0\n",
      "<ipython-input-13-5508ea45f026>:48: RuntimeWarning: invalid value encountered in add\n",
      "  lp_total_m = lp_lbd + lp_zeta + lp_corr + additional_cov\n"
     ]
    }
   ],
   "source": [
    "import time\n",
    "start = time.time()\n",
    "from scipy.optimize import minimize\n",
    "\n",
    "np.random.seed(42)\n",
    "nll = lambda *args: -log_likelihood_very_simple(*args)\n",
    "initial = theta_true + 0.05 * np.random.randn(9)\n",
    "soln = minimize(nll, initial)\n",
    "end = time.time()\n",
    "vsp_time = end - start\n",
    "print(\"Very Simple Model took {0:.1f} seconds\".format(vsp_time))"
   ]
  },
  {
   "cell_type": "code",
   "execution_count": 20,
   "id": "04e1963a-5276-4675-b0e3-0bd0e2e440d1",
   "metadata": {},
   "outputs": [
    {
     "name": "stdout",
     "output_type": "stream",
     "text": [
      "Maximum likelihood estimates:\n",
      "Albd = 79.578\n",
      "Blbd = 0.937\n",
      "Clbd = 0.271\n",
      "Scatter_lbd = 0.166\n",
      "rho: 0.716\n"
     ]
    }
   ],
   "source": [
    "albd, blbd, clbd, slbd, rho = soln.x[4:]\n",
    "\n",
    "print(\"Maximum likelihood estimates:\")\n",
    "print(\"Albd = {0:.3f}\".format(albd))\n",
    "print(\"Blbd = {0:.3f}\".format(blbd))\n",
    "print(\"Clbd = {0:.3f}\".format(clbd))\n",
    "print(\"Scatter_lbd = {0:.3f}\".format(slbd))\n",
    "print(\"rho: {0:.3f}\".format(rho))"
   ]
  },
  {
   "cell_type": "code",
   "execution_count": 21,
   "id": "99ebb682-3f1e-4f26-a49c-6458fb9b8065",
   "metadata": {},
   "outputs": [
    {
     "data": {
      "text/plain": [
       "[5.24, 1.534, 0.465, 0.161, 76.9, 1.02, 0.29, 0.16, 0.8]"
      ]
     },
     "execution_count": 21,
     "metadata": {},
     "output_type": "execute_result"
    }
   ],
   "source": [
    "theta_true"
   ]
  },
  {
   "cell_type": "code",
   "execution_count": 22,
   "id": "bb6b0e75-3506-4ba1-98bf-fb93f7ed0354",
   "metadata": {},
   "outputs": [
    {
     "data": {
      "text/plain": [
       "array([ 5.4639723 ,  1.43362543,  0.4660078 ,  0.1632778 , 79.57839937,\n",
       "        0.93700703,  0.27078264,  0.16588645,  0.71564494])"
      ]
     },
     "execution_count": 22,
     "metadata": {},
     "output_type": "execute_result"
    }
   ],
   "source": [
    "soln.x"
   ]
  },
  {
   "cell_type": "code",
   "execution_count": 23,
   "id": "cb8006ac-d98a-4f2d-a559-991c27f3d136",
   "metadata": {},
   "outputs": [],
   "source": [
    "def logposterior_vsp(theta):\n",
    "    lp = logprior(theta)\n",
    "    \n",
    "    # if the prior is not finite return a probability of zero (log probability of -inf)\n",
    "    if not np.isfinite(lp):\n",
    "        return -np.inf\n",
    "    \n",
    "    # return the likeihood times the prior (log likelihood plus the log prior)\n",
    "    return lp + log_likelihood_very_simple(theta)"
   ]
  },
  {
   "cell_type": "markdown",
   "id": "a1ce31eb-a7e8-4e13-b55b-affb481f8a76",
   "metadata": {},
   "source": [
    "# Implementing Simple LogLikelihood Model"
   ]
  },
  {
   "cell_type": "code",
   "execution_count": null,
   "id": "610c4685-3d61-4a68-b6f8-5cc2fbd7af80",
   "metadata": {},
   "outputs": [
    {
     "name": "stdout",
     "output_type": "stream",
     "text": [
      "emcee: Exception while calling your likelihood function:emcee: Exception while calling your likelihood function:emcee: Exception while calling your likelihood function:emcee: Exception while calling your likelihood function:emcee: Exception while calling your likelihood function:emcee: Exception while calling your likelihood function:emcee: Exception while calling your likelihood function:emcee: Exception while calling your likelihood function:emcee: Exception while calling your likelihood function:emcee: Exception while calling your likelihood function:emcee: Exception while calling your likelihood function:emcee: Exception while calling your likelihood function:emcee: Exception while calling your likelihood function:\n",
      "\n",
      "\n",
      "emcee: Exception while calling your likelihood function:\n",
      "emcee: Exception while calling your likelihood function:emcee: Exception while calling your likelihood function:emcee: Exception while calling your likelihood function:emcee: Exception while calling your likelihood function:emcee: Exception while calling your likelihood function:\n",
      "emcee: Exception while calling your likelihood function:\n",
      "emcee: Exception while calling your likelihood function:\n",
      "\n",
      "\n",
      "\n",
      "\n",
      "\n",
      "  params:emcee: Exception while calling your likelihood function:emcee: Exception while calling your likelihood function:emcee: Exception while calling your likelihood function:emcee: Exception while calling your likelihood function:emcee: Exception while calling your likelihood function:\n",
      "emcee: Exception while calling your likelihood function:emcee: Exception while calling your likelihood function:emcee: Exception while calling your likelihood function:  params:emcee: Exception while calling your likelihood function:  params:  params:emcee: Exception while calling your likelihood function:\n",
      "\n",
      "\n",
      "\n",
      "\n",
      "  params:\n",
      "  params:\n",
      "\n",
      "  params:  params:  params:  params:  params:  params: \n",
      "\n",
      "\n",
      "\n",
      "  params:\n",
      "\n",
      "\n",
      "  \n",
      " \n",
      "\n",
      "  params:  params:  params:  params:  params:   params:   params:  params:        params:  params:  params:  params: emcee: Exception while calling your likelihood function:  params:  params:  params:[ 5.22316099  1.51544957  0.46219743  0.16208971 76.1188575   1.0208649\n",
      "  0.29192732  0.16003517  0.79072121]  params:[ 5.31063843  1.52980523  0.46636887  0.1608934  74.87065925  1.02334834\n",
      "  0.29122239  0.15806766  0.80594839]  params:  params:    [ 5.21814613  1.55148426  0.46528966  0.15813846 78.14771151  1.03165048\n",
      "  0.28555757  0.16163896  0.80037046] [ 5.19472468  1.53073924  0.46055416  0.16199287 75.06916421  1.00904781\n",
      "  0.29579655  0.15976217  0.80177489]   [ 5.17975943  1.54251716  0.46446486  0.16425961 76.20457806  1.02193679\n",
      "  0.29085183  0.16014954  0.81613315][ 5.32005443  1.55258576  0.46193292  0.16110957 75.42964899  1.01587612\n",
      "  0.28517939  0.16130698  0.797438  ] [ 5.33549814  1.54354572  0.46997407  0.15609426 78.32849769  1.02901244\n",
      "  0.28826351  0.16407525  0.80422181]  [ 5.2144103   1.52574131  0.46124375  0.16055305 76.91139073  1.00085611\n",
      "  0.29370261  0.16306382  0.78895867] [ 5.19028531  1.5422107   0.46605727  0.15844482 76.64790727  1.01975198\n",
      "  0.29239149  0.16043933  0.80660309][ 5.17378898  1.56005482  0.4640655   0.15975629 76.43671597  1.03126627\n",
      "  0.29276453  0.16072106  0.79557499][ 5.2927606   1.51310095  0.46682589  0.16303981 76.82375448  1.01721648\n",
      "  0.28970139  0.15935967  0.8094415 ] [ 5.26335338  1.55296133  0.46615701  0.15998334 77.08948067  1.03505306\n",
      "  0.2851756   0.16140102  0.7830818 ]  \n",
      "\n",
      " \n",
      " [ 5.28882936  1.5354314   0.46919019  0.16069695 77.03180053  1.02530268\n",
      "  0.2944978   0.1583822   0.78398074] \n",
      "\n",
      "[ 5.21186025  1.54575646  0.46592437  0.1594562  77.4163053   1.02610302\n",
      "  0.28744908  0.15634698  0.79033632][ 5.15972082  1.53500066  0.46786716  0.16234605 78.25914079  1.02284921\n",
      "  0.29397905  0.16096528  0.80585696][ 5.23474689  1.5458422   0.46458684  0.15910875 76.53590434  1.0091389\n",
      "  0.28954071  0.160192    0.8079173 ][ 5.18927332  1.53733507  0.45720148  0.16096875 76.10098062  1.02926068\n",
      "  0.29399867  0.15766425  0.79959878]\n",
      "\n",
      "[ 5.31343078  1.54116042  0.46844673  0.16211083 77.84397251  1.01885965\n",
      "  0.29110224  0.16141494  0.7828011 ][ 5.26498199  1.51022336  0.46078849  0.1586525  78.02952493  1.01952766\n",
      "  0.28707942  0.16005597  0.79530918][ 5.17638639  1.49315123  0.46865859  0.16212644 75.76845533  1.00942951\n",
      "  0.2891413   0.16025093  0.80507717]\n",
      "[ 5.17497737  1.56192292  0.45307268  0.16115791 76.41359581  1.02906217\n",
      "  0.29213098  0.16264824  0.79145153]\n",
      "\n",
      "\n",
      "[ 5.21476117  1.53695046  0.4666112   0.16218326 77.66918634  1.02954256\n",
      "  0.29141099  0.16145612  0.79498411][ 5.15162825  1.53463145  0.46857541  0.16214557 78.20876822  1.02407929\n",
      "  0.28902896  0.15913208  0.79760176][ 5.28792225  1.50815448  0.46111099  0.15893887 76.8237141   1.02069116\n",
      "  0.28574196  0.16008837  0.79855931]\n",
      "\n",
      "[ 5.22387528  1.52691993  0.46895067  0.16382405 77.83288528  1.01408953\n",
      "  0.29449912  0.16260595  0.81074206]  params:  args:[ 5.18689777  1.53616728  0.46751679  0.16035838 77.84419978  1.0256422\n",
      "  0.2904285   0.15757512  0.80866573]  args:[ 5.22531052  1.54535086  0.46532826  0.16040189 77.32314469  1.009957\n",
      "  0.29073902  0.1589696   0.79502722]\n",
      "[ 5.27286327  1.52546945  0.46630634  0.16018225 77.36018533  1.02440634\n",
      "  0.28396523  0.16276196  0.80554528]  args:[ 5.13347536  1.48779109  0.47065063  0.15833717 76.72523714  0.99655064\n",
      "  0.28914863  0.16071258  0.79505638]\n",
      "\n",
      "  args:[ 5.2604481   1.53270485  0.46399561  0.16020748 77.37933335  1.00002335\n",
      "  0.28855868  0.15895048  0.80595642]\n",
      "  args:\n",
      "  args:[ 5.31137653  1.55962305  0.46402123  0.1583663  77.16748373  1.01510912\n",
      "  0.29239366  0.1586475   0.79579969]\n",
      "\n",
      "\n",
      "  args:\n",
      "  args:  args:  args:\n",
      "\n",
      "\n",
      "  args:  args:\n",
      "  \n",
      " \n",
      "  args:\n",
      " \n",
      "  args:  args: \n",
      "  args:    args:\n",
      "  args:  args:  args:   args:     args:  args:  args:   args: []  args:[]  args:   args:[][ 5.2243839   1.55472049  0.46607119  0.16047646 75.50352209  1.020878\n",
      "  0.29002046  0.1596438   0.78190019]  args:  []  args: [][]  args:    [] [][][]   [] []\n",
      " \n",
      " [] \n",
      "\n",
      " [][] \n",
      "[]\n",
      "\n",
      " [][][][]\n",
      "[]\n",
      "\n",
      "\n",
      "[][][]\n",
      "[]\n",
      "  kwargs:[]  kwargs:[]\n",
      "[]  kwargs:  args:[]\n",
      "[]\n",
      "  kwargs:\n",
      "  kwargs:  kwargs:[]\n",
      "\n",
      "\n",
      "\n",
      "  kwargs:\n",
      "  kwargs:  kwargs:  kwargs:\n",
      "\n",
      "\n",
      "  kwargs:\n",
      "  kwargs: \n",
      " \n",
      "\n",
      "  kwargs:  \n",
      "  kwargs:\n",
      "  kwargs:   kwargs:  \n",
      "  kwargs:  kwargs:  kwargs:  kwargs:   kwargs:     kwargs:  kwargs:  kwargs:   kwargs: {}  kwargs:{}  kwargs:  kwargs: []{}  kwargs:   kwargs: {}{} {}  kwargs:    {} {}{}{}   {} {}\n",
      " \n",
      "  {}\n",
      "\n",
      " {} {}\n",
      "\n",
      "{}\n",
      " {}{}{}{}\n",
      "{}\n",
      "\n",
      "\n",
      "{}{}{}\n",
      "{}\n",
      "  exception:{}  exception:{}{}\n",
      "  kwargs:  exception:{}\n",
      "{}\n",
      "  exception:  exception:\n",
      "  exception:{}\n",
      "\n",
      "\n",
      "\n",
      "  exception:\n",
      "  exception:  exception:  exception:\n",
      "\n",
      "\n",
      "  exception:\n",
      "  exception:\n",
      "\n",
      "\n",
      "\n",
      "\n",
      "  exception: \n",
      "\n",
      "  exception:\n",
      "  exception:\n",
      "\n",
      "  exception:\n",
      "\n",
      "  exception:  exception:  exception:\n",
      "  exception:  exception:\n",
      "\n",
      "\n",
      "  exception:"
     ]
    }
   ],
   "source": [
    "import time\n",
    "from multiprocessing import Pool\n",
    "\n",
    "pool = Pool(processes=64)              # start 64 worker processes\n",
    "sampler = emcee.EnsembleSampler(walkers, ndims, logposterior_vsp, pool=pool)\n",
    "start = time.time()\n",
    "sampler.run_mcmc(guess, Nsamples+Nburnin)\n",
    "end = time.time()\n",
    "vsp_mcmc_time = end - start\n",
    "print(\"Very Simple Model took {0:.1f} seconds\".format(vsp_mcmc_time))"
   ]
  },
  {
   "cell_type": "code",
   "execution_count": null,
   "id": "d634d2a2-e1b6-4bd3-b563-31763e2db521",
   "metadata": {},
   "outputs": [],
   "source": [
    "flat_samples = sampler.flatchain\n",
    "fig, axes = plt.subplots(ndims, figsize=(10, 7), sharex=True)\n",
    "samples = flat_samples\n",
    "for i in range(ndims):\n",
    "    ax = axes[i]\n",
    "    ax.plot(samples[:, i], \"k\", alpha=0.3)\n",
    "    ax.set_xlim(0, len(samples))\n",
    "    #ax.set_ylabel(labels[i])\n",
    "    ax.yaxis.set_label_coords(-0.1, 0.5)\n",
    "\n",
    "axes[-1].set_xlabel(\"step number\");"
   ]
  },
  {
   "cell_type": "code",
   "execution_count": null,
   "id": "0db4cb1e-af70-477c-b05b-8c0703046855",
   "metadata": {},
   "outputs": [],
   "source": [
    "import corner\n",
    "\n",
    "fig = corner.corner(flat_samples, truths=theta_true);"
   ]
  }
 ],
 "metadata": {
  "kernelspec": {
   "display_name": "Python 3",
   "language": "python",
   "name": "python3"
  },
  "language_info": {
   "codemirror_mode": {
    "name": "ipython",
    "version": 3
   },
   "file_extension": ".py",
   "mimetype": "text/x-python",
   "name": "python",
   "nbconvert_exporter": "python",
   "pygments_lexer": "ipython3",
   "version": "3.8.8"
  }
 },
 "nbformat": 4,
 "nbformat_minor": 5
}
