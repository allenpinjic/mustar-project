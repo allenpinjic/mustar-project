{
 "cells": [
  {
   "cell_type": "markdown",
   "id": "96ade83e-bc92-4cc7-82d2-ff61d3d6cca1",
   "metadata": {
    "tags": []
   },
   "source": [
    "# Temporary SPT Simple Model "
   ]
  },
  {
   "cell_type": "code",
   "execution_count": 2,
   "id": "bcea2c8c-b8a9-4577-986f-4d88dff4e4b0",
   "metadata": {
    "tags": []
   },
   "outputs": [
    {
     "data": {
      "text/plain": [
       "<colossus.cosmology.cosmology.Cosmology at 0x7f0d731e8670>"
      ]
     },
     "execution_count": 2,
     "metadata": {},
     "output_type": "execute_result"
    }
   ],
   "source": [
    "from astropy.io.fits import getdata\n",
    "from astropy.table import Table\n",
    "from astropy.cosmology import WMAP9 as cosmo\n",
    "from colossus.cosmology import cosmology\n",
    "from colossus.lss import mass_function\n",
    "from __future__ import print_function, division\n",
    "cosmology.setCosmology('WMAP9')"
   ]
  },
  {
   "cell_type": "code",
   "execution_count": 3,
   "id": "f9093718-049f-4048-95a3-53a720f029a3",
   "metadata": {
    "tags": []
   },
   "outputs": [
    {
     "name": "stderr",
     "output_type": "stream",
     "text": [
      "WARNING (theano.tensor.blas): Using NumPy C-API based implementation for BLAS functions.\n"
     ]
    }
   ],
   "source": [
    "import numpy as np\n",
    "import pandas as pd\n",
    "import matplotlib.pyplot as plt\n",
    "import pylab as plt\n",
    "import pymc3 as pm\n",
    "import aesara\n",
    "import matplotlib.font_manager\n",
    "import scipy.stats\n",
    "import scipy.optimize\n",
    "import seaborn as sns\n",
    "import math\n",
    "import os\n",
    "import sys\n",
    "import emcee\n",
    "import pandas as pd\n",
    "import arviz as az"
   ]
  },
  {
   "cell_type": "code",
   "execution_count": 4,
   "id": "e6d5eee0-3f0f-4d47-a60c-e0e32020b024",
   "metadata": {},
   "outputs": [],
   "source": [
    "%matplotlib inline"
   ]
  },
  {
   "cell_type": "markdown",
   "id": "9d096bd7-c716-48fc-96d6-473095f6802a",
   "metadata": {},
   "source": [
    "## Creating a Simple Model via Simulated Data"
   ]
  },
  {
   "cell_type": "code",
   "execution_count": 5,
   "id": "91e63556-ec52-4e44-aa8e-f065b82c91bf",
   "metadata": {},
   "outputs": [],
   "source": [
    "sigma_chisi, sigma_lbd = 0.16, 0.169\n",
    "rho = 0.79\n",
    "Nclusters = 100000\n",
    "\n",
    "# Cluster is defined as Mass (M) and redshift (z)"
   ]
  },
  {
   "cell_type": "code",
   "execution_count": 6,
   "id": "80e1977a-85de-4698-b412-5b97a8ad7540",
   "metadata": {},
   "outputs": [],
   "source": [
    "mfakes = 10**(np.random.uniform(14,15.2, size=Nclusters))\n",
    "zfakes = np.random.uniform(0.1, 1.3, size=Nclusters)\n",
    "# No \"10^\" for zfakes?\n",
    "# Creating Nclusters number of fake mass \n",
    "# and redshift samples that are uniformly distributed"
   ]
  },
  {
   "cell_type": "code",
   "execution_count": 7,
   "id": "5dbed912-5c7b-4d88-ab54-0767a69ba9ce",
   "metadata": {},
   "outputs": [],
   "source": [
    "def _halo_mass_function(M, z):\n",
    "    return mass_function.massFunction(M, z, mdef = '500c', model = 'bocquet16')\n",
    "halo_mass_function = np.vectorize(_halo_mass_function)\n",
    "\n",
    "def E(z):\n",
    "    # The Hubble constant at the value of z\n",
    "    Hz = cosmo.H(z).value\n",
    "    # The Hubble constant at z=0\n",
    "    H0 = cosmo.H(0).value\n",
    "    return (Hz/H0)\n",
    "\n",
    "p_halos = halo_mass_function(mfakes, zfakes)\n",
    "\n",
    "indices_halos = np.random.choice(Nclusters, size = 1000, p = (p_halos/(np.sum(p_halos))))\n",
    "# size = Nclusters/100 or 100,000/100 = 1000"
   ]
  },
  {
   "cell_type": "code",
   "execution_count": 8,
   "id": "8dd3a879-42e7-4999-91ab-0cc5495cf09c",
   "metadata": {},
   "outputs": [],
   "source": [
    "# The creation of the fake samples for redshift and mass\n",
    "# by chnaging the distribution from uniform to parabolic\n",
    "zsims = zfakes[indices_halos]\n",
    "msims = mfakes[indices_halos]"
   ]
  },
  {
   "cell_type": "code",
   "execution_count": 9,
   "id": "8995d929-0423-4462-ba00-e34b98a00661",
   "metadata": {},
   "outputs": [],
   "source": [
    "M0 = 3e14\n",
    "Ez0 = E(0)\n",
    "\n",
    "theta = [5.24, 1.534, 0.465, 0.161, 76.9, 1.02, 0.29, 0.16, 0.8]\n",
    "\n",
    "A_lambda, B_lambda, C_lambda, scatter_lambda = theta[4:8]\n",
    "A_sze, B_sze, C_sze, scatter_sze = theta[:4]\n",
    "rho = theta[-1]\n",
    "\n",
    "def ln_zeta_given_M(theta_sze,M,z):\n",
    "    A_sze, B_sze, C_sze, scatter_sze = theta_sze\n",
    "    return (np.log(A_sze) + (B_sze)*np.log(M/M0) + (C_sze)*(np.log(E(z)/Ez0)))\n",
    "\n",
    "def ln_lbd_given_M(theta_lambda,M,z):\n",
    "    A_lambda, B_lambda, C_lambda, scatter_lambda = theta_lambda\n",
    "    return (np.log(A_lambda) + (B_lambda)*np.log(M/M0) + (C_lambda)*(np.log(E(z)/Ez0)))\n",
    "\n",
    "def logNormal_variance(mu,std):\n",
    "    return (np.exp(std**2)-1)*np.exp(2*mu+std**2)\n",
    "\n",
    "ln_zeta_true = ln_zeta_given_M([A_sze, B_sze, C_sze, scatter_sze], msims, zsims)\n",
    "ln_lambda_true = ln_lbd_given_M([A_lambda, B_lambda, C_lambda, scatter_lambda], msims, zsims)\n",
    "\n",
    "#mean = [lbd_true, zeta_true]"
   ]
  },
  {
   "cell_type": "code",
   "execution_count": 10,
   "id": "6ee06cd1-661a-4507-9fa3-c89bc7643dbe",
   "metadata": {
    "tags": []
   },
   "outputs": [],
   "source": [
    "# To correlate them:\n",
    "Cov = np.matrix(([sigma_lbd**2, rho*sigma_lbd*sigma_chisi], [rho*sigma_lbd*sigma_chisi, sigma_lbd**2]))\n",
    "\n",
    "# for a given cluster: msims, zsims\n",
    "\n",
    "ln_lambda, ln_zeta = [], []\n",
    "for i in range(len(ln_lambda_true)):\n",
    "    ln_lambdai, ln_zetai = np.random.multivariate_normal([ln_lambda_true[i],ln_zeta_true[i]],cov=Cov)\n",
    "    ln_lambda.append(ln_lambdai)\n",
    "    ln_zeta.append(ln_zetai)\n",
    "    \n",
    "# Final dataset --> (zsims, msims, ln_lambda, ln_zeta, ln_lambda_true, ln_zeta_true)"
   ]
  },
  {
   "cell_type": "code",
   "execution_count": 11,
   "id": "36b33c32-4aaa-4dd7-8fb6-d4f0366ba417",
   "metadata": {},
   "outputs": [],
   "source": [
    "# Changes the size of the graph and font\n",
    "from scipy.optimize import curve_fit\n",
    "\n",
    "sns.set_theme(style=\"darkgrid\")\n",
    "%config InlineBackend.figure_format = \"retina\"\n",
    "\n",
    "from matplotlib import rcParams\n",
    "rcParams[\"savefig.dpi\"] = 100\n",
    "rcParams[\"figure.dpi\"] = 100\n",
    "rcParams[\"font.size\"] = 20"
   ]
  },
  {
   "cell_type": "code",
   "execution_count": 12,
   "id": "2bf539d7-7d97-4f31-9bbf-ba208cbd04fe",
   "metadata": {},
   "outputs": [],
   "source": [
    "#log_msims = np.log(msims/M0)\n",
    "\n",
    "#x1 = log_msims\n",
    "#y1 = ln_lambda\n",
    "\n",
    "#f=lambda x,a,b: a*x + b\n",
    "#fit=curve_fit(f, x1, y1)\n",
    "#xsmooth=np.linspace(np.min(x1), np.max(x1), 1000)\n",
    "#plt.plot(x1,y1,'ro',label='Data', alpha = 0.7)\n",
    "#plt.plot(xsmooth,f(xsmooth,*fit[0]),'b-',linewidth=2,label='Logarithmic Fit')\n",
    "#plt.xlabel('Log of Simulated Mass')\n",
    "#plt.ylabel('Log of Richness')\n",
    "#plt.legend()\n",
    "\n",
    "# Unlike the 1-D plot above (simple straight line), this is a vector that\n",
    "# will create a slope which matches the log value from the previously\n",
    "# calculated log of lambda based on the true parameter values\n",
    "# found in (Grandis et al. 2021)\n",
    "\n",
    "# Meant to compare with the simple 1-D plot above and display\n",
    "# whether the simulated data is following the trend set by the real parameter values\n",
    "\n",
    "#plt.plot(x1, ln_lambda_true, 'k--', label='Truth', alpha = 0.8)\n",
    "\n",
    "#print('Combination of Slope and Y-Intercept:', fit[0])\n",
    "#print('Slope:', fit[0][0])\n",
    "#print('Y-Intercept:', fit[0][1])"
   ]
  },
  {
   "cell_type": "code",
   "execution_count": 13,
   "id": "f4c7ce90-4c6b-43b7-af87-ed821dfc5dcd",
   "metadata": {},
   "outputs": [],
   "source": [
    "#x2 = log_msims\n",
    "#y2 = ln_zeta\n",
    "\n",
    "#f=lambda x,a,b: a*x + b\n",
    "#fit=curve_fit(f, x2, y2)\n",
    "#xsmooth=np.linspace(np.min(x2), np.max(x2), 1000)\n",
    "#plt.plot(x2,y2,'ro',label='Data', alpha = 0.7)\n",
    "#plt.plot(xsmooth,f(xsmooth,*fit[0]),'b-',linewidth=2,label='Logarithmic Fit')\n",
    "#plt.xlabel('Log of Simulated Mass')\n",
    "#plt.ylabel('Log of Redshift')\n",
    "#plt.legend()\n",
    "\n",
    "\n",
    "# Unlike the 1-D plot above (simple straight line), this is a vector that\n",
    "# will create a slope which matches the log value from the previously\n",
    "# calculated log of zeta based on the true parameter values\n",
    "# found in (Grandis et al. 2021)\n",
    "\n",
    "# Meant to compare with the simple 1-D plot above and display\n",
    "# whether the simulated data is following the trend set by the real parameter values\n",
    "\n",
    "#plt.plot(x1, ln_zeta_true, 'k--', label='Truth', alpha = 0.8)\n",
    "\n",
    "#print('Combination of Slope and Y-Intercept:', fit[0])\n",
    "#print('Slope:', fit[0][0])\n",
    "#print('Y-Intercept:', fit[0][1])"
   ]
  },
  {
   "cell_type": "code",
   "execution_count": 14,
   "id": "dc66dc27-30b3-41f9-8dc5-e59b5fd750e2",
   "metadata": {},
   "outputs": [
    {
     "name": "stdout",
     "output_type": "stream",
     "text": [
      "            z             M     lambda      zeta  lambda_true  zeta_true\n",
      "0    0.293661  1.398978e+14  41.603109  2.125600    36.824291   1.738582\n",
      "1    0.121506  1.976367e+14  53.816632  3.269492    51.056866   2.834802\n",
      "2    0.238207  1.037707e+14  34.103137  1.226484    26.920763   1.084479\n",
      "3    0.451736  1.896814e+14  51.902861  3.210492    51.530589   2.889120\n",
      "4    0.687147  1.235951e+14  31.961629  1.630154    34.635795   1.595847\n",
      "..        ...           ...        ...       ...          ...        ...\n",
      "995  0.292721  1.392204e+14  57.275639  2.762610    36.637032   1.725277\n",
      "996  0.236848  1.358645e+14  33.167131  1.394419    35.429880   1.639093\n",
      "997  0.418081  1.726962e+14  43.662099  2.570504    46.569677   2.479767\n",
      "998  1.039136  1.121039e+14  40.576561  1.532907    33.266971   1.510825\n",
      "999  0.665490  1.573428e+14  55.420257  3.219414    44.143889   2.297543\n",
      "\n",
      "[1000 rows x 6 columns]\n"
     ]
    }
   ],
   "source": [
    "out = dict()\n",
    "out['z'] = zsims\n",
    "out['M'] = msims\n",
    "out['lambda'] = np.exp(ln_lambda)\n",
    "out['zeta'] = np.exp(ln_zeta)\n",
    "out['lambda_true'] = np.exp(ln_lambda_true)\n",
    "out['zeta_true'] = np.exp(ln_zeta_true)\n",
    "\n",
    "df = pd.DataFrame(out, columns = ['z', 'M', 'lambda', 'zeta', 'lambda_true', 'zeta_true'])\n",
    "print(df)\n",
    "\n",
    "#df.to_csv('fake_data_Jun21.csv', index=False)\n",
    "# pd.DataFrame.to_csv('fake_data_Jun21.csv')"
   ]
  },
  {
   "cell_type": "code",
   "execution_count": 15,
   "id": "fe333f21-2eaf-4284-8918-04bfa7adafbc",
   "metadata": {},
   "outputs": [],
   "source": [
    "#df0 = df.copy()\n",
    "#display(df0)"
   ]
  },
  {
   "cell_type": "code",
   "execution_count": 16,
   "id": "ad1e2b37-d04e-4883-9370-ed4424d72f59",
   "metadata": {},
   "outputs": [],
   "source": [
    "#zeta = df0.zeta.to_numpy()\n",
    "#zetacut = zeta > 5\n",
    "#df = df0.loc[zetacut].copy()\n",
    "\n",
    "#display(df)"
   ]
  },
  {
   "cell_type": "code",
   "execution_count": 17,
   "id": "13e24b4f-7ffc-46bc-bbd7-5872ea2503f0",
   "metadata": {},
   "outputs": [],
   "source": [
    "df.to_csv(r'C:\\MuStar_Project\\mustar-summar-project\\simple_model\\fake_data_Jun21.csv', index=False)"
   ]
  },
  {
   "cell_type": "markdown",
   "id": "f861c779-46e3-4b7e-a9d0-245ab856ff44",
   "metadata": {},
   "source": [
    "# Creating an MCMC Model"
   ]
  },
  {
   "cell_type": "markdown",
   "id": "30da1e65-606f-409c-b11d-1257353e4abd",
   "metadata": {},
   "source": [
    "Using the Simple Model Likelihood in order to see how accurate the predicted MCMC values are from the known true values"
   ]
  },
  {
   "cell_type": "code",
   "execution_count": 18,
   "id": "8be80576-af78-40d8-a9b6-68f3c7221fa2",
   "metadata": {
    "tags": []
   },
   "outputs": [
    {
     "data": {
      "text/html": [
       "<div>\n",
       "<style scoped>\n",
       "    .dataframe tbody tr th:only-of-type {\n",
       "        vertical-align: middle;\n",
       "    }\n",
       "\n",
       "    .dataframe tbody tr th {\n",
       "        vertical-align: top;\n",
       "    }\n",
       "\n",
       "    .dataframe thead th {\n",
       "        text-align: right;\n",
       "    }\n",
       "</style>\n",
       "<table border=\"1\" class=\"dataframe\">\n",
       "  <thead>\n",
       "    <tr style=\"text-align: right;\">\n",
       "      <th></th>\n",
       "      <th>z</th>\n",
       "      <th>M</th>\n",
       "      <th>lambda</th>\n",
       "      <th>zeta</th>\n",
       "      <th>lambda_true</th>\n",
       "      <th>zeta_true</th>\n",
       "    </tr>\n",
       "  </thead>\n",
       "  <tbody>\n",
       "    <tr>\n",
       "      <th>0</th>\n",
       "      <td>0.293661</td>\n",
       "      <td>1.398978e+14</td>\n",
       "      <td>41.603109</td>\n",
       "      <td>2.125600</td>\n",
       "      <td>36.824291</td>\n",
       "      <td>1.738582</td>\n",
       "    </tr>\n",
       "    <tr>\n",
       "      <th>1</th>\n",
       "      <td>0.121506</td>\n",
       "      <td>1.976367e+14</td>\n",
       "      <td>53.816632</td>\n",
       "      <td>3.269492</td>\n",
       "      <td>51.056866</td>\n",
       "      <td>2.834802</td>\n",
       "    </tr>\n",
       "    <tr>\n",
       "      <th>2</th>\n",
       "      <td>0.238207</td>\n",
       "      <td>1.037707e+14</td>\n",
       "      <td>34.103137</td>\n",
       "      <td>1.226484</td>\n",
       "      <td>26.920763</td>\n",
       "      <td>1.084479</td>\n",
       "    </tr>\n",
       "    <tr>\n",
       "      <th>3</th>\n",
       "      <td>0.451736</td>\n",
       "      <td>1.896814e+14</td>\n",
       "      <td>51.902861</td>\n",
       "      <td>3.210492</td>\n",
       "      <td>51.530589</td>\n",
       "      <td>2.889120</td>\n",
       "    </tr>\n",
       "    <tr>\n",
       "      <th>4</th>\n",
       "      <td>0.687147</td>\n",
       "      <td>1.235951e+14</td>\n",
       "      <td>31.961629</td>\n",
       "      <td>1.630154</td>\n",
       "      <td>34.635795</td>\n",
       "      <td>1.595847</td>\n",
       "    </tr>\n",
       "    <tr>\n",
       "      <th>...</th>\n",
       "      <td>...</td>\n",
       "      <td>...</td>\n",
       "      <td>...</td>\n",
       "      <td>...</td>\n",
       "      <td>...</td>\n",
       "      <td>...</td>\n",
       "    </tr>\n",
       "    <tr>\n",
       "      <th>995</th>\n",
       "      <td>0.292721</td>\n",
       "      <td>1.392204e+14</td>\n",
       "      <td>57.275639</td>\n",
       "      <td>2.762610</td>\n",
       "      <td>36.637032</td>\n",
       "      <td>1.725277</td>\n",
       "    </tr>\n",
       "    <tr>\n",
       "      <th>996</th>\n",
       "      <td>0.236848</td>\n",
       "      <td>1.358645e+14</td>\n",
       "      <td>33.167131</td>\n",
       "      <td>1.394419</td>\n",
       "      <td>35.429880</td>\n",
       "      <td>1.639093</td>\n",
       "    </tr>\n",
       "    <tr>\n",
       "      <th>997</th>\n",
       "      <td>0.418081</td>\n",
       "      <td>1.726962e+14</td>\n",
       "      <td>43.662099</td>\n",
       "      <td>2.570504</td>\n",
       "      <td>46.569677</td>\n",
       "      <td>2.479767</td>\n",
       "    </tr>\n",
       "    <tr>\n",
       "      <th>998</th>\n",
       "      <td>1.039136</td>\n",
       "      <td>1.121039e+14</td>\n",
       "      <td>40.576561</td>\n",
       "      <td>1.532907</td>\n",
       "      <td>33.266971</td>\n",
       "      <td>1.510825</td>\n",
       "    </tr>\n",
       "    <tr>\n",
       "      <th>999</th>\n",
       "      <td>0.665490</td>\n",
       "      <td>1.573428e+14</td>\n",
       "      <td>55.420257</td>\n",
       "      <td>3.219414</td>\n",
       "      <td>44.143889</td>\n",
       "      <td>2.297543</td>\n",
       "    </tr>\n",
       "  </tbody>\n",
       "</table>\n",
       "<p>1000 rows × 6 columns</p>\n",
       "</div>"
      ],
      "text/plain": [
       "            z             M     lambda      zeta  lambda_true  zeta_true\n",
       "0    0.293661  1.398978e+14  41.603109  2.125600    36.824291   1.738582\n",
       "1    0.121506  1.976367e+14  53.816632  3.269492    51.056866   2.834802\n",
       "2    0.238207  1.037707e+14  34.103137  1.226484    26.920763   1.084479\n",
       "3    0.451736  1.896814e+14  51.902861  3.210492    51.530589   2.889120\n",
       "4    0.687147  1.235951e+14  31.961629  1.630154    34.635795   1.595847\n",
       "..        ...           ...        ...       ...          ...        ...\n",
       "995  0.292721  1.392204e+14  57.275639  2.762610    36.637032   1.725277\n",
       "996  0.236848  1.358645e+14  33.167131  1.394419    35.429880   1.639093\n",
       "997  0.418081  1.726962e+14  43.662099  2.570504    46.569677   2.479767\n",
       "998  1.039136  1.121039e+14  40.576561  1.532907    33.266971   1.510825\n",
       "999  0.665490  1.573428e+14  55.420257  3.219414    44.143889   2.297543\n",
       "\n",
       "[1000 rows x 6 columns]"
      ]
     },
     "metadata": {},
     "output_type": "display_data"
    }
   ],
   "source": [
    "display(df)"
   ]
  },
  {
   "cell_type": "code",
   "execution_count": 19,
   "id": "38fb6700-702c-46c7-9f21-e0c1b5e0c481",
   "metadata": {},
   "outputs": [
    {
     "name": "stdout",
     "output_type": "stream",
     "text": [
      "Number of points 321\n"
     ]
    }
   ],
   "source": [
    "#ix = np.where((np.array(df['lambda']))>5)[0] # take 100 points\n",
    "#Np = ix.size\n",
    "#yerr = 0.05*(df['lambda'].to_numpy())\n",
    "#redshift = (np.array(df['z']))[ix]\n",
    "#sz_signal = (np.array(df['zeta']))[ix]\n",
    "#_lambda = (np.array(df['lambda']))[ix]\n",
    "#mass = np.array(df['M'])[ix]\n",
    "\n",
    "mask = (df['lambda']>5)&(df['zeta']>3)\n",
    "### Changed the lower limit for zeta from 3 to 5 (since the minimum value setup for zeta is 5) ###\n",
    "### Changed once more to 3 since the number of points dropped to half of its previous size (from ~340 to ~170)\n",
    "### causing the corner plot to be far too inaccurate\n",
    "## Now that the data points have been doubled (to 645) should we be consistent?\n",
    "ix = np.where(mask)[0]\n",
    "Np = ix.size\n",
    "\n",
    "yerr = 0.05*(df['lambda'].to_numpy())\n",
    "\n",
    "redshift = (np.array(df['z']))[ix]\n",
    "sz_signal = (np.array(df['zeta']))[ix]\n",
    "_lambda = (np.array(df['lambda']))[ix]\n",
    "_lambda_error = (np.array(yerr))[ix]\n",
    "mass = (np.array(df['M']))[ix]\n",
    "\n",
    "print('Number of points',Np)"
   ]
  },
  {
   "cell_type": "code",
   "execution_count": 20,
   "id": "62fe6ed4-87b7-4542-91e2-dc8de73ec8ac",
   "metadata": {},
   "outputs": [
    {
     "name": "stdout",
     "output_type": "stream",
     "text": [
      "This is the redshift_i: 0.12671508988678398\n",
      "This is the sz_signal_i: 48.431529277679395\n",
      "This is the _lambda_i: 330.22195524853487\n",
      "This is the _lambda_error_i: 16.511097762426743\n"
     ]
    }
   ],
   "source": [
    "# for a given cluster, i.e. a vector (lbd_hat_i, chisi_i, z_i)\n",
    "# ix = np.arange(len(lambda_chisq))[lambda_chisq>0][np.argmin(sz_signal[lambda_chisq>0])]\n",
    "ix = np.arange(len(np.array(df['lambda'])))[(np.array(df['lambda']))>0][np.argmax(np.array(df['lambda'])[np.array(df['lambda'])>0])]\n",
    "\n",
    "redshift_i = (np.array(df['z']))[ix]\n",
    "print(\"This is the redshift_i:\", redshift_i)\n",
    "sz_signal_i = (np.array(df['zeta']))[ix]\n",
    "print(\"This is the sz_signal_i:\", sz_signal_i)\n",
    "_lambda_i = (np.array(df['lambda']))[ix]\n",
    "print(\"This is the _lambda_i:\", _lambda_i)\n",
    "_lambda_error_i = (np.array(yerr))[ix]\n",
    "print(\"This is the _lambda_error_i:\", _lambda_error_i)"
   ]
  },
  {
   "cell_type": "code",
   "execution_count": 21,
   "id": "7d2d2930-ea9b-479f-9fd6-be6686b78dcd",
   "metadata": {},
   "outputs": [
    {
     "name": "stdout",
     "output_type": "stream",
     "text": [
      "This is the combined x vector of mass and redshift shape: (2, 321)\n",
      "This is the combined y vector of lambda and zeta shape: (2, 321)\n"
     ]
    }
   ],
   "source": [
    "x = np.vstack([mass, redshift])\n",
    "print(\"This is the combined x vector of mass and redshift shape:\", x.shape)\n",
    "y = np.vstack([_lambda, sz_signal])\n",
    "print(\"This is the combined y vector of lambda and zeta shape:\", y.shape)"
   ]
  },
  {
   "cell_type": "code",
   "execution_count": 22,
   "id": "336e6905-0437-4321-8f3d-47911f749bc1",
   "metadata": {},
   "outputs": [
    {
     "name": "stdout",
     "output_type": "stream",
     "text": [
      "This is the first value of lambda: 53.8166321455485\n",
      "This is the first value of zeta: 3.2694919328243333\n"
     ]
    }
   ],
   "source": [
    "eps = 1e-9\n",
    "lbd = _lambda[0]\n",
    "zeta = sz_signal[0]\n",
    "\n",
    "print(\"This is the first value of lambda:\", lbd)\n",
    "print(\"This is the first value of zeta:\", zeta)\n",
    "\n",
    "theta = [5.24, 1.534, 0.465, 0.161, 76.9, 1.02, 0.29, 0.16, 0.8]"
   ]
  },
  {
   "cell_type": "code",
   "execution_count": 23,
   "id": "4469bed2-62e3-425e-8b9e-d4290498a568",
   "metadata": {},
   "outputs": [
    {
     "data": {
      "text/plain": [
       "(array([295., 245., 178., 106.,  80.,  43.,  31.,  15.,   3.,   2.]),\n",
       " array([14.00005689, 14.10382361, 14.20759034, 14.31135706, 14.41512379,\n",
       "        14.51889051, 14.62265723, 14.72642396, 14.83019068, 14.93395741,\n",
       "        15.03772413]),\n",
       " <BarContainer object of 10 artists>)"
      ]
     },
     "execution_count": 23,
     "metadata": {},
     "output_type": "execute_result"
    },
    {
     "data": {
      "image/png": "[encoded data removed]",
      "text/plain": [
       "<Figure size 600x400 with 1 Axes>"
      ]
     },
     "metadata": {
      "image/png": {
       "height": 349,
       "width": 527
      }
     },
     "output_type": "display_data"
    }
   ],
   "source": [
    "plt.hist(np.log10(df['M'][np.array(df['lambda'])>20]))"
   ]
  },
  {
   "cell_type": "code",
   "execution_count": 24,
   "id": "908267c4-1cb9-4c97-8aa2-efa7727ef0cd",
   "metadata": {},
   "outputs": [
    {
     "name": "stdout",
     "output_type": "stream",
     "text": [
      "Vector size\n",
      "300\n",
      "150\n"
     ]
    }
   ],
   "source": [
    "### IMPORTANT CELL ###\n",
    "# set up integration vectors\n",
    "\n",
    "mvec = np.logspace(13.8, 15.5, 150)\n",
    "## TURN ON AND OFF THE MVEC TO TES\n",
    "\n",
    "# lbdvec = np.linspace(3,1.2*np.max(lambda_chisq),150)\n",
    "# zetavec = np.linspace(1,1.1*np.max(sz_signal),75)\n",
    "\n",
    "lbdvec = np.linspace(3, 1.2*np.max(np.array(df['lambda'])), 300)\n",
    "zetavec = np.linspace(1, 1.1*np.max(np.array(df['zeta'])), 150)\n",
    "\n",
    "print('Vector size')\n",
    "print(lbdvec.size)\n",
    "print(zetavec.size)"
   ]
  },
  {
   "cell_type": "code",
   "execution_count": 25,
   "id": "9645571f-ddd6-434c-822b-c8bfa85c1634",
   "metadata": {},
   "outputs": [],
   "source": [
    "### IMPORTANT CELL ###\n",
    "zvec = np.linspace(np.min(np.array(df['z'])), np.max(np.array(df['z'])), 100)\n",
    "#zvec = np.linspace(np.min(redshift), np.max(redshift), 100)\n",
    "## zzv, mm = np.meshgrid(zvec, mvec)\n",
    "\n",
    "# zzv= np.meshgrid(zvec)\n",
    "## TURN THE ZZV ON AND OFF TO TEST\n",
    "\n",
    "from scipy import interpolate"
   ]
  },
  {
   "cell_type": "code",
   "execution_count": 26,
   "id": "2db5cb9b-4ec1-4e92-8313-8894786d3cb8",
   "metadata": {},
   "outputs": [],
   "source": [
    "def slice_array(y,alpha=1e-2):\n",
    "    cy = np.cumsum(y/np.sum(y),axis=0)\n",
    "    ilo,iup = np.interp([alpha,1-alpha],cy,np.arange(len(y))).astype(int)+(0,2)\n",
    "    return ilo, iup"
   ]
  },
  {
   "cell_type": "code",
   "execution_count": 27,
   "id": "0e2adca2-7cc4-47b9-8ac8-219a1533055d",
   "metadata": {},
   "outputs": [],
   "source": [
    "def prob_chisi(zeta, sz_signal, eps=1e-12):\n",
    "    res = np.exp(-(sz_signal-np.sqrt(zeta**2+2))**2/2.)/np.sqrt(2*np.pi)\n",
    "    return res#np.where(res<eps,0.,res)\n",
    "\n",
    "def gaussian(x,mu,std):\n",
    "    return np.exp(-(x-mu)**2/std**2/2.)/np.sqrt(2*np.pi*std**2)\n",
    "\n",
    "def prob_lbd_hat(x, mean , std, eps=1e-12):\n",
    "    res = gaussian(x, mean , std)\n",
    "    return res#np.where(res<eps,0.,res)"
   ]
  },
  {
   "cell_type": "code",
   "execution_count": 28,
   "id": "a1363529-9d76-46af-a14a-292e016067c2",
   "metadata": {},
   "outputs": [
    {
     "name": "stdout",
     "output_type": "stream",
     "text": [
      "(321, 300)\n",
      "This is prob_lbd_hat_vec : [[5.32213880e-79 4.82141076e-75 3.43952985e-71 ... 0.00000000e+00\n",
      "  0.00000000e+00 0.00000000e+00]\n",
      " [1.19840975e-78 1.48104340e-74 1.41570983e-70 ... 0.00000000e+00\n",
      "  0.00000000e+00 0.00000000e+00]\n",
      " [1.52991142e-82 5.96555682e-80 2.11061573e-77 ... 0.00000000e+00\n",
      "  0.00000000e+00 0.00000000e+00]\n",
      " ...\n",
      " [1.14683632e-78 1.39367691e-74 1.31128496e-70 ... 0.00000000e+00\n",
      "  0.00000000e+00 0.00000000e+00]\n",
      " [3.51352658e-79 2.71471071e-75 1.66650936e-71 ... 0.00000000e+00\n",
      "  0.00000000e+00 0.00000000e+00]\n",
      " [2.80878580e-79 1.99165123e-75 1.12736100e-71 ... 0.00000000e+00\n",
      "  0.00000000e+00 0.00000000e+00]]\n",
      "(321, 150)\n",
      "This is prob_chisi_vec: [[1.22358363e-01 1.68307271e-01 2.28224313e-01 ... 0.00000000e+00\n",
      "  0.00000000e+00 0.00000000e+00]\n",
      " [1.33743396e-01 1.81556128e-01 2.42486023e-01 ... 0.00000000e+00\n",
      "  0.00000000e+00 0.00000000e+00]\n",
      " [1.19942078e-04 2.87924687e-04 7.40211035e-04 ... 0.00000000e+00\n",
      "  0.00000000e+00 0.00000000e+00]\n",
      " ...\n",
      " [1.16700144e-01 1.61622713e-01 2.20883790e-01 ... 0.00000000e+00\n",
      "  0.00000000e+00 0.00000000e+00]\n",
      " [5.37373781e-02 8.20166895e-02 1.25324500e-01 ... 0.00000000e+00\n",
      "  0.00000000e+00 0.00000000e+00]\n",
      " [1.31985583e-01 1.79527772e-01 2.40327209e-01 ... 0.00000000e+00\n",
      "  0.00000000e+00 0.00000000e+00]]\n",
      "(321, 2)\n",
      "(321, 2)\n"
     ]
    }
   ],
   "source": [
    "alpha = 0.05\n",
    "\n",
    "prob_lbd_hat_vec = np.array([prob_lbd_hat(lbdvec, _lambda_i, _lambda_error_i)\n",
    "                             for _lambda_i, _lambda_error_i in zip(_lambda, _lambda_error)])\n",
    "print(prob_lbd_hat_vec.shape)\n",
    "print(\"This is prob_lbd_hat_vec :\", prob_lbd_hat_vec)\n",
    "\n",
    "prob_chisi_vec = np.array([prob_chisi(zetavec, sz_signal_i) for sz_signal_i in sz_signal])\n",
    "print(prob_chisi_vec.shape)\n",
    "print(\"This is prob_chisi_vec:\", prob_chisi_vec)\n",
    "\n",
    "\n",
    "lbd_indices_vec = np.array([slice_array(pi, alpha=alpha) for pi in prob_lbd_hat_vec])\n",
    "print(lbd_indices_vec.shape)\n",
    "#print(\"This is lbd_indices_vec:\", lbd_indices_vec)\n",
    "\n",
    "zeta_indices_vec = np.array([slice_array(pi, alpha=alpha) for pi in prob_chisi_vec])\n",
    "print(zeta_indices_vec.shape)\n",
    "#print(\"This is zeta_indices_vec:\", zeta_indices_vec)"
   ]
  },
  {
   "cell_type": "code",
   "execution_count": 29,
   "id": "a7ec3067-f47c-4c05-b30a-2188fc69139e",
   "metadata": {},
   "outputs": [],
   "source": [
    "from scipy.integrate import simps\n",
    "\n",
    "# given: mvec, lbdvec and zetavec\n",
    "\n",
    "zz, ll = np.meshgrid(zetavec, lbdvec, indexing='ij')\n",
    "\n",
    "def log_likelihood_vec2(theta, indices, eps=1e-9):\n",
    "    # defining variables\n",
    "    probs = []\n",
    "    for ix in indices:\n",
    "        probs.append(_log_likelihood2(theta, ix))\n",
    "    p = np.array(probs)/np.sum(probs)\n",
    "    log_p = np.log(p)\n",
    "    log_p = np.where(np.isnan(log_p), -np.inf, log_p)\n",
    "    return np.sum(log_p)"
   ]
  },
  {
   "cell_type": "code",
   "execution_count": 30,
   "id": "96280995-5719-4a1f-b533-f7222dc77615",
   "metadata": {},
   "outputs": [],
   "source": [
    "def _log_likelihood2(theta, ix):\n",
    "    # unfolding theta\n",
    "    A_lambda, B_lambda, C_lambda, scatter_lambda = theta[4:8]\n",
    "    A_sze, B_sze, C_sze, scatter_sze = theta[:4]\n",
    "    rho = theta[-1]\n",
    "    \n",
    "    # forgot the mass\n",
    "    mass_i = mass[ix]\n",
    "    #print(\"This is mass_i:\", mass_i)\n",
    "    \n",
    "    redshift_i = redshift[ix]\n",
    "    #print(\"This is redshift_i:\", redshift_i)\n",
    "    \n",
    "    p_chisi = prob_chisi_vec[ix]\n",
    "    #print(\"This is p_chisi:\", p_chisi)\n",
    "    \n",
    "    p_lbd_hat = prob_lbd_hat_vec[ix]\n",
    "    #print(\"This is p_lbd_hat:\", p_lbd_hat)\n",
    "    \n",
    "    llo, lup = list(lbd_indices_vec[ix])\n",
    "    clo, cup = list(zeta_indices_vec[ix])\n",
    "    \n",
    "    #print(\"This is the list of lbd_indices_vec[ix]:\", list(lbd_indices_vec[ix]))\n",
    "    #print(\"This is the list of zeta_indices_vec[ix]:\", list(zeta_indices_vec[ix]))\n",
    "    \n",
    "    # calling predictions;\n",
    "    ln_lbd_pred = ln_lbd_given_M([A_lambda, B_lambda, C_lambda, scatter_lambda], mass_i, redshift_i)\n",
    "    #print(\"This is ln_lbd_pred before lup,llo,cup,clo:\", ln_lbd_pred)\n",
    "    \n",
    "    ln_zeta_pred= ln_zeta_given_M([A_sze, B_sze, C_sze, scatter_sze], mass_i, redshift_i)\n",
    "    #print(\"This is ln_zeta_pred before lup,llo,cup,clo:\", ln_zeta_pred)\n",
    "        \n",
    "    #hmf = np.tile(halo_mass_func, (int(lup-llo), int(cup-clo), 1)).T\n",
    "    ln_lbd_pred = np.tile(ln_lbd_pred, (int(lup-llo), int(cup-clo))).T\n",
    "    ln_zeta_pred = np.tile(ln_zeta_pred, (int(lup-llo), int(cup-clo))).T\n",
    "    \n",
    "    #print(\"This is ln_lbd_pred after lup,llo,cup,clo:\", ln_lbd_pred)\n",
    "    #print(\"This is ln_lbd_pred shape:\", ln_lbd_pred.shape)\n",
    "    #print(\"This is ln_zeta_pred after lup,llo,cup,clo:\", ln_zeta_pred)\n",
    "    #print(\"This is ln_zeta_pred shape:\", ln_zeta_pred.shape)\n",
    "    \n",
    "    # compute dn_dlbd_dzeta_integrand\n",
    "    # Now p_lbd_zeta instead of p_total_m = compute_dn_dlbd_dzeta_vec2\n",
    "    p_lbd_zeta = compute_dn_dlbd_dzeta_vec2(_lambda_i, _lambda_error_i, sz_signal_i,\n",
    "                                           scatter_lambda, scatter_sze, rho,\n",
    "                                           ll[clo:cup,llo:lup],zz[clo:cup,llo:lup],\n",
    "                                           ln_lbd_pred, ln_zeta_pred)\n",
    "    #print(\"This is p_lbd_zeta:\", p_lbd_zeta)\n",
    "\n",
    "    # integrate over zeta\n",
    "    p_chisi = np.tile(p_chisi[clo:cup], (int(lup-llo), 1)).T\n",
    "    #print(\"This is p_chisi:\", p_chisi)\n",
    "    ## REMOVE ADDITIONAL VALUE OF 1\n",
    "    \n",
    "    p_lbd = np.trapz(p_lbd_zeta*p_chisi, x=zetavec[clo:cup], axis=0)\n",
    "    #print(\"This is p_lbd after trapezoidal transformation:\", p_lbd)\n",
    "\n",
    "    # integrate over lambda\n",
    "    p = np.trapz(p_lbd*p_lbd_hat[llo:lup], x=lbdvec[llo:lup], axis=0)\n",
    "    #print(\"This is p after trapezoidal transformation:\", p)\n",
    "    return p"
   ]
  },
  {
   "cell_type": "code",
   "execution_count": 31,
   "id": "959a857b-4e06-418d-ac88-be79dcef22df",
   "metadata": {},
   "outputs": [],
   "source": [
    "def compute_dn_dlbd_dzeta_vec2(_lambda_i, _lambda_error_i, sz_signal_i, scatter_lambda, scatter_sze, rho,\n",
    "                               lvec, zvec, ln_lbd_pred, ln_zeta_pred, eps = 1e-9):\n",
    "    \n",
    "    # converting std to normal distribution\n",
    "    s_zeta = logNormal_variance(ln_zeta_pred, scatter_sze)\n",
    "    #print(\"This is ln_zeta_pred (1):\", ln_zeta_pred)\n",
    "    #print(\"This is scatter_sze (2):\", scatter_sze)\n",
    "    #print(\"This is s_zeta (3):\", s_zeta)\n",
    "    s_zeta_inv = np.where(s_zeta<=eps, -np.inf, 1/s_zeta)\n",
    "    #print(\"This is s_zeta_inv:\", s_zeta_inv)\n",
    "    s_lambda = logNormal_variance(ln_lbd_pred, scatter_lambda)\n",
    "    #print(\"This is ln_lbd_pred (1):\", ln_lbd_pred)\n",
    "    #print(\"This is scatter_lambda (2):\", scatter_lambda)\n",
    "    #print(\"This is s_lambda (3):\", s_lambda)\n",
    "    s_lambda_inv = np.where(s_lambda<=eps, -np.inf, 1/s_lambda)\n",
    "    #print(\"This is s_lambda_inv:\", s_lambda_inv)\n",
    "    \n",
    "    cov = (scatter_lambda)**(2)*(scatter_sze)**(2)*(1-rho**2)\n",
    "    #print(\"This is cov matrix:\", cov)\n",
    "    additional_cov = (-0.5)*np.log(np.pi*cov**2)\n",
    "    #print(\"This is additional_cov:\", additional_cov)\n",
    "    \n",
    "    # avoid error messages\n",
    "    rho_inv = (1-rho**2)\n",
    "    rho_inv = np.where(rho_inv<=eps, -np.inf, 1/rho_inv)\n",
    "    \n",
    "    lbd_std = (np.log(lvec) - (ln_lbd_pred))*s_lambda_inv\n",
    "    #print(\"This is lbd_std:\", lbd_std)\n",
    "    zeta_std = (np.log(zvec)- (ln_zeta_pred))*s_zeta_inv\n",
    "    #print(\"This is zeta_std:\", zeta_std)\n",
    "    np.seterr(invalid='ignore')\n",
    "\n",
    "    # lbd_likelihood\n",
    "    lp_lbd  = (-rho_inv*lbd_std**2)/2\n",
    "    #print(\"This is lp_lbd:\", lp_lbd)\n",
    "\n",
    "    # zeta likelihood\n",
    "    lp_zeta = (-rho_inv*zeta_std**2)/2\n",
    "    #print(\"This is lp_zeta:\", lp_zeta)\n",
    "    \n",
    "    # corr likelihod\n",
    "    lp_corr = rho*rho_inv*lbd_std*zeta_std\n",
    "    #print(\"This is lp_corr:\", lp_corr)\n",
    "\n",
    "    lp_total_m = lp_lbd + lp_zeta + lp_corr + additional_cov\n",
    "    #print(\"This is lp_total_m:\", lp_total_m)\n",
    "    \n",
    "    p_total_m = (np.exp(lp_total_m))/(lvec*zvec)\n",
    "    #print(\"This is p_total_m:\", p_total_m)\n",
    "    \n",
    "    return p_total_m"
   ]
  },
  {
   "cell_type": "code",
   "execution_count": 32,
   "id": "079c4142-9cac-4bac-8ec0-65d9b3c40e70",
   "metadata": {},
   "outputs": [],
   "source": [
    "#rho = theta[-1]\n",
    "#scatter_sze = theta[3]\n",
    "#scatter_lambda = theta[7]\n",
    "\n",
    "SZ_Priors = {'A_sze':[5.24, 0.85], 'B_sze':[1.534, 0.100],'C_sze':[0.465, 0.407],\n",
    "             'scatter_sze':[0.161, 0.080]}\n",
    "\n",
    "sz_theta_values = ['A_sze', 'B_sze', 'C_sze', 'scatter_sze']\n",
    "\n",
    "Lambda_Priors = {'A_lambda':[76.9, 8.2], 'B_lambda':[1.020, 0.080],'C_lambda':[0.23, 0.16],\n",
    "             'scatter_lambda':[0.23, 0.16]}\n",
    "\n",
    "lambda_theta_values = ['A_lambda', 'B_lambda', 'C_lambda', 'scatter_lambda']\n",
    "\n",
    "\n",
    "\n",
    "def set_gaussian_prior(param, mu, sigma):\n",
    "    return -0.5*((param - mu)/(sigma))**2\n",
    "\n",
    "# Setting SZE priors\n",
    "def set_prior_sze(theta_values):\n",
    "    lp = 0.\n",
    "    rhomin = 0.\n",
    "    rhomax = 1.\n",
    "    \n",
    "    for i, prior_name in enumerate(['A_sze', 'B_sze', 'C_sze', 'scatter_sze']):\n",
    "        mean, error = SZ_Priors[prior_name]\n",
    "        param = theta_values[i]\n",
    "        result = set_gaussian_prior(param, mean, error)\n",
    "        lp += np.where(np.abs(result)>9., -np.inf, result)\n",
    "        # outside a range of six sigmas (six standard deviations)\n",
    "    # set prior to 1 (log prior to 0) if in the range and zero (-inf) outside the range \n",
    "    lp = 0. if (theta_values[-1] > 0) else -np.inf\n",
    "    return lp\n",
    "\n",
    "# Setting Lambda priors\n",
    "def set_prior_lambda(theta_values):\n",
    "    lp = 0.\n",
    "    rhomin = 0.\n",
    "    rhomax = 1.\n",
    "    \n",
    "    for i, prior_name in enumerate(['A_lambda', 'B_lambda', 'C_lambda', 'scatter_lambda']):\n",
    "        mean, error = Lambda_Priors[prior_name]\n",
    "        param = theta_values[i]\n",
    "        result = set_gaussian_prior(param, mean, error)\n",
    "        lp += np.where(np.abs(result)>9., -np.inf, result)\n",
    "        # outside a range of six sigmas (six standard deviations)\n",
    "       \n",
    "    # set prior to 1 (log prior to 0) if in the range and zero (-inf) outside the range \n",
    "    lp = 0. if (theta_values[-1] > 0) else -np.inf\n",
    "    return lp\n",
    "\n",
    "def logprior(theta):\n",
    "    lp = 0\n",
    "    \n",
    "    A_lambda, B_lambda, C_lambda, scatter_lambda = theta[4:8]\n",
    "    A_sze, B_sze, C_sze, scatter_sze = theta[:4]\n",
    "    rho = theta[-1]\n",
    "    \n",
    "    lp_lambda = set_prior_lambda([A_lambda, B_lambda, C_lambda, scatter_lambda])\n",
    "    lp_sze = set_prior_sze([A_sze, B_sze, C_sze, scatter_sze])\n",
    "    \n",
    "    lp = 0. if ((rho > 0) and (rho < 1)) else -np.inf\n",
    "    return lp + lp_lambda + lp_sze"
   ]
  },
  {
   "cell_type": "code",
   "execution_count": 33,
   "id": "c1e120c0-8e5f-4941-b6b7-a9c2e98808f9",
   "metadata": {},
   "outputs": [
    {
     "data": {
      "text/plain": [
       "0.0"
      ]
     },
     "execution_count": 33,
     "metadata": {},
     "output_type": "execute_result"
    }
   ],
   "source": [
    "logprior(theta)"
   ]
  },
  {
   "cell_type": "code",
   "execution_count": 34,
   "id": "f55ddadb-ba15-4ed9-befd-672df575547f",
   "metadata": {},
   "outputs": [],
   "source": [
    "def logposterior(theta, indices):\n",
    "    lp = logprior(theta)\n",
    "    \n",
    "    # if the prior is not finite return a probability of zero (log probability of -inf)\n",
    "    if not np.isfinite(lp):\n",
    "        return -np.inf\n",
    "    \n",
    "    # return the likeihood times the prior (log likelihood plus the log prior)\n",
    "    return lp + log_likelihood_vec2(theta, indices, eps=1e-9)"
   ]
  },
  {
   "cell_type": "code",
   "execution_count": 35,
   "id": "c2bb539b-fea9-4a8e-8565-d9571a39587f",
   "metadata": {},
   "outputs": [],
   "source": [
    "#set_prior_sze([5.24, 1.534, 0.465, 0.161])"
   ]
  },
  {
   "cell_type": "code",
   "execution_count": 36,
   "id": "71868733-991f-4ae8-b8f7-f39c4ebef0a9",
   "metadata": {},
   "outputs": [],
   "source": [
    "Nburnin = 800 # number of burn-in samples\n",
    "Nsamples = 1600 # number of final posterior samples\n",
    "walkers = 200\n",
    "ndims = len(theta)\n",
    "\n",
    "guess = (np.array(theta)[:, np.newaxis]*(1.+0.01*np.random.normal(size=(ndims,walkers)))).T\n",
    "\n",
    "# set additional args for the posterior (the data, the noise std. dev., and the abscissa)\n",
    "sel = np.arange(len(redshift))#[:100]\n",
    "sel = np.random.randint(len(redshift), size=100, dtype=int)\n",
    "argslist = [sel]"
   ]
  },
  {
   "cell_type": "code",
   "execution_count": 37,
   "id": "3d4995b9-6cac-4703-9c47-919daa8994d8",
   "metadata": {},
   "outputs": [
    {
     "data": {
      "text/plain": [
       "-472.5463830104744"
      ]
     },
     "execution_count": 37,
     "metadata": {},
     "output_type": "execute_result"
    }
   ],
   "source": [
    "logposterior(theta, sel)"
   ]
  },
  {
   "cell_type": "code",
   "execution_count": null,
   "id": "9a3d1283-a966-4844-90ef-67ca96e33dc2",
   "metadata": {},
   "outputs": [],
   "source": [
    "from scipy.optimize import minimize\n",
    "\n",
    "np.random.seed(42)\n",
    "nll = lambda *args: -log_likelihood_vec2(*args)\n",
    "initial = theta + 0.1 * np.random.randn(9)\n",
    "soln = minimize(nll, initial, args=sel)\n",
    "albd, blbd, clbd, slbd, rho = soln.x[4:]\n",
    "\n",
    "print(\"Maximum likelihood estimates:\")\n",
    "print(\"Albd = {0:.3f}\".format(albd))\n",
    "print(\"Blbd = {0:.3f}\".format(blbd))\n",
    "print(\"Clbd = {0:.3f}\".format(clbd))\n",
    "print(\"Scatter_lbd = {0:.3f}\".format(slbd))\n",
    "print(\"rho: {0:.3f}\".format(rho))"
   ]
  },
  {
   "cell_type": "code",
   "execution_count": 39,
   "id": "aa335996-cd8d-49d8-9b50-e57c1a63e92f",
   "metadata": {},
   "outputs": [
    {
     "data": {
      "text/plain": [
       "[5.24, 1.534, 0.465, 0.161, 76.9, 1.02, 0.29, 0.16, 0.8]"
      ]
     },
     "execution_count": 39,
     "metadata": {},
     "output_type": "execute_result"
    }
   ],
   "source": [
    "theta"
   ]
  },
  {
   "cell_type": "code",
   "execution_count": 40,
   "id": "367a6367-71b1-4744-8d87-65e57c035156",
   "metadata": {},
   "outputs": [
    {
     "data": {
      "text/plain": [
       "0.9999806724569253"
      ]
     },
     "execution_count": 40,
     "metadata": {},
     "output_type": "execute_result"
    }
   ],
   "source": [
    "soln.x[-1]"
   ]
  },
  {
   "cell_type": "code",
   "execution_count": 41,
   "id": "d30ef325-ec4e-4d26-9bf6-4987aa9e71e6",
   "metadata": {},
   "outputs": [
    {
     "name": "stderr",
     "output_type": "stream",
     "text": [
      "  0%|          | 7/2400 [00:10<1:00:16,  1.51s/it]<ipython-input-29-57ab7007df55>:13: RuntimeWarning: divide by zero encountered in log\n",
      "  log_p = np.log(p)\n",
      "  0%|          | 10/2400 [00:14<56:53,  1.43s/it] <ipython-input-29-57ab7007df55>:13: RuntimeWarning: divide by zero encountered in log\n",
      "  log_p = np.log(p)\n",
      "<ipython-input-29-57ab7007df55>:13: RuntimeWarning: divide by zero encountered in log\n",
      "  log_p = np.log(p)\n",
      "  1%|          | 15/2400 [00:21<54:43,  1.38s/it]<ipython-input-29-57ab7007df55>:13: RuntimeWarning: divide by zero encountered in log\n",
      "  log_p = np.log(p)\n",
      "<ipython-input-29-57ab7007df55>:13: RuntimeWarning: divide by zero encountered in log\n",
      "  log_p = np.log(p)\n",
      "  1%|          | 17/2400 [00:24<53:43,  1.35s/it]<ipython-input-29-57ab7007df55>:13: RuntimeWarning: divide by zero encountered in log\n",
      "  log_p = np.log(p)\n",
      "  1%|          | 19/2400 [00:26<52:31,  1.32s/it]<ipython-input-29-57ab7007df55>:13: RuntimeWarning: divide by zero encountered in log\n",
      "  log_p = np.log(p)\n",
      "  1%|          | 20/2400 [00:28<51:53,  1.31s/it]<ipython-input-29-57ab7007df55>:13: RuntimeWarning: divide by zero encountered in log\n",
      "  log_p = np.log(p)\n",
      "  1%|          | 21/2400 [00:29<51:30,  1.30s/it]<ipython-input-29-57ab7007df55>:13: RuntimeWarning: divide by zero encountered in log\n",
      "  log_p = np.log(p)\n",
      "  1%|          | 22/2400 [00:30<50:53,  1.28s/it]<ipython-input-29-57ab7007df55>:13: RuntimeWarning: divide by zero encountered in log\n",
      "  log_p = np.log(p)\n",
      "<ipython-input-29-57ab7007df55>:13: RuntimeWarning: divide by zero encountered in log\n",
      "  log_p = np.log(p)\n",
      "  1%|          | 23/2400 [00:31<50:39,  1.28s/it]<ipython-input-29-57ab7007df55>:13: RuntimeWarning: divide by zero encountered in log\n",
      "  log_p = np.log(p)\n",
      "  1%|          | 26/2400 [00:35<51:32,  1.30s/it]<ipython-input-29-57ab7007df55>:13: RuntimeWarning: divide by zero encountered in log\n",
      "  log_p = np.log(p)\n",
      "<ipython-input-29-57ab7007df55>:13: RuntimeWarning: divide by zero encountered in log\n",
      "  log_p = np.log(p)\n",
      "  1%|          | 27/2400 [00:37<51:15,  1.30s/it]<ipython-input-29-57ab7007df55>:13: RuntimeWarning: divide by zero encountered in log\n",
      "  log_p = np.log(p)\n",
      "  1%|          | 28/2400 [00:38<51:17,  1.30s/it]<ipython-input-29-57ab7007df55>:13: RuntimeWarning: divide by zero encountered in log\n",
      "  log_p = np.log(p)\n",
      "  1%|          | 29/2400 [00:39<49:28,  1.25s/it]<ipython-input-29-57ab7007df55>:13: RuntimeWarning: divide by zero encountered in log\n",
      "  log_p = np.log(p)\n",
      "  1%|▏         | 30/2400 [00:40<49:28,  1.25s/it]<ipython-input-29-57ab7007df55>:13: RuntimeWarning: divide by zero encountered in log\n",
      "  log_p = np.log(p)\n",
      "<ipython-input-29-57ab7007df55>:13: RuntimeWarning: divide by zero encountered in log\n",
      "  log_p = np.log(p)\n",
      "  1%|▏         | 31/2400 [00:42<49:27,  1.25s/it]<ipython-input-29-57ab7007df55>:13: RuntimeWarning: divide by zero encountered in log\n",
      "  log_p = np.log(p)\n",
      "<ipython-input-29-57ab7007df55>:13: RuntimeWarning: divide by zero encountered in log\n",
      "  log_p = np.log(p)\n",
      "<ipython-input-29-57ab7007df55>:13: RuntimeWarning: divide by zero encountered in log\n",
      "  log_p = np.log(p)\n",
      "  1%|▏         | 32/2400 [00:43<48:47,  1.24s/it]<ipython-input-29-57ab7007df55>:13: RuntimeWarning: divide by zero encountered in log\n",
      "  log_p = np.log(p)\n",
      "<ipython-input-29-57ab7007df55>:13: RuntimeWarning: divide by zero encountered in log\n",
      "  log_p = np.log(p)\n",
      "  1%|▏         | 33/2400 [00:44<48:54,  1.24s/it]<ipython-input-29-57ab7007df55>:13: RuntimeWarning: divide by zero encountered in log\n",
      "  log_p = np.log(p)\n",
      "<ipython-input-29-57ab7007df55>:13: RuntimeWarning: divide by zero encountered in log\n",
      "  log_p = np.log(p)\n",
      "  1%|▏         | 34/2400 [00:45<48:42,  1.24s/it]<ipython-input-29-57ab7007df55>:13: RuntimeWarning: divide by zero encountered in log\n",
      "  log_p = np.log(p)\n",
      "  1%|▏         | 35/2400 [00:47<48:40,  1.23s/it]<ipython-input-29-57ab7007df55>:13: RuntimeWarning: divide by zero encountered in log\n",
      "  log_p = np.log(p)\n",
      "<ipython-input-29-57ab7007df55>:13: RuntimeWarning: divide by zero encountered in log\n",
      "  log_p = np.log(p)\n",
      "<ipython-input-29-57ab7007df55>:13: RuntimeWarning: divide by zero encountered in log\n",
      "  log_p = np.log(p)\n",
      "  2%|▏         | 36/2400 [00:48<49:25,  1.25s/it]<ipython-input-29-57ab7007df55>:13: RuntimeWarning: divide by zero encountered in log\n",
      "  log_p = np.log(p)\n",
      "  2%|▏         | 37/2400 [00:49<49:21,  1.25s/it]<ipython-input-29-57ab7007df55>:13: RuntimeWarning: divide by zero encountered in log\n",
      "  log_p = np.log(p)\n",
      "  2%|▏         | 38/2400 [00:50<48:37,  1.24s/it]<ipython-input-29-57ab7007df55>:13: RuntimeWarning: divide by zero encountered in log\n",
      "  log_p = np.log(p)\n",
      "  2%|▏         | 43/2400 [00:56<47:38,  1.21s/it]<ipython-input-29-57ab7007df55>:13: RuntimeWarning: divide by zero encountered in log\n",
      "  log_p = np.log(p)\n",
      "  2%|▏         | 44/2400 [00:57<47:36,  1.21s/it]<ipython-input-29-57ab7007df55>:13: RuntimeWarning: divide by zero encountered in log\n",
      "  log_p = np.log(p)\n",
      "  2%|▏         | 46/2400 [01:00<46:05,  1.17s/it]<ipython-input-29-57ab7007df55>:13: RuntimeWarning: divide by zero encountered in log\n",
      "  log_p = np.log(p)\n",
      "  2%|▏         | 48/2400 [01:02<46:19,  1.18s/it]<ipython-input-29-57ab7007df55>:13: RuntimeWarning: divide by zero encountered in log\n",
      "  log_p = np.log(p)\n",
      "  2%|▏         | 49/2400 [01:03<46:31,  1.19s/it]<ipython-input-29-57ab7007df55>:13: RuntimeWarning: divide by zero encountered in log\n",
      "  log_p = np.log(p)\n",
      "  2%|▏         | 59/2400 [01:14<42:50,  1.10s/it]<ipython-input-29-57ab7007df55>:13: RuntimeWarning: divide by zero encountered in log\n",
      "  log_p = np.log(p)\n",
      "  2%|▎         | 60/2400 [01:16<43:10,  1.11s/it]<ipython-input-29-57ab7007df55>:13: RuntimeWarning: divide by zero encountered in log\n",
      "  log_p = np.log(p)\n",
      "  3%|▎         | 63/2400 [01:19<49:06,  1.26s/it]"
     ]
    },
    {
     "name": "stdout",
     "output_type": "stream",
     "text": [
      "emcee: Exception while calling your likelihood function:emcee: Exception while calling your likelihood function:emcee: Exception while calling your likelihood function:emcee: Exception while calling your likelihood function:\n",
      "emcee: Exception while calling your likelihood function:emcee: Exception while calling your likelihood function:emcee: Exception while calling your likelihood function:emcee: Exception while calling your likelihood function:emcee: Exception while calling your likelihood function:emcee: Exception while calling your likelihood function:emcee: Exception while calling your likelihood function:emcee: Exception while calling your likelihood function:\n",
      "\n",
      "\n",
      "emcee: Exception while calling your likelihood function:emcee: Exception while calling your likelihood function:emcee: Exception while calling your likelihood function:\n",
      "emcee: Exception while calling your likelihood function:emcee: Exception while calling your likelihood function:\n",
      "\n",
      "\n",
      "\n",
      "emcee: Exception while calling your likelihood function:emcee: Exception while calling your likelihood function:emcee: Exception while calling your likelihood function:emcee: Exception while calling your likelihood function:\n",
      "\n",
      "emcee: Exception while calling your likelihood function:emcee: Exception while calling your likelihood function:\n",
      "  params:\n",
      "\n"
     ]
    },
    {
     "name": "stderr",
     "output_type": "stream",
     "text": [
      "\n"
     ]
    },
    {
     "ename": "KeyboardInterrupt",
     "evalue": "",
     "output_type": "error",
     "traceback": [
      "\u001b[0;31m---------------------------------------------------------------------------\u001b[0m",
      "\u001b[0;31mKeyboardInterrupt\u001b[0m                         Traceback (most recent call last)",
      "\u001b[0;32m<ipython-input-41-0a66c7be4a0b>\u001b[0m in \u001b[0;36m<module>\u001b[0;34m\u001b[0m\n\u001b[1;32m      4\u001b[0m     \u001b[0msampler\u001b[0m \u001b[0;34m=\u001b[0m \u001b[0memcee\u001b[0m\u001b[0;34m.\u001b[0m\u001b[0mEnsembleSampler\u001b[0m\u001b[0;34m(\u001b[0m\u001b[0mwalkers\u001b[0m\u001b[0;34m,\u001b[0m \u001b[0mndims\u001b[0m\u001b[0;34m,\u001b[0m \u001b[0mlogposterior\u001b[0m\u001b[0;34m,\u001b[0m\u001b[0margs\u001b[0m\u001b[0;34m=\u001b[0m\u001b[0;34m[\u001b[0m\u001b[0mnp\u001b[0m\u001b[0;34m.\u001b[0m\u001b[0marange\u001b[0m\u001b[0;34m(\u001b[0m\u001b[0mlen\u001b[0m\u001b[0;34m(\u001b[0m\u001b[0mmass\u001b[0m\u001b[0;34m)\u001b[0m\u001b[0;34m)\u001b[0m\u001b[0;34m]\u001b[0m\u001b[0;34m,\u001b[0m \u001b[0mpool\u001b[0m\u001b[0;34m=\u001b[0m\u001b[0mpool\u001b[0m\u001b[0;34m)\u001b[0m\u001b[0;34m\u001b[0m\u001b[0;34m\u001b[0m\u001b[0m\n\u001b[1;32m      5\u001b[0m     \u001b[0mstart\u001b[0m \u001b[0;34m=\u001b[0m \u001b[0mtime\u001b[0m\u001b[0;34m.\u001b[0m\u001b[0mtime\u001b[0m\u001b[0;34m(\u001b[0m\u001b[0;34m)\u001b[0m\u001b[0;34m\u001b[0m\u001b[0;34m\u001b[0m\u001b[0m\n\u001b[0;32m----> 6\u001b[0;31m     \u001b[0msampler\u001b[0m\u001b[0;34m.\u001b[0m\u001b[0mrun_mcmc\u001b[0m\u001b[0;34m(\u001b[0m\u001b[0mguess\u001b[0m\u001b[0;34m,\u001b[0m \u001b[0mNsamples\u001b[0m\u001b[0;34m+\u001b[0m\u001b[0mNburnin\u001b[0m\u001b[0;34m,\u001b[0m \u001b[0mprogress\u001b[0m\u001b[0;34m=\u001b[0m\u001b[0;32mTrue\u001b[0m\u001b[0;34m)\u001b[0m\u001b[0;34m\u001b[0m\u001b[0;34m\u001b[0m\u001b[0m\n\u001b[0m\u001b[1;32m      7\u001b[0m     \u001b[0mend\u001b[0m \u001b[0;34m=\u001b[0m \u001b[0mtime\u001b[0m\u001b[0;34m.\u001b[0m\u001b[0mtime\u001b[0m\u001b[0;34m(\u001b[0m\u001b[0;34m)\u001b[0m\u001b[0;34m\u001b[0m\u001b[0;34m\u001b[0m\u001b[0m\n\u001b[1;32m      8\u001b[0m     \u001b[0mmulti_time\u001b[0m \u001b[0;34m=\u001b[0m \u001b[0mend\u001b[0m \u001b[0;34m-\u001b[0m \u001b[0mstart\u001b[0m\u001b[0;34m\u001b[0m\u001b[0;34m\u001b[0m\u001b[0m\n",
      "\u001b[0;32m/data0/sw/anaconda3/lib/python3.8/site-packages/emcee/ensemble.py\u001b[0m in \u001b[0;36mrun_mcmc\u001b[0;34m(self, initial_state, nsteps, **kwargs)\u001b[0m\n\u001b[1;32m    441\u001b[0m \u001b[0;34m\u001b[0m\u001b[0m\n\u001b[1;32m    442\u001b[0m         \u001b[0mresults\u001b[0m \u001b[0;34m=\u001b[0m \u001b[0;32mNone\u001b[0m\u001b[0;34m\u001b[0m\u001b[0;34m\u001b[0m\u001b[0m\n\u001b[0;32m--> 443\u001b[0;31m         \u001b[0;32mfor\u001b[0m \u001b[0mresults\u001b[0m \u001b[0;32min\u001b[0m \u001b[0mself\u001b[0m\u001b[0;34m.\u001b[0m\u001b[0msample\u001b[0m\u001b[0;34m(\u001b[0m\u001b[0minitial_state\u001b[0m\u001b[0;34m,\u001b[0m \u001b[0miterations\u001b[0m\u001b[0;34m=\u001b[0m\u001b[0mnsteps\u001b[0m\u001b[0;34m,\u001b[0m \u001b[0;34m**\u001b[0m\u001b[0mkwargs\u001b[0m\u001b[0;34m)\u001b[0m\u001b[0;34m:\u001b[0m\u001b[0;34m\u001b[0m\u001b[0;34m\u001b[0m\u001b[0m\n\u001b[0m\u001b[1;32m    444\u001b[0m             \u001b[0;32mpass\u001b[0m\u001b[0;34m\u001b[0m\u001b[0;34m\u001b[0m\u001b[0m\n\u001b[1;32m    445\u001b[0m \u001b[0;34m\u001b[0m\u001b[0m\n",
      "\u001b[0;32m/data0/sw/anaconda3/lib/python3.8/site-packages/emcee/ensemble.py\u001b[0m in \u001b[0;36msample\u001b[0;34m(self, initial_state, log_prob0, rstate0, blobs0, iterations, tune, skip_initial_state_check, thin_by, thin, store, progress, progress_kwargs)\u001b[0m\n\u001b[1;32m    400\u001b[0m \u001b[0;34m\u001b[0m\u001b[0m\n\u001b[1;32m    401\u001b[0m                     \u001b[0;31m# Propose\u001b[0m\u001b[0;34m\u001b[0m\u001b[0;34m\u001b[0m\u001b[0;34m\u001b[0m\u001b[0m\n\u001b[0;32m--> 402\u001b[0;31m                     \u001b[0mstate\u001b[0m\u001b[0;34m,\u001b[0m \u001b[0maccepted\u001b[0m \u001b[0;34m=\u001b[0m \u001b[0mmove\u001b[0m\u001b[0;34m.\u001b[0m\u001b[0mpropose\u001b[0m\u001b[0;34m(\u001b[0m\u001b[0mmodel\u001b[0m\u001b[0;34m,\u001b[0m \u001b[0mstate\u001b[0m\u001b[0;34m)\u001b[0m\u001b[0;34m\u001b[0m\u001b[0;34m\u001b[0m\u001b[0m\n\u001b[0m\u001b[1;32m    403\u001b[0m                     \u001b[0mstate\u001b[0m\u001b[0;34m.\u001b[0m\u001b[0mrandom_state\u001b[0m \u001b[0;34m=\u001b[0m \u001b[0mself\u001b[0m\u001b[0;34m.\u001b[0m\u001b[0mrandom_state\u001b[0m\u001b[0;34m\u001b[0m\u001b[0;34m\u001b[0m\u001b[0m\n\u001b[1;32m    404\u001b[0m \u001b[0;34m\u001b[0m\u001b[0m\n",
      "\u001b[0;32m/data0/sw/anaconda3/lib/python3.8/site-packages/emcee/moves/red_blue.py\u001b[0m in \u001b[0;36mpropose\u001b[0;34m(self, model, state)\u001b[0m\n\u001b[1;32m     91\u001b[0m \u001b[0;34m\u001b[0m\u001b[0m\n\u001b[1;32m     92\u001b[0m             \u001b[0;31m# Compute the lnprobs of the proposed position.\u001b[0m\u001b[0;34m\u001b[0m\u001b[0;34m\u001b[0m\u001b[0;34m\u001b[0m\u001b[0m\n\u001b[0;32m---> 93\u001b[0;31m             \u001b[0mnew_log_probs\u001b[0m\u001b[0;34m,\u001b[0m \u001b[0mnew_blobs\u001b[0m \u001b[0;34m=\u001b[0m \u001b[0mmodel\u001b[0m\u001b[0;34m.\u001b[0m\u001b[0mcompute_log_prob_fn\u001b[0m\u001b[0;34m(\u001b[0m\u001b[0mq\u001b[0m\u001b[0;34m)\u001b[0m\u001b[0;34m\u001b[0m\u001b[0;34m\u001b[0m\u001b[0m\n\u001b[0m\u001b[1;32m     94\u001b[0m \u001b[0;34m\u001b[0m\u001b[0m\n\u001b[1;32m     95\u001b[0m             \u001b[0;31m# Loop over the walkers and update them accordingly.\u001b[0m\u001b[0;34m\u001b[0m\u001b[0;34m\u001b[0m\u001b[0;34m\u001b[0m\u001b[0m\n",
      "\u001b[0;32m/data0/sw/anaconda3/lib/python3.8/site-packages/emcee/ensemble.py\u001b[0m in \u001b[0;36mcompute_log_prob\u001b[0;34m(self, coords)\u001b[0m\n\u001b[1;32m    487\u001b[0m             \u001b[0;32melse\u001b[0m\u001b[0;34m:\u001b[0m\u001b[0;34m\u001b[0m\u001b[0;34m\u001b[0m\u001b[0m\n\u001b[1;32m    488\u001b[0m                 \u001b[0mmap_func\u001b[0m \u001b[0;34m=\u001b[0m \u001b[0mmap\u001b[0m\u001b[0;34m\u001b[0m\u001b[0;34m\u001b[0m\u001b[0m\n\u001b[0;32m--> 489\u001b[0;31m             \u001b[0mresults\u001b[0m \u001b[0;34m=\u001b[0m \u001b[0mlist\u001b[0m\u001b[0;34m(\u001b[0m\u001b[0mmap_func\u001b[0m\u001b[0;34m(\u001b[0m\u001b[0mself\u001b[0m\u001b[0;34m.\u001b[0m\u001b[0mlog_prob_fn\u001b[0m\u001b[0;34m,\u001b[0m \u001b[0mp\u001b[0m\u001b[0;34m)\u001b[0m\u001b[0;34m)\u001b[0m\u001b[0;34m\u001b[0m\u001b[0;34m\u001b[0m\u001b[0m\n\u001b[0m\u001b[1;32m    490\u001b[0m \u001b[0;34m\u001b[0m\u001b[0m\n\u001b[1;32m    491\u001b[0m         \u001b[0;32mtry\u001b[0m\u001b[0;34m:\u001b[0m\u001b[0;34m\u001b[0m\u001b[0;34m\u001b[0m\u001b[0m\n",
      "\u001b[0;32m/data0/sw/anaconda3/lib/python3.8/multiprocessing/pool.py\u001b[0m in \u001b[0;36mmap\u001b[0;34m(self, func, iterable, chunksize)\u001b[0m\n\u001b[1;32m    362\u001b[0m         \u001b[0;32min\u001b[0m \u001b[0ma\u001b[0m \u001b[0mlist\u001b[0m \u001b[0mthat\u001b[0m \u001b[0;32mis\u001b[0m \u001b[0mreturned\u001b[0m\u001b[0;34m.\u001b[0m\u001b[0;34m\u001b[0m\u001b[0;34m\u001b[0m\u001b[0m\n\u001b[1;32m    363\u001b[0m         '''\n\u001b[0;32m--> 364\u001b[0;31m         \u001b[0;32mreturn\u001b[0m \u001b[0mself\u001b[0m\u001b[0;34m.\u001b[0m\u001b[0m_map_async\u001b[0m\u001b[0;34m(\u001b[0m\u001b[0mfunc\u001b[0m\u001b[0;34m,\u001b[0m \u001b[0miterable\u001b[0m\u001b[0;34m,\u001b[0m \u001b[0mmapstar\u001b[0m\u001b[0;34m,\u001b[0m \u001b[0mchunksize\u001b[0m\u001b[0;34m)\u001b[0m\u001b[0;34m.\u001b[0m\u001b[0mget\u001b[0m\u001b[0;34m(\u001b[0m\u001b[0;34m)\u001b[0m\u001b[0;34m\u001b[0m\u001b[0;34m\u001b[0m\u001b[0m\n\u001b[0m\u001b[1;32m    365\u001b[0m \u001b[0;34m\u001b[0m\u001b[0m\n\u001b[1;32m    366\u001b[0m     \u001b[0;32mdef\u001b[0m \u001b[0mstarmap\u001b[0m\u001b[0;34m(\u001b[0m\u001b[0mself\u001b[0m\u001b[0;34m,\u001b[0m \u001b[0mfunc\u001b[0m\u001b[0;34m,\u001b[0m \u001b[0miterable\u001b[0m\u001b[0;34m,\u001b[0m \u001b[0mchunksize\u001b[0m\u001b[0;34m=\u001b[0m\u001b[0;32mNone\u001b[0m\u001b[0;34m)\u001b[0m\u001b[0;34m:\u001b[0m\u001b[0;34m\u001b[0m\u001b[0;34m\u001b[0m\u001b[0m\n",
      "\u001b[0;32m/data0/sw/anaconda3/lib/python3.8/multiprocessing/pool.py\u001b[0m in \u001b[0;36mget\u001b[0;34m(self, timeout)\u001b[0m\n\u001b[1;32m    763\u001b[0m \u001b[0;34m\u001b[0m\u001b[0m\n\u001b[1;32m    764\u001b[0m     \u001b[0;32mdef\u001b[0m \u001b[0mget\u001b[0m\u001b[0;34m(\u001b[0m\u001b[0mself\u001b[0m\u001b[0;34m,\u001b[0m \u001b[0mtimeout\u001b[0m\u001b[0;34m=\u001b[0m\u001b[0;32mNone\u001b[0m\u001b[0;34m)\u001b[0m\u001b[0;34m:\u001b[0m\u001b[0;34m\u001b[0m\u001b[0;34m\u001b[0m\u001b[0m\n\u001b[0;32m--> 765\u001b[0;31m         \u001b[0mself\u001b[0m\u001b[0;34m.\u001b[0m\u001b[0mwait\u001b[0m\u001b[0;34m(\u001b[0m\u001b[0mtimeout\u001b[0m\u001b[0;34m)\u001b[0m\u001b[0;34m\u001b[0m\u001b[0;34m\u001b[0m\u001b[0m\n\u001b[0m\u001b[1;32m    766\u001b[0m         \u001b[0;32mif\u001b[0m \u001b[0;32mnot\u001b[0m \u001b[0mself\u001b[0m\u001b[0;34m.\u001b[0m\u001b[0mready\u001b[0m\u001b[0;34m(\u001b[0m\u001b[0;34m)\u001b[0m\u001b[0;34m:\u001b[0m\u001b[0;34m\u001b[0m\u001b[0;34m\u001b[0m\u001b[0m\n\u001b[1;32m    767\u001b[0m             \u001b[0;32mraise\u001b[0m \u001b[0mTimeoutError\u001b[0m\u001b[0;34m\u001b[0m\u001b[0;34m\u001b[0m\u001b[0m\n",
      "\u001b[0;32m/data0/sw/anaconda3/lib/python3.8/multiprocessing/pool.py\u001b[0m in \u001b[0;36mwait\u001b[0;34m(self, timeout)\u001b[0m\n\u001b[1;32m    760\u001b[0m \u001b[0;34m\u001b[0m\u001b[0m\n\u001b[1;32m    761\u001b[0m     \u001b[0;32mdef\u001b[0m \u001b[0mwait\u001b[0m\u001b[0;34m(\u001b[0m\u001b[0mself\u001b[0m\u001b[0;34m,\u001b[0m \u001b[0mtimeout\u001b[0m\u001b[0;34m=\u001b[0m\u001b[0;32mNone\u001b[0m\u001b[0;34m)\u001b[0m\u001b[0;34m:\u001b[0m\u001b[0;34m\u001b[0m\u001b[0;34m\u001b[0m\u001b[0m\n\u001b[0;32m--> 762\u001b[0;31m         \u001b[0mself\u001b[0m\u001b[0;34m.\u001b[0m\u001b[0m_event\u001b[0m\u001b[0;34m.\u001b[0m\u001b[0mwait\u001b[0m\u001b[0;34m(\u001b[0m\u001b[0mtimeout\u001b[0m\u001b[0;34m)\u001b[0m\u001b[0;34m\u001b[0m\u001b[0;34m\u001b[0m\u001b[0m\n\u001b[0m\u001b[1;32m    763\u001b[0m \u001b[0;34m\u001b[0m\u001b[0m\n\u001b[1;32m    764\u001b[0m     \u001b[0;32mdef\u001b[0m \u001b[0mget\u001b[0m\u001b[0;34m(\u001b[0m\u001b[0mself\u001b[0m\u001b[0;34m,\u001b[0m \u001b[0mtimeout\u001b[0m\u001b[0;34m=\u001b[0m\u001b[0;32mNone\u001b[0m\u001b[0;34m)\u001b[0m\u001b[0;34m:\u001b[0m\u001b[0;34m\u001b[0m\u001b[0;34m\u001b[0m\u001b[0m\n",
      "\u001b[0;32m/data0/sw/anaconda3/lib/python3.8/threading.py\u001b[0m in \u001b[0;36mwait\u001b[0;34m(self, timeout)\u001b[0m\n\u001b[1;32m    556\u001b[0m             \u001b[0msignaled\u001b[0m \u001b[0;34m=\u001b[0m \u001b[0mself\u001b[0m\u001b[0;34m.\u001b[0m\u001b[0m_flag\u001b[0m\u001b[0;34m\u001b[0m\u001b[0;34m\u001b[0m\u001b[0m\n\u001b[1;32m    557\u001b[0m             \u001b[0;32mif\u001b[0m \u001b[0;32mnot\u001b[0m \u001b[0msignaled\u001b[0m\u001b[0;34m:\u001b[0m\u001b[0;34m\u001b[0m\u001b[0;34m\u001b[0m\u001b[0m\n\u001b[0;32m--> 558\u001b[0;31m                 \u001b[0msignaled\u001b[0m \u001b[0;34m=\u001b[0m \u001b[0mself\u001b[0m\u001b[0;34m.\u001b[0m\u001b[0m_cond\u001b[0m\u001b[0;34m.\u001b[0m\u001b[0mwait\u001b[0m\u001b[0;34m(\u001b[0m\u001b[0mtimeout\u001b[0m\u001b[0;34m)\u001b[0m\u001b[0;34m\u001b[0m\u001b[0;34m\u001b[0m\u001b[0m\n\u001b[0m\u001b[1;32m    559\u001b[0m             \u001b[0;32mreturn\u001b[0m \u001b[0msignaled\u001b[0m\u001b[0;34m\u001b[0m\u001b[0;34m\u001b[0m\u001b[0m\n\u001b[1;32m    560\u001b[0m \u001b[0;34m\u001b[0m\u001b[0m\n",
      "\u001b[0;32m/data0/sw/anaconda3/lib/python3.8/threading.py\u001b[0m in \u001b[0;36mwait\u001b[0;34m(self, timeout)\u001b[0m\n\u001b[1;32m    300\u001b[0m         \u001b[0;32mtry\u001b[0m\u001b[0;34m:\u001b[0m    \u001b[0;31m# restore state no matter what (e.g., KeyboardInterrupt)\u001b[0m\u001b[0;34m\u001b[0m\u001b[0;34m\u001b[0m\u001b[0m\n\u001b[1;32m    301\u001b[0m             \u001b[0;32mif\u001b[0m \u001b[0mtimeout\u001b[0m \u001b[0;32mis\u001b[0m \u001b[0;32mNone\u001b[0m\u001b[0;34m:\u001b[0m\u001b[0;34m\u001b[0m\u001b[0;34m\u001b[0m\u001b[0m\n\u001b[0;32m--> 302\u001b[0;31m                 \u001b[0mwaiter\u001b[0m\u001b[0;34m.\u001b[0m\u001b[0macquire\u001b[0m\u001b[0;34m(\u001b[0m\u001b[0;34m)\u001b[0m\u001b[0;34m\u001b[0m\u001b[0;34m\u001b[0m\u001b[0m\n\u001b[0m\u001b[1;32m    303\u001b[0m                 \u001b[0mgotit\u001b[0m \u001b[0;34m=\u001b[0m \u001b[0;32mTrue\u001b[0m\u001b[0;34m\u001b[0m\u001b[0;34m\u001b[0m\u001b[0m\n\u001b[1;32m    304\u001b[0m             \u001b[0;32melse\u001b[0m\u001b[0;34m:\u001b[0m\u001b[0;34m\u001b[0m\u001b[0;34m\u001b[0m\u001b[0m\n",
      "\u001b[0;31mKeyboardInterrupt\u001b[0m: "
     ]
    }
   ],
   "source": [
    "import time\n",
    "from multiprocessing import Pool\n",
    "with Pool(processes = 40) as pool:\n",
    "    sampler = emcee.EnsembleSampler(walkers, ndims, logposterior,args=[np.arange(len(mass))], pool=pool)\n",
    "    start = time.time()\n",
    "    sampler.run_mcmc(guess, Nsamples+Nburnin, progress=True)\n",
    "    end = time.time()\n",
    "    multi_time = end - start\n",
    "    serial_time = (1.5)*(3600)\n",
    "    print(\"Multiprocessing took {0:.1f} seconds\".format(multi_time))\n",
    "    print(\"{0:.1f} times faster than serial\".format(serial_time / multi_time))"
   ]
  },
  {
   "cell_type": "code",
   "execution_count": null,
   "id": "82ceebf5-3f75-4f80-96ed-711d13cbb5eb",
   "metadata": {},
   "outputs": [],
   "source": [
    "#import time\n",
    "#from multiprocessing import Pool\n",
    "\n",
    "#pool = Pool(processes=64)              # start 64 worker processes\n",
    "#sampler = emcee.EnsembleSampler(walkers, ndims, logposterior,args=[np.arange(len(mass))], pool=pool)\n",
    "#start = time.time()\n",
    "#sampler.run_mcmc(guess, Nsamples+Nburnin)\n",
    "#end = time.time()\n",
    "#multi_time = end - start\n",
    "#serial_time = (1.5)*(3600)\n",
    "#print(\"Multiprocessing took {0:.1f} seconds\".format(multi_time))\n",
    "#print(\"{0:.1f} times faster than serial\".format(serial_time / multi_time))\n",
    "\n",
    "# Replaced \"args=[np.arange(len(mass))]\" with \"args=argslist\""
   ]
  },
  {
   "cell_type": "code",
   "execution_count": null,
   "id": "2ba20296-506b-4416-935d-de936eae7edc",
   "metadata": {},
   "outputs": [],
   "source": [
    "flat_samples = sampler.flatchain"
   ]
  },
  {
   "cell_type": "code",
   "execution_count": null,
   "id": "8da1adf6-d0ee-4877-b836-f758832465ec",
   "metadata": {},
   "outputs": [],
   "source": [
    "fig, axes = plt.subplots(ndims, figsize=(10, 7), sharex=True)\n",
    "samples = flat_samples\n",
    "for i in range(ndims):\n",
    "    ax = axes[i]\n",
    "    ax.plot(samples[:, i], \"k\", alpha=0.3)\n",
    "    ax.set_xlim(0, len(samples))\n",
    "    #ax.set_ylabel(labels[i])\n",
    "    ax.yaxis.set_label_coords(-0.1, 0.5)\n",
    "\n",
    "axes[-1].set_xlabel(\"step number\");"
   ]
  },
  {
   "cell_type": "code",
   "execution_count": null,
   "id": "f1aec141-2c15-4140-94cb-69299d261fcf",
   "metadata": {},
   "outputs": [],
   "source": [
    "import corner\n",
    "\n",
    "#fig = corner.corner(\n",
    "#    flat_samples, truths=theta\n",
    "#);\n",
    "\n",
    "fig = corner.corner(\n",
    "    flat_samples, \n",
    "    truths= theta,\n",
    "    labels=[r\"Aλ\", r\"Bλ\", r\"Cλ\", r\"Scatter\", r\"A_SZE\", r\"B_SZE\", r\"C_SZE\", r\"Scatter_SZE\", \"ρ\"], \n",
    "    show_titles = True\n",
    ");"
   ]
  },
  {
   "cell_type": "code",
   "execution_count": null,
   "id": "7eedb7e8-4bef-46eb-a8af-fe13caf21347",
   "metadata": {},
   "outputs": [],
   "source": [
    "#import matplotlib as mpl\n",
    "#mpl.use(\"Agg\") # force Matplotlib backend to Agg\n",
    "#import corner\n",
    "#import corner.py\n",
    "#except ImportError:\n",
    "#    sys.exit(1)"
   ]
  },
  {
   "cell_type": "code",
   "execution_count": null,
   "id": "30dbe510-52b2-4480-b52f-85685713c430",
   "metadata": {},
   "outputs": [
    {
     "name": "stdout",
     "output_type": "stream",
     "text": [
      "40 CPUs\n"
     ]
    }
   ],
   "source": [
    "from multiprocessing import cpu_count\n",
    "\n",
    "ncpu = cpu_count()\n",
    "print(\"{0} CPUs\".format(ncpu))"
   ]
  }
 ],
 "metadata": {
  "kernelspec": {
   "display_name": "Python 3",
   "language": "python",
   "name": "python3"
  },
  "language_info": {
   "codemirror_mode": {
    "name": "ipython",
    "version": 3
   },
   "file_extension": ".py",
   "mimetype": "text/x-python",
   "name": "python",
   "nbconvert_exporter": "python",
   "pygments_lexer": "ipython3",
   "version": "3.8.8"
  }
 },
 "nbformat": 4,
 "nbformat_minor": 5
}
