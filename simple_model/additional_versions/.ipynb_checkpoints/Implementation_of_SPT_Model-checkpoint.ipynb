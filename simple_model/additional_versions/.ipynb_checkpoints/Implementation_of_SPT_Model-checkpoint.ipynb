{
 "cells": [
  {
   "cell_type": "markdown",
   "id": "2d937476",
   "metadata": {
    "tags": []
   },
   "source": [
    "# Implementation of the SPT Model\n",
    "\n",
    "This notebook aims to test the likelihood functions and serve as unit test for any change on the model."
   ]
  },
  {
   "cell_type": "code",
   "execution_count": 1,
   "id": "be8b6f76",
   "metadata": {},
   "outputs": [],
   "source": [
    "from IPython.core.display import display, HTML"
   ]
  },
  {
   "cell_type": "markdown",
   "id": "9f7ef267",
   "metadata": {},
   "source": [
    "Modifications: Johnny Esteves <br>\n",
    "Author: Allen Pinjic - Created on June 21st, 2022"
   ]
  },
  {
   "cell_type": "code",
   "execution_count": 2,
   "id": "f90d2471",
   "metadata": {
    "tags": []
   },
   "outputs": [
    {
     "data": {
      "text/plain": [
       "<colossus.cosmology.cosmology.Cosmology at 0x7f6c8944b1f0>"
      ]
     },
     "execution_count": 2,
     "metadata": {},
     "output_type": "execute_result"
    }
   ],
   "source": [
    "from astropy.io.fits import getdata\n",
    "from astropy.table import Table\n",
    "from astropy.cosmology import WMAP9 as cosmo\n",
    "from colossus.cosmology import cosmology\n",
    "from colossus.lss import mass_function\n",
    "from __future__ import print_function, division\n",
    "cosmology.setCosmology('WMAP9')"
   ]
  },
  {
   "cell_type": "code",
   "execution_count": 3,
   "id": "e05f6f1f",
   "metadata": {},
   "outputs": [],
   "source": [
    "import numpy as np\n",
    "import pandas as pd\n",
    "import matplotlib.pyplot as plt\n",
    "import pylab as plt\n",
    "import matplotlib.font_manager\n",
    "import scipy.stats\n",
    "import scipy.optimize\n",
    "import seaborn as sns\n",
    "import math\n",
    "import os\n",
    "import sys\n",
    "import emcee\n",
    "import pandas as pd\n",
    "import time"
   ]
  },
  {
   "cell_type": "code",
   "execution_count": 4,
   "id": "eff34fc0",
   "metadata": {},
   "outputs": [],
   "source": [
    "%matplotlib inline"
   ]
  },
  {
   "cell_type": "markdown",
   "id": "6cf50750",
   "metadata": {},
   "source": [
    "## Fake Data\n",
    "\n",
    "We created a set of data following the scaling relation fitted on Bocquet et al. 2019. \n",
    "$$\n",
    "\\left< \\ln \\lambda \\right> = \\ln A_{\\lambda} + B_{\\lambda} \\ln{M/M_0} + C_{\\lambda} E(z)/E(0)\n",
    "$$\n",
    "\n",
    "$$\n",
    "\\left< \\ln \\zeta \\right> = \\ln A_{sz} + B_{sz} \\ln{M/M_0} + C_{sz} E(z)/E(0)\n",
    "$$\n",
    "<b> We added only the covariance between $\\lambda$ and $\\zeta$. We didn't model the error on the model parameters and on the observables. "
   ]
  },
  {
   "cell_type": "code",
   "execution_count": 5,
   "id": "b9ac75c6",
   "metadata": {},
   "outputs": [
    {
     "data": {
      "text/html": [
       "<div>\n",
       "<style scoped>\n",
       "    .dataframe tbody tr th:only-of-type {\n",
       "        vertical-align: middle;\n",
       "    }\n",
       "\n",
       "    .dataframe tbody tr th {\n",
       "        vertical-align: top;\n",
       "    }\n",
       "\n",
       "    .dataframe thead th {\n",
       "        text-align: right;\n",
       "    }\n",
       "</style>\n",
       "<table border=\"1\" class=\"dataframe\">\n",
       "  <thead>\n",
       "    <tr style=\"text-align: right;\">\n",
       "      <th></th>\n",
       "      <th>z</th>\n",
       "      <th>M</th>\n",
       "      <th>lambda</th>\n",
       "      <th>chisi</th>\n",
       "      <th>zeta</th>\n",
       "      <th>lambda_error</th>\n",
       "      <th>lambda_wo_noise</th>\n",
       "      <th>lambda_true</th>\n",
       "      <th>zeta_true</th>\n",
       "      <th>res_lambda</th>\n",
       "      <th>res_zeta</th>\n",
       "    </tr>\n",
       "  </thead>\n",
       "  <tbody>\n",
       "    <tr>\n",
       "      <th>0</th>\n",
       "      <td>0.463664</td>\n",
       "      <td>2.719590e+14</td>\n",
       "      <td>68.959538</td>\n",
       "      <td>5.209140</td>\n",
       "      <td>4.912753</td>\n",
       "      <td>5.252030</td>\n",
       "      <td>68.959538</td>\n",
       "      <td>74.564268</td>\n",
       "      <td>5.037077</td>\n",
       "      <td>-5.604730</td>\n",
       "      <td>-0.124324</td>\n",
       "    </tr>\n",
       "    <tr>\n",
       "      <th>1</th>\n",
       "      <td>0.676918</td>\n",
       "      <td>4.801782e+14</td>\n",
       "      <td>147.364196</td>\n",
       "      <td>12.060977</td>\n",
       "      <td>11.935961</td>\n",
       "      <td>7.677609</td>\n",
       "      <td>147.364196</td>\n",
       "      <td>138.025739</td>\n",
       "      <td>12.762131</td>\n",
       "      <td>9.338456</td>\n",
       "      <td>-0.826170</td>\n",
       "    </tr>\n",
       "    <tr>\n",
       "      <th>2</th>\n",
       "      <td>0.265668</td>\n",
       "      <td>2.278837e+14</td>\n",
       "      <td>46.694181</td>\n",
       "      <td>3.655364</td>\n",
       "      <td>3.218957</td>\n",
       "      <td>4.321767</td>\n",
       "      <td>46.694181</td>\n",
       "      <td>60.309474</td>\n",
       "      <td>3.649422</td>\n",
       "      <td>-13.615293</td>\n",
       "      <td>-0.430464</td>\n",
       "    </tr>\n",
       "    <tr>\n",
       "      <th>3</th>\n",
       "      <td>0.809745</td>\n",
       "      <td>2.057665e+14</td>\n",
       "      <td>50.017685</td>\n",
       "      <td>3.959679</td>\n",
       "      <td>3.560766</td>\n",
       "      <td>4.472927</td>\n",
       "      <td>50.017685</td>\n",
       "      <td>59.478862</td>\n",
       "      <td>3.606349</td>\n",
       "      <td>-9.461177</td>\n",
       "      <td>-0.045583</td>\n",
       "    </tr>\n",
       "    <tr>\n",
       "      <th>4</th>\n",
       "      <td>0.631980</td>\n",
       "      <td>2.849472e+14</td>\n",
       "      <td>85.717746</td>\n",
       "      <td>6.509262</td>\n",
       "      <td>6.274591</td>\n",
       "      <td>5.855519</td>\n",
       "      <td>85.717746</td>\n",
       "      <td>80.440987</td>\n",
       "      <td>5.661741</td>\n",
       "      <td>5.276759</td>\n",
       "      <td>0.612850</td>\n",
       "    </tr>\n",
       "    <tr>\n",
       "      <th>...</th>\n",
       "      <td>...</td>\n",
       "      <td>...</td>\n",
       "      <td>...</td>\n",
       "      <td>...</td>\n",
       "      <td>...</td>\n",
       "      <td>...</td>\n",
       "      <td>...</td>\n",
       "      <td>...</td>\n",
       "      <td>...</td>\n",
       "      <td>...</td>\n",
       "      <td>...</td>\n",
       "    </tr>\n",
       "    <tr>\n",
       "      <th>1313</th>\n",
       "      <td>0.122389</td>\n",
       "      <td>2.985537e+14</td>\n",
       "      <td>95.596995</td>\n",
       "      <td>6.602481</td>\n",
       "      <td>6.371244</td>\n",
       "      <td>6.183753</td>\n",
       "      <td>95.596995</td>\n",
       "      <td>77.776056</td>\n",
       "      <td>5.338665</td>\n",
       "      <td>17.820940</td>\n",
       "      <td>1.032580</td>\n",
       "    </tr>\n",
       "    <tr>\n",
       "      <th>1314</th>\n",
       "      <td>0.168466</td>\n",
       "      <td>4.338380e+14</td>\n",
       "      <td>81.751697</td>\n",
       "      <td>8.670597</td>\n",
       "      <td>8.495837</td>\n",
       "      <td>5.718451</td>\n",
       "      <td>81.751697</td>\n",
       "      <td>114.619340</td>\n",
       "      <td>9.571848</td>\n",
       "      <td>-32.867643</td>\n",
       "      <td>-1.076011</td>\n",
       "    </tr>\n",
       "    <tr>\n",
       "      <th>1315</th>\n",
       "      <td>0.421294</td>\n",
       "      <td>2.472466e+14</td>\n",
       "      <td>48.654519</td>\n",
       "      <td>3.522155</td>\n",
       "      <td>3.066851</td>\n",
       "      <td>4.411554</td>\n",
       "      <td>48.654519</td>\n",
       "      <td>67.188726</td>\n",
       "      <td>4.303757</td>\n",
       "      <td>-18.534207</td>\n",
       "      <td>-1.236906</td>\n",
       "    </tr>\n",
       "    <tr>\n",
       "      <th>1316</th>\n",
       "      <td>0.472382</td>\n",
       "      <td>2.767085e+14</td>\n",
       "      <td>82.907164</td>\n",
       "      <td>6.393725</td>\n",
       "      <td>6.154650</td>\n",
       "      <td>5.758721</td>\n",
       "      <td>82.907164</td>\n",
       "      <td>76.002551</td>\n",
       "      <td>5.184654</td>\n",
       "      <td>6.904612</td>\n",
       "      <td>0.969997</td>\n",
       "    </tr>\n",
       "    <tr>\n",
       "      <th>1317</th>\n",
       "      <td>0.282593</td>\n",
       "      <td>3.147440e+14</td>\n",
       "      <td>80.724109</td>\n",
       "      <td>6.725133</td>\n",
       "      <td>6.498263</td>\n",
       "      <td>5.682398</td>\n",
       "      <td>80.724109</td>\n",
       "      <td>84.056989</td>\n",
       "      <td>6.014303</td>\n",
       "      <td>-3.332880</td>\n",
       "      <td>0.483960</td>\n",
       "    </tr>\n",
       "  </tbody>\n",
       "</table>\n",
       "<p>1318 rows × 11 columns</p>\n",
       "</div>"
      ],
      "text/plain": [
       "             z             M      lambda      chisi       zeta  lambda_error  \\\n",
       "0     0.463664  2.719590e+14   68.959538   5.209140   4.912753      5.252030   \n",
       "1     0.676918  4.801782e+14  147.364196  12.060977  11.935961      7.677609   \n",
       "2     0.265668  2.278837e+14   46.694181   3.655364   3.218957      4.321767   \n",
       "3     0.809745  2.057665e+14   50.017685   3.959679   3.560766      4.472927   \n",
       "4     0.631980  2.849472e+14   85.717746   6.509262   6.274591      5.855519   \n",
       "...        ...           ...         ...        ...        ...           ...   \n",
       "1313  0.122389  2.985537e+14   95.596995   6.602481   6.371244      6.183753   \n",
       "1314  0.168466  4.338380e+14   81.751697   8.670597   8.495837      5.718451   \n",
       "1315  0.421294  2.472466e+14   48.654519   3.522155   3.066851      4.411554   \n",
       "1316  0.472382  2.767085e+14   82.907164   6.393725   6.154650      5.758721   \n",
       "1317  0.282593  3.147440e+14   80.724109   6.725133   6.498263      5.682398   \n",
       "\n",
       "      lambda_wo_noise  lambda_true  zeta_true  res_lambda  res_zeta  \n",
       "0           68.959538    74.564268   5.037077   -5.604730 -0.124324  \n",
       "1          147.364196   138.025739  12.762131    9.338456 -0.826170  \n",
       "2           46.694181    60.309474   3.649422  -13.615293 -0.430464  \n",
       "3           50.017685    59.478862   3.606349   -9.461177 -0.045583  \n",
       "4           85.717746    80.440987   5.661741    5.276759  0.612850  \n",
       "...               ...          ...        ...         ...       ...  \n",
       "1313        95.596995    77.776056   5.338665   17.820940  1.032580  \n",
       "1314        81.751697   114.619340   9.571848  -32.867643 -1.076011  \n",
       "1315        48.654519    67.188726   4.303757  -18.534207 -1.236906  \n",
       "1316        82.907164    76.002551   5.184654    6.904612  0.969997  \n",
       "1317        80.724109    84.056989   6.014303   -3.332880  0.483960  \n",
       "\n",
       "[1318 rows x 11 columns]"
      ]
     },
     "execution_count": 5,
     "metadata": {},
     "output_type": "execute_result"
    }
   ],
   "source": [
    "df = pd.read_csv('fake_data_Jul4.csv')\n",
    "df"
   ]
  },
  {
   "cell_type": "code",
   "execution_count": 6,
   "id": "fde6fc0a",
   "metadata": {},
   "outputs": [],
   "source": [
    "def ln_zeta_given_M(theta_sze,M,z):\n",
    "    A_sze, B_sze, C_sze, scatter_sze = theta_sze\n",
    "    return (np.log(A_sze) + (B_sze)*np.log(M/M0) + (C_sze)*(np.log(E(z)/Ez0)))\n",
    "\n",
    "def ln_lbd_given_M(theta_lambda,M,z):\n",
    "    A_lambda, B_lambda, C_lambda, scatter_lambda = theta_lambda\n",
    "    return (np.log(A_lambda) + (B_lambda)*np.log(M/M0) + (C_lambda)*(np.log(E(z)/Ez0)))\n",
    "\n",
    "def logNormal_variance(mu,std):\n",
    "    return (np.exp(std**2)-1)*np.exp(2*mu+std**2)\n",
    "\n",
    "def E(z):\n",
    "    # The Hubble constant at the value of z\n",
    "    Hz = cosmo.H(z).value\n",
    "    # The Hubble constant at z=0\n",
    "    H0 = cosmo.H(0).value\n",
    "    return (Hz/H0)\n",
    "\n",
    "M0 = 3e14\n",
    "Ez0 = E(0)"
   ]
  },
  {
   "cell_type": "markdown",
   "id": "49de129f",
   "metadata": {},
   "source": [
    "### Priors"
   ]
  },
  {
   "cell_type": "code",
   "execution_count": 7,
   "id": "c916bfe9",
   "metadata": {},
   "outputs": [],
   "source": [
    "SZ_Priors = {'A_sze':[5.24, 0.85], 'B_sze':[1.534, 0.100],'C_sze':[0.465, 0.407],\n",
    "             'scatter_sze':[0.161, 0.080]}\n",
    "\n",
    "sz_theta_values = ['A_sze', 'B_sze', 'C_sze', 'scatter_sze']\n",
    "\n",
    "## gaussian priors on lambda with 3 sigma from the true params\n",
    "Lambda_Priors = {'A_lambda':[76.9, 3*8.2], 'B_lambda':[1.020, 3*0.080],'C_lambda':[0.23, 3*0.16],\n",
    "             'scatter_lambda':[0.23, 1.5*0.16]}\n",
    "\n",
    "lambda_theta_values = ['A_lambda', 'B_lambda', 'C_lambda', 'scatter_lambda']"
   ]
  },
  {
   "cell_type": "code",
   "execution_count": 8,
   "id": "7ad6b757",
   "metadata": {
    "tags": []
   },
   "outputs": [],
   "source": [
    "def set_gaussian_prior(param, mu, sigma):\n",
    "    return -0.5*((param - mu)/(sigma))**2\n",
    "\n",
    "# Setting SZE priors\n",
    "def set_prior_sze(theta_values):\n",
    "    lp = 0.\n",
    "    rhomin = 0.\n",
    "    rhomax = 1.\n",
    "    \n",
    "    for i, prior_name in enumerate(['A_sze', 'B_sze', 'C_sze', 'scatter_sze']):\n",
    "        mean, error = SZ_Priors[prior_name]\n",
    "        param = theta_values[i]\n",
    "        result = set_gaussian_prior(param, mean, error)\n",
    "        lp += np.where(np.abs(result)>9., -np.inf, result)\n",
    "        # outside a range of six sigmas (six standard deviations)\n",
    "    # set prior to 1 (log prior to 0) if in the range and zero (-inf) outside the range \n",
    "    lp = 0. if (theta_values[-1] > 0) else -np.inf\n",
    "    return lp\n",
    "\n",
    "# Setting Lambda priors\n",
    "def set_prior_lambda(theta_values):\n",
    "    lp = 0.\n",
    "    rhomin = 0.\n",
    "    rhomax = 1.\n",
    "    \n",
    "    for i, prior_name in enumerate(['A_lambda', 'B_lambda', 'C_lambda', 'scatter_lambda']):\n",
    "        mean, error = Lambda_Priors[prior_name]\n",
    "        param = theta_values[i]\n",
    "        result = set_gaussian_prior(param, mean, error)\n",
    "        lp += np.where(np.abs(result)>9., -np.inf, result)\n",
    "        # outside a range of six sigmas (six standard deviations)\n",
    "       \n",
    "    # set prior to 1 (log prior to 0) if in the range and zero (-inf) outside the range \n",
    "    lp = 0. if (theta_values[-1] > 0) else -np.inf\n",
    "    return lp\n",
    "\n",
    "def logprior(theta):\n",
    "    lp = 0\n",
    "    \n",
    "    A_lambda, B_lambda, C_lambda, scatter_lambda = theta[4:8]\n",
    "    A_sze, B_sze, C_sze, scatter_sze = theta[:4]\n",
    "    rho = theta[-1]\n",
    "    \n",
    "    lp_lambda = set_prior_lambda([A_lambda, B_lambda, C_lambda, scatter_lambda])\n",
    "    lp_sze = set_prior_sze([A_sze, B_sze, C_sze, scatter_sze])\n",
    "    \n",
    "    lp = 0. if ((rho > 0) and (rho < 1)) else -np.inf\n",
    "    return lp + lp_lambda + lp_sze"
   ]
  },
  {
   "cell_type": "code",
   "execution_count": 9,
   "id": "32d53cc6",
   "metadata": {},
   "outputs": [
    {
     "name": "stdout",
     "output_type": "stream",
     "text": [
      "Number of points 1318\n"
     ]
    }
   ],
   "source": [
    "mask = (df['lambda']>2.)&(df['zeta']>0.)\n",
    "ix = np.where(mask)[0]\n",
    "Np = ix.size\n",
    "\n",
    "## changin here\n",
    "yerr = 0.05*(df['lambda'].to_numpy())\n",
    "\n",
    "redshift = (np.array(df['z']))[ix]\n",
    "zeta = (np.array(df['zeta']))[ix]\n",
    "sz_signal = (np.array(df['chisi']))[ix]\n",
    "_lambda = (np.array(df['lambda_wo_noise']))[ix]\n",
    "_lambda_error = (np.array(yerr))[ix]\n",
    "mass = np.array(df['M'])[ix]\n",
    "\n",
    "print('Number of points',Np)"
   ]
  },
  {
   "cell_type": "code",
   "execution_count": 10,
   "id": "5def5526",
   "metadata": {},
   "outputs": [
    {
     "name": "stdout",
     "output_type": "stream",
     "text": [
      "Vector size\n",
      "150\n",
      "125\n"
     ]
    }
   ],
   "source": [
    "# set up integration vectors\n",
    "zvec = np.linspace(np.min(np.array(df['z'])), np.max(np.array(df['z'])), 100)\n",
    "mvec = np.logspace(13.8, 15.2, 125)\n",
    "lbdvec = np.linspace(0.8*np.min(np.array(df['lambda'])), 1.2*np.max(np.array(df['lambda'])), 150)\n",
    "zetavec = np.linspace(1.5, 1.2*np.max(np.array(df['zeta'])), 125)\n",
    "\n",
    "print('Vector size')\n",
    "print(lbdvec.size)\n",
    "print(zetavec.size)"
   ]
  },
  {
   "cell_type": "markdown",
   "id": "da7ca531",
   "metadata": {},
   "source": [
    "### MCMC Setup"
   ]
  },
  {
   "cell_type": "code",
   "execution_count": 11,
   "id": "b35dd4ee",
   "metadata": {},
   "outputs": [],
   "source": [
    "theta_true = [5.24, 1.534, 0.465, 0.161, 76.9, 1.02, 0.29, 0.16, 0.8]\n",
    "Nburnin = 1000 # number of burn-in samples\n",
    "Nsamples = 5000 # number of final posterior samples\n",
    "walkers = 32\n",
    "ndims = len(theta_true)\n",
    "\n",
    "guess = (np.array(theta_true)[:, np.newaxis]*(1.+0.01*np.random.normal(size=(ndims,walkers)))).T"
   ]
  },
  {
   "cell_type": "markdown",
   "id": "1061fd3c",
   "metadata": {},
   "source": [
    "## Implementing Very Simple Model Likelihood"
   ]
  },
  {
   "cell_type": "markdown",
   "id": "051801ce",
   "metadata": {},
   "source": [
    "Using the Simple Model Likelihood in order to see how accurate the predicted MCMC values are from the known true values. \n",
    "\n",
    "In this model:\n",
    "* ($M_{500}$, z) are given as indepedent variables\n",
    "* the errors on $\\lambda$ and $\\zeta$ are not considered\n",
    "\n",
    "This approximation doens't have an integral to compute which makes the computing time much faster."
   ]
  },
  {
   "cell_type": "code",
   "execution_count": 12,
   "id": "5cae8119",
   "metadata": {},
   "outputs": [],
   "source": [
    "def log_likelihood_very_simple(theta):\n",
    "    # unfolding theta\n",
    "    A_lambda, B_lambda, C_lambda, scatter_lambda = theta[4:8]\n",
    "    A_sze, B_sze, C_sze, scatter_sze = theta[:4]\n",
    "    rho = theta[-1]\n",
    "        \n",
    "    # calling predictions;\n",
    "    ln_lbd_pred = ln_lbd_given_M([A_lambda, B_lambda, C_lambda, scatter_lambda], mass, redshift)\n",
    "    ln_zeta_pred= ln_zeta_given_M([A_sze, B_sze, C_sze, scatter_sze], mass, redshift)\n",
    "        \n",
    "    # logNormal Likelihood\n",
    "    lp_lbd_zeta = compute_log_pLbdZeta(_lambda, zeta,\n",
    "                                       scatter_lambda, scatter_sze, rho,\n",
    "                                       ln_lbd_pred, ln_zeta_pred)\n",
    "        \n",
    "    return np.nansum(lp_lbd_zeta)\n",
    "\n",
    "def compute_log_pLbdZeta(Lambda, Zeta, scatter_lambda, scatter_sze, rho,\n",
    "                         ln_lbd_pred, ln_zeta_pred, eps = 1e-9):\n",
    "    # converting std to normal distribution\n",
    "    s_zeta = scatter_sze#logNormal_variance(ln_zeta_pred, scatter_sze)\n",
    "    #s_lambda = np.sqrt(scatter_lambda**2+(Lambda-1)/Lambda**2)#logNormal_variance(ln_lbd_pred, scatter_lambda)\n",
    "    s_lambda = scatter_lambda\n",
    "    s_lambda_inv = np.where(s_lambda<=eps, np.inf, 1/s_lambda)\n",
    "    s_zeta_inv = np.where(s_zeta<=eps, np.inf, 1/s_zeta)\n",
    "    \n",
    "    # avoid error messages\n",
    "    rho2 = (1-rho**2)\n",
    "    rho_inv = np.where(rho2<=eps, np.inf, 1/rho2)\n",
    "    \n",
    "    cov2 = (s_lambda)**(2)*(s_zeta)**(2)*rho2\n",
    "    additional_cov = (-0.5)*np.log(np.pi*cov2)\n",
    "        \n",
    "    lbd_std = (np.log(Lambda) - ln_lbd_pred)*s_lambda_inv\n",
    "    zeta_std = (np.log(Zeta) - ln_zeta_pred)*s_zeta_inv\n",
    "    #np.seterr(invalid='ignore')\n",
    "\n",
    "    # lbd_likelihood\n",
    "    lp_lbd  = (-rho_inv*lbd_std**2)/2.\n",
    "\n",
    "    # zeta likelihood\n",
    "    lp_zeta = (-rho_inv*zeta_std**2)/2.\n",
    "\n",
    "    # corr likelihod\n",
    "    lp_corr = rho*rho_inv*lbd_std*zeta_std\n",
    "    \n",
    "    # total likelihood\n",
    "    lp_total_m = lp_lbd + lp_zeta + lp_corr + additional_cov\n",
    "    \n",
    "    return lp_total_m"
   ]
  },
  {
   "cell_type": "code",
   "execution_count": null,
   "id": "339c428d",
   "metadata": {},
   "outputs": [],
   "source": []
  },
  {
   "cell_type": "markdown",
   "id": "fc7436d9",
   "metadata": {},
   "source": [
    "## Checking LogLikelihood Function\n",
    "\n",
    "I know the true values used to generate the fake data. So I'll check if the true parameters are the ones that minimize the logLikelihood function."
   ]
  },
  {
   "cell_type": "code",
   "execution_count": 13,
   "id": "2e57486e",
   "metadata": {},
   "outputs": [
    {
     "data": {
      "text/plain": [
       "3364.9399354711713"
      ]
     },
     "execution_count": 13,
     "metadata": {},
     "output_type": "execute_result"
    }
   ],
   "source": [
    "log_likelihood_very_simple(theta_true)"
   ]
  },
  {
   "cell_type": "code",
   "execution_count": 14,
   "id": "a16e955f",
   "metadata": {},
   "outputs": [
    {
     "data": {
      "text/plain": [
       "2294.23315993013"
      ]
     },
     "execution_count": 14,
     "metadata": {},
     "output_type": "execute_result"
    }
   ],
   "source": [
    "# a quick of 10% from the truth\n",
    "initial = theta_true + 0.2 * np.random.randn(9)\n",
    "log_likelihood_very_simple(initial)"
   ]
  },
  {
   "cell_type": "code",
   "execution_count": 15,
   "id": "d02d4d5b",
   "metadata": {},
   "outputs": [
    {
     "name": "stderr",
     "output_type": "stream",
     "text": [
      "<ipython-input-12-175230553716>:48: RuntimeWarning: invalid value encountered in add\n",
      "  lp_total_m = lp_lbd + lp_zeta + lp_corr + additional_cov\n",
      "<ipython-input-12-175230553716>:32: RuntimeWarning: invalid value encountered in log\n",
      "  additional_cov = (-0.5)*np.log(np.pi*cov2)\n"
     ]
    }
   ],
   "source": [
    "## plotting this results\n",
    "np.random.seed(42)\n",
    "lps = [-1.*log_likelihood_very_simple(theta_true)]\n",
    "dist = [0.]\n",
    "# increase the quick from the truth\n",
    "for i in [1.,5.,10.,15.,20.,25.,30.,60]:\n",
    "    initial = theta_true + (i/100.) * np.random.randn(9)\n",
    "    nDist = np.linalg.norm(np.array(theta_true)-np.array(initial))\n",
    "    lps.append(-1.*log_likelihood_very_simple(initial))\n",
    "    dist.append(nDist)"
   ]
  },
  {
   "cell_type": "code",
   "execution_count": 16,
   "id": "ebf8d731",
   "metadata": {},
   "outputs": [
    {
     "data": {
      "text/plain": [
       "[-3364.9399354711713,\n",
       " -3345.7384764873996,\n",
       " -2375.2942051035147,\n",
       " -3072.9249906674277,\n",
       " -63.354759121332506,\n",
       " -1923.2706001325573,\n",
       " inf,\n",
       " 556.7012843602793,\n",
       " -0.0]"
      ]
     },
     "execution_count": 16,
     "metadata": {},
     "output_type": "execute_result"
    }
   ],
   "source": [
    "lps"
   ]
  },
  {
   "cell_type": "code",
   "execution_count": 17,
   "id": "c044a5bd",
   "metadata": {},
   "outputs": [
    {
     "data": {
      "image/png": "[encoded data removed]",
      "text/plain": [
       "<Figure size 432x288 with 1 Axes>"
      ]
     },
     "metadata": {
      "needs_background": "light"
     },
     "output_type": "display_data"
    }
   ],
   "source": [
    "plt.scatter(dist,np.array(lps)-np.min(lps)+1.)\n",
    "plt.ylabel('LogLikelihood - Min')\n",
    "plt.xlabel(r'|$\\theta-\\theta_{random}$|')\n",
    "plt.yscale('log')"
   ]
  },
  {
   "cell_type": "code",
   "execution_count": 18,
   "id": "ad8dbfaf",
   "metadata": {},
   "outputs": [
    {
     "name": "stderr",
     "output_type": "stream",
     "text": [
      "<ipython-input-12-175230553716>:32: RuntimeWarning: invalid value encountered in log\n",
      "  additional_cov = (-0.5)*np.log(np.pi*cov2)\n",
      "<ipython-input-12-175230553716>:48: RuntimeWarning: invalid value encountered in add\n",
      "  lp_total_m = lp_lbd + lp_zeta + lp_corr + additional_cov\n"
     ]
    },
    {
     "name": "stdout",
     "output_type": "stream",
     "text": [
      "Very Simple Model took 0.5 seconds\n"
     ]
    }
   ],
   "source": [
    "import time\n",
    "start = time.time()\n",
    "from scipy.optimize import minimize\n",
    "\n",
    "np.random.seed(42)\n",
    "nll = lambda *args: -log_likelihood_very_simple(*args)\n",
    "initial = theta_true + 0.05 * np.random.randn(9)\n",
    "soln = minimize(nll, initial)\n",
    "end = time.time()\n",
    "vsp_time = end - start\n",
    "print(\"Very Simple Model took {0:.1f} seconds\".format(vsp_time))"
   ]
  },
  {
   "cell_type": "code",
   "execution_count": 19,
   "id": "7c50e03c",
   "metadata": {},
   "outputs": [
    {
     "name": "stdout",
     "output_type": "stream",
     "text": [
      "Maximum likelihood estimates:\n",
      "Albd = 77.133\n",
      "Blbd = 1.023\n",
      "Clbd = 0.277\n",
      "Scatter_lbd = 0.168\n",
      "rho: 0.796\n"
     ]
    }
   ],
   "source": [
    "albd, blbd, clbd, slbd, rho = soln.x[4:]\n",
    "\n",
    "print(\"Maximum likelihood estimates:\")\n",
    "print(\"Albd = {0:.3f}\".format(albd))\n",
    "print(\"Blbd = {0:.3f}\".format(blbd))\n",
    "print(\"Clbd = {0:.3f}\".format(clbd))\n",
    "print(\"Scatter_lbd = {0:.3f}\".format(slbd))\n",
    "print(\"rho: {0:.3f}\".format(rho))"
   ]
  },
  {
   "cell_type": "code",
   "execution_count": 20,
   "id": "ae3dbabe",
   "metadata": {},
   "outputs": [
    {
     "data": {
      "text/plain": [
       "[76.9, 1.02, 0.29, 0.16, 0.8]"
      ]
     },
     "execution_count": 20,
     "metadata": {},
     "output_type": "execute_result"
    }
   ],
   "source": [
    "theta_true[4:]"
   ]
  },
  {
   "cell_type": "code",
   "execution_count": 21,
   "id": "db590f8a",
   "metadata": {},
   "outputs": [],
   "source": [
    "def logposterior_vsp(theta):\n",
    "    lp = logprior(theta)\n",
    "    \n",
    "    # if the prior is not finite return a probability of zero (log probability of -inf)\n",
    "    if not np.isfinite(lp):\n",
    "        return -np.inf, -np.inf\n",
    "    ll = lp + log_likelihood_very_simple(theta)\n",
    "    if not np.isfinite(ll):\n",
    "        return lp, -np.inf\n",
    "    return lp + ll, lp\n",
    "    # return the likeihood times the prior (log likelihood plus the log prior)\n",
    "    return lo, lp"
   ]
  },
  {
   "cell_type": "code",
   "execution_count": 24,
   "id": "e20fad42-c2cd-4c9c-91d3-288823e304c4",
   "metadata": {},
   "outputs": [
    {
     "data": {
      "text/plain": [
       "State([[ 5.24484822  1.54778504  0.46600625  0.15260481 77.44853602  1.0217304\n",
       "   0.27707177  0.16518085  0.77927916]\n",
       " [ 5.19735618  1.53494044  0.47747381  0.15763146 77.31995068  1.0011581\n",
       "   0.26891988  0.16859379  0.79714574]\n",
       " [ 5.24391051  1.54927528  0.46354543  0.15403064 77.5386724   1.02734864\n",
       "   0.27238134  0.16368501  0.79712302]\n",
       " [ 5.19957352  1.55690817  0.49178327  0.15572191 76.35303667  1.03434094\n",
       "   0.31415765  0.17013083  0.80075626]\n",
       " [ 5.257106    1.56885995  0.45474241  0.16065763 77.64492693  1.06056006\n",
       "   0.2717463   0.17088381  0.80347587]\n",
       " [ 5.29494769  1.55637397  0.42319939  0.15036372 78.11123379  1.03293419\n",
       "   0.23297793  0.16553436  0.79242421]\n",
       " [ 5.2322314   1.53491544  0.46115218  0.15384113 76.66359639  1.02057255\n",
       "   0.28017202  0.17105289  0.79256257]\n",
       " [ 5.28259011  1.53393575  0.43786196  0.16037617 77.57422707  1.01358112\n",
       "   0.26018836  0.16868951  0.80340793]\n",
       " [ 5.2227135   1.53761335  0.48533429  0.15510956 77.17635489  1.02647835\n",
       "   0.28272562  0.16635635  0.79160824]\n",
       " [ 5.18627258  1.5362737   0.45624564  0.15651575 76.58855857  1.01328411\n",
       "   0.27528563  0.1712694   0.80274133]\n",
       " [ 5.34008583  1.5358467   0.4193774   0.15518823 78.3140561   1.01681721\n",
       "   0.24931652  0.16459611  0.78249215]\n",
       " [ 5.18276772  1.54509536  0.5033194   0.1616514  76.33830688  1.01812867\n",
       "   0.3244543   0.16878598  0.79525406]\n",
       " [ 5.23675265  1.55682723  0.47743178  0.16030971 77.3001545   1.03174481\n",
       "   0.27616333  0.16880786  0.8013153 ]\n",
       " [ 5.27711221  1.54423678  0.44477519  0.15696972 76.81713014  1.01579207\n",
       "   0.29399003  0.16899048  0.78572917]\n",
       " [ 5.17873     1.54910627  0.50802366  0.15643681 76.74212291  1.03802113\n",
       "   0.31702069  0.17024171  0.79313641]\n",
       " [ 5.3028014   1.55396523  0.43836692  0.1546891  77.77208394  1.029596\n",
       "   0.25259617  0.16829042  0.79149272]\n",
       " [ 5.20774487  1.52933239  0.45932004  0.16583801 76.92263591  1.00515\n",
       "   0.27346826  0.17493829  0.82076158]\n",
       " [ 5.20795322  1.53930443  0.43806947  0.15995196 76.8897451   1.00287771\n",
       "   0.23460753  0.16863458  0.80318285]\n",
       " [ 5.20111624  1.53724896  0.47168758  0.15893212 76.84522711  1.01050636\n",
       "   0.27192729  0.17424915  0.81526376]\n",
       " [ 5.20911801  1.54040065  0.48622562  0.16195191 76.44470314  1.0099792\n",
       "   0.31157483  0.17016981  0.81553832]\n",
       " [ 5.26857258  1.56215285  0.40437386  0.15958664 77.56026856  1.03422909\n",
       "   0.21920344  0.17096873  0.80347827]\n",
       " [ 5.1879316   1.55188772  0.47310445  0.15583881 76.26416656  1.02988251\n",
       "   0.2904702   0.16696262  0.78807569]\n",
       " [ 5.18890747  1.52612794  0.4760275   0.16171505 76.87654316  0.99622464\n",
       "   0.25900633  0.16896326  0.80051401]\n",
       " [ 5.19681209  1.54837458  0.4874277   0.1573928  76.91242422  1.02966692\n",
       "   0.28239481  0.16760095  0.80346648]\n",
       " [ 5.13761482  1.54011453  0.51543123  0.16377128 75.67788947  1.00331009\n",
       "   0.33437522  0.17022218  0.80743626]\n",
       " [ 5.25369432  1.54185521  0.45078046  0.15884559 77.11126312  1.02225356\n",
       "   0.29111153  0.17054237  0.80120466]\n",
       " [ 5.23643305  1.54695592  0.45699881  0.15605503 77.0132179   1.00742215\n",
       "   0.27500163  0.1646088   0.79456588]\n",
       " [ 5.19809434  1.54548485  0.45923573  0.15904135 75.69977472  1.02035063\n",
       "   0.32149356  0.17079176  0.8076974 ]\n",
       " [ 5.22885227  1.54603154  0.43432146  0.15938836 77.85886417  1.01604581\n",
       "   0.22974548  0.17226621  0.80404019]\n",
       " [ 5.26797549  1.52147156  0.43844799  0.15044054 76.56884321  1.01138581\n",
       "   0.2912632   0.16238486  0.78006994]\n",
       " [ 5.26017248  1.55777241  0.45337119  0.1547968  77.33954328  1.05073375\n",
       "   0.28360892  0.16734104  0.79582613]\n",
       " [ 5.19093037  1.56730306  0.48485908  0.15408682 76.5989779   1.03749355\n",
       "   0.29588782  0.16405583  0.7959189 ]], log_prob=[3376.03370967 3374.21165865 3375.79140147 3375.91401184 3372.25125254\n",
       " 3372.79778245 3371.71206725 3375.41464475 3374.27945396 3373.99043532\n",
       " 3371.42828303 3375.04368512 3376.63599218 3373.84192968 3374.01102418\n",
       " 3374.43006156 3372.0391044  3373.26871445 3373.89278416 3373.95048239\n",
       " 3373.15920904 3375.60883503 3373.0849817  3376.12779527 3370.59557677\n",
       " 3376.69846582 3375.50563234 3372.48538596 3372.88233909 3367.00691547\n",
       " 3373.75672853 3374.60792657], blobs=[0. 0. 0. 0. 0. 0. 0. 0. 0. 0. 0. 0. 0. 0. 0. 0. 0. 0. 0. 0. 0. 0. 0. 0.\n",
       " 0. 0. 0. 0. 0. 0. 0. 0.], random_state=('MT19937', array([2790532621, 3723957737,  705786600, 1917965312, 3393297081,\n",
       "       1938536104,  255635840, 3922127213, 2652085163, 1546125170,\n",
       "        877347417, 2308126255, 2670157477, 2524735409, 3322812838,\n",
       "       1236499848,  363503411, 1248627215,  764223449, 3921948770,\n",
       "       2140799299, 4155724264, 3017170017, 2658934523, 4097191147,\n",
       "        204088861, 2534357674, 2754506260, 1443246525, 2724351205,\n",
       "       3606207081, 3762793869, 4201434234,  642987795,  642026588,\n",
       "       2059239298,  594000315, 4273867116, 2455248019, 1402482649,\n",
       "       2261123352,  680624372, 2694355521, 4162389189, 2871135205,\n",
       "       4192400676, 1325156879, 1774893360, 1406481375,  313825637,\n",
       "        331707399, 1751174982, 1350455665,   69030246, 1447208889,\n",
       "       3200291824, 4247431931, 1697558061,  545177246, 2782005577,\n",
       "       3793634712, 2785100674,  433182507, 3396782507,  892897918,\n",
       "       3188876309, 4219042411, 2302082844, 2213123873, 3078353159,\n",
       "       1755325175,  956678553,  829366314, 2978736489, 1688318356,\n",
       "       1489409030,  385208711, 3662704474, 3153997434,  532422970,\n",
       "       2895215600, 1193703731, 2615374545,  153524480, 3389348782,\n",
       "       3305168012, 3082447489, 1913324151, 2358136593, 2675381495,\n",
       "       4054785201,  927307249, 1645785748, 3259288820, 4067376973,\n",
       "       2848616868,  326993437,  416965966, 2957133534, 1894408304,\n",
       "        614623453,  541036946, 3992607382, 2128204665, 2264255610,\n",
       "        245779291, 3297646326, 3033597356, 4008395819, 4241422066,\n",
       "        234944588, 2034593777, 2120289278, 1257680879, 3600183787,\n",
       "       2818573108, 1506947453, 1566412518,  277443199, 1606334777,\n",
       "       1385785584, 1002752397, 3858119402, 3474329348, 3997864907,\n",
       "       3121559374, 2925498540, 2714510302, 1112375110, 3799711696,\n",
       "       1400204620,  305166315, 1970761105, 1255358013, 4039795568,\n",
       "       3091108349,  967705709, 1090427798, 1953850151, 2803473068,\n",
       "         95397113,  375657605,  480886400, 3912362185,  998304426,\n",
       "       2406192835,  231375003, 3722431326, 3713613525, 2427980540,\n",
       "       2139037721,  794248066,  957943814, 1351715422, 4172153886,\n",
       "       2029460369, 3864784683,  199436453, 3281083797, 4096026267,\n",
       "        536124054, 2245066751, 4165570116, 1748907114, 1787891998,\n",
       "       1307020217, 1775032823,  548401933, 3993903113, 3264532665,\n",
       "       1641416927, 2288068229, 3873219647, 2591649749, 3848163214,\n",
       "        697633617, 3915488134, 4250106809, 3807191537, 2438650526,\n",
       "        229716708, 3875362627, 2641932382, 3540310899, 1218826844,\n",
       "       2128118944, 4119367456, 3502629900, 2031140921,  727591774,\n",
       "       3047384285,   70652140, 4266619997,  626192404, 1895792299,\n",
       "       2248242274, 1680776551, 2466484194, 2708757127,  929687307,\n",
       "       1331117416,  638520605, 1609703334, 1189978408, 3536990581,\n",
       "        457778134, 2570725655, 3987603828, 1199134825, 3540703810,\n",
       "       3108535743, 3160903143,  443188967, 1454777322, 1984952790,\n",
       "       1643504532, 1498946821, 3840469702,  463253563,   70989117,\n",
       "       1126457420,   15499556, 2069899602, 2318272816, 3315661719,\n",
       "       1526659138, 1420179453, 3310528316,  605977695, 4095921895,\n",
       "       3096340477,  254510064, 2898412250, 3473427940, 2831391840,\n",
       "       4063787728,  176058774, 3348640603,  633140048, 1089500750,\n",
       "       1129682561, 2160438730, 3872322696, 3385512035, 1332385293,\n",
       "       1083949558, 3193975818, 2252323075, 2320168580,  921652846,\n",
       "       1465365307, 1134297850, 2854161680, 1081646253, 1536351265,\n",
       "       3985579021, 2996499534, 3578351378,    3421917, 3783035516,\n",
       "       2368977649,  657665071, 2965611880,  546437298, 1141492740,\n",
       "       1304266646, 3896361573,   68697369, 1257797091, 3097028080,\n",
       "       2347870106,  227862715, 2081233773, 4177508563, 4206034404,\n",
       "       4246738172, 3254107978,  233151218, 2029122997,  299469130,\n",
       "        287053666, 3626475277,  166376568, 2418758140, 2337027020,\n",
       "       2505570314,  790421082, 2258199831, 1321676216, 1935035490,\n",
       "       2108726128, 2784506027, 3821375878, 1504584157,  438417780,\n",
       "       2183779408, 1425443481, 4117340584,  378562205, 4075091186,\n",
       "       3352372271, 3383269080, 1381877635, 1801228027, 2761870269,\n",
       "         61821178, 1677185290, 1349119987,  367441426, 1936974304,\n",
       "       1508416798, 3138026941, 3501627204, 1446731947, 3805274035,\n",
       "        306487767, 3602756396, 1692813899,  120143961, 4153038983,\n",
       "        214671010, 3098136427,  588430638,  329479616, 1549490694,\n",
       "       3153914437,  130638906, 2944442232,  692933809, 1064272100,\n",
       "       1841021842, 1029860152, 1971957857,  279375767, 2637452133,\n",
       "        170092831,  597976324, 2588933428, 2592953976, 3948859198,\n",
       "       1137633009, 1132075396, 2091915642,  117117432, 1016146261,\n",
       "       3588542551, 2408654481,  488478925, 2494122245, 2902244732,\n",
       "        139357568, 2580548715, 3582930435, 1689455515,  729715917,\n",
       "       2208665358,  437115312, 2913048032,  485800063, 2959019842,\n",
       "       2925795917,  565600848, 3393545822, 2751187978, 4160866252,\n",
       "       1567826025, 1976120773, 1661739852, 2057000769,   10831579,\n",
       "       3427060441, 3453358293,  731755882, 3679005509, 3352170967,\n",
       "       1577907962,   88041120, 2891170936, 4161484321,  444474702,\n",
       "       3985402439, 3807614780, 3874245247,  266796912, 3668672725,\n",
       "       2987445046, 2359386743,  769636880,  978263518, 3557897156,\n",
       "       1284552002,  641631116, 3272009362, 3894457228, 3678752787,\n",
       "        209980392,  638806019, 2224488706, 3296687791, 3777468346,\n",
       "       1188035859, 3122995671, 2270191175, 2645039481, 1026839425,\n",
       "        131107904, 3562867393, 1039226391, 1436381587,  221439211,\n",
       "       3968725027, 1771086294, 2574973363,  499555519, 3428997897,\n",
       "       4254477458, 2276014352, 2061667047, 1472831571, 4267031818,\n",
       "       2813677337, 4050302707, 4214278771, 2179630453, 3624793576,\n",
       "       1322163636,  847405490, 2295986622, 2813946084, 3863010318,\n",
       "       1464963665,  208067567, 4259831898, 3683143703,  231106923,\n",
       "        771772271, 3771315726, 1856734542, 3503546428, 2221514061,\n",
       "       3358217525, 3174981105, 1273353694, 4176609666, 3039426812,\n",
       "       4088359280, 1481082980,  525583360, 1001203369,  977177206,\n",
       "       3830900115, 2524605609, 3010861125, 4000029866,  464505637,\n",
       "       3831710245, 2267172446, 2838253390, 2112147579, 1983591649,\n",
       "       3608028874, 3102280436, 4125339871,  230155634, 1661249002,\n",
       "       2667047566, 3189586818, 3682440533, 2372495298, 2797271320,\n",
       "       2314437966, 1968639177,  437707625, 3214226087, 2686072365,\n",
       "       2663525452, 2162256599, 3418200655,  703012949, 4016461734,\n",
       "        907718742, 1830199897, 1834728057, 1546224686, 2846827664,\n",
       "       2750310860,  686986908, 4102901961, 3552455386,  516394672,\n",
       "         12664772, 3328877610,  569708354, 1921855563, 2128381855,\n",
       "        762430623, 1689105914, 4072293987,  718692681,  986619451,\n",
       "       1852495282, 1972673508, 2517300484, 2362863705, 2556552083,\n",
       "       3152637284, 1218627431, 2869162821,  265415065,    5996219,\n",
       "       2960344991, 2066354739, 3569078829,  998966433, 1835443551,\n",
       "       3635296867, 2534895739,  358860068,   84939088, 2792884250,\n",
       "       3184196146,  628928436, 3085014619, 1624479729, 2810467712,\n",
       "       3123059760, 2510455201,   86034957,  145805393, 1302592524,\n",
       "       3553842970,  920059294, 1510734612, 2299249832, 3709607007,\n",
       "       1120602654, 1276273610, 1554904063, 2693058855,  189494387,\n",
       "        607505476,   57672021, 3684206694, 1646249078, 3792968461,\n",
       "        178711802, 2051314969,  891013630,  962606834, 3060017783,\n",
       "       1031347961,  283695450, 3860348266, 1245422289, 2004551653,\n",
       "       1849786905, 1786889726,  439817439, 3890088874, 2003629210,\n",
       "       1768890347, 1989293589, 3173507959,  750538682, 1101012819,\n",
       "       1053046624, 1755132429, 2436881291, 2302848588, 1828962055,\n",
       "       3362795898,  914909957, 3183616823, 4217488739, 1595346920,\n",
       "       2861632608, 2382067667, 1808219877, 4143046680, 3953206171,\n",
       "        111469978,  287565756,  918507165, 1750316550,  602335764,\n",
       "       1323052725, 2060291592, 2864291102,   96342354,  895750851,\n",
       "       2178546286, 3032886113, 3390156859, 2754733426, 3555438430,\n",
       "       4019602177, 1476485621,    2355161,   20813741, 2594516017,\n",
       "       1145804064, 3876388600, 2256718135, 1225352744, 3409509184,\n",
       "       3748722739, 3201167349, 2820564973,  486599858, 3709612170,\n",
       "       1027345842,   65535496, 4182523435, 1225189969, 3002101942,\n",
       "       1344521227,  347964490, 1687163984, 1357972160, 1384553135,\n",
       "       2810652847,  989159271, 3000475659, 3962686426], dtype=uint32), 59, 1, 0.5425600435859647))"
      ]
     },
     "execution_count": 24,
     "metadata": {},
     "output_type": "execute_result"
    }
   ],
   "source": [
    "##########################################################################\n",
    "#import time\n",
    "#from multiprocessing import Pool\n",
    "\n",
    "pool = Pool(processes=40)\n",
    "filename = \"very_simple_model_result.h5\"\n",
    "backend = emcee.backends.HDFBackend(filename)\n",
    "backend.reset(walkers, ndims)\n",
    "sampler = emcee.EnsembleSampler(walkers, ndims, logposterior_vsp, backend=backend, pool=pool)\n",
    "coords = np.random.randn(32, 9)\n",
    "sampler.run_mcmc(guess, Nsamples+Nburnin)\n",
    "\n",
    "##########################################################################"
   ]
  },
  {
   "cell_type": "code",
   "execution_count": 25,
   "id": "e8271a45-4b0c-4b05-a4e2-dd771055dd28",
   "metadata": {},
   "outputs": [
    {
     "name": "stdout",
     "output_type": "stream",
     "text": [
      "burn-in: 230\n",
      "thin: 44\n",
      "flat chain shape: (4192, 9)\n",
      "flat log prob shape: (4192,)\n",
      "flat log prior shape: (4192,)\n"
     ]
    }
   ],
   "source": [
    "reader = emcee.backends.HDFBackend(filename)\n",
    "\n",
    "tau = reader.get_autocorr_time()\n",
    "burnin = int(2 * np.max(tau))\n",
    "thin = int(0.5 * np.min(tau))\n",
    "samples = reader.get_chain(discard=burnin, flat=True, thin=thin)\n",
    "log_prob_samples = reader.get_log_prob(discard=burnin, flat=True, thin=thin)\n",
    "log_prior_samples = reader.get_blobs(discard=burnin, flat=True, thin=thin)\n",
    "\n",
    "print(\"burn-in: {0}\".format(burnin))\n",
    "print(\"thin: {0}\".format(thin))\n",
    "print(\"flat chain shape: {0}\".format(samples.shape))\n",
    "print(\"flat log prob shape: {0}\".format(log_prob_samples.shape))\n",
    "print(\"flat log prior shape: {0}\".format(log_prior_samples.shape))"
   ]
  },
  {
   "cell_type": "code",
   "execution_count": null,
   "id": "6577a9a0-25e6-47ee-a05c-cce19479b169",
   "metadata": {},
   "outputs": [],
   "source": [
    "# ##########################################################################\n",
    "# #max_n = 20000\n",
    "\n",
    "# # We'll track how the average autocorrelation time estimate changes\n",
    "# #index = 0\n",
    "# #autocorr = np.empty(max_n)\n",
    "\n",
    "# # This will be useful to testing convergence\n",
    "# #old_tau = np.inf\n",
    "\n",
    "# # Now we'll sample for up to max_n steps\n",
    "# for sample in sampler.sample(coords, iterations=max_n, progress=True):\n",
    "#     # Only check convergence every 100 steps\n",
    "#     if sampler.iteration % 100:\n",
    "#         continue\n",
    "\n",
    "#     # Compute the autocorrelation time so far\n",
    "#     # Using tol=0 means that we'll always get an estimate even\n",
    "#     # if it isn't trustworthy\n",
    "#     tau = sampler.get_autocorr_time(tol=0)\n",
    "#     autocorr[index] = np.mean(tau)\n",
    "#     index += 1\n",
    "\n",
    "#     # Check convergence\n",
    "#     converged = np.all(tau * 100 < sampler.iteration)\n",
    "#     converged &= np.all(np.abs(old_tau - tau) / tau < 0.01)\n",
    "#     if converged:\n",
    "#         break\n",
    "#     old_tau = tau\n",
    "# ##########################################################################"
   ]
  },
  {
   "cell_type": "code",
   "execution_count": null,
   "id": "a9aa79e7-3304-477f-a174-67265226c2bd",
   "metadata": {},
   "outputs": [],
   "source": [
    "# ##########################################################################\n",
    "# import matplotlib.pyplot as plt\n",
    "\n",
    "# n = 100 * np.arange(1, index + 1)\n",
    "# y = autocorr[:index]\n",
    "# plt.plot(n, n / 100.0, \"--k\")\n",
    "# plt.plot(n, y)\n",
    "# plt.xlim(0, n.max())\n",
    "# plt.ylim(0, y.max() + 0.1 * (y.max() - y.min()))\n",
    "# plt.xlabel(\"number of steps\")\n",
    "# plt.ylabel(r\"mean $\\hat{\\tau}$\");\n",
    "# ##########################################################################"
   ]
  },
  {
   "cell_type": "code",
   "execution_count": null,
   "id": "af887726-2d0e-4df8-9c76-12498f75b264",
   "metadata": {},
   "outputs": [],
   "source": [
    "# ##########################################################################\n",
    "# import corner\n",
    "\n",
    "# tau = sampler.get_autocorr_time()\n",
    "# burnin = int(2 * np.max(tau))\n",
    "# thin = int(0.5 * np.min(tau))\n",
    "# samples = sampler.get_chain(discard=burnin, flat=True, thin=thin)\n",
    "# log_prob_samples = sampler.get_log_prob(discard=burnin, flat=True, thin=thin)\n",
    "# log_prior_samples = sampler.get_blobs(discard=burnin, flat=True, thin=thin)\n",
    "\n",
    "# print(\"burn-in: {0}\".format(burnin))\n",
    "# print(\"thin: {0}\".format(thin))\n",
    "# print(\"flat chain shape: {0}\".format(samples.shape))\n",
    "# print(\"flat log prob shape: {0}\".format(log_prob_samples.shape))\n",
    "# print(\"flat log prior shape: {0}\".format(log_prior_samples.shape))\n",
    "\n",
    "# all_samples = np.concatenate(\n",
    "#     (samples, log_prob_samples[:, None], log_prior_samples[:, None]), axis=1\n",
    "# )\n",
    "\n",
    "# labels = list(map(r\"$\\theta_{{{0}}}$\".format, range(1, ndim + 1)))\n",
    "# labels += [\"log prob\", \"log prior\"]\n",
    "\n",
    "# corner.corner(all_samples, labels=labels);\n",
    "# ##########################################################################"
   ]
  },
  {
   "cell_type": "code",
   "execution_count": 22,
   "id": "b46ebd9e",
   "metadata": {},
   "outputs": [
    {
     "name": "stdout",
     "output_type": "stream",
     "text": [
      "Very Simple Model took 43.3 seconds\n"
     ]
    }
   ],
   "source": [
    "import time\n",
    "from multiprocessing import Pool\n",
    "\n",
    "pool = Pool(processes=40)              # start 64 worker processes\n",
    "sampler = emcee.EnsembleSampler(walkers, ndims, logposterior_vsp, pool=pool)\n",
    "start = time.time()\n",
    "sampler.run_mcmc(guess, Nsamples+Nburnin)\n",
    "end = time.time()\n",
    "vsp_mcmc_time = end - start\n",
    "print(\"Very Simple Model took {0:.1f} seconds\".format(vsp_mcmc_time))"
   ]
  },
  {
   "cell_type": "code",
   "execution_count": 23,
   "id": "56fe098e",
   "metadata": {},
   "outputs": [
    {
     "ename": "NameError",
     "evalue": "name 'flat_samples' is not defined",
     "output_type": "error",
     "traceback": [
      "\u001b[0;31m---------------------------------------------------------------------------\u001b[0m",
      "\u001b[0;31mNameError\u001b[0m                                 Traceback (most recent call last)",
      "\u001b[0;32m<ipython-input-23-52bedd286ec4>\u001b[0m in \u001b[0;36m<module>\u001b[0;34m\u001b[0m\n\u001b[1;32m      1\u001b[0m \u001b[0;32mimport\u001b[0m \u001b[0mcorner\u001b[0m\u001b[0;34m\u001b[0m\u001b[0;34m\u001b[0m\u001b[0m\n\u001b[1;32m      2\u001b[0m \u001b[0;34m\u001b[0m\u001b[0m\n\u001b[0;32m----> 3\u001b[0;31m fig = corner.corner(flat_samples, \n\u001b[0m\u001b[1;32m      4\u001b[0m                     \u001b[0mtruths\u001b[0m\u001b[0;34m=\u001b[0m\u001b[0mtheta_true\u001b[0m\u001b[0;34m,\u001b[0m\u001b[0;34m\u001b[0m\u001b[0;34m\u001b[0m\u001b[0m\n\u001b[1;32m      5\u001b[0m                     \u001b[0;31m#labels=[r\"Aλ\", r\"Bλ\", r\"Cλ\", r\"Scatter\", r\"A_SZE\", r\"B_SZE\", r\"C_SZE\", r\"Scatter_SZE\", \"ρ\"],\u001b[0m\u001b[0;34m\u001b[0m\u001b[0;34m\u001b[0m\u001b[0;34m\u001b[0m\u001b[0m\n",
      "\u001b[0;31mNameError\u001b[0m: name 'flat_samples' is not defined"
     ]
    }
   ],
   "source": [
    "import corner\n",
    "\n",
    "fig = corner.corner(flat_samples, \n",
    "                    truths=theta_true,\n",
    "                    #labels=[r\"Aλ\", r\"Bλ\", r\"Cλ\", r\"Scatter\", r\"A_SZE\", r\"B_SZE\", r\"C_SZE\", r\"Scatter_SZE\", \"ρ\"],\n",
    "                    show_titles = True);"
   ]
  },
  {
   "cell_type": "code",
   "execution_count": null,
   "id": "7451ec79-704b-41d6-ac63-76dbc5e213df",
   "metadata": {},
   "outputs": [],
   "source": []
  },
  {
   "cell_type": "markdown",
   "id": "993213d8",
   "metadata": {},
   "source": [
    "Most of the parameters quite well. The slope is a bit shallower due to the cuts applied on $\\xi$."
   ]
  },
  {
   "cell_type": "markdown",
   "id": "d51a8f6e",
   "metadata": {},
   "source": [
    "## Implementing Simple LogLikelihood Model\n",
    "\n",
    "Now we consider the errors on the observables. Doing so, we add the integration over $\\lambda$ and $\\zeta$.\n",
    "\n",
    "After the previous step, for each cluster we compute:\n",
    "\n",
    "$$\n",
    "P(\\lambda|\\xi^{i},M^{i},z^{i}) = \\int d\\zeta \\; P(\\xi|\\zeta) \\times P(\\zeta,\\lambda|M,z)\n",
    "$$\n",
    "and \n",
    "$$\n",
    "P(\\lambda|\\xi^{i},M^{i},z^{i}) = \\int d\\lambda \\; P(\\hat{\\lambda}|\\lambda) \\times P(\\lambda|\\xi^{i},M^{i},z^{i})\n",
    "$$\n",
    "where the $P(\\zeta,\\lambda|M,z)$ is the multivariate gaussian distribution with a correlation factor $\\rho$."
   ]
  },
  {
   "cell_type": "code",
   "execution_count": null,
   "id": "b89d9d4a",
   "metadata": {},
   "outputs": [],
   "source": [
    "from scipy.integrate import simps\n",
    "\n",
    "# given: mvec, lbdvec and zetavec\n",
    "# grid of lambda and zeta values to be intregated over\n",
    "zz, ll = np.meshgrid(zetavec, lbdvec, indexing='ij')\n",
    "step = np.where(lbdvec>40.,1.,0.)\n",
    "def log_likelihood_simple(theta, indices, eps=1e-9):\n",
    "    # for each cluster compute the log_likelihood\n",
    "    \n",
    "    # defining variables\n",
    "    probs = []\n",
    "    for ix in indices:\n",
    "        probs.append(_likelihood_simple(theta, ix))\n",
    "    \n",
    "    # missing a normalization factor\n",
    "    p = np.array(probs)\n",
    "    log_p = np.log(p)\n",
    "    log_p = np.where(np.isnan(log_p), -np.inf, log_p)\n",
    "    return np.sum(log_p)\n",
    "\n",
    "def _likelihood_simple(theta, ix):\n",
    "    # unfolding theta\n",
    "    A_lambda, B_lambda, C_lambda, scatter_lambda = theta[4:8]\n",
    "    A_sze, B_sze, C_sze, scatter_sze = theta[:4]\n",
    "    rho = theta[-1]\n",
    "    \n",
    "    # calling the indepedent variables\n",
    "    # there are defined as global variables\n",
    "    mass_i = mass[ix]\n",
    "    redshift_i = redshift[ix]\n",
    "    p_chisi = prob_chisi_vec[ix]\n",
    "    p_lbd_hat = prob_lbd_hat_vec[ix]\n",
    "    \n",
    "    # take the indices with non zero values for P_chisi, P_lbd_hat\n",
    "    # this approx. makes the code to run faster by a factor 10\n",
    "    llo, lup = list(lbd_indices_vec[ix])\n",
    "    #llo, lup = 0, len(lbdvec)\n",
    "    clo, cup = list(zeta_indices_vec[ix])\n",
    "    \n",
    "    # calling predictions;\n",
    "    ln_lbd_pred = ln_lbd_given_M([A_lambda, B_lambda, C_lambda, scatter_lambda], mass_i, redshift_i)\n",
    "    ln_zeta_pred= ln_zeta_given_M([A_sze, B_sze, C_sze, scatter_sze], mass_i, redshift_i)\n",
    "    \n",
    "    # the logNormal Distribution\n",
    "    lp_lbd_zeta = compute_log_pLbdZeta(ll[clo:cup,llo:lup], zz[clo:cup,llo:lup],\n",
    "                                      scatter_lambda, scatter_sze, rho,\n",
    "                                      ln_lbd_pred, ln_zeta_pred)\n",
    "    p_lbd_zeta = np.exp(lp_lbd_zeta)\n",
    "    \n",
    "    # integrate over zeta\n",
    "    p_chisi = np.tile(p_chisi[clo:cup], (int(lup-llo), 1)).T\n",
    "    p_lbd = np.trapz(p_lbd_zeta*p_chisi, x=zetavec[clo:cup], axis=0)\n",
    "    \n",
    "    # integrate over lambda\n",
    "    norm = np.trapz(p_lbd, x=lbdvec[llo:lup])\n",
    "    p = np.trapz(p_lbd*p_lbd_hat[llo:lup], x=lbdvec[llo:lup], axis=0)\n",
    "    return p/norm"
   ]
  },
  {
   "cell_type": "code",
   "execution_count": null,
   "id": "1330ff5e",
   "metadata": {},
   "outputs": [],
   "source": [
    "def gaussian(x,mu,std):\n",
    "    return np.exp(-(x-mu)**2/std**2/2.)/np.sqrt(2*np.pi*std**2)\n",
    "\n",
    "def prob_chisi(zeta, xi):\n",
    "    res = np.exp(-(xi-np.sqrt(zeta**2+2))**2/2.)/np.sqrt(2*np.pi)\n",
    "    return res\n",
    "\n",
    "def prob_lbd_hat(x, mean , std):\n",
    "    res = gaussian(x, mean , std)\n",
    "    return res\n",
    "\n",
    "def prob_mass(zeta, mass, z, params):\n",
    "    params = A_sze, B_sze, C_sze, scatter_sze\n",
    "    ln_zeta_pred= ln_zeta_given_M([A_sze, B_sze, C_sze, scatter_sze], mass, z)\n",
    "    ln_prob = -0.5*((np.log(zeta)-ln_zeta_pred)/scatter_sze)**2\n",
    "    return ln_prob\n",
    "    \n",
    "def slice_array(y,alpha=1e-2):\n",
    "    cy = np.cumsum(y/np.sum(y),axis=0)\n",
    "    ilo,iup = np.interp([alpha,1-alpha],cy,np.arange(len(y))).astype(int)+(0,1)\n",
    "    return ilo, iup"
   ]
  },
  {
   "cell_type": "code",
   "execution_count": null,
   "id": "04ef265d",
   "metadata": {},
   "outputs": [],
   "source": [
    "# prob_mass_vec = np.array([prob_mass(sz_signal_i, mvec, z_i, theta[:4]) for sz_signal_i,z_i in zip(sz_signal,redshift)])"
   ]
  },
  {
   "cell_type": "code",
   "execution_count": null,
   "id": "04c67352",
   "metadata": {},
   "outputs": [],
   "source": [
    "alpha = 0.0001\n",
    "\n",
    "prob_lbd_hat_vec = np.array([prob_lbd_hat(lbdvec, _lambda_i, _lambda_error_i)\n",
    "                             for _lambda_i, _lambda_error_i in zip(_lambda, _lambda_error)])\n",
    "print(\"This is prob_lbd_hat_vec shape :\", prob_lbd_hat_vec.shape)\n",
    "\n",
    "prob_chisi_vec = np.array([prob_chisi(zetavec, sz_signal_i) for sz_signal_i in sz_signal])\n",
    "\n",
    "lbd_indices_vec = np.array([slice_array(pi, alpha=alpha) for pi in prob_lbd_hat_vec])\n",
    "print(\"This is lbd_indices_vec:\", lbd_indices_vec[:3])\n",
    "\n",
    "zeta_indices_vec = np.array([slice_array(pi, alpha=alpha) for pi in prob_chisi_vec])\n",
    "print(zeta_indices_vec.shape)\n",
    "print(\"This is zeta_indices_vec shape:\", zeta_indices_vec.shape)"
   ]
  },
  {
   "cell_type": "code",
   "execution_count": null,
   "id": "2a535b6a",
   "metadata": {},
   "outputs": [],
   "source": [
    "def logposterior(theta, indices):\n",
    "    lp = logprior(theta)\n",
    "    \n",
    "    # if the prior is not finite return a probability of zero (log probability of -inf)\n",
    "    if not np.isfinite(lp):\n",
    "        return -np.inf\n",
    "    \n",
    "    # return the likeihood times the prior (log likelihood plus the log prior)\n",
    "    return lp + log_likelihood_simple(theta, indices, eps=1e-9)"
   ]
  },
  {
   "cell_type": "code",
   "execution_count": null,
   "id": "61818441",
   "metadata": {},
   "outputs": [],
   "source": [
    "theta_true = [5.24, 1.534, 0.465, 0.161, 76.9, 1.02, 0.29, 0.16, 0.8]\n",
    "indices = np.arange(len(mass))\n",
    "logposterior(theta_true, indices)"
   ]
  },
  {
   "cell_type": "code",
   "execution_count": null,
   "id": "90364f89",
   "metadata": {},
   "outputs": [],
   "source": [
    "# a quick of 10% from the truth\n",
    "initial = theta_true + 0.1 * np.random.randn(9)\n",
    "logposterior(initial,indices)"
   ]
  },
  {
   "cell_type": "code",
   "execution_count": null,
   "id": "c49d1adf",
   "metadata": {},
   "outputs": [],
   "source": [
    "## plotting this results\n",
    "t0 = time.time()\n",
    "np.random.seed(42)\n",
    "lps = [-1.*logposterior(theta_true,indices)]\n",
    "dist = [0.]\n",
    "# increase the quick from the truth\n",
    "for i in [1.,2.5,5.,7.5,10.,15.,20.,25.,30.,60]:\n",
    "    initial = theta_true + (i/100.) * np.random.randn(9)\n",
    "    #print(1-np.array(initial)/np.array(theta_true))\n",
    "    nDist = np.linalg.norm(np.array(theta_true)-np.array(initial))\n",
    "    lps.append(-1.*logposterior(initial,indices))\n",
    "    dist.append(nDist)\n",
    "\n",
    "print('Total time: %.2f s'%(time.time()-t0))"
   ]
  },
  {
   "cell_type": "code",
   "execution_count": null,
   "id": "84fbb124",
   "metadata": {},
   "outputs": [],
   "source": [
    "lps"
   ]
  },
  {
   "cell_type": "code",
   "execution_count": null,
   "id": "36369a02",
   "metadata": {},
   "outputs": [],
   "source": [
    "plt.scatter(dist,np.array(lps)-np.min(lps)+1.)\n",
    "plt.ylabel('LogLikelihood - Min')\n",
    "plt.xlabel(r'|$\\theta-\\theta_{random}$|')\n",
    "plt.yscale('log')"
   ]
  },
  {
   "cell_type": "code",
   "execution_count": null,
   "id": "5e75e4f9",
   "metadata": {},
   "outputs": [],
   "source": [
    "import time\n",
    "from scipy.optimize import minimize\n",
    "\n",
    "start = time.time()\n",
    "np.random.seed(42)\n",
    "nll = lambda *args: -logposterior(*args)\n",
    "initial = theta_true + 0.05 * np.random.randn(9)\n",
    "soln = minimize(nll, initial, args=indices)\n",
    "end = time.time()\n",
    "sp_time = end - start\n",
    "print(\"Simple Model took {0:.1f} seconds\".format(sp_time))\n",
    "# print(\"It is {} slower than the very simple model\".format(sp_time/vsp_time))"
   ]
  },
  {
   "cell_type": "code",
   "execution_count": null,
   "id": "770737cc",
   "metadata": {},
   "outputs": [],
   "source": [
    "albd, blbd, clbd, slbd, rho = soln.x[4:]\n",
    "\n",
    "print(\"Maximum likelihood estimates:\")\n",
    "print(\"Albd = {0:.3f}\".format(albd))\n",
    "print(\"Blbd = {0:.3f}\".format(blbd))\n",
    "print(\"Clbd = {0:.3f}\".format(clbd))\n",
    "print(\"Scatter_lbd = {0:.3f}\".format(slbd))\n",
    "print(\"rho: {0:.3f}\".format(rho))"
   ]
  },
  {
   "cell_type": "markdown",
   "id": "807b8ac0",
   "metadata": {},
   "source": [
    "The model without the integration over the mass works well. The recoverd params are very close the true values. "
   ]
  },
  {
   "cell_type": "code",
   "execution_count": null,
   "id": "eb86cf85",
   "metadata": {},
   "outputs": [],
   "source": [
    "soln.x"
   ]
  },
  {
   "cell_type": "code",
   "execution_count": null,
   "id": "dfdf73ab",
   "metadata": {},
   "outputs": [],
   "source": [
    "############ Not Running MCMC ##############\n",
    "############ It takes too long##############"
   ]
  },
  {
   "cell_type": "code",
   "execution_count": null,
   "id": "f32b5db0",
   "metadata": {},
   "outputs": [],
   "source": [
    "# import time\n",
    "# from multiprocessing import Pool\n",
    "\n",
    "# pool = Pool(processes=64)              # start 64 worker processes\n",
    "# sampler = emcee.EnsembleSampler(walkers, ndims, logposterior, args=[np.arange(len(mass))], pool=pool)\n",
    "# start = time.time()\n",
    "# sampler.run_mcmc(guess, Nsamples+Nburnin)\n",
    "# end = time.time()\n",
    "# sp_mcmc_time = end - start\n",
    "# print(\"Very Simple Model took {0:.1f} seconds\".format(sp_mcmc_time))\n",
    "# print(\"It is {} slower than the very simple model\".format(sp_mcmc_time/vsp_mcmc_time))"
   ]
  },
  {
   "cell_type": "code",
   "execution_count": null,
   "id": "6efb7109",
   "metadata": {},
   "outputs": [],
   "source": [
    "# flat_samples = sampler.flatchain\n",
    "# fig, axes = plt.subplots(ndims, figsize=(10, 7), sharex=True)\n",
    "# samples = flat_samples\n",
    "# for i in range(ndims):\n",
    "#     ax = axes[i]\n",
    "#     ax.plot(samples[:, i], \"k\", alpha=0.3)\n",
    "#     ax.set_xlim(0, len(samples))\n",
    "#     #ax.set_ylabel(labels[i])\n",
    "#     ax.yaxis.set_label_coords(-0.1, 0.5)\n",
    "\n",
    "# axes[-1].set_xlabel(\"step number\");"
   ]
  },
  {
   "cell_type": "code",
   "execution_count": null,
   "id": "17301363",
   "metadata": {},
   "outputs": [],
   "source": [
    "# import corner\n",
    "\n",
    "# fig = corner.corner(flat_samples, truths=theta_true);"
   ]
  },
  {
   "cell_type": "markdown",
   "id": "5b42e2f3",
   "metadata": {},
   "source": [
    "## SPT Model - Marginalized over the Mass\n",
    "\n",
    "Now we assume that the halo mass is not known. So, we will integrate the likelihood over all the possible masses weighted by the halo mass function. \n",
    "\n",
    "$$\n",
    "\\frac{d^2N}{d\\zeta d\\lambda}(\\lambda|\\xi^{i},M^{i},z^{i}) = \\int dM \\; P(\\zeta,\\lambda|M,z) \\times \\frac{dN}{dM}\n",
    "$$\n",
    "\n",
    "where the $P(\\zeta,\\lambda|M,z)$ is the multivariate gaussian distribution with a correlation factor $\\rho$.\n",
    "\n",
    "The next step to implement is to normalize the log-likelihood by the integral $\\int_{40}^{\\infty} d\\hat{\\lambda}\\; P(\\hat{\\lambda}|\\xi^i, z^i) = 1$"
   ]
  },
  {
   "cell_type": "code",
   "execution_count": null,
   "id": "250534f7",
   "metadata": {},
   "outputs": [],
   "source": [
    "from colossus.cosmology import cosmology\n",
    "from colossus.lss import mass_function\n",
    "cosmology.setCosmology('WMAP9')\n",
    "\n",
    "def _halo_mass_function(M, z):\n",
    "    return mass_function.massFunction(M, z, mdef = '500c', model = 'bocquet16')\n",
    "halo_mass_function = np.vectorize(_halo_mass_function)"
   ]
  },
  {
   "cell_type": "code",
   "execution_count": null,
   "id": "be9343e9",
   "metadata": {},
   "outputs": [],
   "source": [
    "zz2, mm2 = np.meshgrid(zvec, mvec)\n",
    "from scipy import interpolate\n",
    "halo_mass_function2 = interpolate.interp1d(zvec, halo_mass_function(mm2, zz2), kind='cubic')"
   ]
  },
  {
   "cell_type": "code",
   "execution_count": null,
   "id": "cd1b1e95",
   "metadata": {},
   "outputs": [],
   "source": [
    "norm_function = interpolate.interp1d(zvec, np.trapz(halo_mass_function(mm2, zz2), x=mvec, axis=0), kind='cubic')"
   ]
  },
  {
   "cell_type": "code",
   "execution_count": null,
   "id": "ed793131",
   "metadata": {},
   "outputs": [],
   "source": [
    "mm, zz, ll = np.meshgrid(mvec, zetavec, lbdvec, indexing='ij')\n",
    "step = np.where(lbdvec>=40, 1., 0.)\n",
    "\n",
    "dzt = np.diff(zetavec)[0]\n",
    "dld = np.diff(lbdvec)[0]\n",
    "\n",
    "def log_likelihood(theta, indices, eps=1e-9):\n",
    "    # defining variables\n",
    "    probs = []\n",
    "    for ix in indices:\n",
    "        probs.append(_likelihood(theta, ix))\n",
    "    p = np.array(probs)#/np.sum(probs)\n",
    "    log_p = np.log(p)\n",
    "    log_p = np.where(np.isnan(log_p), -np.inf, log_p)\n",
    "    return np.sum(log_p)\n",
    "\n",
    "def _likelihood(theta, ix):\n",
    "    # unfolding theta\n",
    "    A_lambda, B_lambda, C_lambda, scatter_lambda = theta[4:8]\n",
    "    A_sze, B_sze, C_sze, scatter_sze = theta[:4]\n",
    "    rho = theta[-1]\n",
    "    \n",
    "    # forgot the mass\n",
    "    redshift_i = redshift[ix]\n",
    "    p_chisi = prob_chisi_vec[ix]\n",
    "    p_lbd_hat = prob_lbd_hat_vec[ix]\n",
    "    #p_lbd_hat_conv = prob_lbd_hat_conv[ix]\n",
    "    llo, lup = list(lbd_indices_vec[ix])\n",
    "    #llo, lup = 0, len(lbdvec)#list(lbd_indices_vec[ix])\n",
    "    clo, cup = list(zeta_indices_vec[ix])\n",
    "    \n",
    "    # calling predictions;\n",
    "    ln_lbd_pred = ln_lbd_given_M([A_lambda, B_lambda, C_lambda, scatter_lambda], mvec, redshift_i)\n",
    "    ln_zeta_pred= ln_zeta_given_M([A_sze, B_sze, C_sze, scatter_sze], mvec, redshift_i)\n",
    "    halo_mass_func = halo_mass_function2(redshift_i)\n",
    "    \n",
    "    ln_lbd_pred = ln_lbd_pred[:,np.newaxis,np.newaxis]\n",
    "    ln_zeta_pred= ln_zeta_pred[:,np.newaxis,np.newaxis]\n",
    "    hmf = halo_mass_func[:,np.newaxis,np.newaxis]\n",
    "    \n",
    "    # the logNormal Distribution\n",
    "    lp_lbd_zeta = compute_log_pLbdZeta(ll[:,clo:cup,llo:lup], zz[:,clo:cup,llo:lup],\n",
    "                                      scatter_lambda, scatter_sze, rho,\n",
    "                                      ln_lbd_pred, ln_zeta_pred)\n",
    "    dN_lbd_zeta = np.exp(lp_lbd_zeta)\n",
    "    \n",
    "    # integrate over M\n",
    "    #norm = float(norm_function(redshift_i))\n",
    "    p_lbd_zeta = np.trapz(dN_lbd_zeta*hmf, x=mvec, axis=0)#/norm\n",
    "\n",
    "    # integrate over zeta\n",
    "    p_chisi = np.tile(p_chisi[clo:cup], (int(lup-llo), 1)).T\n",
    "    p_lbd = np.trapz(p_lbd_zeta*p_chisi, x=zetavec[clo:cup], axis=0)\n",
    "    \n",
    "    # integrate over lambda\n",
    "    norm = np.trapz(p_lbd, x=lbdvec[llo:lup])\n",
    "    p = np.trapz(p_lbd*p_lbd_hat[llo:lup], x=lbdvec[llo:lup], axis=0)\n",
    "    return p/norm"
   ]
  },
  {
   "cell_type": "code",
   "execution_count": null,
   "id": "7ae90cd5",
   "metadata": {},
   "outputs": [],
   "source": [
    "def logposterior(theta, indices):\n",
    "    lp = logprior(theta)\n",
    "    \n",
    "    # if the prior is not finite return a probability of zero (log probability of -inf)\n",
    "    if not np.isfinite(lp):\n",
    "        return -np.inf\n",
    "    \n",
    "    # return the likeihood times the prior (log likelihood plus the log prior)\n",
    "    return lp + log_likelihood(theta, indices, eps=1e-9)"
   ]
  },
  {
   "cell_type": "code",
   "execution_count": null,
   "id": "86e111b3",
   "metadata": {},
   "outputs": [],
   "source": [
    "theta_true = [5.24, 1.534, 0.465, 0.161, 76.9, 1.02, 0.29, 0.16, 0.8]\n",
    "indices = np.arange(len(mass))\n",
    "log_likelihood(theta_true, indices)"
   ]
  },
  {
   "cell_type": "code",
   "execution_count": null,
   "id": "a6ea7fe3",
   "metadata": {},
   "outputs": [],
   "source": [
    "# a quick of 10% from the truth\n",
    "initial = theta_true + 0.1 * np.random.randn(9)\n",
    "log_likelihood(initial,indices)"
   ]
  },
  {
   "cell_type": "code",
   "execution_count": null,
   "id": "cde33cf3",
   "metadata": {},
   "outputs": [],
   "source": [
    "## plotting this results\n",
    "t0 = time.time()\n",
    "np.random.seed(42)\n",
    "lps = [-1.*logposterior(theta_true,indices)]\n",
    "dist = [0.]\n",
    "# increase the quick from the truth\n",
    "for i in [1.,2.5,5.,7.5,10.,15.,20.,25.,30.,60]:\n",
    "    initial = theta_true + (i/100.) * np.random.randn(9)\n",
    "    nDist = np.linalg.norm(np.array(theta_true)-np.array(initial))\n",
    "    lps.append(-1.*logposterior(initial,indices))\n",
    "    dist.append(nDist)\n",
    "\n",
    "print('Total time: %.2f s'%(time.time()-t0))"
   ]
  },
  {
   "cell_type": "code",
   "execution_count": null,
   "id": "459e591c",
   "metadata": {},
   "outputs": [],
   "source": [
    "lps"
   ]
  },
  {
   "cell_type": "code",
   "execution_count": null,
   "id": "ece79858",
   "metadata": {},
   "outputs": [],
   "source": [
    "plt.scatter(dist,np.array(lps)-np.min(lps)+1.)\n",
    "plt.ylabel('LogLikelihood - Min')\n",
    "plt.xlabel(r'|$\\theta-\\theta_{random}$|')\n",
    "plt.yscale('log')"
   ]
  },
  {
   "cell_type": "code",
   "execution_count": null,
   "id": "54e5e1e7",
   "metadata": {},
   "outputs": [],
   "source": []
  },
  {
   "cell_type": "code",
   "execution_count": null,
   "id": "22e545ae",
   "metadata": {},
   "outputs": [],
   "source": [
    "import time\n",
    "from scipy.optimize import minimize\n",
    "\n",
    "start = time.time()\n",
    "np.random.seed(42)\n",
    "nll = lambda *args: -logposterior(*args)\n",
    "initial = theta_true + 0.05 * np.random.randn(9)\n",
    "soln = minimize(nll, initial, args=indices)\n",
    "end = time.time()\n",
    "spt_time = end - start\n",
    "print(\"SPT Model took {0:.1f} seconds\".format(spt_time))\n",
    "# print(\"It is {} slower than the very simple model\".format(spt_time/vsp_time))"
   ]
  },
  {
   "cell_type": "code",
   "execution_count": null,
   "id": "bb8f427b",
   "metadata": {},
   "outputs": [],
   "source": [
    "albd, blbd, clbd, slbd, rho = soln.x[4:]\n",
    "\n",
    "print(\"Maximum likelihood estimates:\")\n",
    "print(\"Albd = {0:.3f}\".format(albd))\n",
    "print(\"Blbd = {0:.3f}\".format(blbd))\n",
    "print(\"Clbd = {0:.3f}\".format(clbd))\n",
    "print(\"Scatter_lbd = {0:.3f}\".format(slbd))\n",
    "print(\"rho: {0:.3f}\".format(rho))"
   ]
  },
  {
   "cell_type": "code",
   "execution_count": null,
   "id": "b45d4849",
   "metadata": {},
   "outputs": [],
   "source": []
  },
  {
   "cell_type": "markdown",
   "id": "9e6c7a0a",
   "metadata": {},
   "source": [
    "It doesn't converge to the right answer when the mass is not given as an input variable. The things that I added was the halo mass function and the integration over the mass. It seems that the normalization should matter in this case because the integration add an additional scale on the likelihood. "
   ]
  },
  {
   "cell_type": "code",
   "execution_count": null,
   "id": "dc3eb3e0",
   "metadata": {},
   "outputs": [],
   "source": []
  },
  {
   "cell_type": "code",
   "execution_count": null,
   "id": "f91103ea",
   "metadata": {},
   "outputs": [],
   "source": [
    "############ Not Running MCMC ##############\n",
    "############ It takes too long##############"
   ]
  },
  {
   "cell_type": "code",
   "execution_count": null,
   "id": "3364ba81",
   "metadata": {},
   "outputs": [],
   "source": [
    "# import time\n",
    "# from multiprocessing import Pool\n",
    "\n",
    "# pool = Pool(processes=64)              # start 64 worker processes\n",
    "# sampler = emcee.EnsembleSampler(walkers, ndims, logposterior, args=[np.arange(len(mass))], pool=pool)\n",
    "# start = time.time()\n",
    "# sampler.run_mcmc(guess, Nsamples+Nburnin)\n",
    "# end = time.time()\n",
    "# spt_mcmc_time = end - start\n",
    "# print(\"Very Simple Model took {0:.1f} seconds\".format(spt_mcmc_time))\n",
    "# print(\"It is {} slower than the very simple model\".format(spt_mcmc_time/vsp_mcmc_time))"
   ]
  },
  {
   "cell_type": "code",
   "execution_count": null,
   "id": "7514a228",
   "metadata": {},
   "outputs": [],
   "source": [
    "# flat_samples = sampler.flatchain\n",
    "# fig, axes = plt.subplots(ndims, figsize=(10, 7), sharex=True)\n",
    "# samples = flat_samples\n",
    "# for i in range(ndims):\n",
    "#     ax = axes[i]\n",
    "#     ax.plot(samples[:, i], \"k\", alpha=0.3)\n",
    "#     ax.set_xlim(0, len(samples))\n",
    "#     #ax.set_ylabel(labels[i])\n",
    "#     ax.yaxis.set_label_coords(-0.1, 0.5)\n",
    "\n",
    "# axes[-1].set_xlabel(\"step number\");"
   ]
  },
  {
   "cell_type": "code",
   "execution_count": null,
   "id": "77e1c94d",
   "metadata": {},
   "outputs": [],
   "source": [
    "# import corner\n",
    "\n",
    "# fig = corner.corner(flat_samples, truths=theta_true);"
   ]
  },
  {
   "cell_type": "code",
   "execution_count": null,
   "id": "820344ba",
   "metadata": {},
   "outputs": [],
   "source": []
  }
 ],
 "metadata": {
  "kernelspec": {
   "display_name": "Python 3",
   "language": "python",
   "name": "python3"
  },
  "language_info": {
   "codemirror_mode": {
    "name": "ipython",
    "version": 3
   },
   "file_extension": ".py",
   "mimetype": "text/x-python",
   "name": "python",
   "nbconvert_exporter": "python",
   "pygments_lexer": "ipython3",
   "version": "3.8.8"
  }
 },
 "nbformat": 4,
 "nbformat_minor": 5
}
