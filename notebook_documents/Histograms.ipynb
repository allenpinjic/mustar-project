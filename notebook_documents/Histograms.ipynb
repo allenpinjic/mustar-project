{
 "cells": [
  {
   "cell_type": "markdown",
   "id": "1f71e6b5-1b95-441d-ad0a-4d5b27939db4",
   "metadata": {
    "tags": []
   },
   "source": [
    "# Histograms - SPT Sample"
   ]
  },
  {
   "cell_type": "markdown",
   "id": "3c8ed247-f6cf-4284-b495-efe39b3adeb4",
   "metadata": {
    "tags": []
   },
   "source": [
    "### Focus: M500, Redshift, and Richness"
   ]
  },
  {
   "cell_type": "markdown",
   "id": "fd098c41-2865-4940-889a-7120376dc394",
   "metadata": {},
   "source": [
    "Allen Pinjic - Created on May 19th, 2022"
   ]
  },
  {
   "cell_type": "code",
   "execution_count": 1,
   "id": "d1ca0eb5-6b93-4d4b-82f9-754d75caf985",
   "metadata": {},
   "outputs": [],
   "source": [
    "from astropy.io.fits import getdata\n",
    "from astropy.table import Table\n",
    "import numpy as np"
   ]
  },
  {
   "cell_type": "code",
   "execution_count": 2,
   "id": "8aeb2437-9986-4a53-838c-6203be38c9a7",
   "metadata": {},
   "outputs": [],
   "source": [
    "fname = '../data_set/sptecs_catalog_oct919.fits'\n",
    "\n",
    "data = Table(getdata(fname))"
   ]
  },
  {
   "cell_type": "code",
   "execution_count": 3,
   "id": "d8020170-fdd0-4fb8-8540-ecab6d8ab5ba",
   "metadata": {},
   "outputs": [],
   "source": [
    "import pandas as pd"
   ]
  },
  {
   "cell_type": "code",
   "execution_count": 6,
   "id": "52fc801a-0824-4722-9a1d-11dad8c163df",
   "metadata": {},
   "outputs": [],
   "source": [
    "df = data.to_pandas()\n",
    "\n",
    "h = 0.7\n",
    "df['log_M500'] = np.log10(df.M500*1e14*h)\n",
    "\n",
    "df0 = df"
   ]
  },
  {
   "cell_type": "code",
   "execution_count": 7,
   "id": "f9fbba35-0e98-4da4-aef9-391905345631",
   "metadata": {},
   "outputs": [],
   "source": [
    "redshift = df0.REDSHIFT.to_numpy()\n",
    "lbd = df0.LAMBDA_CHISQ.to_numpy()\n",
    "zcut = (redshift > 0.1) & (redshift < 0.65)\n",
    "lcut = lbd > 20\n",
    "final_cut = zcut & lcut"
   ]
  },
  {
   "cell_type": "code",
   "execution_count": 8,
   "id": "32c3b9a4-fac3-4278-baa1-0be716f98059",
   "metadata": {},
   "outputs": [],
   "source": [
    "df = df0.loc[final_cut].copy()"
   ]
  },
  {
   "cell_type": "code",
   "execution_count": 9,
   "id": "656bde68-1092-46c6-ac65-cdbdbf246c73",
   "metadata": {},
   "outputs": [
    {
     "data": {
      "text/html": [
       "<div>\n",
       "<style scoped>\n",
       "    .dataframe tbody tr th:only-of-type {\n",
       "        vertical-align: middle;\n",
       "    }\n",
       "\n",
       "    .dataframe tbody tr th {\n",
       "        vertical-align: top;\n",
       "    }\n",
       "\n",
       "    .dataframe thead th {\n",
       "        text-align: right;\n",
       "    }\n",
       "</style>\n",
       "<table border=\"1\" class=\"dataframe\">\n",
       "  <thead>\n",
       "    <tr style=\"text-align: right;\">\n",
       "      <th></th>\n",
       "      <th>SPT_ID</th>\n",
       "      <th>RA</th>\n",
       "      <th>DEC</th>\n",
       "      <th>FIELD</th>\n",
       "      <th>XI</th>\n",
       "      <th>THETA_CORE</th>\n",
       "      <th>REDSHIFT</th>\n",
       "      <th>REDSHIFT_UNC</th>\n",
       "      <th>SPECZ</th>\n",
       "      <th>REDSHIFT_SOURCE</th>\n",
       "      <th>...</th>\n",
       "      <th>M500_LERR</th>\n",
       "      <th>LAMBDA_CHISQ</th>\n",
       "      <th>LAMBDA_CHISQ_E</th>\n",
       "      <th>RADIO_CONTAM</th>\n",
       "      <th>STRONG_LENS</th>\n",
       "      <th>IMAGE_SOURCE</th>\n",
       "      <th>SPECZ_REF</th>\n",
       "      <th>STRONG_LENS_REF</th>\n",
       "      <th>PHOTOMETRIC_ZREF</th>\n",
       "      <th>log_M500</th>\n",
       "    </tr>\n",
       "  </thead>\n",
       "  <tbody>\n",
       "    <tr>\n",
       "      <th>1</th>\n",
       "      <td>SPT-CLJ0005-3751</td>\n",
       "      <td>1.438318</td>\n",
       "      <td>-37.854369</td>\n",
       "      <td>ra1hdec-35</td>\n",
       "      <td>6.336327</td>\n",
       "      <td>0.75</td>\n",
       "      <td>0.482958</td>\n",
       "      <td>0.007242</td>\n",
       "      <td>0</td>\n",
       "      <td>4.0</td>\n",
       "      <td>...</td>\n",
       "      <td>0.887</td>\n",
       "      <td>86.408386</td>\n",
       "      <td>4.735215</td>\n",
       "      <td>0.0</td>\n",
       "      <td>1.0</td>\n",
       "      <td>3.0</td>\n",
       "      <td></td>\n",
       "      <td></td>\n",
       "      <td></td>\n",
       "      <td>14.579018</td>\n",
       "    </tr>\n",
       "    <tr>\n",
       "      <th>2</th>\n",
       "      <td>SPT-CLJ0005-3443</td>\n",
       "      <td>1.487651</td>\n",
       "      <td>-34.719271</td>\n",
       "      <td>ra1hdec-35</td>\n",
       "      <td>5.514429</td>\n",
       "      <td>2.00</td>\n",
       "      <td>0.114000</td>\n",
       "      <td>0.000000</td>\n",
       "      <td>1</td>\n",
       "      <td>9.0</td>\n",
       "      <td>...</td>\n",
       "      <td>1.005</td>\n",
       "      <td>105.385574</td>\n",
       "      <td>4.646943</td>\n",
       "      <td>0.0</td>\n",
       "      <td>0.0</td>\n",
       "      <td>8.0</td>\n",
       "      <td>1989ApJS...70....1A</td>\n",
       "      <td></td>\n",
       "      <td></td>\n",
       "      <td>14.571418</td>\n",
       "    </tr>\n",
       "    <tr>\n",
       "      <th>7</th>\n",
       "      <td>SPT-CLJ0020-2543</td>\n",
       "      <td>5.173062</td>\n",
       "      <td>-25.727583</td>\n",
       "      <td>ra1hdec-25</td>\n",
       "      <td>7.141808</td>\n",
       "      <td>1.50</td>\n",
       "      <td>0.141000</td>\n",
       "      <td>0.000000</td>\n",
       "      <td>1</td>\n",
       "      <td>9.0</td>\n",
       "      <td>...</td>\n",
       "      <td>1.077</td>\n",
       "      <td>101.159950</td>\n",
       "      <td>18.001257</td>\n",
       "      <td>0.0</td>\n",
       "      <td>0.0</td>\n",
       "      <td>8.0</td>\n",
       "      <td>1999ApJS..125...35S</td>\n",
       "      <td></td>\n",
       "      <td></td>\n",
       "      <td>14.692856</td>\n",
       "    </tr>\n",
       "    <tr>\n",
       "      <th>10</th>\n",
       "      <td>SPT-CLJ0042-2831</td>\n",
       "      <td>10.526915</td>\n",
       "      <td>-28.522130</td>\n",
       "      <td>ra1hdec-25</td>\n",
       "      <td>8.122652</td>\n",
       "      <td>1.75</td>\n",
       "      <td>0.108600</td>\n",
       "      <td>0.000000</td>\n",
       "      <td>1</td>\n",
       "      <td>9.0</td>\n",
       "      <td>...</td>\n",
       "      <td>1.103</td>\n",
       "      <td>70.527962</td>\n",
       "      <td>2.828000</td>\n",
       "      <td>0.0</td>\n",
       "      <td>0.0</td>\n",
       "      <td>8.0</td>\n",
       "      <td>2002MNRAS.329...87D</td>\n",
       "      <td></td>\n",
       "      <td></td>\n",
       "      <td>14.734903</td>\n",
       "    </tr>\n",
       "    <tr>\n",
       "      <th>11</th>\n",
       "      <td>SPT-CLJ0042-3809</td>\n",
       "      <td>10.613344</td>\n",
       "      <td>-38.151329</td>\n",
       "      <td>ra1hdec-35</td>\n",
       "      <td>6.616126</td>\n",
       "      <td>1.25</td>\n",
       "      <td>0.219660</td>\n",
       "      <td>0.000000</td>\n",
       "      <td>1</td>\n",
       "      <td>9.0</td>\n",
       "      <td>...</td>\n",
       "      <td>0.984</td>\n",
       "      <td>74.723076</td>\n",
       "      <td>2.981047</td>\n",
       "      <td>0.0</td>\n",
       "      <td>0.0</td>\n",
       "      <td>8.0</td>\n",
       "      <td>1996ApJ...470..172S</td>\n",
       "      <td></td>\n",
       "      <td></td>\n",
       "      <td>14.623611</td>\n",
       "    </tr>\n",
       "    <tr>\n",
       "      <th>...</th>\n",
       "      <td>...</td>\n",
       "      <td>...</td>\n",
       "      <td>...</td>\n",
       "      <td>...</td>\n",
       "      <td>...</td>\n",
       "      <td>...</td>\n",
       "      <td>...</td>\n",
       "      <td>...</td>\n",
       "      <td>...</td>\n",
       "      <td>...</td>\n",
       "      <td>...</td>\n",
       "      <td>...</td>\n",
       "      <td>...</td>\n",
       "      <td>...</td>\n",
       "      <td>...</td>\n",
       "      <td>...</td>\n",
       "      <td>...</td>\n",
       "      <td>...</td>\n",
       "      <td>...</td>\n",
       "      <td>...</td>\n",
       "      <td>...</td>\n",
       "    </tr>\n",
       "    <tr>\n",
       "      <th>428</th>\n",
       "      <td>SPT-CLJ0552-4008</td>\n",
       "      <td>88.123056</td>\n",
       "      <td>-40.136343</td>\n",
       "      <td>ra5hdec-35</td>\n",
       "      <td>4.359108</td>\n",
       "      <td>2.00</td>\n",
       "      <td>0.362500</td>\n",
       "      <td>0.009275</td>\n",
       "      <td>0</td>\n",
       "      <td>4.0</td>\n",
       "      <td>...</td>\n",
       "      <td>0.897</td>\n",
       "      <td>65.890450</td>\n",
       "      <td>4.650317</td>\n",
       "      <td>0.0</td>\n",
       "      <td>0.0</td>\n",
       "      <td>3.0</td>\n",
       "      <td></td>\n",
       "      <td></td>\n",
       "      <td></td>\n",
       "      <td>14.441915</td>\n",
       "    </tr>\n",
       "    <tr>\n",
       "      <th>429</th>\n",
       "      <td>SPT-CLJ0554-3149</td>\n",
       "      <td>88.528647</td>\n",
       "      <td>-31.830573</td>\n",
       "      <td>ra5hdec-35</td>\n",
       "      <td>4.620441</td>\n",
       "      <td>0.25</td>\n",
       "      <td>0.218471</td>\n",
       "      <td>0.005045</td>\n",
       "      <td>0</td>\n",
       "      <td>4.0</td>\n",
       "      <td>...</td>\n",
       "      <td>0.944</td>\n",
       "      <td>21.193373</td>\n",
       "      <td>2.535579</td>\n",
       "      <td>0.0</td>\n",
       "      <td>0.0</td>\n",
       "      <td>3.0</td>\n",
       "      <td></td>\n",
       "      <td></td>\n",
       "      <td></td>\n",
       "      <td>14.477150</td>\n",
       "    </tr>\n",
       "    <tr>\n",
       "      <th>430</th>\n",
       "      <td>SPT-CLJ0556-2502</td>\n",
       "      <td>89.156331</td>\n",
       "      <td>-25.042366</td>\n",
       "      <td>ra5hdec-25</td>\n",
       "      <td>4.130208</td>\n",
       "      <td>0.25</td>\n",
       "      <td>0.624432</td>\n",
       "      <td>0.013504</td>\n",
       "      <td>0</td>\n",
       "      <td>4.0</td>\n",
       "      <td>...</td>\n",
       "      <td>0.815</td>\n",
       "      <td>20.384859</td>\n",
       "      <td>2.782436</td>\n",
       "      <td>0.0</td>\n",
       "      <td>0.0</td>\n",
       "      <td>3.0</td>\n",
       "      <td></td>\n",
       "      <td></td>\n",
       "      <td></td>\n",
       "      <td>14.405722</td>\n",
       "    </tr>\n",
       "    <tr>\n",
       "      <th>431</th>\n",
       "      <td>SPT-CLJ0557-2626</td>\n",
       "      <td>89.371706</td>\n",
       "      <td>-26.437366</td>\n",
       "      <td>ra5hdec-25</td>\n",
       "      <td>4.008900</td>\n",
       "      <td>0.75</td>\n",
       "      <td>0.598462</td>\n",
       "      <td>0.008865</td>\n",
       "      <td>0</td>\n",
       "      <td>4.0</td>\n",
       "      <td>...</td>\n",
       "      <td>0.798</td>\n",
       "      <td>45.250465</td>\n",
       "      <td>3.503051</td>\n",
       "      <td>0.0</td>\n",
       "      <td>0.0</td>\n",
       "      <td>3.0</td>\n",
       "      <td></td>\n",
       "      <td></td>\n",
       "      <td></td>\n",
       "      <td>14.403927</td>\n",
       "    </tr>\n",
       "    <tr>\n",
       "      <th>432</th>\n",
       "      <td>SPT-CLJ0559-2628</td>\n",
       "      <td>89.750188</td>\n",
       "      <td>-26.482636</td>\n",
       "      <td>ra5hdec-25</td>\n",
       "      <td>4.093619</td>\n",
       "      <td>1.25</td>\n",
       "      <td>0.274927</td>\n",
       "      <td>0.005619</td>\n",
       "      <td>0</td>\n",
       "      <td>4.0</td>\n",
       "      <td>...</td>\n",
       "      <td>0.888</td>\n",
       "      <td>91.442528</td>\n",
       "      <td>4.269127</td>\n",
       "      <td>0.0</td>\n",
       "      <td>0.0</td>\n",
       "      <td>3.0</td>\n",
       "      <td></td>\n",
       "      <td></td>\n",
       "      <td></td>\n",
       "      <td>14.445417</td>\n",
       "    </tr>\n",
       "  </tbody>\n",
       "</table>\n",
       "<p>196 rows × 24 columns</p>\n",
       "</div>"
      ],
      "text/plain": [
       "               SPT_ID         RA        DEC        FIELD        XI  \\\n",
       "1    SPT-CLJ0005-3751   1.438318 -37.854369   ra1hdec-35  6.336327   \n",
       "2    SPT-CLJ0005-3443   1.487651 -34.719271   ra1hdec-35  5.514429   \n",
       "7    SPT-CLJ0020-2543   5.173062 -25.727583   ra1hdec-25  7.141808   \n",
       "10   SPT-CLJ0042-2831  10.526915 -28.522130   ra1hdec-25  8.122652   \n",
       "11   SPT-CLJ0042-3809  10.613344 -38.151329   ra1hdec-35  6.616126   \n",
       "..                ...        ...        ...          ...       ...   \n",
       "428  SPT-CLJ0552-4008  88.123056 -40.136343   ra5hdec-35  4.359108   \n",
       "429  SPT-CLJ0554-3149  88.528647 -31.830573   ra5hdec-35  4.620441   \n",
       "430  SPT-CLJ0556-2502  89.156331 -25.042366   ra5hdec-25  4.130208   \n",
       "431  SPT-CLJ0557-2626  89.371706 -26.437366   ra5hdec-25  4.008900   \n",
       "432  SPT-CLJ0559-2628  89.750188 -26.482636   ra5hdec-25  4.093619   \n",
       "\n",
       "     THETA_CORE  REDSHIFT  REDSHIFT_UNC  SPECZ  REDSHIFT_SOURCE  ...  \\\n",
       "1          0.75  0.482958      0.007242      0              4.0  ...   \n",
       "2          2.00  0.114000      0.000000      1              9.0  ...   \n",
       "7          1.50  0.141000      0.000000      1              9.0  ...   \n",
       "10         1.75  0.108600      0.000000      1              9.0  ...   \n",
       "11         1.25  0.219660      0.000000      1              9.0  ...   \n",
       "..          ...       ...           ...    ...              ...  ...   \n",
       "428        2.00  0.362500      0.009275      0              4.0  ...   \n",
       "429        0.25  0.218471      0.005045      0              4.0  ...   \n",
       "430        0.25  0.624432      0.013504      0              4.0  ...   \n",
       "431        0.75  0.598462      0.008865      0              4.0  ...   \n",
       "432        1.25  0.274927      0.005619      0              4.0  ...   \n",
       "\n",
       "     M500_LERR LAMBDA_CHISQ  LAMBDA_CHISQ_E  RADIO_CONTAM  STRONG_LENS  \\\n",
       "1        0.887    86.408386        4.735215           0.0          1.0   \n",
       "2        1.005   105.385574        4.646943           0.0          0.0   \n",
       "7        1.077   101.159950       18.001257           0.0          0.0   \n",
       "10       1.103    70.527962        2.828000           0.0          0.0   \n",
       "11       0.984    74.723076        2.981047           0.0          0.0   \n",
       "..         ...          ...             ...           ...          ...   \n",
       "428      0.897    65.890450        4.650317           0.0          0.0   \n",
       "429      0.944    21.193373        2.535579           0.0          0.0   \n",
       "430      0.815    20.384859        2.782436           0.0          0.0   \n",
       "431      0.798    45.250465        3.503051           0.0          0.0   \n",
       "432      0.888    91.442528        4.269127           0.0          0.0   \n",
       "\n",
       "     IMAGE_SOURCE                               SPECZ_REF  \\\n",
       "1             3.0                                           \n",
       "2             8.0                     1989ApJS...70....1A   \n",
       "7             8.0                     1999ApJS..125...35S   \n",
       "10            8.0                     2002MNRAS.329...87D   \n",
       "11            8.0                     1996ApJ...470..172S   \n",
       "..            ...                                     ...   \n",
       "428           3.0                                           \n",
       "429           3.0                                           \n",
       "430           3.0                                           \n",
       "431           3.0                                           \n",
       "432           3.0                                           \n",
       "\n",
       "         STRONG_LENS_REF               PHOTOMETRIC_ZREF   log_M500  \n",
       "1                                                        14.579018  \n",
       "2                                                        14.571418  \n",
       "7                                                        14.692856  \n",
       "10                                                       14.734903  \n",
       "11                                                       14.623611  \n",
       "..                   ...                            ...        ...  \n",
       "428                                                      14.441915  \n",
       "429                                                      14.477150  \n",
       "430                                                      14.405722  \n",
       "431                                                      14.403927  \n",
       "432                                                      14.445417  \n",
       "\n",
       "[196 rows x 24 columns]"
      ]
     },
     "execution_count": 9,
     "metadata": {},
     "output_type": "execute_result"
    }
   ],
   "source": [
    "df"
   ]
  },
  {
   "cell_type": "code",
   "execution_count": 10,
   "id": "0d15e593-6844-45b9-a5a5-062d8d4e90eb",
   "metadata": {},
   "outputs": [
    {
     "data": {
      "text/plain": [
       "['SPT_ID',\n",
       " 'RA',\n",
       " 'DEC',\n",
       " 'FIELD',\n",
       " 'XI',\n",
       " 'THETA_CORE',\n",
       " 'REDSHIFT',\n",
       " 'REDSHIFT_UNC',\n",
       " 'SPECZ',\n",
       " 'REDSHIFT_SOURCE',\n",
       " 'RM_PROB',\n",
       " 'CL_NOTES',\n",
       " 'M500',\n",
       " 'M500_UERR',\n",
       " 'M500_LERR',\n",
       " 'LAMBDA_CHISQ',\n",
       " 'LAMBDA_CHISQ_E',\n",
       " 'RADIO_CONTAM',\n",
       " 'STRONG_LENS',\n",
       " 'IMAGE_SOURCE',\n",
       " 'SPECZ_REF',\n",
       " 'STRONG_LENS_REF',\n",
       " 'PHOTOMETRIC_ZREF']"
      ]
     },
     "execution_count": 10,
     "metadata": {},
     "output_type": "execute_result"
    }
   ],
   "source": [
    "data.colnames"
   ]
  },
  {
   "cell_type": "code",
   "execution_count": 11,
   "id": "22e1cead-afbb-4191-af27-8acd6ae3c99d",
   "metadata": {},
   "outputs": [],
   "source": [
    "import seaborn as sns\n",
    "import matplotlib.pyplot as plt\n",
    "%matplotlib inline"
   ]
  },
  {
   "cell_type": "code",
   "execution_count": 12,
   "id": "68ac0e0d-7b8f-4060-86e6-9d4fdf971d43",
   "metadata": {},
   "outputs": [
    {
     "data": {
      "text/plain": [
       "array([[<AxesSubplot:title={'center':'M500'}>]], dtype=object)"
      ]
     },
     "execution_count": 12,
     "metadata": {},
     "output_type": "execute_result"
    },
    {
     "data": {
      "image/png": "[encoded data removed]",
      "text/plain": [
       "<Figure size 432x288 with 1 Axes>"
      ]
     },
     "metadata": {
      "needs_background": "light"
     },
     "output_type": "display_data"
    }
   ],
   "source": [
    "# Example of Original Method\n",
    "# or df['M500'].plot(kind='hist',bins=50)\n",
    "\n",
    "df.hist(column=\"M500\", bins=45)"
   ]
  },
  {
   "cell_type": "code",
   "execution_count": 13,
   "id": "9e0a0f4e-c8d7-49b1-93f0-74823d40dd67",
   "metadata": {},
   "outputs": [],
   "source": [
    "# Setting the background\n",
    "sns.set_theme(style=\"darkgrid\")"
   ]
  },
  {
   "cell_type": "code",
   "execution_count": 14,
   "id": "12200bb6-1a24-4337-bf0b-f7334db0a590",
   "metadata": {},
   "outputs": [
    {
     "data": {
      "text/plain": [
       "Text(12.334999999999994, 0.5, 'Frequency')"
      ]
     },
     "execution_count": 14,
     "metadata": {},
     "output_type": "execute_result"
    },
    {
     "data": {
      "image/png": "[encoded data removed]",
      "text/plain": [
       "<Figure size 360x360 with 1 Axes>"
      ]
     },
     "metadata": {},
     "output_type": "display_data"
    }
   ],
   "source": [
    "# Seaborn Histogram of M500\n",
    "sns.displot(df['M500'],  kde=False, label='M500')\n",
    "plt.title('M500 Histogram')\n",
    "plt.xlabel('Value of M500')\n",
    "plt.ylabel('Frequency')"
   ]
  },
  {
   "cell_type": "code",
   "execution_count": 15,
   "id": "73d18300-5924-4efc-9c3b-0a3a94990145",
   "metadata": {},
   "outputs": [
    {
     "data": {
      "text/plain": [
       "Text(12.334999999999994, 0.5, 'Frequency')"
      ]
     },
     "execution_count": 15,
     "metadata": {},
     "output_type": "execute_result"
    },
    {
     "data": {
      "image/png": "[encoded data removed]",
      "text/plain": [
       "<Figure size 360x360 with 1 Axes>"
      ]
     },
     "metadata": {},
     "output_type": "display_data"
    }
   ],
   "source": [
    "# Seaborn Histogram of Redshift\n",
    "# 0.65 is the upper threshold for the acceptable range of redshift\n",
    "# 0.1 is the lower threshold for the acceptable range of redshift (for this project)\n",
    "# ALREADY EDITED\n",
    "sns.displot(df['REDSHIFT'],  kde=False, label='M500')\n",
    "plt.title('Redshift Histogram')\n",
    "plt.xlabel('Value of Redshift')\n",
    "plt.ylabel('Frequency')"
   ]
  },
  {
   "cell_type": "code",
   "execution_count": 16,
   "id": "e1ca04bc-225d-4d04-b9d0-24c3d1aea59c",
   "metadata": {},
   "outputs": [
    {
     "data": {
      "text/plain": [
       "Text(12.334999999999994, 0.5, 'Frequency')"
      ]
     },
     "execution_count": 16,
     "metadata": {},
     "output_type": "execute_result"
    },
    {
     "data": {
      "image/png": "[encoded data removed]",
      "text/plain": [
       "<Figure size 360x360 with 1 Axes>"
      ]
     },
     "metadata": {},
     "output_type": "display_data"
    }
   ],
   "source": [
    "# Seaborn Histogram of Richness\n",
    "# 0.65 is the upper threshold for the acceptable range of richness\n",
    "sns.displot(df['LAMBDA_CHISQ'],  kde=False, label='Richness')\n",
    "plt.title('Richness Histogram')\n",
    "plt.xlabel('Value of Richness')\n",
    "plt.ylabel('Frequency')"
   ]
  },
  {
   "cell_type": "code",
   "execution_count": 18,
   "id": "b4a5041f-be77-40cc-b8f2-6418f54dbd47",
   "metadata": {},
   "outputs": [
    {
     "data": {
      "text/plain": [
       "<AxesSubplot:ylabel='Frequency'>"
      ]
     },
     "execution_count": 18,
     "metadata": {},
     "output_type": "execute_result"
    },
    {
     "data": {
      "image/png": "[encoded data removed]",
      "text/plain": [
       "<Figure size 432x288 with 1 Axes>"
      ]
     },
     "metadata": {},
     "output_type": "display_data"
    }
   ],
   "source": [
    "df[[\"M500\", \"REDSHIFT\",\"LAMBDA_CHISQ\"]].plot.hist(alpha=0.4)"
   ]
  },
  {
   "cell_type": "code",
   "execution_count": 19,
   "id": "d8f93562-864c-4344-8fa9-94e1f14c4265",
   "metadata": {},
   "outputs": [
    {
     "data": {
      "image/png": "[encoded data removed]",
      "text/plain": [
       "<Figure size 432x288 with 1 Axes>"
      ]
     },
     "metadata": {},
     "output_type": "display_data"
    }
   ],
   "source": [
    "# General model and syntax\n",
    "# Paper, talk, or poster (Seaborn) (Font scale parameter)\n",
    "# Seaborn: use for font and style\n",
    "# Plot with matplotlib\n",
    "\n",
    "plt.style.use('ggplot')\n",
    "\n",
    "plt.title('Complied Histogram')\n",
    "\n",
    "plt.hist(df['M500'], edgecolor='black', color='blue', rwidth=1, alpha=0.7, bins=20, label='M500')\n",
    "plt.hist(df['REDSHIFT'], edgecolor='black', color='red', rwidth=1, alpha=1, bins=10, label='Redshift')\n",
    "plt.hist(df['LAMBDA_CHISQ'], edgecolor='black', color='green', rwidth=0.8, alpha=0.4, bins=80, label='Richness')\n",
    "\n",
    "plt.legend(loc='upper right')\n",
    "\n",
    "plt.xlabel('Value')\n",
    "plt.ylabel('Frequency')\n",
    "\n",
    "plt.tight_layout()\n",
    "\n",
    "plt.show()"
   ]
  },
  {
   "cell_type": "code",
   "execution_count": 20,
   "id": "43600aa1-7eff-4cb9-ae73-9682ee88c649",
   "metadata": {},
   "outputs": [
    {
     "data": {
      "text/plain": [
       "<matplotlib.legend.Legend at 0x7f84c3c57f10>"
      ]
     },
     "execution_count": 20,
     "metadata": {},
     "output_type": "execute_result"
    },
    {
     "data": {
      "image/png": "[encoded data removed]",
      "text/plain": [
       "<Figure size 432x288 with 1 Axes>"
      ]
     },
     "metadata": {},
     "output_type": "display_data"
    }
   ],
   "source": [
    "sns.histplot(data=df, x=\"M500\", color=\"skyblue\", label=\"M500\", kde=True, bins=20)\n",
    "sns.histplot(data=df, x=\"REDSHIFT\", color=\"red\", label=\"Redshift\", kde=True, bins=20)\n",
    "sns.histplot(data=df, x=\"LAMBDA_CHISQ\", color=\"purple\", label=\"Richness\", kde=True, bins=20)\n",
    "plt.title('Compiled Histogram')\n",
    "plt.xlabel('Value')\n",
    "plt.ylabel('Frequency')\n",
    "plt.legend()"
   ]
  },
  {
   "cell_type": "code",
   "execution_count": 21,
   "id": "20a0c63b-5515-42ca-9bb2-e6d5e781c12a",
   "metadata": {},
   "outputs": [
    {
     "data": {
      "text/plain": [
       "Text(0.5, 0.98, 'SZ-SPT Bocquet et al. 2019')"
      ]
     },
     "execution_count": 21,
     "metadata": {},
     "output_type": "execute_result"
    },
    {
     "data": {
      "image/png": "[encoded data removed]",
      "text/plain": [
       "<Figure size 864x288 with 3 Axes>"
      ]
     },
     "metadata": {},
     "output_type": "display_data"
    }
   ],
   "source": [
    "# Multi-axis plots use matplotlib\n",
    "# Create matplotlib version\n",
    "# Create a new variable; log of mass\n",
    "fig, axs = plt.subplots(1, 3, figsize=(12, 4))\n",
    "\n",
    "sns.histplot(data=df, x=\"log_M500\", kde=True, color=\"skyblue\", ax=axs[0])\n",
    "axs[0].set_xlabel('Value of Log M500')\n",
    "axs[0].set_ylabel('Frequency')\n",
    "\n",
    "sns.histplot(data=df, x=\"REDSHIFT\", kde=True, color=\"purple\", ax=axs[1])\n",
    "axs[1].set_xlabel('Value of Redshift')\n",
    "axs[1].set_ylabel('')\n",
    "\n",
    "sns.histplot(data=df, x=\"LAMBDA_CHISQ\", kde=True, color=\"teal\", ax=axs[2])\n",
    "axs[2].set_xlabel('Value of Richness')\n",
    "axs[2].set_ylabel('')\n",
    "\n",
    "fig.suptitle('SZ-SPT Bocquet et al. 2019')\n",
    "\n",
    "# Completness limit found at the point when the # of clusters\n",
    "# begins to fall exponentially with the linear mass observable relation\n",
    "# CL for Lambda = 60"
   ]
  },
  {
   "cell_type": "code",
   "execution_count": null,
   "id": "96182653-0fb2-4ae6-a96d-40275f460eb8",
   "metadata": {},
   "outputs": [],
   "source": []
  }
 ],
 "metadata": {
  "kernelspec": {
   "display_name": "Python 3",
   "language": "python",
   "name": "python3"
  },
  "language_info": {
   "codemirror_mode": {
    "name": "ipython",
    "version": 3
   },
   "file_extension": ".py",
   "mimetype": "text/x-python",
   "name": "python",
   "nbconvert_exporter": "python",
   "pygments_lexer": "ipython3",
   "version": "3.8.8"
  }
 },
 "nbformat": 4,
 "nbformat_minor": 5
}
