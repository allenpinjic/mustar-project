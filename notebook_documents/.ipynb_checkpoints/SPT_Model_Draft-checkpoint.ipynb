{
 "cells": [
  {
   "cell_type": "markdown",
   "id": "fdad981e-2966-4cab-8c4d-303294e41d23",
   "metadata": {},
   "source": [
    "# SPT Model Draft"
   ]
  },
  {
   "cell_type": "markdown",
   "id": "133223a3-e832-4d56-a3a2-438f59138cc6",
   "metadata": {},
   "source": [
    "Allen Pinjic - Created on June 6th, 2022"
   ]
  },
  {
   "cell_type": "code",
   "execution_count": 1,
   "id": "6dc085b0-5c86-4a63-a186-b4b078226b79",
   "metadata": {},
   "outputs": [],
   "source": [
    "from astropy.io.fits import getdata\n",
    "from astropy.table import Table\n",
    "from astropy.cosmology import WMAP9 as cosmo"
   ]
  },
  {
   "cell_type": "code",
   "execution_count": 2,
   "id": "45b01c2b-1af4-4b63-a438-7ad66fa5bda1",
   "metadata": {},
   "outputs": [
    {
     "name": "stderr",
     "output_type": "stream",
     "text": [
      "WARNING (theano.tensor.blas): Using NumPy C-API based implementation for BLAS functions.\n"
     ]
    }
   ],
   "source": [
    "import numpy as np\n",
    "import pandas as pd\n",
    "import arviz as az\n",
    "import matplotlib.pyplot as plt\n",
    "import pylab as plt\n",
    "import pymc3 as pm\n",
    "import aesara\n",
    "import matplotlib.font_manager\n",
    "import scipy.stats\n",
    "import scipy.optimize\n",
    "import math"
   ]
  },
  {
   "cell_type": "code",
   "execution_count": 3,
   "id": "7ade0296-e210-4b94-8dd9-7a92f3f7e9e9",
   "metadata": {},
   "outputs": [],
   "source": [
    "%matplotlib inline"
   ]
  },
  {
   "cell_type": "markdown",
   "id": "d9812834-1063-43f2-8a77-3cdb995a5bae",
   "metadata": {},
   "source": [
    "## Retrieving SPT Data"
   ]
  },
  {
   "cell_type": "code",
   "execution_count": 4,
   "id": "f53ec3b9-34ca-4393-bbbb-3ba4457bb961",
   "metadata": {},
   "outputs": [],
   "source": [
    "fname = '../data_set/sptecs_catalog_oct919.fits'\n",
    "\n",
    "data = Table(getdata(fname))"
   ]
  },
  {
   "cell_type": "code",
   "execution_count": 5,
   "id": "c015d052-785c-44f2-a5b8-b2e0bff1c32e",
   "metadata": {},
   "outputs": [
    {
     "name": "stderr",
     "output_type": "stream",
     "text": [
      "/data0/sw/anaconda3/lib/python3.8/site-packages/pandas/core/arraylike.py:364: RuntimeWarning: divide by zero encountered in log\n",
      "  result = getattr(ufunc, method)(*inputs, **kwargs)\n"
     ]
    }
   ],
   "source": [
    "df = data.to_pandas()\n",
    "h=0.7\n",
    "df['log_M500'] = np.log(df.M500*1e14*h)\n",
    "df['log_LAMBDA_CHISQ'] = np.log(df.LAMBDA_CHISQ)"
   ]
  },
  {
   "cell_type": "code",
   "execution_count": 6,
   "id": "ff3f0fd7-230a-42a8-936a-67501ba8c1f1",
   "metadata": {},
   "outputs": [
    {
     "name": "stderr",
     "output_type": "stream",
     "text": [
      "<ipython-input-6-5c4766f6076c>:3: RuntimeWarning: divide by zero encountered in log\n",
      "  log_m500 = np.log(m500)\n",
      "<ipython-input-6-5c4766f6076c>:9: RuntimeWarning: invalid value encountered in true_divide\n",
      "  log_m500_err = m500_err/m500\n"
     ]
    }
   ],
   "source": [
    "## Calculating the log of the mean mass error ##\n",
    "m500 = df.M500.to_numpy()*1e14*h\n",
    "log_m500 = np.log(m500)\n",
    "\n",
    "lerr = df.M500_LERR.to_numpy()*1e14*h\n",
    "uerr = df.M500_UERR.to_numpy()*1e14*h\n",
    "\n",
    "m500_err = (lerr+uerr)/2 # mean mass error\n",
    "log_m500_err = m500_err/m500\n",
    "\n",
    "# Eliminating NaN values from the log_m500_err data set\n",
    "nnan = ~np.isnan(log_m500_err)\n",
    "nnan2 = ~np.isnan(log_m500)"
   ]
  },
  {
   "cell_type": "code",
   "execution_count": 7,
   "id": "f4c836a5-40b4-4cdd-bcc0-3c63abc9d1dc",
   "metadata": {},
   "outputs": [
    {
     "name": "stderr",
     "output_type": "stream",
     "text": [
      "<ipython-input-7-949632b44be5>:7: RuntimeWarning: invalid value encountered in true_divide\n",
      "  log_lbd_err = lbd_err/lbd\n"
     ]
    }
   ],
   "source": [
    "## Calculating the log of the richness error ##\n",
    "\n",
    "lbd = df.LAMBDA_CHISQ.to_numpy()\n",
    "lbd_err = df.LAMBDA_CHISQ_E.to_numpy()\n",
    "\n",
    "log_lbd = df.log_LAMBDA_CHISQ\n",
    "log_lbd_err = lbd_err/lbd\n",
    "\n",
    "# Eliminating NaN values from the log_lbd_err data set\n",
    "nnan3 = ~np.isnan(log_lbd_err)\n",
    "nnan4 = ~np.isnan(log_lbd)\n",
    "\n",
    "nnan_all = nnan & nnan2 & nnan3 & nnan4"
   ]
  },
  {
   "cell_type": "code",
   "execution_count": 8,
   "id": "13453115-e766-4c38-a83e-75e4d524afbe",
   "metadata": {},
   "outputs": [],
   "source": [
    "df0 = df\n",
    "z = df0.REDSHIFT.to_numpy()\n",
    "lbd = df0.LAMBDA_CHISQ.to_numpy()\n",
    "zcut = (z > 0.1) & (z < 0.65)\n",
    "lcut = lbd > 20\n",
    "final_cut = zcut & lcut"
   ]
  },
  {
   "cell_type": "code",
   "execution_count": 9,
   "id": "06e691a0-97de-4472-be0a-cd2e92e257e9",
   "metadata": {},
   "outputs": [],
   "source": [
    "df = df0.loc[final_cut].copy()"
   ]
  },
  {
   "cell_type": "markdown",
   "id": "6140afd3-b4c8-437c-9759-3656003a9847",
   "metadata": {},
   "source": [
    "## First Draft Version"
   ]
  },
  {
   "cell_type": "code",
   "execution_count": 10,
   "id": "d5eaa718-d216-4033-9669-768f9b075e07",
   "metadata": {},
   "outputs": [],
   "source": [
    "#Y = np.vstack([x,y])"
   ]
  },
  {
   "cell_type": "code",
   "execution_count": 11,
   "id": "598c3e91-ed6d-4254-bca3-cc964fc8dbd5",
   "metadata": {},
   "outputs": [],
   "source": [
    "def model(theta, x, gammasz = 1.0, M0 = 3e14, Ez0=1.):\n",
    "    M, z  = x\n",
    "    asz, bsz, csz, albd, blbd, clbd, = theta\n",
    "\n",
    "    y1 = gammasz*asz + bsz*np.log(M/M0) + csz*np.log(E(z)/Ez0)\n",
    "    y2 = albd + albd*np.log(M/M0) + clbd*np.log(E(z)/Ez0)\n",
    "    return np.vstack([y1,y2])\n",
    "    "
   ]
  },
  {
   "cell_type": "code",
   "execution_count": 12,
   "id": "1f606f29-84d3-4178-af9e-1fd5f079095a",
   "metadata": {},
   "outputs": [],
   "source": [
    "from colossus.cosmology import cosmology\n",
    "from colossus.lss import mass_function\n",
    "from astropy.io.fits import getdata\n",
    "from astropy.table import Table\n",
    "cosmology.setCosmology('WMAP9')\n",
    "\n",
    "# true = obs lambda\n",
    "# true SZ signal = obs SZ signal\n",
    "\n",
    "def joint_probability(y1, y2, mu1, mu2, s1, s2, rho):\n",
    "    den = 2*np.pi*s1*s2*np,sqrt(1-rho**2)\n",
    "    num = (y1-mu1)**2/s1**2 + (y2-mu2)**2/s2**2\n",
    "    num += 2*((y1-mu1)/s1)*((y2-mu2)/s2)/(2*(1-rho**2))\n",
    "    log_prob = -num/(2*(1-rho**2))\n",
    "    prob = np.exp(log_prob/den)\n",
    "    return prob\n",
    "\n",
    "def prob_lbd_sz(theta, M, z):\n",
    "    y1, y2 = y\n",
    "    \n",
    "    \n",
    "    # covariance\n",
    "    s1, s2, rho = theta[-3], theta[-2], theta[-1]\n",
    "   # cov = np.array([[s1**2, s1*s2*rho], [s1*s2*rho, s2**2]])\n",
    "   # den - 1./(s1**2*s2**2*(1-rho))\n",
    "   # cov_inv = np.array([[s1**2, -s1*s2*rho], [-s1*s2*rho, s2**2]])/den\n",
    "    \n",
    "    # predictions\n",
    "    mu1, mu2 = model(theta, x)\n",
    "    \n",
    "    #joint probability\n",
    "    return joint_probability(y1, y2, mu1, mu2, s1, s2, rho)\n",
    "\n",
    "\n",
    "#comparing predictions with the model\n",
    "\n",
    "# x = M, z\n",
    "def hal0_mass_function(M, z):\n",
    "    return mass_function.massFunction(M, z, mdef = 'vir', model = 'tinker08')\n",
    "\n",
    "\n",
    "def prob_obs_lambda_integrand(M, z, theta):\n",
    "    M, z = x\n",
    "    prob = prob_lbd_sz(theta, x, y)\n",
    "    hmf = halo_mass_function(M, z)\n",
    "    integrand = prob*hmf\n",
    "    return integrand\n",
    "\n",
    "def prob_obs_lambda(theta, x, y, errors, Norm=1.):\n",
    "    M, z = x\n",
    "    value = scipy.integrated.quad(prob_obs_lambda_integrand, 1e13, 1e16, args=(z, theta, y))/Norm\n",
    "    return value\n",
    "\n",
    "def log_likelihood(theta, x, y, errors):\n",
    "    return np.log(prob_obs_lambda(theta, x, y, errors))"
   ]
  },
  {
   "cell_type": "markdown",
   "id": "b03568b4-5c37-432b-b1c3-09e4fb4c65b5",
   "metadata": {},
   "source": [
    "## Solving for the Model Directly (via S. Grandis et al. 2021)"
   ]
  },
  {
   "cell_type": "code",
   "execution_count": 13,
   "id": "d4f25d88-c087-46b6-b3ef-2a997b4da6e1",
   "metadata": {},
   "outputs": [],
   "source": [
    "## Lisiting constants (or undefined variables for now too) ##\n",
    "\n",
    "M0 = 3e14\n",
    "\n",
    "M = log_m500[nnan_all]\n",
    "# Is M defined as simply the values of the mass or the log of the mass?\n",
    "\n",
    "z = z[nnan_all]\n",
    "\n",
    "lbd = log_lbd[nnan_all]\n",
    "# Is lbd defined as simply the values of lambda or the log of lambda?\n",
    "\n",
    "lbd_error = log_lbd_err[nnan_all]\n",
    "# Is lbd_error defined as simply the error values of lambda or the error values of the log of lambda?\n",
    "\n",
    "chsi = 0\n",
    "lbd_hat = 0\n",
    "rho = 0\n",
    "zeta = 0\n",
    "scatter_lambda = 0\n",
    "scatter_zeta = 0\n",
    "# Temporary values (since they are unknown as of yet)"
   ]
  },
  {
   "cell_type": "code",
   "execution_count": 14,
   "id": "582b3db1-c258-439a-85c1-0b8df7b06b45",
   "metadata": {},
   "outputs": [],
   "source": [
    "def E(z):\n",
    "    # The Hubble constant at the value of z\n",
    "    Hz = cosmo.H(z).value\n",
    "    # The Hubble constant at z=0\n",
    "    H0 = cosmo.H(0).value\n",
    "    return (Hz/H0)"
   ]
  },
  {
   "cell_type": "code",
   "execution_count": 15,
   "id": "5f374be3-b211-406a-aae2-af0ec80ad8b7",
   "metadata": {},
   "outputs": [],
   "source": [
    "A_lambda = 76.9\n",
    "B_lambda = 1.020\n",
    "C_lambda = 0.29\n",
    "scatter_lambda = 0.16\n",
    "\n",
    "#A_lambda = pm.Normal(\"A_lambda\", mu=76.9, sigma=(8.2*3))\n",
    "#B_lambda = pm.Normal(\"B_lambda\", mu=1.020, sigma=(0.080*3))\n",
    "#C_lambda = pm.Normal(\"C_lambda\", mu=0.29, sigma=(0.27*3))\n",
    "#scatter_lambda = pm.HalfCauchy(\"scatter\", 0.16)\n",
    "\n",
    "A_sze = 5.24\n",
    "B_sze = 1.534\n",
    "C_sze = 0.465\n",
    "scatter_sze = 0.161\n",
    "\n",
    "#A_lambda = pm.Normal(\"A_lambda\", mu=5.24, sigma=(0.85*3))\n",
    "#B_lambda = pm.Normal(\"B_lambda\", mu=1.534, sigma=(0.100*3))\n",
    "#C_lambda = pm.Normal(\"C_lambda\", mu=0.465, sigma=(0.407*3))\n",
    "#scatter_sze = pm.HalfCauchy(\"scatter\", 0.080)\n",
    "\n",
    "\n",
    "## Not sure whether to use point values or values on a distribution ##"
   ]
  },
  {
   "cell_type": "code",
   "execution_count": 16,
   "id": "ff3f6635-31d6-40ff-a97d-9259f09126d3",
   "metadata": {},
   "outputs": [],
   "source": [
    "ln_lbd_given_M = np.log(A_lambda) + (B_lambda)*(np.log(M/M0)) + (C_lambda)*(np.log(E(z)/E(0)))\n",
    "ln_zeta_given_M = np.log(A_sze) + (B_sze)*(np.log(M/M0)) + (C_sze)*(np.log(E(z)/E(0)))"
   ]
  },
  {
   "cell_type": "code",
   "execution_count": 18,
   "id": "ae2b9de9-4fc4-40ba-87b0-af271e570505",
   "metadata": {},
   "outputs": [],
   "source": [
    "def log_likelihood_lambda():\n",
    "    equationPt1 = (1/((-2)*(1 - (rho)**2)))*[((lbd - ln_lbd_given_M)/(scatter_lambda))**2 \n",
    "                + (-2)*(rho)*((lbd - ln_lbd_given_M)/(scatter_lambda))]\n",
    "    equationPt2 = (-1/2)*((lbd - lbd_hat)/(lbd_error))**2\n",
    "    return (equationPt1) + (equationPt2)\n",
    "\n",
    "def log_likelihood_zeta():\n",
    "    eq1 = (chsi - math.sqrt((zeta)**2 + 3))**2\n",
    "    eq2 = ((zeta - ln_zeta_given_M)/(scatter_zeta))**2\n",
    "    return (eq1 + eq2)\n",
    "    \n",
    "def log_likelihood_correlation():\n",
    "    equation = (-2*rho)*((lbd - ln_lbd_given_M)/(scatter_lambda))*((zeta - ln_zeta_given_M)/(scatter_zeta))\n",
    "    return equation\n",
    "    \n",
    "def log_likelihood_total():\n",
    "    return (log_likelihood_lambda + log_likelihood_zeta + log_likelihood_correlation + np.log(hal0_mass_function(M, z)))\n"
   ]
  }
 ],
 "metadata": {
  "kernelspec": {
   "display_name": "Python 3",
   "language": "python",
   "name": "python3"
  },
  "language_info": {
   "codemirror_mode": {
    "name": "ipython",
    "version": 3
   },
   "file_extension": ".py",
   "mimetype": "text/x-python",
   "name": "python",
   "nbconvert_exporter": "python",
   "pygments_lexer": "ipython3",
   "version": "3.8.8"
  }
 },
 "nbformat": 4,
 "nbformat_minor": 5
}
