{
 "cells": [
  {
   "cell_type": "markdown",
   "id": "c46c7449-fc6d-4337-afd5-11df494df396",
   "metadata": {},
   "source": [
    "# Experimenting with Models - SPT Sample"
   ]
  },
  {
   "cell_type": "markdown",
   "id": "1865e41d-d9a4-44dd-9f40-593b21c08593",
   "metadata": {},
   "source": [
    "Allen Pinjic - Created on May 23rd, 2022"
   ]
  },
  {
   "cell_type": "code",
   "execution_count": 78,
   "id": "0575221d-40e4-478a-94fa-46a612c0fb3f",
   "metadata": {},
   "outputs": [],
   "source": [
    "from astropy.io.fits import getdata\n",
    "from astropy.table import Table\n",
    "import numpy as np"
   ]
  },
  {
   "cell_type": "code",
   "execution_count": 79,
   "id": "fdccd46e-5ce3-47b2-9996-04435b829524",
   "metadata": {},
   "outputs": [],
   "source": [
    "fname = '../data_set/sptecs_catalog_oct919.fits'\n",
    "\n",
    "data = Table(getdata(fname))"
   ]
  },
  {
   "cell_type": "code",
   "execution_count": 80,
   "id": "58269268-dec9-4f64-b665-5d0c99e11c82",
   "metadata": {},
   "outputs": [],
   "source": [
    "import pandas as pd\n",
    "import seaborn as sns\n",
    "import matplotlib.pyplot as plt\n",
    "%matplotlib inline"
   ]
  },
  {
   "cell_type": "code",
   "execution_count": 81,
   "id": "473a946a-4161-4598-83ff-27a6f948ce44",
   "metadata": {},
   "outputs": [
    {
     "name": "stderr",
     "output_type": "stream",
     "text": [
      "/data0/sw/anaconda3/lib/python3.8/site-packages/pandas/core/arraylike.py:364: RuntimeWarning: divide by zero encountered in log10\n",
      "  result = getattr(ufunc, method)(*inputs, **kwargs)\n"
     ]
    }
   ],
   "source": [
    "df = data.to_pandas()\n",
    "\n",
    "h = 0.7\n",
    "df['log_M500'] = np.log10(df.M500*1e14*h)\n",
    "\n",
    "df0 = df"
   ]
  },
  {
   "cell_type": "code",
   "execution_count": 82,
   "id": "cff56810-b964-4a8c-8b0c-ca4d207d70af",
   "metadata": {},
   "outputs": [],
   "source": [
    "redshift = df0.REDSHIFT.to_numpy()\n",
    "lbd = df0.LAMBDA_CHISQ.to_numpy()\n",
    "zcut = (redshift > 0.1) & (redshift < 0.65)\n",
    "lcut = lbd > 20\n",
    "final_cut = zcut & lcut"
   ]
  },
  {
   "cell_type": "code",
   "execution_count": 83,
   "id": "6e5892e6-13ee-4b3c-ad60-0cc7c90a9028",
   "metadata": {},
   "outputs": [],
   "source": [
    "df = df0.loc[final_cut].copy()"
   ]
  },
  {
   "cell_type": "code",
   "execution_count": 84,
   "id": "6e6d309c-4c18-4ae8-b68c-9885e3708d1b",
   "metadata": {},
   "outputs": [
    {
     "data": {
      "text/html": [
       "<div>\n",
       "<style scoped>\n",
       "    .dataframe tbody tr th:only-of-type {\n",
       "        vertical-align: middle;\n",
       "    }\n",
       "\n",
       "    .dataframe tbody tr th {\n",
       "        vertical-align: top;\n",
       "    }\n",
       "\n",
       "    .dataframe thead th {\n",
       "        text-align: right;\n",
       "    }\n",
       "</style>\n",
       "<table border=\"1\" class=\"dataframe\">\n",
       "  <thead>\n",
       "    <tr style=\"text-align: right;\">\n",
       "      <th></th>\n",
       "      <th>SPT_ID</th>\n",
       "      <th>RA</th>\n",
       "      <th>DEC</th>\n",
       "      <th>FIELD</th>\n",
       "      <th>XI</th>\n",
       "      <th>THETA_CORE</th>\n",
       "      <th>REDSHIFT</th>\n",
       "      <th>REDSHIFT_UNC</th>\n",
       "      <th>SPECZ</th>\n",
       "      <th>REDSHIFT_SOURCE</th>\n",
       "      <th>...</th>\n",
       "      <th>M500_LERR</th>\n",
       "      <th>LAMBDA_CHISQ</th>\n",
       "      <th>LAMBDA_CHISQ_E</th>\n",
       "      <th>RADIO_CONTAM</th>\n",
       "      <th>STRONG_LENS</th>\n",
       "      <th>IMAGE_SOURCE</th>\n",
       "      <th>SPECZ_REF</th>\n",
       "      <th>STRONG_LENS_REF</th>\n",
       "      <th>PHOTOMETRIC_ZREF</th>\n",
       "      <th>log_M500</th>\n",
       "    </tr>\n",
       "  </thead>\n",
       "  <tbody>\n",
       "    <tr>\n",
       "      <th>1</th>\n",
       "      <td>SPT-CLJ0005-3751</td>\n",
       "      <td>1.438318</td>\n",
       "      <td>-37.854369</td>\n",
       "      <td>ra1hdec-35</td>\n",
       "      <td>6.336327</td>\n",
       "      <td>0.75</td>\n",
       "      <td>0.482958</td>\n",
       "      <td>0.007242</td>\n",
       "      <td>0</td>\n",
       "      <td>4.0</td>\n",
       "      <td>...</td>\n",
       "      <td>0.887</td>\n",
       "      <td>86.408386</td>\n",
       "      <td>4.735215</td>\n",
       "      <td>0.0</td>\n",
       "      <td>1.0</td>\n",
       "      <td>3.0</td>\n",
       "      <td></td>\n",
       "      <td></td>\n",
       "      <td></td>\n",
       "      <td>14.579018</td>\n",
       "    </tr>\n",
       "    <tr>\n",
       "      <th>2</th>\n",
       "      <td>SPT-CLJ0005-3443</td>\n",
       "      <td>1.487651</td>\n",
       "      <td>-34.719271</td>\n",
       "      <td>ra1hdec-35</td>\n",
       "      <td>5.514429</td>\n",
       "      <td>2.00</td>\n",
       "      <td>0.114000</td>\n",
       "      <td>0.000000</td>\n",
       "      <td>1</td>\n",
       "      <td>9.0</td>\n",
       "      <td>...</td>\n",
       "      <td>1.005</td>\n",
       "      <td>105.385574</td>\n",
       "      <td>4.646943</td>\n",
       "      <td>0.0</td>\n",
       "      <td>0.0</td>\n",
       "      <td>8.0</td>\n",
       "      <td>1989ApJS...70....1A</td>\n",
       "      <td></td>\n",
       "      <td></td>\n",
       "      <td>14.571418</td>\n",
       "    </tr>\n",
       "    <tr>\n",
       "      <th>7</th>\n",
       "      <td>SPT-CLJ0020-2543</td>\n",
       "      <td>5.173062</td>\n",
       "      <td>-25.727583</td>\n",
       "      <td>ra1hdec-25</td>\n",
       "      <td>7.141808</td>\n",
       "      <td>1.50</td>\n",
       "      <td>0.141000</td>\n",
       "      <td>0.000000</td>\n",
       "      <td>1</td>\n",
       "      <td>9.0</td>\n",
       "      <td>...</td>\n",
       "      <td>1.077</td>\n",
       "      <td>101.159950</td>\n",
       "      <td>18.001257</td>\n",
       "      <td>0.0</td>\n",
       "      <td>0.0</td>\n",
       "      <td>8.0</td>\n",
       "      <td>1999ApJS..125...35S</td>\n",
       "      <td></td>\n",
       "      <td></td>\n",
       "      <td>14.692856</td>\n",
       "    </tr>\n",
       "    <tr>\n",
       "      <th>10</th>\n",
       "      <td>SPT-CLJ0042-2831</td>\n",
       "      <td>10.526915</td>\n",
       "      <td>-28.522130</td>\n",
       "      <td>ra1hdec-25</td>\n",
       "      <td>8.122652</td>\n",
       "      <td>1.75</td>\n",
       "      <td>0.108600</td>\n",
       "      <td>0.000000</td>\n",
       "      <td>1</td>\n",
       "      <td>9.0</td>\n",
       "      <td>...</td>\n",
       "      <td>1.103</td>\n",
       "      <td>70.527962</td>\n",
       "      <td>2.828000</td>\n",
       "      <td>0.0</td>\n",
       "      <td>0.0</td>\n",
       "      <td>8.0</td>\n",
       "      <td>2002MNRAS.329...87D</td>\n",
       "      <td></td>\n",
       "      <td></td>\n",
       "      <td>14.734903</td>\n",
       "    </tr>\n",
       "    <tr>\n",
       "      <th>11</th>\n",
       "      <td>SPT-CLJ0042-3809</td>\n",
       "      <td>10.613344</td>\n",
       "      <td>-38.151329</td>\n",
       "      <td>ra1hdec-35</td>\n",
       "      <td>6.616126</td>\n",
       "      <td>1.25</td>\n",
       "      <td>0.219660</td>\n",
       "      <td>0.000000</td>\n",
       "      <td>1</td>\n",
       "      <td>9.0</td>\n",
       "      <td>...</td>\n",
       "      <td>0.984</td>\n",
       "      <td>74.723076</td>\n",
       "      <td>2.981047</td>\n",
       "      <td>0.0</td>\n",
       "      <td>0.0</td>\n",
       "      <td>8.0</td>\n",
       "      <td>1996ApJ...470..172S</td>\n",
       "      <td></td>\n",
       "      <td></td>\n",
       "      <td>14.623611</td>\n",
       "    </tr>\n",
       "    <tr>\n",
       "      <th>...</th>\n",
       "      <td>...</td>\n",
       "      <td>...</td>\n",
       "      <td>...</td>\n",
       "      <td>...</td>\n",
       "      <td>...</td>\n",
       "      <td>...</td>\n",
       "      <td>...</td>\n",
       "      <td>...</td>\n",
       "      <td>...</td>\n",
       "      <td>...</td>\n",
       "      <td>...</td>\n",
       "      <td>...</td>\n",
       "      <td>...</td>\n",
       "      <td>...</td>\n",
       "      <td>...</td>\n",
       "      <td>...</td>\n",
       "      <td>...</td>\n",
       "      <td>...</td>\n",
       "      <td>...</td>\n",
       "      <td>...</td>\n",
       "      <td>...</td>\n",
       "    </tr>\n",
       "    <tr>\n",
       "      <th>428</th>\n",
       "      <td>SPT-CLJ0552-4008</td>\n",
       "      <td>88.123056</td>\n",
       "      <td>-40.136343</td>\n",
       "      <td>ra5hdec-35</td>\n",
       "      <td>4.359108</td>\n",
       "      <td>2.00</td>\n",
       "      <td>0.362500</td>\n",
       "      <td>0.009275</td>\n",
       "      <td>0</td>\n",
       "      <td>4.0</td>\n",
       "      <td>...</td>\n",
       "      <td>0.897</td>\n",
       "      <td>65.890450</td>\n",
       "      <td>4.650317</td>\n",
       "      <td>0.0</td>\n",
       "      <td>0.0</td>\n",
       "      <td>3.0</td>\n",
       "      <td></td>\n",
       "      <td></td>\n",
       "      <td></td>\n",
       "      <td>14.441915</td>\n",
       "    </tr>\n",
       "    <tr>\n",
       "      <th>429</th>\n",
       "      <td>SPT-CLJ0554-3149</td>\n",
       "      <td>88.528647</td>\n",
       "      <td>-31.830573</td>\n",
       "      <td>ra5hdec-35</td>\n",
       "      <td>4.620441</td>\n",
       "      <td>0.25</td>\n",
       "      <td>0.218471</td>\n",
       "      <td>0.005045</td>\n",
       "      <td>0</td>\n",
       "      <td>4.0</td>\n",
       "      <td>...</td>\n",
       "      <td>0.944</td>\n",
       "      <td>21.193373</td>\n",
       "      <td>2.535579</td>\n",
       "      <td>0.0</td>\n",
       "      <td>0.0</td>\n",
       "      <td>3.0</td>\n",
       "      <td></td>\n",
       "      <td></td>\n",
       "      <td></td>\n",
       "      <td>14.477150</td>\n",
       "    </tr>\n",
       "    <tr>\n",
       "      <th>430</th>\n",
       "      <td>SPT-CLJ0556-2502</td>\n",
       "      <td>89.156331</td>\n",
       "      <td>-25.042366</td>\n",
       "      <td>ra5hdec-25</td>\n",
       "      <td>4.130208</td>\n",
       "      <td>0.25</td>\n",
       "      <td>0.624432</td>\n",
       "      <td>0.013504</td>\n",
       "      <td>0</td>\n",
       "      <td>4.0</td>\n",
       "      <td>...</td>\n",
       "      <td>0.815</td>\n",
       "      <td>20.384859</td>\n",
       "      <td>2.782436</td>\n",
       "      <td>0.0</td>\n",
       "      <td>0.0</td>\n",
       "      <td>3.0</td>\n",
       "      <td></td>\n",
       "      <td></td>\n",
       "      <td></td>\n",
       "      <td>14.405722</td>\n",
       "    </tr>\n",
       "    <tr>\n",
       "      <th>431</th>\n",
       "      <td>SPT-CLJ0557-2626</td>\n",
       "      <td>89.371706</td>\n",
       "      <td>-26.437366</td>\n",
       "      <td>ra5hdec-25</td>\n",
       "      <td>4.008900</td>\n",
       "      <td>0.75</td>\n",
       "      <td>0.598462</td>\n",
       "      <td>0.008865</td>\n",
       "      <td>0</td>\n",
       "      <td>4.0</td>\n",
       "      <td>...</td>\n",
       "      <td>0.798</td>\n",
       "      <td>45.250465</td>\n",
       "      <td>3.503051</td>\n",
       "      <td>0.0</td>\n",
       "      <td>0.0</td>\n",
       "      <td>3.0</td>\n",
       "      <td></td>\n",
       "      <td></td>\n",
       "      <td></td>\n",
       "      <td>14.403927</td>\n",
       "    </tr>\n",
       "    <tr>\n",
       "      <th>432</th>\n",
       "      <td>SPT-CLJ0559-2628</td>\n",
       "      <td>89.750188</td>\n",
       "      <td>-26.482636</td>\n",
       "      <td>ra5hdec-25</td>\n",
       "      <td>4.093619</td>\n",
       "      <td>1.25</td>\n",
       "      <td>0.274927</td>\n",
       "      <td>0.005619</td>\n",
       "      <td>0</td>\n",
       "      <td>4.0</td>\n",
       "      <td>...</td>\n",
       "      <td>0.888</td>\n",
       "      <td>91.442528</td>\n",
       "      <td>4.269127</td>\n",
       "      <td>0.0</td>\n",
       "      <td>0.0</td>\n",
       "      <td>3.0</td>\n",
       "      <td></td>\n",
       "      <td></td>\n",
       "      <td></td>\n",
       "      <td>14.445417</td>\n",
       "    </tr>\n",
       "  </tbody>\n",
       "</table>\n",
       "<p>196 rows × 24 columns</p>\n",
       "</div>"
      ],
      "text/plain": [
       "               SPT_ID         RA        DEC        FIELD        XI  \\\n",
       "1    SPT-CLJ0005-3751   1.438318 -37.854369   ra1hdec-35  6.336327   \n",
       "2    SPT-CLJ0005-3443   1.487651 -34.719271   ra1hdec-35  5.514429   \n",
       "7    SPT-CLJ0020-2543   5.173062 -25.727583   ra1hdec-25  7.141808   \n",
       "10   SPT-CLJ0042-2831  10.526915 -28.522130   ra1hdec-25  8.122652   \n",
       "11   SPT-CLJ0042-3809  10.613344 -38.151329   ra1hdec-35  6.616126   \n",
       "..                ...        ...        ...          ...       ...   \n",
       "428  SPT-CLJ0552-4008  88.123056 -40.136343   ra5hdec-35  4.359108   \n",
       "429  SPT-CLJ0554-3149  88.528647 -31.830573   ra5hdec-35  4.620441   \n",
       "430  SPT-CLJ0556-2502  89.156331 -25.042366   ra5hdec-25  4.130208   \n",
       "431  SPT-CLJ0557-2626  89.371706 -26.437366   ra5hdec-25  4.008900   \n",
       "432  SPT-CLJ0559-2628  89.750188 -26.482636   ra5hdec-25  4.093619   \n",
       "\n",
       "     THETA_CORE  REDSHIFT  REDSHIFT_UNC  SPECZ  REDSHIFT_SOURCE  ...  \\\n",
       "1          0.75  0.482958      0.007242      0              4.0  ...   \n",
       "2          2.00  0.114000      0.000000      1              9.0  ...   \n",
       "7          1.50  0.141000      0.000000      1              9.0  ...   \n",
       "10         1.75  0.108600      0.000000      1              9.0  ...   \n",
       "11         1.25  0.219660      0.000000      1              9.0  ...   \n",
       "..          ...       ...           ...    ...              ...  ...   \n",
       "428        2.00  0.362500      0.009275      0              4.0  ...   \n",
       "429        0.25  0.218471      0.005045      0              4.0  ...   \n",
       "430        0.25  0.624432      0.013504      0              4.0  ...   \n",
       "431        0.75  0.598462      0.008865      0              4.0  ...   \n",
       "432        1.25  0.274927      0.005619      0              4.0  ...   \n",
       "\n",
       "     M500_LERR LAMBDA_CHISQ  LAMBDA_CHISQ_E  RADIO_CONTAM  STRONG_LENS  \\\n",
       "1        0.887    86.408386        4.735215           0.0          1.0   \n",
       "2        1.005   105.385574        4.646943           0.0          0.0   \n",
       "7        1.077   101.159950       18.001257           0.0          0.0   \n",
       "10       1.103    70.527962        2.828000           0.0          0.0   \n",
       "11       0.984    74.723076        2.981047           0.0          0.0   \n",
       "..         ...          ...             ...           ...          ...   \n",
       "428      0.897    65.890450        4.650317           0.0          0.0   \n",
       "429      0.944    21.193373        2.535579           0.0          0.0   \n",
       "430      0.815    20.384859        2.782436           0.0          0.0   \n",
       "431      0.798    45.250465        3.503051           0.0          0.0   \n",
       "432      0.888    91.442528        4.269127           0.0          0.0   \n",
       "\n",
       "     IMAGE_SOURCE                               SPECZ_REF  \\\n",
       "1             3.0                                           \n",
       "2             8.0                     1989ApJS...70....1A   \n",
       "7             8.0                     1999ApJS..125...35S   \n",
       "10            8.0                     2002MNRAS.329...87D   \n",
       "11            8.0                     1996ApJ...470..172S   \n",
       "..            ...                                     ...   \n",
       "428           3.0                                           \n",
       "429           3.0                                           \n",
       "430           3.0                                           \n",
       "431           3.0                                           \n",
       "432           3.0                                           \n",
       "\n",
       "         STRONG_LENS_REF               PHOTOMETRIC_ZREF   log_M500  \n",
       "1                                                        14.579018  \n",
       "2                                                        14.571418  \n",
       "7                                                        14.692856  \n",
       "10                                                       14.734903  \n",
       "11                                                       14.623611  \n",
       "..                   ...                            ...        ...  \n",
       "428                                                      14.441915  \n",
       "429                                                      14.477150  \n",
       "430                                                      14.405722  \n",
       "431                                                      14.403927  \n",
       "432                                                      14.445417  \n",
       "\n",
       "[196 rows x 24 columns]"
      ]
     },
     "execution_count": 84,
     "metadata": {},
     "output_type": "execute_result"
    }
   ],
   "source": [
    "df"
   ]
  },
  {
   "cell_type": "code",
   "execution_count": 85,
   "id": "3a291397-7ca0-4991-aa1a-b62bd9cd5fbc",
   "metadata": {},
   "outputs": [],
   "source": [
    "# The default data set that will be used for the models below"
   ]
  },
  {
   "cell_type": "markdown",
   "id": "4565d7ba-73e6-4270-944b-d7eab489999f",
   "metadata": {},
   "source": [
    "## Creating a Linear Regression Model - Matplotlib"
   ]
  },
  {
   "cell_type": "code",
   "execution_count": 86,
   "id": "917f95bc-e699-40bf-aad6-3179cf2a9713",
   "metadata": {},
   "outputs": [],
   "source": [
    "import seaborn as sns\n",
    "import matplotlib.pyplot as plt\n",
    "%matplotlib inline"
   ]
  },
  {
   "cell_type": "code",
   "execution_count": 87,
   "id": "27edf72c-edf6-47f9-8d4c-7fd1aa2f757f",
   "metadata": {},
   "outputs": [],
   "source": [
    "sns.set_theme(style=\"darkgrid\")"
   ]
  },
  {
   "cell_type": "code",
   "execution_count": 88,
   "id": "1546f92f-7356-4dcc-a971-273d5e4c988c",
   "metadata": {},
   "outputs": [
    {
     "data": {
      "text/plain": [
       "Text(0, 0.5, 'Value of Log of M500')"
      ]
     },
     "execution_count": 88,
     "metadata": {},
     "output_type": "execute_result"
    },
    {
     "data": {
      "image/png": "[encoded data removed]",
      "text/plain": [
       "<Figure size 432x288 with 1 Axes>"
      ]
     },
     "metadata": {},
     "output_type": "display_data"
    }
   ],
   "source": [
    "# With confidence interval\n",
    "ax1 = sns.regplot(x=df[\"LAMBDA_CHISQ\"], y=df[\"log_M500\"], fit_reg=True)\n",
    "ax1.set_xlabel('Value of Richness (λ)')\n",
    "ax1.set_ylabel('Value of Log of M500')"
   ]
  },
  {
   "cell_type": "code",
   "execution_count": 89,
   "id": "5c08bcb5-758a-48de-aa73-7854a2af2c1f",
   "metadata": {},
   "outputs": [
    {
     "data": {
      "text/plain": [
       "Text(0, 0.5, 'Value of Log of M500')"
      ]
     },
     "execution_count": 89,
     "metadata": {},
     "output_type": "execute_result"
    },
    {
     "data": {
      "image/png": "[encoded data removed]",
      "text/plain": [
       "<Figure size 432x288 with 1 Axes>"
      ]
     },
     "metadata": {},
     "output_type": "display_data"
    }
   ],
   "source": [
    "# Without confidence interval\n",
    "ax2 = sns.regplot(x=df[\"LAMBDA_CHISQ\"], y=df[\"log_M500\"], fit_reg=True, ci = None)\n",
    "ax2.set_xlabel('Value of Richness (λ)')\n",
    "ax2.set_ylabel('Value of Log of M500')"
   ]
  },
  {
   "cell_type": "code",
   "execution_count": 90,
   "id": "623df5ef-638a-43e2-a10a-48f4606b5200",
   "metadata": {},
   "outputs": [],
   "source": [
    "def estimate_coef(x, y):\n",
    "    # number of observations/points\n",
    "    n = np.size(x)\n",
    "  \n",
    "    # mean of x and y vector\n",
    "    m_x = np.mean(x)\n",
    "    m_y = np.mean(y)\n",
    "  \n",
    "    # calculating cross-deviation and deviation about x\n",
    "    SS_xy = np.sum(y*x) - n*m_y*m_x\n",
    "    SS_xx = np.sum(x*x) - n*m_x*m_x\n",
    "  \n",
    "    # calculating regression coefficients\n",
    "    b_1 = SS_xy / SS_xx\n",
    "    b_0 = m_y - b_1*m_x\n",
    "  \n",
    "    return (b_0, b_1)"
   ]
  },
  {
   "cell_type": "code",
   "execution_count": 91,
   "id": "ea71da97-a798-4c3a-8496-34b761f419a4",
   "metadata": {},
   "outputs": [],
   "source": [
    "def plot_regression_line(x, y, b):\n",
    "    # plotting the actual points as scatter plot\n",
    "    plt.scatter(x, y, color = \"m\",\n",
    "               marker = \"o\", s = 30)\n",
    "  \n",
    "    # predicted response vector\n",
    "    y_pred = b[0] + b[1]*x\n",
    "  \n",
    "    # plotting the regression line\n",
    "    plt.plot(x, y_pred, color = \"blue\")\n",
    "  \n",
    "    # putting labels\n",
    "    plt.xlabel('x')\n",
    "    plt.ylabel('y')\n",
    "  \n",
    "    # function to show plot\n",
    "    plt.show()"
   ]
  },
  {
   "cell_type": "code",
   "execution_count": 92,
   "id": "e12db11b-4b85-4a81-8c23-d80121a4c9a4",
   "metadata": {},
   "outputs": [
    {
     "name": "stdout",
     "output_type": "stream",
     "text": [
      "Estimated coefficients:\n",
      "b_0 = 14.36460821531415            \n",
      "b_1 = 0.0020435558499231885\n"
     ]
    },
    {
     "data": {
      "image/png": "[encoded data removed]",
      "text/plain": [
       "<Figure size 432x288 with 1 Axes>"
      ]
     },
     "metadata": {},
     "output_type": "display_data"
    }
   ],
   "source": [
    "x = df['LAMBDA_CHISQ']\n",
    "y = df['log_M500']\n",
    "  \n",
    "    # estimating coefficients\n",
    "b = estimate_coef(x, y)\n",
    "print(\"Estimated coefficients:\\nb_0 = {}  \\\n",
    "          \\nb_1 = {}\".format(b[0], b[1]))\n",
    "  \n",
    "    # plotting regression line\n",
    "plot_regression_line(x, y, b)\n",
    "\n",
    "# b_0 is the y-intercept of the regression line\n",
    "# b_1 is the slope of the regression line"
   ]
  },
  {
   "cell_type": "code",
   "execution_count": 93,
   "id": "3fa501d1-7703-48c4-88b4-118ff4924648",
   "metadata": {},
   "outputs": [
    {
     "name": "stdout",
     "output_type": "stream",
     "text": [
      "(196,)\n",
      "(196,)\n",
      "(196,)\n",
      "(196,)\n"
     ]
    },
    {
     "name": "stderr",
     "output_type": "stream",
     "text": [
      "/data0/sw/anaconda3/lib/python3.8/site-packages/scipy/optimize/minpack.py:833: OptimizeWarning: Covariance of the parameters could not be estimated\n",
      "  warnings.warn('Covariance of the parameters could not be estimated',\n"
     ]
    },
    {
     "data": {
      "text/plain": [
       "<matplotlib.legend.Legend at 0x7f28964c1b50>"
      ]
     },
     "execution_count": 93,
     "metadata": {},
     "output_type": "execute_result"
    },
    {
     "data": {
      "image/png": "[encoded data removed]",
      "text/plain": [
       "<Figure size 432x288 with 1 Axes>"
      ]
     },
     "metadata": {},
     "output_type": "display_data"
    }
   ],
   "source": [
    "# Unsure why this model is not rendering\n",
    "\n",
    "from scipy.optimize import curve_fit\n",
    "\n",
    "richness = df['LAMBDA_CHISQ']\n",
    "logMass = df['log_M500']\n",
    "\n",
    "print(richness.shape)\n",
    "richness = np.squeeze(richness)\n",
    "print(richness.shape)\n",
    "\n",
    "print(logMass.shape)\n",
    "logMass = np.squeeze(logMass)\n",
    "print(logMass.shape)\n",
    "\n",
    "f=lambda x,a,b: a*x + b\n",
    "fit=curve_fit(f,richness, logMass)\n",
    "xsmooth=np.linspace(np.min(richness), np.max(richness), 1000)\n",
    "plt.plot(richness,logMass,'ro',label='Data')\n",
    "plt.plot(xsmooth,f(xsmooth,*fit[0]),'b-',linewidth=2,label='LOG FIT')\n",
    "plt.legend()"
   ]
  },
  {
   "cell_type": "code",
   "execution_count": 94,
   "id": "dca01a3a-3144-4c8e-9e2c-5707467a51c6",
   "metadata": {},
   "outputs": [
    {
     "name": "stdout",
     "output_type": "stream",
     "text": [
      "[1. 1.]\n",
      "1.0\n",
      "1.0\n"
     ]
    }
   ],
   "source": [
    "print(fit[0])\n",
    "print(fit[0][0])\n",
    "print(fit[0][1])"
   ]
  },
  {
   "cell_type": "code",
   "execution_count": 95,
   "id": "f584e622-f7f3-4bae-988b-e3b356abbb63",
   "metadata": {},
   "outputs": [
    {
     "data": {
      "text/plain": [
       "Text(0, 0.5, 'Value of Log M500')"
      ]
     },
     "execution_count": 95,
     "metadata": {},
     "output_type": "execute_result"
    },
    {
     "data": {
      "image/png": "[encoded data removed]",
      "text/plain": [
       "<Figure size 432x288 with 1 Axes>"
      ]
     },
     "metadata": {},
     "output_type": "display_data"
    }
   ],
   "source": [
    "plt.scatter(x=df[\"LAMBDA_CHISQ\"], y=df[\"log_M500\"], color = \"skyblue\", alpha=0.8)\n",
    "plt.xlabel('Value of Richness')\n",
    "plt.ylabel('Value of Log M500')\n",
    "\n",
    "# Use seaborn style: plt.style.use('seaborn')"
   ]
  },
  {
   "cell_type": "markdown",
   "id": "1aa5cc38-f65f-4a20-82b3-cd44965f686e",
   "metadata": {},
   "source": [
    "## Creating a Generative Probabilistic Model - MCMC"
   ]
  },
  {
   "cell_type": "code",
   "execution_count": 96,
   "id": "0b2cf713-340a-407e-8f49-ec1057da83e2",
   "metadata": {},
   "outputs": [],
   "source": [
    "%matplotlib inline\n",
    "import pylab as plt\n",
    "import numpy as np\n",
    "import scipy.stats\n",
    "import scipy.optimize\n",
    "import matplotlib.pyplot as plt"
   ]
  },
  {
   "cell_type": "code",
   "execution_count": 97,
   "id": "112483a8-b52b-44b3-804c-914d0e6d4566",
   "metadata": {},
   "outputs": [],
   "source": [
    "richness = df['LAMBDA_CHISQ']\n",
    "logOfMass = df['log_M500']\n",
    "\n",
    "# Converting selected columns from the pandas dataframe into a numpy array\n",
    "\n",
    "richnessArray = df['LAMBDA_CHISQ'].to_numpy()\n",
    "logOfMassArray = df['log_M500'].to_numpy()\n",
    "\n",
    "N = 50000\n",
    "x = richnessArray\n",
    "y = logOfMassArray\n",
    "\n",
    "# Implementing an error bar for every point\n",
    "# within the x and y arrays\n",
    "# Still do not know how to properly calculate the values of yerr\n",
    "yerr = [0.4]*196\n",
    "\n",
    "# Changing the type from tuple to an array\n",
    "yerr = np.array(yerr)"
   ]
  },
  {
   "cell_type": "code",
   "execution_count": 98,
   "id": "3cd0e32d-a782-4589-a31e-879b9de732e3",
   "metadata": {},
   "outputs": [
    {
     "name": "stdout",
     "output_type": "stream",
     "text": [
      "(196,)\n",
      "(196,)\n"
     ]
    }
   ],
   "source": [
    "# Checking to make sure that each array is one-dimensional\n",
    "print(richnessArray.shape)\n",
    "print(logOfMassArray.shape)\n",
    "\n",
    "# If an array is not one-dimensional, use the statement below:\n",
    "#(Insert name) = np.squeeze(Insert array name here)"
   ]
  },
  {
   "cell_type": "code",
   "execution_count": 99,
   "id": "7c5587ae-94e5-4557-b58c-291b01b5b182",
   "metadata": {},
   "outputs": [
    {
     "name": "stdout",
     "output_type": "stream",
     "text": [
      "Least-squares estimates:\n",
      "m = 0.002 ± 0.001\n",
      "b = 14.365 ± 0.068\n"
     ]
    },
    {
     "data": {
      "image/png": "[encoded data removed]",
      "text/plain": [
       "<Figure size 432x288 with 1 Axes>"
      ]
     },
     "metadata": {
      "needs_background": "light"
     },
     "output_type": "display_data"
    }
   ],
   "source": [
    "# From the emcee tutorial website\n",
    "# How to calculate the values of yerr??\n",
    "A = np.vander(x, 2)\n",
    "C = np.diag(yerr * yerr)\n",
    "ATA = np.dot(A.T, A / (yerr**2)[:, None])\n",
    "cov = np.linalg.inv(ATA)\n",
    "w = np.linalg.solve(ATA, np.dot(A.T, y / yerr**2))\n",
    "print(\"Least-squares estimates:\")\n",
    "print(\"m = {0:.3f} ± {1:.3f}\".format(w[0], np.sqrt(cov[0, 0])))\n",
    "print(\"b = {0:.3f} ± {1:.3f}\".format(w[1], np.sqrt(cov[1, 1])))\n",
    "\n",
    "# Part of the made-up data in the emcee example\n",
    "x0 = np.linspace(0, 10, 500)\n",
    "# Requires these values to be stated???\n",
    "# Included temp values below\n",
    "m_true = 0.002\n",
    "b_true = 14.3\n",
    "f_true = 1\n",
    "\n",
    "\n",
    "plt.errorbar(x, y, yerr=yerr, fmt=\".k\", capsize=0)\n",
    "plt.plot(x0, m_true * x0 + b_true, \"k\", alpha=0.3, lw=3, label=\"truth\")\n",
    "plt.plot(x0, np.dot(np.vander(x0, 2), w), \"--k\", label=\"LS\")\n",
    "plt.legend(fontsize=14)\n",
    "plt.xlim(0, 10)\n",
    "plt.xlabel(\"Value of Richness (λ)\")\n",
    "plt.ylabel(\"Value of Log M500\");"
   ]
  },
  {
   "cell_type": "code",
   "execution_count": 100,
   "id": "b7d0958b-7652-44f1-9691-daf704f4317c",
   "metadata": {},
   "outputs": [
    {
     "data": {
      "text/plain": [
       "Index(['SPT_ID', 'RA', 'DEC', 'FIELD', 'XI', 'THETA_CORE', 'REDSHIFT',\n",
       "       'REDSHIFT_UNC', 'SPECZ', 'REDSHIFT_SOURCE', 'RM_PROB', 'CL_NOTES',\n",
       "       'M500', 'M500_UERR', 'M500_LERR', 'LAMBDA_CHISQ', 'LAMBDA_CHISQ_E',\n",
       "       'RADIO_CONTAM', 'STRONG_LENS', 'IMAGE_SOURCE', 'SPECZ_REF',\n",
       "       'STRONG_LENS_REF', 'PHOTOMETRIC_ZREF', 'log_M500'],\n",
       "      dtype='object')"
      ]
     },
     "execution_count": 100,
     "metadata": {},
     "output_type": "execute_result"
    }
   ],
   "source": [
    "df.columns"
   ]
  },
  {
   "cell_type": "code",
   "execution_count": 101,
   "id": "dcaf6aad-5241-443e-a3a0-0ad8ea485498",
   "metadata": {},
   "outputs": [
    {
     "data": {
      "text/plain": [
       "1      0.887\n",
       "2      1.005\n",
       "7      1.077\n",
       "10     1.103\n",
       "11     0.984\n",
       "       ...  \n",
       "428    0.897\n",
       "429    0.944\n",
       "430    0.815\n",
       "431    0.798\n",
       "432    0.888\n",
       "Name: M500_LERR, Length: 196, dtype: float32"
      ]
     },
     "execution_count": 101,
     "metadata": {},
     "output_type": "execute_result"
    }
   ],
   "source": [
    "# Data set that displays the error of the log M500?? (LEER?)\n",
    "df[\"M500_LERR\"]"
   ]
  },
  {
   "cell_type": "code",
   "execution_count": 102,
   "id": "478d123e-8e94-49e8-8261-4f2a15190df0",
   "metadata": {},
   "outputs": [
    {
     "name": "stdout",
     "output_type": "stream",
     "text": [
      "Least-squares estimates:\n",
      "m = 0.002 ± 0.002\n",
      "b = 14.362 ± 0.152\n"
     ]
    },
    {
     "data": {
      "image/png": "[encoded data removed]",
      "text/plain": [
       "<Figure size 432x288 with 1 Axes>"
      ]
     },
     "metadata": {
      "needs_background": "light"
     },
     "output_type": "display_data"
    }
   ],
   "source": [
    "# From the emcee tutorial website\n",
    "\n",
    "yerr = df[\"M500_LERR\"]\n",
    "\n",
    "# Changing the type from tuple to an array\n",
    "yerr = np.array(yerr)\n",
    "\n",
    "A = np.vander(x, 2)\n",
    "C = np.diag(yerr * yerr)\n",
    "ATA = np.dot(A.T, A / (yerr**2)[:, None])\n",
    "cov = np.linalg.inv(ATA)\n",
    "w = np.linalg.solve(ATA, np.dot(A.T, y / yerr**2))\n",
    "print(\"Least-squares estimates:\")\n",
    "print(\"m = {0:.3f} ± {1:.3f}\".format(w[0], np.sqrt(cov[0, 0])))\n",
    "print(\"b = {0:.3f} ± {1:.3f}\".format(w[1], np.sqrt(cov[1, 1])))\n",
    "\n",
    "# Part of the made-up data in the emcee example\n",
    "x0 = np.linspace(0, 10, 500)\n",
    "\n",
    "# Requires these values to be stated???\n",
    "# Included temp values below\n",
    "m_true = 0.002\n",
    "b_true = 14.3\n",
    "f_true = 1\n",
    "\n",
    "\n",
    "plt.errorbar(x, y, yerr=yerr, fmt=\".k\", capsize=0)\n",
    "plt.plot(x0, m_true * x0 + b_true, \"k\", alpha=0.3, lw=3, label=\"truth\")\n",
    "plt.plot(x0, np.dot(np.vander(x0, 2), w), \"--k\", label=\"LS\")\n",
    "plt.legend(fontsize=14)\n",
    "plt.xlim(0, 10)\n",
    "plt.xlabel(\"Value of Richness (λ)\")\n",
    "plt.ylabel(\"Value of Log M500\");"
   ]
  },
  {
   "cell_type": "code",
   "execution_count": 104,
   "id": "5d590a3f-121e-43c3-8dde-0f64d05eb768",
   "metadata": {},
   "outputs": [
    {
     "data": {
      "image/png": "[encoded data removed]",
      "text/plain": [
       "<Figure size 432x288 with 1 Axes>"
      ]
     },
     "metadata": {
      "needs_background": "light"
     },
     "output_type": "display_data"
    }
   ],
   "source": [
    "# From the \"Practical MCMC in Python\" website\n",
    "\n",
    "from matplotlib import rcParams\n",
    "rcParams[\"savefig.dpi\"] = 100  # This makes all the plots a little bigger.\n",
    "\n",
    "# Plot the data with error bars.\n",
    "plt.errorbar(richnessArray, logOfMassArray, yerr=yerr, fmt=\".k\", capsize=0)\n",
    "plt.xlim(0, 5);\n",
    "\n",
    "A = np.vander(x, 2)  # Take a look at the documentation to see what this function does!\n",
    "ATA = np.dot(A.T, A / yerr[:, None]**2)\n",
    "w = np.linalg.solve(ATA, np.dot(A.T, y / yerr**2))\n",
    "V = np.linalg.inv(ATA)\n",
    "\n",
    "plt.errorbar(x, y, yerr=yerr, fmt=\".k\", capsize=0)\n",
    "for m, b in np.random.multivariate_normal(w, V, size=50):\n",
    "    plt.plot(x, m*x + b, \"g\", alpha=0.1)\n",
    "plt.xlim(0, 5);\n",
    "\n",
    "# Not sure why this model is not rendering"
   ]
  },
  {
   "cell_type": "code",
   "execution_count": null,
   "id": "6d796c60-75eb-4979-a715-a9210bafe2b9",
   "metadata": {},
   "outputs": [],
   "source": []
  }
 ],
 "metadata": {
  "kernelspec": {
   "display_name": "Python 3",
   "language": "python",
   "name": "python3"
  },
  "language_info": {
   "codemirror_mode": {
    "name": "ipython",
    "version": 3
   },
   "file_extension": ".py",
   "mimetype": "text/x-python",
   "name": "python",
   "nbconvert_exporter": "python",
   "pygments_lexer": "ipython3",
   "version": "3.8.8"
  }
 },
 "nbformat": 4,
 "nbformat_minor": 5
}
